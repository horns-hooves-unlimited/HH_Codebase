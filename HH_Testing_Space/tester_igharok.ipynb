{
 "cells": [
  {
   "cell_type": "code",
   "execution_count": null,
   "metadata": {},
   "outputs": [],
   "source": [
    "#### THIS NOTEBOOK TESTS SOME FUNCTIONALITY"
   ]
  },
  {
   "cell_type": "code",
   "execution_count": null,
   "metadata": {},
   "outputs": [],
   "source": [
    "# Importing standard modules and date-special modules\n",
    "import pandas as pd\n",
    "import numpy as np\n",
    "from math import *"
   ]
  },
  {
   "cell_type": "code",
   "execution_count": null,
   "metadata": {},
   "outputs": [],
   "source": [
    "import knoema\n",
    "knoema.get('WBWDI2019Jan', frequency='A', Country='COD;COG;RWA;GHA;DZA;ZAF;LBY;EGY;GIN;LSO;AGO;CAF;SOM;BFA;GAB;TGO;SLE;LBR;DJI;ERI;KEN;GMB;COM;CPV;CIV;CMR;ETH;BDI;MLI;TCD;BEN;SWZ;GNQ;ZWE;SDN;MWI;MOZ;NER;GNB;TZA;SEN;UGA;ZMB;SSD;MDG;MUS;SYC;TUN;BWA;NGA;MAR;STP;MRT;NAM;KAZ;JPN;MNG;PAK;ARM;BGD;LKA;AFG;BTN;TJK;IND;TKM;GEO;KGZ;UZB;AZE;PRK;MDV;KOR;NPL;CHN;ATG;BRB;DMA;GRD;KNA;LCA;VCT;CUB;GTM;DOM;JAM;CRI;PAN;HND;NIC;BLZ;SLV;TTO;BHS;HTI;PRI;AND;CHE;FRA;LUX;MCO;MLT;SMR;BLR;DEU;ITA;ESP;NLD;POL;BEL;BGR;HUN;SWE;CZE;DNK;PRT;ROU;AUT;GRC;SVK;EST;IRL;LTU;LVA;NOR;RUS;HRV;UKR;MDA;MKD;ALB;MNE;BIH;SRB;ISL;FIN;GBR;SVN;LIE;CAN;MEX;USA;FSM;KIR;MHL;NRU;PLW;TON;TUV;VUT;WSM;AUS;NZL;PNG;SLB;FJI;HKG;MAC;PHL;MYS;THA;SGP;VNM;LAO;MMR;TLS;BRN;KHM;IDN;VEN;BRA;ARG;CHL;COL;PER;ECU;PRY;URY;BOL;GUY;SUR;CYP;TUR;BHR;YEM;KWT;OMN;QAT;IRQ;IRN;ARE;ISR;SYR;JOR;LBN;PSE;SAU', Series='CM.MKT.LCAP.CD')\n",
    "#knoema.get('WBPEP2018Oct', timerange='1960-2018', frequency='A', Country='BY', Series='SP.POP.TOTL')\n",
    "#knoema.get('BLSFI-DACCS', **{'timerange': '2004-2009',\n",
    "#\t'frequency': 'A',\n",
    "#\t'Category': '00X;ADX;AFX;EKX;ENX;GMX;NBX;NEX;O30;O37;PHX;RIX;WAX;XBX;XCX;YAX;50X;ADW;PBS;SP1',\n",
    "#\t'Data Type': '8',\n",
    "#\t'Area': 'S06',\n",
    "#\t'Case': 'T',\n",
    "#\t'Source': '645XXX'})\n",
    "#knoema.get('ROCD201808', frequency='Q', \n",
    "#           Country='AF;AL;DZ;AO', \n",
    "#           Indicator='KN.CIS.1')"
   ]
  }
 ],
 "metadata": {
  "kernelspec": {
   "display_name": "Python 3",
   "language": "python",
   "name": "python3"
  },
  "language_info": {
   "codemirror_mode": {
    "name": "ipython",
    "version": 3
   },
   "file_extension": ".py",
   "mimetype": "text/x-python",
   "name": "python",
   "nbconvert_exporter": "python",
   "pygments_lexer": "ipython3",
   "version": "3.7.3"
  }
 },
 "nbformat": 4,
 "nbformat_minor": 2
}
