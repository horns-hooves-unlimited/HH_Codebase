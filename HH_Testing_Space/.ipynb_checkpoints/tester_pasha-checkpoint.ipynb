{
 "cells": [
  {
   "cell_type": "code",
   "execution_count": 1,
   "metadata": {},
   "outputs": [],
   "source": [
    "#### THIS NOTEBOOK TESTS SOME FUNCTIONALITY"
   ]
  },
  {
   "cell_type": "code",
   "execution_count": 1,
   "metadata": {},
   "outputs": [],
   "source": [
    "# Expanding visibility zone for Python engine to make HH Modules seen\n",
    "import sys \n",
    "sys.path.append('..')\n",
    "sys.path.append('../..')\n",
    "\n",
    "# Importing standard modules and date-special modules\n",
    "import numpy as np\n",
    "import pandas as pd"
   ]
  },
  {
   "cell_type": "code",
   "execution_count": 2,
   "metadata": {},
   "outputs": [],
   "source": [
    "# Importing functions from hh_dates HH Module\n",
    "from HH_Modules.hh_dates import hh_create_bus_dates\n",
    "from HH_Modules.hh_dates import hh_drop_nyse_closures\n",
    "from HH_Modules.hh_ts import hh_missing_data_manager\n",
    "from HH_Modules.hh_ts import hh_rolling_percentile\n",
    "from HH_Modules.hh_ts import hh_rolling_simple_MA\n",
    "from HH_Modules.hh_ts import hh_rolling_z_score\n",
    "from HH_Modules.hh_mri import hh_build_mri_from_model\n",
    "from HH_Modules.hh_mri import hh_standartize_mri_data\n",
    "from HH_Modules.hh_mri import hh_aggregate_mri_data\n",
    "from HH_Modules.hh_mri import hh_plot_mri_data"
   ]
  },
  {
   "cell_type": "code",
   "execution_count": 3,
   "metadata": {},
   "outputs": [
    {
     "data": {
      "text/plain": [
       "\u001b[1;31mSignature:\u001b[0m \u001b[0mhh_plot_mri_data\u001b[0m\u001b[1;33m(\u001b[0m\u001b[0mdf_model_asset\u001b[0m\u001b[1;33m,\u001b[0m \u001b[0mdf_model_MRI\u001b[0m\u001b[1;33m,\u001b[0m \u001b[0masset_hdf_path\u001b[0m\u001b[1;33m,\u001b[0m \u001b[0mgroup_hdf_path\u001b[0m\u001b[1;33m,\u001b[0m \u001b[0mMRI_hdf_path\u001b[0m\u001b[1;33m,\u001b[0m \u001b[0masset_selected_key\u001b[0m\u001b[1;33m,\u001b[0m \u001b[0masset_z_score_key\u001b[0m\u001b[1;33m,\u001b[0m \u001b[0mgroup_diag_key\u001b[0m\u001b[1;33m,\u001b[0m \u001b[0mgroup_perc_key\u001b[0m\u001b[1;33m,\u001b[0m \u001b[0mmri_diag_key\u001b[0m\u001b[1;33m,\u001b[0m \u001b[0mmri_raw_key\u001b[0m\u001b[1;33m,\u001b[0m \u001b[0mmri_ma_key\u001b[0m\u001b[1;33m,\u001b[0m \u001b[0mfigure_size\u001b[0m\u001b[1;33m,\u001b[0m \u001b[0mfigure_hspace\u001b[0m\u001b[1;33m,\u001b[0m \u001b[0mmin_date\u001b[0m\u001b[1;33m,\u001b[0m \u001b[0mmax_date\u001b[0m\u001b[1;33m)\u001b[0m\u001b[1;33m\u001b[0m\u001b[0m\n",
       "\u001b[1;31mDocstring:\u001b[0m\n",
       "Version 0.01 2019-04-04\n",
       "\n",
       "FUNCTIONALITY:\n",
       "  1) Drawing plot for all groups\n",
       "  2) Drawing plot for MRI\n",
       "OUTPUT:\n",
       "  dict_fig_MRI (dictionary) - named array, containing group figures and MRI figure\n",
       "INPUT:\n",
       "  df_model_asset (pd.DataFrame) - asset list and weights descripted at model    \n",
       "  df_model_MRI (pd.DataFrame) - group list and weights descripted at model    \n",
       "  asset_hdf_path (string) - path to hdf file with asset level data\n",
       "  group_hdf_path (string) - path to hdf file with group level data\n",
       "  MRI_hdf_path (string) - path to hdf file with MRI level data     \n",
       "  asset_selected_key (string) - object key to selected mungled raw source data\n",
       "  asset_z_score_key (string) - object key to standartized winsorized z-scored selected mungled raw source data\n",
       "  group_diag_key (string) - object key to diagonales of group z-matrices   \n",
       "  group_perc_key (string) - object key to percentiled vectors of group z-matrices\n",
       "  mri_diag_key (string) - object key to diagonale of group MRI z-matrix\n",
       "  mri_raw_key (string) - object key to percentiled vector of group MRI z-matrix\n",
       "  mri_ma_key (string) - object key to moving average of percentiled vector of group MRI z-matrix\n",
       "  figure_size (tuple) - figure shapes\n",
       "  figure_hspace (float) - height space between plots within the figure\n",
       "  min_date (datetime) - start date for plotting\n",
       "  max_date (datetime) - end date for plotting    \n",
       "\u001b[1;31mFile:\u001b[0m      d:\\_job\\github repository\\hh_codebase\\hh_modules\\hh_mri.py\n",
       "\u001b[1;31mType:\u001b[0m      function\n"
      ]
     },
     "metadata": {},
     "output_type": "display_data"
    }
   ],
   "source": [
    "hh_plot_mri_data?"
   ]
  },
  {
   "cell_type": "code",
   "execution_count": null,
   "metadata": {},
   "outputs": [],
   "source": []
  }
 ],
 "metadata": {
  "kernelspec": {
   "display_name": "Python 3",
   "language": "python",
   "name": "python3"
  },
  "language_info": {
   "codemirror_mode": {
    "name": "ipython",
    "version": 3
   },
   "file_extension": ".py",
   "mimetype": "text/x-python",
   "name": "python",
   "nbconvert_exporter": "python",
   "pygments_lexer": "ipython3",
   "version": "3.7.0"
  }
 },
 "nbformat": 4,
 "nbformat_minor": 2
}
