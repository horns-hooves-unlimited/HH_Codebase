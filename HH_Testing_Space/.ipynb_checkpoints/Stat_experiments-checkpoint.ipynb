{
 "cells": [
  {
   "cell_type": "code",
   "execution_count": 1,
   "metadata": {},
   "outputs": [],
   "source": [
    "#### THIS NOTEBOOK TESTS SOME FUNCTIONALITY"
   ]
  },
  {
   "cell_type": "code",
   "execution_count": null,
   "metadata": {},
   "outputs": [],
   "source": [
    "### PCA TESTING"
   ]
  },
  {
   "cell_type": "code",
   "execution_count": 2,
   "metadata": {},
   "outputs": [],
   "source": [
    "# Expanding visibility zone for Python engine to make HH Modules seen\n",
    "import sys \n",
    "sys.path.append('../..')\n",
    "\n",
    "# Importing standard modules and date-special modules\n",
    "import numpy as np\n",
    "from sklearn.decomposition import PCA"
   ]
  },
  {
   "cell_type": "code",
   "execution_count": 28,
   "metadata": {},
   "outputs": [
    {
     "name": "stdout",
     "output_type": "stream",
     "text": [
      "[[ 0.70710678 -0.70710678]]\n",
      "[6.]\n",
      "[0.75]\n",
      "2.0\n",
      "[3.46410162]\n"
     ]
    }
   ],
   "source": [
    "# Quantity of source basis parameters = 2 (m)\n",
    "# Quantity of measurements = 3 (n)\n",
    "x = np.array([2, 4, 0]) # m = 1\n",
    "y = np.array([5, 1, 3]) # m = 2\n",
    "z = np.column_stack((x, y)) # Table of observations (m * n)\n",
    "\n",
    "# n_components - Quantity of basis PCA vectors we need (n_c)\n",
    "# Initializing of PCA module\n",
    "pca = PCA(n_components = 1) # n_c\n",
    "# PCA performing\n",
    "pca.fit(z)\n",
    "\n",
    "# Matrix of coefficients (n_c * m) for source basis\n",
    "print(pca.components_)\n",
    "\n",
    "# The amount of variance explained by each of the pca\n",
    "print(pca.explained_variance_)\n",
    "print(pca.explained_variance_ratio_)\n",
    "print(pca.noise_variance_) \n",
    "\n",
    "#The singular values corresponding to each of the selected components.\n",
    "print(pca.singular_values_)"
   ]
  },
  {
   "cell_type": "code",
   "execution_count": 33,
   "metadata": {},
   "outputs": [
    {
     "name": "stdout",
     "output_type": "stream",
     "text": [
      "[[0. 1.]]\n",
      "[4.]\n",
      "[1.]\n",
      "0.0\n",
      "[2.82842712]\n"
     ]
    }
   ],
   "source": [
    "# Quantity of source basis parameters = 2 (m)\n",
    "# Quantity of measurements = 3 (n)\n",
    "x = np.array([0, 0, 0]) # m = 1\n",
    "y = np.array([5, 1, 3]) # m = 2\n",
    "z = np.column_stack((x, y)) # Table of observations (m * n)\n",
    "\n",
    "# n_components - Quantity of basis PCA vectors we need (n_c)\n",
    "# Initializing of PCA module\n",
    "pca = PCA(n_components = 1) # n_c\n",
    "# PCA performing\n",
    "pca.fit(z)\n",
    "\n",
    "# Matrix of coefficients (n_c * m) for source basis\n",
    "print(pca.components_)\n",
    "\n",
    "# The amount of variance explained by each of the pca\n",
    "print(pca.explained_variance_)\n",
    "print(pca.explained_variance_ratio_)\n",
    "print(pca.noise_variance_) \n",
    "\n",
    "#The singular values corresponding to each of the selected components.\n",
    "print(pca.singular_values_)"
   ]
  },
  {
   "cell_type": "code",
   "execution_count": 36,
   "metadata": {},
   "outputs": [
    {
     "name": "stdout",
     "output_type": "stream",
     "text": [
      "[[0.70710678 0.70710678]]\n",
      "[8.]\n",
      "[1.]\n",
      "6.287222435018161e-32\n",
      "[4.]\n"
     ]
    }
   ],
   "source": [
    "# Quantity of source basis parameters = 2 (m)\n",
    "# Quantity of measurements = 3 (n)\n",
    "x = np.array([2, 4, 0]) # m = 1\n",
    "y = np.array([2, 4, 0]) # m = 2\n",
    "z = np.column_stack((x, y)) # Table of observations (m * n)\n",
    "\n",
    "# n_components - Quantity of basis PCA vectors we need (n_c)\n",
    "# Initializing of PCA module\n",
    "pca = PCA(n_components = 1) # n_c\n",
    "# PCA performing\n",
    "pca.fit(z)\n",
    "\n",
    "# Matrix of coefficients (n_c * m) for source basis\n",
    "print(pca.components_)\n",
    "\n",
    "# The amount of variance explained by each of the pca\n",
    "print(pca.explained_variance_)\n",
    "print(pca.explained_variance_ratio_)\n",
    "print(pca.noise_variance_) \n",
    "\n",
    "#The singular values corresponding to each of the selected components.\n",
    "print(pca.singular_values_)"
   ]
  },
  {
   "cell_type": "code",
   "execution_count": 37,
   "metadata": {},
   "outputs": [
    {
     "name": "stdout",
     "output_type": "stream",
     "text": [
      "[[0.70710678 0.70710678]]\n",
      "[6.]\n",
      "[0.75]\n",
      "2.0\n",
      "[3.46410162]\n"
     ]
    }
   ],
   "source": [
    "# Quantity of source basis parameters = 2 (m)\n",
    "# Quantity of measurements = 3 (n)\n",
    "x = np.array([2, 4, 0]) # m = 1\n",
    "y = np.array([0, 4, 2]) # m = 2\n",
    "z = np.column_stack((x, y)) # Table of observations (m * n)\n",
    "\n",
    "# n_components - Quantity of basis PCA vectors we need (n_c)\n",
    "# Initializing of PCA module\n",
    "pca = PCA(n_components = 1) # n_c\n",
    "# PCA performing\n",
    "pca.fit(z)\n",
    "\n",
    "# Matrix of coefficients (n_c * m) for source basis\n",
    "print(pca.components_)\n",
    "\n",
    "# The amount of variance explained by each of the pca\n",
    "print(pca.explained_variance_)\n",
    "print(pca.explained_variance_ratio_)\n",
    "print(pca.noise_variance_) \n",
    "\n",
    "#The singular values corresponding to each of the selected components.\n",
    "print(pca.singular_values_)"
   ]
  },
  {
   "cell_type": "code",
   "execution_count": 1,
   "metadata": {},
   "outputs": [],
   "source": [
    "### SPEARMAN RANK CORRELATION AND PEARSON CORRELATION TESTING"
   ]
  },
  {
   "cell_type": "code",
   "execution_count": 1,
   "metadata": {},
   "outputs": [],
   "source": [
    "# Importing standard modules and date-special modules\n",
    "import numpy as np\n",
    "from scipy import stats as ss"
   ]
  },
  {
   "cell_type": "code",
   "execution_count": 17,
   "metadata": {},
   "outputs": [],
   "source": [
    "x = np.array([28, 30, 36, 40, 30, 46, 56, 54, 60, 56, 60, 68, 70, 76])\n",
    "y_arr = np.array([[21, 25, 29, 31, 32, 34, 35, 38, 39, 41, 42, 44, 46, 50], [140, 130, 120, 110, 100, 90, 80, 70, 60, 50, 40, 30, 20, 10]])\n",
    "y_vec = np.array([21, 25, 29, 31, 32, 34, 35, 38, 39, 41, 42, 44, 46, 50])"
   ]
  },
  {
   "cell_type": "code",
   "execution_count": 18,
   "metadata": {},
   "outputs": [
    {
     "name": "stdout",
     "output_type": "stream",
     "text": [
      "[[ 1.          0.96362159 -0.96362159]\n",
      " [ 0.96362159  1.         -1.        ]\n",
      " [-0.96362159 -1.          1.        ]]\n",
      "[[0.0000000e+00 3.0935388e-08 3.0935388e-08]\n",
      " [3.0935388e-08 0.0000000e+00 0.0000000e+00]\n",
      " [3.0935388e-08 0.0000000e+00 0.0000000e+00]]\n"
     ]
    }
   ],
   "source": [
    "print(ss.spearmanr(x, y_arr.T).correlation)\n",
    "print(ss.spearmanr(x, y_arr.T).pvalue)"
   ]
  },
  {
   "cell_type": "code",
   "execution_count": 20,
   "metadata": {},
   "outputs": [
    {
     "name": "stdout",
     "output_type": "stream",
     "text": [
      "0.9636215886836419\n",
      "3.0935387972122e-08\n"
     ]
    }
   ],
   "source": [
    "print(ss.spearmanr(x, y_vec).correlation)\n",
    "print(ss.spearmanr(x, y_vec).pvalue)"
   ]
  },
  {
   "cell_type": "code",
   "execution_count": 21,
   "metadata": {},
   "outputs": [
    {
     "name": "stdout",
     "output_type": "stream",
     "text": [
      "0.9534367845198496\n",
      "1.3305035799023627e-07\n"
     ]
    }
   ],
   "source": [
    "print(ss.pearsonr(x, y_vec)[0])\n",
    "print(ss.pearsonr(x, y_vec)[1])"
   ]
  },
  {
   "cell_type": "code",
   "execution_count": null,
   "metadata": {},
   "outputs": [],
   "source": []
  }
 ],
 "metadata": {
  "kernelspec": {
   "display_name": "Python 3",
   "language": "python",
   "name": "python3"
  },
  "language_info": {
   "codemirror_mode": {
    "name": "ipython",
    "version": 3
   },
   "file_extension": ".py",
   "mimetype": "text/x-python",
   "name": "python",
   "nbconvert_exporter": "python",
   "pygments_lexer": "ipython3",
   "version": "3.7.3"
  }
 },
 "nbformat": 4,
 "nbformat_minor": 2
}
