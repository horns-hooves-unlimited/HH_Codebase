{
 "cells": [
  {
   "cell_type": "code",
   "execution_count": 1,
   "metadata": {},
   "outputs": [],
   "source": [
    "### RUN EVERY TIME: MONEY BACK VALUES COMPARING"
   ]
  },
  {
   "cell_type": "code",
   "execution_count": 2,
   "metadata": {},
   "outputs": [],
   "source": [
    "### RUN EVERY TIME: INITIALIZATION\n",
    "\n",
    "import pandas as pd\n",
    "import numpy as np\n",
    "from datetime import date, datetime"
   ]
  },
  {
   "cell_type": "code",
   "execution_count": 3,
   "metadata": {},
   "outputs": [],
   "source": [
    "### RUN EVERY TIME: GENERAL DATA PREPARATION\n",
    "\n",
    "### Constants:\n",
    "All = slice(None)\n",
    "### Paths:\n",
    "str_mtb_mb_list_source = 'Test_Files/mtb_mb.html'\n",
    "str_alpha_valued_mb_reg_source = 'Test_Files/alpha_valued_mb_reg.xlsx'\n",
    "str_alpha_zero_mb_reg_source = 'Test_Files/alpha_zero_mb_reg.xlsx'"
   ]
  },
  {
   "cell_type": "code",
   "execution_count": 4,
   "metadata": {},
   "outputs": [],
   "source": [
    "### RUN EVERY TIME: MTBANK MONEY BACK LIST EXPORT\n",
    "\n",
    "df_mtb_raw = pd.read_html(str_mtb_mb_list_source, match = 'MCC', skiprows = list(range(18)), header = 1, parse_dates = True)[0][: -1]\n",
    "df_mtb_mb = df_mtb_raw[df_mtb_raw.columns[[0, 1, 3, 4, 7, 9, 10]]]\n",
    "df_mtb_mb.columns = ['Transaction_Date', 'Account_Date', 'Retail_Name', 'MCC', 'Purchase_Sum', 'MTB_MB_Percent', 'MTB_MB_Sum']\n",
    "df_mtb_mb = df_mtb_mb.astype({'Transaction_Date': 'datetime64[ns]',\n",
    "                              'Account_Date': 'datetime64[ns]',\n",
    "                              'Retail_Name': 'str',\n",
    "                              'MCC': 'int',\n",
    "                              'Purchase_Sum': 'float',\n",
    "                              'MTB_MB_Percent': 'float',\n",
    "                              'MTB_MB_Sum': 'float',\n",
    "                             })\n",
    "df_mtb_mb['Purchase_Sum'] = df_mtb_mb['Purchase_Sum'] / 100\n",
    "df_mtb_mb['MTB_MB_Sum'] = df_mtb_mb['MTB_MB_Sum'] / 100\n",
    "df_mtb_mb.loc[df_mtb_mb['MTB_MB_Percent'] == 5, 'MTB_MB_Percent'] = 0.5\n",
    "#df_mtb_mb"
   ]
  },
  {
   "cell_type": "code",
   "execution_count": 5,
   "metadata": {},
   "outputs": [],
   "source": [
    "### RUN EVERY TIME: ALPA BANK MONEY BACK ZERO MCC REGISTRY\n",
    "\n",
    "df_alpha_zero_mb_reg = pd.read_excel(str_alpha_zero_mb_reg_source, sheet_name = 0)\n",
    "df_alpha_zero_mb_reg.columns = ['MCC_lists', 'MCC_Description']\n",
    "df_alpha_zero_mb_reg = df_alpha_zero_mb_reg.astype({'MCC_lists': 'str',\n",
    "                                                    'MCC_Description': 'str',\n",
    "                                                   })\n",
    "df_alpha_zero_mb_reg['MCC_lists'] = (df_alpha_zero_mb_reg['MCC_lists'] + ', ').replace({r',\\n': ', '}, regex = True)\n",
    "df_alpha_zero_mb_reg['MCC_Description'] = df_alpha_zero_mb_reg['MCC_Description'].replace({r'\\n': ' ', '  ': ' '}, regex = True)\n",
    "df_alpha_zero_mb_reg = \\\n",
    "        pd.concat([df_alpha_zero_mb_reg['MCC_Description'], df_alpha_zero_mb_reg['MCC_lists'].str.split(', ', expand = True).replace({'': np.NaN, None: np.NaN})], axis = 1)\n",
    "ser_alpha_zero_mb_reg = df_alpha_zero_mb_reg.set_index('MCC_Description').stack().reset_index(1, drop = True).astype('int')\n",
    "ser_alpha_zero_mb_reg.name = 'MCC'\n",
    "ser_alpha_zero_mb_reg = ser_alpha_zero_mb_reg.to_frame().reset_index().set_index('MCC').squeeze()\n",
    "#ser_alpha_zero_mb_reg"
   ]
  },
  {
   "cell_type": "code",
   "execution_count": 6,
   "metadata": {},
   "outputs": [],
   "source": [
    "### RUN EVERY TIME: ALPA BANK MONEY BACK VALUED MCC CATEGORIES REGISTRY\n",
    "\n",
    "df_alpha_valued_mb_reg = pd.read_excel(str_alpha_valued_mb_reg_source, sheet_name = 0)\n",
    "df_alpha_valued_mb_reg.columns = ['Category_Name', 'MCC_lists', 'Category_Description']\n",
    "df_alpha_valued_mb_reg = df_alpha_valued_mb_reg.astype({'Category_Name': 'str',\n",
    "                                                        'MCC_lists': 'str',\n",
    "                                                        'Category_Description': 'str',                                                        \n",
    "                                                       })\n",
    "df_alpha_valued_mb_reg['MCC_lists'] = df_alpha_valued_mb_reg['MCC_lists'].replace({r',\\n': ', ', \n",
    "                                                                                   '5531 - 5533': '5531, 5532, 5533', \n",
    "                                                                                   '7511- 7513': '7511, 7512, 7513', \n",
    "                                                                                   '5712-5714': '5712, 5713, 5714',\n",
    "                                                                                   '5044-5046': '5044, 5045, 5046',\n",
    "                                                                                   '5697 - 5699': '5697, 5698, 5699',\n",
    "                                                                                   '3000 - 4000': '4000',\n",
    "                                                                                   '5812-5816': '5812, 5813, 5814, 5815, 5816',\n",
    "                                                                                   '8041 - 8044': '8041, 8042, 8043, 8044'\n",
    "                                                                                  }, regex = True)\n",
    "df_alpha_valued_mb_reg = \\\n",
    "        pd.concat([df_alpha_valued_mb_reg['Category_Name'], df_alpha_valued_mb_reg['MCC_lists'].str.split(', ', expand = True).replace({None: np.NaN})], axis = 1)\n",
    "ser_alpha_valued_mb_reg = df_alpha_valued_mb_reg.set_index('Category_Name').stack().reset_index(1, drop = True).astype('int')\n",
    "ser_alpha_valued_mb_reg.name = 'MCC'\n",
    "ser_alpha_valued_mb_reg = ser_alpha_valued_mb_reg.to_frame().reset_index().set_index('MCC').squeeze()\n",
    "ser_alpha_valued_mb_reg.name = 'Category'\n",
    "#ser_alpha_valued_mb_reg"
   ]
  },
  {
   "cell_type": "code",
   "execution_count": 25,
   "metadata": {},
   "outputs": [
    {
     "name": "stdout",
     "output_type": "stream",
     "text": [
      "MTB_MB_Sum      16.65\n",
      "Alpha_MB_Sum    14.41\n",
      "dtype: float64\n"
     ]
    },
    {
     "data": {
      "text/html": [
       "<div>\n",
       "<style scoped>\n",
       "    .dataframe tbody tr th:only-of-type {\n",
       "        vertical-align: middle;\n",
       "    }\n",
       "\n",
       "    .dataframe tbody tr th {\n",
       "        vertical-align: top;\n",
       "    }\n",
       "\n",
       "    .dataframe thead th {\n",
       "        text-align: right;\n",
       "    }\n",
       "</style>\n",
       "<table border=\"1\" class=\"dataframe\">\n",
       "  <thead>\n",
       "    <tr style=\"text-align: right;\">\n",
       "      <th></th>\n",
       "      <th>MTB_MB_Sum</th>\n",
       "      <th>Alpha_MB_Sum</th>\n",
       "    </tr>\n",
       "    <tr>\n",
       "      <th>Alpha_Description</th>\n",
       "      <th></th>\n",
       "      <th></th>\n",
       "    </tr>\n",
       "  </thead>\n",
       "  <tbody>\n",
       "    <tr>\n",
       "      <th>Автомобиль</th>\n",
       "      <td>0.56</td>\n",
       "      <td>0.55</td>\n",
       "    </tr>\n",
       "    <tr>\n",
       "      <th>Не обнаружено</th>\n",
       "      <td>0.25</td>\n",
       "      <td>0.00</td>\n",
       "    </tr>\n",
       "    <tr>\n",
       "      <th>Покупки</th>\n",
       "      <td>2.85</td>\n",
       "      <td>2.85</td>\n",
       "    </tr>\n",
       "    <tr>\n",
       "      <th>Путешествия</th>\n",
       "      <td>0.24</td>\n",
       "      <td>0.24</td>\n",
       "    </tr>\n",
       "    <tr>\n",
       "      <th>Развлечения</th>\n",
       "      <td>1.45</td>\n",
       "      <td>1.45</td>\n",
       "    </tr>\n",
       "    <tr>\n",
       "      <th>Семья и личные расходы</th>\n",
       "      <td>7.29</td>\n",
       "      <td>7.29</td>\n",
       "    </tr>\n",
       "    <tr>\n",
       "      <th>Спорт</th>\n",
       "      <td>2.03</td>\n",
       "      <td>2.03</td>\n",
       "    </tr>\n",
       "    <tr>\n",
       "      <th>операции, связанные с покупкой продуктов питания</th>\n",
       "      <td>1.98</td>\n",
       "      <td>0.00</td>\n",
       "    </tr>\n",
       "  </tbody>\n",
       "</table>\n",
       "</div>"
      ],
      "text/plain": [
       "                                                  MTB_MB_Sum  Alpha_MB_Sum\n",
       "Alpha_Description                                                         \n",
       "Автомобиль                                              0.56          0.55\n",
       "Не обнаружено                                           0.25          0.00\n",
       "Покупки                                                 2.85          2.85\n",
       "Путешествия                                             0.24          0.24\n",
       "Развлечения                                             1.45          1.45\n",
       "Семья и личные расходы                                  7.29          7.29\n",
       "Спорт                                                   2.03          2.03\n",
       "операции, связанные с покупкой продуктов питания        1.98          0.00"
      ]
     },
     "execution_count": 25,
     "metadata": {},
     "output_type": "execute_result"
    }
   ],
   "source": [
    "###  RUN EVERY TIME: ALTERNATIVE VALUATION\n",
    "\n",
    "df_aplha_zero = ser_alpha_zero_mb_reg.to_frame()\n",
    "df_aplha_zero['Alpha_MB_Percent'] = 0.0\n",
    "df_aplha_zero.rename(columns = {'MCC_Description' : 'Alpha_Description'}, inplace = True)\n",
    "df_alpha_valued = ser_alpha_valued_mb_reg.to_frame()\n",
    "df_alpha_valued['Alpha_MB_Percent'] = 1.0\n",
    "df_alpha_valued.rename(columns = {'Category' : 'Alpha_Description'}, inplace = True)\n",
    "df_alpha_reg = pd.concat([df_aplha_zero, df_alpha_valued], axis = 0, sort = False)\n",
    "df_alpha_reg.loc[df_alpha_reg['Alpha_Description'] == 'Автомобиль', 'Alpha_MB_Percent'] = 1.0\n",
    "df_compare_mb = df_mtb_mb.join(df_alpha_reg, on = 'MCC', how = 'left').drop('Account_Date', axis = 1)\n",
    "df_compare_mb['Alpha_MB_Percent'] = df_compare_mb['Alpha_MB_Percent'].fillna(0)\n",
    "df_compare_mb['Alpha_Description'] = df_compare_mb['Alpha_Description'].fillna('Не обнаружено')\n",
    "df_compare_mb['Alpha_MB_Sum'] = (df_compare_mb['Purchase_Sum'] * df_compare_mb['Alpha_MB_Percent'] / 100).round(2)\n",
    "print(df_compare_mb[['MTB_MB_Sum', 'Alpha_MB_Sum']].sum())\n",
    "#df_compare_mb.to_excel('Test_Files/MB_Comparing_Results.xlsx', merge_cells = False)\n",
    "df_compare_mb.groupby('Alpha_Description').apply(lambda df_group: df_group[['MTB_MB_Sum', 'Alpha_MB_Sum']].sum())"
   ]
  },
  {
   "cell_type": "code",
   "execution_count": null,
   "metadata": {},
   "outputs": [],
   "source": []
  }
 ],
 "metadata": {
  "kernelspec": {
   "display_name": "Python 3",
   "language": "python",
   "name": "python3"
  },
  "language_info": {
   "codemirror_mode": {
    "name": "ipython",
    "version": 3
   },
   "file_extension": ".py",
   "mimetype": "text/x-python",
   "name": "python",
   "nbconvert_exporter": "python",
   "pygments_lexer": "ipython3",
   "version": "3.7.4"
  }
 },
 "nbformat": 4,
 "nbformat_minor": 2
}
