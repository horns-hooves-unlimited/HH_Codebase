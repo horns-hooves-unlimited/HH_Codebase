{
 "cells": [
  {
   "cell_type": "code",
   "execution_count": 1,
   "metadata": {},
   "outputs": [],
   "source": [
    "### ADDITIONAL POLITICAL DATA OBSERVATION"
   ]
  },
  {
   "cell_type": "code",
   "execution_count": 1,
   "metadata": {},
   "outputs": [],
   "source": [
    "### DEFINING EXTRACTION UNIVERSE DATA FROM GENERAL MS EXCEL SOURCE\n",
    "def get_market_membership_from_excel(path_msci):\n",
    "    ### Importing standard modules and date-special modules:\n",
    "    import numpy as np\n",
    "    import pandas as pd\n",
    "    ### Declaring local constants & variables: \n",
    "    tab_monthly = 'universe_joined'    \n",
    "    arr_markets_needed = ['DM', 'FM', 'EM']   \n",
    "    dict_markets = {50 : 'DM', 57 : 'EM', 504 : 'FM'}\n",
    "    no_slice = slice(None)\n",
    "    ### Extracting universe data:\n",
    "    df_universe = pd.read_excel(io = path_msci, sheet_name = tab_monthly, skiprows = [0, 2], header = 0, parse_dates = True, \n",
    "                                na_values = ['', '#N/A', '#N/A N/A', '#NA', '-1.#IND', '-1.#QNAN', '-NaN', '-nan', '1.#IND', \n",
    "                                             '1.#QNAN', 'N/A', 'NULL', 'NaN', 'n/a', 'nan', 'null'], keep_default_na = False)\n",
    "    df_universe = df_universe.loc[no_slice, ['dates', 'region', 'ctry']]\n",
    "    df_universe.columns = ['Date', 'Market', 'Country']\n",
    "    df_universe.set_index(['Date', 'Country'], inplace = True)\n",
    "    ser_universe = df_universe.squeeze()\n",
    "    ser_universe.sort_index(level = [0, 1], inplace = True)\n",
    "    ser_universe.replace(dict_markets, inplace = True)\n",
    "    ser_market_membership = ser_universe[ser_universe.isin(arr_markets_needed)]\n",
    "    \n",
    "    return ser_market_membership"
   ]
  },
  {
   "cell_type": "code",
   "execution_count": 2,
   "metadata": {},
   "outputs": [],
   "source": [
    "def get_observation_data(path_source, path_msci):\n",
    "    ### Importing standard modules and date-special modules:\n",
    "    import numpy as np\n",
    "    import pandas as pd\n",
    "    ### Loading data:\n",
    "    df_politics = pd.read_excel(path_source, index_col = [0, 5, 6], parse_dates = True, \n",
    "                                na_values = ['', '#N/A', '#N/A N/A', '#NA', '-1.#IND', '-1.#QNAN', '-NaN', '-nan', '1.#IND', \n",
    "                                             '1.#QNAN', 'N/A', 'NULL', 'NaN', 'n/a', 'nan', 'null'], keep_default_na = False)\n",
    "    ### Mungling table:\n",
    "    df_politics = df_politics.iloc[: , 12 : ].stack().to_frame()\n",
    "    df_politics.index.names = ['Country', 'Indicator', 'Group', 'Date_Q']\n",
    "    df_politics.reset_index('Date_Q', inplace = True)    \n",
    "    ### Date manipulating:\n",
    "    df_politics['Date'] = pd.to_datetime(df_politics['Date_Q']) + pd.offsets.BQuarterEnd()\n",
    "    df_politics.set_index('Date', append = True, inplace = True)\n",
    "    df_politics.drop('Date_Q', axis = 1, inplace = True)    \n",
    "    df_politics = df_politics.groupby(['Country', 'Indicator', 'Group']).\\\n",
    "        apply(lambda iter_group: iter_group.droplevel([0, 1, 2]).resample('BM').bfill())\n",
    "    df_politics = df_politics.reorder_levels(['Date', 'Country', 'Indicator', 'Group'])\n",
    "    df_politics.columns = ['Value']\n",
    "    ### Market membership importing:\n",
    "    ser_market_membership = get_market_membership_from_excel(path_msci)\n",
    "    ### Adding membership column to result dataframe:    \n",
    "    df_politics = df_politics.join(ser_market_membership, on = ['Date', 'Country'], how = 'left')\n",
    "    df_politics = df_politics.set_index('Market', drop = True, append = True)    \n",
    "    ### Dropping countries with no participation in ISON universe:\n",
    "    ser_politics = df_politics.loc[(All, ser_market_membership.index.get_level_values(1).unique().to_list(), All), All].squeeze()\n",
    "    ### Dropping group index and formatting table:\n",
    "    ser_politics.reset_index('Group', drop = True, inplace = True)\n",
    "    df_result = ser_politics.unstack('Indicator').sort_index(level = ['Country', 'Date']) \n",
    "    \n",
    "    return df_result"
   ]
  },
  {
   "cell_type": "code",
   "execution_count": 3,
   "metadata": {},
   "outputs": [],
   "source": [
    "### MAIN SCRIPT\n",
    "### Importing standard modules and date-special modules:\n",
    "import numpy as np\n",
    "import pandas as pd\n",
    "### Declaring global constants & variables: \n",
    "path_msci = 'Data_Files/Source_Files/sample_universe.xlsx' ### Path for membership source\n",
    "path_composite_indicators = 'Data_Files/Source_Files/OD_Composite_Indicators.xlsx' ### Path for Composite Indicators\n",
    "path_growth_potential = 'Data_Files/Source_Files/OD_Growth_Potential.xlsx' ### Path for Growth Potential\n",
    "path_social_inclusion = 'Data_Files/Source_Files/OD_Social_Inclusion.xlsx' ### Path for Social Inclusion\n",
    "All = slice(None)\n",
    "get_market_membership_from_excel(path_msci)\n",
    "df_composite_indicators = get_observation_data(path_composite_indicators, path_msci)\n",
    "df_growth_potential = get_observation_data(path_growth_potential, path_msci)\n",
    "df_social_inclusion = get_observation_data(path_social_inclusion, path_msci)\n",
    "df_composite_indicators.to_excel('Data_Files/Test_Files/OD_Composite_Indicators.xlsx', merge_cells = False)\n",
    "df_growth_potential.to_excel('Data_Files/Test_Files/OD_Growth_Potential.xlsx', merge_cells = False)\n",
    "df_social_inclusion.to_excel('Data_Files/Test_Files/OD_Social_Inclusion.xlsx', merge_cells = False)\n"
   ]
  },
  {
   "cell_type": "code",
   "execution_count": 4,
   "metadata": {},
   "outputs": [],
   "source": [
    "### TESTING: SAVING TO HDF FOR TESTING PURPOSES\n",
    "\n",
    "path_growth_potential_hdf = 'Data_Files/Source_Files/OD_Growth_Potential.h5'\n",
    "key_growth_potential = 'growth_potential'\n",
    "df_growth_potential.to_hdf(path_growth_potential_hdf, key_growth_potential)"
   ]
  },
  {
   "cell_type": "code",
   "execution_count": null,
   "metadata": {},
   "outputs": [],
   "source": []
  }
 ],
 "metadata": {
  "kernelspec": {
   "display_name": "Python 3",
   "language": "python",
   "name": "python3"
  },
  "language_info": {
   "codemirror_mode": {
    "name": "ipython",
    "version": 3
   },
   "file_extension": ".py",
   "mimetype": "text/x-python",
   "name": "python",
   "nbconvert_exporter": "python",
   "pygments_lexer": "ipython3",
   "version": "3.7.3"
  }
 },
 "nbformat": 4,
 "nbformat_minor": 2
}
