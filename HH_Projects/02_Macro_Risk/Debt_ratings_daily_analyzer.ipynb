{
 "cells": [
  {
   "cell_type": "code",
   "execution_count": 1,
   "metadata": {},
   "outputs": [],
   "source": [
    "### DEFINING EXTRACTION UNIVERSE DATA FROM GENERAL MS EXCEL SOURCE\n",
    "def get_market_membership_from_excel(path_msci, convert_to_daily = False):\n",
    "    ### Importing standard modules and date-special modules:    \n",
    "    import numpy as np\n",
    "    import pandas as pd\n",
    "    ### Reindexing function declaring:\n",
    "    def reindex_month_ends(iter_group):\n",
    "        iter_range = pd.date_range(iter_group.first_valid_index(), iter_group.last_valid_index(), freq = 'BM')\n",
    "        iter_result = iter_group.reindex(iter_range)\n",
    "        return iter_result    \n",
    "    ### Declaring local constants & variables: \n",
    "    tab_monthly = 'universe_joined'    \n",
    "    arr_markets_needed = ['DM', 'FM', 'EM']   \n",
    "    dict_markets = {50 : 'DM', 57 : 'EM', 504 : 'FM'}\n",
    "    no_slice = slice(None)\n",
    "    ### Extracting universe data:\n",
    "    df_universe = pd.read_excel(io = path_msci, sheet_name = tab_monthly, skiprows = [0, 2], header = 0, parse_dates = True, \n",
    "                                na_values = ['', '#N/A', '#N/A N/A', '#NA', '-1.#IND', '-1.#QNAN', '-NaN', '-nan', '1.#IND', \n",
    "                                             '1.#QNAN', 'N/A', 'NULL', 'NaN', 'n/a', 'nan', 'null'], keep_default_na = False)\n",
    "    df_universe = df_universe.loc[no_slice, ['dates', 'region', 'ctry']]\n",
    "    df_universe.columns = ['Date', 'Market', 'Country']\n",
    "    df_universe.set_index(['Date', 'Country'], inplace = True)\n",
    "    ser_universe = df_universe.squeeze()\n",
    "    ser_universe.sort_index(level = [0, 1], inplace = True)\n",
    "    ser_universe.replace(dict_markets, inplace = True)\n",
    "    ser_market_membership = ser_universe[ser_universe.isin(arr_markets_needed)]\n",
    "    ### Reindexing to show absent monthes for future daily resampling: \n",
    "    if (convert_to_daily):\n",
    "        ser_market_membership = ser_market_membership.groupby('Country').apply(lambda iter_group: reindex_month_ends(iter_group.droplevel(1)))\n",
    "        ser_market_membership.index.names = ['Country', 'Date']\n",
    "        ser_market_membership = ser_market_membership.swaplevel()\n",
    "        ser_market_membership = ser_market_membership.reset_index('Country').groupby('Country').resample('B').ffill().drop('Country', axis = 1).squeeze()\n",
    "        ser_market_membership = ser_market_membership.swaplevel().sort_index(level = ['Country', 'Date'])\n",
    "        \n",
    "    return ser_market_membership"
   ]
  },
  {
   "cell_type": "code",
   "execution_count": 2,
   "metadata": {},
   "outputs": [],
   "source": [
    "### DEFINING EXPONENTIAL WEIGHTS GENERATOR\n",
    "def get_exp_weights_series(window_len = 5, halflife_len = 3):\n",
    "    ### Importing standard modules:    \n",
    "    import numpy as np\n",
    "    import pandas as pd\n",
    "    import math     \n",
    "    ### Array of regressioon window day numbers descending:\n",
    "    arr_weight_days = np.arange(window_len, 0, -1) - 1\n",
    "    ### Creating weights series:\n",
    "    num_period_factor = math.exp(math.log(0.5) / round(halflife_len))\n",
    "    arr_weights = np.exp(math.log(num_period_factor) * arr_weight_days)\n",
    "    ser_weights = pd.Series(arr_weights)        \n",
    "    ser_weights.name = 'Weight'\n",
    "    \n",
    "    return ser_weights"
   ]
  },
  {
   "cell_type": "code",
   "execution_count": 3,
   "metadata": {},
   "outputs": [],
   "source": [
    "def get_exp_weight_single(halflife_len = 3, num_element = 0):\n",
    "    ### Importing standard modules:    \n",
    "    import numpy as np\n",
    "    import pandas as pd\n",
    "    import math     \n",
    "\n",
    "    num_period_factor = math.exp(math.log(0.5) / round(halflife_len))\n",
    "    num_weight = np.exp(math.log(num_period_factor) * num_element)\n",
    "    \n",
    "    return num_weight"
   ]
  },
  {
   "cell_type": "code",
   "execution_count": 41,
   "metadata": {},
   "outputs": [],
   "source": [
    "### DEFINING EXTRACTION RATING DATA FROM GENERAL MS EXCEL SOURCE\n",
    "def get_revisions_from_excel(path_daily, path_scale, path_msci):\n",
    "    ### Importing standard modules and date-special modules:\n",
    "    import numpy as np\n",
    "    import pandas as pd    \n",
    "    ### Declaring local constants & variables:    \n",
    "    arr_to_subtract = ['\\(P\\)', 'u', ' \\*.?$'] ### For ratings clearing \n",
    "    str_to_subtract_excess = '|'.join(arr_to_subtract)\n",
    "    str_to_highlight_mark = '(\\*.)'  ### For future reviews markers extracting\n",
    "    dict_map_to_replace = {'DD': 'D', 'NR': np.NaN, 'RD': 'D', 'SD': 'D', 'WD': np.NaN, 'WR': np.NaN, 'nan': np.NaN} ### For ratings harmonizing\n",
    "    dict_map_marks = {'-': -1, '+': 1} ### For markers digitalising\n",
    "    dict_table = {} ### For sheets accumulation\n",
    "    ### Collecting sheets:\n",
    "    with pd.ExcelFile(path_daily) as file_excel:\n",
    "        for str_sheet_name in file_excel.sheet_names:\n",
    "            ### Sheet checking and: reading\n",
    "            if (str_sheet_name.lower() != 'map'):\n",
    "                df_source = pd.read_excel(io = file_excel, sheet_name = str_sheet_name, usecols = [0, 2, 3, 4, 5, 6], index_col = [0, 1], parse_dates = True, \n",
    "                                          na_values = ['', '#N/A', '#N/A N/A', '#NA', '-1.#IND', '-1.#QNAN', '-NaN', '-nan', '1.#IND', \n",
    "                                                       '1.#QNAN', 'N/A', 'NULL', 'NaN', 'n/a', 'nan', 'null'], keep_default_na = False) \n",
    "                ### Table mungling:\n",
    "                df_source = df_source.stack().to_frame().reset_index(2)\n",
    "                df_source.index.names = ['Country', 'Date']\n",
    "                df_source.columns = ['Info', 'Rating']\n",
    "                df_source['Currency'] = df_source['Info'].apply(lambda iter_info: 'FC' if ('_FC_' in iter_info) else 'LC')\n",
    "                df_source['Type'] = df_source['Info'].apply(lambda iter_info: 'DEBT' if ('_DEBT' in iter_info) else 'ISSUER')\n",
    "                df_source.drop('Info', axis = 1, inplace = True)\n",
    "                ### Agency series preparing:\n",
    "                ser_agency  = df_source.set_index(['Currency', 'Type'], append = True).squeeze()                \n",
    "                ### Adding result to dictionary:\n",
    "                dict_table[str_sheet_name.upper()] = ser_agency.sort_index()\n",
    "    ### Aggregating tables:                \n",
    "    df_rating = pd.concat(dict_table, names = ['Agency']).to_frame()\n",
    "    ### Data resampling and reindexing:\n",
    "    ser_rating = df_rating.reorder_levels(['Agency', 'Currency', 'Type', 'Country', 'Date']).squeeze()\n",
    "    ser_rating = ser_rating.sort_index(level = ['Agency', 'Currency', 'Type', 'Country', 'Date'])\n",
    "    ser_rating = ser_rating.groupby(['Agency', 'Currency', 'Type', 'Country']).apply(lambda iter_group: iter_group.droplevel([0, 1, 2, 3]).resample('B').ffill())   \n",
    "#    ser_rating = ser_rating.groupby(['Agency', 'Currency', 'Type', 'Country']).ffill()\n",
    "    range_rating = pd.date_range(ser_rating.index.get_level_values(4).min(), ser_rating.index.get_level_values(4).max(), freq = 'B')\n",
    "    ser_rating = ser_rating.groupby(['Agency', 'Currency', 'Type', 'Country']).apply(lambda iter_group: iter_group.droplevel([0, 1, 2, 3]).reindex(range_rating).ffill()) \n",
    "    ser_rating.index.names = ['Agency', 'Currency', 'Type', 'Country', 'Date']\n",
    "    df_rating = ser_rating.dropna().to_frame()\n",
    "    ### Future reviews markers extracting:\n",
    "    df_rating['Mark'] = df_rating['Rating'].str.extract(pat = str_to_highlight_mark, expand = False).str.slice(-1)    \n",
    "    ### Markers digitalising:\n",
    "    for map_key, map_value in dict_map_marks.items():\n",
    "        df_rating['Mark'] = df_rating['Mark'].replace(map_key, map_value)    \n",
    "    ### Suffixes and prefixes handling:    \n",
    "    df_rating['Rating'] = df_rating['Rating'].str.replace(pat = str_to_subtract_excess, repl = '', regex = True)\n",
    "    ### Ratings harmonizing with scaling table:\n",
    "    for map_key, map_value in dict_map_to_replace.items():\n",
    "        df_rating['Rating'] = df_rating['Rating'].replace(map_key, map_value)\n",
    "    ### Reading scaling table:\n",
    "    df_scale = pd.read_excel(path_scale, index_col = 'Rank')\n",
    "    ### Scaling dataFrame polishing:    \n",
    "    df_scale.rename_axis('Agency', axis = 1, inplace = True)\n",
    "    df_scale = df_scale.stack(dropna = False).to_frame().swaplevel().reset_index(1)\n",
    "    df_scale.rename(columns = {0 : 'Rating'}, inplace = True)\n",
    "    df_scale.set_index('Rating', append = True, inplace = True)\n",
    "    ### Adding rank column to result dataframe:\n",
    "    df_rating = df_rating.join(df_scale, on = ['Agency', 'Rating'], how = 'left')    \n",
    "    df_rating.drop(['Rating'], axis = 1, inplace = True)  \n",
    "    ### Receiving MSCI membership data:    \n",
    "    ser_market_membership = get_market_membership_from_excel(path_msci, convert_to_daily = True)\n",
    "    ### Adding membership column to result dataframe:    \n",
    "    df_result = df_rating.join(ser_market_membership, on = ['Date', 'Country'], how = 'left')\n",
    "    df_result = df_result.set_index('Market', drop = True, append = True)    \n",
    "    ### Reordering indexes and value columns:\n",
    "    df_result = df_result[['Rank', 'Mark']]\n",
    "    df_result = df_result.reorder_levels(['Agency', 'Currency', 'Type', 'Date', 'Market', 'Country'])\n",
    "   \n",
    "    return df_result"
   ]
  },
  {
   "cell_type": "code",
   "execution_count": 42,
   "metadata": {},
   "outputs": [],
   "source": [
    "### ALL RATINGS IMPORTING\n",
    "### Importing standard modules and date-special modules:\n",
    "import numpy as np\n",
    "import pandas as pd\n",
    "from datetime import date\n",
    "### Declaring global constants & variables: \n",
    "path_msci = 'Data_Files/Source_Files/sample_universe.xlsx' ### Path for membership source\n",
    "path_daily = 'Data_Files/Source_Files/Revisions_Daily.xlsx' ### Path to daily revisions data file\n",
    "path_scale = 'Data_Files/Source_Files/Ratings_Scale.xlsx' ### Path to rating comparision file \n",
    "All = slice(None)\n",
    "### Receiving aggregated ratings table:\n",
    "df_rating_full = get_revisions_from_excel(path_daily, path_scale, path_msci)\n",
    "### Dropping non-universe countries:\n",
    "### Comment the next line to get full ranking history (without dropping observations not covered by ISON Universe)\n",
    "#df_rating_full = df_rating_full.loc[(All, All, All, All, ['DM', 'FM', 'EM'], All), :]"
   ]
  },
  {
   "cell_type": "code",
   "execution_count": 43,
   "metadata": {},
   "outputs": [],
   "source": [
    "# TYPE'S CHOOSING AND JOINING\n",
    "### Moving Types to columns and flattening columns to one level:\n",
    "df_rating_type = df_rating_full.unstack('Type')\n",
    "df_rating_type.sort_index(level = ['Agency', 'Currency', 'Date', 'Country'], inplace = True)\n",
    "df_rating_type.columns = ['_'.join(iter_tup_col).rstrip('_') for iter_tup_col in df_rating_type.columns.values]\n",
    "### Adding final columns:\n",
    "df_rating_type['Rank'] = np.NaN\n",
    "df_rating_type['Mark'] = np.NaN\n",
    "### Filling final columns:\n",
    "df_rating_type.loc[('FITCH', All), 'Rank'] = df_rating_type['Rank_DEBT']\n",
    "df_rating_type.loc[('FITCH', All), 'Mark'] = df_rating_type['Mark_DEBT']\n",
    "df_rating_type.loc[('SP', All), 'Rank'] = df_rating_type['Rank_ISSUER']\n",
    "df_rating_type.loc[('SP', All), 'Mark'] = df_rating_type['Mark_ISSUER']\n",
    "df_rating_type.loc[('MDY', All), 'Rank'] = df_rating_type['Rank_ISSUER']\n",
    "df_rating_type.loc[('MDY', All), 'Mark'] = df_rating_type['Mark_ISSUER']\n",
    "df_rating_type.loc[(df_rating_type.index.get_level_values(0) == 'MDY') & df_rating_type['Rank'].isna(), 'Mark'] = df_rating_type['Mark_DEBT']\n",
    "df_rating_type.loc[('MDY', All), 'Rank'] = df_rating_type.loc[('MDY', All), 'Rank'].combine_first(df_rating_type.loc[('MDY', All), 'Rank_DEBT'])\n",
    "#### Removing source data columns:\n",
    "df_rating_type = df_rating_type[['Rank', 'Mark']]"
   ]
  },
  {
   "cell_type": "code",
   "execution_count": 44,
   "metadata": {},
   "outputs": [
    {
     "name": "stdout",
     "output_type": "stream",
     "text": [
      "('FITCH', 'TW')\n",
      "('FITCH', 'UG')\n"
     ]
    }
   ],
   "source": [
    "### CURRENCY'S CHOOSING AND JOINING\n",
    "df_rating_cur = df_rating_type.unstack('Currency')\n",
    "df_rating_cur.sort_index(level = ['Agency', 'Date', 'Country'], inplace = True)\n",
    "df_rating_cur.columns = ['_'.join(iter_tup_col).rstrip('_') for iter_tup_col in df_rating_cur.columns.values]\n",
    "### Adding final columns:\n",
    "df_rating_cur['Rank'] = df_rating_cur['Rank_FC']\n",
    "df_rating_cur['Mark'] = df_rating_cur['Mark_FC']\n",
    "### Additional filling final columns with LC values in case if all FC values are empty:\n",
    "arr_lc_keys = df_rating_cur.loc[df_rating_cur['Rank_FC'].isna() & df_rating_cur['Rank_LC'].notna()].groupby(['Agency', 'Country']).groups.keys()\n",
    "for iter_tup in arr_lc_keys:\n",
    "    if (len(df_rating_cur['Rank_FC'].dropna().loc[(iter_tup[0], All, All, iter_tup[1])].index) == 0):\n",
    "        print(iter_tup)\n",
    "        iter_tup_index = (iter_tup[0], All, All, iter_tup[1])\n",
    "        df_rating_cur.loc[iter_tup_index, 'Mark'] = df_rating_cur.loc[iter_tup_index, 'Mark_LC']          \n",
    "        df_rating_cur.loc[iter_tup_index, 'Rank'] = df_rating_cur.loc[iter_tup_index, 'Rank_LC']\n",
    "df_rating_cur = df_rating_cur[['Rank', 'Mark']]            "
   ]
  },
  {
   "cell_type": "code",
   "execution_count": 45,
   "metadata": {},
   "outputs": [],
   "source": [
    "### CORRECTING MARKED RANKS:\n",
    "df_rating_cur.loc[(df_rating_cur['Mark'].notna() & ((df_rating_cur['Rank'] + df_rating_cur['Mark']) == 0)), 'Mark'] = df_rating_cur['Mark'] * 2\n",
    "df_rating_cur.loc[df_rating_cur['Mark'].notna(), 'Rank'] = df_rating_cur['Rank'] + df_rating_cur['Mark']\n",
    "df_rating_marked = df_rating_cur['Rank'].sort_index(level = ['Country', 'Date'])"
   ]
  },
  {
   "cell_type": "code",
   "execution_count": null,
   "metadata": {},
   "outputs": [],
   "source": [
    "### TESTER\n",
    "range_test = pd.date_range(df_rating_marked.index.get_level_values(1).min(), df_rating_marked.index.get_level_values(1).max(), freq = 'BM')\n",
    "df_test = df_rating_marked.unstack('Agency').groupby('Country').apply(lambda iter_group: iter_group.reindex(range_test, level = 'Date'))\n",
    "df_test.reset_index(0, drop = True, inplace = True)\n",
    "df_test.to_excel('Data_Files/Test_Files/Test_Daily_Merge.xlsx', merge_cells = False)  "
   ]
  },
  {
   "cell_type": "code",
   "execution_count": 46,
   "metadata": {},
   "outputs": [],
   "source": [
    "### DATA VECTOR WITH REVISIONS ONLY:\n",
    "### Table for rankings keeping:\n",
    "df_rating_agency = df_rating_marked.unstack('Agency').sort_index(level = ['Country', 'Date'])\n",
    "dict_revision = {}\n",
    "### Agency looping:\n",
    "for iter_agency in df_rating_agency.columns:\n",
    "    ser_iter_rating = df_rating_agency[iter_agency].copy()\n",
    "    ser_iter_rating.fillna(0, inplace = True)\n",
    "    ### Changes filtering:\n",
    "    ser_iter_differ = ser_iter_rating.groupby('Country').diff().dropna()\n",
    "    ser_iter_differ = ser_iter_differ[ser_iter_differ.abs() > 0]\n",
    "    ser_iter_revision = ser_iter_rating.loc[ser_iter_differ.index].replace(0, np.NaN)\n",
    "    ### First observation selecting:\n",
    "    ser_iter_first = df_rating_agency[iter_agency].dropna().groupby('Country').apply(lambda iter_group: iter_group.iloc[0 : 1]).droplevel(0)\n",
    "    ### Revisions consolidating:\n",
    "    ser_iter_result = pd.concat([ser_iter_revision, ser_iter_first], axis = 0).sort_index(level = ['Country', 'Date'])\n",
    "    dict_revision[iter_agency] = ser_iter_result[~ser_iter_result.index.duplicated(keep = 'last')]"
   ]
  },
  {
   "cell_type": "code",
   "execution_count": null,
   "metadata": {},
   "outputs": [],
   "source": [
    "### TESTER\n",
    "print(dict_revision['FITCH'].loc[All, All, 'IN'])\n",
    "print(dict_revision['MDY'].loc[All, All, 'IN'])\n",
    "print(dict_revision['SP'].loc[All, All, 'IN'])"
   ]
  },
  {
   "cell_type": "code",
   "execution_count": 47,
   "metadata": {},
   "outputs": [],
   "source": [
    "### COLLAPSING VARIANTS COMPARING\n",
    "### Function for const length counting:\n",
    "def const_length(ser_group_agency):\n",
    "    ser_group_weight = pd.Series(1, index = ser_group_agency.index)\n",
    "    ser_group_weight = ser_group_agency.groupby((ser_group_agency != ser_group_agency.shift(1)).cumsum()).cumcount() + 1\n",
    "    return ser_group_weight\n",
    "### Table for rankings keeping:\n",
    "df_rating_agency = df_rating_marked.unstack('Agency').sort_index(level = ['Country', 'Date'])\n",
    "### Array of agencies names:\n",
    "arr_agency = df_rating_agency.columns\n",
    "### Table for collapsing variants collecting:\n",
    "df_rating_res = pd.DataFrame(index = df_rating_agency.index)\n",
    "df_rating_res['Median'] = round(df_rating_agency.median(axis = 1), 2)\n",
    "df_rating_res['Mean'] = round(df_rating_agency.mean(axis = 1), 2)\n",
    "### Weights for half-life:\n",
    "num_halflife = 63\n",
    "### Freshness weights calculation:\n",
    "df_rating_agency = df_rating_marked.unstack('Agency').sort_index(level = ['Country', 'Date'], ascending = [True, True])\n",
    "### Initialising weights vector\n",
    "df_rating_weight = pd.DataFrame(index = df_rating_agency.index)\n",
    "### Unchanged datepoints quantity calculating:\n",
    "for iter_agency in arr_agency:\n",
    "    df_rating_weight[iter_agency] = 1\n",
    "    df_rating_weight[iter_agency] = df_rating_agency[iter_agency].groupby(['Country']).apply(lambda iter_group: const_length(iter_group)) \n",
    "    df_rating_weight[iter_agency] = get_exp_weight_single(num_halflife, df_rating_weight[iter_agency])          \n",
    "### Zeroing of weights of NaN rank values:\n",
    "df_rating_weight[df_rating_agency.isna()] = 0    \n",
    "### Freshness means calculation:\n",
    "df_rating_weight  = df_rating_weight.div(df_rating_weight.sum(axis = 1), axis = 0)  \n",
    "df_rating_res['Collapsed'] = round(df_rating_agency.mul(df_rating_weight, axis = 0).sum(axis = 1), 2)\n",
    "### Freshness means completion\n",
    "df_rating_res[df_rating_agency.isna().sum(axis = 1) == 3] = np.NaN\n",
    "df_rating_res[(round(df_rating_res, 0) == 0) & (df_rating_res <= 0)] = -0.5 - 1 / 10000000\n",
    "df_rating_res[(round(df_rating_res, 0) == 0) & (df_rating_res > 0)] = 0.5 + 1 / 10000000\n",
    "### Aggregated table:\n",
    "#df_rating_collapsed_plus = pd.concat([df_rating_agency, df_rating_weight, df_rating_weight_natural, df_rating_res], axis = 1, \n",
    "#                                sort = True).sort_index(level = ['Country', 'Date'])\n",
    "df_rating_collapsed = pd.concat([df_rating_agency, df_rating_res], axis = 1, sort = True).sort_index(level = ['Country', 'Date'])\n",
    "round(df_rating_collapsed, 0).to_excel('Data_Files/Test_Files/Daily_Collapsed_HL_63.xlsx', merge_cells = False)      "
   ]
  },
  {
   "cell_type": "code",
   "execution_count": 10,
   "metadata": {},
   "outputs": [],
   "source": [
    "### TESTER\n",
    "range_test = pd.date_range(df_rating_collapsed.index.get_level_values(0).min(), df_rating_collapsed.index.get_level_values(0).max(), freq = 'BM')\n",
    "df_test = df_rating_collapsed.groupby('Country').apply(lambda iter_group: iter_group.reindex(range_test, level = 'Date'))\n",
    "df_test.reset_index(0, drop = True, inplace = True)\n",
    "round(df_test.dropna(how = 'all'), 0).to_excel('Data_Files/Test_Files/Test_Daily_Rounded.xlsx', merge_cells = False)  \n",
    "round(df_test.dropna(how = 'all'), 2).to_excel('Data_Files/Test_Files/Test_Daily_Not_Rounded.xlsx', merge_cells = False)  "
   ]
  },
  {
   "cell_type": "code",
   "execution_count": 11,
   "metadata": {},
   "outputs": [],
   "source": [
    "### RESULTS SAVING\n",
    "ser_ranking = round(df_rating_collapsed['Collapsed'].dropna(), 0)\n",
    "path_collapsed = 'Data_Files/Source_Files/Collapsed_Rank_Daily.h5'\n",
    "key_collapsed = 'Daily'\n",
    "ser_ranking.to_hdf(path_collapsed, key_collapsed, mode = 'w', format = 'fixed')"
   ]
  },
  {
   "cell_type": "code",
   "execution_count": 41,
   "metadata": {},
   "outputs": [],
   "source": [
    "### RESULTS COMPARING\n",
    "### Importing standard modules and date-special modules:\n",
    "import numpy as np\n",
    "import pandas as pd\n",
    "import matplotlib.pyplot as plt\n",
    "### Declaring global constants & variables: \n",
    "All = slice(None)\n",
    "### Monthly results loading:\n",
    "path_collapsed_monthly = 'Data_Files/Source_Files/Collapsed_Monthly_Non_Zero.h5'\n",
    "key_collapsed_monthly = 'Rank'\n",
    "ser_ranking_monthly = pd.read_hdf(path_collapsed_monthly, key_collapsed_monthly)\n",
    "ser_ranking_monthly.name = 'Monthly'"
   ]
  },
  {
   "cell_type": "code",
   "execution_count": 47,
   "metadata": {},
   "outputs": [
    {
     "name": "stdout",
     "output_type": "stream",
     "text": [
      "            Monthly         Daily\n",
      "count  26296.000000  26296.000000\n",
      "mean       3.699726      3.696950\n",
      "std        5.268869      5.269515\n",
      "min      -12.000000    -12.000000\n",
      "25%       -1.000000     -1.000000\n",
      "50%        4.000000      4.000000\n",
      "75%        9.000000      9.000000\n",
      "max       10.000000     10.000000\n",
      "Different revisions count: 166\n",
      "Differences abs sum: 179.0\n"
     ]
    },
    {
     "data": {
      "image/png": "[encoded data removed]",
      "text/plain": [
       "<Figure size 1080x360 with 1 Axes>"
      ]
     },
     "metadata": {
      "needs_background": "light"
     },
     "output_type": "display_data"
    }
   ],
   "source": [
    "### TESTER\n",
    "df_comparision = ser_ranking_monthly.to_frame().join(ser_ranking, how = 'left')\n",
    "df_comparision.columns = ['Monthly', 'Daily']\n",
    "print(df_comparision.describe())\n",
    "print('Different revisions count:', df_comparision[df_comparision['Monthly'] != df_comparision['Daily']].count()[0])\n",
    "print('Differences abs sum:', (df_comparision['Monthly'] - df_comparision['Daily']).abs().sum())\n",
    "ser_correlation = df_comparision.groupby('Date').apply(lambda iter_group: iter_group['Monthly'].corr(iter_group['Daily']))\n",
    "ser_correlation.dropna().plot(figsize = (15, 5), title = 'Monthly and daily resampled to monthly collapsed rankings correlation')\n",
    "plt.show()"
   ]
  },
  {
   "cell_type": "code",
   "execution_count": null,
   "metadata": {},
   "outputs": [],
   "source": []
  }
 ],
 "metadata": {
  "kernelspec": {
   "display_name": "Python 3",
   "language": "python",
   "name": "python3"
  },
  "language_info": {
   "codemirror_mode": {
    "name": "ipython",
    "version": 3
   },
   "file_extension": ".py",
   "mimetype": "text/x-python",
   "name": "python",
   "nbconvert_exporter": "python",
   "pygments_lexer": "ipython3",
   "version": "3.7.3"
  }
 },
 "nbformat": 4,
 "nbformat_minor": 2
}
