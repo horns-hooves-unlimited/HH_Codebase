{
 "cells": [
  {
   "cell_type": "code",
   "execution_count": 1,
   "metadata": {},
   "outputs": [],
   "source": [
    "### INITIALIZATION\n",
    "### Importing standard modules and date-special modules:\n",
    "import numpy as np\n",
    "import pandas as pd\n",
    "import matplotlib.pyplot as plt\n",
    "### Declaring global constants & variables: \n",
    "path_politics_2019_03 = 'Data_Files/Source_Files/OD_Politics_2019_03.xlsx' ### Path for 2019-III Data\n",
    "path_politics_2019_04 = 'Data_Files/Source_Files/OD_Politics_2019_04.xlsx' ### Path for 2019-IV Data\n",
    "All = slice(None)\n",
    "list_na_xlsx = ['', '#N/A', '#N/A N/A', '#NA', '-1.#IND', '-1.#QNAN', '-NaN', '-nan', '1.#IND', '1.#QNAN', 'N/A', 'NULL', 'NaN', 'n/a', 'nan', 'null']\n",
    "list_region_filter = [['DM', 'EM', 'FM'], ['DM'], ['EM'], ['FM']]\n",
    "list_region_name = ['ISON', 'DM', 'EM', 'FM']\n",
    "list_back_month = [60, 36, 12, 9, 6, 3, 0]\n",
    "### Ready datasets importing from MS Excel:\n",
    "df_politics_2019_03 = pd.read_excel(path_politics_2019_03, index_col = [0, 1], usecols = [0, 1, 2, 7, 12, 14, 17], parse_dates = True, \n",
    "                                    na_values = list_na_xlsx, keep_default_na = False).set_index('Market', append = True)\n",
    "df_politics_2019_04 = pd.read_excel(path_politics_2019_04, index_col = [0, 1], usecols = [0, 1, 2, 7, 9, 11, 14], parse_dates = True, \n",
    "                                    na_values = list_na_xlsx, keep_default_na = False).set_index('Market', append = True)\n",
    "### Data concatenating:\n",
    "df_politics = pd.concat({'2019_03': df_politics_2019_03, '2019_04': df_politics_2019_04}, join = 'inner', axis = 1).sort_index(level = ['Date', 'Country'])\n",
    "list_pillar = list(df_politics.columns.get_level_values(1).unique())"
   ]
  },
  {
   "cell_type": "code",
   "execution_count": 2,
   "metadata": {},
   "outputs": [],
   "source": [
    "### ANALYZING\n",
    "ser_corr_result = pd.DataFrame(columns = ['Pillar', 'Region', 'Back period', 'X-sect corr mean']).set_index(['Pillar', 'Region', 'Back period']).squeeze()\n",
    "\n",
    "for iter_pillar in list_pillar:\n",
    "    ### Pillar looping:\n",
    "    df_iter_pillar = df_politics.loc[:, (All, iter_pillar)]\n",
    "#    ### By country correlation:\n",
    "#    ser_iter_country_corr = df_iter_pillar.groupby('Country').\\\n",
    "#                            apply(lambda iter_group: iter_group.loc[:, ('2019_03', iter_pillar)].corr(iter_group.loc[:, ('2019_04', iter_pillar)]))\n",
    "#    print(iter_pillar, ': By country correlation:')\n",
    "#    print('Min:', round(ser_iter_country_corr[ser_iter_country_corr.idxmin() : ser_iter_country_corr.idxmin()], 6))\n",
    "#    print('Mean:', round(ser_iter_country_corr.mean(), 6))\n",
    "#    print('\\n')\n",
    "    ### Cross-sectional correlation:\n",
    "    for iter_region_filter, iter_region_name in zip(list_region_filter, list_region_name):\n",
    "        ### Region looping:\n",
    "        df_iter_region = df_iter_pillar.loc[(All, All, iter_region_filter), :].droplevel('Market')\n",
    "        for iter_period in list_back_month:\n",
    "            ### Back period looping:\n",
    "            idx_iter_date_range = pd.date_range(end = df_iter_region.index.get_level_values('Date').max(), periods = iter_period, freq = 'BM')\n",
    "            date_period_back = df_iter_region.index.get_level_values('Date').max() - pd.offsets.BMonthEnd(iter_period)\n",
    "#            df_iter_period = df_iter_region.loc[(idx_iter_date_range, All), :]\n",
    "            df_iter_period = df_iter_region.loc[(date_period_back, All), :]            \n",
    "            ### By date (cross-sectional) correlation calculating:\n",
    "            ser_iter_date_corr = df_iter_period.groupby('Date').\\\n",
    "                                    apply(lambda iter_group: iter_group.loc[:, ('2019_03', iter_pillar)].corr(iter_group.loc[:, ('2019_04', iter_pillar)]))\n",
    "            ser_corr_result.loc[iter_pillar, iter_region_name, iter_period]  = round(ser_iter_date_corr.mean(), 6)\n",
    "### Results saving:\n",
    "ser_corr_result.to_excel('Data_Files/Test_Files/Politics_Compare.xlsx', merge_cells = False)"
   ]
  },
  {
   "cell_type": "code",
   "execution_count": 83,
   "metadata": {},
   "outputs": [],
   "source": [
    "### TEMP\n",
    "\n",
    "df_test_corr = df_politics.loc[(idx_iter_date_range, All, 'DM'), (All, 'Institutional Robustness (Pillar II)')].droplevel('Market')\n",
    "df_test_corr.columns = df_test_corr.columns.droplevel(1)\n",
    "df_test_corr.to_excel('Data_Files/Test_Files/Politics_Compare_Example.xlsx', merge_cells = False)\n"
   ]
  },
  {
   "cell_type": "code",
   "execution_count": 4,
   "metadata": {},
   "outputs": [
    {
     "data": {
      "text/plain": [
       "Timestamp('2019-08-30 00:00:00')"
      ]
     },
     "execution_count": 4,
     "metadata": {},
     "output_type": "execute_result"
    }
   ],
   "source": [
    "### TEMP\n",
    "\n"
   ]
  },
  {
   "cell_type": "code",
   "execution_count": null,
   "metadata": {},
   "outputs": [],
   "source": []
  }
 ],
 "metadata": {
  "kernelspec": {
   "display_name": "Python 3",
   "language": "python",
   "name": "python3"
  },
  "language_info": {
   "codemirror_mode": {
    "name": "ipython",
    "version": 3
   },
   "file_extension": ".py",
   "mimetype": "text/x-python",
   "name": "python",
   "nbconvert_exporter": "python",
   "pygments_lexer": "ipython3",
   "version": "3.7.3"
  }
 },
 "nbformat": 4,
 "nbformat_minor": 2
}
