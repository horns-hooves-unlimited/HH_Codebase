{
 "cells": [
  {
   "cell_type": "code",
   "execution_count": 2,
   "metadata": {},
   "outputs": [],
   "source": [
    "### Importing standard modules and date-special modules:\n",
    "import numpy as np\n",
    "import pandas as pd"
   ]
  },
  {
   "cell_type": "code",
   "execution_count": null,
   "metadata": {},
   "outputs": [],
   "source": [
    "path_test_xlsx = 'Data_Files/Test_Files/Test_Collapsing_Ways_Expo.xlsx'\n",
    "ser_test = pd.read_excel(io = path_test_xlsx, header = 0, index_col = [0, 1, 2])\n",
    "#ser_test.reset_index(inplace = True)\n",
    "#ser_test = ser_test.set_index(['Date', 'Group', 'Country'])\n",
    "print(ser_test)\n",
    "print(ser_test.sort_index(level = ['Country', 'Date']))"
   ]
  },
  {
   "cell_type": "code",
   "execution_count": 21,
   "metadata": {},
   "outputs": [],
   "source": [
    "path_test_xlsx = 'Data_Files/Test_Files/Excel_Source.xlsx'\n",
    "df_test = pd.read_excel(io = path_test_xlsx, header = 0, index_col = 0) \n",
    "ser_test = df_test.stack(dropna = False).to_frame()\n",
    "ser_test.index.names = ['Date', 'Country']"
   ]
  },
  {
   "cell_type": "code",
   "execution_count": 22,
   "metadata": {},
   "outputs": [
    {
     "name": "stdout",
     "output_type": "stream",
     "text": [
      "            US  AR   QA\n",
      "Date                   \n",
      "2015-01-01   1  10  100\n",
      "2016-01-01   2  20  200\n",
      "2017-01-01   3  30  300\n",
      "                      0\n",
      "Date       Country     \n",
      "2015-01-01 US         1\n",
      "           AR        10\n",
      "           QA       100\n",
      "2016-01-01 US         2\n",
      "           AR        20\n",
      "           QA       200\n",
      "2017-01-01 US         3\n",
      "           AR        30\n",
      "           QA       300\n",
      "                      0\n",
      "Date       Country     \n",
      "2015-01-01 AR        10\n",
      "2016-01-01 AR        20\n",
      "2017-01-01 AR        30\n",
      "2015-01-01 QA       100\n",
      "2016-01-01 QA       200\n",
      "2017-01-01 QA       300\n",
      "2015-01-01 US         1\n",
      "2016-01-01 US         2\n",
      "2017-01-01 US         3\n",
      "Date        Country\n",
      "2015-01-01  AR          10\n",
      "2016-01-01  AR          20\n",
      "2017-01-01  AR          30\n",
      "2015-01-01  QA         100\n",
      "2016-01-01  QA         200\n",
      "2017-01-01  QA         300\n",
      "2015-01-01  US           1\n",
      "2016-01-01  US           2\n",
      "2017-01-01  US           3\n",
      "Name: 0, dtype: int64\n"
     ]
    }
   ],
   "source": [
    "print(df_test)\n",
    "print(ser_test)\n",
    "print(ser_test.sort_index(level = ['Country', 'Date']))\n",
    "df_test_reseted = ser_test.reset_index(level = 'Country')\n",
    "ser_test_reseted = df_test_reseted.set_index('Country', append = True).squeeze()\n",
    "print(ser_test_reseted.sort_index(level = ['Country', 'Date']))"
   ]
  },
  {
   "cell_type": "code",
   "execution_count": null,
   "metadata": {},
   "outputs": [],
   "source": []
  },
  {
   "cell_type": "code",
   "execution_count": null,
   "metadata": {},
   "outputs": [],
   "source": []
  }
 ],
 "metadata": {
  "kernelspec": {
   "display_name": "Python 3",
   "language": "python",
   "name": "python3"
  },
  "language_info": {
   "codemirror_mode": {
    "name": "ipython",
    "version": 3
   },
   "file_extension": ".py",
   "mimetype": "text/x-python",
   "name": "python",
   "nbconvert_exporter": "python",
   "pygments_lexer": "ipython3",
   "version": "3.7.3"
  }
 },
 "nbformat": 4,
 "nbformat_minor": 2
}
