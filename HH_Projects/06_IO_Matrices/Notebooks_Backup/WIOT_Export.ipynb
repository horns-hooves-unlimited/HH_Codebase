{
 "cells": [
  {
   "cell_type": "code",
   "execution_count": 1,
   "id": "5b3671a4-9e77-4fe5-96d4-ff5a9cce2fcb",
   "metadata": {},
   "outputs": [],
   "source": [
    "### INITIALIZATION\n",
    "\n",
    "import pandas as pd # Data structures\n",
    "import numpy as np # Matrix algebra\n",
    "import matplotlib.pyplot as plt\n",
    "from pandas.plotting import register_matplotlib_converters # Plotting\n",
    "register_matplotlib_converters() # Plotting\n",
    "import seaborn as sns # Plotting\n",
    "import gc # Garbage collection\n",
    "import os # To rea all files in folder"
   ]
  },
  {
   "cell_type": "code",
   "execution_count": 2,
   "id": "f88258b0-1cc3-4292-9aad-9e0e79ca5d04",
   "metadata": {},
   "outputs": [
    {
     "name": "stdout",
     "output_type": "stream",
     "text": [
      "python version:  3.7.4\n",
      "numpy version:  1.17.2\n",
      "pandas version:  0.25.3\n"
     ]
    }
   ],
   "source": [
    "### VERSIONS CONTROL\n",
    "\n",
    "from platform import python_version\n",
    "print('python version: ', python_version())\n",
    "print('numpy version: ', np.__version__)\n",
    "print('pandas version: ', pd.__version__)"
   ]
  },
  {
   "cell_type": "code",
   "execution_count": 3,
   "id": "6bd157fe-a55a-451d-a8d8-4b1a3f844e37",
   "metadata": {},
   "outputs": [],
   "source": [
    "### MAIN CONSTANTS\n",
    "\n",
    "### MultiIndex level slice constant:\n",
    "All = slice(None)\n",
    "### Universe path:\n",
    "str_path_universe = 'Data_Files/Source_Files/acadian_universe.xlsx'\n",
    "### Dates:\n",
    "str_date_end = '2021-12-31'\n",
    "### NA for MS Excel files:\n",
    "list_na_excel_values = ['', '#N/A', '#N/A N/A', '#NA', '-1.#IND', '-1.#QNAN', '-NaN', '-nan', '1.#IND', '1.#QNAN', 'N/A', 'NULL', 'NaN', 'n/a', 'nan', 'null',\n",
    "                        '#N/A Requesting Data...', '#N/A Invalid Security', '#N/A Field Not Applicable', '---']\n",
    "### WIOT Matrices folder:\n",
    "str_wiot_folder = 'Data_Files/Source_Files/wiots_in_excel/'\n",
    "### WIOT dtasets:\n",
    "str_path_wiot = 'Data_Files/Source_Files/wiot_matrices.h5'\n",
    "str_key_wiot = 'wiot'"
   ]
  },
  {
   "cell_type": "code",
   "execution_count": 4,
   "id": "967c8414-2bb6-4c41-89de-70067849a8d6",
   "metadata": {},
   "outputs": [],
   "source": [
    "### DEFINING EXTRACTION UNIVERSE DATA FROM MS EXCEL SOURCE (TO BE IGNORED IN PRODUCT CODE)\n",
    "\n",
    "def ison_membership_converting(str_path_universe, date_end, bool_daily = False, int_backfill_months = 0):\n",
    "    ### Defining business-month-end reindexation on country level:\n",
    "    def country_modify(ser_raw_country, date_end):\n",
    "        ser_res_country = ser_raw_country.droplevel(0).resample('MS').last().resample('BM').last()\n",
    "        range_country = pd.date_range(ser_res_country.index[0], date_end, freq = 'BM')\n",
    "        return ser_res_country.reindex(range_country).ffill()\n",
    "    ### Markets encoding table:\n",
    "    dict_markets = {50 : 'DM', 57 : 'EM', 504 : 'FM', 0: np.NaN}     \n",
    "    ### Loading source file:\n",
    "    df_raw_universe = pd.read_excel(engine = 'openpyxl', io = str_path_universe, sheet_name = 'Switchers', header = 0, parse_dates = True, index_col = [0, 1],\n",
    "                                 na_values = ['', '#N/A', '#N/A N/A', '#NA', '-1.#IND', '-1.#QNAN', '-NaN', '-nan', '1.#IND', \n",
    "                                             '1.#QNAN', 'N/A', 'NULL', 'NaN', 'n/a', 'nan', 'null'], keep_default_na = False)\n",
    "    ### Converting source file:\n",
    "    df_raw_universe.index.names = ['Country', 'Date']\n",
    "    ser_raw_universe = df_raw_universe['Region']\n",
    "    ser_raw_universe.fillna(0, inplace = True)\n",
    "    ser_raw_universe.name = 'Market'\n",
    "    ### By country reindexation and translation:\n",
    "    ser_res_universe = ser_raw_universe.groupby('Country').apply(country_modify, date_end)\n",
    "    ser_res_universe.index.names = ['Country', 'Date']\n",
    "    ser_res_universe = ser_res_universe.replace(dict_markets).reorder_levels([1, 0]).sort_index() \n",
    "    ### Expanding membership for primary regions members by backfilling:\n",
    "    if int_backfill_months:\n",
    "        ### List of regions:\n",
    "        list_region = list(ser_res_universe.dropna().unique())\n",
    "        ### Initialising of collection of series with backfilled data for each region:\n",
    "        list_ison_backfill = []\n",
    "        ### Regions looping:\n",
    "        for iter_region in list_region:\n",
    "            ### Defining start of region date:\n",
    "            date_first_valid = ser_res_universe.loc[ser_res_universe == iter_region].first_valid_index()[0]\n",
    "            ### Creating dates index to backfilling:\n",
    "            idx_date_backfill = pd.date_range(end = date_first_valid, periods = int_backfill_months + 1, freq = 'BM')[: -1]\n",
    "            ### Creating primary countries index to backfilling:            \n",
    "            idx_region_backfill = ser_res_universe.loc[ser_res_universe == iter_region].loc[date_first_valid, All].index.get_level_values('Country')\n",
    "            ### Creating full index:\n",
    "            idx_ison_backfill = pd.MultiIndex.from_product([idx_date_backfill, idx_region_backfill])\n",
    "            ### Series with backfilled data:\n",
    "            list_ison_backfill.append(pd.Series(iter_region, index = idx_ison_backfill))\n",
    "        ### Combination of backfilled series and original ISON data:    \n",
    "        ser_res_universe = ser_res_universe.combine_first(pd.concat(list_ison_backfill, axis = 0)).sort_index()  \n",
    "        ser_res_universe.index.names = ['Date', 'Country']\n",
    "    ### Converting to daily frequency:\n",
    "    if bool_daily:\n",
    "        ser_res_universe = ser_res_universe.reset_index('Country').groupby('Country').resample('B').ffill()['Market'].swaplevel().sort_index()    \n",
    "    ### Results output:\n",
    "    ser_res_universe.name = 'Market'\n",
    "    return ser_res_universe"
   ]
  },
  {
   "cell_type": "code",
   "execution_count": 5,
   "id": "09404f27-7f29-4c89-ac90-44e9294b0814",
   "metadata": {},
   "outputs": [],
   "source": [
    "### DEFINING COUNTRY CODES EXTRACTOR\n",
    "\n",
    "def get_country_codes(use_local_copy = False):  \n",
    "    ### In case if URL is unavailable:\n",
    "    if (use_local_copy):\n",
    "        url_country_code = 'Data_Files/Source_Files/countrycode.html'\n",
    "    ### Online extraction:\n",
    "    else:\n",
    "        url_country_code = 'https://countrycode.org/'\n",
    "    df_full_codes = pd.read_html(url_country_code, index_col = 'COUNTRY')[0]\n",
    "    df_full_codes[['ISO SHORT', 'ISO LONG']] = df_full_codes['ISO CODES'].str.split(' / ', expand = True)\n",
    "    df_result = df_full_codes[['ISO SHORT', 'ISO LONG']].sort_index()    \n",
    "    df_result.index = df_result.index.str.upper()\n",
    "    ### Results output:\n",
    "    return df_result"
   ]
  },
  {
   "cell_type": "code",
   "execution_count": 6,
   "id": "01caa65b-bab4-4167-aedc-253f1f9ce273",
   "metadata": {},
   "outputs": [],
   "source": [
    "### COMMON DATA EXTRACTION STEPS\n",
    "\n",
    "### World Country Codes:\n",
    "df_country_codes = get_country_codes()\n",
    "### ISON membership history:\n",
    "ser_ison_membership = ison_membership_converting(str_path_universe, pd.to_datetime(str_date_end))\n",
    "### ISO long codes for ISON countries:\n",
    "df_iso_codes = df_country_codes.loc[df_country_codes['ISO SHORT'].isin(ser_ison_membership.index.get_level_values('Country').unique())]\n",
    "dict_iso_codes = dict(zip(df_iso_codes['ISO LONG'], df_iso_codes['ISO SHORT']))\n",
    "list_ison_iso_long = list(dict_iso_codes.keys())"
   ]
  },
  {
   "cell_type": "code",
   "execution_count": 8,
   "id": "8e9982dd-a386-44ba-a8dd-5e00db511f39",
   "metadata": {},
   "outputs": [
    {
     "name": "stdout",
     "output_type": "stream",
     "text": [
      "WIOT2000_Nov16_ROW.xlsx\n",
      "WIOT2001_Nov16_ROW.xlsx\n",
      "WIOT2002_Nov16_ROW.xlsx\n",
      "WIOT2003_Nov16_ROW.xlsx\n",
      "WIOT2004_Nov16_ROW.xlsx\n",
      "WIOT2005_Nov16_ROW.xlsx\n",
      "WIOT2006_Nov16_ROW.xlsx\n",
      "WIOT2007_Nov16_ROW.xlsx\n",
      "WIOT2008_Nov16_ROW.xlsx\n",
      "WIOT2009_Nov16_ROW.xlsx\n",
      "WIOT2010_Nov16_ROW.xlsx\n",
      "WIOT2011_Nov16_ROW.xlsx\n",
      "WIOT2012_Nov16_ROW.xlsx\n",
      "WIOT2013_Nov16_ROW.xlsx\n",
      "WIOT2014_Nov16_ROW.xlsx\n"
     ]
    }
   ],
   "source": [
    "### LOADING WIOT MATRICES\n",
    "\n",
    "### Looping over files in folder:\n",
    "for iter_number, iter_xlsx in enumerate(os.listdir(str_wiot_folder)):\n",
    "    gc.collect()\n",
    "    print(iter_xlsx)\n",
    "    ### Loading matrix:\n",
    "    dict_iter_xlsx = pd.read_excel(engine = 'openpyxl', io = str_wiot_folder + iter_xlsx, sheet_name = None, \n",
    "                                   skiprows = [0, 1, 3, 5], header = [0, 1], index_col =  [0, 1, 2, 3],                                  \n",
    "                                   na_values = list_na_excel_values, keep_default_na = False)\n",
    "    ### Extracting year number:\n",
    "    str_iter_year = list(dict_iter_xlsx.keys())[0]\n",
    "    ### Moving data from dictionary to dataframe:\n",
    "    df_iter_raw = dict_iter_xlsx[str_iter_year]\n",
    "    del dict_iter_xlsx\n",
    "    gc.collect()\n",
    "    ### Creating ISIC Industries registry:\n",
    "    if (iter_number == 0):\n",
    "        str_first_country = df_iter_raw.index.levels[-2][0]\n",
    "        df_first_country_idx = df_iter_raw.loc[(All, All, str_first_country, All), ].reset_index([0, 1]).drop(df_iter_raw.columns[0], axis = 1).droplevel(0)\n",
    "        dict_isic_ind = dict(zip(df_first_country_idx['level_0'], df_first_country_idx['level_1']))\n",
    "    ### Extracting ISON countries data:\n",
    "    df_iter_edit = df_iter_raw.droplevel([1, 3])\n",
    "    df_iter_edit = df_iter_edit.loc[(list(dict_isic_ind.keys()), list_ison_iso_long), (list(dict_isic_ind.keys()), list_ison_iso_long)]\n",
    "    ### Dataset transformation:\n",
    "    ser_iter_edit = df_iter_edit.stack([0, 1])\n",
    "    del df_iter_edit\n",
    "    gc.collect()    \n",
    "    ser_iter_edit.index.names = ['Reporter_ISIC_ID', 'Reporter_Country', 'Partner_ISIC_ID', 'Partner_Country']\n",
    "    df_iter_res = ser_iter_edit.reset_index()\n",
    "    del ser_iter_edit\n",
    "    gc.collect()\n",
    "    ### Replacing long ISO country codes to short ones:\n",
    "    df_iter_res['Reporter_Country'].replace(dict_iso_codes, inplace = True)\n",
    "    df_iter_res['Partner_Country'].replace(dict_iso_codes, inplace = True)\n",
    "    ### Index levels casting to categorical:    \n",
    "    ser_iter_res = df_iter_res.astype({'Reporter_ISIC_ID': 'category', 'Reporter_Country': 'category', 'Partner_ISIC_ID': 'category', 'Partner_Country': 'category'})\\\n",
    "                              .set_index(['Reporter_ISIC_ID', 'Reporter_Country', 'Partner_ISIC_ID', 'Partner_Country']).squeeze().round(2).astype('float32')\n",
    "    del df_iter_res\n",
    "    gc.collect()    \n",
    "    ser_iter_res.name = 'Value'\n",
    "    ### Adding annual data to common file:\n",
    "    if (iter_number == 0): \n",
    "        pd.concat({str_iter_year: ser_iter_res}, names = ['Year']).to_hdf(str_path_wiot, key = str_key_wiot, mode = 'w', format = 'table', complevel = 9)        \n",
    "    else:\n",
    "        pd.concat({str_iter_year: ser_iter_res}, names = ['Year'])\\\n",
    "          .to_hdf(str_path_wiot, key = str_key_wiot, mode = 'r+', append = True, format = 'table', complevel = 9)\n",
    "    del ser_iter_res\n",
    "    gc.collect()\n",
    "#    break"
   ]
  },
  {
   "cell_type": "code",
   "execution_count": 8,
   "id": "8a3fe1c9-219e-4554-91fd-9de4b94f5b39",
   "metadata": {},
   "outputs": [],
   "source": [
    "#### WIOT DATA AGGREGATION & SAVING\n",
    "#\n",
    "#ser_wiot_data = pd.concat(dict_collection, names = ['Year'], axis = 0)\n",
    "#del dict_collection\n",
    "#gc.collect()\n",
    "#ser_wiot_data.to_hdf(str_path_wiot, key = str_key_wiot, mode = 'a', append = True, format = 'table', complevel = 9)"
   ]
  },
  {
   "cell_type": "code",
   "execution_count": 12,
   "id": "b8e1039a-e2ad-4d80-bef0-f63f0ae6c264",
   "metadata": {},
   "outputs": [
    {
     "data": {
      "text/plain": [
       "Year  Reporter_ISIC_ID  Reporter_Country  Partner_ISIC_ID  Partner_Country\n",
       "2014  A01               AU                A01              AU                 12924.179688\n",
       "                                                           AT                     0.010000\n",
       "                                                           BE                    14.020000\n",
       "                                                           BG                     0.000000\n",
       "                                                           BR                     0.090000\n",
       "                                                                                  ...     \n",
       "      U                 US                U                SI                     0.000000\n",
       "                                                           SE                     0.000000\n",
       "                                                           TR                     0.000000\n",
       "                                                           TW                     0.000000\n",
       "                                                           US                     0.000000\n",
       "Name: Value, Length: 5531904, dtype: float32"
      ]
     },
     "execution_count": 12,
     "metadata": {},
     "output_type": "execute_result"
    }
   ],
   "source": [
    "### TEMP\n",
    "\n",
    "pd.read_hdf(str_path_wiot, key = str_key_wiot, where = \"Year = '2014'\")"
   ]
  },
  {
   "cell_type": "code",
   "execution_count": null,
   "id": "46c93a86-bfc4-4c71-a5fe-fe46e5fa8c7b",
   "metadata": {},
   "outputs": [],
   "source": [
    "### TEMP\n",
    "\n",
    "ser_wiot_data.memory_usage()"
   ]
  },
  {
   "cell_type": "code",
   "execution_count": null,
   "id": "bca4cf94-9d9a-49ff-8553-89fad4067e47",
   "metadata": {},
   "outputs": [],
   "source": []
  }
 ],
 "metadata": {
  "kernelspec": {
   "display_name": "Python 3 (ipykernel)",
   "language": "python",
   "name": "python3"
  },
  "language_info": {
   "codemirror_mode": {
    "name": "ipython",
    "version": 3
   },
   "file_extension": ".py",
   "mimetype": "text/x-python",
   "name": "python",
   "nbconvert_exporter": "python",
   "pygments_lexer": "ipython3",
   "version": "3.7.4"
  }
 },
 "nbformat": 4,
 "nbformat_minor": 5
}
