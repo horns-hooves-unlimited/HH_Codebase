{
 "cells": [
  {
   "cell_type": "code",
   "execution_count": 1,
   "id": "16f56c22-8669-4627-bf2f-536d06fc5133",
   "metadata": {},
   "outputs": [],
   "source": [
    "### WIOT MATRICES DEMONSTRATION"
   ]
  },
  {
   "cell_type": "code",
   "execution_count": 2,
   "id": "00012dd9-876f-40b4-bd57-5073264fa364",
   "metadata": {},
   "outputs": [],
   "source": [
    "### INITIALIZATION\n",
    "\n",
    "import pandas as pd\n",
    "import numpy as np\n",
    "import os\n",
    "import gc"
   ]
  },
  {
   "cell_type": "code",
   "execution_count": 3,
   "id": "43f1bfc5-9f80-42d5-9bb8-3e9b9fd57c22",
   "metadata": {},
   "outputs": [],
   "source": [
    "### PARAMETERS\n",
    "\n",
    "### Date Range defining:\n",
    "str_year_start = '1994'\n",
    "### MultiIndex level slice constant:\n",
    "All = slice(None)\n",
    "### Commodity to Industry shares:\n",
    "str_path_unc_ind_weights_hdf = 'Data_Files/Result_Files/unc_ind_weights.h5'\n",
    "str_path_unc_ind_weights_agg_hdf = 'Data_Files/Result_Files/unc_ind_weights_agg.h5'\n",
    "str_gics_key = 'gics_io'\n",
    "### Product / Industry mapping path:\n",
    "str_path_matrix_map = 'Data_Files/Source_Files/WIOT_mapping_detailed.xlsx'\n",
    "str_sheet_matrix = 'GICS 2018'\n",
    "### Augmented bilateral export:\n",
    "str_path_export_bilateral = 'Data_Files/Source_Files/comtrade_export_bilateral.h5'\n",
    "str_key_unc_export = 'export_augmented'"
   ]
  },
  {
   "cell_type": "code",
   "execution_count": 4,
   "id": "253469f7-2ef5-4faf-a2d4-ac5da0bd9563",
   "metadata": {},
   "outputs": [],
   "source": [
    "### DEFINING COUNTRY CODES EXTRACTOR\n",
    "\n",
    "def get_country_codes(use_local_copy = False):  \n",
    "    ### In case if URL is unavailable:\n",
    "    if (use_local_copy):\n",
    "        url_country_code = 'Data_Files/Source_Files/countrycode.html'\n",
    "    ### Online extraction:\n",
    "    else:\n",
    "        url_country_code = 'https://countrycode.org/'\n",
    "    df_full_codes = pd.read_html(url_country_code, index_col = 'COUNTRY')[0]\n",
    "    df_full_codes[['ISO SHORT', 'ISO LONG']] = df_full_codes['ISO CODES'].str.split(' / ', expand = True)\n",
    "    df_result = df_full_codes[['ISO SHORT', 'ISO LONG']].sort_index()    \n",
    "    df_result.index = df_result.index.str.upper()\n",
    "    ### Results output:\n",
    "    return df_result\n",
    "\n",
    "### World Country Codes:\n",
    "df_country_codes = get_country_codes()"
   ]
  },
  {
   "cell_type": "code",
   "execution_count": 5,
   "id": "9f17a066-91cc-48b6-b00b-26b8080d9f58",
   "metadata": {},
   "outputs": [],
   "source": [
    "### DUMMY INDUSTRY RETURNS MOMENTUM GENERATION\n",
    "\n",
    "### Index of dates:\n",
    "idx_dates = pd.date_range(start = str_year_start, end = pd.to_datetime('today'), freq = 'BM')\n",
    "### List of countries:\n",
    "list_countries = df_country_codes['ISO SHORT'].to_list()# + ['WW']\n",
    "### List of GICS Industries:\n",
    "list_industries = pd.read_excel(engine = 'openpyxl', io = str_path_matrix_map, sheet_name = str_sheet_matrix, dtype = str, skiprows = 4, header = [0], \n",
    "                                usecols = [4], index_col = None).dropna().squeeze().values\n",
    "### MutiIndex creation:\n",
    "idx_momentum = pd.MultiIndex.from_product([idx_dates, list_countries, list_industries])\n",
    "### Dummy Series generation:\n",
    "ser_future_values = pd.Series(np.random.normal(0.0, 1.0, len(idx_momentum) * 2))\n",
    "ser_future_values = ser_future_values[ser_future_values.abs() <= 1.0][: len(idx_momentum)]\n",
    "ser_momentum = pd.Series(ser_future_values.values, index = idx_momentum)\n",
    "ser_momentum.index.names = ['Date', 'Importer', 'GICS_Industry_Code']\n",
    "ser_momentum.name = 'Industry_Momentum'\n",
    "ser_momentum = ser_momentum.astype('float16')"
   ]
  },
  {
   "cell_type": "code",
   "execution_count": 6,
   "id": "bf177e4e-63e1-4728-9283-522658a6736b",
   "metadata": {},
   "outputs": [
    {
     "name": "stdout",
     "output_type": "stream",
     "text": [
      "Date to work with:  2023-10-31\n",
      "Date to search in annual datasets: 2021-12-31\n"
     ]
    }
   ],
   "source": [
    "### TEMP\n",
    "\n",
    "### Looping over monthly Industry Returns Momentum dates:\n",
    "for iter_date in idx_dates[::-1]:\n",
    "    gc.collect()\n",
    "    print('Date to work with: ', iter_date.date())\n",
    "    ### Dates shifting to find nearest lagged BYearEnd:\n",
    "    dt_bm_begin = pd.tseries.offsets.BMonthBegin().rollback(iter_date)\n",
    "    dt_bm_lagged = pd.tseries.offsets.BMonthEnd().rollforward(dt_bm_begin - pd.DateOffset(months=12))\n",
    "    dt_by_lagged = pd.tseries.offsets.BYearEnd().rollback(dt_bm_lagged)\n",
    "    print('Date to search in annual datasets:', dt_by_lagged.date())  \n",
    "\n",
    "    ### Export Distribution Shares Extraction:\n",
    "    ser_ind_weights_bil = pd.read_hdf(path_or_buf = str_path_unc_ind_weights_hdf, key = str_gics_key, where = \"(Date in [dt_by_lagged])\")\\\n",
    "                            .droplevel('Date').astype('float16')\n",
    "    ser_ind_weights_agg = pd.read_hdf(path_or_buf = str_path_unc_ind_weights_agg_hdf, key = str_gics_key, where = \"(Date in [dt_by_lagged])\")\\\n",
    "                            .droplevel('Date').astype('float16')\n",
    "    ### WIOT Importers list extraction:\n",
    "    list_wiot_importers = ser_ind_weights_bil.index.levels[1].to_list()    \n",
    "    list_wiot_importers.remove('YY')\n",
    "    list_wiot_importers.remove('WW')    \n",
    "    ### Industry Returns Momentum Extraction:\n",
    "    ser_ind_mom = ser_momentum[iter_date]\n",
    "    ser_ind_mom_wiot = ser_ind_mom[list_wiot_importers]\n",
    "    ser_ind_mom_row = ser_ind_mom.loc[~ser_ind_mom.index.get_level_values('Importer').isin(list_wiot_importers)] \n",
    "    ### Adding Industry Momentum values to Export Distribution Shares:\n",
    "    df_ind_mom_wiot = ser_ind_weights_bil.to_frame().join(ser_ind_mom_wiot)\n",
    "    del ser_ind_weights_bil\n",
    "    del ser_ind_mom_wiot        \n",
    "    gc.collect()        \n",
    "    df_ind_mom_wiot = df_ind_mom_wiot.reorder_levels(['Exporter', 'Importer', 'Commodity_ID', 'Commodity_Group_Code', 'GICS_Industry_Code']).sort_index()\n",
    "    df_ind_mom_row = ser_ind_weights_agg.loc[:, 'YY'].to_frame().join(ser_ind_mom_row)\n",
    "    del ser_ind_weights_agg    \n",
    "    del ser_ind_mom_row        \n",
    "    gc.collect()        \n",
    "    df_ind_mom_row = df_ind_mom_row.reorder_levels(['Exporter', 'Importer', 'Commodity_ID', 'Commodity_Group_Code', 'GICS_Industry_Code']).sort_index()\n",
    "    df_ind_mom_all = pd.concat([df_ind_mom_row, df_ind_mom_wiot], axis = 0)  \n",
    "    df_ind_mom_all.index = df_ind_mom_all.index.set_levels(df_ind_mom_all.index.levels[1].astype('category'), level = 'Importer')\n",
    "    df_ind_mom_all.index = df_ind_mom_all.index.set_levels(df_ind_mom_all.index.levels[4].astype('category'), level = 'GICS_Industry_Code')\n",
    "    df_ind_mom_all = df_ind_mom_all.sort_index()\n",
    "    del df_ind_mom_wiot\n",
    "    del df_ind_mom_row\n",
    "    gc.collect()            \n",
    "#    ### UN Comtrade Bilateral Export Flows Extraction:\n",
    "#    ser_unc_export = pd.read_hdf(str_path_export_bilateral, key = str_key_unc_export, where = \"Date in [dt_by_lagged]\").droplevel(['Date', 'Type']).sort_index() \n",
    "#    ser_unc_export.index.names = ['Exporter', 'Importer', 'Commodity_ID']\n",
    "    \n",
    "    break"
   ]
  },
  {
   "cell_type": "code",
   "execution_count": null,
   "id": "a6134cba-36b8-49e5-a1fe-ba9d11b77818",
   "metadata": {},
   "outputs": [],
   "source": [
    "### TEMP\n",
    "\n",
    "gc.collect()\n",
    "df_group_mom_all = df_ind_mom_all.groupby(['Exporter', 'Importer', 'Commodity_ID', 'Commodity_Group_Code'], observed = True)\\\n",
    "                                 .apply(lambda df_i: df_i['Share'] * df_i['Industry_Momentum'] / df_i['Share'].sum())"
   ]
  },
  {
   "cell_type": "code",
   "execution_count": 14,
   "id": "d179a006-d563-44be-90d5-50187e0f6267",
   "metadata": {},
   "outputs": [
    {
     "data": {
      "text/plain": [
       "Share                 float16\n",
       "Industry_Momentum     float16\n",
       "GICS_Group_Code      category\n",
       "dtype: object"
      ]
     },
     "execution_count": 14,
     "metadata": {},
     "output_type": "execute_result"
    }
   ],
   "source": [
    "### TEMP\n",
    "\n",
    "gc.collect()\n",
    "df_ind_mom_all['GICS_Group_Code'] = df_ind_mom_all.index.get_level_values('GICS_Industry_Code').str[: 4].astype('category')\n",
    "#df_ind_mom_all = df_ind_mom_all.set_index('GICS_Group_Code', append = True)\n",
    "df_ind_mom_all.dtypes"
   ]
  },
  {
   "cell_type": "code",
   "execution_count": 4,
   "id": "7808709a-e185-4d0d-9dd4-f873b13def0f",
   "metadata": {},
   "outputs": [],
   "source": [
    "### DATA EXTRACTION\n",
    "\n",
    "for iter_date in [list_dates[-2]]:\n",
    "    ser_ind_weights_bil = pd.read_hdf(path_or_buf = str_path_unc_ind_weights_hdf, key = str_gics_key, where = \"(Date in [iter_date])\")#.droplevel('Date')\n",
    "    ser_ind_weights_agg = pd.read_hdf(path_or_buf = str_path_unc_ind_weights_agg_hdf, key = str_gics_key, where = \"(Date in [iter_date])\")#.droplevel('Date')  \n",
    "    ser_ind_weights = pd.concat([ser_ind_weights_bil, ser_ind_weights_agg], axis = 0).sort_index()\n",
    "    break"
   ]
  },
  {
   "cell_type": "code",
   "execution_count": 7,
   "id": "bfe7b470-a496-4ead-b772-3ce5ef8097d3",
   "metadata": {},
   "outputs": [],
   "source": [
    "### TEMP\n",
    "\n",
    "ser_ind_weights = pd.concat([ser_ind_weights_bil, ser_ind_weights_agg], axis = 0).sort_index()"
   ]
  },
  {
   "cell_type": "code",
   "execution_count": 8,
   "id": "5816c483-c5e3-4cd4-9f24-aaed0e211ddb",
   "metadata": {},
   "outputs": [
    {
     "data": {
      "text/plain": [
       "Date        Exporter  Importer  Commodity_ID  Commodity_Group_Code  GICS_Industry_Code\n",
       "2021-12-31  AT        AU        04            3020                  151030                0.006100\n",
       "                                                                    151050                0.002773\n",
       "                                                                    201030                0.001387\n",
       "                                                                    201070                0.007283\n",
       "                                                                    202020                0.009713\n",
       "                                                                                            ...   \n",
       "            WW        US        97            2520                  551020                0.000135\n",
       "                                                                    551030                0.000135\n",
       "                                                                    551050                0.000270\n",
       "                                                                    601010                0.071599\n",
       "                                                                    601020                0.035799\n",
       "Name: Share, Length: 4552542, dtype: float32"
      ]
     },
     "execution_count": 8,
     "metadata": {},
     "output_type": "execute_result"
    }
   ],
   "source": [
    "### TEMP\n",
    "\n",
    "ser_ind_weights"
   ]
  },
  {
   "cell_type": "code",
   "execution_count": null,
   "id": "3f438f8f-9f16-4115-b246-01ffd95e321a",
   "metadata": {},
   "outputs": [],
   "source": []
  }
 ],
 "metadata": {
  "kernelspec": {
   "display_name": "Python 3 (ipykernel)",
   "language": "python",
   "name": "python3"
  },
  "language_info": {
   "codemirror_mode": {
    "name": "ipython",
    "version": 3
   },
   "file_extension": ".py",
   "mimetype": "text/x-python",
   "name": "python",
   "nbconvert_exporter": "python",
   "pygments_lexer": "ipython3",
   "version": "3.7.4"
  }
 },
 "nbformat": 4,
 "nbformat_minor": 5
}
