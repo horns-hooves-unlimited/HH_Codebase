{
 "cells": [
  {
   "cell_type": "code",
   "execution_count": 1,
   "id": "52789805-c80c-4d93-b746-57f3e2f7064b",
   "metadata": {},
   "outputs": [],
   "source": [
    "### WIOT MATRICES CONVERTATION"
   ]
  },
  {
   "cell_type": "code",
   "execution_count": 2,
   "id": "80e16ab8-be40-4f3d-b489-d977e3cfed6b",
   "metadata": {},
   "outputs": [],
   "source": [
    "### INITIALIZATION\n",
    "\n",
    "import pandas as pd\n",
    "import numpy as np\n",
    "import os\n",
    "import gc"
   ]
  },
  {
   "cell_type": "code",
   "execution_count": 3,
   "id": "2366151b-554f-4722-bb56-f5b57cd57464",
   "metadata": {},
   "outputs": [
    {
     "name": "stdout",
     "output_type": "stream",
     "text": [
      "python version:  3.7.4\n",
      "numpy version:  1.17.2\n",
      "pandas version:  0.25.3\n"
     ]
    }
   ],
   "source": [
    "### RUN EVERY TIME: VERSION CONTROL\n",
    "\n",
    "from platform import python_version\n",
    "print('python version: ', python_version())\n",
    "print('numpy version: ', np.__version__)\n",
    "print('pandas version: ', pd.__version__)"
   ]
  },
  {
   "cell_type": "code",
   "execution_count": 4,
   "id": "aa00a819-0caf-4f30-aa1a-5428518bc069",
   "metadata": {},
   "outputs": [],
   "source": [
    "### PARAMETERS\n",
    "\n",
    "### MultiIndex level slice constant:\n",
    "All = slice(None)\n",
    "### NA for MS Excel files:\n",
    "list_na_excel_values = ['', '#N/A', '#N/A N/A', '#NA', '-1.#IND', '-1.#QNAN', '-NaN', '-nan', '1.#IND', '1.#QNAN', 'N/A', 'NULL', 'NaN', 'n/a', 'nan', 'null',\n",
    "                        '#N/A Requesting Data...', '#N/A Invalid Security', '#N/A Field Not Applicable']\n",
    "### Industry mapping path:\n",
    "str_path_industry_map = 'Data_Files/Source_Files/WIOT_to_GICS_mapping.xlsx'\n",
    "str_sheet_mapping = 'WIOT Mapping'\n",
    "str_sheet_full_gics = 'GICS List'\n",
    "### Path to original WIOT Tables:\n",
    "str_path_wiot_source = 'Data_Files/Source_Files/WIOT'\n",
    "### Downloaded and aggregated shares:\n",
    "str_path_totals_hdf = 'Data_Files/Result_Files/gics_totals_share.h5'\n",
    "str_path_flows_hdf = 'Data_Files/Result_Files/gics_flows_share.h5'\n",
    "str_gics_key = 'gics_share'"
   ]
  },
  {
   "cell_type": "code",
   "execution_count": 5,
   "id": "0be936ac-1bed-4e8a-a60e-dadc88cdc8cc",
   "metadata": {},
   "outputs": [],
   "source": [
    "### WIOD TO GICS INDUSTRY MAPPING\n",
    "\n",
    "dict_industry_mapper = pd.read_excel(engine = 'openpyxl', io = str_path_industry_map, sheet_name = str_sheet_mapping, header = [0], index_col = 0)\\\n",
    "                         .squeeze().astype(str).to_dict()\n",
    "dict_gics_sub = pd.read_excel(engine = 'openpyxl', io = str_path_industry_map, sheet_name = str_sheet_full_gics, header = [0], index_col = None).astype(str)\\\n",
    "                  .replace({'None': None}).set_index('Industry Group').squeeze().to_dict()"
   ]
  },
  {
   "cell_type": "code",
   "execution_count": 6,
   "id": "585ae21f-bcdb-4a3a-a790-3d20137008cb",
   "metadata": {},
   "outputs": [],
   "source": [
    "### DEFINING COUNTRY CODES EXTRACTOR\n",
    "\n",
    "def get_country_codes(use_local_copy = False):  \n",
    "    ### In case if URL is unavailable:\n",
    "    if (use_local_copy):\n",
    "        url_country_code = 'Data_Files/Source_Files/countrycode.html'\n",
    "    ### Online extraction:\n",
    "    else:\n",
    "        url_country_code = 'https://countrycode.org/'\n",
    "    df_full_codes = pd.read_html(url_country_code, index_col = 'COUNTRY')[0]\n",
    "    df_full_codes[['ISO SHORT', 'ISO LONG']] = df_full_codes['ISO CODES'].str.split(' / ', expand = True)\n",
    "    df_result = df_full_codes[['ISO SHORT', 'ISO LONG']].sort_index()    \n",
    "    df_result.index = df_result.index.str.upper()\n",
    "    ### Results output:\n",
    "    return df_result\n",
    "\n",
    "### World Country Codes:\n",
    "df_country_codes = get_country_codes()\n",
    "dict_ison_mapper = df_country_codes.set_index('ISO LONG').squeeze().to_dict()\n",
    "dict_ison_mapper['ROW'] = 'YY'"
   ]
  },
  {
   "cell_type": "code",
   "execution_count": 80,
   "id": "5ea4dad6-3193-4969-b0db-b2c3cf7c4843",
   "metadata": {},
   "outputs": [
    {
     "name": "stdout",
     "output_type": "stream",
     "text": [
      "2000\n"
     ]
    }
   ],
   "source": [
    "### DATA TABLES LOADING\n",
    "\n",
    "dict_flows = {}\n",
    "dict_totals = {}\n",
    "for year_matrix_csv in os.listdir(str_path_wiot_source):\n",
    "#for year_matrix_csv in os.listdir(str_path_wiot_source)[::-1]:    \n",
    "#for year_matrix_csv in [os.listdir(str_path_wiot_source)[0]] + [os.listdir(str_path_wiot_source)[-1]]:\n",
    "    gc.collect()\n",
    "#    dt_year_end = (pd.to_datetime(year_matrix_csv[4 : 8]) + pd.offsets.BYearEnd()).date()\n",
    "    str_year_num = year_matrix_csv[4 : 8]\n",
    "    print(str_year_num)\n",
    "    df_year_raw = pd.read_csv(str_path_wiot_source + '/' + year_matrix_csv, sep = ';', index_col = [0, 1, 2, 3], skiprows = [0, 1, 2, 3], header = [0, 1], \n",
    "                                        na_values = list_na_excel_values, keep_default_na = False)\n",
    "    ser_year_raw = df_year_raw.droplevel([0, 1]).stack([0, 1]).astype('int32')\n",
    "    ser_year_raw.name = 'Value'\n",
    "    ser_year_raw.index.names = ['Supplier_Country_Long', 'Supplier_Industry_r_named', 'User_Country_Long', 'User_Industry_c_named']\n",
    "    df_year_typed = ser_year_raw.reset_index()\n",
    "    del df_year_raw\n",
    "    del ser_year_raw\n",
    "    gc.collect()\n",
    "    df_year_typed = df_year_typed[df_year_typed['Supplier_Country_Long'].isin(df_country_codes['ISO LONG'].to_list() + ['ROW']) & \n",
    "                                  df_year_typed['User_Country_Long'].isin(df_country_codes['ISO LONG'].to_list() + ['ROW'])]\n",
    "    df_year_typed['Supplier_Country'] = df_year_typed['Supplier_Country_Long'].replace(dict_ison_mapper)\n",
    "    df_year_typed['User_Country'] = df_year_typed['User_Country_Long'].replace(dict_ison_mapper)    \n",
    "    df_year_typed['User_Industry_r_named'] = df_year_typed['User_Industry_c_named'].str.replace('c', 'r')\n",
    "    df_year_typed = df_year_typed[df_year_typed['Supplier_Industry_r_named'].isin(dict_industry_mapper.keys()) & \n",
    "                                  df_year_typed['User_Industry_r_named'].isin(dict_industry_mapper.keys())]    \n",
    "    df_year_typed['User_Industry'] = df_year_typed['User_Industry_r_named'].replace(dict_industry_mapper)\n",
    "    df_year_typed['Supplier_Industry'] = df_year_typed['Supplier_Industry_r_named'].replace(dict_industry_mapper)\n",
    "    df_year_typed['Supplier_Country'] = df_year_typed['Supplier_Country'].astype('category')\n",
    "    df_year_typed['User_Country'] = df_year_typed['User_Country'].astype('category')\n",
    "    df_year_typed['User_Industry'] = df_year_typed['User_Industry'].astype('category')\n",
    "    df_year_typed['Supplier_Industry'] = df_year_typed['Supplier_Industry'].astype('category')\n",
    "    df_year_typed = df_year_typed[['Supplier_Country', 'User_Country', 'Supplier_Industry', 'User_Industry', 'Value']]\n",
    "    ser_year_gics = df_year_typed.groupby(['Supplier_Country', 'User_Country', 'Supplier_Industry', 'User_Industry']).sum().squeeze().sort_index()\n",
    "    ser_flow_share = ser_year_gics.groupby(['Supplier_Country', 'User_Country', 'Supplier_Industry'])\\\n",
    "                                  .apply(lambda ser_group: ser_group / ser_group.sum()).sort_index()\n",
    "    ser_year_total = ser_year_gics.groupby(['Supplier_Industry', 'User_Industry']).sum()\n",
    "    ser_total_share = ser_year_total.groupby('Supplier_Industry').apply(lambda ser_group: ser_group / ser_group.sum()).sort_index()\n",
    "    dict_flows[str_year_num] = ser_flow_share\n",
    "    dict_totals[str_year_num] = ser_total_share    \n",
    "    break"
   ]
  },
  {
   "cell_type": "code",
   "execution_count": 11,
   "id": "789045da-27e8-49c6-9c3b-00c25cb48736",
   "metadata": {},
   "outputs": [],
   "source": [
    "### DATA AGGREGATION & SAVING\n",
    "\n",
    "gc.collect()\n",
    "\n",
    "ser_totals = pd.concat(dict_totals, names = ['Date'])\n",
    "ser_flows = pd.concat(dict_flows, names = ['Date'])\n",
    "\n",
    "#ser_totals.to_hdf(str_path_totals_hdf, key = str_gics_key, mode = 'w', format = 'table', complevel = 9)\n",
    "#ser_flows.to_hdf(str_path_flows_hdf, key = str_gics_key, mode = 'w', format = 'table', complevel = 9)"
   ]
  },
  {
   "cell_type": "code",
   "execution_count": 7,
   "id": "0c3667da-3a2c-400f-9b00-52b23e821807",
   "metadata": {},
   "outputs": [
    {
     "data": {
      "text/plain": [
       "Date  Supplier_Country  User_Country  Supplier_Industry  User_Industry\n",
       "2014  AT                AT            1010               1010             0.021919\n",
       "                                                         1510             0.202607\n",
       "                                                         2010             0.123223\n",
       "                                                         2020             0.045616\n",
       "                                                         2030             0.267773\n",
       "                                                                            ...   \n",
       "      YY                YY            6010               5010             0.024462\n",
       "                                                         5020             0.001618\n",
       "                                                         5510             0.003282\n",
       "                                                         6010             0.053618\n",
       "                                                         9999             0.000000\n",
       "Name: Value, Length: 437892, dtype: float64"
      ]
     },
     "execution_count": 7,
     "metadata": {},
     "output_type": "execute_result"
    }
   ],
   "source": [
    "### DATA LOADING\n",
    "\n",
    "gc.collect()\n",
    "\n",
    "ser_totals = pd.read_hdf(str_path_totals_hdf, key = str_gics_key)\n",
    "ser_flows = pd.read_hdf(str_path_flows_hdf, key = str_gics_key, where = \"Date in ['2000', '2014']\")"
   ]
  },
  {
   "cell_type": "code",
   "execution_count": 10,
   "id": "7062cd2e-3b8a-48b5-b397-fbd98703e3e5",
   "metadata": {},
   "outputs": [
    {
     "name": "stdout",
     "output_type": "stream",
     "text": [
      "2014\n"
     ]
    }
   ],
   "source": [
    "### TEST: COMPARISION WITH ORIGINAL RESULTS\n",
    "\n",
    "for year_matrix_csv in os.listdir(str_path_wiot_source)[::-1]:\n",
    "    gc.collect()\n",
    "#    dt_year_end = (pd.to_datetime(year_matrix_csv[4 : 8]) + pd.offsets.BYearEnd()).date()\n",
    "    str_year_num = year_matrix_csv[4 : 8]\n",
    "    print(str_year_num)\n",
    "    df_year_raw = pd.read_csv(str_path_wiot_source + '/' + year_matrix_csv, sep = ';', index_col = [0, 1, 2, 3], skiprows = [0, 1, 2, 3], header = [0, 1], \n",
    "                                        na_values = list_na_excel_values, keep_default_na = False)\n",
    "    ser_year_raw = df_year_raw.droplevel([0, 1]).stack([0, 1]).astype('int32')\n",
    "    ser_year_raw.name = 'Value'\n",
    "    ser_year_raw.index.names = ['Supplier_Country_Long', 'Supplier_Industry_r_named', 'User_Country_Long', 'User_Industry_c_named']\n",
    "    df_year_typed = ser_year_raw.reset_index()\n",
    "    del df_year_raw\n",
    "    del ser_year_raw\n",
    "    gc.collect()\n",
    "    df_year_typed = df_year_typed[df_year_typed['Supplier_Country_Long'].isin(df_country_codes['ISO LONG'].to_list() + ['ROW']) & \n",
    "                                  df_year_typed['User_Country_Long'].isin(df_country_codes['ISO LONG'].to_list() + ['ROW'])]\n",
    "    df_year_typed['Supplier_Country'] = df_year_typed['Supplier_Country_Long'].replace(dict_ison_mapper)\n",
    "    df_year_typed['User_Country'] = df_year_typed['User_Country_Long'].replace(dict_ison_mapper)    \n",
    "    df_year_typed['User_Industry_r_named'] = df_year_typed['User_Industry_c_named'].str.replace('c', 'r')\n",
    "    df_year_typed = df_year_typed[df_year_typed['Supplier_Industry_r_named'].isin(dict_industry_mapper.keys()) & \n",
    "                                  df_year_typed['User_Industry_r_named'].isin(dict_industry_mapper.keys())]     \n",
    "    break"
   ]
  },
  {
   "cell_type": "code",
   "execution_count": 11,
   "id": "ac198968-7a11-4de4-9e89-abfdd21fa15a",
   "metadata": {},
   "outputs": [
    {
     "name": "stdout",
     "output_type": "stream",
     "text": [
      "Supplier_Industry  User_Industry\n",
      "1010               1010             0.106129\n",
      "                   1510             0.266885\n",
      "                   2010             0.142933\n",
      "                   2020             0.038144\n",
      "                   2030             0.234523\n",
      "                                      ...   \n",
      "9999               5010             0.044650\n",
      "                   5020             0.041054\n",
      "                   5510             0.013160\n",
      "                   6010             0.051007\n",
      "                   9999             0.001555\n",
      "Name: Value, Length: 441, dtype: float64\n"
     ]
    },
    {
     "data": {
      "text/plain": [
       "0.2668847964453599"
      ]
     },
     "execution_count": 11,
     "metadata": {},
     "output_type": "execute_result"
    }
   ],
   "source": [
    "### TEST: COMPARISION WITH ORIGINAL RESULTS\n",
    "\n",
    "print(ser_totals['2014'])\n",
    "\n",
    "df_test = df_year_typed[df_year_typed['Supplier_Industry_r_named'] == 'r10']\\\n",
    "                .drop(['Supplier_Country_Long', 'User_Country_Long', 'Supplier_Industry_r_named'], axis = 1)\n",
    "ser_test = df_test.groupby(['User_Industry_c_named'])['Value'].sum()\n",
    "ser_test = ser_test / ser_test.sum()\n",
    "ser_test[['c2', 'c4', 'c7', 'c8', 'c11', 'c13', 'c14', 'c15', 'c16']].sum()"
   ]
  },
  {
   "cell_type": "code",
   "execution_count": 13,
   "id": "965a6969-65bc-4591-bdb2-ed7bce8457e3",
   "metadata": {},
   "outputs": [
    {
     "data": {
      "text/plain": [
       "Supplier_Industry\n",
       "9999    0.875926\n",
       "5510    0.888830\n",
       "4010    0.899005\n",
       "4510    0.924310\n",
       "1010    0.951680\n",
       "5010    0.974731\n",
       "6010    0.977956\n",
       "2530    0.978421\n",
       "5020    0.981946\n",
       "3520    0.983347\n",
       "4020    0.984673\n",
       "2020    0.985048\n",
       "4030    0.991998\n",
       "1510    0.994211\n",
       "2030    0.994339\n",
       "2550    0.995379\n",
       "2510    0.995824\n",
       "2010    0.996508\n",
       "3510    0.997390\n",
       "2520    0.998495\n",
       "3020    0.998793\n",
       "Name: 2014, dtype: float64"
      ]
     },
     "execution_count": 13,
     "metadata": {},
     "output_type": "execute_result"
    }
   ],
   "source": [
    "### TEMP\n",
    "\n",
    "gc.collect()\n",
    "\n",
    "ser_totals.unstack('Date').groupby('Supplier_Industry').corr().loc[(All, '2000'), '2014'].droplevel('Date').sort_values()"
   ]
  },
  {
   "cell_type": "code",
   "execution_count": 26,
   "id": "8637c8e4-bb74-46d6-8824-e14ee5942280",
   "metadata": {},
   "outputs": [],
   "source": [
    "### TEST: USAGE BY COUNTRY\n",
    "\n",
    "gc.collect()\n",
    "\n",
    "#ser_us_usage = ser_flows.loc[:, :, 'US', :, :]\n",
    "#ser_us_usage.unstack('Date').groupby([''])\n",
    "ser_flows_corr = ser_flows.unstack('Date').groupby(['Supplier_Country', 'Supplier_Industry', 'User_Country']).corr()\\\n",
    "                         .loc[(All, All, All, '2000'), '2014'].droplevel(-1).dropna().squeeze()"
   ]
  },
  {
   "cell_type": "code",
   "execution_count": 32,
   "id": "a7d7cabf-536b-43ba-9145-dcf7210cbf66",
   "metadata": {},
   "outputs": [
    {
     "data": {
      "text/plain": [
       "Supplier_Industry\n",
       "1010    0.863275\n",
       "1510    0.943401\n",
       "2010    0.975733\n",
       "2020    0.837579\n",
       "2030    0.930328\n",
       "2510    0.973768\n",
       "2520    0.718107\n",
       "2530    0.741221\n",
       "2550    0.856330\n",
       "3020    0.956410\n",
       "3510    0.774251\n",
       "3520    0.957932\n",
       "4010    0.751328\n",
       "4020    0.791415\n",
       "4030    0.958393\n",
       "4510    0.768470\n",
       "5010    0.756744\n",
       "5020    0.664567\n",
       "5510    0.801528\n",
       "6010    0.925030\n",
       "9999    0.643010\n",
       "Name: 2014, dtype: float64"
      ]
     },
     "metadata": {},
     "output_type": "display_data"
    },
    {
     "data": {
      "text/plain": [
       "Supplier_Industry\n",
       "1010    0.854463\n",
       "1510    0.935912\n",
       "2010    0.892659\n",
       "2020    0.795444\n",
       "2030    0.793187\n",
       "2510    0.889623\n",
       "2520    0.857885\n",
       "2530    0.449694\n",
       "2550    0.588704\n",
       "3020    0.877410\n",
       "3510    0.618306\n",
       "3520    0.805080\n",
       "4010    0.504852\n",
       "4020    0.143882\n",
       "4030    0.538165\n",
       "4510    0.423300\n",
       "5010    0.718640\n",
       "5020    0.607631\n",
       "5510    0.831504\n",
       "6010    0.256072\n",
       "Name: 2014, dtype: float64"
      ]
     },
     "metadata": {},
     "output_type": "display_data"
    }
   ],
   "source": [
    "### TEST: USAGE BY COUNTRY\n",
    "\n",
    "gc.collect()\n",
    "\n",
    "display(ser_flows_corr[:, :, 'US'].groupby('Supplier_Industry').mean())\n",
    "display(ser_flows_corr[:, :, 'CN'].groupby('Supplier_Industry').mean())"
   ]
  },
  {
   "cell_type": "code",
   "execution_count": 97,
   "id": "b8ed1564-0181-435e-be86-211d70d923a1",
   "metadata": {},
   "outputs": [],
   "source": [
    "### SUPPLY DISTRIBUTION:\n",
    "\n",
    "str_supplier = 'BY'\n",
    "str_user = 'KR'\n",
    "str_export_industry = '9999'\n",
    "str_year = '2010'\n",
    "#def supply_distrib(str_supplier, str_user, str_export_industry, str_year = '2014'):\n",
    "if True:\n",
    "    if str_export_industry not in dict_industry_mapper.values():\n",
    "        str_export_industry = dict_gics_sub[str_export_industry]\n",
    "    ser_flow = pd.read_hdf(str_path_flows_hdf, key = str_gics_key, where = \"(Date in [str_year])\").droplevel('Date')"
   ]
  },
  {
   "cell_type": "code",
   "execution_count": 99,
   "id": "6fc868cc-e858-4438-a9a4-6937a37bb000",
   "metadata": {},
   "outputs": [
    {
     "ename": "IndexingError",
     "evalue": "Too many indexers",
     "output_type": "error",
     "traceback": [
      "\u001b[1;31m---------------------------------------------------------------------------\u001b[0m",
      "\u001b[1;31mIndexingError\u001b[0m                             Traceback (most recent call last)",
      "\u001b[1;32m~\\AppData\\Local\\Temp/ipykernel_18680/2352000348.py\u001b[0m in \u001b[0;36m<module>\u001b[1;34m\u001b[0m\n\u001b[0;32m      1\u001b[0m \u001b[1;31m### TEMP\u001b[0m\u001b[1;33m\u001b[0m\u001b[1;33m\u001b[0m\u001b[1;33m\u001b[0m\u001b[0m\n\u001b[0;32m      2\u001b[0m \u001b[1;33m\u001b[0m\u001b[0m\n\u001b[1;32m----> 3\u001b[1;33m \u001b[0mser_flow\u001b[0m\u001b[1;33m.\u001b[0m\u001b[0mloc\u001b[0m\u001b[1;33m[\u001b[0m\u001b[0mstr_supplier\u001b[0m\u001b[1;33m,\u001b[0m \u001b[0mstr_user\u001b[0m\u001b[1;33m,\u001b[0m \u001b[0mstr_export_industry\u001b[0m\u001b[1;33m]\u001b[0m\u001b[1;33m\u001b[0m\u001b[1;33m\u001b[0m\u001b[0m\n\u001b[0m",
      "\u001b[1;32mC:\\ProgramData\\Anaconda3\\lib\\site-packages\\pandas\\core\\indexing.py\u001b[0m in \u001b[0;36m__getitem__\u001b[1;34m(self, key)\u001b[0m\n\u001b[0;32m   1416\u001b[0m                 \u001b[1;32mexcept\u001b[0m \u001b[1;33m(\u001b[0m\u001b[0mKeyError\u001b[0m\u001b[1;33m,\u001b[0m \u001b[0mIndexError\u001b[0m\u001b[1;33m,\u001b[0m \u001b[0mAttributeError\u001b[0m\u001b[1;33m)\u001b[0m\u001b[1;33m:\u001b[0m\u001b[1;33m\u001b[0m\u001b[1;33m\u001b[0m\u001b[0m\n\u001b[0;32m   1417\u001b[0m                     \u001b[1;32mpass\u001b[0m\u001b[1;33m\u001b[0m\u001b[1;33m\u001b[0m\u001b[0m\n\u001b[1;32m-> 1418\u001b[1;33m             \u001b[1;32mreturn\u001b[0m \u001b[0mself\u001b[0m\u001b[1;33m.\u001b[0m\u001b[0m_getitem_tuple\u001b[0m\u001b[1;33m(\u001b[0m\u001b[0mkey\u001b[0m\u001b[1;33m)\u001b[0m\u001b[1;33m\u001b[0m\u001b[1;33m\u001b[0m\u001b[0m\n\u001b[0m\u001b[0;32m   1419\u001b[0m         \u001b[1;32melse\u001b[0m\u001b[1;33m:\u001b[0m\u001b[1;33m\u001b[0m\u001b[1;33m\u001b[0m\u001b[0m\n\u001b[0;32m   1420\u001b[0m             \u001b[1;31m# we by definition only have the 0th axis\u001b[0m\u001b[1;33m\u001b[0m\u001b[1;33m\u001b[0m\u001b[1;33m\u001b[0m\u001b[0m\n",
      "\u001b[1;32mC:\\ProgramData\\Anaconda3\\lib\\site-packages\\pandas\\core\\indexing.py\u001b[0m in \u001b[0;36m_getitem_tuple\u001b[1;34m(self, tup)\u001b[0m\n\u001b[0;32m    808\u001b[0m \u001b[1;33m\u001b[0m\u001b[0m\n\u001b[0;32m    809\u001b[0m         \u001b[1;31m# no multi-index, so validate all of the indexers\u001b[0m\u001b[1;33m\u001b[0m\u001b[1;33m\u001b[0m\u001b[1;33m\u001b[0m\u001b[0m\n\u001b[1;32m--> 810\u001b[1;33m         \u001b[0mself\u001b[0m\u001b[1;33m.\u001b[0m\u001b[0m_has_valid_tuple\u001b[0m\u001b[1;33m(\u001b[0m\u001b[0mtup\u001b[0m\u001b[1;33m)\u001b[0m\u001b[1;33m\u001b[0m\u001b[1;33m\u001b[0m\u001b[0m\n\u001b[0m\u001b[0;32m    811\u001b[0m \u001b[1;33m\u001b[0m\u001b[0m\n\u001b[0;32m    812\u001b[0m         \u001b[1;31m# ugly hack for GH #836\u001b[0m\u001b[1;33m\u001b[0m\u001b[1;33m\u001b[0m\u001b[1;33m\u001b[0m\u001b[0m\n",
      "\u001b[1;32mC:\\ProgramData\\Anaconda3\\lib\\site-packages\\pandas\\core\\indexing.py\u001b[0m in \u001b[0;36m_has_valid_tuple\u001b[1;34m(self, key)\u001b[0m\n\u001b[0;32m    231\u001b[0m         \u001b[1;32mfor\u001b[0m \u001b[0mi\u001b[0m\u001b[1;33m,\u001b[0m \u001b[0mk\u001b[0m \u001b[1;32min\u001b[0m \u001b[0menumerate\u001b[0m\u001b[1;33m(\u001b[0m\u001b[0mkey\u001b[0m\u001b[1;33m)\u001b[0m\u001b[1;33m:\u001b[0m\u001b[1;33m\u001b[0m\u001b[1;33m\u001b[0m\u001b[0m\n\u001b[0;32m    232\u001b[0m             \u001b[1;32mif\u001b[0m \u001b[0mi\u001b[0m \u001b[1;33m>=\u001b[0m \u001b[0mself\u001b[0m\u001b[1;33m.\u001b[0m\u001b[0mobj\u001b[0m\u001b[1;33m.\u001b[0m\u001b[0mndim\u001b[0m\u001b[1;33m:\u001b[0m\u001b[1;33m\u001b[0m\u001b[1;33m\u001b[0m\u001b[0m\n\u001b[1;32m--> 233\u001b[1;33m                 \u001b[1;32mraise\u001b[0m \u001b[0mIndexingError\u001b[0m\u001b[1;33m(\u001b[0m\u001b[1;34m\"Too many indexers\"\u001b[0m\u001b[1;33m)\u001b[0m\u001b[1;33m\u001b[0m\u001b[1;33m\u001b[0m\u001b[0m\n\u001b[0m\u001b[0;32m    234\u001b[0m             \u001b[1;32mtry\u001b[0m\u001b[1;33m:\u001b[0m\u001b[1;33m\u001b[0m\u001b[1;33m\u001b[0m\u001b[0m\n\u001b[0;32m    235\u001b[0m                 \u001b[0mself\u001b[0m\u001b[1;33m.\u001b[0m\u001b[0m_validate_key\u001b[0m\u001b[1;33m(\u001b[0m\u001b[0mk\u001b[0m\u001b[1;33m,\u001b[0m \u001b[0mi\u001b[0m\u001b[1;33m)\u001b[0m\u001b[1;33m\u001b[0m\u001b[1;33m\u001b[0m\u001b[0m\n",
      "\u001b[1;31mIndexingError\u001b[0m: Too many indexers"
     ]
    }
   ],
   "source": [
    "### TEMP\n",
    "\n",
    "ser_flow[str_supplier, str_user, str_export_industry]"
   ]
  },
  {
   "cell_type": "code",
   "execution_count": null,
   "id": "39f04189-7b25-4a3a-b020-c4ebf1e23aa6",
   "metadata": {},
   "outputs": [],
   "source": []
  }
 ],
 "metadata": {
  "kernelspec": {
   "display_name": "Python 3 (ipykernel)",
   "language": "python",
   "name": "python3"
  },
  "language_info": {
   "codemirror_mode": {
    "name": "ipython",
    "version": 3
   },
   "file_extension": ".py",
   "mimetype": "text/x-python",
   "name": "python",
   "nbconvert_exporter": "python",
   "pygments_lexer": "ipython3",
   "version": "3.7.4"
  }
 },
 "nbformat": 4,
 "nbformat_minor": 5
}
