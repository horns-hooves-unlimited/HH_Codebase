{
 "cells": [
  {
   "cell_type": "code",
   "execution_count": 1,
   "id": "52789805-c80c-4d93-b746-57f3e2f7064b",
   "metadata": {},
   "outputs": [],
   "source": [
    "### WIOT MATRICES CONVERTATION"
   ]
  },
  {
   "cell_type": "code",
   "execution_count": 2,
   "id": "80e16ab8-be40-4f3d-b489-d977e3cfed6b",
   "metadata": {},
   "outputs": [],
   "source": [
    "### INITIALIZATION\n",
    "\n",
    "import pandas as pd\n",
    "import numpy as np\n",
    "import os\n",
    "import gc"
   ]
  },
  {
   "cell_type": "code",
   "execution_count": 3,
   "id": "2366151b-554f-4722-bb56-f5b57cd57464",
   "metadata": {},
   "outputs": [
    {
     "name": "stdout",
     "output_type": "stream",
     "text": [
      "python version:  3.7.4\n",
      "numpy version:  1.17.2\n",
      "pandas version:  0.25.3\n"
     ]
    }
   ],
   "source": [
    "### RUN EVERY TIME: VERSION CONTROL\n",
    "\n",
    "from platform import python_version\n",
    "print('python version: ', python_version())\n",
    "print('numpy version: ', np.__version__)\n",
    "print('pandas version: ', pd.__version__)"
   ]
  },
  {
   "cell_type": "code",
   "execution_count": 4,
   "id": "aa00a819-0caf-4f30-aa1a-5428518bc069",
   "metadata": {},
   "outputs": [],
   "source": [
    "### PARAMETERS\n",
    "\n",
    "### MultiIndex level slice constant:\n",
    "All = slice(None)\n",
    "### NA for MS Excel files:\n",
    "list_na_excel_values = ['', '#N/A', '#N/A N/A', '#NA', '-1.#IND', '-1.#QNAN', '-NaN', '-nan', '1.#IND', '1.#QNAN', 'N/A', 'NULL', 'NaN', 'n/a', 'nan', 'null',\n",
    "                        '#N/A Requesting Data...', '#N/A Invalid Security', '#N/A Field Not Applicable']\n",
    "### Industry mapping path:\n",
    "str_path_industry_map = 'Data_Files/Source_Files/WIOT_to_GICS_mapping.xlsx'\n",
    "str_sheet_mapping = 'WIOT Mapping'\n",
    "str_sheet_full_gics = 'GICS List'\n",
    "### Path to original WIOT Tables:\n",
    "str_path_wiot_source = 'Data_Files/Source_Files/WIOT'\n",
    "### Downloaded and aggregated shares:\n",
    "str_path_gics_hdf = 'Data_Files/Result_Files/gics_flows_value.h5'\n",
    "str_path_flows_hdf = 'Data_Files/Result_Files/gics_flows_share.h5'\n",
    "str_path_country_hdf = 'Data_Files/Result_Files/gics_country_share.h5'\n",
    "str_path_world_hdf = 'Data_Files/Result_Files/gics_world_share.h5'\n",
    "str_gics_key = 'gics_io'"
   ]
  },
  {
   "cell_type": "code",
   "execution_count": 5,
   "id": "0be936ac-1bed-4e8a-a60e-dadc88cdc8cc",
   "metadata": {},
   "outputs": [],
   "source": [
    "### WIOD TO GICS INDUSTRY MAPPING\n",
    "\n",
    "dict_industry_mapper = pd.read_excel(engine = 'openpyxl', io = str_path_industry_map, sheet_name = str_sheet_mapping, header = [0], index_col = 0)\\\n",
    "                         .squeeze().astype(str).to_dict()\n",
    "dict_gics_sub = pd.read_excel(engine = 'openpyxl', io = str_path_industry_map, sheet_name = str_sheet_full_gics, header = [0], index_col = None).astype(str)\\\n",
    "                  .replace({'None': None}).set_index('Industry Group').squeeze().to_dict()"
   ]
  },
  {
   "cell_type": "code",
   "execution_count": 6,
   "id": "585ae21f-bcdb-4a3a-a790-3d20137008cb",
   "metadata": {},
   "outputs": [],
   "source": [
    "### DEFINING COUNTRY CODES EXTRACTOR\n",
    "\n",
    "def get_country_codes(use_local_copy = False):  \n",
    "    ### In case if URL is unavailable:\n",
    "    if (use_local_copy):\n",
    "        url_country_code = 'Data_Files/Source_Files/countrycode.html'\n",
    "    ### Online extraction:\n",
    "    else:\n",
    "        url_country_code = 'https://countrycode.org/'\n",
    "    df_full_codes = pd.read_html(url_country_code, index_col = 'COUNTRY')[0]\n",
    "    df_full_codes[['ISO SHORT', 'ISO LONG']] = df_full_codes['ISO CODES'].str.split(' / ', expand = True)\n",
    "    df_result = df_full_codes[['ISO SHORT', 'ISO LONG']].sort_index()    \n",
    "    df_result.index = df_result.index.str.upper()\n",
    "    ### Results output:\n",
    "    return df_result\n",
    "\n",
    "### World Country Codes:\n",
    "df_country_codes = get_country_codes()\n",
    "dict_ison_mapper = df_country_codes.set_index('ISO LONG').squeeze().to_dict()\n",
    "dict_ison_mapper['ROW'] = 'YY'"
   ]
  },
  {
   "cell_type": "code",
   "execution_count": null,
   "id": "5ea4dad6-3193-4969-b0db-b2c3cf7c4843",
   "metadata": {},
   "outputs": [],
   "source": [
    "### DATA TABLES LOADING & CONVERTATION\n",
    "\n",
    "dict_flows = {}\n",
    "#for year_matrix_csv in os.listdir(str_path_wiot_source):\n",
    "for year_matrix_csv in os.listdir(str_path_wiot_source)[::-1]:    \n",
    "#for year_matrix_csv in [os.listdir(str_path_wiot_source)[0]] + [os.listdir(str_path_wiot_source)[-1]]:\n",
    "    gc.collect()\n",
    "#    dt_year_end = (pd.to_datetime(year_matrix_csv[4 : 8]) + pd.offsets.BYearEnd()).date()\n",
    "    str_year_num = year_matrix_csv[4 : 8]\n",
    "    print(str_year_num)\n",
    "    df_year_raw = pd.read_csv(str_path_wiot_source + '/' + year_matrix_csv, sep = ';', index_col = [0, 1, 2, 3], skiprows = [0, 1, 2, 3], header = [0, 1], \n",
    "                                        na_values = list_na_excel_values, keep_default_na = False)\n",
    "    ser_year_raw = df_year_raw.droplevel([0, 1]).stack([0, 1]).astype('int32')\n",
    "    ser_year_raw.name = 'Value'\n",
    "    ser_year_raw.index.names = ['Supplier_Country_Long', 'Supplier_Industry_r_named', 'User_Country_Long', 'User_Industry_c_named']\n",
    "    df_year_typed = ser_year_raw.reset_index()\n",
    "    del df_year_raw\n",
    "    del ser_year_raw\n",
    "    gc.collect()\n",
    "    df_year_typed = df_year_typed[df_year_typed['Supplier_Country_Long'].isin(df_country_codes['ISO LONG'].to_list() + ['ROW']) & \n",
    "                                  df_year_typed['User_Country_Long'].isin(df_country_codes['ISO LONG'].to_list() + ['ROW'])]\n",
    "    df_year_typed['Supplier_Country'] = df_year_typed['Supplier_Country_Long'].replace(dict_ison_mapper)\n",
    "    df_year_typed['User_Country'] = df_year_typed['User_Country_Long'].replace(dict_ison_mapper)    \n",
    "    df_year_typed['User_Industry_r_named'] = df_year_typed['User_Industry_c_named'].str.replace('c', 'r')\n",
    "    df_year_typed = df_year_typed[df_year_typed['Supplier_Industry_r_named'].isin(dict_industry_mapper.keys()) & \n",
    "                                  df_year_typed['User_Industry_r_named'].isin(dict_industry_mapper.keys())]    \n",
    "    df_year_typed['User_Industry'] = df_year_typed['User_Industry_r_named'].replace(dict_industry_mapper)\n",
    "    df_year_typed['Supplier_Industry'] = df_year_typed['Supplier_Industry_r_named'].replace(dict_industry_mapper)\n",
    "    df_year_typed['Supplier_Country'] = df_year_typed['Supplier_Country'].astype('category')\n",
    "    df_year_typed['User_Country'] = df_year_typed['User_Country'].astype('category')\n",
    "    df_year_typed['User_Industry'] = df_year_typed['User_Industry'].astype('category')\n",
    "    df_year_typed['Supplier_Industry'] = df_year_typed['Supplier_Industry'].astype('category')\n",
    "    df_year_typed = df_year_typed[['Supplier_Country', 'User_Country', 'Supplier_Industry', 'User_Industry', 'Value']]\n",
    "    ser_year_gics = df_year_typed.groupby(['Supplier_Country', 'User_Country', 'Supplier_Industry', 'User_Industry']).sum().squeeze().sort_index()\n",
    "#    ser_flow_share = ser_year_gics.groupby(['Supplier_Country', 'User_Country', 'Supplier_Industry'])\\\n",
    "#                                  .apply(lambda ser_group: ser_group / ser_group.sum()).sort_index()\n",
    "#    ser_flow_share  = ser_flow_share.astype('float32')\n",
    "    dict_flows[str_year_num] = ser_year_gics    \n",
    "\n",
    "#    break"
   ]
  },
  {
   "cell_type": "code",
   "execution_count": 9,
   "id": "789045da-27e8-49c6-9c3b-00c25cb48736",
   "metadata": {},
   "outputs": [],
   "source": [
    "### CONVERTED DATA AGGREGATION & SAVING\n",
    "\n",
    "gc.collect()\n",
    "\n",
    "ser_flows = pd.concat(dict_flows, names = ['Date'])\n",
    "ser_flows.to_hdf(str_path_gics_hdf, key = str_gics_key, mode = 'w', format = 'table', complevel = 9)"
   ]
  },
  {
   "cell_type": "code",
   "execution_count": null,
   "id": "d5ead239-cf3f-4b97-9ee1-72433c50b0c1",
   "metadata": {},
   "outputs": [],
   "source": [
    "### TOTAL VALUES CONSTRUCTION\n",
    "\n",
    "gc.collect()\n",
    "\n",
    "ser_flows = pd.read_hdf(str_path_gics_hdf, key = str_gics_key)\n",
    "\n",
    "dict_flows_share = {}\n",
    "dict_total_share = {}\n",
    "dict_world_share = {}\n",
    "\n",
    "for str_iter_year in ser_flows.index.levels[0]:\n",
    "    print(str_iter_year)\n",
    "    gc.collect()\n",
    "    df_iter_flows = ser_flows[str_iter_year].reset_index()\n",
    "    df_iter_flows = df_iter_flows[(df_iter_flows['Supplier_Country'] != df_iter_flows['User_Country']) & \n",
    "                                  (df_iter_flows['Supplier_Industry'] != '9999') & (df_iter_flows['User_Industry'] != '9999')]  \n",
    "    ser_flows_share = df_iter_flows.set_index(['Supplier_Country', 'User_Country', 'Supplier_Industry', 'User_Industry']).astype('float32').squeeze()\n",
    "    dict_flows_share[str_iter_year] = ser_flows_share.groupby(['Supplier_Country', 'User_Country', 'Supplier_Industry'])\\\n",
    "                                                     .apply(lambda ser_group: ser_group / ser_group.sum()).astype('float32').sort_index()     \n",
    "    ser_country_total = df_iter_flows.groupby(['Supplier_Country', 'Supplier_Industry', 'User_Industry']).sum().squeeze().sort_index()\n",
    "    dict_total_share[str_iter_year] = ser_country_total.groupby(['Supplier_Country', 'Supplier_Industry']).apply(lambda ser_group: ser_group / ser_group.sum())\\\n",
    "                                                       .astype('float32').sort_index()\n",
    "    ser_world_total = ser_country_total.groupby(['Supplier_Industry', 'User_Industry']).sum().astype('float32').sort_index()\n",
    "    dict_world_share[str_iter_year] = ser_world_total.groupby('Supplier_Industry').apply(lambda ser_group: ser_group / ser_group.sum()).astype('float32').sort_index()\n",
    "#    break"
   ]
  },
  {
   "cell_type": "code",
   "execution_count": 15,
   "id": "22970f8d-5e12-44b1-af83-8482331d5f3f",
   "metadata": {},
   "outputs": [],
   "source": [
    "### WORLD LEVEL AGGREGATED DATA SAVING\n",
    "\n",
    "ser_world_share = pd.concat(dict_world_share)\n",
    "ser_world_share.index.names = ['Date', 'Supplier_Industry', 'User_Industry']\n",
    "ser_world_share.to_hdf(str_path_world_hdf, key = str_gics_key, mode = 'w', format = 'table', complevel = 9)"
   ]
  },
  {
   "cell_type": "code",
   "execution_count": 16,
   "id": "e105ba93-e280-4484-8690-fc03a8edf718",
   "metadata": {},
   "outputs": [],
   "source": [
    "### COUNTRY LEVEL AGGREGATED DATA SAVING\n",
    "\n",
    "ser_total_share = pd.concat(dict_total_share)\n",
    "ser_total_share.index.names = ['Date', 'Supplier_Country', 'Supplier_Industry', 'User_Industry']\n",
    "ser_total_share.to_hdf(str_path_country_hdf, key = str_gics_key, mode = 'w', format = 'table', complevel = 9)"
   ]
  },
  {
   "cell_type": "code",
   "execution_count": 17,
   "id": "58699047-a508-4949-b3dd-a9fb45193591",
   "metadata": {},
   "outputs": [],
   "source": [
    "### BILATERAS SHARES SAVING\n",
    "\n",
    "ser_flows_share = pd.concat(dict_flows_share)\n",
    "ser_flows_share.index.names = ['Date', 'Supplier_Country', 'User_Country', 'Supplier_Industry', 'User_Industry']\n",
    "ser_flows_share.to_hdf(str_path_flows_hdf, key = str_gics_key, mode = 'w', format = 'table', complevel = 9)"
   ]
  },
  {
   "cell_type": "code",
   "execution_count": 35,
   "id": "39f04189-7b25-4a3a-b020-c4ebf1e23aa6",
   "metadata": {},
   "outputs": [],
   "source": [
    "### LOADING WORLD TO WORLD SHARES\n",
    "\n",
    "ser_world_share = pd.read_hdf(str_path_world_hdf)\n",
    "ser_world_last = ser_world_share['2014']\n",
    "ser_world_last = ser_world_last.unstack('Supplier_Industry').reindex(dict_gics_sub.keys()).stack(dropna = False)\\\n",
    "                               .unstack('User_Industry').reindex(dict_gics_sub.keys()).stack(dropna = False).sort_index()\n",
    "for iter_industry in dict_gics_sub:\n",
    "    if (dict_gics_sub[iter_industry] is not None):\n",
    "        ser_world_last.loc[iter_industry] = ser_world_last[dict_gics_sub[iter_industry]].values\n",
    "ser_world_last.fillna(0.0, inplace = True)\n",
    "ser_world_last.unstack('User_Industry').to_csv('Data_Files/Test_Files/total_shares.csv', sep = ',')"
   ]
  },
  {
   "cell_type": "code",
   "execution_count": 17,
   "id": "30b4114b-a77f-4818-beb2-a825e74c3e7f",
   "metadata": {},
   "outputs": [
    {
     "data": {
      "text/plain": [
       "Date  Supplier_Country  Supplier_Industry  User_Industry\n",
       "2014  CN                2520               1010             0.001204\n",
       "                                           1510             0.044341\n",
       "                                           2010             0.165106\n",
       "                                           2020             0.048786\n",
       "                                           2030             0.009868\n",
       "                                           2510             0.034135\n",
       "                                           2520             0.493182\n",
       "                                           2530             0.035423\n",
       "                                           2550             0.027016\n",
       "                                           3020             0.007242\n",
       "                                           3510             0.038905\n",
       "                                           3520             0.002340\n",
       "                                           4010             0.005388\n",
       "                                           4020             0.000866\n",
       "                                           4030             0.001149\n",
       "                                           4510             0.017544\n",
       "                                           5010             0.038493\n",
       "                                           5020             0.011896\n",
       "                                           5510             0.014731\n",
       "                                           6010             0.002134\n",
       "                                           9999             0.000251\n",
       "Name: Value, dtype: float32"
      ]
     },
     "execution_count": 17,
     "metadata": {},
     "output_type": "execute_result"
    }
   ],
   "source": [
    "### LOADING COUNTRY TO WORLD SHARES\n",
    "\n",
    "ser_total_share = pd.read_hdf(str_path_country_hdf)\n",
    "ser_total_share.loc[['2014'], ['CN'], ['2520']]\n",
    "ser_total_share.loc[['2014'], ['CN'], ['2520']]"
   ]
  },
  {
   "cell_type": "code",
   "execution_count": 40,
   "id": "3be36b9a-b214-4ac8-bde4-01b961b5b21a",
   "metadata": {},
   "outputs": [
    {
     "data": {
      "text/plain": [
       "Date  Supplier_Country  User_Country  Supplier_Industry  User_Industry\n",
       "2014  BR                US            3020               1010             0.004303\n",
       "                                                         1510             0.085198\n",
       "                                                         2010             0.027969\n",
       "                                                         2020             0.009036\n",
       "                                                         2030             0.000000\n",
       "                                                         2510             0.001721\n",
       "                                                         2520             0.010757\n",
       "                                                         2530             0.040878\n",
       "                                                         2550             0.010757\n",
       "                                                         3020             0.767642\n",
       "                                                         3510             0.017212\n",
       "                                                         3520             0.019363\n",
       "                                                         4010             0.000000\n",
       "                                                         4020             0.000000\n",
       "                                                         4030             0.000000\n",
       "                                                         4510             0.000430\n",
       "                                                         5010             0.000430\n",
       "                                                         5020             0.002582\n",
       "                                                         5510             0.000430\n",
       "                                                         6010             0.001291\n",
       "                                                         9999             0.000000\n",
       "Name: Value, dtype: float32"
      ]
     },
     "execution_count": 40,
     "metadata": {},
     "output_type": "execute_result"
    }
   ],
   "source": [
    "### LOADING BILATERAL SHARES\n",
    "\n",
    "#ser_flows_share = pd.read_hdf(str_path_flows_hdf)\n",
    "ser_flows_share.loc[['2014'], ['BR'], ['US'], ['3020'], :]"
   ]
  },
  {
   "cell_type": "code",
   "execution_count": 7,
   "id": "74bec07c-df35-4d2c-80af-67d58990e0fb",
   "metadata": {},
   "outputs": [
    {
     "name": "stdout",
     "output_type": "stream",
     "text": [
      "Bilateral dataset found:\n"
     ]
    },
    {
     "data": {
      "text/plain": [
       "Date  Supplier_Country  User_Country  Supplier_Industry  User_Industry\n",
       "2014  BR                US            2020               1010             0.005626\n",
       "                                                         1510             0.047820\n",
       "                                                         2010             0.142053\n",
       "                                                         2020             0.213783\n",
       "                                                         2030             0.035162\n",
       "                                                         2510             0.008439\n",
       "                                                         2520             0.018284\n",
       "                                                         2530             0.064698\n",
       "                                                         2550             0.139241\n",
       "                                                         3020             0.018284\n",
       "                                                         3510             0.071730\n",
       "                                                         3520             0.002813\n",
       "                                                         4010             0.018284\n",
       "                                                         4020             0.033755\n",
       "                                                         4030             0.018284\n",
       "                                                         4510             0.040788\n",
       "                                                         5010             0.036568\n",
       "                                                         5020             0.045007\n",
       "                                                         5510             0.007032\n",
       "                                                         6010             0.032349\n",
       "                                                         9999             0.000000\n",
       "Name: Value, dtype: float32"
      ]
     },
     "metadata": {},
     "output_type": "display_data"
    }
   ],
   "source": [
    "### EXTRACTION OF NEEDED DATA (TEST VERSION)\n",
    "\n",
    "### Bilateral case:\n",
    "str_year = '2014'\n",
    "str_supplier = 'BR'\n",
    "str_user = 'US'\n",
    "str_industry = '2020'\n",
    "### Country case:\n",
    "#str_year = '2014'\n",
    "#str_supplier = 'AU'\n",
    "#str_user = 'RU'\n",
    "#str_industry = '2020'\n",
    "#### World case:\n",
    "#str_year = '2014'\n",
    "#str_supplier = 'MU'\n",
    "#str_user = 'US'\n",
    "#str_industry = '2020'\n",
    "### Not found case:\n",
    "#str_year = '2014'\n",
    "#str_supplier = 'CN'\n",
    "#str_user = 'US'\n",
    "#str_industry = '1050'\n",
    "#def shares_extract(str_year, str_supplier, str_user, str_industry):\n",
    "if True:\n",
    "    gc.collect()\n",
    "    ### Year control:\n",
    "    if int(str_year) < 2000:\n",
    "        str_year = '2000'\n",
    "        print('Year changed to:', str_year)\n",
    "    elif int(str_year) > 2014:\n",
    "        str_year = '2014'\n",
    "        print('Year changed to:', str_year)        \n",
    "    ### Industry control:\n",
    "    if str_industry in dict_gics_sub:\n",
    "        if dict_gics_sub[str_industry] is not None:\n",
    "            str_industry = dict_gics_sub[str_industry]\n",
    "            print('Industry changed to:', str_industry)\n",
    "        ### Year flows loading:\n",
    "        ser_flows_year = pd.read_hdf(str_path_flows_hdf, where = \"Date=str_year\")\n",
    "        ### Checking the bilateral dataset:\n",
    "        ser_bilateral_requested = ser_flows_year.loc[[str_year], [str_supplier], [str_user], [str_industry]].dropna()\n",
    "        if (len(ser_bilateral_requested) > 0):\n",
    "            print('Bilateral dataset found:')\n",
    "            display(ser_bilateral_requested)\n",
    "#            return ser_bilateral_requested        \n",
    "        else:\n",
    "            ### Checking common supplier dataset:\n",
    "            ser_country_year = pd.read_hdf(str_path_country_hdf, where = \"Date=str_year\")\n",
    "            ser_country_requested = ser_country_year.loc[[str_year], [str_supplier], [str_industry]].dropna()\n",
    "            if (len(ser_country_requested) > 0):\n",
    "                print('Common supplier dataset found:')            \n",
    "                display(ser_country_requested)\n",
    "#                return ser_country_requested \n",
    "            else:\n",
    "                ### Checking world dataset for industry:\n",
    "                ser_world_year = pd.read_hdf(str_path_world_hdf, where = \"Date=str_year\")\n",
    "                ser_world_requested = ser_world_year.loc[[str_year], [str_industry]].dropna()\n",
    "                if (len(ser_world_requested) > 0):\n",
    "                    print('World industry dataset found:')            \n",
    "                    display(ser_world_requested)\n",
    "#                    return ser_world_requested     \n",
    "                else:\n",
    "                    print('Something goes wrong...')\n",
    "#                    return None\n",
    "    else:\n",
    "        print('Wrong Industry identifier')\n",
    "#        return None"
   ]
  },
  {
   "cell_type": "code",
   "execution_count": 8,
   "id": "6e4a83fa-2677-4661-bbab-7a8a81677101",
   "metadata": {},
   "outputs": [],
   "source": [
    "### EXTRACTION OF NEEDED DATA (PRODUCT VERSION)\n",
    "\n",
    "def shares_extract(str_year, str_supplier, str_user, str_industry):\n",
    "    gc.collect()\n",
    "    ### Year control:\n",
    "    if int(str_year) < 2000:\n",
    "        str_year = '2000'\n",
    "        print('Year changed to:', str_year)\n",
    "    elif int(str_year) > 2014:\n",
    "        str_year = '2014'\n",
    "        print('Year changed to:', str_year)        \n",
    "    ### Industry control:\n",
    "    if str_industry in dict_gics_sub:\n",
    "        if dict_gics_sub[str_industry] is not None:\n",
    "            str_industry = dict_gics_sub[str_industry]\n",
    "            print('Industry changed to:', str_industry)\n",
    "        ### Year flows loading:\n",
    "        ser_flows_year = pd.read_hdf(str_path_flows_hdf, where = \"Date=str_year\")\n",
    "        ### Checking the bilateral dataset:\n",
    "        ser_bilateral_requested = ser_flows_year.loc[[str_year], [str_supplier], [str_user], [str_industry]].dropna()\n",
    "        if (len(ser_bilateral_requested) > 0):\n",
    "#            print('Bilateral dataset found:')\n",
    "#            display(ser_bilateral_requested)\n",
    "            return ser_bilateral_requested        \n",
    "        else:\n",
    "            ### Checking common supplier dataset:\n",
    "            ser_country_year = pd.read_hdf(str_path_country_hdf, where = \"Date=str_year\")\n",
    "            ser_country_requested = ser_country_year.loc[[str_year], [str_supplier], [str_industry]].dropna()\n",
    "            if (len(ser_country_requested) > 0):\n",
    "#                print('Common supplier dataset found:')            \n",
    "#                display(ser_country_requested)\n",
    "                return ser_country_requested \n",
    "            else:\n",
    "                ### Checking world dataset for industry:\n",
    "                ser_world_year = pd.read_hdf(str_path_world_hdf, where = \"Date=str_year\")\n",
    "                ser_world_requested = ser_world_year.loc[[str_year], [str_industry]].dropna()\n",
    "                if (len(ser_world_requested) > 0):\n",
    "#                    print('World industry dataset found:')            \n",
    "#                    display(ser_world_requested)\n",
    "                    return ser_world_requested     \n",
    "                else:\n",
    "#                    print('Something goes wrong...')\n",
    "                    return None\n",
    "    else:\n",
    "#        print('Wrong Industry identifier')\n",
    "        return None"
   ]
  },
  {
   "cell_type": "code",
   "execution_count": 9,
   "id": "ecac9561-22c9-4f04-91bd-1423e7d3da4f",
   "metadata": {},
   "outputs": [
    {
     "data": {
      "text/plain": [
       "Date  Supplier_Country  User_Country  Supplier_Industry  User_Industry\n",
       "2014  BR                US            2020               1010             0.005626\n",
       "                                                         1510             0.047820\n",
       "                                                         2010             0.142053\n",
       "                                                         2020             0.213783\n",
       "                                                         2030             0.035162\n",
       "                                                         2510             0.008439\n",
       "                                                         2520             0.018284\n",
       "                                                         2530             0.064698\n",
       "                                                         2550             0.139241\n",
       "                                                         3020             0.018284\n",
       "                                                         3510             0.071730\n",
       "                                                         3520             0.002813\n",
       "                                                         4010             0.018284\n",
       "                                                         4020             0.033755\n",
       "                                                         4030             0.018284\n",
       "                                                         4510             0.040788\n",
       "                                                         5010             0.036568\n",
       "                                                         5020             0.045007\n",
       "                                                         5510             0.007032\n",
       "                                                         6010             0.032349\n",
       "                                                         9999             0.000000\n",
       "Name: Value, dtype: float32"
      ]
     },
     "execution_count": 9,
     "metadata": {},
     "output_type": "execute_result"
    }
   ],
   "source": [
    "### TEST\n",
    "\n",
    "#### Bilateral case:\n",
    "#str_year = '2014'\n",
    "#str_supplier = 'BR'\n",
    "#str_user = 'US'\n",
    "#str_industry = '2020'\n",
    "#### Country case:\n",
    "#str_year = '2014'\n",
    "#str_supplier = 'AU'\n",
    "#str_user = 'RU'\n",
    "#str_industry = '2020'\n",
    "#### World case:\n",
    "#str_year = '2014'\n",
    "#str_supplier = 'MU'\n",
    "#str_user = 'US'\n",
    "#str_industry = '2020'\n",
    "#### Not found case:\n",
    "#str_year = '2014'\n",
    "#str_supplier = 'CN'\n",
    "#str_user = 'US'\n",
    "#str_industry = '1050'\n",
    "\n",
    "shares_extract(str_year, str_supplier, str_user, str_industry)"
   ]
  },
  {
   "cell_type": "code",
   "execution_count": null,
   "id": "38eee141-d9db-456f-9fce-58abf5a347b9",
   "metadata": {},
   "outputs": [],
   "source": []
  }
 ],
 "metadata": {
  "kernelspec": {
   "display_name": "Python 3 (ipykernel)",
   "language": "python",
   "name": "python3"
  },
  "language_info": {
   "codemirror_mode": {
    "name": "ipython",
    "version": 3
   },
   "file_extension": ".py",
   "mimetype": "text/x-python",
   "name": "python",
   "nbconvert_exporter": "python",
   "pygments_lexer": "ipython3",
   "version": "3.7.4"
  }
 },
 "nbformat": 4,
 "nbformat_minor": 5
}
