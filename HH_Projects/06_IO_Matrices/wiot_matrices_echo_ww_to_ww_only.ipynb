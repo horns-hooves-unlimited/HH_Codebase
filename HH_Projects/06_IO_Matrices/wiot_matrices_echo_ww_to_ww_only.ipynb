{
 "cells": [
  {
   "cell_type": "code",
   "execution_count": 1,
   "id": "52789805-c80c-4d93-b746-57f3e2f7064b",
   "metadata": {},
   "outputs": [],
   "source": [
    "### WIOT MATRICES CONVERTATION"
   ]
  },
  {
   "cell_type": "code",
   "execution_count": 2,
   "id": "80e16ab8-be40-4f3d-b489-d977e3cfed6b",
   "metadata": {},
   "outputs": [],
   "source": [
    "### INITIALIZATION\n",
    "\n",
    "import pandas as pd\n",
    "import numpy as np\n",
    "import os\n",
    "import gc\n",
    "#from pandarallel import pandarallel"
   ]
  },
  {
   "cell_type": "code",
   "execution_count": 3,
   "id": "2366151b-554f-4722-bb56-f5b57cd57464",
   "metadata": {},
   "outputs": [
    {
     "name": "stdout",
     "output_type": "stream",
     "text": [
      "python version:  3.7.4\n",
      "numpy version:  1.21.5\n",
      "pandas version:  1.3.5\n"
     ]
    }
   ],
   "source": [
    "### RUN EVERY TIME: VERSION CONTROL\n",
    "\n",
    "from platform import python_version\n",
    "print('python version: ', python_version())\n",
    "print('numpy version: ', np.__version__)\n",
    "print('pandas version: ', pd.__version__)"
   ]
  },
  {
   "cell_type": "code",
   "execution_count": 4,
   "id": "aa00a819-0caf-4f30-aa1a-5428518bc069",
   "metadata": {},
   "outputs": [],
   "source": [
    "### PARAMETERS\n",
    "\n",
    "### MultiIndex level slice constant:\n",
    "All = slice(None)\n",
    "### NA for MS Excel files:\n",
    "list_na_excel_values = ['', '---', '#N/A', '#N/A N/A', '#NA', '-1.#IND', '-1.#QNAN', '-NaN', '-nan', '1.#IND', '1.#QNAN', 'N/A', 'NULL', 'NaN', 'n/a', 'nan', 'null',\n",
    "                        '#N/A Requesting Data...', '#N/A Invalid Security', '#N/A Field Not Applicable']\n",
    "### Product / Industry mapping path:\n",
    "str_path_matrix_map = 'Data_Files/Source_Files/WIOT_mapping_detailed.xlsx'\n",
    "str_sheet_matrix = 'Matrix to Load'\n",
    "str_sheet_unc_g_map = 'HS'\n",
    "str_sheet_unc_s_map = 'EBOPS 2010'\n",
    "str_sheet_old_way = 'Old Way Map'\n",
    "str_sheet_gics_substitution = 'GICS Substitution'\n",
    "### Path to original WIOT Tables:\n",
    "str_path_wiot_source = 'Data_Files/Source_Files/WIOT'\n",
    "### Augmented bilateral export:\n",
    "str_path_export_bilateral = 'Data_Files/Source_Files/comtrade_export_bilateral.h5'\n",
    "str_key_unc_export = 'export_augmented'\n",
    "### Downloaded and aggregated shares:\n",
    "str_path_wiot_volumes_hdf = 'Data_Files/Result_Files/wiot_volumes.h5'\n",
    "str_path_wiot_shares_hdf = 'Data_Files/Result_Files/wiot_shares.h5'\n",
    "str_path_wiot_filled_hdf = 'Data_Files/Result_Files/wiot_filled.h5'\n",
    "str_path_unc_sub_weights_full_hdf = 'Data_Files/Result_Files/unc_sub_weights_full.h5'\n",
    "str_path_unc_ind_weights_full_hdf = 'Data_Files/Result_Files/unc_ind_weights_full.h5'\n",
    "str_path_unc_nace_weights_full_hdf = 'Data_Files/Result_Files/unc_nace_weights_full.h5'\n",
    "str_gics_key = 'gics_io'\n",
    "### Old way resulting table:\n",
    "str_path_total_shares = 'Data_Files/Test_Files/total_shares_v2.csv'"
   ]
  },
  {
   "cell_type": "code",
   "execution_count": 5,
   "id": "ab7e5733-d5cc-4919-9552-d1b975f283b4",
   "metadata": {},
   "outputs": [],
   "source": [
    "### OLD VERSION MATRIX\n",
    "\n",
    "### Loading old version shares:\n",
    "df_old_version = pd.read_csv(str_path_total_shares, index_col = 0)\n",
    "df_old_version.index.names = ['Group_Code']\n",
    "df_old_version.index = df_old_version.index.astype('str')\n",
    "ser_ww_to_ww_old = df_old_version.stack()\n",
    "ser_ww_to_ww_old.index.names = ['Commodity_Group_Code', 'GICS_Group_Code']\n",
    "ser_ww_to_ww_old.name = 'Share_Old'"
   ]
  },
  {
   "cell_type": "code",
   "execution_count": 6,
   "id": "29d26c0b-0f03-4983-a83f-e0e16aea59d1",
   "metadata": {},
   "outputs": [],
   "source": [
    "### GICS SUBSTITUTION MAP\n",
    "\n",
    "ser_gics_substitution = pd.read_excel(str_path_matrix_map, str_sheet_gics_substitution, dtype = 'str', index_col = None)\\\n",
    "                          .set_index('Industry Group').dropna().squeeze()\n",
    "ser_gics_substitution.index.names = ['Commodity_Group_Code']\n",
    "ser_gics_substitution.name = 'Substitute'"
   ]
  },
  {
   "cell_type": "code",
   "execution_count": 7,
   "id": "2dd5929b-8476-404a-a38b-e701a1e8228f",
   "metadata": {},
   "outputs": [],
   "source": [
    "### COMMODITIES MAPPING TO GICS INDUSTRY GROUPS\n",
    "\n",
    "### Goods:\n",
    "ser_goods_to_groups = pd.read_excel(engine = 'openpyxl', io = str_path_matrix_map, sheet_name = str_sheet_unc_g_map, dtype = str, header = [0], \n",
    "                               index_col = None).set_index('Commodity_ID')['GICS_Group'].dropna()\n",
    "ser_goods_to_groups.name = 'Commodity_Group_Code'\n",
    "### Services:\n",
    "ser_services_to_groups = pd.read_excel(engine = 'openpyxl', io = str_path_matrix_map, sheet_name = str_sheet_unc_s_map, dtype = str, header = [0], \n",
    "                               index_col = None).set_index('Commodity_ID')['GICS_Group'].dropna()\n",
    "ser_services_to_groups.name = 'Commodity_Group_Code'\n",
    "ser_services_to_groups = ser_services_to_groups[ser_services_to_groups != '---']\n",
    "### Mappers concatenation:\n",
    "ser_comm_to_groups = pd.concat([ser_goods_to_groups, ser_services_to_groups])"
   ]
  },
  {
   "cell_type": "code",
   "execution_count": 12,
   "id": "f1a33f2c-391f-49cf-be8e-d5d27c188135",
   "metadata": {},
   "outputs": [
    {
     "name": "stderr",
     "output_type": "stream",
     "text": [
      "C:\\ProgramData\\Anaconda3\\lib\\site-packages\\openpyxl\\worksheet\\_reader.py:312: UserWarning: Data Validation extension is not supported and will be removed\n",
      "  warn(msg)\n"
     ]
    },
    {
     "data": {
      "text/plain": [
       "18"
      ]
     },
     "execution_count": 12,
     "metadata": {},
     "output_type": "execute_result"
    }
   ],
   "source": [
    "### UN COMTRADE TO GICS WIOT BASED MATRIX LOADING\n",
    "\n",
    "### Source table loading:\n",
    "df_unc_to_gics = pd.read_excel(engine = 'openpyxl', io = str_path_matrix_map, sheet_name = str_sheet_matrix, dtype = str, header = list(range(6)), \n",
    "                               index_col = list(range(4)))\n",
    "df_unc_to_gics.index.names = ['WIOT_Exporter_Code', 'WIOT_Description', 'Commodity_ID', 'Commodity_Description']\n",
    "df_unc_to_gics.columns.names = ['WIOT_Importer_Code', 'WIOT_Description', 'GICS_Sub_Code', 'GICS_Industry_Code', 'GICS_Group_Code', 'GICS_Sub_Name']\n",
    "### Index levels checker:\n",
    "df_unc_to_gics.index = df_unc_to_gics.index.set_levels(df_unc_to_gics.index.levels[2].astype('str'), level = 'Commodity_ID')\n",
    "### Matrix filtering:\n",
    "df_unc_to_gics = df_unc_to_gics.droplevel(['WIOT_Description', 'Commodity_Description']).droplevel(['WIOT_Description', 'GICS_Sub_Name'], axis = 1)\n",
    "df_unc_to_gics = df_unc_to_gics.drop(index = '---', level = 'Commodity_ID').drop(columns = '---', level = 'GICS_Group_Code')\n",
    "### Matrix convertation:\n",
    "df_unc_to_gics = df_unc_to_gics.replace({'x': False, 'y': True, 'z': True})\n",
    "gc.collect()\n",
    "ser_unc_to_gics = df_unc_to_gics.stack(df_unc_to_gics.columns.names).astype(bool)\n",
    "ser_unc_to_gics.name = 'Connection_Flag'\n",
    "### Adding Comtrade to GICS mapping:\n",
    "ser_unc_to_gics = ser_unc_to_gics.to_frame().join(ser_comm_to_groups, how = 'inner').set_index('Commodity_Group_Code', append = True).squeeze()\n",
    "### Index Levels categorizing:\n",
    "ser_unc_to_gics = ser_unc_to_gics.reorder_levels([0, 2, 1, 6, 3, 4, 5]).sort_index()\n",
    "ser_unc_to_gics.index = ser_unc_to_gics.index.set_levels(ser_unc_to_gics.index.levels[4].astype(str), level = 'GICS_Sub_Code')\n",
    "ser_unc_to_gics.index = ser_unc_to_gics.index.set_levels(ser_unc_to_gics.index.levels[0].astype('category'), level = 'WIOT_Exporter_Code')\n",
    "ser_unc_to_gics.index = ser_unc_to_gics.index.set_levels(ser_unc_to_gics.index.levels[1].astype('category'), level = 'WIOT_Importer_Code')\n",
    "ser_unc_to_gics.index = ser_unc_to_gics.index.set_levels(ser_unc_to_gics.index.levels[2].astype('category'), level = 'Commodity_ID')\n",
    "ser_unc_to_gics.index = ser_unc_to_gics.index.set_levels(ser_unc_to_gics.index.levels[3].astype('category'), level = 'Commodity_Group_Code')\n",
    "ser_unc_to_gics.index = ser_unc_to_gics.index.set_levels(ser_unc_to_gics.index.levels[4].astype('category'), level = 'GICS_Sub_Code')\n",
    "ser_unc_to_gics.index = ser_unc_to_gics.index.set_levels(ser_unc_to_gics.index.levels[5].astype('category'), level = 'GICS_Industry_Code')\n",
    "ser_unc_to_gics.index = ser_unc_to_gics.index.set_levels(ser_unc_to_gics.index.levels[6].astype('category'), level = 'GICS_Group_Code')\n",
    "gc.collect()"
   ]
  },
  {
   "cell_type": "code",
   "execution_count": 8,
   "id": "80f47710-aa23-40a3-81ef-4376c7fefc8e",
   "metadata": {},
   "outputs": [],
   "source": [
    "### DIRECT NACE TO GICS GROUP MAP\n",
    "\n",
    "df_old_map = pd.read_excel(str_path_matrix_map, str_sheet_old_way, dtype = str)\n",
    "df_old_map['WIOT Code'] = df_old_map['WIOT Code'].str.replace('r', 'c')\n",
    "ser_old_map = df_old_map.set_index('WIOT Code').squeeze()\n",
    "ser_old_map.name = 'GICS_Group_Code'\n",
    "ser_old_map.index.name = 'WIOT_Importer_Code'"
   ]
  },
  {
   "cell_type": "code",
   "execution_count": 9,
   "id": "9c8a3a8c-f33c-4026-a669-c91e1dd7a493",
   "metadata": {},
   "outputs": [],
   "source": [
    "### DEFINING COMMODITY TO SUB INDUSTRY DISTRIBUTION CALCUCATOR\n",
    "\n",
    "def get_wiot_weights_parallel(ser_wiot_shares, ser_unc_to_gics, ser_iter_comtrade):\n",
    "    ### Extracting Groupby Keys:\n",
    "    ser_wiot_shares = ser_wiot_shares.squeeze()\n",
    "    ser_wiot_shares.name = 'Activity_Share'\n",
    "#    print(ser_wiot_shares.describe())\n",
    "    (str_iter_exporter, str_iter_importer, str_iter_code) = ser_wiot_shares.index[0][: -1]\n",
    "#    print(str_iter_exporter, str_iter_importer, str_iter_code)\n",
    "    if ((str_iter_importer == 'AT') & (str_iter_code == 'r1')):\n",
    "        print(str_iter_exporter, 'as Exporter')\n",
    "    ### Selecting Product -> Importer GICS Sub Industry Flags:\n",
    "    ser_wiot_flags = ser_unc_to_gics[str_iter_code]\n",
    "    ### Calculating of Relation Product Export Shares Inside Exporter WIOT Activity:\n",
    "    idx_comm_id = ser_wiot_flags['c2'].index.get_level_values('Commodity_ID')\n",
    "    try:\n",
    "        ser_unc_volumes = ser_iter_comtrade.loc[[str_iter_exporter], [str_iter_importer], idx_comm_id]\n",
    "    except KeyError:\n",
    "        print('No trade:', str_iter_exporter, str_iter_importer, str_iter_code)\n",
    "    else:\n",
    "        ser_unc_shares = (ser_unc_volumes / ser_unc_volumes.sum()).droplevel(['Exporter', 'Importer'])\n",
    "        ser_unc_shares.name = 'Export_Share'\n",
    "        ### Concatenating Importer WIOT Activity Shares & Product -> Importer GICS Sub Industry Flags & Product Export Shares Inside Exporter WIOT Activity:\n",
    "        df_pair_supply = ser_wiot_shares.droplevel(['Exporter', 'Importer', 'WIOT_Exporter_Code']).to_frame().join(ser_wiot_flags, how = 'left')\\\n",
    "                                                                                                            .join(ser_unc_shares, how = 'left').sort_index()\n",
    "        ### First Step Weights Distribution: Product Share, Weighted by GICS Sub Industry Share (Activity Share equal part):\n",
    "        df_pair_supply['Weight_First'] = df_pair_supply.groupby(['WIOT_Importer_Code', 'Commodity_ID'], observed = True, group_keys = False)\\\n",
    "                                        .apply(lambda df_i: df_i['Export_Share'] * df_i['Activity_Share'] * df_i['Connection_Flag'] / df_i['Connection_Flag'].sum())\n",
    "#        ### Primary Weights Normalization inside Commodity:\n",
    "#        df_pair_supply['Weight_First'] = df_pair_supply['Weight_First'].groupby('Commodity_ID', observed = True).transform(lambda ser_i: ser_i / ser_i.sum())   \n",
    "        ### Secondary Weights Distribution: Normalization Inside Export WIOT Activity * Import WIOT Activity Matrix:\n",
    "        df_pair_supply['Weight_Second'] = df_pair_supply['Weight_First'].groupby('WIOT_Importer_Code', observed = True).apply(lambda ser_i: ser_i / ser_i.sum())\\\n",
    "                                                                                                * df_pair_supply['Activity_Share']    \n",
    "        ### Secondary Weights Distribution: Normalization inside Commodity:\n",
    "        df_pair_supply['Weight_Second'] = df_pair_supply['Weight_Second'].groupby('Commodity_ID', observed = True).transform(lambda ser_i: ser_i / ser_i.sum())\n",
    "        ### Results Output:\n",
    "#        return df_pair_supply['Weight_Second']        \n",
    "        ser_result = df_pair_supply.loc[df_pair_supply['Weight_Second'] > 0.0, 'Weight_Second'].astype('float16')\n",
    "#        ser_result = ser_result.groupby(['Commodity_ID', 'Commodity_Group_Code', 'GICS_Sub_Code'], observed = True).sum()\n",
    "        ser_result = ser_result.groupby(['Commodity_ID', 'Commodity_Group_Code', 'WIOT_Importer_Code'], observed = True).sum()        \n",
    "        if (len(ser_result) > 0):\n",
    "            return ser_result\n",
    "\n",
    "def renormalize_duplicated_commodities(ser_comm):\n",
    "    if (ser_comm.sum() != 1.0):\n",
    "        ser_comm = ser_comm / ser_comm.sum()\n",
    "    return ser_comm"
   ]
  },
  {
   "cell_type": "code",
   "execution_count": 10,
   "id": "cc6e22fa-1c01-4746-b7e8-586edbf974ea",
   "metadata": {},
   "outputs": [],
   "source": [
    "### DISTRIBUTION CONSTANTS\n",
    "\n",
    "### Date Range defining:\n",
    "str_year_start = '1989' # '1989'\n",
    "str_year_end = '2023'\n",
    "list_dates = pd.date_range(start = str_year_start, end = str_year_end, freq = 'BY').to_list()\n",
    "#list_dates = pd.date_range(start = str_year_start, end = str_year_end, freq = '7BY').to_list()\n",
    "### WIOT Matrix Shares Loading:\n",
    "ser_last_shares = pd.read_hdf(str_path_wiot_filled_hdf, key = str_gics_key)\n",
    "list_exporters = ser_last_shares.index.levels[0].to_list()\n",
    "list_exporters.remove('YY')\n",
    "list_exporters.remove('WW')\n",
    "list_importers = ser_last_shares.index.levels[1].to_list()\n",
    "list_importers.remove('YY')\n",
    "list_importers.remove('WW')"
   ]
  },
  {
   "cell_type": "code",
   "execution_count": 13,
   "id": "60fe3ec0-036d-484c-a812-a78eb3dae3ec",
   "metadata": {},
   "outputs": [
    {
     "name": "stdout",
     "output_type": "stream",
     "text": [
      "2020-12-31\n"
     ]
    }
   ],
   "source": [
    "### UN COMTRADE & WIOT AGGREGATION : ALL POSSIBLE COMBINATIONS\n",
    "\n",
    "#### Deleting old data:\n",
    "#if (os.path.exists(str_path_unc_nace_weights_full_hdf)):\n",
    "#    os.remove(str_path_unc_nace_weights_full_hdf)\n",
    "### Looping over Comtrade History Years:    \n",
    "#for iter_date in list_dates[::-1]:\n",
    "for iter_date in list_dates[: -2][::-1]:\n",
    "    gc.collect()\n",
    "    print(iter_date.date())\n",
    "    ### UN Comtrade Bilateral Export Flows Extraction:\n",
    "    ser_iter_comtrade = pd.read_hdf(str_path_export_bilateral, key = str_key_unc_export, where = \"Date in [iter_date]\").droplevel(['Date', 'Type']).sort_index()\n",
    "    ser_iter_comtrade.index.names = ['Exporter', 'Importer', 'Commodity_ID']\n",
    "    ### Calculation of World to World Export Volumes:\n",
    "    ser_iter_ww_to_ww = pd.concat([ser_iter_comtrade.groupby('Commodity_ID').sum()], keys = [('WW', 'WW')], names = ['Exporter', 'Importer'])\n",
    "    ### Commodity Distribution Calculation:\n",
    "    ser_wiot_weights = ser_last_shares.loc[['WW'], ['WW']].to_frame().groupby(['Exporter', 'Importer', 'WIOT_Exporter_Code'], observed = True)\\\n",
    "                                       .apply(get_wiot_weights_parallel, ser_unc_to_gics.droplevel(['GICS_Industry_Code', 'GICS_Group_Code']), ser_iter_ww_to_ww)\\\n",
    "                                       .dropna().astype('float16')#.droplevel(['Exporter', 'Importer', 'WIOT_Exporter_Code'])\n",
    "    ser_wiot_weights.name = 'Share'\n",
    "    ### First Order Weights Normalization:\n",
    "    ser_first_weights = ser_wiot_weights.groupby(['Commodity_ID', 'Commodity_Group_Code', 'WIOT_Importer_Code'], observed = True).mean()\n",
    "    ser_first_weights = ser_first_weights.groupby(['Commodity_ID', 'Commodity_Group_Code']).transform(renormalize_duplicated_commodities)    \n",
    "    ser_first_weights.name = 'First'\n",
    "    ### Detailed Second Order Weights:\n",
    "    df_wiot_weights = ser_first_weights.reset_index('WIOT_Importer_Code')\n",
    "    df_wiot_weights['WIOT_Exporter_Code'] = df_wiot_weights['WIOT_Importer_Code'].str.replace('c', 'r')\n",
    "    ser_transfer_weights = df_wiot_weights.set_index('WIOT_Exporter_Code', append = True)['First']\n",
    "    df_transfer_weights = ser_transfer_weights.to_frame().join(ser_last_shares.loc['WW', 'WW']).reorder_levels([1, 2, 3, 0]).sort_index()\n",
    "    ser_second_weights = df_transfer_weights.groupby(['Commodity_ID', 'Commodity_Group_Code', 'WIOT_Importer_Code'], observed = True)\\\n",
    "                                            .apply(lambda df_i: (df_i['First'] * df_i['Share']).sum())\n",
    "    ser_second_weights.name = 'Second'    \n",
    "#    ### Aggregating Use NACE Industries to Use GICS Groups:\n",
    "#    df_both_weights_comm = pd.concat([ser_first_weights, ser_second_weights], axis = 1).fillna(0.0)\n",
    "#    df_both_weights_comm = df_both_weights_comm.join(ser_old_map).set_index('GICS_Group_Code', append = True)\\\n",
    "#                                               .groupby(['Commodity_ID', 'Commodity_Group_Code', 'GICS_Group_Code']).sum() \n",
    "#    ### Aggregating Supply Commodities to Supply GICS Groups:   \n",
    "#    df_both_weights_comm = df_both_weights_comm.join(ser_iter_ww_to_ww.droplevel(['Exporter', 'Importer']))    \n",
    "#    df_both_weights_gics = pd.DataFrame()\n",
    "#    ### Looping over orders:\n",
    "#    for iter_step in ['First', 'Second']:\n",
    "#        ser_iter_step = df_both_weights_comm.groupby(['Commodity_Group_Code', 'GICS_Group_Code'])\\\n",
    "#                                            .apply(lambda df_group: (df_group[iter_step] * df_group['Export']).sum() / df_group['Export'].sum())  \n",
    "#        ### Adding values for missed Industry Groups:\n",
    "#        df_iter_step = ser_iter_step.unstack('GICS_Group_Code').reindex(ser_gics_substitution.index.to_list(), axis = 1).fillna(0.0)\\\n",
    "#                                                               .reindex(ser_gics_substitution.index.to_list()).fillna(0.0)\n",
    "#        for iter_group in ser_gics_substitution.index:\n",
    "#            if (df_iter_step.loc[iter_group].sum() == 0.0):\n",
    "#                if (ser_gics_substitution[iter_group] == 'None'):\n",
    "#                    df_iter_step.loc[iter_group] = ser_ww_to_ww_old[iter_group].values\n",
    "#                else:\n",
    "#                    if (df_iter_step.loc[ser_gics_substitution[iter_group]].sum() == 0.0):\n",
    "#                        df_iter_step.loc[iter_group] = ser_ww_to_ww_old[iter_group].values\n",
    "#                    else:\n",
    "#                        df_iter_step.loc[iter_group] = df_iter_step.loc[ser_gics_substitution[iter_group]].values \n",
    "#            df_both_weights_gics[iter_step] = df_iter_step.stack().sort_index()\n",
    "##        break\n",
    "##    print(len(ser_wiot_weights))\n",
    "#    ### Saving Results to File:\n",
    "#    pd.concat([df_both_weights_gics], keys = [iter_date], names = ['Date'])\\\n",
    "#                            .to_hdf(path_or_buf = str_path_unc_nace_weights_full_hdf, key = str_gics_key, mode = 'a', format = 'table', complevel = 9, append = True)\n",
    "    break    "
   ]
  },
  {
   "cell_type": "code",
   "execution_count": 14,
   "id": "1832b582-aa43-4275-8da0-b0600869938f",
   "metadata": {},
   "outputs": [
    {
     "data": {
      "text/plain": [
       "Commodity_ID  Commodity_Group_Code  WIOT_Importer_Code\n",
       "01            3020                  c1                    0.144297\n",
       "                                    c2                    0.007645\n",
       "                                    c3                    0.003535\n",
       "                                    c4                    0.003481\n",
       "                                    c5                    0.495191\n",
       "                                                            ...   \n",
       "97            2520                  c50                   0.020146\n",
       "                                    c51                   0.035859\n",
       "                                    c52                   0.012584\n",
       "                                    c53                   0.029482\n",
       "                                    c54                   0.025145\n",
       "Name: Second, Length: 6642, dtype: float32"
      ]
     },
     "execution_count": 14,
     "metadata": {},
     "output_type": "execute_result"
    }
   ],
   "source": [
    "### TEMP\n",
    "\n",
    "ser_second_weights"
   ]
  },
  {
   "cell_type": "code",
   "execution_count": 83,
   "id": "f0809eb4-c899-4afb-8528-9c62a3de9e0b",
   "metadata": {},
   "outputs": [],
   "source": [
    "### RESULTS SAVING\n",
    "\n",
    "df_both_weights_gics = pd.read_hdf(path_or_buf = str_path_unc_nace_weights_full_hdf, key = str_gics_key)\n",
    "\n",
    "df_both_weights_gics.to_excel('Data_Files/Test_Files/ww_to_ww_shares_2nd_order.xlsx', merge_cells = False)\n",
    "df_both_weights_gics.to_csv('Data_Files/Test_Files/ww_to_ww_shares_2nd_order.csv', sep = ',')"
   ]
  },
  {
   "cell_type": "code",
   "execution_count": 43,
   "id": "e122b12a-4ddc-4b47-978a-4b533b05ff11",
   "metadata": {},
   "outputs": [
    {
     "data": {
      "text/plain": [
       "Index(['1010', '1510', '2010', '2020', '2030', '2510', '2520', '2530', '2550',\n",
       "       '3020', '3510', '3520', '4010', '4020', '4030', '4510', '5010', '5020',\n",
       "       '5510', '6010'],\n",
       "      dtype='object', name='GICS_Group_Code')"
      ]
     },
     "execution_count": 43,
     "metadata": {},
     "output_type": "execute_result"
    }
   ],
   "source": [
    "### TEMP\n",
    "\n",
    "    ### Adding values for missed Industry Groups:\n",
    "    df_ww_ww_by_group = ser_ww_ww_by_group.unstack('GICS_Group_Code').fillna(0.0).reindex(ser_gics_substitution.index).fillna(0.0)\n",
    "    for iter_group in ser_gics_substitution.index:\n",
    "        if (df_ww_ww_by_group.loc[iter_group].sum() == 0.0):\n",
    "            if (ser_gics_substitution[iter_group] == 'None'):\n",
    "                df_ww_ww_by_group.loc[iter_group] = ser_ww_to_ww_old[iter_group].values\n",
    "            else:\n",
    "                if (df_ww_ww_by_group.loc[ser_gics_substitution[iter_group]].sum() == 0.0):\n",
    "                    df_ww_ww_by_group.loc[iter_group] = ser_ww_to_ww_old[iter_group].values\n",
    "                else:\n",
    "                    df_ww_ww_by_group.loc[iter_group] = df_ww_ww_by_group.loc[ser_gics_substitution[iter_group]].values\n",
    "    ser_ww_ww_by_group = df_ww_ww_by_group.stack('GICS_Group_Code').sort_index()    "
   ]
  },
  {
   "cell_type": "code",
   "execution_count": 45,
   "id": "fb34ea79-8090-4b8f-81c3-3b4d046beee4",
   "metadata": {},
   "outputs": [],
   "source": [
    "### TEMP\n",
    "\n"
   ]
  },
  {
   "cell_type": "code",
   "execution_count": null,
   "id": "593efdf4-3dc9-460b-b5ea-91ae9c8f2978",
   "metadata": {},
   "outputs": [],
   "source": []
  }
 ],
 "metadata": {
  "kernelspec": {
   "display_name": "Python 3 (ipykernel)",
   "language": "python",
   "name": "python3"
  },
  "language_info": {
   "codemirror_mode": {
    "name": "ipython",
    "version": 3
   },
   "file_extension": ".py",
   "mimetype": "text/x-python",
   "name": "python",
   "nbconvert_exporter": "python",
   "pygments_lexer": "ipython3",
   "version": "3.7.4"
  }
 },
 "nbformat": 4,
 "nbformat_minor": 5
}
