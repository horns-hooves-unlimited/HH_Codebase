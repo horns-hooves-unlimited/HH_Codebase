{
 "cells": [
  {
   "cell_type": "code",
   "execution_count": 1,
   "id": "2832201e-6a7e-4e4e-a417-525195a6d2a4",
   "metadata": {},
   "outputs": [],
   "source": [
    "### WW TO WW DATA COLLECTION (BASED ON WIOT 2014 SUPPLY / USE MATRICES)"
   ]
  },
  {
   "cell_type": "code",
   "execution_count": 2,
   "id": "17b01c28-924a-4bd4-8fbd-23e749b2be0d",
   "metadata": {},
   "outputs": [],
   "source": [
    "### INITIALIZATION\n",
    "\n",
    "import pandas as pd\n",
    "import numpy as np\n",
    "import os\n",
    "import gc\n",
    "import matplotlib.pyplot as plt\n",
    "from matplotlib.cbook import boxplot_stats ### To annotate fliers\n",
    "import seaborn as sns"
   ]
  },
  {
   "cell_type": "code",
   "execution_count": 3,
   "id": "44c1e1ee-7179-4e45-9b7d-3f193b47a46a",
   "metadata": {},
   "outputs": [],
   "source": [
    "### PARAMETERS\n",
    "\n",
    "### Date Range defining:\n",
    "str_year_start = '1994'\n",
    "### MultiIndex level slice constant:\n",
    "All = slice(None)\n",
    "### Universe path:\n",
    "str_path_universe = 'Data_Files/Source_Files/acadian_universe.xlsx'\n",
    "### Commodity to Industry shares:\n",
    "#str_path_unc_ind_weights_hdf = 'Data_Files/Result_Files/unc_ind_weights.h5'\n",
    "#str_path_unc_ind_weights_agg_hdf = 'Data_Files/Result_Files/unc_ind_weights_agg.h5'\n",
    "str_path_unc_ind_weights_full_hdf = 'Data_Files/Result_Files/unc_ind_weights_full.h5'\n",
    "str_gics_key = 'gics_io'\n",
    "### Product / Industry mapping path:\n",
    "str_path_matrix_map = 'Data_Files/Source_Files/WIOT_mapping_detailed.xlsx'\n",
    "str_sheet_matrix = 'Matrix to Load'\n",
    "str_sheet_gics = 'GICS 2018'\n",
    "str_sheet_hs = 'HS'\n",
    "str_sheet_ebops = 'EBOPS 2010'\n",
    "str_sheet_nace_r = 'WIOT R to COMTRADE'\n",
    "str_sheet_nace_c = 'WIOT C to GICS'\n",
    "str_sheet_gics_substitution = 'GICS Substitution'\n",
    "### Primiary cells path:\n",
    "str_path_primary = 'Data_Files/Test_Files/WIOT2014_Total_Total.xlsx'\n",
    "str_sheet_cells = 'shares'\n",
    "### Augmented bilateral export:\n",
    "str_path_export_bilateral = 'Data_Files/Source_Files/comtrade_export_bilateral.h5'\n",
    "str_key_unc_export = 'export_augmented'\n",
    "### Old way resulting table:\n",
    "str_path_total_shares = 'Data_Files/Test_Files/total_shares_v2.csv'\n",
    "### Goods classification (HS1992):\n",
    "str_hs_url = 'https://comtrade.un.org/Data/cache/classificationH0.json'\n",
    "### Pathto save World-to-World timeseries:\n",
    "str_path_ww_to_ww_hdf = 'Data_Files/Result_Files/unc_ind_weights_full.h5'"
   ]
  },
  {
   "cell_type": "code",
   "execution_count": 4,
   "id": "26a0b7bc-75b7-48cb-a849-3637f6989543",
   "metadata": {},
   "outputs": [],
   "source": [
    "### OLD VERSION MATRIX\n",
    "\n",
    "### Loading old version shares:\n",
    "df_old_version = pd.read_csv(str_path_total_shares, index_col = 0)\n",
    "df_old_version.index.names = ['Group_Code']\n",
    "df_old_version.index = df_old_version.index.astype('str')\n",
    "ser_ww_to_ww_old = df_old_version.stack()\n",
    "ser_ww_to_ww_old.index.names = ['Commodity_Group_Code', 'GICS_Group_Code']\n",
    "ser_ww_to_ww_old.name = 'Share_Old'"
   ]
  },
  {
   "cell_type": "code",
   "execution_count": null,
   "id": "ef03342c-726d-4222-b97d-bb4b7c2ae048",
   "metadata": {},
   "outputs": [],
   "source": [
    "### DATA PREPARATION\n",
    "\n",
    "### Industry Groups substitution order loading:\n",
    "ser_gics_substitution = pd.read_excel(str_path_matrix_map, str_sheet_gics_substitution, dtype = 'str', index_col = None)\\\n",
    "                          .set_index('Industry Group').dropna().squeeze()\n",
    "ser_gics_substitution.index.names = ['Commodity_Group_Code']\n",
    "ser_gics_substitution.name = 'Substitute'\n",
    "### World matrices collection:\n",
    "dict_ww_ww_by_group = {}\n",
    "### Looding over years of trade:\n",
    "for iter_date in pd.date_range('1993', '2022', freq = 'BY'):\n",
    "#for iter_date in ['2000-12-29', '2020-12-31']:\n",
    "    gc.collect()\n",
    "    print(iter_date)\n",
    "    ### Loading distribution of connodities dataset:\n",
    "    ser_ww_ww_use_ind = pd.read_hdf(str_path_unc_ind_weights_full_hdf, where = \"Date in [iter_date]\").droplevel('Date')['WW', 'WW']   \n",
    "    ### Aggregating to Industry Groups of Customer:\n",
    "    df_ww_ww_use_ind = ser_ww_ww_use_ind.to_frame().reset_index('GICS_Industry_Code')\n",
    "    df_ww_ww_use_ind['GICS_Group_Code'] = df_ww_ww_use_ind['GICS_Industry_Code'].str[: 4]\n",
    "    ser_ww_ww_use_group = df_ww_ww_use_ind.dropna().set_index('GICS_Group_Code', append = True).sort_index()['Share']\\\n",
    "                                        .groupby(['Commodity_ID', 'Commodity_Group_Code', 'GICS_Group_Code'], observed = True).sum()\n",
    "    ### Comtrade dataset loading:\n",
    "    ser_comtrade_bil = pd.read_hdf(str_path_export_bilateral, where = \"Date in [iter_date]\").droplevel(['Date', 'Type'])\n",
    "    ser_comtrade_bil.index.names = ['Exporter', 'Importer', 'Commodity_ID']\n",
    "    ser_comtrade_ww_ww = (ser_comtrade_bil.groupby(['Commodity_ID']).sum() / 1000).astype(int)\n",
    "    ser_ww_ww_by_group = ser_ww_ww_use_group.to_frame().join(ser_comtrade_ww_ww).groupby(['Commodity_Group_Code', 'GICS_Group_Code'])\\\n",
    "                                            .apply(lambda df_group: (df_group['Share'] * df_group['Export']).sum() / df_group['Export'].sum())\n",
    "    ser_ww_ww_by_group = ser_ww_ww_by_group.groupby('Commodity_Group_Code').transform(lambda ser_i: ser_i / ser_i.sum())    \n",
    "    ### Adding values for missed Industry Groups:\n",
    "    df_ww_ww_by_group = ser_ww_ww_by_group.unstack('GICS_Group_Code').fillna(0.0).reindex(ser_gics_substitution.index).fillna(0.0)\n",
    "    for iter_group in ser_gics_substitution.index:\n",
    "        if (df_ww_ww_by_group.loc[iter_group].sum() == 0.0):\n",
    "            if (ser_gics_substitution[iter_group] == 'None'):\n",
    "                df_ww_ww_by_group.loc[iter_group] = ser_ww_to_ww_old[iter_group].values\n",
    "            else:\n",
    "                if (df_ww_ww_by_group.loc[ser_gics_substitution[iter_group]].sum() == 0.0):\n",
    "                    df_ww_ww_by_group.loc[iter_group] = ser_ww_to_ww_old[iter_group].values\n",
    "                else:\n",
    "                    df_ww_ww_by_group.loc[iter_group] = df_ww_ww_by_group.loc[ser_gics_substitution[iter_group]].values\n",
    "    ser_ww_ww_by_group = df_ww_ww_by_group.stack('GICS_Group_Code').sort_index()    \n",
    "    ### Saving of augmented dataset:\n",
    "    dict_ww_ww_by_group[iter_date] = ser_ww_ww_by_group    \n",
    "    display((ser_ww_ww_by_group.unstack('GICS_Group_Code') * 100).round(0))\n",
    "#    break\n",
    "### Matrices concatenation:\n",
    "ser_ww_ww_history = pd.concat(dict_ww_ww_by_group, axis = 0, names = ['Date']).sort_index()#.unstack('GICS_Group_Code')\n",
    "ser_ww_ww_history.name = 'Share'"
   ]
  },
  {
   "cell_type": "code",
   "execution_count": 29,
   "id": "f05a57b7-e3fd-4fa3-8d34-16735bd13b64",
   "metadata": {},
   "outputs": [
    {
     "data": {
      "text/plain": [
       "Date        Commodity_Group_Code  GICS_Group_Code\n",
       "1993-12-31  1010                  1010               0.232255\n",
       "                                  1510               0.224082\n",
       "                                  2010               0.047613\n",
       "                                  2020               0.016520\n",
       "                                  2030               0.114915\n",
       "                                                       ...   \n",
       "2021-12-31  6010                  4530               0.000000\n",
       "                                  5010               0.021254\n",
       "                                  5020               0.006592\n",
       "                                  5510               0.006345\n",
       "                                  6010               0.043864\n",
       "Name: Share, Length: 16704, dtype: float64"
      ]
     },
     "execution_count": 29,
     "metadata": {},
     "output_type": "execute_result"
    }
   ],
   "source": [
    "### TEMP\n",
    "\n",
    "ser_ww_ww_history"
   ]
  },
  {
   "cell_type": "code",
   "execution_count": 8,
   "id": "a83e50d3-4aaf-430e-8cd7-51c22d004e12",
   "metadata": {},
   "outputs": [],
   "source": [
    "### RESULTS SAVING\n",
    "\n",
    "ser_ww_ww_history.to_excel('Data_Files/Test_Files/ww_to_ww_shares.xlsx', merge_cells = False)\n",
    "ser_ww_ww_history.to_csv('Data_Files/Test_Files/ww_to_ww_shares.csv', sep = ',')"
   ]
  },
  {
   "cell_type": "code",
   "execution_count": null,
   "id": "3256a6ef-02a7-436f-abb4-4e46b21bc9c7",
   "metadata": {},
   "outputs": [],
   "source": []
  },
  {
   "cell_type": "code",
   "execution_count": null,
   "id": "4738aade-46a1-4dc7-825b-afda3f235bd4",
   "metadata": {},
   "outputs": [],
   "source": []
  },
  {
   "cell_type": "code",
   "execution_count": null,
   "id": "012eade2-b9a6-493d-93ba-10ca75f5f1f3",
   "metadata": {},
   "outputs": [],
   "source": []
  },
  {
   "cell_type": "code",
   "execution_count": null,
   "id": "2db8fec1-d5e5-475a-add3-0f22a406ccc3",
   "metadata": {},
   "outputs": [],
   "source": [
    "### MAPPINGS PREPARATION"
   ]
  },
  {
   "cell_type": "code",
   "execution_count": 42,
   "id": "5c118d5e-7e1a-4a17-ae3a-9af296b787bb",
   "metadata": {},
   "outputs": [
    {
     "name": "stderr",
     "output_type": "stream",
     "text": [
      "C:\\ProgramData\\Anaconda3\\lib\\site-packages\\openpyxl\\worksheet\\_reader.py:312: UserWarning: Data Validation extension is not supported and will be removed\n",
      "  warn(msg)\n"
     ]
    }
   ],
   "source": [
    "### PRIMARY CELLS PREPARATION\n",
    "\n",
    "### Basic total shares loading:\n",
    "ser_total_shares = pd.read_excel(str_path_primary, str_sheet_cells, header = 0).drop('Group', axis = 1).drop([0, 55, 56], axis = 0).set_index('WIOT').stack()\n",
    "ser_total_shares.index.names = ['WIOT Exporter Code', 'WIOT Importer Code']\n",
    "### Extracting primary cells:\n",
    "ser_primary_shares = ser_total_shares[ser_total_shares > 0.05]\n",
    "ser_primary_shares.name = 'Share'\n",
    "### R Map:\n",
    "df_r_map = pd.read_excel(str_path_matrix_map, str_sheet_nace_r, dtype = str)[['WIOT Exporter Code', 'HS Goods Code', 'EBOPS Service Code', 'Commodity Description']]\n",
    "df_r_map['WIOT Exporter Code'] = df_r_map['WIOT Exporter Code'].ffill()\n",
    "df_r_map['Commodity_ID'] = df_r_map['HS Goods Code'].combine_first(df_r_map['EBOPS Service Code'])\n",
    "df_r_map = df_r_map.set_index('WIOT Exporter Code')[['Commodity_ID', 'Commodity Description']].dropna()\n",
    "### C Map:\n",
    "df_c_map = pd.read_excel(str_path_matrix_map, str_sheet_nace_c, dtype = str)[['WIOT Importer Code', 'GICS Sub-Industry Code', 'GICS Sub-Industry Name']].dropna()\n",
    "df_c_map['WIOT Importer Code'] = df_c_map['WIOT Importer Code'].ffill()\n",
    "df_c_map = df_c_map.dropna(subset = ['GICS Sub-Industry Code']).set_index('WIOT Importer Code')\n",
    "df_c_map['GICS Sub-Industry Code'] = df_c_map['GICS Sub-Industry Code'].astype(str)\n",
    "### CMappers consolidation:\n",
    "df_primary_shares = ser_primary_shares.reset_index('WIOT Importer Code').merge(df_r_map, left_on = 'WIOT Exporter Code', right_on = 'WIOT Exporter Code')\\\n",
    "                                      .set_index('WIOT Importer Code', append = True)\n",
    "df_primary_shares = df_primary_shares.reset_index('WIOT Exporter Code').merge(df_c_map, left_on = 'WIOT Importer Code', right_on = 'WIOT Importer Code')\\\n",
    "                                      .set_index('WIOT Exporter Code', append = True)\n",
    "df_primary_shares = df_primary_shares.swaplevel().sort_index()"
   ]
  },
  {
   "cell_type": "code",
   "execution_count": 43,
   "id": "9c2eba88-0ff7-4fcb-86d0-1f27ffa5c4de",
   "metadata": {},
   "outputs": [],
   "source": [
    "### UN COMTRADE TO GICS WIOT BASED MATRIX LOADING\n",
    "\n",
    "### Source table loading:\n",
    "df_unc_to_gics = pd.read_excel(engine = 'openpyxl', io = str_path_matrix_map, sheet_name = str_sheet_matrix, dtype = str, header = list(range(6)), \n",
    "                               index_col = list(range(4)))\n",
    "df_unc_to_gics.index.names = ['WIOT Exporter Code', 'WIOT_Description', 'Commodity_ID', 'Commodity_Description']\n",
    "df_unc_to_gics.columns.names = ['WIOT Importer Code', 'WIOT_Description', 'GICS_Sub_Code', 'GICS_Industry_Code', 'GICS_Group_Code', 'GICS_Sub_Name']\n",
    "### Index levels checker:\n",
    "df_unc_to_gics.index = df_unc_to_gics.index.set_levels(df_unc_to_gics.index.levels[2].astype('str'), level = 'Commodity_ID')\n",
    "#### Matrix filtering:\n",
    "df_unc_to_gics = df_unc_to_gics.drop(index = '---', level = 'Commodity_ID').drop(columns = '---', level = 'GICS_Group_Code')\n",
    "df_unc_to_gics = df_unc_to_gics.droplevel(['WIOT_Description', 'GICS_Industry_Code', 'GICS_Group_Code', 'GICS_Sub_Name'], axis = 1)\n",
    "df_unc_to_gics = df_unc_to_gics.droplevel(['WIOT_Description', 'Commodity_Description'])\n",
    "#df_unc_to_gics['GICS_Sub_Code'] = df_unc_to_gics['GICS_Sub_Code'].astype(str)\n",
    "### Matrix convertation:\n",
    "df_unc_to_gics = df_unc_to_gics.replace({'x': False, 'y': True, 'z': True})\n",
    "gc.collect()\n",
    "ser_unc_to_gics = df_unc_to_gics.stack(df_unc_to_gics.columns.names).astype(bool)\n",
    "ser_unc_to_gics.index = ser_unc_to_gics.index.set_levels(ser_unc_to_gics.index.levels[3].astype('str'), level = 'GICS_Sub_Code')\n",
    "ser_unc_to_gics.name = 'Connection_Flag'"
   ]
  },
  {
   "cell_type": "code",
   "execution_count": 44,
   "id": "e99e0a10-6d11-4c2f-bad4-b141995212fe",
   "metadata": {},
   "outputs": [],
   "source": [
    "### ADDING CONNECTION FLAGS\n",
    "\n",
    "df_primary_shares.index.names = ['WIOT Exporter Code', 'WIOT Importer Code']\n",
    "df_primary_shares = df_primary_shares.set_index(['Commodity_ID', 'GICS Sub-Industry Code'], append = True).reorder_levels([0, 2, 1, 3]).sort_index()\n",
    "df_primary_shares.index.names = ser_unc_to_gics.index.names\n",
    "df_primary_shares['Connection_Flag'] = ser_unc_to_gics.reindex(df_primary_shares.index)\n",
    "df_primary_shares = df_primary_shares.set_index(['Commodity Description', 'GICS Sub-Industry Name'], append = True).reorder_levels([0, 1, 4, 2, 3, 5]).sort_index()"
   ]
  },
  {
   "cell_type": "code",
   "execution_count": 49,
   "id": "4aff04f6-559d-4f8a-91d1-127d90fcfa2a",
   "metadata": {},
   "outputs": [],
   "source": [
    "### HS19992 STRUCTURE PREPARATION:\n",
    "\n",
    "### Data loading:\n",
    "df_hs_full = pd.DataFrame(pd.read_json(str_hs_url, orient = 'index').squeeze()['results']).set_index('id')\n",
    "### Parents & Offspring:\n",
    "ser_ag2 = df_hs_full[df_hs_full['parent'] == 'TOTAL'].drop('parent', axis = 1).squeeze()\n",
    "ser_ag2.name = 'AG2_Description'\n",
    "df_ag4 = df_hs_full[df_hs_full['parent'].isin(ser_ag2.index)]\n",
    "df_ag4.columns = ['AG4_Description', 'Parent']\n",
    "df_ag4 = df_ag4.merge(ser_ag2, left_on = 'Parent', right_on = 'id').set_index('Parent')[['AG2_Description', 'AG4_Description']]\n",
    "df_ag4.to_excel('Data_Files/Test_Files/hs_1992_ag4.xlsx')"
   ]
  },
  {
   "cell_type": "code",
   "execution_count": null,
   "id": "197056d9-e96e-4d64-a039-6db7a850cffc",
   "metadata": {},
   "outputs": [],
   "source": []
  }
 ],
 "metadata": {
  "kernelspec": {
   "display_name": "Python 3 (ipykernel)",
   "language": "python",
   "name": "python3"
  },
  "language_info": {
   "codemirror_mode": {
    "name": "ipython",
    "version": 3
   },
   "file_extension": ".py",
   "mimetype": "text/x-python",
   "name": "python",
   "nbconvert_exporter": "python",
   "pygments_lexer": "ipython3",
   "version": "3.7.4"
  }
 },
 "nbformat": 4,
 "nbformat_minor": 5
}
