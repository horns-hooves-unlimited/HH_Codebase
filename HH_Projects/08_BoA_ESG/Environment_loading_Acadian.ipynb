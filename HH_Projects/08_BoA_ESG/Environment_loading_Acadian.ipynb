{
 "cells": [
  {
   "cell_type": "code",
   "execution_count": 1,
   "metadata": {},
   "outputs": [],
   "source": [
    "### ENVIRONMENT FACTORS SOURCE DATASETS EXTRACTING"
   ]
  },
  {
   "cell_type": "code",
   "execution_count": 2,
   "metadata": {},
   "outputs": [],
   "source": [
    "### RUN EVERY TIME: INITIALIZATION\n",
    "\n",
    "import pandas as pd\n",
    "import numpy as np\n",
    "import requests"
   ]
  },
  {
   "cell_type": "code",
   "execution_count": 3,
   "metadata": {},
   "outputs": [],
   "source": [
    "### XLSX IMPORT OPTIONS\n",
    "\n",
    "### NA for MS Excel files:\n",
    "list_na_excel_values = ['', '#N/A', '#N/A N/A', '#NA', '-1.#IND', '-1.#QNAN', '-NaN', '-nan', '1.#IND', '1.#QNAN', 'N/A', 'NULL', 'NaN', 'n/a', 'nan', 'null',\n",
    "                        '#N/A Requesting Data...', '#N/A Invalid Security', '#N/A Field Not Applicable']"
   ]
  },
  {
   "cell_type": "code",
   "execution_count": 4,
   "metadata": {},
   "outputs": [],
   "source": [
    "### CONSTANTS (RESEARCH VERSION ONLY)\n",
    "\n",
    "### Universe path:\n",
    "str_path_universe = 'Data_Files/Source_Files/acadian_universe.xlsx'\n",
    "### Yale University Environment performance index data paths and sheets:\n",
    "str_path_bdh_source = 'Data_Files/Source_Files/bdh_history.xlsx'\n",
    "\n",
    "### OECD Climate resulting dataset:\n",
    "str_path_oecd_dataset = 'Data_Files/Source_Files/oecd_climate_dataset.h5'\n",
    "str_key_oecd_dataset = 'oecd_climate_dataset'\n",
    "### World Bank API resulting dataset:\n",
    "str_path_wb_api_dataset = 'Data_Files/Source_Files/wb_api_dataset.h5'\n",
    "str_key_wb_api_dataset = 'wb_api_dataset'\n",
    "### World Bank What a Waste dataset:\n",
    "str_path_what_waste_dataset = 'Data_Files/Source_Files/what_waste_dataset.h5'\n",
    "str_key_what_waste_dataset = 'what_waste_dataset'\n",
    "### Yale University Environment performance index resulting dataset:\n",
    "str_path_bdh_dataset = 'Data_Files/Source_Files/bdh_dataset.h5'\n",
    "str_key_bdh_dataset = 'bdh_dataset'"
   ]
  },
  {
   "cell_type": "code",
   "execution_count": 5,
   "metadata": {},
   "outputs": [],
   "source": [
    "### MAIN CONSTANTS\n",
    "\n",
    "### MultiIndex level slice constant:\n",
    "All = slice(None)\n",
    "### Dates:\n",
    "date_start = pd.Timestamp('1989-12-29')\n",
    "date_end = pd.Timestamp('2022-12-30')"
   ]
  },
  {
   "cell_type": "code",
   "execution_count": 6,
   "metadata": {},
   "outputs": [],
   "source": [
    "### DEFINING & LAUNCH COUNTRY CODES EXTRACTOR (RESEARCH VERSION ONLY)\n",
    "\n",
    "def get_country_codes(use_local_copy = False):  \n",
    "    ### In case if URL is unavailable:\n",
    "    if (use_local_copy):\n",
    "        url_country_code = 'Data_Files/Source_Files/countrycode.html'\n",
    "    ### Online extraction:\n",
    "    else:\n",
    "        url_country_code = 'https://countrycode.org/'\n",
    "    df_full_codes = pd.read_html(url_country_code, index_col = 'COUNTRY')[0]\n",
    "    df_full_codes[['ISO SHORT', 'ISO LONG']] = df_full_codes['ISO CODES'].str.split(' / ', expand = True)\n",
    "    df_result = df_full_codes[['ISO SHORT', 'ISO LONG']].sort_index()    \n",
    "    df_result.index = df_result.index.str.upper()\n",
    "    ### Results output:\n",
    "    return df_result\n",
    "\n",
    "### World Country Codes:\n",
    "df_country_codes = get_country_codes()"
   ]
  },
  {
   "cell_type": "code",
   "execution_count": 7,
   "metadata": {},
   "outputs": [
    {
     "name": "stderr",
     "output_type": "stream",
     "text": [
      "C:\\Users\\ighar\\AppData\\Local\\Temp\\ipykernel_13304\\2308295388.py:12: UserWarning: Could not infer format, so each element will be parsed individually, falling back to `dateutil`. To ensure parsing is consistent and as-expected, please specify a format.\n",
      "  df_raw_universe = pd.read_excel(engine = 'openpyxl', io = str_path_universe, sheet_name = 'Switchers', header = 0, parse_dates = True, index_col = [0, 1],\n"
     ]
    }
   ],
   "source": [
    "### DEFINING EXTRACTION UNIVERSE DATA FROM MS EXCEL SOURCE (RESEARCH VERSION ONLY)\n",
    "\n",
    "def ison_membership_converting(str_path_universe, date_end, bool_daily = False, int_backfill_months = 0):\n",
    "    ### Defining business-month-end reindexation on country level:\n",
    "    def country_modify(ser_raw_country, date_end):\n",
    "        ser_res_country = ser_raw_country.droplevel(0).resample('MS').last().resample('BM').last()\n",
    "        range_country = pd.date_range(ser_res_country.index[0], date_end, freq = 'BM')\n",
    "        return ser_res_country.reindex(range_country).ffill()\n",
    "    ### Markets encoding table:\n",
    "    dict_markets = {50 : 'DM', 57 : 'EM', 504 : 'FM', 0: np.NaN}     \n",
    "    ### Loading source file:\n",
    "    df_raw_universe = pd.read_excel(engine = 'openpyxl', io = str_path_universe, sheet_name = 'Switchers', header = 0, parse_dates = True, index_col = [0, 1],\n",
    "                                 na_values = ['', '#N/A', '#N/A N/A', '#NA', '-1.#IND', '-1.#QNAN', '-NaN', '-nan', '1.#IND', \n",
    "                                             '1.#QNAN', 'N/A', 'NULL', 'NaN', 'n/a', 'nan', 'null'], keep_default_na = False)\n",
    "    ### Converting source file:\n",
    "    df_raw_universe.index.names = ['Country', 'Date']\n",
    "    ser_raw_universe = df_raw_universe['Region']\n",
    "    ser_raw_universe.fillna(0, inplace = True)\n",
    "    ser_raw_universe.name = 'Market'\n",
    "    ### By country reindexation and translation:\n",
    "    ser_res_universe = ser_raw_universe.groupby('Country').apply(country_modify, date_end)\n",
    "    ser_res_universe.index.names = ['Country', 'Date']\n",
    "    ser_res_universe = ser_res_universe.replace(dict_markets).reorder_levels([1, 0]).sort_index() \n",
    "    ### Expanding membership for primary regions members by backfilling:\n",
    "    if int_backfill_months:\n",
    "        ### List of regions:\n",
    "        list_region = list(ser_res_universe.dropna().unique())\n",
    "        ### Initialising of collection of series with backfilled data for each region:\n",
    "        list_ison_backfill = []\n",
    "        ### Regions looping:\n",
    "        for iter_region in list_region:\n",
    "            ### Defining start of region date:\n",
    "            date_first_valid = ser_res_universe.loc[ser_res_universe == iter_region].first_valid_index()[0]\n",
    "            ### Creating dates index to backfilling:\n",
    "            idx_date_backfill = pd.date_range(end = date_first_valid, periods = int_backfill_months + 1, freq = 'BM')[: -1]\n",
    "            ### Creating primary countries index to backfilling:            \n",
    "            idx_region_backfill = ser_res_universe.loc[ser_res_universe == iter_region].loc[date_first_valid, All].index.get_level_values('Country')\n",
    "            ### Creating full index:\n",
    "            idx_ison_backfill = pd.MultiIndex.from_product([idx_date_backfill, idx_region_backfill])\n",
    "            ### Series with backfilled data:\n",
    "            list_ison_backfill.append(pd.Series(iter_region, index = idx_ison_backfill))\n",
    "        ### Combination of backfilled series and original ISON data:    \n",
    "        ser_res_universe = ser_res_universe.combine_first(pd.concat(list_ison_backfill, axis = 0)).sort_index()  \n",
    "        ser_res_universe.index.names = ['Date', 'Country']\n",
    "    ### Converting to daily frequency:\n",
    "    if bool_daily:\n",
    "        ser_res_universe = ser_res_universe.reset_index('Country').groupby('Country').resample('B').ffill()['Market'].swaplevel().sort_index()    \n",
    "    ### Results output:\n",
    "    ser_res_universe.name = 'Market'\n",
    "    return ser_res_universe\n",
    "\n",
    "### ISON membership history:\n",
    "ser_ison_membership = ison_membership_converting(str_path_universe, date_end)\n",
    "### ISON Long IDs as Index, Short IDs - as Values:\n",
    "ser_ison_long = df_country_codes[df_country_codes['ISO SHORT'].isin(ser_ison_membership.index.get_level_values('Country').unique())].set_index('ISO LONG').squeeze()\n",
    "### ISON current status:\n",
    "ser_ison_status = ser_ison_membership[date_end]"
   ]
  },
  {
   "cell_type": "code",
   "execution_count": 8,
   "metadata": {},
   "outputs": [],
   "source": [
    "### OECD GREEN GROWTH: REQUESTS SESSION INITIALIZING\n",
    "\n",
    "### Constants:\n",
    "str_oecd_base_url = 'https://stats.oecd.org/sdmx-json/data/'\n",
    "str_oecd_structure_url = 'https://stats.oecd.org/restsdmx/sdmx.ashx/GetDataStructure/'\n",
    "str_gg_dataset_add = 'GREEN_GROWTH'\n",
    "### Session initializing:\n",
    "request_session = requests.Session()\n",
    "### For avoiding data request errors:\n",
    "request_session.headers\\\n",
    "               .update({'User-Agent': 'Mozilla/5.0 (Macintosh; Intel Mac OS X 10_9_3) AppleWebKit/537.36 (KHTML, like Gecko) Chrome/35.0.1916.47 Safari/537.36'})"
   ]
  },
  {
   "cell_type": "code",
   "execution_count": 9,
   "metadata": {},
   "outputs": [],
   "source": [
    "### OECD GREEN GROWTH: REQUEST PARAMETERS PREPARATION:\n",
    "\n",
    "### Green growth climate variables:\n",
    "dict_variables = {}\n",
    "dict_variables['PM_PWM'] = 'Mean population exposure to PM2.5'\n",
    "dict_variables['NRGS'] = 'Total energy supply'\n",
    "dict_variables['CO2_PBEM'] = 'Production-based CO2 emissions'\n",
    "dict_variables['RE_TPES'] = 'Renewable energy supply, % total energy supply'\n",
    "dict_variables['MWAS_RECO'] = 'Municipal waste recycled or composted, % treated waste'\n",
    "str_variables = '+'.join(dict_variables.keys())\n",
    "### Countries parameter preparation:\n",
    "list_oecd_reporters = list(ser_ison_long.index).copy()\n",
    "list_oecd_reporters.remove('HKG')\n",
    "list_oecd_reporters.remove('TWN')\n",
    "str_oecd_reporters = '+'.join(list_oecd_reporters)"
   ]
  },
  {
   "cell_type": "code",
   "execution_count": 10,
   "metadata": {},
   "outputs": [],
   "source": [
    "### OECD GREEN GROWTH: CLIMATE CHANGE REQUEST CONSTRUCTING & PERFORMING\n",
    "\n",
    "str_gg_climate_request_params = '.'.join([str_oecd_reporters, str_variables])\n",
    "str_gg_climate_request = str_oecd_base_url + str_gg_dataset_add + '/' + str_gg_climate_request_params + '/all?startTime=' + str(date_start.year) + \\\n",
    "                         '&endTime=' + str(date_end.year) + '&detail=DataOnly'\n",
    "obj_gg_climate_dataset = request_session.get(str_gg_climate_request).json()"
   ]
  },
  {
   "cell_type": "code",
   "execution_count": 11,
   "metadata": {},
   "outputs": [],
   "source": [
    "### OECD GREEN GROWTH: CLIMATE CHANGE INDEX DATA COLLECTING:\n",
    "\n",
    "### Dates:\n",
    "list_idx_dates = []\n",
    "for tup_date in obj_gg_climate_dataset['structure']['dimensions']['observation'][0]['values']:\n",
    "    list_idx_dates.append(pd.to_datetime(tup_date['id']) + pd.offsets.BYearEnd())\n",
    "### Parameters:    \n",
    "list_idx_library = []\n",
    "for iter_position in obj_gg_climate_dataset['structure']['dimensions']['series']:\n",
    "    list_param_values = []\n",
    "    for tup_parameter in iter_position['values']:\n",
    "        list_param_values.append(tup_parameter['id'])            \n",
    "    list_idx_library.append(list_param_values)\n",
    "### Result:\n",
    "list_idx_library.append(list_idx_dates)\n",
    "### Converting to dictionary for future replacing:\n",
    "list_idx_dict = []\n",
    "for iter_list in list_idx_library:\n",
    "    list_idx_dict.append(dict(zip(map(str, range(len(iter_list))), iter_list)))"
   ]
  },
  {
   "cell_type": "code",
   "execution_count": 12,
   "metadata": {},
   "outputs": [],
   "source": [
    "### OECD GREEN GROWTH: CLIMATE CHANGE DATASET RESAMPLING\n",
    "\n",
    "dict_datasets_res = {}\n",
    "dict_datasets_source = obj_gg_climate_dataset['dataSets'][0]['series']\n",
    "### Parameters and date indexes integration:\n",
    "for iter_dataset in dict_datasets_source:\n",
    "    dict_observations = dict_datasets_source[iter_dataset]['observations']\n",
    "    for iter_observation in dict_observations:\n",
    "        str_iter_idx = iter_dataset + ':' + iter_observation\n",
    "        flo_iter_value = dict_observations[iter_observation][0]\n",
    "        dict_datasets_res[str_iter_idx] = flo_iter_value"
   ]
  },
  {
   "cell_type": "code",
   "execution_count": 13,
   "metadata": {},
   "outputs": [],
   "source": [
    "### OECD GREEN GROWTH: CLIMATE CHANGE DATASET REINDEXATION\n",
    "\n",
    "df_gg_climate_data = pd.Series(dict_datasets_res)\n",
    "df_gg_climate_data.index = pd.MultiIndex.from_arrays(zip(*df_gg_climate_data.index.str.split(':')))\n",
    "int_levels_number = df_gg_climate_data.index.nlevels\n",
    "df_gg_climate_data = df_gg_climate_data.reset_index()\n",
    "### Replacing numbers with parameter values:\n",
    "for iter_level in range(int_levels_number):\n",
    "    df_gg_climate_data['level_' + str(iter_level)].replace(list_idx_dict[iter_level], inplace = True)\n",
    "    ### Replacing long ISO names with short ISO names:\n",
    "    if (iter_level == 0):\n",
    "        df_gg_climate_data['level_' + str(iter_level)].replace(dict(zip(ser_ison_long.index, ser_ison_long)), inplace = True)\n",
    "    ### Variables renaming:\n",
    "    elif (iter_level == 1):\n",
    "        df_gg_climate_data['level_' + str(iter_level)].replace(dict_variables, inplace = True)\n",
    "### Indexes defining:\n",
    "ser_gg_climate_data = df_gg_climate_data.set_index(['level_1', 'level_2', 'level_0']).squeeze()\n",
    "ser_gg_climate_data.index.names = ['Variable', 'Date', 'Country']\n",
    "ser_gg_climate_data.sort_index(inplace = True)\n",
    "ser_gg_climate_data.name = 'OECD Climate'"
   ]
  },
  {
   "cell_type": "code",
   "execution_count": 14,
   "metadata": {},
   "outputs": [
    {
     "data": {
      "text/plain": [
       "Variable                           Date        Country\n",
       "Mean population exposure to PM2.5  1990-12-31  AE           42.26\n",
       "                                               AR           16.01\n",
       "                                               AT           21.56\n",
       "                                               AU            7.60\n",
       "                                               BD           52.99\n",
       "                                                           ...   \n",
       "Total energy supply                2021-12-31  SE           46.76\n",
       "                                               SI            6.44\n",
       "                                               SK           17.77\n",
       "                                               TR          158.25\n",
       "                                               US         2103.43\n",
       "Name: OECD Climate, Length: 9877, dtype: float64"
      ]
     },
     "execution_count": 14,
     "metadata": {},
     "output_type": "execute_result"
    }
   ],
   "source": [
    "### OECD GREEN GROWTH: CLIMATE CHANGE SAVING (RESEARCH VERSION ONLY)\n",
    "\n",
    "ser_gg_climate_data#.to_hdf(path_or_buf = str_path_oecd_dataset, key = str_key_oecd_dataset, mode = 'w')"
   ]
  },
  {
   "cell_type": "code",
   "execution_count": 18,
   "metadata": {},
   "outputs": [],
   "source": [
    "### WORLD BANK: WDI: REQUESTS SESSION INITIALIZING\n",
    "\n",
    "str_wdi_base_url = 'http://api.worldbank.org/v2/'\n",
    "str_wdi_request_format = '?format=json&per_page=29999'\n",
    "### Session initializing:\n",
    "request_session = requests.Session()"
   ]
  },
  {
   "cell_type": "code",
   "execution_count": 19,
   "metadata": {},
   "outputs": [],
   "source": [
    "### OECD GREEN GROWTH: REQUEST PARAMETERS PREPARATION:\n",
    "\n",
    "dict_variables = {}\n",
    "dict_variables['NY.ADJ.DRES.GN.ZS'] = 'Natural resources depletion (WB)'"
   ]
  },
  {
   "cell_type": "code",
   "execution_count": 20,
   "metadata": {},
   "outputs": [],
   "source": [
    "### WORLD BANK: WDI: ALL VARIABLES: DATA EXTRACTING\n",
    "\n",
    "### Results container:\n",
    "dict_results = {}\n",
    "### List of ISON countries converting:\n",
    "str_reporters_all = ';'.join(sorted(ser_ison_long.index))\n",
    "### Looping over variables:\n",
    "for iter_var in dict_variables:\n",
    "    ### URL for API request:\n",
    "    str_iter_url = str_wdi_base_url + 'country/' + str_reporters_all + '/indicator/' + iter_var + \\\n",
    "                   str_wdi_request_format + '&date=' + str(date_start.year) + ':' + str(date_end.year)\n",
    "    ### API response:\n",
    "    obj_iter_dataset = request_session.get(str_iter_url)\n",
    "    ### Data converting from JSON to pandas:\n",
    "    ser_iter_country_id = pd.DataFrame(obj_iter_dataset.json()[1])['country'].apply(pd.Series)['id']\n",
    "    df_iter_dataset = pd.concat([ser_iter_country_id, pd.DataFrame(obj_iter_dataset.json()[1])[['date', 'value']]], axis = 1)\n",
    "    df_iter_dataset.columns = ['Country', 'Year', 'Value']\n",
    "    df_iter_dataset['Date'] = pd.to_datetime(df_iter_dataset['Year']) + pd.offsets.BYearEnd()\n",
    "    ### Adding data to container:\n",
    "    dict_results[dict_variables[iter_var]] = df_iter_dataset.set_index(['Date', 'Country'])['Value'].sort_index()\n",
    "### Data aggregating and saving:\n",
    "pd.concat(dict_results, axis = 1).stack().reorder_levels([2, 0, 1])\n",
    "ser_wb_api_data = pd.concat(dict_results, axis = 1).stack().reorder_levels([2, 0, 1])\n",
    "ser_wb_api_data.index.rename('Variable', level = 0, inplace = True)"
   ]
  },
  {
   "cell_type": "code",
   "execution_count": 30,
   "metadata": {},
   "outputs": [
    {
     "data": {
      "text/plain": [
       "Timestamp('2023-12-29 00:00:00')"
      ]
     },
     "execution_count": 30,
     "metadata": {},
     "output_type": "execute_result"
    }
   ],
   "source": [
    "### WORLD BANK: WDI: DATA SAVING (RESEARCH VERSION ONLY)\n",
    "\n",
    "ser_wb_api_data#.to_hdf(path_or_buf = str_path_wb_api_dataset, key = str_key_wb_api_dataset, mode = 'w')"
   ]
  },
  {
   "cell_type": "code",
   "execution_count": null,
   "metadata": {},
   "outputs": [],
   "source": [
    "### TEMP\n",
    "\n",
    "ser_wb_api_data.index.levels[1][0] + pd.DateOffset(months=2)\n",
    "pd.tseries.offsets.BMonthEnd().rollforward(pd.to_datetime('2024-01-01'))\n",
    "pd.tseries.offsets.BMonthEnd().rollback(pd.to_datetime('2024-01-01'))"
   ]
  },
  {
   "cell_type": "code",
   "execution_count": 33,
   "metadata": {},
   "outputs": [
    {
     "data": {
      "text/plain": [
       "Country                     ZM\n",
       "Year                      1989\n",
       "Value                14.040456\n",
       "Date       1989-12-29 00:00:00\n",
       "Name: 2855, dtype: object"
      ]
     },
     "execution_count": 33,
     "metadata": {},
     "output_type": "execute_result"
    }
   ],
   "source": [
    "### TEMP\n",
    "\n"
   ]
  },
  {
   "cell_type": "code",
   "execution_count": null,
   "metadata": {},
   "outputs": [],
   "source": []
  },
  {
   "cell_type": "code",
   "execution_count": 10,
   "metadata": {
    "tags": []
   },
   "outputs": [],
   "source": [
    "### WORLD BANK: WHAT A WASTE\n",
    "\n",
    "### Dataset URL: 'https://datacatalogfiles.worldbank.org/ddh-published/0039597/DR0049199/country_level_data_0.csv?versionId=2023-01-18T19:20:07.1683081Z'"
   ]
  },
  {
   "cell_type": "code",
   "execution_count": 29,
   "metadata": {},
   "outputs": [],
   "source": [
    "### WORLD BANK: WHAT A WASTE: LOADING & REINDEXATION\n",
    "\n",
    "### World Bank \"What A Waste\" Global Database Country level Dataset:\n",
    "str_path_what_waste_source = 'Data_Files/Source_Files/country_level_data_0.csv'\n",
    "### CVS Loading:\n",
    "df_what_waste_raw = pd.read_csv(str_path_what_waste_source, header = [0], sep = ',', na_values = 'NA', keep_default_na = False)\n",
    "df_what_waste_raw = df_what_waste_raw[['iso3c'] + ['waste_treatment_recycling_percent', 'waste_treatment_compost_percent']]\n",
    "### Data reindexation:\n",
    "df_what_waste_ison = df_what_waste_raw.merge(df_country_codes, left_on = 'iso3c', right_on = 'ISO LONG').drop(['iso3c', 'ISO LONG'], axis = 1).set_index('ISO SHORT')\n",
    "df_what_waste_ison.index.names = ['Country']\n",
    "df_what_waste_ison = df_what_waste_ison.reindex(ser_ison_membership.index.get_level_values('Country').unique()).sort_index()\n",
    "ser_what_waste_ison = df_what_waste_ison.stack().swaplevel().sort_index()\n",
    "ser_what_waste_ison.index.names = ['Variable', 'Country']\n",
    "ser_what_waste_ison = pd.concat({pd.Timestamp('2018-12-31'): ser_what_waste_ison}, names = ['Date']).reorder_levels([1, 0, 2]).sort_index()"
   ]
  },
  {
   "cell_type": "code",
   "execution_count": 30,
   "metadata": {},
   "outputs": [
    {
     "data": {
      "text/plain": [
       "Variable                           Date        Country\n",
       "waste_treatment_compost_percent    2018-12-31  AE          9.000\n",
       "                                               AT         31.240\n",
       "                                               BD          5.250\n",
       "                                               BE         19.137\n",
       "                                               BG         10.320\n",
       "                                                           ...  \n",
       "waste_treatment_recycling_percent  2018-12-31  UA          3.200\n",
       "                                               UG          6.000\n",
       "                                               US         34.600\n",
       "                                               VN         23.000\n",
       "                                               ZA         28.000\n",
       "Length: 120, dtype: float64"
      ]
     },
     "execution_count": 30,
     "metadata": {},
     "output_type": "execute_result"
    }
   ],
   "source": [
    "### WORLD BANK: WHAT A WASTE: SAVING\n",
    "\n",
    "ser_what_waste_ison#.to_hdf(path_or_buf = str_path_what_waste_dataset, key = str_key_what_waste_dataset, mode = 'w')"
   ]
  },
  {
   "cell_type": "code",
   "execution_count": 9,
   "metadata": {},
   "outputs": [],
   "source": [
    "### YALE UNIVERSITY: BIODIVERSITY & HABITAT\n",
    "\n",
    "### Data Source: https://sedac.ciesin.columbia.edu/data/set/epi-environmental-performance-index-2022/data-download\n",
    "### BDH Data is taken as a column from original EPI Results"
   ]
  },
  {
   "cell_type": "code",
   "execution_count": 15,
   "metadata": {},
   "outputs": [],
   "source": [
    "### YALE UNIVERSITY: BIODIVERSITY & HABITAT: DATA LOADING\n",
    "\n",
    "### Data loading:\n",
    "dict_bio_raw = pd.read_excel(engine = 'openpyxl', io = str_path_bdh_source, sheet_name = None, header = None, na_values = ['NA', '..'], keep_default_na = False)\n",
    "### Data aggregating:\n",
    "dict_epi_container = {}\n",
    "for iter_year in dict_bio_raw:\n",
    "    df_bio_iter_raw = dict_bio_raw[iter_year]\n",
    "    ser_bio_iter_res = df_bio_iter_raw.merge(df_country_codes, left_on = 0, right_on = 'ISO LONG').drop([0, 'ISO LONG'], axis = 1).set_index('ISO SHORT').squeeze()\n",
    "    dict_epi_container[(pd.to_datetime(iter_year)  + pd.offsets.BYearEnd()).date()] = ser_bio_iter_res[ser_ison_status.index]\n",
    "ser_bio_res = pd.concat(dict_epi_container, axis = 1, sort = False).stack().swaplevel().sort_index().astype('float32')\n",
    "### Data reindexation:\n",
    "ser_bio_res.index.names = ['Date', 'Country']\n",
    "ser_bio_filled = ser_bio_res.unstack('Country').reindex(pd.date_range(date_start, date_end, freq = 'BY')).ffill().bfill().stack('Country').sort_index()\n",
    "ser_bio_filled.index.names = ['Date', 'Country']\n",
    "ser_bio_filled = pd.concat({'Biodiversity': ser_bio_filled}, names = ['Variable']).sort_index()"
   ]
  },
  {
   "cell_type": "code",
   "execution_count": 16,
   "metadata": {},
   "outputs": [
    {
     "data": {
      "text/plain": [
       "Date        Country\n",
       "2006-12-29  AE         55.599998\n",
       "            AR         49.799999\n",
       "            AT         28.799999\n",
       "            AU         49.599998\n",
       "            BD         25.299999\n",
       "                         ...    \n",
       "2022-12-30  UG         75.800003\n",
       "            US         60.599998\n",
       "            VN         27.900000\n",
       "            ZA         54.700001\n",
       "            ZM         91.000000\n",
       "Length: 737, dtype: float32"
      ]
     },
     "execution_count": 16,
     "metadata": {},
     "output_type": "execute_result"
    }
   ],
   "source": [
    "### TEMP\n",
    "\n",
    "ser_bio_res"
   ]
  },
  {
   "cell_type": "code",
   "execution_count": null,
   "metadata": {},
   "outputs": [],
   "source": []
  },
  {
   "cell_type": "code",
   "execution_count": null,
   "metadata": {},
   "outputs": [],
   "source": []
  },
  {
   "cell_type": "code",
   "execution_count": 35,
   "metadata": {},
   "outputs": [
    {
     "data": {
      "text/plain": [
       "Variable      Date        Country\n",
       "Biodiversity  1989-12-29  AE         55.599998\n",
       "                          AR         49.799999\n",
       "                          AT         28.799999\n",
       "                          AU         49.599998\n",
       "                          BD         25.299999\n",
       "                                       ...    \n",
       "              2022-12-30  UG         75.800003\n",
       "                          US         60.599998\n",
       "                          VN         27.900000\n",
       "                          ZA         54.700001\n",
       "                          ZM         91.000000\n",
       "Length: 2890, dtype: float32"
      ]
     },
     "execution_count": 35,
     "metadata": {},
     "output_type": "execute_result"
    }
   ],
   "source": [
    "### YALE UNIVERSITY: IODIVERSITY & HABITAT: SAVING\n",
    "\n",
    "ser_bio_filled#.to_hdf(path_or_buf = str_path_bdh_dataset, key = str_key_bdh_dataset, mode = 'w')"
   ]
  },
  {
   "cell_type": "code",
   "execution_count": null,
   "metadata": {},
   "outputs": [],
   "source": []
  }
 ],
 "metadata": {
  "kernelspec": {
   "display_name": "Python 3 (ipykernel)",
   "language": "python",
   "name": "python3"
  },
  "language_info": {
   "codemirror_mode": {
    "name": "ipython",
    "version": 3
   },
   "file_extension": ".py",
   "mimetype": "text/x-python",
   "name": "python",
   "nbconvert_exporter": "python",
   "pygments_lexer": "ipython3",
   "version": "3.11.5"
  }
 },
 "nbformat": 4,
 "nbformat_minor": 4
}
