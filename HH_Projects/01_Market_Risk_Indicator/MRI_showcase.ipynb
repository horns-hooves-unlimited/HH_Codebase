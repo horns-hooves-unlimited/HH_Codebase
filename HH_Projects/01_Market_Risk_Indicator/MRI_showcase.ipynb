{
 "cells": [
  {
   "cell_type": "code",
   "execution_count": null,
   "metadata": {},
   "outputs": [],
   "source": [
    "# THIS NOTEBOOK SHOWS EXAMPLES OF CUSTOM AND PYTHON FUNCTIONS APPLICATION FOR THE PURPOSES OF MRI PROJECT"
   ]
  },
  {
   "cell_type": "code",
   "execution_count": null,
   "metadata": {},
   "outputs": [],
   "source": [
    "# Expanding visibility zone for Python engine to make HH Modules seen\n",
    "import sys \n",
    "sys.path.append('../..')"
   ]
  },
  {
   "cell_type": "code",
   "execution_count": null,
   "metadata": {},
   "outputs": [],
   "source": [
    "# Importing functions from hh_dates HH Module\n",
    "from HH_Modules.hh_dates import hh_create_bus_dates\n",
    "from HH_Modules.hh_dates import hh_drop_nyse_closures\n",
    "from HH_Modules.hh_ts import hh_missing_data_manager\n",
    "from HH_Modules.hh_ts import hh_rolling_percentile\n",
    "from HH_Modules.hh_ts import hh_rolling_simple_MA\n",
    "from HH_Modules.hh_ts import hh_rolling_z_score\n",
    "from HH_Modules.hh_mri import hh_build_mri_from_model\n",
    "from HH_Modules.hh_mri import hh_standartize_mri_data"
   ]
  },
  {
   "cell_type": "code",
   "execution_count": null,
   "metadata": {},
   "outputs": [],
   "source": [
    "# Importing standard modules and date-special modules\n",
    "import numpy as np\n",
    "import pandas as pd\n",
    "from datetime import date\n",
    "from datetime import timedelta"
   ]
  },
  {
   "cell_type": "code",
   "execution_count": null,
   "metadata": {},
   "outputs": [],
   "source": [
    "# Examples of using hh_dates function hh_create_bus_dates\n",
    "date_format = '%Y-%m-%d'\n",
    "null_date_ML_number = 693962\n",
    "null_date_stamp = date(1900, 1, 1)\n",
    "first_date_stamp = date(1998, 1, 1)\n",
    "last_date_stamp = date(2018, 12, 31)\n",
    "standart_date_stamp = date(2001, 1, 1)\n",
    "null_date = null_date_stamp.strftime(date_format)\n",
    "first_date = first_date_stamp.strftime(date_format)\n",
    "last_date = last_date_stamp.strftime(date_format)\n",
    "standart_date = standart_date_stamp.strftime(date_format)\n",
    "\n",
    "date_index_days_str = hh_create_bus_dates('string', first_date, last_date, 'day')\n",
    "date_index_weeks_str = hh_create_bus_dates('string', first_date, last_date, 'week')\n",
    "date_index_monthes_str = hh_create_bus_dates('string', first_date, last_date, 'month')\n",
    "date_index_quarters_str = hh_create_bus_dates('string', first_date, last_date, 'quarter')\n",
    "date_index_years_str = hh_create_bus_dates('string', first_date, last_date, 'year')\n",
    "\n",
    "date_index_days_date = hh_create_bus_dates('date', first_date_stamp, last_date_stamp, 'day')\n",
    "date_index_weeks_date = hh_create_bus_dates('date', first_date_stamp, last_date_stamp, 'week')\n",
    "date_index_monthes_date = hh_create_bus_dates('date', first_date_stamp, last_date_stamp, 'month')\n",
    "date_index_quarters_date = hh_create_bus_dates('date', first_date_stamp, last_date_stamp, 'quarter')\n",
    "date_index_years_date = hh_create_bus_dates('date', first_date_stamp, last_date_stamp, 'year')\n",
    "\n",
    "print('First date: ', first_date)\n",
    "print('Last date: ', last_date)\n",
    "print('Business days (string type): ', date_index_days_str)\n",
    "print('Business weeks ends (date type): ', date_index_weeks_date)\n",
    "print('Business monthes ends (string type): ', date_index_monthes_str)\n",
    "print('Business quarters ends (date type): ', date_index_quarters_date)\n",
    "print('Business years ends (string type): ', date_index_years_str)"
   ]
  },
  {
   "cell_type": "code",
   "execution_count": null,
   "metadata": {},
   "outputs": [],
   "source": [
    "# Generating Timeseries for comparing MatLab and Python hh_create_bus_dates functionality\n",
    "calendar_delta = first_date_stamp - null_date_stamp\n",
    "\n",
    "date_index_calendar_days = pd.date_range(first_date, last_date, freq = 'D')\n",
    "\n",
    "ser_all_days = pd.Series(np.arange(date_index_calendar_days.size) + null_date_ML_number + calendar_delta.days, \n",
    "                         index = date_index_calendar_days.date, name = 'ML Numbers')\n",
    "\n",
    "ser_bus_days = ser_all_days[date_index_days_str]\n",
    "ser_bus_days.index.name = 'Business Dates'\n",
    "ser_bus_days.head(), ser_bus_days.tail()"
   ]
  },
  {
   "cell_type": "code",
   "execution_count": null,
   "metadata": {},
   "outputs": [],
   "source": [
    "# Generating xlsx file for comparing MatLab and Python hh_create_bus_dates functionality on example of business days daily\n",
    "xls_writer = pd.ExcelWriter('Data_Files/Test_Files/bus_dts.xlsx')\n",
    "ser_bus_days.to_excel(xls_writer, 'daily')\n",
    "xls_writer.save()"
   ]
  },
  {
   "cell_type": "code",
   "execution_count": null,
   "metadata": {},
   "outputs": [],
   "source": [
    "# Examples of using hh_dates function hh_drop_nyse_closures\n",
    "calendar_delta = first_date_stamp - null_date_stamp\n",
    "\n",
    "date_nyse_index_days = hh_drop_nyse_closures(date_index_days_str)\n",
    "ser_bus_nyse_days = pd.Series(0, index = date_nyse_index_days.date, name = 'ML Numbers')\n",
    "ser_bus_nyse_days.index.name = 'Business Dates Wihtout NYSE Closures'\n",
    "ser_bus_nyse_days.head(), ser_bus_nyse_days.tail()"
   ]
  },
  {
   "cell_type": "code",
   "execution_count": null,
   "metadata": {},
   "outputs": [],
   "source": [
    "# Generating xlsx file for comparing MatLab and Python hh_drop_nyse_closures functionality on example of business days daily\n",
    "xls_writer = pd.ExcelWriter('Data_Files/Test_Files/bus_nyse_dts.xlsx')\n",
    "ser_bus_nyse_days.to_excel(xls_writer, 'daily')\n",
    "xls_writer.save()\n",
    "# identified one discrepancy: 2018-12-05 - NYSE closure day for Python library and valid business day for MatLab function"
   ]
  },
  {
   "cell_type": "code",
   "execution_count": null,
   "metadata": {},
   "outputs": [],
   "source": [
    "# Examples of using hh_ts function hh_missing_data_manager\n",
    "df_substitution_test = pd.DataFrame(np.arange(15).reshape(5, 3), index = date_index_days_str[:5], columns = ['Atos', 'Portos', 'Aramis'])\n",
    "df_substitution_test.iloc[:2, 0] = 30\n",
    "df_substitution_test.iloc[4, 2] = 10\n",
    "df_substitution_test.iloc[1, 2] = np.NaN\n",
    "df_substitution_test.iloc[2, :] = np.NaN\n",
    "df_substitution_test.iloc[4, :2] = np.NaN\n",
    "df_substitution_test"
   ]
  },
  {
   "cell_type": "code",
   "execution_count": null,
   "metadata": {},
   "outputs": [],
   "source": [
    "df_substituted_clear = hh_missing_data_manager(df_substitution_test, manage_option = 'clear')\n",
    "df_substituted_clear"
   ]
  },
  {
   "cell_type": "code",
   "execution_count": null,
   "metadata": {},
   "outputs": [],
   "source": [
    "df_substituted_mean = hh_missing_data_manager(df_substitution_test, manage_option = 'mean')\n",
    "df_substituted_mean"
   ]
  },
  {
   "cell_type": "code",
   "execution_count": null,
   "metadata": {},
   "outputs": [],
   "source": [
    "df_substituted_median = hh_missing_data_manager(df_substitution_test, manage_option = 'median')\n",
    "df_substituted_median"
   ]
  },
  {
   "cell_type": "code",
   "execution_count": null,
   "metadata": {},
   "outputs": [],
   "source": [
    "df_substituted_previous = hh_missing_data_manager(df_substitution_test, manage_option = 'previous')\n",
    "df_substituted_previous"
   ]
  },
  {
   "cell_type": "code",
   "execution_count": null,
   "metadata": {},
   "outputs": [],
   "source": [
    "df_substituted_previous_lag = hh_missing_data_manager(df_substitution_test, manage_option = 'previous', prev_lag = 1)\n",
    "df_substituted_previous_lag"
   ]
  },
  {
   "cell_type": "code",
   "execution_count": null,
   "metadata": {},
   "outputs": [],
   "source": [
    "# Example of using hh_mri function hh_build_mri_from_model: choose commented True alternative option to regenerate h5 file from xlsx\n",
    "path_mri_data_xlsx = 'Data_Files/Source_Files/mri_data.xlsx'\n",
    "mri_model_name = 'Model 01'\n",
    "path_mri_data_hdf = 'Data_Files/Source_Files/mri_data.h5'\n",
    "object_mri_data_hdf = 'source_data'\n",
    "#[df_model_asset, df_model_MRI, df_selected_data] = hh_build_mri_from_model(path_mri_data_xlsx, mri_model_name, \n",
    "#                                                                           path_mri_data_hdf, object_mri_data_hdf, date_nyse_index_days, True)\n",
    "[df_model_asset, df_model_MRI, df_selected_data] = hh_build_mri_from_model(path_mri_data_xlsx, mri_model_name, \n",
    "                                                                           path_mri_data_hdf, object_mri_data_hdf, date_nyse_index_days, False)"
   ]
  },
  {
   "cell_type": "code",
   "execution_count": null,
   "metadata": {},
   "outputs": [],
   "source": [
    "df_selected_data.head(), df_selected_data.tail()"
   ]
  },
  {
   "cell_type": "code",
   "execution_count": null,
   "metadata": {},
   "outputs": [],
   "source": [
    "# Generating xlsx file for comparing MatLab and Python hh_build_mri_from_model functionality\n",
    "xls_writer = pd.ExcelWriter('Data_Files/Test_Files/extracted_and_filled.xlsx')\n",
    "df_selected_data.to_excel(xls_writer, 'Python')\n",
    "xls_writer.save()\n",
    "# No discrepancies identified except earlier 2018-12-05 question - NYSE closure for Python library and valid business day for MatLab function"
   ]
  },
  {
   "cell_type": "code",
   "execution_count": null,
   "metadata": {},
   "outputs": [],
   "source": [
    "df_model_asset"
   ]
  },
  {
   "cell_type": "code",
   "execution_count": null,
   "metadata": {},
   "outputs": [],
   "source": [
    "df_model_MRI"
   ]
  },
  {
   "cell_type": "code",
   "execution_count": null,
   "metadata": {},
   "outputs": [],
   "source": [
    "# Example of using hh_ts function hh_rolling_percentile\n",
    "ser_ranks_less_any = hh_rolling_percentile(df_selected_data['iv_eu'], 252, 252000, min_interpretation = 'any', manage_option = 'less')\n",
    "ser_ranks_less_equal_any = hh_rolling_percentile(df_selected_data['iv_eu'], 252, 252000, min_interpretation = 'any', manage_option = 'less_equal')\n",
    "ser_ranks_mean_any = hh_rolling_percentile(df_selected_data['iv_eu'], 252, 252000, min_interpretation = 'any', manage_option = 'mean')\n",
    "ser_ranks_wnd_any = hh_rolling_percentile(df_selected_data['iv_us'], 30, 60, min_interpretation = 'any', manage_option = 'mean')\n",
    "ser_ranks_less_notNaN = hh_rolling_percentile(df_selected_data['iv_eu'], 252, 252000, manage_option = 'less')\n",
    "ser_ranks_less_equal_notNaN = hh_rolling_percentile(df_selected_data['iv_eu'], 252, 252000, manage_option = 'less_equal')\n",
    "ser_ranks_mean_notNaN = hh_rolling_percentile(df_selected_data['iv_eu'], 252, 252000, manage_option = 'mean')\n",
    "ser_ranks_wnd_notNaN = hh_rolling_percentile(df_selected_data['iv_us'], 30, 60, manage_option = 'mean')"
   ]
  },
  {
   "cell_type": "code",
   "execution_count": null,
   "metadata": {},
   "outputs": [],
   "source": [
    "# Generating xlsx file for comparing MatLab and Python hh_rolling_percentile functionality\n",
    "xls_writer = pd.ExcelWriter('Data_Files/Test_Files/python_pctiles.xlsx')\n",
    "ser_ranks_less_any.to_excel(xls_writer, 'Less any')\n",
    "ser_ranks_less_equal_any.to_excel(xls_writer, 'Less_Equal any')\n",
    "ser_ranks_mean_any.to_excel(xls_writer, 'Mean any')\n",
    "ser_ranks_wnd_any.to_excel(xls_writer, 'Short_Window any')\n",
    "ser_ranks_less_notNaN.to_excel(xls_writer, 'Less not NaN')\n",
    "ser_ranks_less_equal_notNaN.to_excel(xls_writer, 'Less_Equal not NaN')\n",
    "ser_ranks_mean_notNaN.to_excel(xls_writer, 'Mean not NaN')\n",
    "ser_ranks_wnd_notNaN.to_excel(xls_writer, 'Short_Window not NaN')\n",
    "xls_writer.save()"
   ]
  },
  {
   "cell_type": "code",
   "execution_count": null,
   "metadata": {},
   "outputs": [],
   "source": [
    "# Example of using hh_ts function hh_rolling_simple_MA\n",
    "ser_SMA_long_any = hh_rolling_simple_MA(np.log(df_selected_data['iv_eu']), 252, 252000, min_interpretation = 'any')\n",
    "ser_SMA_short_any = hh_rolling_simple_MA(np.log(df_selected_data['iv_us']), 30, 60, min_interpretation = 'any', factor_period = 'day')\n",
    "ser_SMA_long_notNaN = hh_rolling_simple_MA(np.log(df_selected_data['iv_eu']), 252, 252000)\n",
    "ser_SMA_short_notNaN = hh_rolling_simple_MA(np.log(df_selected_data['iv_us']), 30, 60, factor_period = 'day')"
   ]
  },
  {
   "cell_type": "code",
   "execution_count": null,
   "metadata": {},
   "outputs": [],
   "source": [
    "# Generating xlsx file for comparing MatLab and Python hh_rolling_simple_MA functionality\n",
    "xls_writer = pd.ExcelWriter('Data_Files/Test_Files/python_SMA.xlsx')\n",
    "ser_SMA_long_any.to_excel(xls_writer, 'SMA long any')\n",
    "ser_SMA_short_any.to_excel(xls_writer, 'SMA short any')\n",
    "ser_SMA_long_notNaN.to_excel(xls_writer, 'SMA long not NaN')\n",
    "ser_SMA_short_notNaN.to_excel(xls_writer, 'SMA short not NaN')\n",
    "xls_writer.save()"
   ]
  },
  {
   "cell_type": "code",
   "execution_count": null,
   "metadata": {},
   "outputs": [],
   "source": [
    "# Example of using hh_ts function hh_rolling_z_score\n",
    "[df_z_score, df_z_matrix] = hh_rolling_z_score(np.log(df_selected_data['iv_eu']), min_wnd = 252, max_wnd = 25200, winsor_option = 'value', winsor_bottom = -5, winsor_top = 5, fill_option = 'backfill')"
   ]
  },
  {
   "cell_type": "code",
   "execution_count": null,
   "metadata": {},
   "outputs": [],
   "source": [
    "# Generating xlsx file for comparing MatLab and Python hh_rolling_z_score functionality\n",
    "xls_writer = pd.ExcelWriter('Data_Files/Test_Files/python_Z_score.xlsx')\n",
    "df_z_score.to_excel(xls_writer, 'Z Score series')\n",
    "df_z_matrix.iloc[[0, 251, 252, 253, 501, 502, 503, 504, 5281, 5282], :].to_excel(xls_writer, 'Z Matrix')\n",
    "xls_writer.save()"
   ]
  },
  {
   "cell_type": "code",
   "execution_count": null,
   "metadata": {},
   "outputs": [],
   "source": [
    "###################################################################################################################################"
   ]
  },
  {
   "cell_type": "code",
   "execution_count": null,
   "metadata": {},
   "outputs": [],
   "source": [
    "roll_window_min = 252 # One business year\n",
    "roll_window_max = 252 * 100 # Hundred business years\n",
    "winsor_bound_bottom = -5\n",
    "winsor_bound_top = 5"
   ]
  },
  {
   "cell_type": "code",
   "execution_count": null,
   "metadata": {},
   "outputs": [],
   "source": [
    "df_test = hh_standartize_mri_data(df_model_asset, df_selected_data, standart_date, roll_window_min, roll_window_max, winsor_bound_bottom, winsor_bound_top)"
   ]
  },
  {
   "cell_type": "code",
   "execution_count": null,
   "metadata": {},
   "outputs": [],
   "source": []
  },
  {
   "cell_type": "code",
   "execution_count": null,
   "metadata": {},
   "outputs": [],
   "source": []
  },
  {
   "cell_type": "code",
   "execution_count": null,
   "metadata": {},
   "outputs": [],
   "source": []
  },
  {
   "cell_type": "code",
   "execution_count": null,
   "metadata": {},
   "outputs": [],
   "source": []
  },
  {
   "cell_type": "code",
   "execution_count": null,
   "metadata": {},
   "outputs": [],
   "source": []
  },
  {
   "cell_type": "code",
   "execution_count": null,
   "metadata": {},
   "outputs": [],
   "source": []
  }
 ],
 "metadata": {
  "kernelspec": {
   "display_name": "Python 3",
   "language": "python",
   "name": "python3"
  },
  "language_info": {
   "codemirror_mode": {
    "name": "ipython",
    "version": 3
   },
   "file_extension": ".py",
   "mimetype": "text/x-python",
   "name": "python",
   "nbconvert_exporter": "python",
   "pygments_lexer": "ipython3",
   "version": "3.7.0"
  }
 },
 "nbformat": 4,
 "nbformat_minor": 2
}
