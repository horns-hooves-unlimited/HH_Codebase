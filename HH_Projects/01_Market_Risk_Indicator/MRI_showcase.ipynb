{
 "cells": [
  {
   "cell_type": "code",
   "execution_count": null,
   "metadata": {},
   "outputs": [],
   "source": [
    "# THIS NOTEBOOK SHOWS EXAMPLES OF CUSTOM AND PYTHON FUNCTIONS APPLICATION FOR THE PURPOSES OF MRI PROJECT"
   ]
  },
  {
   "cell_type": "code",
   "execution_count": null,
   "metadata": {},
   "outputs": [],
   "source": [
    "# Expanding visibility zone for Python engine to make HH Modules seen\n",
    "import sys \n",
    "sys.path.append('../..')"
   ]
  },
  {
   "cell_type": "code",
   "execution_count": null,
   "metadata": {},
   "outputs": [],
   "source": [
    "# Importing functions from hh_dates HH Module\n",
    "from HH_Modules.hh_dates import hh_create_bus_dates\n",
    "from HH_Modules.hh_dates import hh_drop_nyse_closures\n",
    "from HH_Modules.hh_mri import hh_import_mri_source"
   ]
  },
  {
   "cell_type": "code",
   "execution_count": null,
   "metadata": {},
   "outputs": [],
   "source": [
    "# Importing standard modules and date-special modules\n",
    "import numpy as np\n",
    "import pandas as pd\n",
    "from datetime import date\n",
    "from datetime import timedelta"
   ]
  },
  {
   "cell_type": "code",
   "execution_count": null,
   "metadata": {},
   "outputs": [],
   "source": [
    "# Examples of using hh_dates function hh_create_bus_dates\n",
    "date_format = '%Y-%m-%d'\n",
    "null_date_ML_number = 693962\n",
    "null_date_stamp = date(1900, 1, 1)\n",
    "first_date_stamp = date(1998, 1, 1)\n",
    "last_date_stamp = date(2018, 12, 31)\n",
    "null_date = null_date_stamp.strftime(date_format)\n",
    "first_date = first_date_stamp.strftime(date_format)\n",
    "last_date = last_date_stamp.strftime(date_format)\n",
    "\n",
    "date_index_days_str = hh_create_bus_dates('string', first_date, last_date, 'day')\n",
    "date_index_weeks_str = hh_create_bus_dates('string', first_date, last_date, 'week')\n",
    "date_index_monthes_str = hh_create_bus_dates('string', first_date, last_date, 'month')\n",
    "date_index_quarters_str = hh_create_bus_dates('string', first_date, last_date, 'quarter')\n",
    "date_index_years_str = hh_create_bus_dates('string', first_date, last_date, 'year')\n",
    "\n",
    "date_index_days_date = hh_create_bus_dates('date', first_date_stamp, last_date_stamp, 'day')\n",
    "date_index_weeks_date = hh_create_bus_dates('date', first_date_stamp, last_date_stamp, 'week')\n",
    "date_index_monthes_date = hh_create_bus_dates('date', first_date_stamp, last_date_stamp, 'month')\n",
    "date_index_quarters_date = hh_create_bus_dates('date', first_date_stamp, last_date_stamp, 'quarter')\n",
    "date_index_years_date = hh_create_bus_dates('date', first_date_stamp, last_date_stamp, 'year')\n",
    "\n",
    "print('First date: ', first_date)\n",
    "print('Last date: ', last_date)\n",
    "print('Business days (string type): ', date_index_days_str)\n",
    "print('Business weeks ends (date type): ', date_index_weeks_date)\n",
    "print('Business monthes ends (string type): ', date_index_monthes_str)\n",
    "print('Business quarters ends (date type): ', date_index_quarters_date)\n",
    "print('Business years ends (string type): ', date_index_years_str)"
   ]
  },
  {
   "cell_type": "code",
   "execution_count": null,
   "metadata": {},
   "outputs": [],
   "source": [
    "# Generating Timeseries for comparing MatLab and Python hh_create_bus_dates functionality\n",
    "calendar_delta = first_date_stamp - null_date_stamp\n",
    "\n",
    "date_index_calendar_days = pd.date_range(first_date, last_date, freq = 'D')\n",
    "\n",
    "ser_all_days = pd.Series(np.arange(date_index_calendar_days.size) + null_date_ML_number + calendar_delta.days, \n",
    "                         index = date_index_calendar_days.date, name = 'ML Numbers')\n",
    "\n",
    "ser_bus_days = ser_all_days[date_index_days_str]\n",
    "ser_bus_days.index.name = 'Business Dates'\n",
    "ser_bus_days"
   ]
  },
  {
   "cell_type": "code",
   "execution_count": null,
   "metadata": {},
   "outputs": [],
   "source": [
    "# Generating xlsx file for comparing MatLab and Python hh_create_bus_dates functionality on example of business days daily\n",
    "xls_writer = pd.ExcelWriter('Data_Files/Test_Files/bus_dts.xlsx')\n",
    "ser_bus_days.to_excel(xls_writer, 'daily')\n",
    "xls_writer.save()"
   ]
  },
  {
   "cell_type": "code",
   "execution_count": null,
   "metadata": {},
   "outputs": [],
   "source": [
    "# Examples of using hh_dates function hh_drop_nyse_closures\n",
    "calendar_delta = first_date_stamp - null_date_stamp\n",
    "\n",
    "date_nyse_index_days = hh_drop_nyse_closures(date_index_days_str)\n",
    "ser_bus_nyse_days = pd.Series(0, index = date_nyse_index_days.date, name = 'ML Numbers')\n",
    "ser_bus_nyse_days.index.name = 'Business Dates Wihtout NYSE Closures'\n",
    "ser_bus_nyse_days"
   ]
  },
  {
   "cell_type": "code",
   "execution_count": null,
   "metadata": {},
   "outputs": [],
   "source": [
    "# Generating xlsx file for comparing MatLab and Python hh_drop_nyse_closures functionality on example of business days daily\n",
    "xls_writer = pd.ExcelWriter('Data_Files/Test_Files/bus_nyse_dts.xlsx')\n",
    "ser_bus_nyse_days.to_excel(xls_writer, 'daily')\n",
    "xls_writer.save()\n",
    "# identified one discrepancy: 2018-12-05 - NYSE closure day for Python library and valid business day for MatLab function"
   ]
  },
  {
   "cell_type": "code",
   "execution_count": null,
   "metadata": {},
   "outputs": [],
   "source": [
    "###################################################################################################################################"
   ]
  },
  {
   "cell_type": "code",
   "execution_count": null,
   "metadata": {},
   "outputs": [],
   "source": [
    "df_model = hh_import_mri_source('Data_Files/Source_Files/mri_data.xlsx', 'Model 01', date_nyse_index_days)"
   ]
  },
  {
   "cell_type": "code",
   "execution_count": 14,
   "metadata": {},
   "outputs": [
    {
     "data": {
      "text/html": [
       "<div>\n",
       "<style scoped>\n",
       "    .dataframe tbody tr th:only-of-type {\n",
       "        vertical-align: middle;\n",
       "    }\n",
       "\n",
       "    .dataframe tbody tr th {\n",
       "        vertical-align: top;\n",
       "    }\n",
       "\n",
       "    .dataframe thead th {\n",
       "        text-align: right;\n",
       "    }\n",
       "</style>\n",
       "<table border=\"1\" class=\"dataframe\">\n",
       "  <thead>\n",
       "    <tr style=\"text-align: right;\">\n",
       "      <th></th>\n",
       "      <th>Asset Group</th>\n",
       "      <th>Asset Group Description</th>\n",
       "      <th>Asset Code</th>\n",
       "      <th>Asset Tab Name</th>\n",
       "      <th>Asset Desc</th>\n",
       "      <th>Processing Routine</th>\n",
       "      <th>Factor Weights</th>\n",
       "    </tr>\n",
       "  </thead>\n",
       "  <tbody>\n",
       "    <tr>\n",
       "      <th>0</th>\n",
       "      <td>EQ</td>\n",
       "      <td>MRI Equity IVol Grp</td>\n",
       "      <td>iv_us</td>\n",
       "      <td>VIX</td>\n",
       "      <td>CBOE SPX VOLATILITY INDX</td>\n",
       "      <td>x</td>\n",
       "      <td>0.166667</td>\n",
       "    </tr>\n",
       "    <tr>\n",
       "      <th>1</th>\n",
       "      <td>EQ</td>\n",
       "      <td>MRI Equity IVol Grp</td>\n",
       "      <td>iv_eu</td>\n",
       "      <td>V2X</td>\n",
       "      <td>VSTOXX Index</td>\n",
       "      <td>x</td>\n",
       "      <td>0.166667</td>\n",
       "    </tr>\n",
       "    <tr>\n",
       "      <th>2</th>\n",
       "      <td>EQ</td>\n",
       "      <td>MRI Equity IVol Grp</td>\n",
       "      <td>iv_uk</td>\n",
       "      <td>VFTSE</td>\n",
       "      <td>FTSE100 Volatility Index</td>\n",
       "      <td>x</td>\n",
       "      <td>0.166667</td>\n",
       "    </tr>\n",
       "    <tr>\n",
       "      <th>3</th>\n",
       "      <td>EQ</td>\n",
       "      <td>MRI Equity IVol Grp</td>\n",
       "      <td>iv_jp</td>\n",
       "      <td>VNKY</td>\n",
       "      <td>NIKKEI Volatility Index</td>\n",
       "      <td>x</td>\n",
       "      <td>0.166667</td>\n",
       "    </tr>\n",
       "    <tr>\n",
       "      <th>4</th>\n",
       "      <td>EQ</td>\n",
       "      <td>MRI Equity IVol Grp</td>\n",
       "      <td>iv_rvx</td>\n",
       "      <td>RVX</td>\n",
       "      <td>CBOE RSL2000 VOLATILTY I</td>\n",
       "      <td>x</td>\n",
       "      <td>0.166667</td>\n",
       "    </tr>\n",
       "    <tr>\n",
       "      <th>5</th>\n",
       "      <td>EQ</td>\n",
       "      <td>MRI Equity IVol Grp</td>\n",
       "      <td>iv_eem</td>\n",
       "      <td>VXEEM</td>\n",
       "      <td>CBOE EM ETF Volatility</td>\n",
       "      <td>x</td>\n",
       "      <td>0.166667</td>\n",
       "    </tr>\n",
       "    <tr>\n",
       "      <th>7</th>\n",
       "      <td>FI</td>\n",
       "      <td>MRI Fixed Income Grp</td>\n",
       "      <td>oas_em</td>\n",
       "      <td>EMUSOAS</td>\n",
       "      <td>Bloomberg Barclays EM USD Aggr</td>\n",
       "      <td>x</td>\n",
       "      <td>0.500000</td>\n",
       "    </tr>\n",
       "    <tr>\n",
       "      <th>8</th>\n",
       "      <td>FI</td>\n",
       "      <td>MRI Fixed Income Grp</td>\n",
       "      <td>oas_hy</td>\n",
       "      <td>LF98OAS</td>\n",
       "      <td>Bloomberg Barclays US Corporat</td>\n",
       "      <td>x</td>\n",
       "      <td>0.500000</td>\n",
       "    </tr>\n",
       "    <tr>\n",
       "      <th>10</th>\n",
       "      <td>FX</td>\n",
       "      <td>MRI FOREX IVol Grp</td>\n",
       "      <td>fx_gbp</td>\n",
       "      <td>GBPUSD</td>\n",
       "      <td>GBP-USD OPT VOL 3M</td>\n",
       "      <td>x</td>\n",
       "      <td>0.250000</td>\n",
       "    </tr>\n",
       "    <tr>\n",
       "      <th>11</th>\n",
       "      <td>FX</td>\n",
       "      <td>MRI FOREX IVol Grp</td>\n",
       "      <td>fx_eur</td>\n",
       "      <td>EURUSD</td>\n",
       "      <td>EUR-USD OPT VOL 3M</td>\n",
       "      <td>x</td>\n",
       "      <td>0.250000</td>\n",
       "    </tr>\n",
       "    <tr>\n",
       "      <th>12</th>\n",
       "      <td>FX</td>\n",
       "      <td>MRI FOREX IVol Grp</td>\n",
       "      <td>fx_jpy</td>\n",
       "      <td>USDJPY</td>\n",
       "      <td>USD-JPY OPT VOL 3M</td>\n",
       "      <td>x</td>\n",
       "      <td>0.250000</td>\n",
       "    </tr>\n",
       "    <tr>\n",
       "      <th>13</th>\n",
       "      <td>FX</td>\n",
       "      <td>MRI FOREX IVol Grp</td>\n",
       "      <td>fx_chf</td>\n",
       "      <td>USDCHF</td>\n",
       "      <td>USD-CHF OPT VOL 3M</td>\n",
       "      <td>x</td>\n",
       "      <td>0.250000</td>\n",
       "    </tr>\n",
       "  </tbody>\n",
       "</table>\n",
       "</div>"
      ],
      "text/plain": [
       "   Asset Group Asset Group Description Asset Code Asset Tab Name  \\\n",
       "0           EQ     MRI Equity IVol Grp      iv_us            VIX   \n",
       "1           EQ     MRI Equity IVol Grp      iv_eu            V2X   \n",
       "2           EQ     MRI Equity IVol Grp      iv_uk          VFTSE   \n",
       "3           EQ     MRI Equity IVol Grp      iv_jp           VNKY   \n",
       "4           EQ     MRI Equity IVol Grp     iv_rvx            RVX   \n",
       "5           EQ     MRI Equity IVol Grp     iv_eem          VXEEM   \n",
       "7           FI    MRI Fixed Income Grp     oas_em        EMUSOAS   \n",
       "8           FI    MRI Fixed Income Grp     oas_hy        LF98OAS   \n",
       "10          FX      MRI FOREX IVol Grp     fx_gbp         GBPUSD   \n",
       "11          FX      MRI FOREX IVol Grp     fx_eur         EURUSD   \n",
       "12          FX      MRI FOREX IVol Grp     fx_jpy         USDJPY   \n",
       "13          FX      MRI FOREX IVol Grp     fx_chf         USDCHF   \n",
       "\n",
       "                        Asset Desc Processing Routine  Factor Weights  \n",
       "0         CBOE SPX VOLATILITY INDX                  x        0.166667  \n",
       "1                     VSTOXX Index                  x        0.166667  \n",
       "2         FTSE100 Volatility Index                  x        0.166667  \n",
       "3          NIKKEI Volatility Index                  x        0.166667  \n",
       "4         CBOE RSL2000 VOLATILTY I                  x        0.166667  \n",
       "5           CBOE EM ETF Volatility                  x        0.166667  \n",
       "7   Bloomberg Barclays EM USD Aggr                  x        0.500000  \n",
       "8   Bloomberg Barclays US Corporat                  x        0.500000  \n",
       "10              GBP-USD OPT VOL 3M                  x        0.250000  \n",
       "11              EUR-USD OPT VOL 3M                  x        0.250000  \n",
       "12              USD-JPY OPT VOL 3M                  x        0.250000  \n",
       "13              USD-CHF OPT VOL 3M                  x        0.250000  "
      ]
     },
     "execution_count": 14,
     "metadata": {},
     "output_type": "execute_result"
    }
   ],
   "source": [
    "df_model"
   ]
  },
  {
   "cell_type": "code",
   "execution_count": 15,
   "metadata": {},
   "outputs": [
    {
     "data": {
      "text/plain": [
       "0         VIX\n",
       "1         V2X\n",
       "2       VFTSE\n",
       "3        VNKY\n",
       "4         RVX\n",
       "5       VXEEM\n",
       "7     EMUSOAS\n",
       "8     LF98OAS\n",
       "10     GBPUSD\n",
       "11     EURUSD\n",
       "12     USDJPY\n",
       "13     USDCHF\n",
       "Name: Asset Tab Name, dtype: object"
      ]
     },
     "execution_count": 15,
     "metadata": {},
     "output_type": "execute_result"
    }
   ],
   "source": []
  },
  {
   "cell_type": "code",
   "execution_count": null,
   "metadata": {},
   "outputs": [],
   "source": []
  },
  {
   "cell_type": "code",
   "execution_count": null,
   "metadata": {},
   "outputs": [],
   "source": []
  },
  {
   "cell_type": "code",
   "execution_count": null,
   "metadata": {},
   "outputs": [],
   "source": []
  }
 ],
 "metadata": {
  "kernelspec": {
   "display_name": "Python 3",
   "language": "python",
   "name": "python3"
  },
  "language_info": {
   "codemirror_mode": {
    "name": "ipython",
    "version": 3
   },
   "file_extension": ".py",
   "mimetype": "text/x-python",
   "name": "python",
   "nbconvert_exporter": "python",
   "pygments_lexer": "ipython3",
   "version": "3.7.0"
  }
 },
 "nbformat": 4,
 "nbformat_minor": 2
}
