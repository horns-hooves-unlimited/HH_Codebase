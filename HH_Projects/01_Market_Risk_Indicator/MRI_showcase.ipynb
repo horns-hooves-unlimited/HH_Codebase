{
 "cells": [
  {
   "cell_type": "code",
   "execution_count": 1,
   "metadata": {},
   "outputs": [],
   "source": [
    "import sys \n",
    "sys.path.append('../..')"
   ]
  },
  {
   "cell_type": "code",
   "execution_count": 2,
   "metadata": {},
   "outputs": [],
   "source": [
    "from modules.hh_dates import create_bus_dates"
   ]
  },
  {
   "cell_type": "code",
   "execution_count": 3,
   "metadata": {},
   "outputs": [
    {
     "data": {
      "text/plain": [
       "DatetimeIndex(['2017-01-06', '2017-01-13', '2017-01-20', '2017-01-27',\n",
       "               '2017-02-03', '2017-02-10', '2017-02-17', '2017-02-24',\n",
       "               '2017-03-03', '2017-03-10',\n",
       "               ...\n",
       "               '2019-01-25', '2019-02-01', '2019-02-08', '2019-02-15',\n",
       "               '2019-02-22', '2019-03-01', '2019-03-08', '2019-03-15',\n",
       "               '2019-03-22', '2019-03-29'],\n",
       "              dtype='datetime64[ns]', length=117, freq='W-FRI')"
      ]
     },
     "execution_count": 3,
     "metadata": {},
     "output_type": "execute_result"
    }
   ],
   "source": [
    "date_index = create_bus_dates('2017-01-01', '2019-03-31', 'week')\n",
    "date_index"
   ]
  },
  {
   "cell_type": "code",
   "execution_count": null,
   "metadata": {},
   "outputs": [],
   "source": []
  }
 ],
 "metadata": {
  "kernelspec": {
   "display_name": "Python 3",
   "language": "python",
   "name": "python3"
  },
  "language_info": {
   "codemirror_mode": {
    "name": "ipython",
    "version": 3
   },
   "file_extension": ".py",
   "mimetype": "text/x-python",
   "name": "python",
   "nbconvert_exporter": "python",
   "pygments_lexer": "ipython3",
   "version": "3.7.0"
  }
 },
 "nbformat": 4,
 "nbformat_minor": 2
}
