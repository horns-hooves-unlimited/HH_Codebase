{
 "cells": [
  {
   "cell_type": "code",
   "execution_count": 1,
   "metadata": {},
   "outputs": [],
   "source": [
    "# THIS NOTEBOOK SHOWS EXAMPLES OF CUSTOM AND PYTHON FUNCTIONS APPLICATION FOR THE PURPOSES OF MRI PROJECT"
   ]
  },
  {
   "cell_type": "code",
   "execution_count": 2,
   "metadata": {},
   "outputs": [],
   "source": [
    "# Expanding visibility zone for Python engine to make HH Modules seen\n",
    "import sys \n",
    "sys.path.append('../..')"
   ]
  },
  {
   "cell_type": "code",
   "execution_count": 3,
   "metadata": {},
   "outputs": [],
   "source": [
    "# Importing functions from hh_dates HH Module\n",
    "from HH_Modules.hh_dates import hh_create_bus_dates\n",
    "from HH_Modules.hh_dates import hh_drop_nyse_closures\n",
    "from HH_Modules.hh_ts import hh_missing_data_manager\n",
    "from HH_Modules.hh_ts import hh_rolling_percentile\n",
    "from HH_Modules.hh_ts import hh_rolling_simple_MA\n",
    "from HH_Modules.hh_ts import hh_rolling_z_score\n",
    "from HH_Modules.hh_mri import hh_build_mri_from_model\n",
    "from HH_Modules.hh_mri import hh_standartize_mri_data"
   ]
  },
  {
   "cell_type": "code",
   "execution_count": 4,
   "metadata": {},
   "outputs": [],
   "source": [
    "# Importing standard modules and date-special modules\n",
    "import numpy as np\n",
    "import pandas as pd\n",
    "from datetime import date\n",
    "from datetime import timedelta"
   ]
  },
  {
   "cell_type": "code",
   "execution_count": 5,
   "metadata": {},
   "outputs": [
    {
     "name": "stdout",
     "output_type": "stream",
     "text": [
      "hh_create_bus_dates: Business dates index for period from 1998-01-01 to 2018-12-31 with day interval successfully generated\n",
      "hh_create_bus_dates: Business dates index for period from 1998-01-01 to 2018-12-31 with week interval successfully generated\n",
      "hh_create_bus_dates: Business dates index for period from 1998-01-01 to 2018-12-31 with month interval successfully generated\n",
      "hh_create_bus_dates: Business dates index for period from 1998-01-01 to 2018-12-31 with quarter interval successfully generated\n",
      "hh_create_bus_dates: Business dates index for period from 1998-01-01 to 2018-12-31 with year interval successfully generated\n",
      "hh_create_bus_dates: Business dates index for period from 1998-01-01 to 2018-12-31 with day interval successfully generated\n",
      "hh_create_bus_dates: Business dates index for period from 1998-01-01 to 2018-12-31 with week interval successfully generated\n",
      "hh_create_bus_dates: Business dates index for period from 1998-01-01 to 2018-12-31 with month interval successfully generated\n",
      "hh_create_bus_dates: Business dates index for period from 1998-01-01 to 2018-12-31 with quarter interval successfully generated\n",
      "hh_create_bus_dates: Business dates index for period from 1998-01-01 to 2018-12-31 with year interval successfully generated\n",
      "First date:  1998-01-01\n",
      "Last date:  2018-12-31\n",
      "Business days (string type):  DatetimeIndex(['1998-01-01', '1998-01-02', '1998-01-05', '1998-01-06',\n",
      "               '1998-01-07', '1998-01-08', '1998-01-09', '1998-01-12',\n",
      "               '1998-01-13', '1998-01-14',\n",
      "               ...\n",
      "               '2018-12-18', '2018-12-19', '2018-12-20', '2018-12-21',\n",
      "               '2018-12-24', '2018-12-25', '2018-12-26', '2018-12-27',\n",
      "               '2018-12-28', '2018-12-31'],\n",
      "              dtype='datetime64[ns]', length=5478, freq='B')\n",
      "Business weeks ends (date type):  DatetimeIndex(['1998-01-02', '1998-01-09', '1998-01-16', '1998-01-23',\n",
      "               '1998-01-30', '1998-02-06', '1998-02-13', '1998-02-20',\n",
      "               '1998-02-27', '1998-03-06',\n",
      "               ...\n",
      "               '2018-10-26', '2018-11-02', '2018-11-09', '2018-11-16',\n",
      "               '2018-11-23', '2018-11-30', '2018-12-07', '2018-12-14',\n",
      "               '2018-12-21', '2018-12-28'],\n",
      "              dtype='datetime64[ns]', length=1096, freq='W-FRI')\n",
      "Business monthes ends (string type):  DatetimeIndex(['1998-01-30', '1998-02-27', '1998-03-31', '1998-04-30',\n",
      "               '1998-05-29', '1998-06-30', '1998-07-31', '1998-08-31',\n",
      "               '1998-09-30', '1998-10-30',\n",
      "               ...\n",
      "               '2018-03-30', '2018-04-30', '2018-05-31', '2018-06-29',\n",
      "               '2018-07-31', '2018-08-31', '2018-09-28', '2018-10-31',\n",
      "               '2018-11-30', '2018-12-31'],\n",
      "              dtype='datetime64[ns]', length=252, freq='BM')\n",
      "Business quarters ends (date type):  DatetimeIndex(['1998-03-31', '1998-06-30', '1998-09-30', '1998-12-31',\n",
      "               '1999-03-31', '1999-06-30', '1999-09-30', '1999-12-31',\n",
      "               '2000-03-31', '2000-06-30', '2000-09-29', '2000-12-29',\n",
      "               '2001-03-30', '2001-06-29', '2001-09-28', '2001-12-31',\n",
      "               '2002-03-29', '2002-06-28', '2002-09-30', '2002-12-31',\n",
      "               '2003-03-31', '2003-06-30', '2003-09-30', '2003-12-31',\n",
      "               '2004-03-31', '2004-06-30', '2004-09-30', '2004-12-31',\n",
      "               '2005-03-31', '2005-06-30', '2005-09-30', '2005-12-30',\n",
      "               '2006-03-31', '2006-06-30', '2006-09-29', '2006-12-29',\n",
      "               '2007-03-30', '2007-06-29', '2007-09-28', '2007-12-31',\n",
      "               '2008-03-31', '2008-06-30', '2008-09-30', '2008-12-31',\n",
      "               '2009-03-31', '2009-06-30', '2009-09-30', '2009-12-31',\n",
      "               '2010-03-31', '2010-06-30', '2010-09-30', '2010-12-31',\n",
      "               '2011-03-31', '2011-06-30', '2011-09-30', '2011-12-30',\n",
      "               '2012-03-30', '2012-06-29', '2012-09-28', '2012-12-31',\n",
      "               '2013-03-29', '2013-06-28', '2013-09-30', '2013-12-31',\n",
      "               '2014-03-31', '2014-06-30', '2014-09-30', '2014-12-31',\n",
      "               '2015-03-31', '2015-06-30', '2015-09-30', '2015-12-31',\n",
      "               '2016-03-31', '2016-06-30', '2016-09-30', '2016-12-30',\n",
      "               '2017-03-31', '2017-06-30', '2017-09-29', '2017-12-29',\n",
      "               '2018-03-30', '2018-06-29', '2018-09-28', '2018-12-31'],\n",
      "              dtype='datetime64[ns]', freq='BQ-DEC')\n",
      "Business years ends (string type):  DatetimeIndex(['1998-12-31', '1999-12-31', '2000-12-29', '2001-12-31',\n",
      "               '2002-12-31', '2003-12-31', '2004-12-31', '2005-12-30',\n",
      "               '2006-12-29', '2007-12-31', '2008-12-31', '2009-12-31',\n",
      "               '2010-12-31', '2011-12-30', '2012-12-31', '2013-12-31',\n",
      "               '2014-12-31', '2015-12-31', '2016-12-30', '2017-12-29',\n",
      "               '2018-12-31'],\n",
      "              dtype='datetime64[ns]', freq='BA-DEC')\n"
     ]
    }
   ],
   "source": [
    "# Examples of using hh_dates function hh_create_bus_dates\n",
    "date_format = '%Y-%m-%d'\n",
    "null_date_ML_number = 693962\n",
    "null_date_stamp = date(1900, 1, 1)\n",
    "first_date_stamp = date(1998, 1, 1)\n",
    "last_date_stamp = date(2018, 12, 31)\n",
    "standart_date_stamp = date(2001, 1, 1)\n",
    "null_date = null_date_stamp.strftime(date_format)\n",
    "first_date = first_date_stamp.strftime(date_format)\n",
    "last_date = last_date_stamp.strftime(date_format)\n",
    "standart_date = standart_date_stamp.strftime(date_format)\n",
    "\n",
    "date_index_days_str = hh_create_bus_dates('string', first_date, last_date, 'day')\n",
    "date_index_weeks_str = hh_create_bus_dates('string', first_date, last_date, 'week')\n",
    "date_index_monthes_str = hh_create_bus_dates('string', first_date, last_date, 'month')\n",
    "date_index_quarters_str = hh_create_bus_dates('string', first_date, last_date, 'quarter')\n",
    "date_index_years_str = hh_create_bus_dates('string', first_date, last_date, 'year')\n",
    "\n",
    "date_index_days_date = hh_create_bus_dates('date', first_date_stamp, last_date_stamp, 'day')\n",
    "date_index_weeks_date = hh_create_bus_dates('date', first_date_stamp, last_date_stamp, 'week')\n",
    "date_index_monthes_date = hh_create_bus_dates('date', first_date_stamp, last_date_stamp, 'month')\n",
    "date_index_quarters_date = hh_create_bus_dates('date', first_date_stamp, last_date_stamp, 'quarter')\n",
    "date_index_years_date = hh_create_bus_dates('date', first_date_stamp, last_date_stamp, 'year')\n",
    "\n",
    "print('First date: ', first_date)\n",
    "print('Last date: ', last_date)\n",
    "print('Business days (string type): ', date_index_days_str)\n",
    "print('Business weeks ends (date type): ', date_index_weeks_date)\n",
    "print('Business monthes ends (string type): ', date_index_monthes_str)\n",
    "print('Business quarters ends (date type): ', date_index_quarters_date)\n",
    "print('Business years ends (string type): ', date_index_years_str)"
   ]
  },
  {
   "cell_type": "code",
   "execution_count": 6,
   "metadata": {},
   "outputs": [
    {
     "data": {
      "text/plain": [
       "(Business Dates\n",
       " 1998-01-01    729756\n",
       " 1998-01-02    729757\n",
       " 1998-01-05    729760\n",
       " 1998-01-06    729761\n",
       " 1998-01-07    729762\n",
       " Freq: B, Name: ML Numbers, dtype: int32, Business Dates\n",
       " 2018-12-25    737419\n",
       " 2018-12-26    737420\n",
       " 2018-12-27    737421\n",
       " 2018-12-28    737422\n",
       " 2018-12-31    737425\n",
       " Freq: B, Name: ML Numbers, dtype: int32)"
      ]
     },
     "execution_count": 6,
     "metadata": {},
     "output_type": "execute_result"
    }
   ],
   "source": [
    "# Generating Timeseries for comparing MatLab and Python hh_create_bus_dates functionality\n",
    "calendar_delta = first_date_stamp - null_date_stamp\n",
    "\n",
    "date_index_calendar_days = pd.date_range(first_date, last_date, freq = 'D')\n",
    "\n",
    "ser_all_days = pd.Series(np.arange(date_index_calendar_days.size) + null_date_ML_number + calendar_delta.days, \n",
    "                         index = date_index_calendar_days.date, name = 'ML Numbers')\n",
    "\n",
    "ser_bus_days = ser_all_days[date_index_days_str]\n",
    "ser_bus_days.index.name = 'Business Dates'\n",
    "ser_bus_days.head(), ser_bus_days.tail()"
   ]
  },
  {
   "cell_type": "code",
   "execution_count": 7,
   "metadata": {},
   "outputs": [],
   "source": [
    "# Generating xlsx file for comparing MatLab and Python hh_create_bus_dates functionality on example of business days daily\n",
    "xls_writer = pd.ExcelWriter('Data_Files/Test_Files/bus_dts.xlsx')\n",
    "ser_bus_days.to_excel(xls_writer, 'daily')\n",
    "xls_writer.save()"
   ]
  },
  {
   "cell_type": "code",
   "execution_count": 8,
   "metadata": {},
   "outputs": [
    {
     "name": "stdout",
     "output_type": "stream",
     "text": [
      "hh_drop_nyse_closures: NYSE closure dates successfully dropped from date index\n"
     ]
    },
    {
     "data": {
      "text/plain": [
       "(Business Dates Wihtout NYSE Closures\n",
       " 1998-01-02    0\n",
       " 1998-01-05    0\n",
       " 1998-01-06    0\n",
       " 1998-01-07    0\n",
       " 1998-01-08    0\n",
       " Name: ML Numbers, dtype: int64, Business Dates Wihtout NYSE Closures\n",
       " 2018-12-24    0\n",
       " 2018-12-26    0\n",
       " 2018-12-27    0\n",
       " 2018-12-28    0\n",
       " 2018-12-31    0\n",
       " Name: ML Numbers, dtype: int64)"
      ]
     },
     "execution_count": 8,
     "metadata": {},
     "output_type": "execute_result"
    }
   ],
   "source": [
    "# Examples of using hh_dates function hh_drop_nyse_closures\n",
    "calendar_delta = first_date_stamp - null_date_stamp\n",
    "\n",
    "date_nyse_index_days = hh_drop_nyse_closures(date_index_days_str)\n",
    "ser_bus_nyse_days = pd.Series(0, index = date_nyse_index_days.date, name = 'ML Numbers')\n",
    "ser_bus_nyse_days.index.name = 'Business Dates Wihtout NYSE Closures'\n",
    "ser_bus_nyse_days.head(), ser_bus_nyse_days.tail()"
   ]
  },
  {
   "cell_type": "code",
   "execution_count": 9,
   "metadata": {},
   "outputs": [],
   "source": [
    "# Generating xlsx file for comparing MatLab and Python hh_drop_nyse_closures functionality on example of business days daily\n",
    "xls_writer = pd.ExcelWriter('Data_Files/Test_Files/bus_nyse_dts.xlsx')\n",
    "ser_bus_nyse_days.to_excel(xls_writer, 'daily')\n",
    "xls_writer.save()\n",
    "# identified one discrepancy: 2018-12-05 - NYSE closure day for Python library and valid business day for MatLab function"
   ]
  },
  {
   "cell_type": "code",
   "execution_count": 10,
   "metadata": {},
   "outputs": [
    {
     "data": {
      "text/html": [
       "<div>\n",
       "<style scoped>\n",
       "    .dataframe tbody tr th:only-of-type {\n",
       "        vertical-align: middle;\n",
       "    }\n",
       "\n",
       "    .dataframe tbody tr th {\n",
       "        vertical-align: top;\n",
       "    }\n",
       "\n",
       "    .dataframe thead th {\n",
       "        text-align: right;\n",
       "    }\n",
       "</style>\n",
       "<table border=\"1\" class=\"dataframe\">\n",
       "  <thead>\n",
       "    <tr style=\"text-align: right;\">\n",
       "      <th></th>\n",
       "      <th>Atos</th>\n",
       "      <th>Portos</th>\n",
       "      <th>Aramis</th>\n",
       "    </tr>\n",
       "    <tr>\n",
       "      <th>Business Dates</th>\n",
       "      <th></th>\n",
       "      <th></th>\n",
       "      <th></th>\n",
       "    </tr>\n",
       "  </thead>\n",
       "  <tbody>\n",
       "    <tr>\n",
       "      <th>1998-01-01</th>\n",
       "      <td>30.0</td>\n",
       "      <td>1.0</td>\n",
       "      <td>2.0</td>\n",
       "    </tr>\n",
       "    <tr>\n",
       "      <th>1998-01-02</th>\n",
       "      <td>30.0</td>\n",
       "      <td>4.0</td>\n",
       "      <td>NaN</td>\n",
       "    </tr>\n",
       "    <tr>\n",
       "      <th>1998-01-05</th>\n",
       "      <td>NaN</td>\n",
       "      <td>NaN</td>\n",
       "      <td>NaN</td>\n",
       "    </tr>\n",
       "    <tr>\n",
       "      <th>1998-01-06</th>\n",
       "      <td>9.0</td>\n",
       "      <td>10.0</td>\n",
       "      <td>11.0</td>\n",
       "    </tr>\n",
       "    <tr>\n",
       "      <th>1998-01-07</th>\n",
       "      <td>NaN</td>\n",
       "      <td>NaN</td>\n",
       "      <td>10.0</td>\n",
       "    </tr>\n",
       "  </tbody>\n",
       "</table>\n",
       "</div>"
      ],
      "text/plain": [
       "                Atos  Portos  Aramis\n",
       "Business Dates                      \n",
       "1998-01-01      30.0     1.0     2.0\n",
       "1998-01-02      30.0     4.0     NaN\n",
       "1998-01-05       NaN     NaN     NaN\n",
       "1998-01-06       9.0    10.0    11.0\n",
       "1998-01-07       NaN     NaN    10.0"
      ]
     },
     "execution_count": 10,
     "metadata": {},
     "output_type": "execute_result"
    }
   ],
   "source": [
    "# Examples of using hh_ts function hh_missing_data_manager\n",
    "df_substitution_test = pd.DataFrame(np.arange(15).reshape(5, 3), index = date_index_days_str[:5], columns = ['Atos', 'Portos', 'Aramis'])\n",
    "df_substitution_test.iloc[:2, 0] = 30\n",
    "df_substitution_test.iloc[4, 2] = 10\n",
    "df_substitution_test.iloc[1, 2] = np.NaN\n",
    "df_substitution_test.iloc[2, :] = np.NaN\n",
    "df_substitution_test.iloc[4, :2] = np.NaN\n",
    "df_substitution_test"
   ]
  },
  {
   "cell_type": "code",
   "execution_count": 11,
   "metadata": {},
   "outputs": [
    {
     "name": "stdout",
     "output_type": "stream",
     "text": [
      "hh_missing_data_manager: np.Nan substitution with option clear performed successfully\n",
      "hh_missing_data_manager: Overall count of actual np.Nan values in data table is 0\n"
     ]
    },
    {
     "data": {
      "text/html": [
       "<div>\n",
       "<style scoped>\n",
       "    .dataframe tbody tr th:only-of-type {\n",
       "        vertical-align: middle;\n",
       "    }\n",
       "\n",
       "    .dataframe tbody tr th {\n",
       "        vertical-align: top;\n",
       "    }\n",
       "\n",
       "    .dataframe thead th {\n",
       "        text-align: right;\n",
       "    }\n",
       "</style>\n",
       "<table border=\"1\" class=\"dataframe\">\n",
       "  <thead>\n",
       "    <tr style=\"text-align: right;\">\n",
       "      <th></th>\n",
       "      <th>Atos</th>\n",
       "      <th>Portos</th>\n",
       "      <th>Aramis</th>\n",
       "    </tr>\n",
       "    <tr>\n",
       "      <th>Business Dates</th>\n",
       "      <th></th>\n",
       "      <th></th>\n",
       "      <th></th>\n",
       "    </tr>\n",
       "  </thead>\n",
       "  <tbody>\n",
       "    <tr>\n",
       "      <th>1998-01-01</th>\n",
       "      <td>30.0</td>\n",
       "      <td>1.0</td>\n",
       "      <td>2.0</td>\n",
       "    </tr>\n",
       "    <tr>\n",
       "      <th>1998-01-06</th>\n",
       "      <td>9.0</td>\n",
       "      <td>10.0</td>\n",
       "      <td>11.0</td>\n",
       "    </tr>\n",
       "  </tbody>\n",
       "</table>\n",
       "</div>"
      ],
      "text/plain": [
       "                Atos  Portos  Aramis\n",
       "Business Dates                      \n",
       "1998-01-01      30.0     1.0     2.0\n",
       "1998-01-06       9.0    10.0    11.0"
      ]
     },
     "execution_count": 11,
     "metadata": {},
     "output_type": "execute_result"
    }
   ],
   "source": [
    "df_substituted_clear = hh_missing_data_manager(df_substitution_test, manage_option = 'clear')\n",
    "df_substituted_clear"
   ]
  },
  {
   "cell_type": "code",
   "execution_count": 12,
   "metadata": {},
   "outputs": [
    {
     "name": "stdout",
     "output_type": "stream",
     "text": [
      "hh_missing_data_manager: np.Nan substitution with option mean performed successfully\n",
      "hh_missing_data_manager: Overall count of actual np.Nan values in data table is 0\n"
     ]
    },
    {
     "data": {
      "text/html": [
       "<div>\n",
       "<style scoped>\n",
       "    .dataframe tbody tr th:only-of-type {\n",
       "        vertical-align: middle;\n",
       "    }\n",
       "\n",
       "    .dataframe tbody tr th {\n",
       "        vertical-align: top;\n",
       "    }\n",
       "\n",
       "    .dataframe thead th {\n",
       "        text-align: right;\n",
       "    }\n",
       "</style>\n",
       "<table border=\"1\" class=\"dataframe\">\n",
       "  <thead>\n",
       "    <tr style=\"text-align: right;\">\n",
       "      <th></th>\n",
       "      <th>Atos</th>\n",
       "      <th>Portos</th>\n",
       "      <th>Aramis</th>\n",
       "    </tr>\n",
       "    <tr>\n",
       "      <th>Business Dates</th>\n",
       "      <th></th>\n",
       "      <th></th>\n",
       "      <th></th>\n",
       "    </tr>\n",
       "  </thead>\n",
       "  <tbody>\n",
       "    <tr>\n",
       "      <th>1998-01-01</th>\n",
       "      <td>30.0</td>\n",
       "      <td>1.0</td>\n",
       "      <td>2.000000</td>\n",
       "    </tr>\n",
       "    <tr>\n",
       "      <th>1998-01-02</th>\n",
       "      <td>30.0</td>\n",
       "      <td>4.0</td>\n",
       "      <td>7.666667</td>\n",
       "    </tr>\n",
       "    <tr>\n",
       "      <th>1998-01-05</th>\n",
       "      <td>23.0</td>\n",
       "      <td>5.0</td>\n",
       "      <td>7.666667</td>\n",
       "    </tr>\n",
       "    <tr>\n",
       "      <th>1998-01-06</th>\n",
       "      <td>9.0</td>\n",
       "      <td>10.0</td>\n",
       "      <td>11.000000</td>\n",
       "    </tr>\n",
       "    <tr>\n",
       "      <th>1998-01-07</th>\n",
       "      <td>23.0</td>\n",
       "      <td>5.0</td>\n",
       "      <td>10.000000</td>\n",
       "    </tr>\n",
       "  </tbody>\n",
       "</table>\n",
       "</div>"
      ],
      "text/plain": [
       "                Atos  Portos     Aramis\n",
       "Business Dates                         \n",
       "1998-01-01      30.0     1.0   2.000000\n",
       "1998-01-02      30.0     4.0   7.666667\n",
       "1998-01-05      23.0     5.0   7.666667\n",
       "1998-01-06       9.0    10.0  11.000000\n",
       "1998-01-07      23.0     5.0  10.000000"
      ]
     },
     "execution_count": 12,
     "metadata": {},
     "output_type": "execute_result"
    }
   ],
   "source": [
    "df_substituted_mean = hh_missing_data_manager(df_substitution_test, manage_option = 'mean')\n",
    "df_substituted_mean"
   ]
  },
  {
   "cell_type": "code",
   "execution_count": 13,
   "metadata": {},
   "outputs": [
    {
     "name": "stdout",
     "output_type": "stream",
     "text": [
      "hh_missing_data_manager: np.Nan substitution with option median performed successfully\n",
      "hh_missing_data_manager: Overall count of actual np.Nan values in data table is 0\n"
     ]
    },
    {
     "data": {
      "text/html": [
       "<div>\n",
       "<style scoped>\n",
       "    .dataframe tbody tr th:only-of-type {\n",
       "        vertical-align: middle;\n",
       "    }\n",
       "\n",
       "    .dataframe tbody tr th {\n",
       "        vertical-align: top;\n",
       "    }\n",
       "\n",
       "    .dataframe thead th {\n",
       "        text-align: right;\n",
       "    }\n",
       "</style>\n",
       "<table border=\"1\" class=\"dataframe\">\n",
       "  <thead>\n",
       "    <tr style=\"text-align: right;\">\n",
       "      <th></th>\n",
       "      <th>Atos</th>\n",
       "      <th>Portos</th>\n",
       "      <th>Aramis</th>\n",
       "    </tr>\n",
       "    <tr>\n",
       "      <th>Business Dates</th>\n",
       "      <th></th>\n",
       "      <th></th>\n",
       "      <th></th>\n",
       "    </tr>\n",
       "  </thead>\n",
       "  <tbody>\n",
       "    <tr>\n",
       "      <th>1998-01-01</th>\n",
       "      <td>30.0</td>\n",
       "      <td>1.0</td>\n",
       "      <td>2.0</td>\n",
       "    </tr>\n",
       "    <tr>\n",
       "      <th>1998-01-02</th>\n",
       "      <td>30.0</td>\n",
       "      <td>4.0</td>\n",
       "      <td>10.0</td>\n",
       "    </tr>\n",
       "    <tr>\n",
       "      <th>1998-01-05</th>\n",
       "      <td>30.0</td>\n",
       "      <td>4.0</td>\n",
       "      <td>10.0</td>\n",
       "    </tr>\n",
       "    <tr>\n",
       "      <th>1998-01-06</th>\n",
       "      <td>9.0</td>\n",
       "      <td>10.0</td>\n",
       "      <td>11.0</td>\n",
       "    </tr>\n",
       "    <tr>\n",
       "      <th>1998-01-07</th>\n",
       "      <td>30.0</td>\n",
       "      <td>4.0</td>\n",
       "      <td>10.0</td>\n",
       "    </tr>\n",
       "  </tbody>\n",
       "</table>\n",
       "</div>"
      ],
      "text/plain": [
       "                Atos  Portos  Aramis\n",
       "Business Dates                      \n",
       "1998-01-01      30.0     1.0     2.0\n",
       "1998-01-02      30.0     4.0    10.0\n",
       "1998-01-05      30.0     4.0    10.0\n",
       "1998-01-06       9.0    10.0    11.0\n",
       "1998-01-07      30.0     4.0    10.0"
      ]
     },
     "execution_count": 13,
     "metadata": {},
     "output_type": "execute_result"
    }
   ],
   "source": [
    "df_substituted_median = hh_missing_data_manager(df_substitution_test, manage_option = 'median')\n",
    "df_substituted_median"
   ]
  },
  {
   "cell_type": "code",
   "execution_count": 14,
   "metadata": {},
   "outputs": [
    {
     "name": "stdout",
     "output_type": "stream",
     "text": [
      "hh_missing_data_manager: np.Nan substitution with option previous performed successfully\n",
      "hh_missing_data_manager: Overall count of actual np.Nan values in data table is 0\n"
     ]
    },
    {
     "data": {
      "text/html": [
       "<div>\n",
       "<style scoped>\n",
       "    .dataframe tbody tr th:only-of-type {\n",
       "        vertical-align: middle;\n",
       "    }\n",
       "\n",
       "    .dataframe tbody tr th {\n",
       "        vertical-align: top;\n",
       "    }\n",
       "\n",
       "    .dataframe thead th {\n",
       "        text-align: right;\n",
       "    }\n",
       "</style>\n",
       "<table border=\"1\" class=\"dataframe\">\n",
       "  <thead>\n",
       "    <tr style=\"text-align: right;\">\n",
       "      <th></th>\n",
       "      <th>Atos</th>\n",
       "      <th>Portos</th>\n",
       "      <th>Aramis</th>\n",
       "    </tr>\n",
       "    <tr>\n",
       "      <th>Business Dates</th>\n",
       "      <th></th>\n",
       "      <th></th>\n",
       "      <th></th>\n",
       "    </tr>\n",
       "  </thead>\n",
       "  <tbody>\n",
       "    <tr>\n",
       "      <th>1998-01-01</th>\n",
       "      <td>30.0</td>\n",
       "      <td>1.0</td>\n",
       "      <td>2.0</td>\n",
       "    </tr>\n",
       "    <tr>\n",
       "      <th>1998-01-02</th>\n",
       "      <td>30.0</td>\n",
       "      <td>4.0</td>\n",
       "      <td>2.0</td>\n",
       "    </tr>\n",
       "    <tr>\n",
       "      <th>1998-01-05</th>\n",
       "      <td>30.0</td>\n",
       "      <td>4.0</td>\n",
       "      <td>2.0</td>\n",
       "    </tr>\n",
       "    <tr>\n",
       "      <th>1998-01-06</th>\n",
       "      <td>9.0</td>\n",
       "      <td>10.0</td>\n",
       "      <td>11.0</td>\n",
       "    </tr>\n",
       "    <tr>\n",
       "      <th>1998-01-07</th>\n",
       "      <td>9.0</td>\n",
       "      <td>10.0</td>\n",
       "      <td>10.0</td>\n",
       "    </tr>\n",
       "  </tbody>\n",
       "</table>\n",
       "</div>"
      ],
      "text/plain": [
       "                Atos  Portos  Aramis\n",
       "Business Dates                      \n",
       "1998-01-01      30.0     1.0     2.0\n",
       "1998-01-02      30.0     4.0     2.0\n",
       "1998-01-05      30.0     4.0     2.0\n",
       "1998-01-06       9.0    10.0    11.0\n",
       "1998-01-07       9.0    10.0    10.0"
      ]
     },
     "execution_count": 14,
     "metadata": {},
     "output_type": "execute_result"
    }
   ],
   "source": [
    "df_substituted_previous = hh_missing_data_manager(df_substitution_test, manage_option = 'previous')\n",
    "df_substituted_previous"
   ]
  },
  {
   "cell_type": "code",
   "execution_count": 15,
   "metadata": {},
   "outputs": [
    {
     "name": "stdout",
     "output_type": "stream",
     "text": [
      "hh_missing_data_manager: np.Nan substitution with option previous performed successfully\n",
      "hh_missing_data_manager: Overall count of actual np.Nan values in data table is 1\n"
     ]
    },
    {
     "data": {
      "text/html": [
       "<div>\n",
       "<style scoped>\n",
       "    .dataframe tbody tr th:only-of-type {\n",
       "        vertical-align: middle;\n",
       "    }\n",
       "\n",
       "    .dataframe tbody tr th {\n",
       "        vertical-align: top;\n",
       "    }\n",
       "\n",
       "    .dataframe thead th {\n",
       "        text-align: right;\n",
       "    }\n",
       "</style>\n",
       "<table border=\"1\" class=\"dataframe\">\n",
       "  <thead>\n",
       "    <tr style=\"text-align: right;\">\n",
       "      <th></th>\n",
       "      <th>Atos</th>\n",
       "      <th>Portos</th>\n",
       "      <th>Aramis</th>\n",
       "    </tr>\n",
       "    <tr>\n",
       "      <th>Business Dates</th>\n",
       "      <th></th>\n",
       "      <th></th>\n",
       "      <th></th>\n",
       "    </tr>\n",
       "  </thead>\n",
       "  <tbody>\n",
       "    <tr>\n",
       "      <th>1998-01-01</th>\n",
       "      <td>30.0</td>\n",
       "      <td>1.0</td>\n",
       "      <td>2.0</td>\n",
       "    </tr>\n",
       "    <tr>\n",
       "      <th>1998-01-02</th>\n",
       "      <td>30.0</td>\n",
       "      <td>4.0</td>\n",
       "      <td>2.0</td>\n",
       "    </tr>\n",
       "    <tr>\n",
       "      <th>1998-01-05</th>\n",
       "      <td>30.0</td>\n",
       "      <td>4.0</td>\n",
       "      <td>NaN</td>\n",
       "    </tr>\n",
       "    <tr>\n",
       "      <th>1998-01-06</th>\n",
       "      <td>9.0</td>\n",
       "      <td>10.0</td>\n",
       "      <td>11.0</td>\n",
       "    </tr>\n",
       "    <tr>\n",
       "      <th>1998-01-07</th>\n",
       "      <td>9.0</td>\n",
       "      <td>10.0</td>\n",
       "      <td>10.0</td>\n",
       "    </tr>\n",
       "  </tbody>\n",
       "</table>\n",
       "</div>"
      ],
      "text/plain": [
       "                Atos  Portos  Aramis\n",
       "Business Dates                      \n",
       "1998-01-01      30.0     1.0     2.0\n",
       "1998-01-02      30.0     4.0     2.0\n",
       "1998-01-05      30.0     4.0     NaN\n",
       "1998-01-06       9.0    10.0    11.0\n",
       "1998-01-07       9.0    10.0    10.0"
      ]
     },
     "execution_count": 15,
     "metadata": {},
     "output_type": "execute_result"
    }
   ],
   "source": [
    "df_substituted_previous_lag = hh_missing_data_manager(df_substitution_test, manage_option = 'previous', prev_lag = 1)\n",
    "df_substituted_previous_lag"
   ]
  },
  {
   "cell_type": "code",
   "execution_count": 16,
   "metadata": {},
   "outputs": [
    {
     "name": "stdout",
     "output_type": "stream",
     "text": [
      "hh_build_mri_from_model: Model profile successfully read\n",
      "hh_build_mri_from_model: Group border rows successfully dropped\n",
      "hh_build_mri_from_model: Group sum weights control successfully performed\n",
      "hh_build_mri_from_model: Model asset part extracted\n",
      "hh_build_mri_from_model: Model MRI part extracted\n",
      "hh_build_mri_from_model: HDF5 file taken as is because of update refusing\n",
      "hh_build_mri_from_model: Limited data from HDF5 file Data_Files/Source_Files/mri_data.h5 extracted successfully\n",
      "hh_build_mri_from_model: Missed border date rows in limited data table added\n",
      "hh_missing_data_manager: np.Nan substitution with option previous performed successfully\n",
      "hh_missing_data_manager: Overall count of actual np.Nan values in data table is 7252\n",
      "hh_build_mri_from_model: Missed data in limited data table filled successfully\n"
     ]
    }
   ],
   "source": [
    "# Example of using hh_mri function hh_build_mri_from_model: choose commented True alternative option to regenerate h5 file from xlsx\n",
    "path_mri_data_xlsx = 'Data_Files/Source_Files/mri_data.xlsx'\n",
    "mri_model_name = 'Model 01'\n",
    "path_mri_data_hdf = 'Data_Files/Source_Files/mri_data.h5'\n",
    "object_mri_data_hdf = 'source_data'\n",
    "#[df_model_asset, df_model_MRI, df_selected_data] = hh_build_mri_from_model(path_mri_data_xlsx, mri_model_name, \n",
    "#                                                                           path_mri_data_hdf, object_mri_data_hdf, date_nyse_index_days, True)\n",
    "[df_model_asset, df_model_MRI, df_selected_data] = hh_build_mri_from_model(path_mri_data_xlsx, mri_model_name, \n",
    "                                                                           path_mri_data_hdf, object_mri_data_hdf, date_nyse_index_days, False)"
   ]
  },
  {
   "cell_type": "code",
   "execution_count": 17,
   "metadata": {},
   "outputs": [
    {
     "data": {
      "text/plain": [
       "(            iv_us  iv_eu  iv_uk  iv_jp  iv_rvx  iv_eem  oas_em  oas_hy  \\\n",
       " Date                                                                     \n",
       " 1998-01-02  23.42    NaN    NaN    NaN     NaN     NaN     NaN    2.88   \n",
       " 1998-01-05  24.36    NaN    NaN    NaN     NaN     NaN     NaN    2.88   \n",
       " 1998-01-06  25.66    NaN    NaN    NaN     NaN     NaN     NaN    2.88   \n",
       " 1998-01-07  25.07    NaN    NaN    NaN     NaN     NaN     NaN    2.88   \n",
       " 1998-01-08  26.01    NaN    NaN    NaN     NaN     NaN     NaN    2.88   \n",
       " \n",
       "             fx_gbp  fx_eur  fx_jpy  fx_chf  \n",
       " Date                                        \n",
       " 1998-01-02    9.85     NaN  13.500   11.05  \n",
       " 1998-01-05   10.05     NaN  14.350   11.45  \n",
       " 1998-01-06   10.40     NaN  14.575   12.05  \n",
       " 1998-01-07   10.45     NaN  14.500   12.05  \n",
       " 1998-01-08   10.45     NaN  14.600   11.75  ,\n",
       "             iv_us    iv_eu   iv_uk  iv_jp  iv_rvx  iv_eem  oas_em  oas_hy  \\\n",
       " Date                                                                        \n",
       " 2018-12-24  30.11  20.3984  23.056  26.24   30.93   26.34    3.35    5.14   \n",
       " 2018-12-26  30.11  20.3984  23.056  26.24   30.93   26.34    3.35    5.14   \n",
       " 2018-12-27  30.11  20.3984  23.056  26.24   30.93   26.34    3.35    5.14   \n",
       " 2018-12-28  30.11  20.3984  23.056  26.24   30.93   26.34    3.35    5.14   \n",
       " 2018-12-31  30.11  20.3984  23.056  26.24   30.93   26.34    3.35    5.14   \n",
       " \n",
       "             fx_gbp  fx_eur  fx_jpy  fx_chf  \n",
       " Date                                        \n",
       " 2018-12-24   12.94    7.14    7.98   6.815  \n",
       " 2018-12-26   12.94    7.14    7.98   6.815  \n",
       " 2018-12-27   12.94    7.14    7.98   6.815  \n",
       " 2018-12-28   12.94    7.14    7.98   6.815  \n",
       " 2018-12-31   12.94    7.14    7.98   6.815  )"
      ]
     },
     "execution_count": 17,
     "metadata": {},
     "output_type": "execute_result"
    }
   ],
   "source": [
    "df_selected_data.head(), df_selected_data.tail()"
   ]
  },
  {
   "cell_type": "code",
   "execution_count": 18,
   "metadata": {},
   "outputs": [],
   "source": [
    "# Generating xlsx file for comparing MatLab and Python hh_build_mri_from_model functionality\n",
    "xls_writer = pd.ExcelWriter('Data_Files/Test_Files/extracted_and_filled.xlsx')\n",
    "df_selected_data.to_excel(xls_writer, 'Python')\n",
    "xls_writer.save()\n",
    "# No discrepancies identified except earlier 2018-12-05 question - NYSE closure for Python library and valid business day for MatLab function"
   ]
  },
  {
   "cell_type": "code",
   "execution_count": 19,
   "metadata": {},
   "outputs": [
    {
     "data": {
      "text/html": [
       "<div>\n",
       "<style scoped>\n",
       "    .dataframe tbody tr th:only-of-type {\n",
       "        vertical-align: middle;\n",
       "    }\n",
       "\n",
       "    .dataframe tbody tr th {\n",
       "        vertical-align: top;\n",
       "    }\n",
       "\n",
       "    .dataframe thead th {\n",
       "        text-align: right;\n",
       "    }\n",
       "</style>\n",
       "<table border=\"1\" class=\"dataframe\">\n",
       "  <thead>\n",
       "    <tr style=\"text-align: right;\">\n",
       "      <th></th>\n",
       "      <th>Asset Group</th>\n",
       "      <th>Asset Group Description</th>\n",
       "      <th>Asset Code</th>\n",
       "      <th>Asset Tab Name</th>\n",
       "      <th>Asset Desc</th>\n",
       "      <th>Processing Routine</th>\n",
       "      <th>Factor Weights</th>\n",
       "    </tr>\n",
       "  </thead>\n",
       "  <tbody>\n",
       "    <tr>\n",
       "      <th>0</th>\n",
       "      <td>EQ</td>\n",
       "      <td>MRI Equity IVol Grp</td>\n",
       "      <td>iv_us</td>\n",
       "      <td>VIX</td>\n",
       "      <td>CBOE SPX VOLATILITY INDX</td>\n",
       "      <td>x</td>\n",
       "      <td>0.166667</td>\n",
       "    </tr>\n",
       "    <tr>\n",
       "      <th>1</th>\n",
       "      <td>EQ</td>\n",
       "      <td>MRI Equity IVol Grp</td>\n",
       "      <td>iv_eu</td>\n",
       "      <td>V2X</td>\n",
       "      <td>VSTOXX Index</td>\n",
       "      <td>x</td>\n",
       "      <td>0.166667</td>\n",
       "    </tr>\n",
       "    <tr>\n",
       "      <th>2</th>\n",
       "      <td>EQ</td>\n",
       "      <td>MRI Equity IVol Grp</td>\n",
       "      <td>iv_uk</td>\n",
       "      <td>VFTSE</td>\n",
       "      <td>FTSE100 Volatility Index</td>\n",
       "      <td>x</td>\n",
       "      <td>0.166667</td>\n",
       "    </tr>\n",
       "    <tr>\n",
       "      <th>3</th>\n",
       "      <td>EQ</td>\n",
       "      <td>MRI Equity IVol Grp</td>\n",
       "      <td>iv_jp</td>\n",
       "      <td>VNKY</td>\n",
       "      <td>NIKKEI Volatility Index</td>\n",
       "      <td>x</td>\n",
       "      <td>0.166667</td>\n",
       "    </tr>\n",
       "    <tr>\n",
       "      <th>4</th>\n",
       "      <td>EQ</td>\n",
       "      <td>MRI Equity IVol Grp</td>\n",
       "      <td>iv_rvx</td>\n",
       "      <td>RVX</td>\n",
       "      <td>CBOE RSL2000 VOLATILTY I</td>\n",
       "      <td>x</td>\n",
       "      <td>0.166667</td>\n",
       "    </tr>\n",
       "    <tr>\n",
       "      <th>5</th>\n",
       "      <td>EQ</td>\n",
       "      <td>MRI Equity IVol Grp</td>\n",
       "      <td>iv_eem</td>\n",
       "      <td>VXEEM</td>\n",
       "      <td>CBOE EM ETF Volatility</td>\n",
       "      <td>x</td>\n",
       "      <td>0.166667</td>\n",
       "    </tr>\n",
       "    <tr>\n",
       "      <th>6</th>\n",
       "      <td>FI</td>\n",
       "      <td>MRI Fixed Income Grp</td>\n",
       "      <td>oas_em</td>\n",
       "      <td>EMUSOAS</td>\n",
       "      <td>Bloomberg Barclays EM USD Aggr</td>\n",
       "      <td>x</td>\n",
       "      <td>0.500000</td>\n",
       "    </tr>\n",
       "    <tr>\n",
       "      <th>7</th>\n",
       "      <td>FI</td>\n",
       "      <td>MRI Fixed Income Grp</td>\n",
       "      <td>oas_hy</td>\n",
       "      <td>LF98OAS</td>\n",
       "      <td>Bloomberg Barclays US Corporat</td>\n",
       "      <td>x</td>\n",
       "      <td>0.500000</td>\n",
       "    </tr>\n",
       "    <tr>\n",
       "      <th>8</th>\n",
       "      <td>FX</td>\n",
       "      <td>MRI FOREX IVol Grp</td>\n",
       "      <td>fx_gbp</td>\n",
       "      <td>GBPUSD</td>\n",
       "      <td>GBP-USD OPT VOL 3M</td>\n",
       "      <td>x</td>\n",
       "      <td>0.250000</td>\n",
       "    </tr>\n",
       "    <tr>\n",
       "      <th>9</th>\n",
       "      <td>FX</td>\n",
       "      <td>MRI FOREX IVol Grp</td>\n",
       "      <td>fx_eur</td>\n",
       "      <td>EURUSD</td>\n",
       "      <td>EUR-USD OPT VOL 3M</td>\n",
       "      <td>x</td>\n",
       "      <td>0.250000</td>\n",
       "    </tr>\n",
       "    <tr>\n",
       "      <th>10</th>\n",
       "      <td>FX</td>\n",
       "      <td>MRI FOREX IVol Grp</td>\n",
       "      <td>fx_jpy</td>\n",
       "      <td>USDJPY</td>\n",
       "      <td>USD-JPY OPT VOL 3M</td>\n",
       "      <td>x</td>\n",
       "      <td>0.250000</td>\n",
       "    </tr>\n",
       "    <tr>\n",
       "      <th>11</th>\n",
       "      <td>FX</td>\n",
       "      <td>MRI FOREX IVol Grp</td>\n",
       "      <td>fx_chf</td>\n",
       "      <td>USDCHF</td>\n",
       "      <td>USD-CHF OPT VOL 3M</td>\n",
       "      <td>x</td>\n",
       "      <td>0.250000</td>\n",
       "    </tr>\n",
       "  </tbody>\n",
       "</table>\n",
       "</div>"
      ],
      "text/plain": [
       "   Asset Group Asset Group Description Asset Code Asset Tab Name  \\\n",
       "0           EQ     MRI Equity IVol Grp      iv_us            VIX   \n",
       "1           EQ     MRI Equity IVol Grp      iv_eu            V2X   \n",
       "2           EQ     MRI Equity IVol Grp      iv_uk          VFTSE   \n",
       "3           EQ     MRI Equity IVol Grp      iv_jp           VNKY   \n",
       "4           EQ     MRI Equity IVol Grp     iv_rvx            RVX   \n",
       "5           EQ     MRI Equity IVol Grp     iv_eem          VXEEM   \n",
       "6           FI    MRI Fixed Income Grp     oas_em        EMUSOAS   \n",
       "7           FI    MRI Fixed Income Grp     oas_hy        LF98OAS   \n",
       "8           FX      MRI FOREX IVol Grp     fx_gbp         GBPUSD   \n",
       "9           FX      MRI FOREX IVol Grp     fx_eur         EURUSD   \n",
       "10          FX      MRI FOREX IVol Grp     fx_jpy         USDJPY   \n",
       "11          FX      MRI FOREX IVol Grp     fx_chf         USDCHF   \n",
       "\n",
       "                        Asset Desc Processing Routine  Factor Weights  \n",
       "0         CBOE SPX VOLATILITY INDX                  x        0.166667  \n",
       "1                     VSTOXX Index                  x        0.166667  \n",
       "2         FTSE100 Volatility Index                  x        0.166667  \n",
       "3          NIKKEI Volatility Index                  x        0.166667  \n",
       "4         CBOE RSL2000 VOLATILTY I                  x        0.166667  \n",
       "5           CBOE EM ETF Volatility                  x        0.166667  \n",
       "6   Bloomberg Barclays EM USD Aggr                  x        0.500000  \n",
       "7   Bloomberg Barclays US Corporat                  x        0.500000  \n",
       "8               GBP-USD OPT VOL 3M                  x        0.250000  \n",
       "9               EUR-USD OPT VOL 3M                  x        0.250000  \n",
       "10              USD-JPY OPT VOL 3M                  x        0.250000  \n",
       "11              USD-CHF OPT VOL 3M                  x        0.250000  "
      ]
     },
     "execution_count": 19,
     "metadata": {},
     "output_type": "execute_result"
    }
   ],
   "source": [
    "df_model_asset"
   ]
  },
  {
   "cell_type": "code",
   "execution_count": 20,
   "metadata": {},
   "outputs": [
    {
     "data": {
      "text/html": [
       "<div>\n",
       "<style scoped>\n",
       "    .dataframe tbody tr th:only-of-type {\n",
       "        vertical-align: middle;\n",
       "    }\n",
       "\n",
       "    .dataframe tbody tr th {\n",
       "        vertical-align: top;\n",
       "    }\n",
       "\n",
       "    .dataframe thead th {\n",
       "        text-align: right;\n",
       "    }\n",
       "</style>\n",
       "<table border=\"1\" class=\"dataframe\">\n",
       "  <thead>\n",
       "    <tr style=\"text-align: right;\">\n",
       "      <th></th>\n",
       "      <th>Asset Group</th>\n",
       "      <th>Asset Group Description</th>\n",
       "      <th>Asset Code</th>\n",
       "      <th>Asset Tab Name</th>\n",
       "      <th>Asset Desc</th>\n",
       "      <th>Processing Routine</th>\n",
       "      <th>Factor Weights</th>\n",
       "    </tr>\n",
       "  </thead>\n",
       "  <tbody>\n",
       "    <tr>\n",
       "      <th>0</th>\n",
       "      <td>MRI</td>\n",
       "      <td>Market Risk Indicator</td>\n",
       "      <td>EQ</td>\n",
       "      <td>NaN</td>\n",
       "      <td>MRI Equity IVol Grp</td>\n",
       "      <td>x</td>\n",
       "      <td>0.333333</td>\n",
       "    </tr>\n",
       "    <tr>\n",
       "      <th>1</th>\n",
       "      <td>MRI</td>\n",
       "      <td>Market Risk Indicator</td>\n",
       "      <td>FI</td>\n",
       "      <td>NaN</td>\n",
       "      <td>MRI Fixed Income Grp</td>\n",
       "      <td>x</td>\n",
       "      <td>0.333333</td>\n",
       "    </tr>\n",
       "    <tr>\n",
       "      <th>2</th>\n",
       "      <td>MRI</td>\n",
       "      <td>Market Risk Indicator</td>\n",
       "      <td>FX</td>\n",
       "      <td>NaN</td>\n",
       "      <td>MRI FOREX IVol Grp</td>\n",
       "      <td>x</td>\n",
       "      <td>0.333333</td>\n",
       "    </tr>\n",
       "  </tbody>\n",
       "</table>\n",
       "</div>"
      ],
      "text/plain": [
       "  Asset Group Asset Group Description Asset Code Asset Tab Name  \\\n",
       "0         MRI   Market Risk Indicator         EQ            NaN   \n",
       "1         MRI   Market Risk Indicator         FI            NaN   \n",
       "2         MRI   Market Risk Indicator         FX            NaN   \n",
       "\n",
       "             Asset Desc Processing Routine  Factor Weights  \n",
       "0   MRI Equity IVol Grp                  x        0.333333  \n",
       "1  MRI Fixed Income Grp                  x        0.333333  \n",
       "2    MRI FOREX IVol Grp                  x        0.333333  "
      ]
     },
     "execution_count": 20,
     "metadata": {},
     "output_type": "execute_result"
    }
   ],
   "source": [
    "df_model_MRI"
   ]
  },
  {
   "cell_type": "code",
   "execution_count": 21,
   "metadata": {},
   "outputs": [
    {
     "name": "stdout",
     "output_type": "stream",
     "text": [
      "hh_rolling_percentile: Percentile rank calculation with min_interpretation any and option less performed successfully\n",
      "hh_rolling_percentile: Percentile rank calculation with min_interpretation any and option less_equal performed successfully\n",
      "hh_rolling_percentile: Percentile rank calculation with min_interpretation any and option mean performed successfully\n",
      "hh_rolling_percentile: Percentile rank calculation with min_interpretation any and option mean performed successfully\n",
      "hh_rolling_percentile: Percentile rank calculation with min_interpretation not_NaN and option less performed successfully\n",
      "hh_rolling_percentile: Percentile rank calculation with min_interpretation not_NaN and option less_equal performed successfully\n",
      "hh_rolling_percentile: Percentile rank calculation with min_interpretation not_NaN and option mean performed successfully\n",
      "hh_rolling_percentile: Percentile rank calculation with min_interpretation not_NaN and option mean performed successfully\n"
     ]
    }
   ],
   "source": [
    "# Example of using hh_ts function hh_rolling_percentile\n",
    "ser_ranks_less_any = hh_rolling_percentile(df_selected_data['iv_eu'], 252, 252000, min_interpretation = 'any', manage_option = 'less')\n",
    "ser_ranks_less_equal_any = hh_rolling_percentile(df_selected_data['iv_eu'], 252, 252000, min_interpretation = 'any', manage_option = 'less_equal')\n",
    "ser_ranks_mean_any = hh_rolling_percentile(df_selected_data['iv_eu'], 252, 252000, min_interpretation = 'any', manage_option = 'mean')\n",
    "ser_ranks_wnd_any = hh_rolling_percentile(df_selected_data['iv_us'], 30, 60, min_interpretation = 'any', manage_option = 'mean')\n",
    "ser_ranks_less_notNaN = hh_rolling_percentile(df_selected_data['iv_eu'], 252, 252000, manage_option = 'less')\n",
    "ser_ranks_less_equal_notNaN = hh_rolling_percentile(df_selected_data['iv_eu'], 252, 252000, manage_option = 'less_equal')\n",
    "ser_ranks_mean_notNaN = hh_rolling_percentile(df_selected_data['iv_eu'], 252, 252000, manage_option = 'mean')\n",
    "ser_ranks_wnd_notNaN = hh_rolling_percentile(df_selected_data['iv_us'], 30, 60, manage_option = 'mean')"
   ]
  },
  {
   "cell_type": "code",
   "execution_count": 22,
   "metadata": {},
   "outputs": [],
   "source": [
    "# Generating xlsx file for comparing MatLab and Python hh_rolling_percentile functionality\n",
    "xls_writer = pd.ExcelWriter('Data_Files/Test_Files/python_pctiles.xlsx')\n",
    "ser_ranks_less_any.to_excel(xls_writer, 'Less any')\n",
    "ser_ranks_less_equal_any.to_excel(xls_writer, 'Less_Equal any')\n",
    "ser_ranks_mean_any.to_excel(xls_writer, 'Mean any')\n",
    "ser_ranks_wnd_any.to_excel(xls_writer, 'Short_Window any')\n",
    "ser_ranks_less_notNaN.to_excel(xls_writer, 'Less not NaN')\n",
    "ser_ranks_less_equal_notNaN.to_excel(xls_writer, 'Less_Equal not NaN')\n",
    "ser_ranks_mean_notNaN.to_excel(xls_writer, 'Mean not NaN')\n",
    "ser_ranks_wnd_notNaN.to_excel(xls_writer, 'Short_Window not NaN')\n",
    "xls_writer.save()"
   ]
  },
  {
   "cell_type": "code",
   "execution_count": 23,
   "metadata": {},
   "outputs": [
    {
     "name": "stdout",
     "output_type": "stream",
     "text": [
      "hh_rolling_simple_MA: Moving average calculation with min_interpretation any performed successfully\n",
      "hh_rolling_simple_MA: Moving average calculation with min_interpretation any performed successfully\n",
      "hh_rolling_simple_MA: Moving average calculation with min_interpretation not_NaN performed successfully\n",
      "hh_rolling_simple_MA: Moving average calculation with min_interpretation not_NaN performed successfully\n"
     ]
    }
   ],
   "source": [
    "# Example of using hh_ts function hh_rolling_simple_MA\n",
    "ser_SMA_long_any = hh_rolling_simple_MA(np.log(df_selected_data['iv_eu']), 252, 252000, min_interpretation = 'any')\n",
    "ser_SMA_short_any = hh_rolling_simple_MA(np.log(df_selected_data['iv_us']), 30, 60, min_interpretation = 'any', factor_period = 'day')\n",
    "ser_SMA_long_notNaN = hh_rolling_simple_MA(np.log(df_selected_data['iv_eu']), 252, 252000)\n",
    "ser_SMA_short_notNaN = hh_rolling_simple_MA(np.log(df_selected_data['iv_us']), 30, 60, factor_period = 'day')"
   ]
  },
  {
   "cell_type": "code",
   "execution_count": 24,
   "metadata": {},
   "outputs": [],
   "source": [
    "# Generating xlsx file for comparing MatLab and Python hh_rolling_simple_MA functionality\n",
    "xls_writer = pd.ExcelWriter('Data_Files/Test_Files/python_SMA.xlsx')\n",
    "ser_SMA_long_any.to_excel(xls_writer, 'SMA long any')\n",
    "ser_SMA_short_any.to_excel(xls_writer, 'SMA short any')\n",
    "ser_SMA_long_notNaN.to_excel(xls_writer, 'SMA long not NaN')\n",
    "ser_SMA_short_notNaN.to_excel(xls_writer, 'SMA short not NaN')\n",
    "xls_writer.save()"
   ]
  },
  {
   "cell_type": "code",
   "execution_count": 25,
   "metadata": {},
   "outputs": [
    {
     "name": "stdout",
     "output_type": "stream",
     "text": [
      "hh_rolling_z_score: Mean, Std and Z Score series calculated successfully\n",
      "hh_rolling_z_score: Z Matrix values calculated successfully\n",
      "hh_rolling_z_score: Rolling winsorized Z Score series calculated successfully\n",
      "hh_rolling_z_score: Calculating Z Score data with winsor_option value and fill_option backfill performed successfully\n"
     ]
    }
   ],
   "source": [
    "# Example of using hh_ts function hh_rolling_z_score\n",
    "[df_z_score, df_z_matrix] = hh_rolling_z_score(np.log(df_selected_data['iv_us']), min_wnd = 252, max_wnd = 25200, winsor_option = 'value', winsor_bottom = -5, winsor_top = 5, fill_option = 'backfill')"
   ]
  },
  {
   "cell_type": "code",
   "execution_count": 26,
   "metadata": {},
   "outputs": [],
   "source": [
    "# Generating xlsx file for comparing MatLab and Python hh_rolling_z_score functionality\n",
    "xls_writer = pd.ExcelWriter('Data_Files/Test_Files/python_Z_score.xlsx')\n",
    "df_z_score.to_excel(xls_writer, 'Z Score series')\n",
    "df_z_matrix.iloc[[0, 251, 252, 253, 501, 502, 503, 504, 5281, 5282], :].to_excel(xls_writer, 'Z Matrix')\n",
    "xls_writer.save()"
   ]
  },
  {
   "cell_type": "code",
   "execution_count": 27,
   "metadata": {},
   "outputs": [],
   "source": [
    "###################################################################################################################################"
   ]
  },
  {
   "cell_type": "code",
   "execution_count": 28,
   "metadata": {},
   "outputs": [],
   "source": [
    "roll_window_min = 252 # One business year\n",
    "roll_window_max = 252 * 100 # Hundred business years\n",
    "winsor_bound_bottom = -5\n",
    "winsor_bound_top = 5"
   ]
  },
  {
   "cell_type": "code",
   "execution_count": 29,
   "metadata": {},
   "outputs": [
    {
     "name": "stdout",
     "output_type": "stream",
     "text": [
      "hh_standartize_mri_data: group EQ started standartizing\n",
      "hh_standartize_mri_data: asset iv_us in group EQ started standartizing\n",
      "hh_rolling_z_score: Mean, Std and Z Score series calculated successfully\n",
      "hh_rolling_z_score: Z Matrix values calculated successfully\n",
      "hh_rolling_z_score: Rolling winsorized Z Score series calculated successfully\n",
      "hh_rolling_z_score: Calculating Z Score data with winsor_option value and fill_option backfill performed successfully\n",
      "hh_standartize_mri_data: asset iv_us in group EQ standartized successfully\n",
      "hh_standartize_mri_data: asset iv_eu in group EQ started standartizing\n",
      "hh_rolling_z_score: Mean, Std and Z Score series calculated successfully\n",
      "hh_rolling_z_score: Z Matrix values calculated successfully\n",
      "hh_rolling_z_score: Rolling winsorized Z Score series calculated successfully\n",
      "hh_rolling_z_score: Calculating Z Score data with winsor_option value and fill_option backfill performed successfully\n",
      "hh_standartize_mri_data: asset iv_eu in group EQ standartized successfully\n",
      "hh_standartize_mri_data: asset iv_uk in group EQ started standartizing\n",
      "hh_rolling_z_score: Mean, Std and Z Score series calculated successfully\n",
      "hh_rolling_z_score: Z Matrix values calculated successfully\n",
      "hh_rolling_z_score: Rolling winsorized Z Score series calculated successfully\n",
      "hh_rolling_z_score: Calculating Z Score data with winsor_option value and fill_option backfill performed successfully\n",
      "hh_standartize_mri_data: asset iv_uk in group EQ standartized successfully\n",
      "hh_standartize_mri_data: asset iv_jp in group EQ started standartizing\n",
      "hh_rolling_z_score: Mean, Std and Z Score series calculated successfully\n",
      "hh_rolling_z_score: Z Matrix values calculated successfully\n",
      "hh_rolling_z_score: Rolling winsorized Z Score series calculated successfully\n",
      "hh_rolling_z_score: Calculating Z Score data with winsor_option value and fill_option backfill performed successfully\n",
      "hh_standartize_mri_data: asset iv_jp in group EQ standartized successfully\n",
      "hh_standartize_mri_data: asset iv_rvx in group EQ started standartizing\n",
      "hh_rolling_z_score: Mean, Std and Z Score series calculated successfully\n",
      "hh_rolling_z_score: Z Matrix values calculated successfully\n",
      "hh_rolling_z_score: Rolling winsorized Z Score series calculated successfully\n",
      "hh_rolling_z_score: Calculating Z Score data with winsor_option value and fill_option backfill performed successfully\n",
      "hh_standartize_mri_data: asset iv_rvx in group EQ standartized successfully\n",
      "hh_standartize_mri_data: asset iv_eem in group EQ started standartizing\n",
      "hh_rolling_z_score: Mean, Std and Z Score series calculated successfully\n",
      "hh_rolling_z_score: Z Matrix values calculated successfully\n",
      "hh_rolling_z_score: Rolling winsorized Z Score series calculated successfully\n",
      "hh_rolling_z_score: Calculating Z Score data with winsor_option value and fill_option backfill performed successfully\n",
      "hh_standartize_mri_data: asset iv_eem in group EQ standartized successfully\n"
     ]
    }
   ],
   "source": [
    "df_result = hh_standartize_mri_data(df_model_asset, df_selected_data, standart_date, roll_window_min, roll_window_max, winsor_bound_bottom, winsor_bound_top)"
   ]
  },
  {
   "cell_type": "code",
   "execution_count": 31,
   "metadata": {},
   "outputs": [
    {
     "ename": "NameError",
     "evalue": "name 'panel_group' is not defined",
     "output_type": "error",
     "traceback": [
      "\u001b[1;31m---------------------------------------------------------------------------\u001b[0m",
      "\u001b[1;31mNameError\u001b[0m                                 Traceback (most recent call last)",
      "\u001b[1;32m<ipython-input-31-18679a553a20>\u001b[0m in \u001b[0;36m<module>\u001b[1;34m()\u001b[0m\n\u001b[0;32m      1\u001b[0m \u001b[1;31m# Generating xlsx file for comparing MatLab and Python hh_rolling_z_score functionality\u001b[0m\u001b[1;33m\u001b[0m\u001b[1;33m\u001b[0m\u001b[0m\n\u001b[0;32m      2\u001b[0m \u001b[0mxls_writer\u001b[0m \u001b[1;33m=\u001b[0m \u001b[0mpd\u001b[0m\u001b[1;33m.\u001b[0m\u001b[0mExcelWriter\u001b[0m\u001b[1;33m(\u001b[0m\u001b[1;34m'Data_Files/Test_Files/python_group_mean.xlsx'\u001b[0m\u001b[1;33m)\u001b[0m\u001b[1;33m\u001b[0m\u001b[0m\n\u001b[1;32m----> 3\u001b[1;33m \u001b[0mpanel_group\u001b[0m\u001b[1;33m.\u001b[0m\u001b[0miloc\u001b[0m\u001b[1;33m[\u001b[0m\u001b[1;33m[\u001b[0m\u001b[1;36m0\u001b[0m\u001b[1;33m,\u001b[0m \u001b[1;36m251\u001b[0m\u001b[1;33m,\u001b[0m \u001b[1;36m252\u001b[0m\u001b[1;33m,\u001b[0m \u001b[1;36m253\u001b[0m\u001b[1;33m,\u001b[0m \u001b[1;36m501\u001b[0m\u001b[1;33m,\u001b[0m \u001b[1;36m502\u001b[0m\u001b[1;33m,\u001b[0m \u001b[1;36m503\u001b[0m\u001b[1;33m,\u001b[0m \u001b[1;36m504\u001b[0m\u001b[1;33m,\u001b[0m \u001b[1;36m5281\u001b[0m\u001b[1;33m,\u001b[0m \u001b[1;36m5282\u001b[0m\u001b[1;33m]\u001b[0m\u001b[1;33m,\u001b[0m \u001b[1;33m:\u001b[0m\u001b[1;33m]\u001b[0m\u001b[1;33m.\u001b[0m\u001b[0mto_excel\u001b[0m\u001b[1;33m(\u001b[0m\u001b[0mxls_writer\u001b[0m\u001b[1;33m,\u001b[0m \u001b[1;34m'Mean Matrix'\u001b[0m\u001b[1;33m)\u001b[0m\u001b[1;33m\u001b[0m\u001b[0m\n\u001b[0m\u001b[0;32m      4\u001b[0m \u001b[0mxls_writer\u001b[0m\u001b[1;33m.\u001b[0m\u001b[0msave\u001b[0m\u001b[1;33m(\u001b[0m\u001b[1;33m)\u001b[0m\u001b[1;33m\u001b[0m\u001b[0m\n",
      "\u001b[1;31mNameError\u001b[0m: name 'panel_group' is not defined"
     ]
    }
   ],
   "source": [
    "# Generating xlsx file for comparing MatLab and Python hh_rolling_z_score functionality\n",
    "xls_writer = pd.ExcelWriter('Data_Files/Test_Files/python_group_mean.xlsx')\n",
    "df_result.iloc[[0, 251, 252, 253, 501, 502, 503, 504, 5281, 5282], :].to_excel(xls_writer, 'Mean Matrix')\n",
    "xls_writer.save()"
   ]
  },
  {
   "cell_type": "code",
   "execution_count": null,
   "metadata": {},
   "outputs": [],
   "source": [
    "df_test_one = pd.DataFrame(np.arange(6).reshape(3,2))\n",
    "df_test_two = pd.DataFrame(np.arange(6).reshape(3,2) * 10)\n",
    "df_test_one.iloc[1, :] = np.NaN\n",
    "df_test_two.iloc[1, 1] = np.NaN\n",
    "df_test_two.iloc[2, 0] = np.NaN\n",
    "arr_test = [0.5, 0.5]\n",
    "df_test_wages = pd.DataFrame(np.zeros(df_test_one.shape))\n",
    "df_test_ones = pd.DataFrame(np.ones(6).reshape(3,2) * 10)\n",
    "df_test_one_w = df_test_one * arr_test[0]\n",
    "df_test_wages = df_test_wages + df_test_one.notna() * arr_test[0]\n",
    "df_test_two_w = df_test_two * arr_test[1]\n",
    "df_test_wages = df_test_wages + df_test_two.notna() * arr_test[1]\n",
    "df_concat = pd.concat([df_test_one_w, df_test_two_w], keys = ['one', 'two'], copy = False)\n",
    "print(df_test_one)\n",
    "print(df_test_two)\n",
    "print(df_test_one_w)\n",
    "print(df_test_two_w)\n",
    "df_test_final = df_concat.sum(level = 1)\n",
    "df_test_final[df_test_wages > 0] =  df_test_final[df_test_wages > 0] / df_test_wages[df_test_wages > 0]\n",
    "df_test_final[df_test_wages == 0] = np.NaN\n",
    "print(df_test_final)"
   ]
  },
  {
   "cell_type": "code",
   "execution_count": null,
   "metadata": {},
   "outputs": [],
   "source": [
    "np.zeros(df_concat.shape)"
   ]
  },
  {
   "cell_type": "code",
   "execution_count": null,
   "metadata": {},
   "outputs": [],
   "source": [
    "df_concat.sum(level = 1)"
   ]
  },
  {
   "cell_type": "code",
   "execution_count": null,
   "metadata": {},
   "outputs": [],
   "source": [
    "df_test_wages"
   ]
  },
  {
   "cell_type": "code",
   "execution_count": null,
   "metadata": {},
   "outputs": [],
   "source": []
  },
  {
   "cell_type": "code",
   "execution_count": null,
   "metadata": {},
   "outputs": [],
   "source": []
  },
  {
   "cell_type": "code",
   "execution_count": null,
   "metadata": {},
   "outputs": [],
   "source": []
  },
  {
   "cell_type": "code",
   "execution_count": null,
   "metadata": {},
   "outputs": [],
   "source": []
  },
  {
   "cell_type": "code",
   "execution_count": null,
   "metadata": {},
   "outputs": [],
   "source": []
  },
  {
   "cell_type": "code",
   "execution_count": null,
   "metadata": {},
   "outputs": [],
   "source": []
  },
  {
   "cell_type": "code",
   "execution_count": null,
   "metadata": {},
   "outputs": [],
   "source": []
  },
  {
   "cell_type": "code",
   "execution_count": null,
   "metadata": {},
   "outputs": [],
   "source": []
  },
  {
   "cell_type": "code",
   "execution_count": null,
   "metadata": {},
   "outputs": [],
   "source": []
  },
  {
   "cell_type": "code",
   "execution_count": null,
   "metadata": {},
   "outputs": [],
   "source": []
  },
  {
   "cell_type": "code",
   "execution_count": null,
   "metadata": {},
   "outputs": [],
   "source": []
  }
 ],
 "metadata": {
  "kernelspec": {
   "display_name": "Python 3",
   "language": "python",
   "name": "python3"
  },
  "language_info": {
   "codemirror_mode": {
    "name": "ipython",
    "version": 3
   },
   "file_extension": ".py",
   "mimetype": "text/x-python",
   "name": "python",
   "nbconvert_exporter": "python",
   "pygments_lexer": "ipython3",
   "version": "3.7.0"
  }
 },
 "nbformat": 4,
 "nbformat_minor": 2
}
