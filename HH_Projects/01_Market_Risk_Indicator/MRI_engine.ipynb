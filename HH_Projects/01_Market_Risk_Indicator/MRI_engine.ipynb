{
 "cells": [
  {
   "cell_type": "code",
   "execution_count": 1,
   "metadata": {},
   "outputs": [],
   "source": [
    "#### THIS NOTEBOOK RUNS MRI PROJECT FUNCTIONALITY"
   ]
  },
  {
   "cell_type": "code",
   "execution_count": 2,
   "metadata": {},
   "outputs": [],
   "source": [
    "# Expanding visibility zone for Python engine to make HH Modules seen\n",
    "import sys \n",
    "sys.path.append('../..')\n",
    "\n",
    "# Importing functions from hh_dates HH Module\n",
    "from HH_Modules.hh_dates import hh_create_bus_dates\n",
    "from HH_Modules.hh_dates import hh_drop_nyse_closures\n",
    "from HH_Modules.hh_ts import hh_missing_data_manager\n",
    "from HH_Modules.hh_mri import hh_build_mri_from_model\n",
    "\n",
    "# Importing standard modules and date-special modules\n",
    "import numpy as np\n",
    "import pandas as pd\n",
    "from datetime import date\n",
    "from datetime import timedelta"
   ]
  },
  {
   "cell_type": "code",
   "execution_count": 3,
   "metadata": {},
   "outputs": [
    {
     "name": "stdout",
     "output_type": "stream",
     "text": [
      "hh_create_bus_dates: Business dates index for period from 1998-01-01 to 2018-12-31 with day interval successfully generated\n",
      "hh_drop_nyse_closures: NYSE closure dates successfully dropped from date index\n",
      "hh_build_mri_from_model: Model profile successfully read\n",
      "hh_build_mri_from_model: Group border rows successfully dropped\n",
      "hh_build_mri_from_model: Group sum weights control successfully performed\n",
      "hh_build_mri_from_model: Model asset part extracted\n",
      "hh_build_mri_from_model: Model MRI part extracted\n",
      "hh_build_mri_from_model: HDF5 file taken as is because of update refusing\n",
      "hh_build_mri_from_model: Limited data from HDF5 file Data_Files/Source_Files/mri_data.h5 extracted successfully\n",
      "hh_build_mri_from_model: Missed border date rows in limited data table added\n",
      "hh_missing_data_manager: np.Nan substitution with option previous performed successfully\n",
      "hh_missing_data_manager: Overall count of actual np.Nan values in data table is 7252\n",
      "hh_build_mri_from_model: Missed data in limited data table filled successfully\n"
     ]
    }
   ],
   "source": [
    "# Business dates index creating\n",
    "date_format = '%Y-%m-%d'\n",
    "first_date_stamp = date(1998, 1, 1)\n",
    "last_date_stamp = date(2018, 12, 31)\n",
    "date_index = hh_create_bus_dates('date', first_date_stamp, last_date_stamp, 'day')\n",
    "\n",
    "# NYSE closure dates dropping from business dates index\n",
    "date_index = hh_drop_nyse_closures(date_index)\n",
    "\n",
    "# Converting xlsx data to data tables: choose commented True alternative option to regenerate h5 file from xlsx\n",
    "path_mri_data_xlsx = 'Data_Files/Source_Files/mri_data.xlsx'\n",
    "mri_model_name = 'Model 01'\n",
    "path_mri_data_hdf = 'Data_Files/Source_Files/mri_data.h5'\n",
    "object_mri_data_hdf = 'source_data'\n",
    "#[df_model_asset, df_model_MRI, df_selected_data] = hh_build_mri_from_model(path_mri_data_xlsx, mri_model_name, \n",
    "#                                                                           path_mri_data_hdf, object_mri_data_hdf, date_index, True)\n",
    "[df_model_asset, df_model_MRI, df_selected_data] = hh_build_mri_from_model(path_mri_data_xlsx, mri_model_name, \n",
    "                                                                           path_mri_data_hdf, object_mri_data_hdf, date_index, False)"
   ]
  },
  {
   "cell_type": "code",
   "execution_count": null,
   "metadata": {},
   "outputs": [],
   "source": []
  },
  {
   "cell_type": "code",
   "execution_count": null,
   "metadata": {},
   "outputs": [],
   "source": []
  }
 ],
 "metadata": {
  "kernelspec": {
   "display_name": "Python 3",
   "language": "python",
   "name": "python3"
  },
  "language_info": {
   "codemirror_mode": {
    "name": "ipython",
    "version": 3
   },
   "file_extension": ".py",
   "mimetype": "text/x-python",
   "name": "python",
   "nbconvert_exporter": "python",
   "pygments_lexer": "ipython3",
   "version": "3.7.0"
  }
 },
 "nbformat": 4,
 "nbformat_minor": 2
}
