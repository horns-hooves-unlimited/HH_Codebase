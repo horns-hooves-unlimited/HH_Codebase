{
 "cells": [
  {
   "cell_type": "code",
   "execution_count": 5,
   "metadata": {},
   "outputs": [],
   "source": [
    "# THIS NOTEBOOK RUNS MRI PROJECT FUNCTIONALITY"
   ]
  },
  {
   "cell_type": "code",
   "execution_count": 6,
   "metadata": {},
   "outputs": [],
   "source": [
    "# Expanding visibility zone for Python engine to make HH Modules seen\n",
    "import sys \n",
    "sys.path.append('../..')\n",
    "\n",
    "# Importing functions from hh_dates HH Module\n",
    "from HH_Modules.hh_dates import hh_create_bus_dates\n",
    "from HH_Modules.hh_dates import hh_drop_nyse_closures\n",
    "from HH_Modules.hh_mri import hh_import_mri_source\n",
    "\n",
    "# Importing standard modules and date-special modules\n",
    "import numpy as np\n",
    "import pandas as pd\n",
    "from datetime import date\n",
    "from datetime import timedelta"
   ]
  },
  {
   "cell_type": "code",
   "execution_count": 7,
   "metadata": {},
   "outputs": [
    {
     "name": "stdout",
     "output_type": "stream",
     "text": [
      "Business dates index for period from 1998-01-01 to 2018-12-31 with day interval successfully generated\n",
      "NYSE closure dates successfully dropped from date index\n"
     ]
    }
   ],
   "source": [
    "# Business dates index creating\n",
    "date_format = '%Y-%m-%d'\n",
    "first_date_stamp = date(1998, 1, 1)\n",
    "last_date_stamp = date(2018, 12, 31)\n",
    "date_index = hh_create_bus_dates('date', first_date_stamp, last_date_stamp, 'day')\n",
    "\n",
    "# NYSE closure dates dropping from business dates index\n",
    "date_index = hh_drop_nyse_closures(date_index)"
   ]
  },
  {
   "cell_type": "code",
   "execution_count": 8,
   "metadata": {},
   "outputs": [
    {
     "data": {
      "text/plain": [
       "DatetimeIndex(['1998-01-02', '1998-01-05', '1998-01-06', '1998-01-07',\n",
       "               '1998-01-08', '1998-01-09', '1998-01-12', '1998-01-13',\n",
       "               '1998-01-14', '1998-01-15',\n",
       "               ...\n",
       "               '2018-12-17', '2018-12-18', '2018-12-19', '2018-12-20',\n",
       "               '2018-12-21', '2018-12-24', '2018-12-26', '2018-12-27',\n",
       "               '2018-12-28', '2018-12-31'],\n",
       "              dtype='datetime64[ns, UTC]', length=5283, freq='C')"
      ]
     },
     "execution_count": 8,
     "metadata": {},
     "output_type": "execute_result"
    }
   ],
   "source": [
    "date_index"
   ]
  },
  {
   "cell_type": "code",
   "execution_count": 4,
   "metadata": {},
   "outputs": [],
   "source": []
  }
 ],
 "metadata": {
  "kernelspec": {
   "display_name": "Python 3",
   "language": "python",
   "name": "python3"
  },
  "language_info": {
   "codemirror_mode": {
    "name": "ipython",
    "version": 3
   },
   "file_extension": ".py",
   "mimetype": "text/x-python",
   "name": "python",
   "nbconvert_exporter": "python",
   "pygments_lexer": "ipython3",
   "version": "3.7.0"
  }
 },
 "nbformat": 4,
 "nbformat_minor": 2
}
