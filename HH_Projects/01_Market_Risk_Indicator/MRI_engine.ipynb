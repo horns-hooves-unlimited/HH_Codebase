{
 "cells": [
  {
   "cell_type": "code",
   "execution_count": null,
   "metadata": {},
   "outputs": [],
   "source": [
    "#### THIS NOTEBOOK RUNS MRI PROJECT FUNCTIONALITY"
   ]
  },
  {
   "cell_type": "code",
   "execution_count": 1,
   "metadata": {},
   "outputs": [],
   "source": [
    "# Expanding visibility zone for Python engine to make HH Modules seen\n",
    "import sys \n",
    "sys.path.append('../..')\n",
    "\n",
    "# Importing functions from custom modules\n",
    "from HH_Modules.hh_dates import hh_create_bus_dates\n",
    "from HH_Modules.hh_dates import hh_drop_nyse_closures\n",
    "from HH_Modules.hh_mri import hh_build_mri_from_model\n",
    "from HH_Modules.hh_mri import hh_standartize_mri_data\n",
    "from HH_Modules.hh_mri import hh_aggregate_mri_data\n",
    "\n",
    "# Importing standard modules and date-special modules\n",
    "import numpy as np\n",
    "import pandas as pd\n",
    "from datetime import date\n",
    "from datetime import timedelta"
   ]
  },
  {
   "cell_type": "code",
   "execution_count": 2,
   "metadata": {},
   "outputs": [],
   "source": [
    "# CONSTANTS AND PARAMETERS SETTING\n",
    "\n",
    "# Standart date format for notebook\n",
    "date_format = '%Y-%m-%d'\n",
    "# Starting date to buil MRI\n",
    "first_date_stamp = date(1998, 1, 1)\n",
    "# Ending date to buil MRI\n",
    "last_date_stamp = date(2018, 12, 31)\n",
    "\n",
    "# Source xlsx file attributes\n",
    "path_mri_data_xlsx = 'Data_Files/Source_Files/mri_data.xlsx'\n",
    "mri_model_name = 'Model 01'\n",
    "\n",
    "# HDF5 file with structured source data for selected date interval attributes\n",
    "path_mri_data_hdf = 'Data_Files/Source_Files/mri_data.h5'\n",
    "object_mri_data_hdf = 'source_data'\n",
    "\n",
    "# Date to check early values filling\n",
    "standart_date_stamp = date(2001, 1, 1)\n",
    "standart_date = standart_date_stamp.strftime(date_format)\n",
    "\n",
    "# Limitations for rolling windows for z-score calculating\n",
    "roll_window_min = 252 # One business year\n",
    "roll_window_max = 252 * 100 # Hundred business years\n",
    "# Limitations for z-score winsorizing\n",
    "winsor_bound_bottom = -5\n",
    "winsor_bound_top = 5\n",
    "\n",
    "# Limitations for moving average for MRI calculation\n",
    "MRI_moving_average_window_max = 5\n",
    "\n",
    "# HDF5 with group matrices builded from z-scored means of standartized winsorized weighted z-score matrices for each group asset\n",
    "path_mri_standart_hdf = 'Data_Files/Source_Files/mri_group_z_matrix.h5'\n",
    "\n",
    "# HDF5 with asset level info\n",
    "path_mri_assets_hdf = 'Data_Files/Source_Files/mri_released_assets.h5'\n",
    "object_selected_data_hdf = 'selected_data'\n",
    "object_standartized_data_hdf = 'standartized_data'\n",
    "\n",
    "# HDF5 with group level info\n",
    "path_mri_groups_hdf = 'Data_Files/Source_Files/mri_released_groups.h5'\n",
    "object_diag_grouped_hdf = 'diag_grouped_data'\n",
    "object_perc_grouped_hdf = 'percentile_grouped_data'\n",
    "\n",
    "# HDF5 with MRI level info\n",
    "path_mri_index_hdf = 'Data_Files/Source_Files/mri_released_index.h5'\n",
    "object_diag_mri_hdf = 'diag_MRI_data'\n",
    "object_raw_perc_mri_hdf = 'raw_perc_MRI_data'\n",
    "object_ma_perc_mri_hdf = 'ma_perc_MRI_data'"
   ]
  },
  {
   "cell_type": "code",
   "execution_count": 3,
   "metadata": {},
   "outputs": [
    {
     "name": "stdout",
     "output_type": "stream",
     "text": [
      "hh_create_bus_dates: Business dates index for period from 1998-01-01 to 2018-12-31 with day interval successfully generated\n",
      "hh_drop_nyse_closures: NYSE closure dates successfully dropped from date index\n",
      "hh_build_mri_from_model: Model profile successfully read\n",
      "hh_build_mri_from_model: Group border rows successfully dropped\n",
      "hh_build_mri_from_model: Group sum weights control successfully performed\n",
      "hh_build_mri_from_model: Model asset part extracted\n",
      "hh_build_mri_from_model: Model MRI part extracted\n",
      "hh_build_mri_from_model: HDF5 file taken as is because of update refusing\n",
      "hh_build_mri_from_model: Limited data from HDF5 file Data_Files/Source_Files/mri_data.h5 extracted successfully\n",
      "hh_build_mri_from_model: Missed border date rows in limited data table added\n",
      "hh_missing_data_manager: np.Nan substitution with option previous performed successfully\n",
      "hh_missing_data_manager: Overall count of actual np.Nan values in data table is 7252\n",
      "hh_build_mri_from_model: Missed data in limited data table filled successfully\n"
     ]
    }
   ],
   "source": [
    "# Business dates index creating\n",
    "date_index = hh_create_bus_dates('date', first_date_stamp, last_date_stamp, 'day')\n",
    "# NYSE closure dates dropping from business dates index\n",
    "date_index = hh_drop_nyse_closures(date_index)\n",
    "\n",
    "# Converting xlsx data to data tables: choose commented True alternative option to regenerate h5 file from xlsx\n",
    "#[df_model_asset, df_model_MRI, df_selected_data] = hh_build_mri_from_model(path_mri_data_xlsx, mri_model_name, \n",
    "#                                                                           path_mri_data_hdf, object_mri_data_hdf, date_index, True)\n",
    "[df_model_asset, df_model_MRI, df_selected_data] = hh_build_mri_from_model(path_mri_data_xlsx, mri_model_name, \n",
    "                                                                           path_mri_data_hdf, object_mri_data_hdf, date_index, False)"
   ]
  },
  {
   "cell_type": "code",
   "execution_count": 4,
   "metadata": {},
   "outputs": [
    {
     "name": "stdout",
     "output_type": "stream",
     "text": [
      "hh_standartize_mri_data: basic asset for group EQ determined succesfully: iv_us\n",
      "hh_standartize_mri_data: basic asset for group FI determined succesfully: oas_hy\n",
      "hh_standartize_mri_data: basic asset for group FX determined succesfully: fx_gbp\n",
      "hh_standartize_mri_data: group EQ standartizing started\n",
      "hh_standartize_mri_data: asset iv_us in group EQ standartized successfully\n",
      "hh_standartize_mri_data: asset iv_eu in group EQ standartized successfully\n",
      "hh_standartize_mri_data: asset iv_uk in group EQ standartized successfully\n",
      "hh_standartize_mri_data: asset iv_jp in group EQ standartized successfully\n",
      "hh_standartize_mri_data: asset iv_rvx in group EQ standartized successfully\n",
      "hh_standartize_mri_data: asset iv_eem in group EQ standartized successfully\n",
      "hh_standartize_mri_data: weighted mean matrix for group EQ builded successfully\n",
      "hh_standartize_mri_data: z-score matrix for group EQ weighted mean matrix builded successfully\n",
      "hh_standartize_mri_data: z-score matrix for group EQ saved to HDF5 file Data_Files/Source_Files/mri_group_z_matrix.h5 (object key: EQ )\n",
      "hh_standartize_mri_data: percentiled data vector on base of mean z score matrix for group EQ builded successfully\n",
      "hh_standartize_mri_data: group FI standartizing started\n",
      "hh_standartize_mri_data: asset oas_hy in group FI standartized successfully\n",
      "hh_standartize_mri_data: asset oas_em in group FI standartized successfully\n",
      "hh_standartize_mri_data: weighted mean matrix for group FI builded successfully\n",
      "hh_standartize_mri_data: z-score matrix for group FI weighted mean matrix builded successfully\n",
      "hh_standartize_mri_data: z-score matrix for group FI saved to HDF5 file Data_Files/Source_Files/mri_group_z_matrix.h5 (object key: FI )\n",
      "hh_standartize_mri_data: percentiled data vector on base of mean z score matrix for group FI builded successfully\n",
      "hh_standartize_mri_data: group FX standartizing started\n",
      "hh_standartize_mri_data: asset fx_gbp in group FX standartized successfully\n",
      "hh_standartize_mri_data: asset fx_eur in group FX standartized successfully\n",
      "hh_standartize_mri_data: asset fx_jpy in group FX standartized successfully\n",
      "hh_standartize_mri_data: asset fx_chf in group FX standartized successfully\n",
      "hh_standartize_mri_data: weighted mean matrix for group FX builded successfully\n",
      "hh_standartize_mri_data: z-score matrix for group FX weighted mean matrix builded successfully\n",
      "hh_standartize_mri_data: z-score matrix for group FX saved to HDF5 file Data_Files/Source_Files/mri_group_z_matrix.h5 (object key: FX )\n",
      "hh_standartize_mri_data: percentiled data vector on base of mean z score matrix for group FX builded successfully\n",
      "hh_standartize_mri_data: asset standartized z-score collection builded successfully\n",
      "hh_standartize_mri_data: data vector collection of diagonales of mean z score matrix for all groups builded successfully\n",
      "hh_standartize_mri_data: percentiled data vector collection on base of mean z score matrix for all groups builded successfully\n"
     ]
    }
   ],
   "source": [
    "# THIS CELL CAN BE SKIPPED TO AVOID HARD CALCULATIONS IN CASE OF CONSTANT MODEL AND SOURCE DATASETS - DATA FOR FURTHER CALCULATIONS WIIL BE TAKEN FROM HDF5 FILES!\n",
    "\n",
    "# Standartizing dataset\n",
    "# Building collection of standartized winsorized z-scores for all assets\n",
    "# Building collection of group's z matrices diagonales for all groups\n",
    "# Building collection of percentiled group's z matrices for all groups\n",
    "[df_standartized_assets, df_diag_mean_z_groups, df_percentiled_groups] = hh_standartize_mri_data(df_model_asset, df_selected_data, standart_date, roll_window_min, \n",
    "                                                                                                 roll_window_max, winsor_bound_bottom, winsor_bound_top, \n",
    "                                                                                                 path_mri_standart_hdf)\n",
    "\n",
    "# Saving results for assets to HDF5 to avoid hard calculations with constant source model and datasets\n",
    "df_selected_data = df_selected_data.astype(float)\n",
    "(df_selected_data.reset_index()).to_hdf(path_mri_assets_hdf, key = object_selected_data_hdf, mode = 'a', format = 'fixed')\n",
    "df_standartized_assets = df_standartized_assets.astype(float)\n",
    "(df_standartized_assets.unstack(level = 0).reset_index()).to_hdf(path_mri_assets_hdf, key = object_standartized_data_hdf, mode = 'a', format = 'fixed')\n",
    "\n",
    "# Saving results for groups to HDF5 to avoid hard calculations with constant source model and datasets\n",
    "df_diag_mean_z_groups = df_diag_mean_z_groups.astype(float)\n",
    "(df_diag_mean_z_groups.unstack(level = 0).reset_index()).to_hdf(path_mri_groups_hdf, key = object_diag_grouped_hdf, mode = 'a', format = 'fixed')\n",
    "df_percentiled_groups = df_percentiled_groups.astype(float)\n",
    "(df_percentiled_groups.unstack(level = 0).reset_index()).to_hdf(path_mri_groups_hdf, key = object_perc_grouped_hdf, mode = 'a', format = 'fixed')"
   ]
  },
  {
   "cell_type": "code",
   "execution_count": 5,
   "metadata": {},
   "outputs": [
    {
     "name": "stdout",
     "output_type": "stream",
     "text": [
      "hh_aggregate_mri_data: group EQ z matrix data extracted successfully\n",
      "hh_aggregate_mri_data: group FI z matrix data extracted successfully\n",
      "hh_aggregate_mri_data: group FX z matrix data extracted successfully\n",
      "hh_aggregate_mri_data: weighted mean matrix for MRI builded successfully\n",
      "hh_aggregate_mri_data: z-score matrix for MRI weighted mean matrix builded successfully\n",
      "hh_aggregate_mri_data: group EQ percentiled data vector extracted successfully\n",
      "hh_aggregate_mri_data: group FI percentiled data vector extracted successfully\n",
      "hh_aggregate_mri_data: group FX percentiled data vector extracted successfully\n",
      "hh_aggregate_mri_data: weighted data vector from percentiled group matrices for MRI and moving average for this vector builded successfully\n"
     ]
    }
   ],
   "source": [
    "# THIS CELL CAN BE SKIPPED TO AVOID HARD CALCULATIONS IN CASE OF CONSTANT MODEL AND SOURCE DATASETS - DATA FOR FURTHER PLOTTING WIIL BE TAKEN FROM HDF5 FILES!\n",
    "\n",
    "# Building diagonale of weighted mean z-score matrix builded from z-score group matrices\n",
    "# Building weighted mean of percemtiled z-matrices for groups   \n",
    "# Building result of moving average for weighted mean of percemtiled z-matrices for groups\n",
    "[ser_diag_MRI, ser_raw_perc_mean, ser_ma_perc_mean] = hh_aggregate_mri_data(df_model_MRI, path_mri_standart_hdf, path_mri_groups_hdf, object_perc_grouped_hdf, \n",
    "                                                                            MRI_moving_average_window_max)\n",
    "\n",
    "# Saving results for groups to HDF5 to avoid hard calculations with constant source model and datasets\n",
    "ser_diag_MRI = ser_diag_MRI.astype(float)\n",
    "ser_diag_MRI.to_hdf(path_mri_index_hdf, key = object_diag_mri_hdf, mode = 'a', format = 'fixed')\n",
    "ser_raw_perc_mean = ser_raw_perc_mean.astype(float)\n",
    "ser_raw_perc_mean.to_hdf(path_mri_index_hdf, key = object_raw_perc_mri_hdf, mode = 'a', format = 'fixed')\n",
    "ser_ma_perc_mean = ser_ma_perc_mean.astype(float)\n",
    "ser_ma_perc_mean.to_hdf(path_mri_index_hdf, key = object_ma_perc_mri_hdf, mode = 'a', format = 'fixed')"
   ]
  },
  {
   "cell_type": "code",
   "execution_count": null,
   "metadata": {},
   "outputs": [],
   "source": []
  },
  {
   "cell_type": "code",
   "execution_count": null,
   "metadata": {},
   "outputs": [],
   "source": []
  }
 ],
 "metadata": {
  "kernelspec": {
   "display_name": "Python 3",
   "language": "python",
   "name": "python3"
  },
  "language_info": {
   "codemirror_mode": {
    "name": "ipython",
    "version": 3
   },
   "file_extension": ".py",
   "mimetype": "text/x-python",
   "name": "python",
   "nbconvert_exporter": "python",
   "pygments_lexer": "ipython3",
   "version": "3.7.0"
  }
 },
 "nbformat": 4,
 "nbformat_minor": 2
}
