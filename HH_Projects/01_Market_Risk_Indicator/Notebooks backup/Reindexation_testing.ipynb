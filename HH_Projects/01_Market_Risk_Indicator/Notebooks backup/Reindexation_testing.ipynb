{
 "cells": [
  {
   "cell_type": "code",
   "execution_count": 1,
   "metadata": {},
   "outputs": [],
   "source": [
    "#### STANDART MODULES INITIALISING\n",
    "### Importing standard modules and date-special modules:\n",
    "import numpy as np\n",
    "import pandas as pd\n",
    "import math\n",
    "from datetime import date"
   ]
  },
  {
   "cell_type": "code",
   "execution_count": 2,
   "metadata": {},
   "outputs": [],
   "source": [
    "### Constants declaring:\n",
    "#path_msci_data = 'Data_Files/Source_Files/sample_data.xlsx'\n",
    "path_msci_data = 'Data_Files/Source_Files/sample_data_gaps.xlsx'\n",
    "tab_monthly = 'monthly_data'\n",
    "tab_daily = 'daily_returns'\n",
    "tab_ivol = 'ivol_data'\n",
    "tab_map = 'country_map'"
   ]
  },
  {
   "cell_type": "code",
   "execution_count": 3,
   "metadata": {},
   "outputs": [],
   "source": [
    "### Extracting universe data:\n",
    "df_universe = pd.read_excel(io = path_msci_data, sheet_name = tab_monthly, skiprows = [0, 2], header = 0)\n",
    "df_universe = df_universe.loc[:, ['dates', 'region', 'ctry']]\n",
    "df_universe.columns = ['Date', 'Market', 'Code']\n",
    "df_universe.set_index(['Code', 'Date'], inplace = True)\n",
    "ser_universe = df_universe.squeeze()\n",
    "ser_universe.sort_index(level = [0, 1], inplace = True)\n",
    "ser_universe.replace({50 : 'DM', 57 : 'EM', 504 : 'FM'}, inplace = True)"
   ]
  },
  {
   "cell_type": "code",
   "execution_count": 4,
   "metadata": {},
   "outputs": [],
   "source": [
    "### Filtering market universe:\n",
    "arr_markets_needed = ['DM', 'FM', 'EM']\n",
    "ser_market_membership = ser_universe[ser_universe.isin(arr_markets_needed)]\n",
    "index_market = ser_market_membership.index"
   ]
  },
  {
   "cell_type": "code",
   "execution_count": 5,
   "metadata": {},
   "outputs": [],
   "source": [
    "### Extracting returns data:\n",
    "df_returns = pd.read_excel(io = path_msci_data, sheet_name = tab_daily, skiprows = [0, 2], header = 0)\n",
    "df_returns = df_returns.loc[:, ['dates', 'ctry', 'retusd', 'retloc']]\n",
    "df_returns.columns = ['Date', 'Code', 'Ret USD', 'Ret LOC']\n",
    "df_returns.set_index(['Code', 'Date'], inplace = True)\n",
    "df_returns.sort_index(level = [0, 1], inplace = True)"
   ]
  },
  {
   "cell_type": "code",
   "execution_count": 22,
   "metadata": {},
   "outputs": [],
   "source": [
    "ser_realized_ret_LOC = df_returns['Ret LOC'].copy()\n",
    "#print('Ret from xlsx:', ser_realized_ret_LOC.loc['AU', '2002-01-31' : '2007-01-31'].head())\n",
    "### Appending returns on ethalon date vector:\n",
    "date_first = date(1992, 1, 1)\n",
    "date_last = date(2018, 12, 31)\n",
    "index_dates = pd.date_range(date_first, date_last, freq = 'B')\n",
    "ser_ret_index_LOC = pd.Series(np.NaN, index = ser_realized_ret_LOC.index)\n",
    "dict_realized_ret_LOC = {}\n",
    "#print('Empty index:', ser_ret_index_LOC.loc['AU', '2002-01-31' : '2007-01-31'].head())\n",
    "for iter_country in ser_realized_ret_LOC.index.get_level_values(0).unique():\n",
    "#    if (iter_country == 'AU'):\n",
    "    ser_ret_index_LOC[iter_country] = (1 + ser_realized_ret_LOC[iter_country]).cumprod()\n",
    "#        print('Cumprod from Ret:', ser_ret_index_LOC.loc['AU', '2002-01-31' : '2007-01-31'].head())        \n",
    "    ser_ret_index_LOC[iter_country].iloc[0] = 1      \n",
    "#        print('Cumprod after reindexation:', ser_ret_index_LOC[iter_country].reindex(index_dates, method = 'ffill').loc['2002-01-31' : '2007-01-31'].head())\n",
    "    ser_ret_index_LOC_iter = ser_ret_index_LOC[iter_country].reindex(index_dates, method = 'ffill')        \n",
    "#        print('Cumprod after reindexation and replacement:', ser_ret_index_LOC_iter.loc['2002-01-31' : '2007-01-31'].head())    \n",
    "    ser_ret_index_LOC_iter.fillna(method = 'ffill', inplace = True)\n",
    "#        print('Cumprod after fillna:', ser_ret_index_LOC_iter.loc['2002-01-31' : '2007-01-31'].head())    \n",
    "    ser_realized_ret_LOC_iter = (ser_ret_index_LOC_iter / ser_ret_index_LOC_iter.shift(1) - 1)   \n",
    "#        print('Ret after decumprod:',(ser_ret_index_LOC_iter / ser_ret_index_LOC_iter.shift(1) - 1).loc['2002-01-31' : '2007-01-31'].head())        \n",
    "#        print('Ret after decumprod and replacement:', ser_realized_ret_LOC.loc['AU', '2002-01-31' : '2007-01-31'].head())\n",
    "    dict_realized_ret_LOC[iter_country] = ser_realized_ret_LOC_iter\n",
    "ser_realized_ret_LOC = pd.concat(dict_realized_ret_LOC)"
   ]
  },
  {
   "cell_type": "code",
   "execution_count": 26,
   "metadata": {},
   "outputs": [
    {
     "data": {
      "text/plain": [
       "AU  2002-01-31    0.000000\n",
       "    2002-02-01    0.000000\n",
       "    2002-02-04    0.000000\n",
       "    2002-02-05    0.000000\n",
       "    2002-02-06    0.000000\n",
       "    2002-02-07    0.000000\n",
       "    2002-02-08    0.000000\n",
       "    2002-02-11    0.000000\n",
       "    2002-02-12    0.000000\n",
       "    2002-02-13    0.000000\n",
       "    2002-02-14    0.000000\n",
       "    2002-02-15    0.000000\n",
       "    2002-02-18    0.000000\n",
       "    2002-02-19    0.000000\n",
       "    2002-02-20    0.000000\n",
       "    2002-02-21    0.000000\n",
       "    2002-02-22    0.000000\n",
       "    2002-02-25    0.000000\n",
       "    2002-02-26    0.000000\n",
       "    2002-02-27    0.000000\n",
       "    2002-02-28    0.000000\n",
       "    2002-03-01    0.000000\n",
       "    2002-03-04    0.000000\n",
       "    2002-03-05    0.000000\n",
       "    2002-03-06    0.000000\n",
       "    2002-03-07    0.000000\n",
       "    2002-03-08    0.000000\n",
       "    2002-03-11    0.000000\n",
       "    2002-03-12    0.000000\n",
       "    2002-03-13    0.000000\n",
       "                    ...   \n",
       "    2006-12-21    0.000000\n",
       "    2006-12-22    0.000000\n",
       "    2006-12-25    0.000000\n",
       "    2006-12-26    0.000000\n",
       "    2006-12-27    0.000000\n",
       "    2006-12-28    0.000000\n",
       "    2006-12-29    0.000000\n",
       "    2007-01-01    0.000000\n",
       "    2007-01-02    0.000569\n",
       "    2007-01-03   -0.004107\n",
       "    2007-01-04   -0.011626\n",
       "    2007-01-05   -0.002114\n",
       "    2007-01-08   -0.012857\n",
       "    2007-01-09    0.016545\n",
       "    2007-01-10   -0.012358\n",
       "    2007-01-11    0.008593\n",
       "    2007-01-12    0.013934\n",
       "    2007-01-15    0.005353\n",
       "    2007-01-16   -0.002233\n",
       "    2007-01-17   -0.004688\n",
       "    2007-01-18    0.004991\n",
       "    2007-01-19    0.000558\n",
       "    2007-01-22    0.010352\n",
       "    2007-01-23    0.001316\n",
       "    2007-01-24    0.006162\n",
       "    2007-01-25    0.000590\n",
       "    2007-01-26    0.000000\n",
       "    2007-01-29   -0.001394\n",
       "    2007-01-30    0.008866\n",
       "    2007-01-31   -0.006119\n",
       "Length: 1305, dtype: float64"
      ]
     },
     "execution_count": 26,
     "metadata": {},
     "output_type": "execute_result"
    }
   ],
   "source": [
    "ser_realized_ret_LOC.loc['AU', '2002-01-31' : '2007-01-31']"
   ]
  },
  {
   "cell_type": "code",
   "execution_count": null,
   "metadata": {},
   "outputs": [],
   "source": []
  }
 ],
 "metadata": {
  "kernelspec": {
   "display_name": "Python 3",
   "language": "python",
   "name": "python3"
  },
  "language_info": {
   "codemirror_mode": {
    "name": "ipython",
    "version": 3
   },
   "file_extension": ".py",
   "mimetype": "text/x-python",
   "name": "python",
   "nbconvert_exporter": "python",
   "pygments_lexer": "ipython3",
   "version": "3.7.3"
  }
 },
 "nbformat": 4,
 "nbformat_minor": 2
}
