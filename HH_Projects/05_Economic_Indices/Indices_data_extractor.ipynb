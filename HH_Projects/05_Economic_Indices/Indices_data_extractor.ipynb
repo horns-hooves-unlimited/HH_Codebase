{
 "cells": [
  {
   "cell_type": "code",
   "execution_count": 1,
   "metadata": {},
   "outputs": [],
   "source": [
    "### RUN EVERY TIME: ECONOMIC INDICES RELEASES HISTORY EXTRACTING"
   ]
  },
  {
   "cell_type": "code",
   "execution_count": 2,
   "metadata": {},
   "outputs": [],
   "source": [
    "### RUN EVERY TIME: INITIALIZATION\n",
    "\n",
    "import pandas as pd\n",
    "import numpy as np\n",
    "from datetime import date, datetime\n",
    "import seaborn as sns\n",
    "from pandas.plotting import register_matplotlib_converters\n",
    "register_matplotlib_converters()\n",
    "\n",
    "%load_ext line_profiler"
   ]
  },
  {
   "cell_type": "code",
   "execution_count": 3,
   "metadata": {},
   "outputs": [],
   "source": [
    "### RUN EVERY TIME: GENERAL DATA PREPARATION\n",
    "\n",
    "### Constants:\n",
    "All = slice(None)\n",
    "list_na_excel_values = ['', '#N/A', '#N/A N/A', '#NA', '-1.#IND', '-1.#QNAN', '-NaN', '-nan', '1.#IND', '1.#QNAN', 'N/A', 'NULL', 'NaN', 'n/a', 'nan', 'null',\n",
    "                        '#N/A Requesting Data...', '#N/A Invalid Security', '#N/A Field Not Applicable']\n",
    "### Raw data path and sheets:\n",
    "str_path_bb_idx_source = 'Data_Files/Source_Files/Bloomberg_Eco_Indices.xlsx'\n",
    "str_us_sheet = 'US Eco Const'\n",
    "str_all_sheet = 'All Eco Const'\n",
    "str_description_sheet = 'Description Const'\n",
    "### Flags data path and sheets:\n",
    "str_path_bb_idx_flags = 'Data_Files/Source_Files/Bloomberg_Eco_Flags.xlsx'\n",
    "str_flag_sheet = 'All to check'\n",
    "### Source data constants:\n",
    "int_idx_cols = 12\n",
    "### HDF file with converted source data:\n",
    "str_path_bb_idx_hdf = 'Data_Files/Source_Files/Bloomberg_Eco_Indices.h5'\n",
    "str_exported_key = 'all_idx_exported'\n",
    "str_raw_filled_key = 'all_idx_raw_filled'\n",
    "str_description_key = 'descriptions_exported'\n",
    "str_flags_key = 'flags_exported'\n",
    "### HDF file with matrices:\n",
    "str_path_bb_matrix_hdf = 'Data_Files/Source_Files/Matrix_Eco_Indices.h5'\n",
    "str_raw_history_key = 'raw_history'\n",
    "### Observation axis range:\n",
    "datetime_start = datetime(1984, 12, 31) # Start date for efficacy measures\n",
    "datetime_end = datetime(2020, 8, 31) # End date for efficacy measures\n",
    "date_start = datetime_start.date()\n",
    "date_end = datetime_end.date()\n",
    "idx_date_range = pd.date_range(date_start, date_end, freq = 'B')\n",
    "### Gaps filling options\n",
    "int_revision_shift = 1\n",
    "int_final_shift = 2\n",
    "int_first_mean_length = 12\n",
    "dict_final_only_lag = {}\n",
    "dict_final_only_lag['Quarterly'] = 90 // 2\n",
    "dict_final_only_lag['Monthly'] = 30 // 2\n",
    "dict_final_only_lag['Other'] = 7 // 2"
   ]
  },
  {
   "cell_type": "code",
   "execution_count": 4,
   "metadata": {},
   "outputs": [],
   "source": [
    "### RUN TO RE-EXPORT DATA: SOURCE FILE EXPORT\n",
    "\n",
    "### Reading excel file:\n",
    "df_all_idx_raw = pd.read_excel(io = str_path_bb_idx_source, sheet_name = str_all_sheet, skiprows = [0], index_col = None, header = None, parse_dates = True,\n",
    "                               na_values = list_na_excel_values, keep_default_na = False)\n",
    "### List of dataframes for each eco index initializing:\n",
    "list_idx_raw = []\n",
    "### Extracting and converting each eco index data block seperately to proper form:\n",
    "for int_iter_idx_col in range(len(df_all_idx_raw.columns) // int_idx_cols):\n",
    "    ### Extracting raw data:\n",
    "    df_iter_idx_raw = df_all_idx_raw.iloc[All, (int_iter_idx_col * int_idx_cols) : ((int_iter_idx_col + 1) * int_idx_cols) - 1]\n",
    "    ### Assigning colum names:\n",
    "    df_iter_idx_raw.columns = df_iter_idx_raw.iloc[1]\n",
    "    df_iter_idx_raw.columns.name = ''    \n",
    "    ### Dropping empty rows:\n",
    "    df_iter_idx_raw.dropna(how = 'all', inplace = True)\n",
    "    ### Extracting eco index name:\n",
    "    df_iter_idx_raw['Index_Name'] = df_iter_idx_raw.iloc[0, 0]\n",
    "    ### Dropping identification rows (no longer needed):\n",
    "    df_iter_idx_raw.drop([0, 1], axis = 0, inplace = True)\n",
    "    ### Setting multiindex:\n",
    "    df_iter_idx_raw.set_index(['Date', 'Index_Name'], drop = True, append = False, inplace = True)\n",
    "    ### ADding dataframe to list:\n",
    "    list_idx_raw.append(df_iter_idx_raw)\n",
    "### Exported data aggregating:\n",
    "df_all_idx_exported = pd.concat(list_idx_raw, axis = 0).swaplevel()\n",
    "### Exported data saving:\n",
    "df_all_idx_exported.index.names = ['Index_Name', 'Data_Date']\n",
    "### Types converting for numerical data:\n",
    "df_all_idx_exported = df_all_idx_exported.astype({'PX_LAST': 'float',\n",
    "                                                  'ACTUAL_RELEASE': 'float',\n",
    "                                                  'FIRST_REVISION': 'float',\n",
    "                                                  'BN_SURVEY_NUMBER_OBSERVATIONS': 'float',\n",
    "                                                  'BN_SURVEY_MEDIAN': 'float',\n",
    "                                                  'BN_SURVEY_AVERAGE': 'float',\n",
    "                                                  'FORECAST_STANDARD_DEVIATION': 'float',\n",
    "                                                 })\n",
    "### Zero dates dropping:\n",
    "df_all_idx_exported.loc[df_all_idx_exported['ECO_RELEASE_DT'] == 0, ['ECO_RELEASE_DT']] = np.NaN\n",
    "df_all_idx_exported.loc[df_all_idx_exported['FIRST_REVISION_DATE'] == 0, ['FIRST_REVISION_DATE']] = np.NaN\n",
    "df_all_idx_exported.loc[df_all_idx_exported['ECO_FUTURE_RELEASE_DATE'] == 0, ['ECO_FUTURE_RELEASE_DATE']] = np.NaN\n",
    "### Incorrect dates droppping:\n",
    "df_all_idx_exported.loc[df_all_idx_exported['ECO_RELEASE_DT'] > 20210000, 'ECO_RELEASE_DT'] = np.NaN\n",
    "df_all_idx_exported.loc[df_all_idx_exported['FIRST_REVISION_DATE'] > 20210000, 'FIRST_REVISION_DATE'] = np.NaN\n",
    "df_all_idx_exported.loc[df_all_idx_exported['ECO_FUTURE_RELEASE_DATE'] > 20210000, 'ECO_FUTURE_RELEASE_DATE'] = np.NaN\n",
    "### Dates formatting:\n",
    "df_all_idx_exported['ECO_RELEASE_DT'] = pd.to_datetime(df_all_idx_exported['ECO_RELEASE_DT'].astype(str), format = '%Y%m%d')\n",
    "df_all_idx_exported['FIRST_REVISION_DATE'] = pd.to_datetime(df_all_idx_exported['FIRST_REVISION_DATE'].astype(str), format = '%Y%m%d')\n",
    "df_all_idx_exported['ECO_FUTURE_RELEASE_DATE'] = pd.to_datetime(df_all_idx_exported['ECO_FUTURE_RELEASE_DATE'].astype(str), format = '%Y%m%d')\n",
    "### Exported dataframe saving:\n",
    "df_all_idx_exported.to_hdf(str_path_bb_idx_hdf, key = str_exported_key, mode = 'w')"
   ]
  },
  {
   "cell_type": "code",
   "execution_count": 5,
   "metadata": {},
   "outputs": [],
   "source": [
    "### RUN TO RE-EXPORT DATA: DESCRIPTION FILE EXPORT\n",
    "\n",
    "### Readind excel file:\n",
    "df_description = pd.read_excel(io = str_path_bb_idx_source, sheet_name = str_description_sheet, skiprows = [0], usecols = list(range(10)), index_col = 0, header = 0, \n",
    "                               parse_dates = True, na_values = list_na_excel_values, keep_default_na = False)\n",
    "### Dataframe transforming:\n",
    "df_description.dropna(how = 'all', inplace = True)\n",
    "df_description.index.name = 'Index_Name'\n",
    "### Types converting:\n",
    "df_description = df_description.astype({'ID_BB0': int,\n",
    "                                        'SECURITY_DES': str,\n",
    "                                        'SHORT_NAME': str,\n",
    "                                        'FEED_CODE': str,\n",
    "                                        'INDX_SOURCE': str,\n",
    "                                        'COUNTRY': str,\n",
    "                                        'INDX_HIST_START_DT_MONTHLY': str,\n",
    "                                        'DES_NOTES': str,\n",
    "                                        'INDX_FREQ': str,                       \n",
    "                                      })\n",
    "### Exported dataframe saving:\n",
    "df_description.to_hdf(str_path_bb_idx_hdf, key = str_description_key, mode = 'a')"
   ]
  },
  {
   "cell_type": "code",
   "execution_count": 6,
   "metadata": {},
   "outputs": [],
   "source": [
    "### RUN TO RE-EXPORT DATA: REVISIONS DATA EXTRACTING\n",
    "\n",
    "### Revisions data reading (99,180 rows):\n",
    "df_all_idx_revisions = pd.read_hdf(str_path_bb_idx_hdf, key = str_exported_key)[['PX_LAST', 'ECO_RELEASE_DT', 'ACTUAL_RELEASE', 'FIRST_REVISION_DATE', 'FIRST_REVISION']]\n",
    "### Dropping rows with all Index Values missed (96,369 rows left):\n",
    "#df_all_idx_revisions = \\\n",
    "#        df_all_idx_revisions.loc[df_all_idx_revisions['PX_LAST'].notna() | df_all_idx_revisions['ACTUAL_RELEASE'].notna() | df_all_idx_revisions['FIRST_REVISION'].notna()]\n",
    "### Date filtering:\n",
    "df_all_idx_revisions = df_all_idx_revisions.reset_index('Data_Date')\n",
    "df_all_idx_revisions = df_all_idx_revisions.loc[df_all_idx_revisions['Data_Date'] >= datetime_start].set_index('Data_Date', append = True)\n",
    "### Columns renaming:\n",
    "df_all_idx_revisions.columns = ['Final_Value', 'Release_Date', 'Release_Value', 'Revision_Date', 'Revision_Value']"
   ]
  },
  {
   "cell_type": "code",
   "execution_count": null,
   "metadata": {},
   "outputs": [],
   "source": [
    "### RUN TO TESTING: UNIVERSAL REQUEST CONSTRUCTOR\n",
    "\n",
    "df_all_idx_revisions[df_all_idx_revisions['Final_Value'].notna() & df_all_idx_revisions['Release_Value'].isna() & df_all_idx_revisions['Revision_Value'].notna()]"
   ]
  },
  {
   "cell_type": "code",
   "execution_count": 7,
   "metadata": {},
   "outputs": [
    {
     "name": "stdout",
     "output_type": "stream",
     "text": [
      "Rows with at least one value filled: 87422\n",
      "Eco Indices number: 255\n",
      "Average data dates number: 342\n",
      "Release Info: filled date & value: 50964 rows\n",
      "Release Info: empty date & value: 33774 rows\n",
      "Release Info: empty date & filled value: 445 rows\n",
      "Release Info: filled date & empty value: 2239 rows\n",
      "First revision Info: filled date & value: 15298 rows\n",
      "First revision Info: empty date & value: 72062 rows\n",
      "First revision Info: empty date & filled value: 58 rows\n",
      "First revision Info: filled date & empty value: 4 rows\n"
     ]
    }
   ],
   "source": [
    "### RUN TO RE-EXPORT DATA: MAIN STATS\n",
    "\n",
    "### General stats:\n",
    "print('Rows with at least one value filled:', len(df_all_idx_revisions.index))\n",
    "print('Eco Indices number:', len(df_all_idx_revisions.index.get_level_values(0).unique()))\n",
    "print('Average data dates number:', int(df_all_idx_revisions.groupby('Index_Name').apply(lambda df_group: len(df_group.index)).mean()))\n",
    "### Release data analyzing (96,369 rows):\n",
    "df_release_based = df_all_idx_revisions[['Release_Date', 'Release_Value']]\n",
    "df_release_based.columns = ['Observation_Date', 'Index_Value']\n",
    "### Data quantity:\n",
    "print('Release Info: filled date & value:', len(df_release_based.loc[df_release_based['Observation_Date'].notna() & df_release_based['Index_Value'].notna()]), 'rows')\n",
    "print('Release Info: empty date & value:', len(df_release_based.loc[df_release_based['Observation_Date'].isna() & df_release_based['Index_Value'].isna()]), 'rows')\n",
    "print('Release Info: empty date & filled value:', len(df_release_based.loc[df_release_based['Observation_Date'].isna() & df_release_based['Index_Value'].notna()]), 'rows')\n",
    "print('Release Info: filled date & empty value:', len(df_release_based.loc[df_release_based['Observation_Date'].notna() & df_release_based['Index_Value'].isna()]), 'rows')\n",
    "### First revision data analyzing (96,369 rows):\n",
    "df_revision_based = df_all_idx_revisions[['Revision_Date', 'Revision_Value']]\n",
    "df_revision_based.columns = ['Observation_Date', 'Index_Value']\n",
    "### Data quantity:\n",
    "print('First revision Info: filled date & value:', \n",
    "      len(df_revision_based.loc[df_revision_based['Observation_Date'].notna() & df_revision_based['Index_Value'].notna()]), 'rows')\n",
    "print('First revision Info: empty date & value:', \n",
    "      len(df_revision_based.loc[df_revision_based['Observation_Date'].isna() & df_revision_based['Index_Value'].isna()]), 'rows')\n",
    "print('First revision Info: empty date & filled value:', \n",
    "      len(df_revision_based.loc[df_revision_based['Observation_Date'].isna() & df_revision_based['Index_Value'].notna()]), 'rows')\n",
    "print('First revision Info: filled date & empty value:', \n",
    "      len(df_revision_based.loc[df_revision_based['Observation_Date'].notna() & df_revision_based['Index_Value'].isna()]), 'rows') "
   ]
  },
  {
   "cell_type": "code",
   "execution_count": 8,
   "metadata": {},
   "outputs": [
    {
     "name": "stdout",
     "output_type": "stream",
     "text": [
      "Eco Indices without any release date number: 10\n",
      "Eco Indices without any release value number: 10\n",
      "Symmetric difference of empty release info Eco Indices lists: []\n",
      "Union of empty release info Eco Indices lists:\n",
      " ['DTSRR1EB Index', 'ESRSREHY Index', 'EUNOEUM Index', 'FICP00MM Index', 'IEVHNEWY Index', 'JNBTCASE Index', 'JNRSLYYT Index', 'LTSBBCBU Index', 'NHSPAWE1 Index', 'RSSA25M Index']\n"
     ]
    }
   ],
   "source": [
    "### RUN TO RE-EXPORT DATA: DETAILED STATS: RELEASE DATE/VALUE PAIR\n",
    "\n",
    "### All empty release date vector Eco Indices:\n",
    "ser_empty_release_date = df_release_based['Observation_Date'].groupby('Index_Name').count()\n",
    "ser_empty_release_date = ser_empty_release_date[ser_empty_release_date == 0]\n",
    "print('Eco Indices without any release date number:', len(ser_empty_release_date.index))\n",
    "### All empty release value vector Eco Indices:\n",
    "ser_empty_release_value = df_release_based['Index_Value'].groupby('Index_Name').count()\n",
    "ser_empty_release_value = ser_empty_release_value[ser_empty_release_value == 0]\n",
    "print('Eco Indices without any release value number:', len(ser_empty_release_value.index))\n",
    "### Empty Eco Indices relese info lists comparision:\n",
    "print('Symmetric difference of empty release info Eco Indices lists:', list(set(ser_empty_release_date.index).symmetric_difference(set(ser_empty_release_value.index))))\n",
    "print('Union of empty release info Eco Indices lists:\\n', sorted(list(set(ser_empty_release_date.index).union(set(ser_empty_release_value.index)))))\n",
    "list_empty_release = sorted(list(set(ser_empty_release_date.index).union(set(ser_empty_release_value.index))))\n",
    "for iter_eco_index in sorted(list(set(ser_empty_release_date.index).symmetric_difference(set(ser_empty_release_value.index)))):\n",
    "    print('Symmetric difference for', iter_eco_index, ':\\n', \n",
    "          df_all_idx_revisions.loc[(iter_eco_index, All), All].dropna(subset = ['Release_Date', 'Release_Value'], how = 'all'))"
   ]
  },
  {
   "cell_type": "code",
   "execution_count": 9,
   "metadata": {},
   "outputs": [],
   "source": [
    "### RUN TO TESTING: DESCRIPTION OF PX_LAST ONLY ECO INDICES\n",
    "\n",
    "df_description = pd.read_hdf(str_path_bb_idx_hdf, key = str_description_key)\n",
    "#df_description.loc[list_empty_release]#.to_excel('Data_Files/Test_Files/PX_LAST_only_indices.xlsx')"
   ]
  },
  {
   "cell_type": "code",
   "execution_count": 10,
   "metadata": {},
   "outputs": [
    {
     "name": "stdout",
     "output_type": "stream",
     "text": [
      "Eco Indices without any revision date number: 73\n",
      "Eco Indices without any revision value number: 72\n",
      "Symmetric difference of empty revision info Eco Indices lists: ['MPMIITMA Index']\n",
      "Union of empty revision info Eco Indices lists:\n",
      " ['BAKETOT Index', 'BECCN Index', 'BECPCHNG Index', 'BRCPALLY Index', 'CONSSENT Index', 'DTSRR1EB Index', 'ESCPLMOM Index', 'ESRSREHY Index', 'EUNOEUM Index', 'FICP00MM Index', 'FIPPIR2M Index', 'FIUER Index', 'GKCPIUHY Index', 'GKCPNEWY Index', 'GKUERATE Index', 'GRCP2BRM Index', 'GRCP2BVM Index', 'GRCP2NRM Index', 'GRCP2SAM Index', 'GRZECURR Index', 'GRZEEUEX Index', 'GRZEWI Index', 'IECPEUIQ Index', 'IECPIMOM Index', 'IECSINDX Index', 'IEVHNEWY Index', 'ITSR1B Index', 'JCOMHCF Index', 'JNBTCASE Index', 'JNCAP Index', 'JNCVSSY Index', 'JNDSNYOY Index', 'JNDSTYOY Index', 'JNRSLYYT Index', 'JNSMTYOY Index', 'JNVHSYOY Index', 'JWCOOVRL Index', 'JWEXOVRL Index', 'KPRSLFLS Index', 'LTSBBCBU Index', 'MPMIDEMA Index', 'MPMIDESA Index', 'MPMIEZCA Index', 'MPMIEZMA Index', 'MPMIEZSA Index', 'MPMIFRMA Index', 'MPMIFRSA Index', 'MPMIGBSA Index', 'MPMIGBXA Index', 'MPMIITMA Index', 'MPMIITSA Index', 'MPMIJPCA Index', 'MTEF1C Index', 'MTEF4C Index', 'NHSPAWE1 Index', 'PTCPHAMM Index', 'RSSA25M Index', 'SLCPLHMM Index', 'SLPPIPMM Index', 'SNTEEUGX Index', 'SPCPEUMM Index', 'SPIPCCMM Index', 'SVAWRYOY Index', 'SVCPMOM Index', 'SVPPIMOM Index', 'SVRTRMOM Index', 'UKBFFTIN Index', 'UKCCI Index', 'UKHCA9IQ Index', 'UKRPCJMR Index', 'UKRPMOM Index', 'UKRPXYOY Index', 'UKVHRYY Index']\n",
      "Symmetric difference for MPMIITMA Index :\n",
      "                            Final_Value Release_Date  Release_Value  \\\n",
      "Index_Name     Data_Date                                             \n",
      "MPMIITMA Index 2011-06-30          NaN   2011-07-01            NaN   \n",
      "\n",
      "                          Revision_Date  Revision_Value  \n",
      "Index_Name     Data_Date                                 \n",
      "MPMIITMA Index 2011-06-30           NaT            49.8  \n"
     ]
    }
   ],
   "source": [
    "### RUN TO RE-EXPORT DATA: DETAILED STATS: FIRST REVISION DATE/VALUE PAIR\n",
    "\n",
    "### All empty release date vector Eco Indices:\n",
    "ser_empty_revision_date = df_revision_based['Observation_Date'].groupby('Index_Name').count()\n",
    "ser_empty_revision_date = ser_empty_revision_date[ser_empty_revision_date == 0]\n",
    "print('Eco Indices without any revision date number:', len(ser_empty_revision_date.index))\n",
    "### All empty release value vector Eco Indices:\n",
    "ser_empty_revision_value = df_revision_based['Index_Value'].groupby('Index_Name').count()\n",
    "ser_empty_revision_value = ser_empty_revision_value[ser_empty_revision_value == 0]\n",
    "print('Eco Indices without any revision value number:', len(ser_empty_revision_value.index))\n",
    "### Empty Eco Indices relese info lists comparision:\n",
    "print('Symmetric difference of empty revision info Eco Indices lists:', \n",
    "      sorted(list(set(ser_empty_revision_date.index).symmetric_difference(set(ser_empty_revision_value.index)))))\n",
    "print('Union of empty revision info Eco Indices lists:\\n', sorted(list(set(ser_empty_revision_date.index).union(set(ser_empty_revision_value.index)))))\n",
    "list_empty_revision = sorted(list(set(ser_empty_revision_date.index).union(set(ser_empty_revision_value.index))))\n",
    "for iter_eco_index in sorted(list(set(ser_empty_revision_date.index).symmetric_difference(set(ser_empty_revision_value.index)))):\n",
    "    print('Symmetric difference for', iter_eco_index, ':\\n', \n",
    "          df_all_idx_revisions.loc[(iter_eco_index, All), All].dropna(subset = ['Revision_Date', 'Revision_Value'], how = 'all'))"
   ]
  },
  {
   "cell_type": "code",
   "execution_count": 11,
   "metadata": {},
   "outputs": [],
   "source": [
    "### RUN TO RE-EXPORT DATA: DATA CLEARING\n",
    "\n",
    "### MPMIITMA Index Revision_Value mistake correctio:\n",
    "df_all_idx_revisions.loc[('MPMIITMA Index', All), 'Revision_Value'] = np.NaN"
   ]
  },
  {
   "cell_type": "code",
   "execution_count": 12,
   "metadata": {},
   "outputs": [
    {
     "name": "stdout",
     "output_type": "stream",
     "text": [
      "Release_Date      datetime64[ns]\n",
      "Release_Value            float64\n",
      "Revision_Date     datetime64[ns]\n",
      "Revision_Value           float64\n",
      "Final_Date        datetime64[ns]\n",
      "Final_Value              float64\n",
      "dtype: object\n"
     ]
    }
   ],
   "source": [
    "### RUN TO RE-EXPORT DATA: ALL DATES FILLING PROCEDURE\n",
    "\n",
    "df_description = pd.read_hdf(str_path_bb_idx_hdf, key = str_description_key)\n",
    "\n",
    "#### Dates filling:\n",
    "def all_dates_filler(df_eco_ind):\n",
    "    ### Eco Indice options saving:\n",
    "    str_index_name = df_eco_ind.index.get_level_values(0)[0]\n",
    "    str_eco_ind_freq = df_description.loc[str_index_name, 'INDX_FREQ']\n",
    "    if (str_eco_ind_freq in dict_final_only_lag.keys()):\n",
    "        int_final_only_lag = dict_final_only_lag[str_eco_ind_freq]\n",
    "    else:\n",
    "        int_final_only_lag = dict_final_only_lag['Other']\n",
    "    ### Index_Name level dropping:\n",
    "    df_eco_ind = df_eco_ind.droplevel(0)\n",
    "    ### Index duplicating to column:\n",
    "    df_eco_ind['Event_Date'] = df_eco_ind.index\n",
    "    df_eco_ind['Release_Lag'] = np.NaN\n",
    "    ### No release checking:\n",
    "    if (str_index_name in list_empty_release): \n",
    "        df_eco_ind['Final_Date'] = df_eco_ind['Event_Date'] + pd.Timedelta(int_final_only_lag, 'D')\n",
    "    elif (str_index_name in list_empty_revision):    \n",
    "        ### Backfilling release dates lag before the first known released date: \n",
    "        idx_first_valid_release = df_eco_ind['Release_Date'].first_valid_index()\n",
    "        int_first_release_idx = df_eco_ind.index.get_loc(idx_first_valid_release)\n",
    "        df_first_released = df_eco_ind.iloc[int_first_release_idx : int_first_release_idx + int_first_mean_length]\n",
    "        int_first_release_mean = (df_first_released['Release_Date'] - df_first_released['Event_Date']).mean().days + 1\n",
    "        df_eco_ind.loc[ : idx_first_valid_release, 'Release_Lag'] = int_first_release_mean\n",
    "        ### Interpolating missed release dates lag after the first known released date:\n",
    "        df_eco_ind.loc[idx_first_valid_release : , 'Release_Lag'] = (df_eco_ind['Release_Date'] - df_eco_ind['Event_Date']).dt.days\n",
    "        df_eco_ind.loc[idx_first_valid_release : , 'Release_Lag'] = df_eco_ind.loc[idx_first_valid_release : , 'Release_Lag'].interpolate(method = 'linear').round()\n",
    "        ### Filling empty release date with lag adding:\n",
    "        df_eco_ind['Release_Lag'] = pd.to_timedelta(df_eco_ind['Release_Lag'], 'D')    \n",
    "        df_eco_ind.loc[df_eco_ind['Release_Date'].isna(), 'Release_Date'] = df_eco_ind['Event_Date'] + df_eco_ind['Release_Lag']\n",
    "        ### Final date filling as one event shifted release date\n",
    "        df_eco_ind['Final_Date'] = df_eco_ind['Release_Date'].shift(-int_revision_shift)   \n",
    "    else:\n",
    "        ### Backfilling release dates lag before the first known released date: \n",
    "        idx_first_valid_release = df_eco_ind['Release_Date'].first_valid_index()\n",
    "        int_first_release_idx = df_eco_ind.index.get_loc(idx_first_valid_release)\n",
    "        df_first_released = df_eco_ind.iloc[int_first_release_idx : int_first_release_idx + int_first_mean_length]\n",
    "        int_first_release_mean = (df_first_released['Release_Date'] - df_first_released['Event_Date']).mean().days + 1\n",
    "        df_eco_ind.loc[ : idx_first_valid_release, 'Release_Lag'] = int_first_release_mean\n",
    "        ### Interpolating missed release dates lag after the first known released date:\n",
    "        df_eco_ind.loc[idx_first_valid_release : , 'Release_Lag'] = (df_eco_ind['Release_Date'] - df_eco_ind['Event_Date']).dt.days\n",
    "        df_eco_ind.loc[idx_first_valid_release : , 'Release_Lag'] = df_eco_ind.loc[idx_first_valid_release : , 'Release_Lag'].interpolate(method = 'linear').round()\n",
    "        ### Filling empty release date with lag adding:\n",
    "        df_eco_ind['Release_Lag'] = pd.to_timedelta(df_eco_ind['Release_Lag'], 'D')    \n",
    "        df_eco_ind.loc[df_eco_ind['Release_Date'].isna(), 'Release_Date'] = df_eco_ind['Event_Date'] + df_eco_ind['Release_Lag']\n",
    "        ### Filling revision dates lag before the first known revision date: \n",
    "        df_eco_ind.loc[df_eco_ind['Revision_Date'].isna(), 'Revision_Date'] = df_eco_ind['Release_Date'].shift(-int_revision_shift)\n",
    "        ### Final date filling as one event shifted release date\n",
    "        df_eco_ind['Final_Date'] = df_eco_ind['Release_Date'].shift(-int_final_shift)\n",
    "    ### Results ouput:\n",
    "    return df_eco_ind[['Release_Date', 'Release_Value', 'Revision_Date', 'Revision_Value', 'Final_Date', 'Final_Value']]\n",
    "\n",
    "### Date filling for each eco index performing:\n",
    "df_dates_filled = df_all_idx_revisions.groupby('Index_Name').apply(all_dates_filler)\n",
    "### Dataframe types control:\n",
    "print(df_dates_filled.dtypes)\n",
    "### Filled dates saving:\n",
    "df_dates_filled.to_hdf(str_path_bb_idx_hdf, key = str_raw_filled_key, mode = 'a')"
   ]
  },
  {
   "cell_type": "code",
   "execution_count": 125,
   "metadata": {},
   "outputs": [],
   "source": [
    "### RUN TO TESTING: DATE FILLING RESULTS\n",
    "\n",
    "### \"Usual\" eco index: 'SPRSRAY Index'\n",
    "### No first revision eco index: 'BAKETOT Index'\n",
    "### No release eco index: 'DTSRR1EB Index'\n",
    "\n",
    "df_eco_ind = df_dates_filled.loc[('SPRSRAY Index', All), All]\n",
    "df_eco_ind[['Release_Date', 'Release_Value', 'Revision_Date', 'Revision_Value', 'Final_Date', 'Final_Value']].to_excel('Data_Files/Test_Files/Date_Filler_Testing.xlsx')"
   ]
  },
  {
   "cell_type": "code",
   "execution_count": 13,
   "metadata": {},
   "outputs": [],
   "source": [
    "### VALUES STACKING\n",
    "\n",
    "### Dataframe loading:\n",
    "df_dates_filled = pd.read_hdf(str_path_bb_idx_hdf, key = str_raw_filled_key)\n",
    "### Release pair stacking:\n",
    "df_release_pair = df_dates_filled[['Release_Date', 'Release_Value']]\n",
    "df_release_pair.columns = ['Observation_Date', 'Index_Value']\n",
    "df_release_pair = df_release_pair.dropna(subset = ['Observation_Date'])\n",
    "df_release_pair['Stage'] = 'Release'\n",
    "ser_release_based = df_release_pair.set_index(['Observation_Date', 'Stage'], append = True).squeeze()\n",
    "### First revision pair stacking:\n",
    "df_revision_pair = df_dates_filled[['Revision_Date', 'Revision_Value']]\n",
    "df_revision_pair.columns = ['Observation_Date', 'Index_Value']\n",
    "df_revision_pair = df_revision_pair.dropna(subset = ['Observation_Date'])\n",
    "df_revision_pair['Stage'] = 'First Revision'\n",
    "ser_revision_based = df_revision_pair.set_index(['Observation_Date', 'Stage'], append = True).squeeze()\n",
    "### Final revision pair stacking:\n",
    "df_final_pair = df_dates_filled[['Final_Date', 'Final_Value']]\n",
    "df_final_pair.columns = ['Observation_Date', 'Index_Value']\n",
    "df_final_pair = df_final_pair.dropna(subset = ['Observation_Date'])\n",
    "df_final_pair['Stage'] = 'Final Revision'\n",
    "ser_final_based = df_final_pair.set_index(['Observation_Date', 'Stage'], append = True).squeeze()\n",
    "### Vectors aggregating:\n",
    "ser_history_raw = ser_final_based.combine_first(ser_revision_based).combine_first(ser_release_based).dropna().sort_index()\n",
    "### Results saving:\n",
    "ser_history_raw.to_hdf(str_path_bb_matrix_hdf, key = str_raw_history_key, mode = 'w')"
   ]
  },
  {
   "cell_type": "code",
   "execution_count": null,
   "metadata": {},
   "outputs": [],
   "source": [
    "### RUN TO TESTING: DATES COMPARING:\n",
    "\n"
   ]
  },
  {
   "cell_type": "code",
   "execution_count": 14,
   "metadata": {},
   "outputs": [],
   "source": [
    "### RUN TO RE-EXPORT DATA: FLAGS FILE EXPORT\n",
    "\n",
    "### Readind excel file:\n",
    "df_flags = pd.read_excel(io = str_path_bb_idx_flags, sheet_name = str_flag_sheet, usecols = list(range(16)), index_col = 4, header = 0, \n",
    "                               parse_dates = True, na_values = list_na_excel_values, keep_default_na = False)\n",
    "### Dataframe transforming:\n",
    "df_flags.dropna(how = 'all', inplace = True)\n",
    "df_flags.index.name = 'Index_Name'\n",
    "### Exported dataframe saving:\n",
    "df_flags.to_hdf(str_path_bb_idx_hdf, key = str_flags_key, mode = 'a')"
   ]
  },
  {
   "cell_type": "code",
   "execution_count": 6,
   "metadata": {},
   "outputs": [
    {
     "data": {
      "text/plain": [
       "<matplotlib.axes._subplots.AxesSubplot at 0x2b6050d2b70>"
      ]
     },
     "execution_count": 6,
     "metadata": {},
     "output_type": "execute_result"
    },
    {
     "data": {
      "image/png": "[encoded data removed]",
      "text/plain": [
       "<Figure size 1440x540 with 1 Axes>"
      ]
     },
     "metadata": {},
     "output_type": "display_data"
    }
   ],
   "source": [
    "### TEMP\n",
    "\n",
    "str_test_index = 'SPRSRAY Index'\n",
    "\n",
    "ser_history_raw = pd.read_hdf(str_path_bb_matrix_hdf, key = str_raw_history_key)\n",
    "\n",
    "sns.set(rc = {'figure.figsize': (20, 7.5)})\n",
    "sns.scatterplot(data = ser_history_raw.loc[str_test_index].reset_index(), x = 'Data_Date', y = 'Index_Value', hue = 'Stage')"
   ]
  },
  {
   "cell_type": "code",
   "execution_count": null,
   "metadata": {},
   "outputs": [],
   "source": []
  },
  {
   "cell_type": "code",
   "execution_count": 33,
   "metadata": {},
   "outputs": [],
   "source": [
    "### TEMP\n",
    "\n",
    "def test_function():\n",
    "    def diagonal_reindex(ser_group, date_end):\n",
    "        date_diag = ser_group.index.get_level_values(1)[0].date()\n",
    "        idx_date_diag = pd.date_range(date_diag, date_end, freq = 'B')\n",
    "        ser_result = ser_group.droplevel([0, 1]).reindex(idx_date_diag)\n",
    "        return ser_result\n",
    "\n",
    "    ser_reindexed = ser_history.loc['BAKETOT Index', All, All].groupby(['Index_Name', 'Data_Date']).apply(diagonal_reindex, date_end)\n",
    "    ser_reindexed.index.rename('Observation_Date', level = -1, inplace = True)\n",
    "    return ser_reindexed"
   ]
  },
  {
   "cell_type": "code",
   "execution_count": 34,
   "metadata": {},
   "outputs": [
    {
     "name": "stdout",
     "output_type": "stream",
     "text": [
      "2min 12s ± 595 ms per loop (mean ± std. dev. of 7 runs, 1 loop each)\n"
     ]
    }
   ],
   "source": [
    "### TEMP\n",
    "\n",
    "%timeit test_function()"
   ]
  },
  {
   "cell_type": "code",
   "execution_count": 61,
   "metadata": {},
   "outputs": [],
   "source": [
    "### TEST\n",
    "\n",
    "ser_reindexed = ser_history.loc['BAKETOT Index', All, All].droplevel(0).unstack('Data_Date').reindex(pd.date_range(date_start, date_end, freq = 'B'))\\\n",
    "                                                                  .stack('Data_Date', dropna = False).squeeze()\n",
    "ser_reindexed = ser_reindexed.swaplevel().sort_index()\n",
    "ser_reindexed.index.rename('Observation_Date', level = -1, inplace = True)"
   ]
  },
  {
   "cell_type": "code",
   "execution_count": null,
   "metadata": {},
   "outputs": [],
   "source": [
    "### TEMP\n",
    "\n",
    "def diagonal_filter(ser_group):\n",
    "    date_diag = ser_group.index.get_level_values(0)[0]\n",
    "    ser_result = ser_group.droplevel(0)\n",
    "    ser_result = ser_result[ser_result.index >= date_diag]\n",
    "    return ser_result\n",
    "\n",
    "ser_reindexed.groupby('Data_Date').apply(diagonal_filter)"
   ]
  },
  {
   "cell_type": "code",
   "execution_count": 57,
   "metadata": {},
   "outputs": [
    {
     "data": {
      "text/plain": [
       "Data_Date   Observation_Date\n",
       "2002-05-31  1985-01-01         NaN\n",
       "            1985-01-02         NaN\n",
       "            1985-01-03         NaN\n",
       "            1985-01-04         NaN\n",
       "            1985-01-07         NaN\n",
       "                                ..\n",
       "            2020-08-25         NaN\n",
       "            2020-08-26         NaN\n",
       "            2020-08-27         NaN\n",
       "            2020-08-28         NaN\n",
       "            2020-08-31         NaN\n",
       "Length: 9305, dtype: float64"
      ]
     },
     "execution_count": 57,
     "metadata": {},
     "output_type": "execute_result"
    }
   ],
   "source": [
    "### TEMP\n",
    "\n",
    "def diagonal_reindex(ser_name, date_end):\n",
    "    \n",
    "    def diagonal_filter(ser_date):\n",
    "        date_diag = ser_date.index.get_level_values(0)[0]\n",
    "        ser_result = ser_date.droplevel(0)\n",
    "        ser_result = ser_result[ser_result.index >= date_diag]\n",
    "        return ser_result\n",
    "    \n",
    "    ser_full = ser_name.droplevel(0).unstack('Data_Date').reindex(pd.date_range(date_start, date_end, freq = 'B')).stack('Data_Date', dropna = False).squeeze()\n",
    "    ser_full = ser_full.swaplevel().sort_index()\n",
    "    ser_full.index.rename('Observation_Date', level = -1, inplace = True)\n",
    "    ser_full.groupby('Data_Date').apply(diagonal_filter)\n",
    "    \n",
    "    \n",
    "ser_reindexed = ser_history.groupby('Index_Name').apply(diagonal_reindex, idx_date_range)"
   ]
  },
  {
   "cell_type": "code",
   "execution_count": 24,
   "metadata": {},
   "outputs": [],
   "source": [
    "### RUN TO RE-EXPORT DATA: EXTERNAL HDF GENERATING\n",
    "\n",
    "### Local parameters:\n",
    "str_path_bb_idx_export = 'Data_Files/Source_Files/Bloomberg_Eco_Indices_Export.h5'\n",
    "str_matrix_export_key = 'matrix_export'\n",
    "str_flags_export_key = 'flags_export'\n",
    "\n",
    "ser_history_raw = pd.read_hdf(str_path_bb_matrix_hdf, key = str_raw_history_key)\n",
    "df_flags_short = pd.read_hdf(str_path_bb_idx_hdf, key = str_flags_key).drop(['Adjustment', 'Demean', 'Sum', 'Negative', 'Index', 'YoY', 'Log',], axis = 1)\n",
    "\n",
    "ser_history_raw.to_hdf(str_path_bb_idx_export, key = str_matrix_export_key, mode = 'w')\n",
    "df_flags_short.to_hdf(str_path_bb_idx_export, key = str_flags_export_key, mode = 'a')"
   ]
  },
  {
   "cell_type": "code",
   "execution_count": null,
   "metadata": {},
   "outputs": [],
   "source": []
  }
 ],
 "metadata": {
  "kernelspec": {
   "display_name": "Python 3",
   "language": "python",
   "name": "python3"
  },
  "language_info": {
   "codemirror_mode": {
    "name": "ipython",
    "version": 3
   },
   "file_extension": ".py",
   "mimetype": "text/x-python",
   "name": "python",
   "nbconvert_exporter": "python",
   "pygments_lexer": "ipython3",
   "version": "3.7.3"
  }
 },
 "nbformat": 4,
 "nbformat_minor": 2
}
