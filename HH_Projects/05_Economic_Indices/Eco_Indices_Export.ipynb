{
 "cells": [
  {
   "cell_type": "code",
   "execution_count": 7,
   "metadata": {},
   "outputs": [],
   "source": [
    "###INITIALIZATION\n",
    "\n",
    "import pandas as pd"
   ]
  },
  {
   "cell_type": "code",
   "execution_count": 8,
   "metadata": {},
   "outputs": [],
   "source": [
    "### LOCAL PARAMETERS\n",
    "\n",
    "str_path_bb_idx_export = 'Data_Files/Source_Files/Bloomberg_Eco_Indices_Export.h5'\n",
    "str_matrix_export_key = 'matrix_export'\n",
    "str_flags_export_key = 'flags_export'"
   ]
  },
  {
   "cell_type": "code",
   "execution_count": 9,
   "metadata": {},
   "outputs": [],
   "source": [
    "### DATA LOADING\n",
    "\n",
    "ser_history_raw = pd.read_hdf(str_path_bb_idx_export, key = str_matrix_export_key)\n",
    "df_flags_short = pd.read_hdf(str_path_bb_idx_export, key = str_flags_export_key)"
   ]
  },
  {
   "cell_type": "code",
   "execution_count": 10,
   "metadata": {},
   "outputs": [
    {
     "data": {
      "text/plain": [
       "Index_Name      Data_Date   Observation_Date  Stage         \n",
       "ADP CHNG Index  2002-05-31  2002-08-03        Final Revision    -13.7\n",
       "                2002-06-30  2002-09-03        Final Revision    -16.3\n",
       "                2002-07-31  2002-10-03        Final Revision    -35.2\n",
       "                2002-08-31  2002-11-03        Final Revision   -101.5\n",
       "                2002-09-30  2002-12-03        Final Revision    -87.7\n",
       "Name: Index_Value, dtype: float64"
      ]
     },
     "execution_count": 10,
     "metadata": {},
     "output_type": "execute_result"
    }
   ],
   "source": [
    "### TEMP\n",
    "\n",
    "ser_history_raw.head()"
   ]
  },
  {
   "cell_type": "code",
   "execution_count": 11,
   "metadata": {},
   "outputs": [
    {
     "data": {
      "text/html": [
       "<div>\n",
       "<style scoped>\n",
       "    .dataframe tbody tr th:only-of-type {\n",
       "        vertical-align: middle;\n",
       "    }\n",
       "\n",
       "    .dataframe tbody tr th {\n",
       "        vertical-align: top;\n",
       "    }\n",
       "\n",
       "    .dataframe thead th {\n",
       "        text-align: right;\n",
       "    }\n",
       "</style>\n",
       "<table border=\"1\" class=\"dataframe\">\n",
       "  <thead>\n",
       "    <tr style=\"text-align: right;\">\n",
       "      <th></th>\n",
       "      <th>Country</th>\n",
       "      <th>Type</th>\n",
       "      <th>Category</th>\n",
       "      <th>Database</th>\n",
       "      <th>Name</th>\n",
       "      <th>Units</th>\n",
       "      <th>Frequency</th>\n",
       "      <th>Source</th>\n",
       "    </tr>\n",
       "    <tr>\n",
       "      <th>Index_Name</th>\n",
       "      <th></th>\n",
       "      <th></th>\n",
       "      <th></th>\n",
       "      <th></th>\n",
       "      <th></th>\n",
       "      <th></th>\n",
       "      <th></th>\n",
       "      <th></th>\n",
       "    </tr>\n",
       "  </thead>\n",
       "  <tbody>\n",
       "    <tr>\n",
       "      <td>ADP CHNG Index</td>\n",
       "      <td>US</td>\n",
       "      <td>EMP</td>\n",
       "      <td>None</td>\n",
       "      <td>BB</td>\n",
       "      <td>ADP National Employment Report Private Nonfarm...</td>\n",
       "      <td>Volume</td>\n",
       "      <td>M</td>\n",
       "      <td>Automatic Data Processing</td>\n",
       "    </tr>\n",
       "    <tr>\n",
       "      <td>ASPPIMOM Index</td>\n",
       "      <td>Austria</td>\n",
       "      <td>INF</td>\n",
       "      <td>None</td>\n",
       "      <td>BB</td>\n",
       "      <td>Austria PPI 2010 MoM</td>\n",
       "      <td>Rate</td>\n",
       "      <td>M</td>\n",
       "      <td>Austrian Institute of Economic</td>\n",
       "    </tr>\n",
       "    <tr>\n",
       "      <td>ATIPIMM Index</td>\n",
       "      <td>Austria</td>\n",
       "      <td>OUT</td>\n",
       "      <td>Coincident</td>\n",
       "      <td>BB</td>\n",
       "      <td>Austria Industrial Production MoM SA</td>\n",
       "      <td>Rate</td>\n",
       "      <td>M</td>\n",
       "      <td>Statist Ik Austria</td>\n",
       "    </tr>\n",
       "    <tr>\n",
       "      <td>AWH TOTL Index</td>\n",
       "      <td>US</td>\n",
       "      <td>EMP</td>\n",
       "      <td>Leading</td>\n",
       "      <td>BB</td>\n",
       "      <td>US Average Weekly Hours All Total Private</td>\n",
       "      <td>Volume</td>\n",
       "      <td>M</td>\n",
       "      <td>Bureau Labor Statistics</td>\n",
       "    </tr>\n",
       "    <tr>\n",
       "      <td>BAKETOT Index</td>\n",
       "      <td>US</td>\n",
       "      <td>OUT</td>\n",
       "      <td>None</td>\n",
       "      <td>BB</td>\n",
       "      <td>Baker Hughes United States Oil and Gas Rotary ...</td>\n",
       "      <td>Volume</td>\n",
       "      <td>W</td>\n",
       "      <td>Baker Hughes Inc</td>\n",
       "    </tr>\n",
       "  </tbody>\n",
       "</table>\n",
       "</div>"
      ],
      "text/plain": [
       "                Country Type    Category Database  \\\n",
       "Index_Name                                          \n",
       "ADP CHNG Index       US  EMP        None       BB   \n",
       "ASPPIMOM Index  Austria  INF        None       BB   \n",
       "ATIPIMM Index   Austria  OUT  Coincident       BB   \n",
       "AWH TOTL Index       US  EMP     Leading       BB   \n",
       "BAKETOT Index        US  OUT        None       BB   \n",
       "\n",
       "                                                             Name   Units  \\\n",
       "Index_Name                                                                  \n",
       "ADP CHNG Index  ADP National Employment Report Private Nonfarm...  Volume   \n",
       "ASPPIMOM Index                               Austria PPI 2010 MoM    Rate   \n",
       "ATIPIMM Index                Austria Industrial Production MoM SA    Rate   \n",
       "AWH TOTL Index          US Average Weekly Hours All Total Private  Volume   \n",
       "BAKETOT Index   Baker Hughes United States Oil and Gas Rotary ...  Volume   \n",
       "\n",
       "               Frequency                          Source  \n",
       "Index_Name                                                \n",
       "ADP CHNG Index         M       Automatic Data Processing  \n",
       "ASPPIMOM Index         M  Austrian Institute of Economic  \n",
       "ATIPIMM Index          M              Statist Ik Austria  \n",
       "AWH TOTL Index         M         Bureau Labor Statistics  \n",
       "BAKETOT Index          W                Baker Hughes Inc  "
      ]
     },
     "execution_count": 11,
     "metadata": {},
     "output_type": "execute_result"
    }
   ],
   "source": [
    "### TEMP\n",
    "\n",
    "df_flags_short.head()"
   ]
  },
  {
   "cell_type": "code",
   "execution_count": null,
   "metadata": {},
   "outputs": [],
   "source": []
  }
 ],
 "metadata": {
  "kernelspec": {
   "display_name": "Python 3",
   "language": "python",
   "name": "python3"
  },
  "language_info": {
   "codemirror_mode": {
    "name": "ipython",
    "version": 3
   },
   "file_extension": ".py",
   "mimetype": "text/x-python",
   "name": "python",
   "nbconvert_exporter": "python",
   "pygments_lexer": "ipython3",
   "version": "3.7.3"
  }
 },
 "nbformat": 4,
 "nbformat_minor": 2
}
