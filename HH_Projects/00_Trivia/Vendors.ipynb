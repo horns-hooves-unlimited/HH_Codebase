{
 "cells": [
  {
   "cell_type": "code",
   "execution_count": 1,
   "id": "cfcb4c06-afab-4e1c-8410-f41a59b9e563",
   "metadata": {},
   "outputs": [],
   "source": [
    "import pandas as pd"
   ]
  },
  {
   "cell_type": "code",
   "execution_count": null,
   "id": "4ae556a4-9a9d-4dd5-b43e-617b04acdce3",
   "metadata": {},
   "outputs": [],
   "source": [
    "e = pd.DataFrame()"
   ]
  },
  {
   "cell_type": "code",
   "execution_count": null,
   "id": "0dd20ceb-7ea7-4425-8403-4b4e418dc95e",
   "metadata": {},
   "outputs": [],
   "source": [
    "def fill_missing(df_group):\n",
    "    df_group['Share'] = df_group['Share'].replace(0.0, np.NaN)\n",
    "    flo_sum = df_group['Share'].sum()\n",
    "    int_missed = df_group['Share'].isna().sum()\n",
    "    if (flo_sum > 1.0):\n",
    "        df_group['Share'] = df_group['Share'] / flo_sum \n",
    "        df_group['Share'] = df_group['Share'].replace(np.NaN, 0.0)\n",
    "    if (int_missed > 0):\n",
    "        df_group['Share'].fillna((1.0 - flo_sum) / int_missed, inplace=True)\n",
    "    elif (flo_sum < 1.0):\n",
    "        df_group['Share'] = df_group['Share'] / flo_sum\n",
    "    return df_group\n",
    "\n",
    "#e[e.Date == '2019-10-09'].groupby(['From', 'Date']).apply(fill_missing)\n",
    "e2 = e.groupby(['From', 'Date']).apply(fill_missing)"
   ]
  },
  {
   "cell_type": "code",
   "execution_count": null,
   "id": "e1ed6138-1fca-4904-802c-7f995b887bec",
   "metadata": {},
   "outputs": [],
   "source": [
    "e3 = e2.groupby(['From']).apply(fill_missing)"
   ]
  },
  {
   "cell_type": "code",
   "execution_count": null,
   "id": "d6ccba27-c1cd-476c-b0ef-cbcbc414f696",
   "metadata": {},
   "outputs": [],
   "source": [
    "e4 = e3.groupby(['From', 'To']).sum()"
   ]
  },
  {
   "cell_type": "code",
   "execution_count": null,
   "id": "673ca226-6ef6-4ef6-9f64-6fffdc0632a7",
   "metadata": {},
   "outputs": [],
   "source": [
    "e4.merge(df_universe)"
   ]
  },
  {
   "cell_type": "code",
   "execution_count": null,
   "id": "afd06646-782d-46f5-8f75-04f664d9c435",
   "metadata": {},
   "outputs": [],
   "source": [
    "e8 = e8.reset_index()\n",
    "e8['Share'] = e8.groupby('Ind_From').apply(lambda df: df['Value'] / df['Value'].sum()).fillna(0.0).values"
   ]
  },
  {
   "cell_type": "code",
   "execution_count": null,
   "id": "1bf3432f-2670-44eb-a87f-a19a558283a8",
   "metadata": {},
   "outputs": [],
   "source": [
    "e8.groupby('Ind_From')['Share'].sum()"
   ]
  },
  {
   "cell_type": "code",
   "execution_count": null,
   "id": "594390fc-c432-4927-a1af-e98bee867a78",
   "metadata": {},
   "outputs": [],
   "source": [
    "e9 = e8.set_index(['Ind_From', 'Ind_To'])['Share'].unstack('Ind_To')\n",
    "e9.to_csv('some.csv', sep=',')"
   ]
  }
 ],
 "metadata": {
  "kernelspec": {
   "display_name": "Python 3 (ipykernel)",
   "language": "python",
   "name": "python3"
  },
  "language_info": {
   "codemirror_mode": {
    "name": "ipython",
    "version": 3
   },
   "file_extension": ".py",
   "mimetype": "text/x-python",
   "name": "python",
   "nbconvert_exporter": "python",
   "pygments_lexer": "ipython3",
   "version": "3.11.5"
  }
 },
 "nbformat": 4,
 "nbformat_minor": 5
}
