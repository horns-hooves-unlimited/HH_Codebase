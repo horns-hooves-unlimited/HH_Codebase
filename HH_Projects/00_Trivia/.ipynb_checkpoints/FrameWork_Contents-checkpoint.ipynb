{
 "cells": [
  {
   "cell_type": "code",
   "execution_count": 2,
   "id": "6d99666a-0649-416c-8c5e-ac255654ea16",
   "metadata": {},
   "outputs": [],
   "source": [
    "import numpy as np"
   ]
  },
  {
   "cell_type": "code",
   "execution_count": 3,
   "id": "19af1403-c909-4371-8863-ab0ff40df168",
   "metadata": {},
   "outputs": [],
   "source": [
    "import pandas as pd"
   ]
  },
  {
   "cell_type": "code",
   "execution_count": 4,
   "id": "d7541060-0bb5-44ee-8d62-4d3229d0e1e6",
   "metadata": {},
   "outputs": [],
   "source": [
    "import pandarallel"
   ]
  },
  {
   "cell_type": "code",
   "execution_count": 5,
   "id": "66bd2477-00ce-4a51-9d69-cfa4e4a031cd",
   "metadata": {},
   "outputs": [],
   "source": [
    "import os\n",
    "import gc\n",
    "import re\n",
    "from datetime import datetime \n",
    "import warnings"
   ]
  },
  {
   "cell_type": "code",
   "execution_count": 6,
   "id": "7927c802-5fc9-499d-8861-a83c36499657",
   "metadata": {},
   "outputs": [],
   "source": [
    "import matplotlib.pyplot as plt\n",
    "import matplotlib.dates as mdates\n",
    "import seaborn as sns"
   ]
  },
  {
   "cell_type": "code",
   "execution_count": 7,
   "id": "ebe42ffc-65d0-4a24-9741-08d7efa38777",
   "metadata": {},
   "outputs": [],
   "source": [
    "from math import floor, ceil\n",
    "from itertools import combinations_with_replacement\n",
    "from sklearn.decomposition import PCA"
   ]
  },
  {
   "cell_type": "code",
   "execution_count": 8,
   "id": "1e4f2383-b09b-462e-a78c-a4dd0bb1fb22",
   "metadata": {},
   "outputs": [
    {
     "name": "stdout",
     "output_type": "stream",
     "text": [
      "Python version: 3.11.5\n",
      "Numpy version: 1.24.3\n",
      "Pandas version: 2.1.3\n",
      "1.6.5\n"
     ]
    }
   ],
   "source": [
    "from platform import python_version\n",
    "print('Python version:', python_version())\n",
    "print('Numpy version:', np.__version__)\n",
    "print('Pandas version:', pd.__version__)\n",
    "print(pandarallel.__version__)"
   ]
  },
  {
   "cell_type": "code",
   "execution_count": null,
   "id": "b7445468-cefb-4e68-8dfa-24e8db77bc0d",
   "metadata": {},
   "outputs": [],
   "source": [
    "3.7.4\n",
    "1.21.6\n",
    "1.3.5\n",
    "1.6.4"
   ]
  }
 ],
 "metadata": {
  "kernelspec": {
   "display_name": "Python 3 (ipykernel)",
   "language": "python",
   "name": "python3"
  },
  "language_info": {
   "codemirror_mode": {
    "name": "ipython",
    "version": 3
   },
   "file_extension": ".py",
   "mimetype": "text/x-python",
   "name": "python",
   "nbconvert_exporter": "python",
   "pygments_lexer": "ipython3",
   "version": "3.11.5"
  }
 },
 "nbformat": 4,
 "nbformat_minor": 5
}
