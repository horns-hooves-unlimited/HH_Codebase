{
 "cells": [
  {
   "cell_type": "code",
   "execution_count": 34,
   "id": "c28b179e-90de-4a02-affd-26d7c0b7b70e",
   "metadata": {},
   "outputs": [
    {
     "name": "stdout",
     "output_type": "stream",
     "text": [
      "Plus search finished unsuccesfully...\n",
      "Minus search first result:\n",
      " 66 / 65\n"
     ]
    }
   ],
   "source": [
    "### Apartment number:\n",
    "int_apart = 131\n",
    "\n",
    "### Plus checker\n",
    "int_to_check = 0\n",
    "bool_stop = False\n",
    "while not bool_stop:\n",
    "    for int_to_add in range(1, int_to_check + 1):\n",
    "        if ((int_to_check ** 2) + (int_to_add ** 2) == int_apart):\n",
    "            print('Plus search first result:\\n', int_to_check, '/', int_to_add)\n",
    "            bool_stop = True\n",
    "            break\n",
    "    if (not bool_stop):\n",
    "        int_to_check = int_to_check + 1\n",
    "        if (((int_to_check ** 2) > int_apart)):\n",
    "            print('Plus search finished unsuccesfully...')\n",
    "            bool_stop = True\n",
    "### Minus checker\n",
    "int_to_check = 0\n",
    "bool_stop = False\n",
    "while not bool_stop:\n",
    "    for int_to_sub in range(1, int_to_check):\n",
    "        if ((int_to_check ** 2) - (int_to_sub ** 2) == int_apart):\n",
    "            print('Minus search first result:\\n', int_to_check, '/', int_to_sub)\n",
    "            bool_stop = True\n",
    "            break\n",
    "    if (not bool_stop):\n",
    "        int_to_check = int_to_check + 1\n",
    "        if ((int_to_check ** 2) - ((int_to_check - 1) ** 2) > int_apart):\n",
    "            print('Minus search finished unsuccesfully...')\n",
    "            bool_stop = True        "
   ]
  },
  {
   "cell_type": "code",
   "execution_count": 35,
   "id": "f386d069-1051-4d2c-a2b3-653bb7459087",
   "metadata": {},
   "outputs": [
    {
     "name": "stdout",
     "output_type": "stream",
     "text": [
      "Minus search first result:\n",
      " 66 / 65\n",
      "4356\n",
      "4225\n"
     ]
    }
   ],
   "source": [
    "### TEST\n",
    "\n",
    "print('Minus search first result:\\n', int_to_check, '/', int_to_sub)\n",
    "print(int_to_check ** 2)\n",
    "print(int_to_sub ** 2)"
   ]
  },
  {
   "cell_type": "code",
   "execution_count": null,
   "id": "5e2c1466-81d5-4eab-b0af-3aaddd1f7987",
   "metadata": {},
   "outputs": [],
   "source": []
  }
 ],
 "metadata": {
  "kernelspec": {
   "display_name": "Python 3 (ipykernel)",
   "language": "python",
   "name": "python3"
  },
  "language_info": {
   "codemirror_mode": {
    "name": "ipython",
    "version": 3
   },
   "file_extension": ".py",
   "mimetype": "text/x-python",
   "name": "python",
   "nbconvert_exporter": "python",
   "pygments_lexer": "ipython3",
   "version": "3.7.4"
  }
 },
 "nbformat": 4,
 "nbformat_minor": 5
}
