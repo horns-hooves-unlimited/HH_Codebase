{
 "cells": [
  {
   "cell_type": "code",
   "execution_count": 1,
   "id": "17f2ab94-b9c5-4b00-88fb-ef48cd57779f",
   "metadata": {},
   "outputs": [],
   "source": [
    "### INITIALIZATION\n",
    "\n",
    "import pandas as pd # Data structures\n",
    "import numpy as np # Matrix algebra\n",
    "import matplotlib.pyplot as plt\n",
    "from pandas.plotting import register_matplotlib_converters # Plotting\n",
    "register_matplotlib_converters() # Plotting\n",
    "import seaborn as sns # Plotting\n",
    "import gc # Garbage collection"
   ]
  },
  {
   "cell_type": "code",
   "execution_count": 2,
   "id": "0367c255-ba87-40b3-bcfe-e97dd2f08560",
   "metadata": {},
   "outputs": [
    {
     "name": "stdout",
     "output_type": "stream",
     "text": [
      "python version:  3.7.4\n",
      "numpy version:  1.17.2\n",
      "pandas version:  0.25.3\n"
     ]
    }
   ],
   "source": [
    "### VERSIONS CONTROL\n",
    "\n",
    "from platform import python_version\n",
    "print('python version: ', python_version())\n",
    "print('numpy version: ', np.__version__)\n",
    "print('pandas version: ', pd.__version__)"
   ]
  },
  {
   "cell_type": "code",
   "execution_count": 3,
   "id": "33876ae7-f50d-4527-92e5-d5a9dc4e6810",
   "metadata": {},
   "outputs": [],
   "source": [
    "### MAIN CONSTANTS\n",
    "\n",
    "### MultiIndex level slice constant:\n",
    "All = slice(None)\n",
    "### NA for MS Excel files:\n",
    "list_na_excel_values = ['', '#N/A', '#N/A N/A', '#NA', '-1.#IND', '-1.#QNAN', '-NaN', '-nan', '1.#IND', '1.#QNAN', 'N/A', 'NULL', 'NaN', 'n/a', 'nan', 'null',\n",
    "                        '#N/A Requesting Data...', '#N/A Invalid Security', '#N/A Field Not Applicable', '---']\n",
    "### Bilateral export commodities flow dataset path:\n",
    "str_exp_comm_bilateral = 'Data_Files/Source_Files/commodities_export_bilateral.h5'\n",
    "### World level export commodities flow dataset path:\n",
    "str_exp_comm_world = 'Data_Files/Source_Files/commodities_export_world.h5'\n",
    "### Bilateral export goods and services flow dataset path:\n",
    "str_exp_unc_bilateral = 'Data_Files/Source_Files/comtrade_export_bilateral.h5'\n",
    "### World level export goods and services flow dataset path:\n",
    "str_exp_unc_world = 'Data_Files/Source_Files/comtrade_export_world.h5'\n",
    "### Universal key:\n",
    "str_export_key = 'export_augmented'\n",
    "### Bilateral export commodities flow dataset path:\n",
    "str_imp_comm_bilateral = 'Data_Files/Source_Files/commodities_import_bilateral.h5'\n",
    "### World level export commodities flow dataset path:\n",
    "str_imp_comm_world = 'Data_Files/Source_Files/commodities_import_world.h5'\n",
    "### Universal key:\n",
    "str_import_key = 'import_augmented'\n",
    "### Industries mapping weights:\n",
    "str_wiot_map = 'Data_Files/Source_Files/wiot_test.xlsx'"
   ]
  },
  {
   "cell_type": "code",
   "execution_count": 4,
   "id": "e4139e9a-581d-4a18-9348-a50b1b01a598",
   "metadata": {},
   "outputs": [
    {
     "data": {
      "text/plain": [
       "Date        Reporter  Commodity_ID  Commodity_Name\n",
       "1988-12-30  AE        0102          Cattle                     NaN\n",
       "                      0103          Swine                      NaN\n",
       "                      0901          Coffee                     NaN\n",
       "                      1001          Wheat                      NaN\n",
       "                      1005          Corn                       NaN\n",
       "                                                          ...     \n",
       "2021-12-31  ZM        75            Nickel            6.112643e+04\n",
       "                      76            Aluminum          1.509262e+06\n",
       "                      78            Lead              1.012735e+07\n",
       "                      79            Zinc              3.345655e+04\n",
       "                      80            Tin                        NaN\n",
       "Length: 75140, dtype: float64"
      ]
     },
     "execution_count": 4,
     "metadata": {},
     "output_type": "execute_result"
    }
   ],
   "source": [
    "### EXAMPLE: FULL DATASET LOADING\n",
    "\n",
    "pd.read_hdf(path_or_buf = str_exp_comm_world, key = str_export_key)"
   ]
  },
  {
   "cell_type": "code",
   "execution_count": 5,
   "id": "3cfaaa95-7a03-4744-b955-c36d1677b72d",
   "metadata": {},
   "outputs": [
    {
     "data": {
      "text/plain": [
       "Date        Reporter  Partner  Commodity_ID  Commodity_Name\n",
       "2017-12-29  AE        AR       0102          Cattle              2722.0\n",
       "2011-12-30  AE        AR       0901          Coffee                16.0\n",
       "2020-12-31  AE        AR       1001          Wheat             113434.0\n",
       "2008-12-31  AE        AR       1005          Corn               38641.0\n",
       "2016-12-30  AE        AR       1005          Corn              266470.0\n",
       "                                                                 ...   \n",
       "2017-12-29  AE        BD       80            Tin                  544.0\n",
       "2018-12-31  AE        BD       80            Tin                39579.0\n",
       "2019-12-31  AE        BD       80            Tin                62069.0\n",
       "2020-12-31  AE        BD       80            Tin                 5963.0\n",
       "2015-12-31  AE        BE       0102          Cattle               171.0\n",
       "Name: Export_Augmented, Length: 1000, dtype: float64"
      ]
     },
     "execution_count": 5,
     "metadata": {},
     "output_type": "execute_result"
    }
   ],
   "source": [
    "### EXAMPLE: FIRST ROWS LOADING\n",
    "\n",
    "pd.read_hdf(path_or_buf = str_exp_comm_bilateral, key = str_export_key, stop = 1000)"
   ]
  },
  {
   "cell_type": "code",
   "execution_count": 6,
   "id": "050e7cef-3638-4359-905e-dc983725438b",
   "metadata": {},
   "outputs": [
    {
     "data": {
      "text/plain": [
       "Date        Reporter  Partner  Type   Commodity_ID  GICS_ID\n",
       "1991-12-31  IL        US       Goods  01            3020         1602.794678\n",
       "1992-12-31  IL        US       Goods  01            3020       117262.156250\n",
       "1993-12-31  IL        US       Goods  01            3020       156527.734375\n",
       "1995-12-29  IL        US       Goods  01            3020        74000.000000\n",
       "1996-12-31  IL        US       Goods  01            3020        44000.000000\n",
       "                                                                   ...      \n",
       "2016-12-30  IL        US       Goods  24            3020         2000.000000\n",
       "2018-12-31  IL        US       Goods  24            3020         9000.000000\n",
       "2019-12-31  IL        US       Goods  24            3020       359000.000000\n",
       "2020-12-31  IL        US       Goods  24            3020         5000.000000\n",
       "2021-12-31  IL        US       Goods  24            3020         2000.000000\n",
       "Name: Export_Augmented, Length: 634, dtype: float32"
      ]
     },
     "execution_count": 6,
     "metadata": {},
     "output_type": "execute_result"
    }
   ],
   "source": [
    "### EXAMPLE: FILTERING BY REQUEST\n",
    "\n",
    "pd.read_hdf(path_or_buf = str_exp_unc_bilateral, key = str_export_key, where = \"(Reporter = 'IL') & (Partner = 'US') & (GICS_ID = '3020')\")"
   ]
  },
  {
   "cell_type": "code",
   "execution_count": 7,
   "id": "56a00a51-8231-4494-bdc7-d4ffe41249b0",
   "metadata": {},
   "outputs": [
    {
     "data": {
      "text/plain": [
       "Date        Reporter  Type   Commodity_ID  GICS_ID\n",
       "1988-12-30  US        Goods  01            3020       8.244971e+07\n",
       "                             03            3020       1.861761e+09\n",
       "1989-12-29  US        Goods  01            3020       1.929770e+08\n",
       "                             03            3020       1.785206e+09\n",
       "1990-12-31  US        Goods  01            3020       2.578186e+08\n",
       "                                                          ...     \n",
       "2019-12-31  US        Goods  03            3020       4.631737e+09\n",
       "2020-12-31  US        Goods  01            3020       9.639166e+08\n",
       "                             03            3020       3.812107e+09\n",
       "2021-12-31  US        Goods  01            3020       1.277562e+09\n",
       "                             03            3020       4.613681e+09\n",
       "Name: Export_Augmented, Length: 68, dtype: float64"
      ]
     },
     "execution_count": 7,
     "metadata": {},
     "output_type": "execute_result"
    }
   ],
   "source": [
    "### EXAMPLE: FILTERING BY REQUEST\n",
    "\n",
    "pd.read_hdf(path_or_buf = str_exp_unc_world, key = str_export_key, where = \"(Reporter = 'US') & (Commodity_ID in ['01', '03'])\")"
   ]
  },
  {
   "cell_type": "code",
   "execution_count": 12,
   "id": "523d8676-9fcd-4c7c-880d-3c8e9ae5338c",
   "metadata": {},
   "outputs": [],
   "source": [
    "### PARTNER INDUSTRIES MAPPING\n",
    "\n",
    "gc.collect()\n",
    "### Series container:\n",
    "list_wiot = []\n",
    "### WIOT Industry Export map loading:\n",
    "ser_wiot_map = pd.read_excel(engine = 'openpyxl', io = str_wiot_map, sheet_name = 0, index_col = 0, header = 0, dtype = 'float16', \n",
    "                            na_values = list_na_excel_values, keep_default_na = False).stack().squeeze()\n",
    "ser_wiot_map = ser_wiot_map[ser_wiot_map > 0.0]\n",
    "ser_wiot_map.index.names = ['GICS_ID', 'Partner_Industry']\n",
    "ser_wiot_map.name = 'Weight'\n",
    "df_wiot_map = ser_wiot_map.reset_index().astype({'GICS_ID': str, 'Partner_Industry': str}).astype({'Partner_Industry': 'category'}).set_index('GICS_ID')\n",
    "### Bilateral UN Comtrade dataset loading:\n",
    "for ser_iter_export in pd.read_hdf(path_or_buf = str_exp_unc_bilateral, key = str_export_key, chunksize = 1000000):\n",
    "    ### Map joining:\n",
    "    df_iter_wiot = ser_iter_export.to_frame().join(df_wiot_map, on = 'GICS_ID', how = 'left').set_index('Partner_Industry', append = True)\n",
    "    ### Industry flow calculation:\n",
    "    list_wiot.append((df_iter_wiot['Export_Augmented'] * df_iter_wiot['Weight']).dropna())\n",
    "#    break\n",
    "### Dataset concatenation:\n",
    "ser_wiot_matrix = pd.concat(list_wiot, axis = 0)"
   ]
  },
  {
   "cell_type": "code",
   "execution_count": 13,
   "id": "cac4e9d9-132f-419b-8e03-b49395ac9dc2",
   "metadata": {},
   "outputs": [
    {
     "data": {
      "text/plain": [
       "Date        Reporter  Partner  Type   Commodity_ID  GICS_ID  Partner_Industry\n",
       "1999-12-31  AE        AR       Goods  01            3020     3020                 1852.656006\n",
       "                                                             3030                 5560.229980\n",
       "                                                             3510                 9265.541992\n",
       "                                                             3520                 1852.656006\n",
       "2007-12-31  AE        AR       Goods  01            3020     3020                   10.897339\n",
       "                                                                                     ...     \n",
       "2020-12-31  ZM        ZA       Goods  97            2520     3010                10725.581055\n",
       "2019-12-31  ZM        ZM       Goods  90            4520     4510                    2.145763\n",
       "                                                             4520                    6.439909\n",
       "                                                             4530                   10.731436\n",
       "                                                             5010                    2.145763\n",
       "Length: 45619848, dtype: float32"
      ]
     },
     "execution_count": 13,
     "metadata": {},
     "output_type": "execute_result"
    }
   ],
   "source": [
    "### TEMP\n",
    "\n",
    "ser_wiot_matrix"
   ]
  },
  {
   "cell_type": "code",
   "execution_count": 15,
   "id": "20c13917-93d8-41a3-b723-c4a0e029d7a4",
   "metadata": {},
   "outputs": [
    {
     "data": {
      "text/plain": [
       "Date        Reporter  Commodity_ID  Commodity_Name\n",
       "1988-12-30  AE        0102          Cattle            2.999561e+05\n",
       "                      0103          Swine                      NaN\n",
       "                      0901          Coffee            9.176391e+05\n",
       "                      1001          Wheat             4.145738e+07\n",
       "                      1005          Corn              9.899203e+03\n",
       "                                                          ...     \n",
       "2021-12-31  ZM        75            Nickel            1.810830e+04\n",
       "                      76            Aluminum          1.544489e+07\n",
       "                      78            Lead              1.106022e+06\n",
       "                      79            Zinc              1.504284e+05\n",
       "                      80            Tin               1.165110e+04\n",
       "Length: 75140, dtype: float64"
      ]
     },
     "execution_count": 15,
     "metadata": {},
     "output_type": "execute_result"
    }
   ],
   "source": [
    "### EXAMPLE: FULL DATASET LOADING\n",
    "\n",
    "pd.read_hdf(path_or_buf = str_imp_comm_world, key = str_import_key)"
   ]
  },
  {
   "cell_type": "code",
   "execution_count": 14,
   "id": "9a3d33e5-cadb-49d3-9ad2-9ebbe6584d49",
   "metadata": {},
   "outputs": [
    {
     "data": {
      "text/plain": [
       "Date        Reporter  Partner  Commodity_ID  Commodity_Name\n",
       "2001-12-31  AE        AR       0901          Coffee            1.883400e+04\n",
       "2010-12-31  AE        AR       0901          Coffee            2.915000e+03\n",
       "2013-12-31  AE        AR       0901          Coffee            3.259300e+04\n",
       "2014-12-31  AE        AR       0901          Coffee            7.701600e+04\n",
       "2015-12-31  AE        AR       0901          Coffee            9.143600e+04\n",
       "                                                                   ...     \n",
       "1995-12-29  AE        AU       52            Cotton            7.075176e+05\n",
       "1996-12-31  AE        AU       52            Cotton            1.833074e+06\n",
       "1997-12-31  AE        AU       52            Cotton            1.259820e+06\n",
       "1998-12-31  AE        AU       52            Cotton            4.166808e+04\n",
       "1999-12-31  AE        AU       52            Cotton            2.183026e+04\n",
       "Name: Import_Augmented, Length: 1000, dtype: float64"
      ]
     },
     "execution_count": 14,
     "metadata": {},
     "output_type": "execute_result"
    }
   ],
   "source": [
    "### EXAMPLE: FIRST ROWS LOADING\n",
    "\n",
    "pd.read_hdf(path_or_buf = str_imp_comm_bilateral, key = str_import_key, stop = 1000)"
   ]
  },
  {
   "cell_type": "code",
   "execution_count": 16,
   "id": "3dd49e47-e27c-4717-9344-c90962ea425d",
   "metadata": {},
   "outputs": [],
   "source": [
    "### TEMP\n",
    "\n",
    "ser_exp_world = pd.read_hdf(path_or_buf = str_exp_comm_world, key = str_export_key)\n",
    "ser_imp_world = pd.read_hdf(path_or_buf = str_imp_comm_world, key = str_import_key)"
   ]
  },
  {
   "cell_type": "code",
   "execution_count": 22,
   "id": "a6bf278b-249d-480a-b834-b90cc098a1c1",
   "metadata": {},
   "outputs": [],
   "source": [
    "### TEMP\n",
    "\n",
    "pd.concat([ser_exp_world, ser_imp_world], axis = 0, keys = ['Export', 'Import'], names = ['Flow'])\\\n",
    "  .to_hdf('Data_Files/Source_Files/commodities_trade_world.h5', key = 'flows_augmented', mode = 'w', format = 'table', complevel = 9)"
   ]
  },
  {
   "cell_type": "code",
   "execution_count": null,
   "id": "e3a97828-aef9-447e-b13c-bb6a60bfac15",
   "metadata": {},
   "outputs": [],
   "source": []
  }
 ],
 "metadata": {
  "kernelspec": {
   "display_name": "Python 3 (ipykernel)",
   "language": "python",
   "name": "python3"
  },
  "language_info": {
   "codemirror_mode": {
    "name": "ipython",
    "version": 3
   },
   "file_extension": ".py",
   "mimetype": "text/x-python",
   "name": "python",
   "nbconvert_exporter": "python",
   "pygments_lexer": "ipython3",
   "version": "3.7.4"
  }
 },
 "nbformat": 4,
 "nbformat_minor": 5
}
