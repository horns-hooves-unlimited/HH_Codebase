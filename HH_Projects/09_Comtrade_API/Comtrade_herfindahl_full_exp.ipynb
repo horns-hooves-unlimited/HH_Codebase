{
 "cells": [
  {
   "cell_type": "code",
   "execution_count": 1,
   "metadata": {},
   "outputs": [],
   "source": [
    "### RUN EVERY TIME: COMTRADE DATASETS EXTRACTING"
   ]
  },
  {
   "cell_type": "code",
   "execution_count": 2,
   "metadata": {},
   "outputs": [],
   "source": [
    "### RUN EVERY TIME: INITIALIZATION\n",
    "\n",
    "import pandas as pd\n",
    "import numpy as np\n",
    "import gc\n",
    "import os\n",
    "import datetime\n",
    "import time"
   ]
  },
  {
   "cell_type": "code",
   "execution_count": 3,
   "metadata": {},
   "outputs": [
    {
     "name": "stdout",
     "output_type": "stream",
     "text": [
      "python version:  3.7.4\n",
      "numpy version:  1.17.2\n",
      "pandas version:  0.25.3\n"
     ]
    }
   ],
   "source": [
    "### RUN EVERY TIME: VERSION CONTROL\n",
    "\n",
    "from platform import python_version\n",
    "print('python version: ', python_version())\n",
    "print('numpy version: ', np.__version__)\n",
    "print('pandas version: ', pd.__version__)"
   ]
  },
  {
   "cell_type": "code",
   "execution_count": 12,
   "metadata": {},
   "outputs": [],
   "source": [
    "### RUN EVERY TIME: MAIN CONSTANTS\n",
    "\n",
    "### MultiIndex level slice constant:\n",
    "All = slice(None)\n",
    "### Universe path:\n",
    "str_path_universe = 'Data_Files/Source_Files/acadian_universe.xlsx'\n",
    "### Dates:\n",
    "str_date_end = '2022-12-31'\n",
    "date_start = pd.Timestamp('1989-12-29')\n",
    "date_end = pd.Timestamp(str_date_end)\n",
    "date_ison = pd.Timestamp('1994-12-31')\n",
    "### NA for MS Excel files:\n",
    "list_na_excel_values = ['', '#N/A', '#N/A N/A', '#NA', '-1.#IND', '-1.#QNAN', '-NaN', '-nan', '1.#IND', '1.#QNAN', 'N/A', 'NULL', 'NaN', 'n/a', 'nan', 'null',\n",
    "                        '#N/A Requesting Data...', '#N/A Invalid Security', '#N/A Field Not Applicable', '---']\n",
    "### Checked EBOPS service IDs list (df_serv_to_gics['GICS Group Code']):\n",
    "list_services = ['206', '210', '214', '218', '219', '223', '227', '231', '232', '237', '240', '246', '247', '250', '251', '254', '255', '256', '257', '258', '263',\n",
    "                 '264', '269', '272', '273', '288', '289', '292', '293', '294', '310', '391', '431', '500', '888', '891', '892', '894', '950']\n",
    "### Augmented bilateral export:\n",
    "str_path_export_bilateral = 'Data_Files/Source_Files/comtrade_export_bilateral.h5'\n",
    "### Export key:\n",
    "str_key_unc_export = 'export_augmented'\n",
    "### Augmented bilateral import:\n",
    "str_path_import_bilateral = 'Data_Files/Source_Files/comtrade_import_bilateral.h5'\n",
    "### Import key:\n",
    "str_key_unc_import = 'import_augmented'\n",
    "### Augmented bilateral import:\n",
    "str_path_gdp = 'Data_Files/Source_Files/gdp_dataset.h5'\n",
    "### Factor file:\n",
    "str_path_herfindahl_full_exp = 'Data_Files/Source_Files/comtrade_herfindahl_full_exp.h5'\n",
    "str_path_herfindahl_comm_exp = 'Data_Files/Source_Files/comtrade_herfindahl_comm_exp.h5'\n",
    "str_path_herfindahl_partner_exp = 'Data_Files/Source_Files/comtrade_herfindahl_partner_exp.h5'\n",
    "str_path_herfindahl_for_comm_exp = 'Data_Files/Source_Files/comtrade_herfindahl_for_comm_exp.h5'\n",
    "str_path_herfindahl_partner_imp = 'Data_Files/Source_Files/comtrade_herfindahl_partner_imp.h5'\n",
    "str_key_comtrade_factor = 'comtrade_factor'\n",
    "str_path_factor_xlsx = 'Data_Files/Source_Files/comtrade_factor.xlsx'\n",
    "str_path_factor_csv = 'Data_Files/Source_Files/comtrade_factor.csv'\n",
    "### IOnteraction variable file:\n",
    "str_path_interact_var = 'Data_Files/Source_Files/comtrade_interact_exp.h5'\n",
    "str_key_interact_var = 'interact_var'"
   ]
  },
  {
   "cell_type": "code",
   "execution_count": 5,
   "metadata": {},
   "outputs": [],
   "source": [
    "### DEFINING WEIGHTED AVERAGE CALCULATOR\n",
    "\n",
    "def weighted_average(ser_data, ser_weight = None, int_min_count = 0):\n",
    "    ### Default output:\n",
    "    num_result = np.NaN\n",
    "    ### Checking for data presence:\n",
    "    if (ser_data.count() > int_min_count):       \n",
    "        ### Checking for weights dataset:\n",
    "        if ser_weight is None:\n",
    "            ### Calculating of simple average:\n",
    "            num_result = np.nanmean(ser_data.values)\n",
    "        else:\n",
    "            ### Weights filtering:\n",
    "            list_weight = ser_weight[ser_data.dropna().index].values\n",
    "            ### Checking for weights presence:\n",
    "            if np.nansum(list_weight):\n",
    "                ### Data filtering:\n",
    "                list_data = ser_data.dropna().values\n",
    "                ### Weighted average calculating:\n",
    "                num_result = np.nansum(list_data * list_weight) / np.nansum(list_weight)\n",
    "    ### Results output:\n",
    "    return num_result"
   ]
  },
  {
   "cell_type": "code",
   "execution_count": 6,
   "metadata": {},
   "outputs": [],
   "source": [
    "### DEFINING COUNTRY CODES EXTRACTOR\n",
    "\n",
    "def get_country_codes(use_local_copy = False):  \n",
    "    ### In case if URL is unavailable:\n",
    "    if (use_local_copy):\n",
    "        url_country_code = 'Data_Files/Source_Files/countrycode.html'\n",
    "    ### Online extraction:\n",
    "    else:\n",
    "        url_country_code = 'https://countrycode.org/'\n",
    "    df_full_codes = pd.read_html(url_country_code, index_col = 'COUNTRY')[0]\n",
    "    df_full_codes[['ISO SHORT', 'ISO LONG']] = df_full_codes['ISO CODES'].str.split(' / ', expand = True)\n",
    "    df_result = df_full_codes[['ISO SHORT', 'ISO LONG']].sort_index()    \n",
    "    df_result.index = df_result.index.str.upper()\n",
    "    ### Results output:\n",
    "    return df_result"
   ]
  },
  {
   "cell_type": "code",
   "execution_count": 7,
   "metadata": {},
   "outputs": [],
   "source": [
    "### DEFINING EXTRACTION UNIVERSE DATA FROM MS EXCEL SOURCE (TO BE IGNORED IN PRODUCT CODE)\n",
    "\n",
    "def ison_membership_converting(str_path_universe, date_end, bool_daily = False, int_backfill_months = 0):\n",
    "    ### Defining business-month-end reindexation on country level:\n",
    "    def country_modify(ser_raw_country, date_end):\n",
    "        ser_res_country = ser_raw_country.droplevel(0).resample('MS').last().resample('BM').last()\n",
    "        range_country = pd.date_range(ser_res_country.index[0], date_end, freq = 'BM')\n",
    "        return ser_res_country.reindex(range_country).ffill()\n",
    "    ### Markets encoding table:\n",
    "    dict_markets = {50 : 'DM', 57 : 'EM', 504 : 'FM', 0: np.NaN}     \n",
    "    ### Loading source file:\n",
    "    df_raw_universe = pd.read_excel(engine = 'openpyxl', io = str_path_universe, sheet_name = 'Switchers', header = 0, parse_dates = True, index_col = [0, 1],\n",
    "                                 na_values = ['', '#N/A', '#N/A N/A', '#NA', '-1.#IND', '-1.#QNAN', '-NaN', '-nan', '1.#IND', \n",
    "                                             '1.#QNAN', 'N/A', 'NULL', 'NaN', 'n/a', 'nan', 'null'], keep_default_na = False)\n",
    "    ### Converting source file:\n",
    "    df_raw_universe.index.names = ['Country', 'Date']\n",
    "    ser_raw_universe = df_raw_universe['Region']\n",
    "    ser_raw_universe.fillna(0, inplace = True)\n",
    "    ser_raw_universe.name = 'Market'\n",
    "    ### By country reindexation and translation:\n",
    "    ser_res_universe = ser_raw_universe.groupby('Country').apply(country_modify, date_end)\n",
    "    ser_res_universe.index.names = ['Country', 'Date']\n",
    "    ser_res_universe = ser_res_universe.replace(dict_markets).reorder_levels([1, 0]).sort_index() \n",
    "    ### Expanding membership for primary regions members by backfilling:\n",
    "    if int_backfill_months:\n",
    "        ### List of regions:\n",
    "        list_region = list(ser_res_universe.dropna().unique())\n",
    "        ### Initialising of collection of series with backfilled data for each region:\n",
    "        list_ison_backfill = []\n",
    "        ### Regions looping:\n",
    "        for iter_region in list_region:\n",
    "            ### Defining start of region date:\n",
    "            date_first_valid = ser_res_universe.loc[ser_res_universe == iter_region].first_valid_index()[0]\n",
    "            ### Creating dates index to backfilling:\n",
    "            idx_date_backfill = pd.date_range(end = date_first_valid, periods = int_backfill_months + 1, freq = 'BM')[: -1]\n",
    "            ### Creating primary countries index to backfilling:            \n",
    "            idx_region_backfill = ser_res_universe.loc[ser_res_universe == iter_region].loc[date_first_valid, All].index.get_level_values('Country')\n",
    "            ### Creating full index:\n",
    "            idx_ison_backfill = pd.MultiIndex.from_product([idx_date_backfill, idx_region_backfill])\n",
    "            ### Series with backfilled data:\n",
    "            list_ison_backfill.append(pd.Series(iter_region, index = idx_ison_backfill))\n",
    "        ### Combination of backfilled series and original ISON data:    \n",
    "        ser_res_universe = ser_res_universe.combine_first(pd.concat(list_ison_backfill, axis = 0)).sort_index()  \n",
    "        ser_res_universe.index.names = ['Date', 'Country']\n",
    "    ### Converting to daily frequency:\n",
    "    if bool_daily:\n",
    "        ser_res_universe = ser_res_universe.reset_index('Country').groupby('Country').resample('B').ffill()['Market'].swaplevel().sort_index()    \n",
    "    ### Results output:\n",
    "    ser_res_universe.name = 'Market'\n",
    "    return ser_res_universe"
   ]
  },
  {
   "cell_type": "code",
   "execution_count": 8,
   "metadata": {},
   "outputs": [],
   "source": [
    "### RUN EVERY TIME: COMMON DATA EXTRACTION STEPS\n",
    "\n",
    "### World Country Codes:\n",
    "df_country_codes = get_country_codes()\n",
    "### ISON membership history:\n",
    "ser_ison_membership = ison_membership_converting(str_path_universe, pd.to_datetime(str_date_end))\n",
    "ser_ison_membership.index.names = ['Date', 'Reporter']\n",
    "### ISON Members:\n",
    "list_ison_countries = sorted(ser_ison_membership.index.get_level_values('Reporter').unique())\n",
    "### ISON status for the last available date:\n",
    "ser_ison_status = ser_ison_membership.loc[ser_ison_membership.index[-1][0]]"
   ]
  },
  {
   "cell_type": "code",
   "execution_count": null,
   "metadata": {},
   "outputs": [],
   "source": [
    "### BILATERAL EXPORT DATA LOADING TO PERFORM FACTOR CALCULATION\n",
    "\n",
    "gc.collect()\n",
    "list_export_chunks = []\n",
    "for num_iter_number, ser_iter_chunk in enumerate(pd.read_hdf(str_path_export_bilateral, key = str_key_unc_export, chunksize = 1000000)):\n",
    "    gc.collect()\n",
    "    print(num_iter_number, ': Extraction started')\n",
    "    ser_iter_chunk = ser_iter_chunk[ser_iter_chunk > 0.0].astype('int32')\n",
    "    df_iter_chunk = ser_iter_chunk.reset_index()\n",
    "    df_iter_chunk = df_iter_chunk[(df_iter_chunk['Reporter'] != df_iter_chunk['Partner']) & \\\n",
    "                                  ((df_iter_chunk['Type'] == 'Goods') | df_iter_chunk['Commodity_ID'].isin(list_services)) & (df_iter_chunk['Reporter'] != 'World') & \\\n",
    "                                  (df_iter_chunk['Partner'] != 'World')]\\\n",
    "                               .drop('Type', axis = 1)    \n",
    "    print(num_iter_number, ': Filtering performed')    \n",
    "    ser_iter_chunk = df_iter_chunk.set_index(['Date', 'Reporter', 'Partner', 'Commodity_ID']).squeeze().sort_index()\n",
    "    del df_iter_chunk\n",
    "    gc.collect()\n",
    "    list_export_chunks.append(ser_iter_chunk)\n",
    "    print(num_iter_number, ': Chunk added to container')    \n",
    "ser_bilateral_export = pd.concat(list_export_chunks, axis = 0, sort = False).sort_index()\n",
    "ser_bilateral_export.name = 'Export'\n",
    "del list_export_chunks\n",
    "gc.collect()"
   ]
  },
  {
   "cell_type": "code",
   "execution_count": 10,
   "metadata": {},
   "outputs": [],
   "source": [
    "### SUM OF FLOWS PREPARATION\n",
    "\n",
    "gc.collect()\n",
    "ser_country_comm_flow = ser_bilateral_export.groupby(['Date', 'Reporter', 'Commodity_ID']).sum()\n",
    "gc.collect()\n",
    "ser_country_partner_flow = ser_bilateral_export.groupby(['Date', 'Reporter', 'Partner']).sum()"
   ]
  },
  {
   "cell_type": "code",
   "execution_count": null,
   "metadata": {},
   "outputs": [],
   "source": [
    "### CALCULATION OF FULL HERFINDAHL INDEX\n",
    "\n",
    "gc.collect()\n",
    "### Defining Herfindahl index calculation:\n",
    "def get_herfindahl(ser_group):\n",
    "    if (ser_group.count() > 0):\n",
    "        ser_norm = ser_group / ser_group.sum()\n",
    "        flo_herfindahl = 1 / ((ser_norm ** 2).sum() ** (1 / 2))\n",
    "    else:\n",
    "        flo_herfindahl = np.NaN\n",
    "    return flo_herfindahl\n",
    "\n",
    "ser_herfindahl_full = ser_bilateral_export.loc[:, ser_ison_status.index].groupby(['Date', 'Reporter']).apply(get_herfindahl)"
   ]
  },
  {
   "cell_type": "code",
   "execution_count": 31,
   "metadata": {},
   "outputs": [],
   "source": [
    "### FULL HERFINDAHL FACTOR RESAMPLING\n",
    "\n",
    "gc.collect()\n",
    "### Resampling to monthly data:\n",
    "def reindex_monthly(df_group):\n",
    "    df_result = df_group.droplevel(['Reporter']).reindex(pd.date_range(df_group.index[0][0], str_date_end, freq = 'BY'))\n",
    "    df_result = df_result.resample('BM').ffill()\n",
    "    return df_result\n",
    "ser_herfindahl_monthly = ser_herfindahl_full.groupby('Reporter').apply(reindex_monthly).swaplevel()\n",
    "ser_herfindahl_monthly.index.names = ['Date', 'Reporter']\n",
    "ser_herfindahl_monthly.name = 'Herfindahl_Full'"
   ]
  },
  {
   "cell_type": "code",
   "execution_count": 35,
   "metadata": {},
   "outputs": [],
   "source": [
    "### FACTOR SAVING\n",
    "\n",
    "ser_herfindahl_monthly.to_excel(str_path_factor_xlsx, merge_cells = False)\n",
    "ser_herfindahl_monthly.to_csv(str_path_factor_csv, sep = ';', header = True)\n",
    "ser_herfindahl_monthly.to_hdf(str_path_herfindahl_full_exp, str_key_comtrade_factor)"
   ]
  },
  {
   "cell_type": "code",
   "execution_count": 13,
   "metadata": {},
   "outputs": [],
   "source": [
    "### CALCULATION OF BY COMMODITY HERFINDAHL INDEX\n",
    "\n",
    "gc.collect()\n",
    "### Defining Herfindahl index calculation:\n",
    "def get_herfindahl(ser_group):\n",
    "    if (ser_group.count() > 0):\n",
    "        ser_norm = ser_group / ser_group.sum()\n",
    "        flo_herfindahl = 1 / ((ser_norm ** 2).sum() ** (1 / 2))\n",
    "    else:\n",
    "        flo_herfindahl = np.NaN\n",
    "    return flo_herfindahl\n",
    "\n",
    "ser_herfindahl_comm = ser_country_comm_flow.loc[:, ser_ison_status.index].groupby(['Date', 'Reporter']).apply(get_herfindahl)\n",
    "ser_herfindahl_comm.replace({np.inf: np.NaN}, inplace = True)\n",
    "ser_herfindahl_comm.name = 'Herfindahl_Commodity'"
   ]
  },
  {
   "cell_type": "code",
   "execution_count": 16,
   "metadata": {},
   "outputs": [],
   "source": [
    "### TEST: LOADING COMMODITIES TO INDUSTRIES MAP\n",
    "\n",
    "### Commodity to industry connection:\n",
    "str_path_industry_map_xlsx = 'Data_Files/Source_Files/goods_to_industries_hs.xlsx'\n",
    "str_page_services = 'EBOPS'\n",
    "str_page_goods = 'AG2'\n",
    "\n",
    "df_goods_to_ind = pd.read_excel(engine = 'openpyxl', io = str_path_industry_map_xlsx, sheet_name = str_page_goods, header = 0, dtype = 'object',\n",
    "                                na_values = list_na_excel_values, keep_default_na = False).set_index('Commodity ID')\n",
    "df_goods_to_ind.index.names = ['Commodity_ID']\n",
    "ser_goods_to_ind = df_goods_to_ind.dropna()['GICS Industry Group'].squeeze()\n",
    "ser_goods_to_ind.name = 'Industry_Group'\n",
    "df_services_to_ind = pd.read_excel(engine = 'openpyxl', io = str_path_industry_map_xlsx, sheet_name = str_page_services, header = 0, dtype = 'object',\n",
    "                                na_values = list_na_excel_values, keep_default_na = False).set_index('Service ID')\n",
    "df_services_to_ind.index.names = ['Commodity_ID']\n",
    "ser_comm_description = pd.concat([df_goods_to_ind['AG2'], df_services_to_ind.loc[list_services, 'Service Description']], axis = 0)\n",
    "ser_comm_description.name = 'Description'"
   ]
  },
  {
   "cell_type": "code",
   "execution_count": 32,
   "metadata": {},
   "outputs": [
    {
     "name": "stdout",
     "output_type": "stream",
     "text": [
      "1.2447266704970188\n"
     ]
    }
   ],
   "source": [
    "### TEST: VISUALIZATION\n",
    "\n",
    "str_test_date = '2020-12-31'\n",
    "str_test_country = 'QA'\n",
    "\n",
    "ser_test_flow = ser_country_comm_flow.loc[str_test_date, str_test_country, :]\n",
    "print(get_herfindahl(ser_test_flow))\n",
    "\n",
    "ser_test_weights = (ser_test_flow / ser_test_flow.sum()).nlargest(10)\n",
    "#ser_test_weights = ser_test_weights.to_frame().join(ser_comm_description.str.replace(';', '').str.split(' ').str[ : 7].str.join(' '))\\\n",
    "#                                   .set_index('Description', append = True).droplevel('Commodity_ID').squeeze()\n",
    "ser_test_weights = ser_test_weights.to_frame().join(ser_comm_description).set_index('Description', append = True).droplevel('Commodity_ID').squeeze()\n",
    "\n",
    "ser_test_weights.droplevel(['Date', 'Reporter']).to_excel('Data_Files/Test_Files/herf_comm_'+ str_test_country + '.xlsx', merge_cells = False)"
   ]
  },
  {
   "cell_type": "code",
   "execution_count": 16,
   "metadata": {},
   "outputs": [],
   "source": [
    "### BY COMMODITY HERFINDAHL FACTOR RESAMPLING\n",
    "\n",
    "gc.collect()\n",
    "### Resampling to monthly data:\n",
    "def reindex_monthly(df_group):\n",
    "    df_result = df_group.droplevel(['Reporter']).reindex(pd.date_range(df_group.index[0][0], str_date_end, freq = 'BY'))\n",
    "    df_result = df_result.resample('BM').ffill()\n",
    "    return df_result\n",
    "ser_herfindahl_monthly = ser_herfindahl_comm.groupby('Reporter').apply(reindex_monthly).swaplevel()\n",
    "ser_herfindahl_monthly.index.names = ['Date', 'Reporter']\n",
    "ser_herfindahl_monthly.name = 'Herfindahl_Commodity'"
   ]
  },
  {
   "cell_type": "code",
   "execution_count": 19,
   "metadata": {},
   "outputs": [],
   "source": [
    "### FACTOR SAVING\n",
    "\n",
    "ser_herfindahl_monthly.to_excel(str_path_factor_xlsx, merge_cells = False)\n",
    "ser_herfindahl_monthly.to_csv(str_path_factor_csv, sep = ';', header = True)\n",
    "ser_herfindahl_monthly.to_hdf(str_path_herfindahl_comm_exp, str_key_comtrade_factor)"
   ]
  },
  {
   "cell_type": "code",
   "execution_count": 21,
   "metadata": {},
   "outputs": [],
   "source": [
    "### CALCULATION OF BY PARTNER HERFINDAHL INDEX\n",
    "\n",
    "gc.collect()\n",
    "### Defining Herfindahl index calculation:\n",
    "def get_herfindahl(ser_group):\n",
    "    if (ser_group.count() > 0):\n",
    "        ser_norm = ser_group / ser_group.sum()\n",
    "        flo_herfindahl = 1 / ((ser_norm ** 2).sum() ** (1 / 2))\n",
    "    else:\n",
    "        flo_herfindahl = np.NaN\n",
    "    return flo_herfindahl\n",
    "\n",
    "ser_herfindahl_partner = ser_country_partner_flow.loc[:, ser_ison_status.index].groupby(['Date', 'Reporter']).apply(get_herfindahl)\n",
    "ser_herfindahl_partner.replace({np.inf: np.NaN}, inplace = True)\n",
    "ser_herfindahl_partner.name = 'Herfindahl_Partner'"
   ]
  },
  {
   "cell_type": "code",
   "execution_count": 22,
   "metadata": {},
   "outputs": [],
   "source": [
    "### BY PARTNER HERFINDAHL FACTOR RESAMPLING\n",
    "\n",
    "gc.collect()\n",
    "### Resampling to monthly data:\n",
    "def reindex_monthly(df_group):\n",
    "    df_result = df_group.droplevel(['Reporter']).reindex(pd.date_range(df_group.index[0][0], str_date_end, freq = 'BY'))\n",
    "    df_result = df_result.resample('BM').ffill()\n",
    "    return df_result\n",
    "ser_herfindahl_monthly = ser_herfindahl_partner.groupby('Reporter').apply(reindex_monthly).swaplevel()\n",
    "ser_herfindahl_monthly.index.names = ['Date', 'Reporter']\n",
    "ser_herfindahl_monthly.name = 'Herfindahl_Partner'"
   ]
  },
  {
   "cell_type": "code",
   "execution_count": 23,
   "metadata": {},
   "outputs": [],
   "source": [
    "### FACTOR SAVING\n",
    "\n",
    "ser_herfindahl_monthly.to_excel(str_path_factor_xlsx, merge_cells = False)\n",
    "ser_herfindahl_monthly.to_csv(str_path_factor_csv, sep = ';', header = True)\n",
    "ser_herfindahl_monthly.to_hdf(str_path_herfindahl_partner_exp, str_key_comtrade_factor)"
   ]
  },
  {
   "cell_type": "code",
   "execution_count": 24,
   "metadata": {},
   "outputs": [],
   "source": [
    "### CORRELATION TESTING\n",
    "\n",
    "ser_herf_full = pd.read_hdf(str_path_herfindahl_full_exp, str_key_comtrade_factor)\n",
    "ser_herf_full.name = 'By_Flow'\n",
    "ser_herf_comm = pd.read_hdf(str_path_herfindahl_comm_exp, str_key_comtrade_factor)\n",
    "ser_herf_comm.name = 'By_Commodity'\n",
    "ser_herf_partner = pd.read_hdf(str_path_herfindahl_partner_exp, str_key_comtrade_factor)\n",
    "ser_herf_partner.name = 'By_Partner'\n",
    "\n",
    "df_herfindahl = pd.concat([ser_herf_full, ser_herf_comm, ser_herf_partner], axis = 1)"
   ]
  },
  {
   "cell_type": "code",
   "execution_count": 25,
   "metadata": {},
   "outputs": [
    {
     "data": {
      "text/plain": [
       "<AxesSubplot:xlabel='Date'>"
      ]
     },
     "execution_count": 25,
     "metadata": {},
     "output_type": "execute_result"
    },
    {
     "data": {
      "image/png": "[encoded data removed]",
      "text/plain": [
       "<Figure size 432x288 with 1 Axes>"
      ]
     },
     "metadata": {
      "needs_background": "light"
     },
     "output_type": "display_data"
    }
   ],
   "source": [
    "### TEMP\n",
    "\n",
    "df_herf_corr = pd.DataFrame()\n",
    "df_herf_corr['Flow_Commodity'] = df_herfindahl.groupby('Date').corr().loc[(All, 'By_Flow'), 'By_Commodity'].droplevel(-1)\n",
    "df_herf_corr['Flow_Partner'] = df_herfindahl.groupby('Date').corr().loc[(All, 'By_Flow'), 'By_Partner'].droplevel(-1)\n",
    "df_herf_corr['Commodity_Partner'] = df_herfindahl.groupby('Date').corr().loc[(All, 'By_Commodity'), 'By_Partner'].droplevel(-1)\n",
    "df_herf_corr.plot()"
   ]
  },
  {
   "cell_type": "code",
   "execution_count": 29,
   "metadata": {},
   "outputs": [],
   "source": [
    "### CALCULATION OF FULL HERFINDAHL INDEX FOR COMMODITY\n",
    "\n",
    "gc.collect()\n",
    "### Defining Herfindahl index calculation:\n",
    "def get_herfindahl(ser_group):\n",
    "    if (ser_group.count() > 0):\n",
    "        ser_norm = ser_group / ser_group.sum()\n",
    "        flo_herfindahl = 1 / ((ser_norm ** 2).sum() ** (1 / 2))\n",
    "    else:\n",
    "        flo_herfindahl = np.NaN\n",
    "    return flo_herfindahl\n",
    "\n",
    "ser_herfindahl_for_comm = ser_country_comm_flow.groupby(['Date', 'Commodity_ID']).apply(get_herfindahl)\n",
    "ser_herfindahl_for_comm.name = 'Herfindahl_Commodity'"
   ]
  },
  {
   "cell_type": "code",
   "execution_count": 44,
   "metadata": {},
   "outputs": [],
   "source": [
    "### WEIGHTING HERFINDAHL FOR COMMODITIES WITH TRADE FLOWS\n",
    "\n",
    "df_herfindahl_for_comm = ser_country_comm_flow.loc[:, ser_ison_status.index].reorder_levels(['Date', 'Commodity_ID', 'Reporter']).sort_index().to_frame()\\\n",
    "                                              .join(ser_herfindahl_for_comm)\n",
    "ser_herfindahl_factor = df_herfindahl_for_comm.reorder_levels(['Date', 'Reporter', 'Commodity_ID']).sort_index().groupby(['Date', 'Reporter'])\\\n",
    "                                              .apply(lambda df_group: weighted_average(df_group['Herfindahl_Commodity'], df_group['Export'] / 1000))"
   ]
  },
  {
   "cell_type": "code",
   "execution_count": 11,
   "metadata": {},
   "outputs": [
    {
     "data": {
      "text/plain": [
       "            Reporter\n",
       "2020-12-31  BD          2.922415\n",
       "            PK          3.101009\n",
       "            MT          3.223575\n",
       "            CN          3.268710\n",
       "            VN          3.343308\n",
       "                          ...   \n",
       "            KW          4.433612\n",
       "            EC          4.441174\n",
       "            NG          4.464997\n",
       "            QA          4.472160\n",
       "            ZM          4.707044\n",
       "Length: 85, dtype: float64"
      ]
     },
     "execution_count": 11,
     "metadata": {},
     "output_type": "execute_result"
    }
   ],
   "source": [
    "### TEMP\n",
    "\n",
    "ser_herfindahl_factor = pd.read_hdf(str_path_herfindahl_for_comm_exp, str_key_comtrade_factor).unstack('Reporter')\\\n",
    "                          .reindex(pd.date_range(date_start, date_end, freq = 'BY')).stack('Reporter')\n",
    "ser_herfindahl_factor.loc['2020-12-31'].sort_values()\n",
    "\n",
    "#df_herfindahl_for_comm.loc[('2020-12-31', All, ['CN', 'QA']), :].reorder_levels(['Date', 'Reporter', 'Commodity_ID']).sort_index()\n",
    "#ser_herfindahl_factor['2021-12-31'].sort_values()\n",
    "#ser_herfindahl_for_comm['2021-12-31'][: 50]\n",
    "#ser_country_comm_flow.loc['2021-12-31', :, '27'].sort_values()"
   ]
  },
  {
   "cell_type": "code",
   "execution_count": 62,
   "metadata": {},
   "outputs": [],
   "source": [
    "### FOR COMMODITY HERFINDAHL FACTOR RESAMPLING\n",
    "\n",
    "gc.collect()\n",
    "### Resampling to monthly data:\n",
    "def reindex_monthly(df_group):\n",
    "    df_result = df_group.droplevel(['Reporter']).reindex(pd.date_range(df_group.index[0][0], str_date_end, freq = 'BY'))\n",
    "    df_result = df_result.resample('BM').ffill()\n",
    "    return df_result\n",
    "ser_herfindahl_monthly = ser_herfindahl_factor.groupby('Reporter').apply(reindex_monthly).swaplevel()\n",
    "ser_herfindahl_monthly.index.names = ['Date', 'Reporter']\n",
    "ser_herfindahl_monthly.name = 'Herfindahl_For_Commodity'"
   ]
  },
  {
   "cell_type": "code",
   "execution_count": 63,
   "metadata": {},
   "outputs": [],
   "source": [
    "### FACTOR SAVING\n",
    "\n",
    "ser_herfindahl_monthly.to_excel(str_path_factor_xlsx, merge_cells = False)\n",
    "ser_herfindahl_monthly.to_csv(str_path_factor_csv, sep = ';', header = True)\n",
    "ser_herfindahl_monthly.to_hdf(str_path_herfindahl_for_comm_exp, str_key_comtrade_factor)"
   ]
  },
  {
   "cell_type": "code",
   "execution_count": 28,
   "metadata": {},
   "outputs": [],
   "source": [
    "### CALCULATION OF BY REPORTER HERFINDAHL INDEX\n",
    "\n",
    "gc.collect()\n",
    "### Defining Herfindahl index calculation:\n",
    "def get_herfindahl(ser_group):\n",
    "    if (ser_group.count() > 0):\n",
    "        ser_norm = ser_group / ser_group.sum()\n",
    "        flo_herfindahl = 1 / ((ser_norm ** 2).sum() ** (1 / 2))\n",
    "    else:\n",
    "        flo_herfindahl = np.NaN\n",
    "    return flo_herfindahl\n",
    "\n",
    "ser_herfindahl_partner = ser_country_partner_flow.loc[:, :, ser_ison_status.index].groupby(['Date', 'Partner']).apply(get_herfindahl)\n",
    "ser_herfindahl_partner.replace({np.inf: np.NaN}, inplace = True)\n",
    "ser_herfindahl_partner.name = 'Herfindahl_Reporter'"
   ]
  },
  {
   "cell_type": "code",
   "execution_count": 33,
   "metadata": {},
   "outputs": [],
   "source": [
    "### BY PARTNER HERFINDAHL FACTOR RESAMPLING\n",
    "\n",
    "gc.collect()\n",
    "### Resampling to monthly data:\n",
    "def reindex_monthly(df_group):\n",
    "    df_result = df_group.droplevel(['Partner']).reindex(pd.date_range(df_group.index[0][0], str_date_end, freq = 'BY'))\n",
    "    df_result = df_result.resample('BM').ffill()\n",
    "    return df_result\n",
    "ser_herfindahl_monthly = ser_herfindahl_partner.groupby('Partner').apply(reindex_monthly).swaplevel()\n",
    "ser_herfindahl_monthly.index.names = ['Date', 'Partner']\n",
    "ser_herfindahl_monthly.name = 'Herfindahl_Partner'"
   ]
  },
  {
   "cell_type": "code",
   "execution_count": 34,
   "metadata": {},
   "outputs": [],
   "source": [
    "### FACTOR SAVING\n",
    "\n",
    "ser_herfindahl_monthly.to_excel(str_path_factor_xlsx, merge_cells = False)\n",
    "ser_herfindahl_monthly.to_csv(str_path_factor_csv, sep = ';', header = True)\n",
    "ser_herfindahl_monthly.to_hdf(str_path_herfindahl_partner_imp, str_key_comtrade_factor)"
   ]
  },
  {
   "cell_type": "code",
   "execution_count": 32,
   "metadata": {},
   "outputs": [
    {
     "data": {
      "text/plain": [
       "Date        Partner\n",
       "2020-12-31  CA         1.528612\n",
       "            MX         1.567179\n",
       "            NA         1.664411\n",
       "            BW         1.681133\n",
       "            HK         2.079985\n",
       "                         ...   \n",
       "            BG         4.417565\n",
       "            GR         4.446262\n",
       "            LB         4.568719\n",
       "            DE         4.589791\n",
       "            TR         4.649067\n",
       "Name: Herfindahl_Reporter, Length: 85, dtype: float64"
      ]
     },
     "execution_count": 32,
     "metadata": {},
     "output_type": "execute_result"
    }
   ],
   "source": [
    "### TEMP\n",
    "\n",
    "ser_herfindahl_partner.loc['2020-12-31', :].sort_values()"
   ]
  },
  {
   "cell_type": "code",
   "execution_count": null,
   "metadata": {},
   "outputs": [],
   "source": []
  }
 ],
 "metadata": {
  "kernelspec": {
   "display_name": "Python 3 (ipykernel)",
   "language": "python",
   "name": "python3"
  },
  "language_info": {
   "codemirror_mode": {
    "name": "ipython",
    "version": 3
   },
   "file_extension": ".py",
   "mimetype": "text/x-python",
   "name": "python",
   "nbconvert_exporter": "python",
   "pygments_lexer": "ipython3",
   "version": "3.7.4"
  }
 },
 "nbformat": 4,
 "nbformat_minor": 4
}
