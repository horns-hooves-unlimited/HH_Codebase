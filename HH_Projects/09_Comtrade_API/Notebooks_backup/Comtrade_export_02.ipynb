{
 "cells": [
  {
   "cell_type": "code",
   "execution_count": 1,
   "metadata": {},
   "outputs": [],
   "source": [
    "### RUN EVERY TIME: COMTRADE DATASETS EXTRACTING"
   ]
  },
  {
   "cell_type": "code",
   "execution_count": 2,
   "metadata": {},
   "outputs": [],
   "source": [
    "### RUN EVERY TIME: INITIALIZATION\n",
    "\n",
    "import pandas as pd\n",
    "import matplotlib.pyplot as plt\n",
    "import seaborn as sns\n",
    "from pandas.plotting import register_matplotlib_converters\n",
    "register_matplotlib_converters()\n",
    "import numpy as np\n",
    "import requests\n",
    "import json ### To correct JSON structure before unpacking\n",
    "import gc\n",
    "import datetime\n",
    "import time\n",
    "import itertools"
   ]
  },
  {
   "cell_type": "code",
   "execution_count": 3,
   "metadata": {},
   "outputs": [
    {
     "name": "stdout",
     "output_type": "stream",
     "text": [
      "python version:  3.7.4\n",
      "numpy version:  1.17.2\n",
      "pandas version:  0.25.3\n"
     ]
    }
   ],
   "source": [
    "### RUN EVERY TIME: VERSION CONTROL\n",
    "\n",
    "from platform import python_version\n",
    "print('python version: ', python_version())\n",
    "print('numpy version: ', np.__version__)\n",
    "print('pandas version: ', pd.__version__)"
   ]
  },
  {
   "cell_type": "code",
   "execution_count": 4,
   "metadata": {},
   "outputs": [],
   "source": [
    "### RUN EVERY TIME: MAIN CONSTANTS\n",
    "\n",
    "### MultiIndex level slice constant:\n",
    "All = slice(None)\n",
    "### Universe path:\n",
    "str_path_universe = 'Data_Files/Source_Files/acadian_universe.xlsx'\n",
    "### Dates:\n",
    "str_date_end = '2021-12-31'\n",
    "date_start = pd.Timestamp('1989-12-29')\n",
    "date_end = pd.Timestamp(str_date_end)\n",
    "date_ison = pd.Timestamp('1994-12-31')\n",
    "### NA for MS Excel files:\n",
    "list_na_excel_values = ['', '#N/A', '#N/A N/A', '#NA', '-1.#IND', '-1.#QNAN', '-NaN', '-nan', '1.#IND', '1.#QNAN', 'N/A', 'NULL', 'NaN', 'n/a', 'nan', 'null',\n",
    "                        '#N/A Requesting Data...', '#N/A Invalid Security', '#N/A Field Not Applicable', '---']\n",
    "### UN Comtrade authentication:\n",
    "unc_login = 'pavelb'\n",
    "unc_pass = 'bodoapux'\n",
    "unc_token = 'wqgBfTCn0Idq0LZWWAFKgj3YQYRKczgdnfmlQ3CkanmvQzoAlnL1oK1OJ0yVoCjSLjkUozAj0/dD4eCkSLJO/6pLCqK+iweXMqMazaADI+YqBOUPFySpbXM0CEZepZEuNl5bqxg50EPVB5lCrifsoA=='\n",
    "### UN Comtrade raw data containers:\n",
    "str_path_unc_raw_comm_annual = 'Data_Files/Source_Files/unc_raw_comm_annual.h5'\n",
    "str_path_unc_raw_serv_annual = 'Data_Files/Source_Files/unc_raw_serv_annual.h5'\n",
    "str_path_unc_raw_comm_monthly = 'Data_Files/Source_Files/unc_raw_comm_monthly.h5'\n",
    "str_key_unc_raw = 'unc_raw'\n",
    "### UN Comtrade adopted data containers:\n",
    "str_path_unc_res_comm_annual = 'Data_Files/Source_Files/unc_res_comm_annual.h5'\n",
    "str_path_unc_res_serv_annual = 'Data_Files/Source_Files/unc_res_serv_annual.h5'\n",
    "str_path_unc_res_comm_monthly = 'Data_Files/Source_Files/unc_res_comm_monthly.h5'\n",
    "str_key_unc_res = 'unc_res'\n",
    "### UN Comtrade aggregated data containers:\n",
    "str_path_unc_ind_annual = 'Data_Files/Source_Files/unc_industry_annual.h5'\n",
    "str_key_ind_codes_only = 'gics_codes_only'\n",
    "str_key_ind_descripted = 'gics_descripted'\n",
    "### Connection tables path and sheets:\n",
    "str_path_to_gics = 'Data_Files/Source_Files/goods_to_industries_HS.xlsx'\n",
    "str_serv_sheet = 'EBOPS'\n",
    "str_comm_sheet = 'AG2'"
   ]
  },
  {
   "cell_type": "code",
   "execution_count": 5,
   "metadata": {},
   "outputs": [],
   "source": [
    "### DEFINING COUNTRY CODES EXTRACTOR\n",
    "\n",
    "def get_country_codes(use_local_copy = False):  \n",
    "    ### In case if URL is unavailable:\n",
    "    if (use_local_copy):\n",
    "        url_country_code = 'Data_Files/Source_Files/countrycode.html'\n",
    "    ### Online extraction:\n",
    "    else:\n",
    "        url_country_code = 'https://countrycode.org/'\n",
    "    df_full_codes = pd.read_html(url_country_code, index_col = 'COUNTRY')[0]\n",
    "    df_full_codes[['ISO SHORT', 'ISO LONG']] = df_full_codes['ISO CODES'].str.split(' / ', expand = True)\n",
    "    df_result = df_full_codes[['ISO SHORT', 'ISO LONG']].sort_index()    \n",
    "    df_result.index = df_result.index.str.upper()\n",
    "    ### Results output:\n",
    "    return df_result"
   ]
  },
  {
   "cell_type": "code",
   "execution_count": 6,
   "metadata": {},
   "outputs": [],
   "source": [
    "### DEFINING EXTRACTION UNIVERSE DATA FROM MS EXCEL SOURCE (TO BE IGNORED IN PRODUCT CODE)\n",
    "\n",
    "def ison_membership_converting(str_path_universe, date_end, bool_daily = False, int_backfill_months = 0):\n",
    "    ### Defining business-month-end reindexation on country level:\n",
    "    def country_modify(ser_raw_country, date_end):\n",
    "        ser_res_country = ser_raw_country.droplevel(0).resample('MS').last().resample('BM').last()\n",
    "        range_country = pd.date_range(ser_res_country.index[0], date_end, freq = 'BM')\n",
    "        return ser_res_country.reindex(range_country).ffill()\n",
    "    ### Markets encoding table:\n",
    "    dict_markets = {50 : 'DM', 57 : 'EM', 504 : 'FM', 0: np.NaN}     \n",
    "    ### Loading source file:\n",
    "    df_raw_universe = pd.read_excel(engine = 'openpyxl', io = str_path_universe, sheet_name = 'Switchers', header = 0, parse_dates = True, index_col = [0, 1],\n",
    "                                 na_values = ['', '#N/A', '#N/A N/A', '#NA', '-1.#IND', '-1.#QNAN', '-NaN', '-nan', '1.#IND', \n",
    "                                             '1.#QNAN', 'N/A', 'NULL', 'NaN', 'n/a', 'nan', 'null'], keep_default_na = False)\n",
    "    ### Converting source file:\n",
    "    df_raw_universe.index.names = ['Country', 'Date']\n",
    "    ser_raw_universe = df_raw_universe['Region']\n",
    "    ser_raw_universe.fillna(0, inplace = True)\n",
    "    ser_raw_universe.name = 'Market'\n",
    "    ### By country reindexation and translation:\n",
    "    ser_res_universe = ser_raw_universe.groupby('Country').apply(country_modify, date_end)\n",
    "    ser_res_universe.index.names = ['Country', 'Date']\n",
    "    ser_res_universe = ser_res_universe.replace(dict_markets).reorder_levels([1, 0]).sort_index() \n",
    "    ### Expanding membership for primary regions members by backfilling:\n",
    "    if int_backfill_months:\n",
    "        ### List of regions:\n",
    "        list_region = list(ser_res_universe.dropna().unique())\n",
    "        ### Initialising of collection of series with backfilled data for each region:\n",
    "        list_ison_backfill = []\n",
    "        ### Regions looping:\n",
    "        for iter_region in list_region:\n",
    "            ### Defining start of region date:\n",
    "            date_first_valid = ser_res_universe.loc[ser_res_universe == iter_region].first_valid_index()[0]\n",
    "            ### Creating dates index to backfilling:\n",
    "            idx_date_backfill = pd.date_range(end = date_first_valid, periods = int_backfill_months + 1, freq = 'BM')[: -1]\n",
    "            ### Creating primary countries index to backfilling:            \n",
    "            idx_region_backfill = ser_res_universe.loc[ser_res_universe == iter_region].loc[date_first_valid, All].index.get_level_values('Country')\n",
    "            ### Creating full index:\n",
    "            idx_ison_backfill = pd.MultiIndex.from_product([idx_date_backfill, idx_region_backfill])\n",
    "            ### Series with backfilled data:\n",
    "            list_ison_backfill.append(pd.Series(iter_region, index = idx_ison_backfill))\n",
    "        ### Combination of backfilled series and original ISON data:    \n",
    "        ser_res_universe = ser_res_universe.combine_first(pd.concat(list_ison_backfill, axis = 0)).sort_index()  \n",
    "        ser_res_universe.index.names = ['Date', 'Country']\n",
    "    ### Converting to daily frequency:\n",
    "    if bool_daily:\n",
    "        ser_res_universe = ser_res_universe.reset_index('Country').groupby('Country').resample('B').ffill()['Market'].swaplevel().sort_index()    \n",
    "    ### Results output:\n",
    "    ser_res_universe.name = 'Market'\n",
    "    return ser_res_universe"
   ]
  },
  {
   "cell_type": "code",
   "execution_count": 7,
   "metadata": {},
   "outputs": [],
   "source": [
    "### RUN EVERY TIME: COMMON DATA EXTRACTION STEPS\n",
    "\n",
    "### World Country Codes:\n",
    "df_country_codes = get_country_codes()\n",
    "### ISON membership history:\n",
    "ser_ison_membership = ison_membership_converting(str_path_universe, pd.to_datetime(str_date_end))\n",
    "int_ison_number = len(sorted(ser_ison_membership.index.get_level_values(1).unique()))\n",
    "#df_country_codes[df_country_codes['ISO SHORT'].isin(ser_ison_membership.index.get_level_values('Country').unique())].to_excel('Data_Files/Test_Files/countries.xlsx')"
   ]
  },
  {
   "cell_type": "code",
   "execution_count": 8,
   "metadata": {},
   "outputs": [],
   "source": [
    "### UN COMTRADE: DATA EXTRACTION"
   ]
  },
  {
   "cell_type": "code",
   "execution_count": 9,
   "metadata": {},
   "outputs": [],
   "source": [
    "### UN COMTRADE: GENERAL DATA PREPARATION\n",
    "\n",
    "### Constants:\n",
    "int_unc_limit = 5\n",
    "int_seconds_to_sleep = 2\n",
    "### USA before 1981 code:\n",
    "str_usa_1981 = '841'\n",
    "### UN Comtrade country names to rename:\n",
    "dict_map_to_replace = {'BOLIVIA (PLURINATIONAL STATE OF)': 'BOLIVIA',\n",
    "                       'BOSNIA HERZEGOVINA': 'BOSNIA AND HERZEGOVINA',\n",
    "                       'BR. INDIAN OCEAN TERR.': 'BRITISH INDIAN OCEAN TERRITORY',\n",
    "                       'BR. VIRGIN ISDS': 'BRITISH VIRGIN ISLANDS',\n",
    "                       'BRUNEI DARUSSALAM': 'BRUNEI',\n",
    "                       'CABO VERDE': 'CAPE VERDE',\n",
    "                       'CAYMAN ISDS': 'CAYMAN ISLANDS',\n",
    "                       'CENTRAL AFRICAN REP.': 'CENTRAL AFRICAN REPUBLIC',\n",
    "                       'CHRISTMAS ISDS': 'CHRISTMAS ISLAND',\n",
    "                       'COCOS ISDS': 'COCOS ISLANDS',\n",
    "                       'COOK ISDS': 'COOK ISLANDS',                    \n",
    "                       'CURAÇAO': 'CURACAO',                          \n",
    "                       'CZECHIA': 'CZECH REPUBLIC',                    \n",
    "                       'DEM. REP. OF THE CONGO': 'DEMOCRATIC REPUBLIC OF THE CONGO',                          \n",
    "                       'DOMINICAN REP.': 'DOMINICAN REPUBLIC',                    \n",
    "                       'TIMOR-LESTE': 'EAST TIMOR',                          \n",
    "                       'FALKLAND ISDS (MALVINAS)': 'FALKLAND ISLANDS',                    \n",
    "                       'FAEROE ISDS': 'FAROE ISLANDS',                                           \n",
    "                       'CHINA, HONG KONG SAR': 'HONG KONG',                          \n",
    "                       'CÔTE D\\'IVOIRE': 'IVORY COAST',                                           \n",
    "                       'LAO PEOPLE\\'S DEM. REP.': 'LAOS',                                         \n",
    "                       'CHINA, MACAO SAR': 'MACAU',                          \n",
    "                       'TFYR OF MACEDONIA': 'MACEDONIA',                    \n",
    "                       'MARSHALL ISDS': 'MARSHALL ISLANDS',                          \n",
    "                       'FS MICRONESIA': 'MICRONESIA',                    \n",
    "                       'REP. OF MOLDOVA': 'MOLDOVA',                          \n",
    "                       'NETH. ANTILLES': 'NETHERLANDS ANTILLES',                          \n",
    "                       'DEM. PEOPLE\\'S REP. OF KOREA': 'NORTH KOREA',                          \n",
    "                       'N. MARIANA ISDS': 'NORTHERN MARIANA ISLANDS',                    \n",
    "                       'STATE OF PALESTINE': 'PALESTINE',                          \n",
    "                       'CONGO': 'REPUBLIC OF THE CONGO',                          \n",
    "                       'RÉUNION': 'REUNION',                    \n",
    "                       'RUSSIAN FEDERATION': 'RUSSIA',                          \n",
    "                       'SOLOMON ISDS': 'SOLOMON ISLANDS',                    \n",
    "                       'REP. OF KOREA': 'SOUTH KOREA',                                       \n",
    "                       'UNITED REP. OF TANZANIA': 'TANZANIA',     \n",
    "                       'OTHER ASIA, NES': 'TAIWAN',\n",
    "                       'TURKS AND CAICOS ISDS': 'TURKS AND CAICOS ISLANDS',                    \n",
    "                       'US VIRGIN ISDS': 'U.S. VIRGIN ISLANDS',                          \n",
    "                       'USA': 'UNITED STATES',                          \n",
    "                       'HOLY SEE (VATICAN CITY STATE)': 'VATICAN',                    \n",
    "                       'VIET NAM': 'VIETNAM',                          \n",
    "                       'WALLIS AND FUTUNA ISDS': 'WALLIS AND FUTUNA'\n",
    "                      }"
   ]
  },
  {
   "cell_type": "code",
   "execution_count": 10,
   "metadata": {},
   "outputs": [],
   "source": [
    "### UN COMTRADE: COUNTRIES DATA EXTRACTION AND MODIFICATION\n",
    "\n",
    "def get_un_comtrade_country_id(df_country_codes):\n",
    "    ### Getting UN Comtrade country info from post request:\n",
    "    str_UNC_countries_set = 'http://comtrade.un.org/data/cache/partnerAreas.json'\n",
    "    obj_UNC_countries_set = requests.post(str_UNC_countries_set)\n",
    "    ### Object to dataframe transformation:\n",
    "    list_UNC_countries = obj_UNC_countries_set.json()['results']\n",
    "    df_UNC_countries = pd.DataFrame(list_UNC_countries)\n",
    "    df_UNC_countries.columns = ['UNC ID', 'COUNTRY']\n",
    "    df_UNC_countries['COUNTRY'] = df_UNC_countries['COUNTRY'].str.upper()\n",
    "    df_UNC_countries.replace(dict_map_to_replace, inplace = True)\n",
    "    df_UNC_countries.set_index('COUNTRY', append = False, drop = True, inplace = True)\n",
    "    df_UNC_country_id = df_UNC_countries.join(df_country_codes, on = 'COUNTRY', how = 'left').dropna(how = 'any').reset_index(drop = True)\n",
    "    df_UNC_country_id.drop('ISO LONG', axis = 1, inplace = True)\n",
    "    df_UNC_country_id.columns = ['Comtrade_ID', 'Country']\n",
    "    ser_UNC_country_id = df_UNC_country_id.set_index('Country').squeeze().sort_index()\n",
    "    ### Results output:\n",
    "    return ser_UNC_country_id\n",
    "\n",
    "### Getting UN Comtrade country IDs:\n",
    "ser_UNC_country_id = get_un_comtrade_country_id(df_country_codes)\n",
    "### Filtering ISON countries only & adding USA BEFORE 1981 CODE:\n",
    "ser_UNC_country_id = ser_UNC_country_id.reindex(ser_ison_membership.index.get_level_values(1).unique())\n",
    "ser_UNC_country_id = ser_UNC_country_id.append(pd.Series('841', ['US'])).append(pd.Series('0', ['ZZ'])).sort_index() ### 'ZZ' ~ 'WORLD' TO BE AT LAST SMALL PORTION"
   ]
  },
  {
   "cell_type": "code",
   "execution_count": 11,
   "metadata": {},
   "outputs": [],
   "source": [
    "### UN COMTRADE: COMMODITIES CLASSIFICATION EXTRACTING\n",
    "\n",
    "### Classifications collection initializing:\n",
    "dict_comm_classification = {}\n",
    "### Getting UN Comtrade S1 classification from post request:\n",
    "str_UNC_commodities_url = 'http://comtrade.un.org/Data/cache/classificationH0.json'\n",
    "obj_UNC_commodities = requests.get(str_UNC_commodities_url)\n",
    "### Looping over json data:\n",
    "for iter_dict in obj_UNC_commodities.json()['results']:\n",
    "    dict_comm_classification[iter_dict['id']] = iter_dict['text']"
   ]
  },
  {
   "cell_type": "code",
   "execution_count": 12,
   "metadata": {},
   "outputs": [],
   "source": [
    "### UN COMTRADE: SERVICES CLASSIFICATION EXTRACTING\n",
    "\n",
    "### Classifications collection initializing:\n",
    "dict_serv_classification = {}\n",
    "dict_serv_parents = {}\n",
    "### Getting UN Comtrade S1 classification from post request:\n",
    "str_UNC_services_url = 'https://comtrade.un.org/Data/cache/classificationEB02.json'\n",
    "obj_UNC_services = requests.get(str_UNC_services_url)\n",
    "### Looping over json data:\n",
    "for iter_dict in obj_UNC_services.json()['results']:\n",
    "    dict_serv_classification[iter_dict['id']] = iter_dict['text']\n",
    "    dict_serv_parents[iter_dict['id']] = iter_dict['parent']\n",
    "df_serv_class = pd.concat([pd.Series(dict_serv_classification), pd.Series(dict_serv_parents)], axis = 1)    \n",
    "df_serv_class.index.names = ['Service_ID']\n",
    "df_serv_class.columns = ['Service_Description', 'Parent_ID']"
   ]
  },
  {
   "cell_type": "code",
   "execution_count": 13,
   "metadata": {},
   "outputs": [],
   "source": [
    "### UN COMTRADE: DATA REQUEST EXECUTION\n",
    "\n",
    "def get_un_comtrade_data(str_rep_country_id, str_par_country_id, int_max_rec = 250000, str_type = 'C', str_freq = 'A', str_classification_system = 'S1', \n",
    "                         str_period = 'all', str_trade_flow = 'All', str_classification_code = 'TOTAL', str_token = unc_token):\n",
    "    ### Trade flows codification:\n",
    "    dict_trade_flow = {'All': 'all', 'Import': '1', 'Export': '2', 're-Export': '3', 're-Import': '4', 'Both': '1,2'}\n",
    "    ### URL prefix:\n",
    "    str_url_base = 'http://comtrade.un.org/api/get?'\n",
    "    ### Columns list:\n",
    "    list_dataset_columns = ['Date', 'Reporter_ID', 'Partner_ID', 'Flow_ID', 'Commodity_ID', 'Value']\n",
    "    ### Request URL preparation:\n",
    "    str_url_request = str_url_base\n",
    "    list_parameters = []\n",
    "    list_parameters.append('max=' + str(int_max_rec)) # Usage limit\n",
    "    list_parameters.append('type=' + str_type) # C = Commodities (merchandise trade data) / S = Services (trade in services data)\n",
    "    list_parameters.append('freq=' + str_freq) # A = Annual, M = Monthly\n",
    "    list_parameters.append('px=' + str_classification_system) # Trade data classification scheme. See list of valid classifications\n",
    "    list_parameters.append('ps=' + str_period) # Time period\n",
    "    list_parameters.append('r=' + str_rep_country_id) # Reporter country\n",
    "    list_parameters.append('p=' + str_par_country_id) # Partner country\n",
    "    list_parameters.append('rg=' + dict_trade_flow[str_trade_flow]) # Trade direction\n",
    "    list_parameters.append('cc=' + str_classification_code) # Commodity code\n",
    "    list_parameters.append('token=' + str_token) # Authorization code   \n",
    "    list_parameters.append('fmt=json') # Response data format\n",
    "    str_url_request += '&'.join(list_parameters)\n",
    "    ### Getting UN Comtrade data from post request:\n",
    "    request_session = requests.Session()\n",
    "    obj_unc_dataset = request_session.post(str_url_request)\n",
    "    print(str_url_request)\n",
    "    ### Object to dataframe transformation:        \n",
    "    if ('dataset' in obj_unc_dataset.json().keys()):\n",
    "        list_unc_dataset = obj_unc_dataset.json()['dataset']\n",
    "        if (len(list_unc_dataset) > 1):\n",
    "            df_unc_dataset = pd.DataFrame(list_unc_dataset)[['period', 'rtCode', 'ptCode', 'rgCode', 'cmdCode', 'TradeValue']]\n",
    "            df_unc_dataset.columns = list_dataset_columns\n",
    "            if (str_freq == 'M'):\n",
    "                df_unc_dataset['Date'] = pd.to_datetime(df_unc_dataset['Date'], format = '%Y%m') + pd.offsets.BMonthEnd()    \n",
    "            elif (str_freq == 'A'):\n",
    "                df_unc_dataset['Date'] = pd.to_datetime(df_unc_dataset['Date'], format = '%Y') + pd.offsets.BYearEnd()    \n",
    "            df_unc_dataset = df_unc_dataset[list_dataset_columns]\n",
    "        elif (len(list_unc_dataset) == 1):\n",
    "            df_unc_dataset = pd.DataFrame(columns = list_dataset_columns)    \n",
    "        else:\n",
    "            df_unc_dataset = pd.DataFrame([[np.NaN] * len(list_dataset_columns)], columns = list_dataset_columns)\n",
    "    else:\n",
    "        df_unc_dataset = pd.DataFrame(columns = list_dataset_columns)\n",
    "    ### Results output:\n",
    "    return df_unc_dataset"
   ]
  },
  {
   "cell_type": "code",
   "execution_count": null,
   "metadata": {},
   "outputs": [],
   "source": [
    "### UN COMTRADE: SERVICES ANNUAL DATA EXTRACTION SCRIPT\n",
    "\n",
    "### Concatenation aggregator initializing:\n",
    "list_dataset = []\n",
    "### 5-length country pairs collection:\n",
    "list_empty_requests = list(itertools.product(range((len(ser_UNC_country_id.index) - 1) // int_unc_limit + 1), repeat = 2))#[153 : 160]\n",
    "### Looping over 5-length country pairs:\n",
    "while list_empty_requests:\n",
    "    iter_country_pair = list_empty_requests[0]\n",
    "    iter_reporter_group = iter_country_pair[0]    \n",
    "    iter_partner_group = iter_country_pair[1]\n",
    "    print(iter_reporter_group * int_unc_limit, '-', (iter_reporter_group + 1) * int_unc_limit - 1, '/', \n",
    "          iter_partner_group * int_unc_limit, '-', (iter_partner_group + 1) * int_unc_limit - 1)     \n",
    "    ### Country groups preparing:\n",
    "    list_reporter_group = ser_UNC_country_id.iloc[iter_reporter_group * int_unc_limit : (iter_reporter_group + 1) * int_unc_limit].to_list()\n",
    "    list_partner_group = ser_UNC_country_id.iloc[iter_partner_group * int_unc_limit : (iter_partner_group + 1) * int_unc_limit].to_list()    \n",
    "    str_reporter_group = ','.join(ser_UNC_country_id.iloc[iter_reporter_group * int_unc_limit : (iter_reporter_group + 1) * int_unc_limit].to_list())\n",
    "    str_partner_group = ','.join(ser_UNC_country_id.iloc[iter_partner_group * int_unc_limit : (iter_partner_group + 1) * int_unc_limit].to_list())    \n",
    "    ### Last single country list control to avoid endless loop:\n",
    "    if ((len(list_reporter_group) > 1) | (len(list_partner_group) > 1)):\n",
    "        ### Request performing:\n",
    "        df_iter_dataset = get_un_comtrade_data(str_reporter_group, str_partner_group, str_trade_flow = 'Both', str_type = 'S', \\\n",
    "                                               str_classification_code = 'all', str_classification_system = 'EB02')\n",
    "        if (len(df_iter_dataset) > 1):        \n",
    "            list_dataset += [df_iter_dataset]\n",
    "            print(len(df_iter_dataset), 'rows of data loaded successfully')\n",
    "            list_empty_requests.remove(iter_country_pair)\n",
    "        elif (df_iter_dataset.isna().sum().sum() == len(df_iter_dataset.columns)):\n",
    "            print('Empty response (no data found)')\n",
    "            list_empty_requests.remove(iter_country_pair)\n",
    "        else:\n",
    "            print('API error occured')\n",
    "        gc.collect()\n",
    "        time.sleep(int_seconds_to_sleep)    \n",
    "    else:\n",
    "        print('Two lists contains the same single country: no data')\n",
    "        list_empty_requests.remove(iter_country_pair)\n",
    "#    break"
   ]
  },
  {
   "cell_type": "code",
   "execution_count": 49,
   "metadata": {},
   "outputs": [],
   "source": [
    "### UN COMTRADE: SERVICES ANNUAL RAW DATA SAVING\n",
    "\n",
    "### Raw data concatenating:\n",
    "df_loop_dataset = pd.concat(list_dataset, axis = 0, sort = False, ignore_index = True)\n",
    "del list_dataset\n",
    "gc.collect()\n",
    "### Raw data saving:\n",
    "df_loop_dataset.to_hdf(path_or_buf = str_path_unc_raw_serv_annual, key = str_key_unc_raw, mode = 'w', format = 'table')"
   ]
  },
  {
   "cell_type": "code",
   "execution_count": 19,
   "metadata": {},
   "outputs": [],
   "source": [
    "### UN COMTRADE: SERVICES ANNUAL RAW DATA LOADING & CONVERTING\n",
    "\n",
    "list_chunks = []\n",
    "for df_iter_cast in pd.read_hdf(path_or_buf = str_path_unc_raw_serv_annual, key = str_key_unc_raw, chunksize = 1000000):\n",
    "    gc.collect()\n",
    "#    df_iter_cast = df_iter_cast[df_iter_cast['Reporter_ID'] != df_iter_cast['Partner_ID']]\n",
    "    df_iter_cast['Reporter_ID'].replace(dict(zip(list(map(int, ser_UNC_country_id.values)), ser_UNC_country_id.index.to_list())), inplace = True)\n",
    "    df_iter_cast['Partner_ID'].replace(dict(zip(list(map(int, ser_UNC_country_id.values)), ser_UNC_country_id.index.to_list())), inplace = True)    \n",
    "#    df_iter_cast['Commodity_ID'].replace(dict_comm_classification, inplace = True)\n",
    "    df_iter_cast['Flow_ID'].replace({1: 'Import', 2: 'Export'}, inplace = True)\n",
    "    list_chunks.append(df_iter_cast)\n",
    "#    break"
   ]
  },
  {
   "cell_type": "code",
   "execution_count": 20,
   "metadata": {},
   "outputs": [],
   "source": [
    "### UN COMTRADE: SERVICES CONVERTED ANNUAL DATA AGGREGATING & RE-SAVING\n",
    "\n",
    "gc.collect()\n",
    "df_cast_dataset = pd.concat(list_chunks, axis = 0, sort = False, ignore_index = True)\n",
    "del list_chunks\n",
    "gc.collect()\n",
    "df_cast_dataset.columns = ['Date', 'Reporter', 'Partner', 'Flow', 'Commodity_Class', 'Value']\n",
    "df_cast_dataset = df_cast_dataset.astype({'Reporter': 'category', 'Partner': 'category', 'Flow': 'category', 'Commodity_Class': 'category'})\n",
    "ser_cast_dataset = df_cast_dataset.set_index(['Date', 'Reporter', 'Partner', 'Flow', 'Commodity_Class']).squeeze()\n",
    "del df_cast_dataset\n",
    "gc.collect()\n",
    "ser_cast_dataset.to_hdf(path_or_buf = str_path_unc_res_serv_annual, key = str_key_unc_res, mode = 'w', format = 'table')"
   ]
  },
  {
   "cell_type": "code",
   "execution_count": null,
   "metadata": {},
   "outputs": [],
   "source": [
    "### UN COMTRADE: COMMODITIES ANNUAL DATA EXTRACTION SCRIPT\n",
    "\n",
    "### Concatenation aggregator initializing:\n",
    "list_dataset = []\n",
    "### 5-length country pairs collection:\n",
    "list_empty_requests = list(itertools.product(range((len(ser_UNC_country_id.index) - 1) // int_unc_limit + 1), repeat = 2))#[-1 : ]\n",
    "### Looping over 5-length country pairs:\n",
    "while list_empty_requests:\n",
    "    iter_country_pair = list_empty_requests[0]\n",
    "    iter_reporter_group = iter_country_pair[0]    \n",
    "    iter_partner_group = iter_country_pair[1]\n",
    "    print(iter_reporter_group * int_unc_limit, '-', (iter_reporter_group + 1) * int_unc_limit - 1, '/', \n",
    "          iter_partner_group * int_unc_limit, '-', (iter_partner_group + 1) * int_unc_limit - 1)     \n",
    "    ### Country groups preparing:\n",
    "    list_reporter_group = ser_UNC_country_id.iloc[iter_reporter_group * int_unc_limit : (iter_reporter_group + 1) * int_unc_limit].to_list()\n",
    "    list_partner_group = ser_UNC_country_id.iloc[iter_partner_group * int_unc_limit : (iter_partner_group + 1) * int_unc_limit].to_list()    \n",
    "    str_reporter_group = ','.join(ser_UNC_country_id.iloc[iter_reporter_group * int_unc_limit : (iter_reporter_group + 1) * int_unc_limit].to_list())\n",
    "    str_partner_group = ','.join(ser_UNC_country_id.iloc[iter_partner_group * int_unc_limit : (iter_partner_group + 1) * int_unc_limit].to_list())    \n",
    "    ### Last single country list control to avoid endless loop:\n",
    "    if ((len(list_reporter_group) > 1) | (len(list_partner_group) > 1)):\n",
    "        ### Request performing:\n",
    "        df_iter_dataset = get_un_comtrade_data(str_reporter_group, str_partner_group, str_trade_flow = 'Both', \n",
    "                                               str_classification_code = 'AG2', str_classification_system = 'H0')\n",
    "        if (len(df_iter_dataset) > 1):        \n",
    "            list_dataset += [df_iter_dataset]\n",
    "            print(len(df_iter_dataset), 'rows of data loaded successfully')\n",
    "            list_empty_requests.remove(iter_country_pair)\n",
    "        elif (df_iter_dataset.isna().sum().sum() == len(df_iter_dataset.columns)):\n",
    "            print('Empty response (no data found)')\n",
    "            list_empty_requests.remove(iter_country_pair)\n",
    "        else:\n",
    "            print('API error occured')\n",
    "        gc.collect()\n",
    "        time.sleep(int_seconds_to_sleep)    \n",
    "    else:\n",
    "        print('Two lists contains the same single country: no data')\n",
    "        list_empty_requests.remove(iter_country_pair)                                \n",
    "#    break"
   ]
  },
  {
   "cell_type": "code",
   "execution_count": 15,
   "metadata": {},
   "outputs": [],
   "source": [
    "### UN COMTRADE: COMMODITIES ANNUAL RAW DATA SAVING\n",
    "\n",
    "### Raw data concatenating:\n",
    "df_loop_dataset = pd.concat(list_dataset, axis = 0, sort = False, ignore_index = True)\n",
    "del list_dataset\n",
    "gc.collect()\n",
    "### Raw data saving:\n",
    "df_loop_dataset.to_hdf(path_or_buf = str_path_unc_raw_comm_annual, key = str_key_unc_raw, mode = 'w', format = 'table')"
   ]
  },
  {
   "cell_type": "code",
   "execution_count": 13,
   "metadata": {},
   "outputs": [],
   "source": [
    "### UN COMTRADE: COMMODITIES ANNUAL RAW DATA LOADING & CONVERTING\n",
    "\n",
    "list_chunks = []\n",
    "for df_iter_cast in pd.read_hdf(path_or_buf = str_path_unc_raw_comm_annual, key = str_key_unc_raw, chunksize = 1000000):\n",
    "    gc.collect()\n",
    "#    df_iter_cast = df_iter_cast[df_iter_cast['Reporter_ID'] != df_iter_cast['Partner_ID']]\n",
    "    df_iter_cast['Reporter_ID'].replace(dict(zip(list(map(int, ser_UNC_country_id.values)), ser_UNC_country_id.index.to_list())), inplace = True)\n",
    "    df_iter_cast['Partner_ID'].replace(dict(zip(list(map(int, ser_UNC_country_id.values)), ser_UNC_country_id.index.to_list())), inplace = True)    \n",
    "#    df_iter_cast['Commodity_ID'].replace(dict_comm_classification, inplace = True)\n",
    "    df_iter_cast['Flow_ID'].replace({1: 'Import', 2: 'Export'}, inplace = True)\n",
    "    list_chunks.append(df_iter_cast)\n",
    "#    break"
   ]
  },
  {
   "cell_type": "code",
   "execution_count": 14,
   "metadata": {},
   "outputs": [],
   "source": [
    "### UN COMTRADE: COMMODITIES CONVERTED ANNUAL DATA AGGREGATING & RE-SAVING\n",
    "\n",
    "gc.collect()\n",
    "df_cast_dataset = pd.concat(list_chunks, axis = 0, sort = False, ignore_index = True)\n",
    "del list_chunks\n",
    "gc.collect()\n",
    "df_cast_dataset.columns = ['Date', 'Reporter', 'Partner', 'Flow', 'Commodity_Class', 'Value']\n",
    "df_cast_dataset = df_cast_dataset.astype({'Reporter': 'category', 'Partner': 'category', 'Flow': 'category', 'Commodity_Class': 'category'})\n",
    "ser_cast_dataset = df_cast_dataset.set_index(['Date', 'Reporter', 'Partner', 'Flow', 'Commodity_Class']).squeeze()\n",
    "del df_cast_dataset\n",
    "gc.collect()\n",
    "ser_cast_dataset.to_hdf(path_or_buf = str_path_unc_res_comm_annual, key = str_key_unc_res, mode = 'w', format = 'table')"
   ]
  },
  {
   "cell_type": "code",
   "execution_count": 16,
   "metadata": {},
   "outputs": [
    {
     "data": {
      "text/plain": [
       "Date        Reporter  Partner  Flow    Commodity_Class\n",
       "2020-12-31  US        CA       Import  99                  18439455941\n",
       "                      ZZ       Import  99                 102547452199\n",
       "Name: Value, dtype: int64"
      ]
     },
     "execution_count": 16,
     "metadata": {},
     "output_type": "execute_result"
    }
   ],
   "source": [
    "### UN COMTRADE: COMMODITIES ANNUAL DATA EXAMPLE\n",
    "\n",
    "del ser_cast_dataset\n",
    "gc.collect()\n",
    "\n",
    "ser_cast_dataset = pd.read_hdf(path_or_buf = str_path_unc_res_comm_annual, key = str_key_unc_res)\n",
    "ser_cast_dataset.loc[['2020-12-31'], ['US'], ['CA', 'ZZ'], ['Import'], '99']"
   ]
  },
  {
   "cell_type": "code",
   "execution_count": 42,
   "metadata": {},
   "outputs": [],
   "source": [
    "### UN COMTRADE: COMMODITY CODES CONNECTIONS PREPARING (SITC: 2 LEVELS)\n",
    "\n",
    "df_ag_data = pd.Series(dict_comm_classification).to_frame()\n",
    "df_ag_data['Code_Length'] = df_ag_data.index.str.len()\n",
    "df_ag_data['Parent_Code'] = df_ag_data.index.str[0]\n",
    "df_ag_1 = df_ag_data[df_ag_data['Code_Length'] == 1]\n",
    "df_ag_2 = df_ag_data[df_ag_data['Code_Length'] == 2].reset_index()\n",
    "df_ag_connection = df_ag_2.merge(df_ag_1, on = 'Parent_Code')\n",
    "df_ag_connection.columns = ['Commodity_ID', 'Commodity_Description', 'Commodity_Code_Length', 'Parent_ID', 'Parent_Description', 'Parent_Code_Length']\n",
    "ser_ag_connection = df_ag_connection[['Commodity_ID', 'Commodity_Description', 'Parent_Description']].set_index(['Parent_Description', 'Commodity_ID']).squeeze()\n",
    "df_ag_connection = ser_ag_connection.str[5: ].reset_index('Parent_Description')\n",
    "df_ag_connection.to_excel('Data_Files/Test_Files/AG2.xlsx', merge_cells = False)"
   ]
  },
  {
   "cell_type": "code",
   "execution_count": 44,
   "metadata": {},
   "outputs": [],
   "source": [
    "### UN COMTRADE: COMMODITY CODES CONNECTIONS PREPARING (SITC: 3 LEVELS)\n",
    "\n",
    "df_ag_data = pd.Series(dict_comm_classification).to_frame()\n",
    "df_ag_data['Code_Length'] = df_ag_data.index.str.len()\n",
    "df_ag_data['Parent_1_Code'] = df_ag_data.index.str[0]\n",
    "df_ag_data['Parent_2_Code'] = df_ag_data.index.str[: 2]\n",
    "df_ag_1 = df_ag_data[df_ag_data['Code_Length'] == 1]\n",
    "df_ag_2 = df_ag_data[df_ag_data['Code_Length'] == 2].reset_index()\n",
    "df_ag_3 = df_ag_data[df_ag_data['Code_Length'] == 3].reset_index()\n",
    "df_ag_connection = df_ag_2.merge(df_ag_1, on = 'Parent_1_Code').iloc[All, [0, 1, 3, 4, 5]]\n",
    "df_ag_connection.columns = ['AG2_ID', 'AG2_Description', 'AG1_ID', 'Parent_2_Code', 'AG1_Description']\n",
    "df_ag_connection = df_ag_3.merge(df_ag_connection, on = 'Parent_2_Code').iloc[All, [0, 1, 5, 6, 7, 8]]\n",
    "df_ag_connection.rename({'index': 'AG3_ID', 0: 'AG3_Description'}, axis = 1, inplace = True)\n",
    "df_ag_connection = df_ag_connection.set_index(['AG3_ID', 'AG2_ID', 'AG1_ID'])\n",
    "df_ag_connection.to_excel('Data_Files/Test_Files/AG3.xlsx', merge_cells = False)"
   ]
  },
  {
   "cell_type": "code",
   "execution_count": 16,
   "metadata": {},
   "outputs": [],
   "source": [
    "### UN COMTRADE: COMMODITY CODES CONNECTIONS PREPARING (HS: 2 LEVELS)\n",
    "\n",
    "df_ag_data = pd.Series(dict_comm_classification).to_frame()\n",
    "df_ag_data['Code_Length'] = df_ag_data.index.str.len()\n",
    "df_ag_data['Parent_Code'] = df_ag_data.index.str[:2]\n",
    "df_ag_1 = df_ag_data[df_ag_data['Code_Length'] == 2]\n",
    "df_ag_2 = df_ag_data[df_ag_data['Code_Length'] == 4].reset_index()\n",
    "df_ag_3 = df_ag_data[df_ag_data['Code_Length'] == 6].reset_index()\n",
    "df_ag_connection = df_ag_2.merge(df_ag_1, on = 'Parent_Code')\n",
    "df_ag_connection.columns = ['Commodity_ID', 'Commodity_Description', 'Commodity_Code_Length', 'Parent_ID', 'Parent_Description', 'Parent_Code_Length']\n",
    "ser_ag_connection = df_ag_connection[['Commodity_ID', 'Commodity_Description', 'Parent_Description']].set_index(['Parent_Description', 'Commodity_ID']).squeeze()\n",
    "df_ag_connection = ser_ag_connection.str[7: ].reset_index('Parent_Description')\n",
    "#df_ag_1[0].to_excel('Data_Files/Test_Files/HS_0_AG2.xlsx', merge_cells = False)\n",
    "#df_ag_connection.to_excel('Data_Files/Test_Files/HS_0_AG4.xlsx', merge_cells = False)\n",
    "df_ag_3[0].sort_values().to_excel('Data_Files/Test_Files/HS_0_AG6.xlsx', merge_cells = False)"
   ]
  },
  {
   "cell_type": "code",
   "execution_count": 14,
   "metadata": {},
   "outputs": [],
   "source": [
    "### UN COMTRADE: SERVICE CODES CONNECTIONS PREPARING\n",
    "\n",
    "df_eb_connection = df_serv_class.reset_index().merge(df_serv_class, left_on = 'Parent_ID', right_on = 'Service_ID')\n",
    "df_eb_connection.columns = ['Service_ID', 'Service_Description', 'Parent_ID', 'Parent_Description', 'Parent_ID2']\n",
    "df_eb_connection.set_index('Service_ID', inplace = True)\n",
    "df_eb_connection.drop('Parent_ID2', axis = 1, inplace = True)\n",
    "idx_id_first = df_eb_connection[df_eb_connection['Parent_ID'] == '200'].index ### 200 - root value\n",
    "idx_id_second = df_eb_connection[df_eb_connection['Parent_ID'].isin(idx_id_first)].index\n",
    "df_eb_connection = pd.concat([df_eb_connection.loc[idx_id_second], df_eb_connection.loc[['983']]]).sort_values(['Parent_ID', 'Service_Description'])\n",
    "#df_eb_connection.to_excel('Data_Files/Test_Files/EBOPS.xlsx', merge_cells = False)"
   ]
  },
  {
   "cell_type": "code",
   "execution_count": 15,
   "metadata": {},
   "outputs": [],
   "source": [
    "### UN COMTRADE: GOODS TO INDUSTRIES CONNECTION\n",
    "\n",
    "dict_to_gics_raw = pd.read_excel(engine = 'openpyxl', io = str_path_to_gics, sheet_name = [str_serv_sheet, str_comm_sheet], \n",
    "                                 header = 0, parse_dates = False, dtype = str, usecols = list(range(9)),\n",
    "                                 na_values = list_na_excel_values, keep_default_na = False)\n",
    "df_serv_to_gics = dict_to_gics_raw[str_serv_sheet].drop(['USA to World Export Full History, %', 'Parent_ID'], axis = 1).dropna(subset = ['GICS_Industry_Group'])\n",
    "df_serv_to_gics.set_index('Service_ID', inplace = True)\n",
    "df_serv_to_gics.index.names = ['Category_ID']\n",
    "df_serv_to_gics.rename({'Service_Description': 'Category_Description'}, axis = 1, inplace = True)\n",
    "df_comm_to_gics = dict_to_gics_raw[str_comm_sheet].drop('USA to World Export 2020, %', axis = 1).dropna(subset = ['GICS_Industry_Group'])\n",
    "df_comm_to_gics.set_index('Commodity_ID', inplace = True)\n",
    "df_comm_to_gics.index.names = ['Category_ID']\n",
    "df_comm_to_gics.rename({'Commodity_Description': 'Category_Description'}, axis = 1, inplace = True)"
   ]
  },
  {
   "cell_type": "code",
   "execution_count": 16,
   "metadata": {},
   "outputs": [
    {
     "data": {
      "text/plain": [
       "2408"
      ]
     },
     "execution_count": 16,
     "metadata": {},
     "output_type": "execute_result"
    }
   ],
   "source": [
    "### UN COMTRADE: SERVICES STATS PREPARING\n",
    "\n",
    "idx_last_years = pd.date_range(end = '2017-12-29', periods = 5, freq = 'BY')\n",
    "ser_serv_res = pd.read_hdf(path_or_buf = str_path_unc_res_serv_annual, key = str_key_unc_res)\n",
    "ser_serv_second = ser_serv_res.loc[idx_last_years, 'US', 'ZZ', 'Export', idx_id_second].groupby('Commodity_Class').sum()\n",
    "del ser_serv_res\n",
    "gc.collect()"
   ]
  },
  {
   "cell_type": "code",
   "execution_count": 17,
   "metadata": {
    "tags": []
   },
   "outputs": [
    {
     "data": {
      "text/plain": [
       "379"
      ]
     },
     "execution_count": 17,
     "metadata": {},
     "output_type": "execute_result"
    }
   ],
   "source": [
    "### UN COMTRADE: GOODS STATS PREPARING\n",
    "\n",
    "idx_last_years = pd.date_range(end = '2017-12-29', periods = 5, freq = 'BY')\n",
    "ser_comm_res = pd.read_hdf(path_or_buf = str_path_unc_res_comm_annual, key = str_key_unc_res)\n",
    "ser_comm_second = ser_comm_res.loc[idx_last_years, 'US', 'ZZ', 'Export', All].groupby('Commodity_Class').sum()\n",
    "del ser_comm_res\n",
    "gc.collect()"
   ]
  },
  {
   "cell_type": "code",
   "execution_count": 18,
   "metadata": {},
   "outputs": [],
   "source": [
    "### UN COMTRADE: CONNECTIONS TABLE CREATING & SAVING\n",
    "\n",
    "ser_full_second = pd.concat([ser_comm_second.reset_index(), ser_serv_second.reset_index()]).set_index('Commodity_Class').squeeze()\n",
    "ser_full_second = ser_full_second / ser_full_second.sum()\n",
    "ser_full_second.index.names = ['Category_ID']\n",
    "ser_full_second.name = 'Flow_Part'\n",
    "round(ser_full_second * 100, 2)\n",
    "df_un_to_msci = pd.concat([df_comm_to_gics, df_serv_to_gics], keys = ['Commodity', 'Service'], names = ['Type'])\\\n",
    "                  .join(ser_full_second)\n",
    "df_un_to_msci.to_excel('Data_Files/Test_Files/Comtrade_to_GICS.xlsx', merge_cells = False)\n",
    "print(set(ser_full_second.index) - set(df_un_to_msci['Flow_Part'].dropna().index.get_level_values(-1)))"
   ]
  },
  {
   "cell_type": "code",
   "execution_count": 16,
   "metadata": {},
   "outputs": [
    {
     "name": "stdout",
     "output_type": "stream",
     "text": [
      "Comtrade data aggregated\n",
      "Connections added\n",
      "Index reseted\n",
      "Data types casted\n",
      "Index set\n",
      "Table saved\n"
     ]
    },
    {
     "data": {
      "text/plain": [
       "29"
      ]
     },
     "execution_count": 16,
     "metadata": {},
     "output_type": "execute_result"
    }
   ],
   "source": [
    "### UN COMTRADE: DATA AGGREGATING AND ADDING CONNECTIONS\n",
    "\n",
    "gc.collect()\n",
    "### Data aggregating:\n",
    "ser_serv_res = pd.read_hdf(path_or_buf = str_path_unc_res_serv_annual, key = str_key_unc_res)\n",
    "ser_comm_res = pd.read_hdf(path_or_buf = str_path_unc_res_comm_annual, key = str_key_unc_res)\n",
    "ser_full_res = pd.concat([ser_comm_res.reset_index(), ser_serv_res.reset_index()]).set_index('Commodity_Class').squeeze()\n",
    "del ser_serv_res\n",
    "del ser_comm_res\n",
    "gc.collect()\n",
    "ser_full_res.index.names = ['Category_ID']\n",
    "print('Comtrade data aggregated')\n",
    "### Connections adding:\n",
    "df_un_to_msci = pd.concat([df_comm_to_gics, df_serv_to_gics], keys = ['Commodity', 'Service'], names = ['Type'], sort = True)\n",
    "df_connected = ser_full_res.merge(df_un_to_msci.reset_index('Type'), on = 'Category_ID')\n",
    "del ser_full_res\n",
    "gc.collect()\n",
    "print('Connections added')\n",
    "df_connected = df_connected.reset_index()\n",
    "df_connected[['GICS_Industry_Code', 'GICS_Industry']] = df_connected[['GICS_Industry_Code', 'GICS_Industry']].fillna('Undefined')\n",
    "print('Index reseted')\n",
    "df_connected = df_connected.astype({\n",
    "                                    'Category_ID': 'category', \n",
    "                                    'Reporter': 'category', \n",
    "                                    'Partner': 'category',\n",
    "                                    'Flow': 'category',\n",
    "                                    'Type': 'category',\n",
    "                                    'Category_Description': 'category',\n",
    "                                    'Parent_Description': 'category',\n",
    "                                    'GICS_Industry_Code': 'category',\n",
    "                                    'GICS_Industry': 'category',    \n",
    "                                    'GICS_Group_Code': 'category',    \n",
    "                                    'GICS_Industry_Group': 'category'\n",
    "                                   })\n",
    "print('Data types casted')\n",
    "gc.collect()\n",
    "df_connected.set_index(['Type', 'Category_ID', 'Flow', 'Date', 'Reporter', 'Partner', 'GICS_Group_Code', 'GICS_Industry_Code'], inplace = True)\n",
    "print('Index set')\n",
    "#df_connected.sort_index()\n",
    "#print('Index sorted')\n",
    "df_connected.to_hdf(path_or_buf = str_path_unc_ind_annual, key = str_key_ind_descripted, mode = 'w', format = 'table')\n",
    "df_connected['Value'].to_hdf(path_or_buf = str_path_unc_ind_annual, key = str_key_ind_codes_only, mode = 'a', format = 'table')\n",
    "print('Table saved')\n",
    "del df_connected\n",
    "gc.collect()"
   ]
  },
  {
   "cell_type": "code",
   "execution_count": 17,
   "metadata": {},
   "outputs": [],
   "source": [
    "### UN COMTRADE: GOODS TO INDUSTRIES COREESPONDINGS COMPARISION\n",
    "\n",
    "str_path_hs_to_gics = 'Data_Files/Source_Files/goods_to_industries_hs.xlsx'\n",
    "str_path_sitc_to_gics = 'Data_Files/Source_Files/goods_to_industries_sitc.xlsx'\n",
    "str_comm_sheet = 'AG2'\n",
    "\n",
    "dict_to_gics = {}\n",
    "dict_to_gics['SITC'] = pd.read_excel(engine = 'openpyxl', io = str_path_sitc_to_gics, sheet_name = str_comm_sheet, \n",
    "                                     header = 0, parse_dates = False, dtype = str, usecols = [0, 1, 3, 4, 6],\n",
    "                                     na_values = list_na_excel_values, keep_default_na = False)\n",
    "dict_to_gics['SITC'] = dict_to_gics['SITC'].dropna().set_index(['GICS_Group_Code', 'GICS_Industry_Code']).sort_index()\n",
    "dict_to_gics['SITC'].rename({'USA to World Export 2020, %': '%'}, axis = 1, inplace = True)\n",
    "dict_to_gics['SITC']['%'] = dict_to_gics['SITC']['%'].astype(float)\n",
    "dict_to_gics['HS'] = pd.read_excel(engine = 'openpyxl', io = str_path_hs_to_gics, sheet_name = str_comm_sheet, \n",
    "                                     header = 0, parse_dates = False, dtype = str, usecols = [0, 1, 2, 5, 7],\n",
    "                                     na_values = list_na_excel_values, keep_default_na = False)\n",
    "dict_to_gics['HS'].columns = ['Commodity_ID', 'Commodity_Description', '%', 'GICS_Industry_Code', 'GICS_Group_Code']\n",
    "dict_to_gics['HS']['%'] = dict_to_gics['HS']['%'].astype(float)\n",
    "dict_to_gics['HS'] = dict_to_gics['HS'].dropna().set_index(['GICS_Group_Code', 'GICS_Industry_Code']).sort_index()"
   ]
  },
  {
   "cell_type": "code",
   "execution_count": 48,
   "metadata": {},
   "outputs": [
    {
     "name": "stdout",
     "output_type": "stream",
     "text": [
      "\n",
      "SITC corresponding to GICS stats:\n",
      "GICS Industry Groups involved: 11\n",
      "GICS Industries involved: 20\n",
      "\n",
      "HS corresponding to GICS stats:\n",
      "GICS Industry Groups involved: 9\n",
      "GICS Industries involved: 18\n"
     ]
    }
   ],
   "source": [
    "### UN COMTRADE: GOODS TO INDUSTRIES COREESPONDINGS COMPARISION\n",
    "\n",
    "dict_group_sum = {}\n",
    "dict_industry_sum = {}\n",
    "for iter_class in dict_to_gics:\n",
    "    print('\\n' + iter_class + ' corresponding to GICS stats:')\n",
    "    print('GICS Industry Groups involved: ' + str(len(dict_to_gics[iter_class].index.get_level_values('GICS_Group_Code').unique())))\n",
    "    print('GICS Industries involved: ' + str(len(dict_to_gics[iter_class].index.get_level_values('GICS_Industry_Code').unique())))    \n",
    "    dict_group_sum[iter_class] = dict_to_gics[iter_class].groupby('GICS_Group_Code')['%'].sum()\n",
    "    dict_industry_sum[iter_class] = dict_to_gics[iter_class].groupby('GICS_Industry_Code')['%'].sum()    "
   ]
  },
  {
   "cell_type": "code",
   "execution_count": 59,
   "metadata": {},
   "outputs": [
    {
     "data": {
      "image/png": "[encoded data removed]",
      "text/plain": [
       "<Figure size 1440x540 with 1 Axes>"
      ]
     },
     "metadata": {
      "needs_background": "light"
     },
     "output_type": "display_data"
    },
    {
     "data": {
      "image/png": "[encoded data removed]",
      "text/plain": [
       "<Figure size 1440x540 with 1 Axes>"
      ]
     },
     "metadata": {
      "needs_background": "light"
     },
     "output_type": "display_data"
    }
   ],
   "source": [
    "### TEMP\n",
    "\n",
    "df_group_to_plot = pd.concat(dict_group_sum, axis = 1, sort = True).stack().reset_index()\n",
    "df_group_to_plot.columns = ['Group_ID', 'Classification', '%']\n",
    "plt.figure(figsize = (20, 7.5))\n",
    "ax_groups = sns.barplot(data = df_group_to_plot, x = 'Group_ID', y = '%', hue = 'Classification')\n",
    "ax_groups.set_title('GICS Groups distribution')\n",
    "plt.show()\n",
    "df_ind_to_plot = pd.concat(dict_industry_sum, axis = 1, sort = True).stack().reset_index()\n",
    "df_ind_to_plot.columns = ['Industry_ID', 'Classification', '%']\n",
    "plt.figure(figsize = (20, 7.5))\n",
    "ax_industries = sns.barplot(data = df_ind_to_plot, x = 'Industry_ID', y = '%', hue = 'Classification')\n",
    "ax_industries.set_title('GICS Industries distribution')\n",
    "plt.show()"
   ]
  },
  {
   "cell_type": "code",
   "execution_count": 13,
   "metadata": {},
   "outputs": [],
   "source": [
    "### DATA EXTRACTION FOR ACADIAN EXCHANGE MATERIALS: REGISTRIES PREPARATION\n",
    "\n",
    "str_acadian_to_hs = 'Data_Files/Source_Files/Acadian_to_HS1992_AG4.xlsx'\n",
    "\n",
    "df_acadian_to_hs = pd.read_excel(engine = 'openpyxl', io = str_acadian_to_hs, sheet_name = 0, \n",
    "                                 header = 0, parse_dates = False, dtype = str,\n",
    "                                 na_values = list_na_excel_values, keep_default_na = False)\n",
    "list_ag2_registry = sorted(df_acadian_to_hs[df_acadian_to_hs['HS Correspondent Code'] == '0000']['HS Parent Code'].unique())\n",
    "list_ag4_registry = sorted(df_acadian_to_hs[df_acadian_to_hs['HS Correspondent Code'] != '0000']['HS Correspondent Code'].unique())\n",
    "list_ag6_registry = sorted([iter_list[i] for iter_list in df_acadian_to_hs['AG6 Code'].dropna().str.split('\\n').to_list() for i in range(len(iter_list))])"
   ]
  },
  {
   "cell_type": "code",
   "execution_count": 15,
   "metadata": {},
   "outputs": [
    {
     "data": {
      "text/plain": [
       "57"
      ]
     },
     "execution_count": 15,
     "metadata": {},
     "output_type": "execute_result"
    }
   ],
   "source": [
    "### DATA EXTRACTION FOR ACADIAN EXCHANGE MATERIALS: AG2 DATA COLLECTION\n",
    "\n",
    "list_ag2_dataset = []\n",
    "\n",
    "for df_iter_chunk in pd.read_hdf(path_or_buf = str_path_unc_raw_comm_annual, key = str_key_unc_raw, chunksize = 1000000):\n",
    "    gc.collect()\n",
    "    list_ag2_dataset.append(df_iter_chunk[df_iter_chunk['Commodity_ID'].isin(list_ag2_registry)])\n",
    "df_ag2_data = pd.concat(list_ag2_data)\n",
    "del list_ag2_dataset\n",
    "gc.collect()\n",
    "### Raw data saving:\n",
    "df_ag2_data.to_hdf(path_or_buf = 'Data_Files/Source_Files/unc_raw_ag2_acadian.h5', key = 'acadian', mode = 'w')\n",
    "del df_ag2_data\n",
    "gc.collect()"
   ]
  },
  {
   "cell_type": "code",
   "execution_count": null,
   "metadata": {},
   "outputs": [],
   "source": [
    "### DATA EXTRACTION FOR ACADIAN EXCHANGE MATERIALS: AG4 DATA EXTRACTION\n",
    "\n",
    "### Concatenation aggregator initializing:\n",
    "list_ag4_dataset = []\n",
    "### 5-length country pairs collection:\n",
    "list_empty_requests = list(itertools.product(range((len(ser_UNC_country_id.index) - 1) // int_unc_limit + 1), repeat = 2))#[ : 1]\n",
    "### Looping over 5-length country pairs:\n",
    "while list_empty_requests:\n",
    "    iter_country_pair = list_empty_requests[0]\n",
    "    iter_reporter_group = iter_country_pair[0]    \n",
    "    iter_partner_group = iter_country_pair[1]\n",
    "    print(iter_reporter_group * int_unc_limit, '-', (iter_reporter_group + 1) * int_unc_limit - 1, '/', \n",
    "          iter_partner_group * int_unc_limit, '-', (iter_partner_group + 1) * int_unc_limit - 1)     \n",
    "    ### Country groups preparing:\n",
    "    list_reporter_group = ser_UNC_country_id.iloc[iter_reporter_group * int_unc_limit : (iter_reporter_group + 1) * int_unc_limit].to_list()\n",
    "    list_partner_group = ser_UNC_country_id.iloc[iter_partner_group * int_unc_limit : (iter_partner_group + 1) * int_unc_limit].to_list()    \n",
    "    str_reporter_group = ','.join(ser_UNC_country_id.iloc[iter_reporter_group * int_unc_limit : (iter_reporter_group + 1) * int_unc_limit].to_list())\n",
    "    str_partner_group = ','.join(ser_UNC_country_id.iloc[iter_partner_group * int_unc_limit : (iter_partner_group + 1) * int_unc_limit].to_list())    \n",
    "    ### Last single country list control to avoid endless loop:\n",
    "    if ((len(list_reporter_group) > 1) | (len(list_partner_group) > 1)):\n",
    "        ### Request performing:\n",
    "        df_iter_dataset = get_un_comtrade_data(str_reporter_group, str_partner_group, str_trade_flow = 'Both', \n",
    "                                               str_classification_code = ','.join(list_ag4_registry), str_classification_system = 'H0')\n",
    "        if (len(df_iter_dataset) > 1):        \n",
    "            list_ag4_dataset += [df_iter_dataset]\n",
    "            print(len(df_iter_dataset), 'rows of data loaded successfully')\n",
    "            list_empty_requests.remove(iter_country_pair)\n",
    "        elif (df_iter_dataset.isna().sum().sum() == len(df_iter_dataset.columns)):\n",
    "            print('Empty response (no data found)')\n",
    "            list_empty_requests.remove(iter_country_pair)\n",
    "        else:\n",
    "            print('API error occured')\n",
    "        gc.collect()\n",
    "        time.sleep(int_seconds_to_sleep)    \n",
    "    else:\n",
    "        print('Two lists contains the same single country: no data')\n",
    "        list_empty_requests.remove(iter_country_pair)                                \n",
    "#    break"
   ]
  },
  {
   "cell_type": "code",
   "execution_count": 21,
   "metadata": {},
   "outputs": [
    {
     "data": {
      "text/plain": [
       "23"
      ]
     },
     "execution_count": 21,
     "metadata": {},
     "output_type": "execute_result"
    }
   ],
   "source": [
    "### DATA EXTRACTION FOR ACADIAN EXCHANGE MATERIALS: AG4 DATA SAVING\n",
    "\n",
    "df_ag4_data = pd.concat(list_ag4_dataset)\n",
    "del list_ag4_dataset\n",
    "gc.collect()\n",
    "### Raw data saving:\n",
    "df_ag4_data.to_hdf(path_or_buf = 'Data_Files/Source_Files/unc_raw_ag4_acadian.h5', key = 'acadian', mode = 'w')\n",
    "del df_ag4_data\n",
    "gc.collect()"
   ]
  },
  {
   "cell_type": "code",
   "execution_count": null,
   "metadata": {},
   "outputs": [],
   "source": [
    "### DATA EXTRACTION FOR ACADIAN EXCHANGE MATERIALS: AG6 DATA EXTRACTION\n",
    "\n",
    "### Concatenation aggregator initializing:\n",
    "list_ag6_dataset = []\n",
    "### 5-length country pairs collection:\n",
    "list_empty_requests = list(itertools.product(range((len(ser_UNC_country_id.index) - 1) // int_unc_limit + 1), repeat = 2))#[ : 1]\n",
    "### Looping over 5-length country pairs:\n",
    "while list_empty_requests:\n",
    "    iter_country_pair = list_empty_requests[0]\n",
    "    iter_reporter_group = iter_country_pair[0]    \n",
    "    iter_partner_group = iter_country_pair[1]\n",
    "    print(iter_reporter_group * int_unc_limit, '-', (iter_reporter_group + 1) * int_unc_limit - 1, '/', \n",
    "          iter_partner_group * int_unc_limit, '-', (iter_partner_group + 1) * int_unc_limit - 1)     \n",
    "    ### Country groups preparing:\n",
    "    list_reporter_group = ser_UNC_country_id.iloc[iter_reporter_group * int_unc_limit : (iter_reporter_group + 1) * int_unc_limit].to_list()\n",
    "    list_partner_group = ser_UNC_country_id.iloc[iter_partner_group * int_unc_limit : (iter_partner_group + 1) * int_unc_limit].to_list()    \n",
    "    str_reporter_group = ','.join(ser_UNC_country_id.iloc[iter_reporter_group * int_unc_limit : (iter_reporter_group + 1) * int_unc_limit].to_list())\n",
    "    str_partner_group = ','.join(ser_UNC_country_id.iloc[iter_partner_group * int_unc_limit : (iter_partner_group + 1) * int_unc_limit].to_list())    \n",
    "    ### Last single country list control to avoid endless loop:\n",
    "    if ((len(list_reporter_group) > 1) | (len(list_partner_group) > 1)):\n",
    "        ### Request performing:\n",
    "        df_iter_dataset = get_un_comtrade_data(str_reporter_group, str_partner_group, str_trade_flow = 'Both', \n",
    "                                               str_classification_code = ','.join(list_ag6_registry), str_classification_system = 'H0')\n",
    "        if (len(df_iter_dataset) > 1):        \n",
    "            list_ag6_dataset += [df_iter_dataset]\n",
    "            print(len(df_iter_dataset), 'rows of data loaded successfully')\n",
    "            list_empty_requests.remove(iter_country_pair)\n",
    "        elif (df_iter_dataset.isna().sum().sum() == len(df_iter_dataset.columns)):\n",
    "            print('Empty response (no data found)')\n",
    "            list_empty_requests.remove(iter_country_pair)\n",
    "        else:\n",
    "            print('API error occured')\n",
    "        gc.collect()\n",
    "        time.sleep(int_seconds_to_sleep)    \n",
    "    else:\n",
    "        print('Two lists contains the same single country: no data')\n",
    "        list_empty_requests.remove(iter_country_pair)                                \n",
    "#    break"
   ]
  },
  {
   "cell_type": "code",
   "execution_count": 16,
   "metadata": {},
   "outputs": [
    {
     "data": {
      "text/plain": [
       "0"
      ]
     },
     "execution_count": 16,
     "metadata": {},
     "output_type": "execute_result"
    }
   ],
   "source": [
    "### DATA EXTRACTION FOR ACADIAN EXCHANGE MATERIALS: AG6 DATA SAVING\n",
    "\n",
    "df_ag6_data = pd.concat(list_ag6_dataset)\n",
    "del list_ag6_dataset\n",
    "gc.collect()\n",
    "### Raw data saving:\n",
    "df_ag6_data.to_hdf(path_or_buf = 'Data_Files/Source_Files/unc_raw_ag6_acadian.h5', key = 'acadian', mode = 'w')\n",
    "del df_ag6_data\n",
    "gc.collect()"
   ]
  },
  {
   "cell_type": "code",
   "execution_count": 14,
   "metadata": {},
   "outputs": [],
   "source": [
    "### DATA EXTRACTION FOR ACADIAN EXCHANGE MATERIALS: PREPARING TO CONNECT\n",
    "\n",
    "str_acadian_to_hs = 'Data_Files/Source_Files/Acadian_to_HS1992_AG4.xlsx'\n",
    "\n",
    "df_acadian_to_hs = pd.read_excel(engine = 'openpyxl', io = str_acadian_to_hs, sheet_name = 0, \n",
    "                                 header = 0, parse_dates = False, dtype = str,\n",
    "                                 na_values = list_na_excel_values, keep_default_na = False)\n",
    "### AG2/AG4 connection preparing:\n",
    "df_acadian_to_hs_ag4 = df_acadian_to_hs.copy()\n",
    "df_acadian_to_hs_ag4.loc[df_acadian_to_hs_ag4['HS Correspondent Code'] == '0000', 'HS Correspondent Code'] = df_acadian_to_hs_ag4['HS Parent Code']\n",
    "df_acadian_to_hs_ag4 = df_acadian_to_hs_ag4[['HS Correspondent Code', 'Commodity AG4']].drop_duplicates().reset_index(drop = True)\n",
    "df_acadian_to_hs_ag4.columns = ['Commodity_ID', 'Commodity_Name']\n",
    "df_acadian_to_hs_ag4.sort_values('Commodity_Name', inplace = True)\n",
    "df_acadian_to_hs_ag4['Flag'] = 0\n",
    "df_acadian_to_hs_ag4.loc[df_acadian_to_hs_ag4['Commodity_Name'].isin(df_acadian_to_hs.loc[df_acadian_to_hs['AG6 Code'].notna(), 'Commodity AG4'].values), 'Flag'] = 1\n",
    "### AG6 connection preparing:\n",
    "df_acadian_to_hs_ag6 = df_acadian_to_hs.copy()\n",
    "df_acadian_to_hs_ag6.loc[df_acadian_to_hs_ag6['HS Correspondent Code'] == '0000', 'HS Correspondent Code'] = df_acadian_to_hs_ag6['HS Parent Code']\n",
    "df_acadian_to_hs_ag6 = df_acadian_to_hs_ag6.merge(df_acadian_to_hs_ag6['AG6 Code'].str.split('\\n', expand = True), left_index = True, right_index = True)\n",
    "ser_acadian_to_hs_ag6 = pd.concat([df_acadian_to_hs_ag6[0], df_acadian_to_hs_ag6[1]], names = ['AG6'], keys = ['0', '1']).droplevel(0).dropna().sort_index()\n",
    "ser_acadian_to_hs_ag6.name = 'Commodity_ID'\n",
    "df_acadian_to_hs_ag6 = ser_acadian_to_hs_ag6.to_frame().join(df_acadian_to_hs_ag6, how = 'right')\n",
    "df_acadian_to_hs_ag6.loc[df_acadian_to_hs_ag6['Commodity_ID'].isna(), 'Commodity_ID'] = \\\n",
    "                df_acadian_to_hs_ag6.loc[df_acadian_to_hs_ag6['Commodity_ID'].isna(), 'HS Correspondent Code']\n",
    "df_acadian_to_hs_ag6 = df_acadian_to_hs_ag6[['Commodity_ID', 'Commodity AG6']].drop_duplicates().reset_index(drop = True)\n",
    "df_acadian_to_hs_ag6.columns = ['Commodity_ID', 'Commodity_Name']\n",
    "df_acadian_to_hs_ag6.sort_values('Commodity_Name', inplace = True)\n",
    "df_acadian_to_hs_ag6 = df_acadian_to_hs_ag6[df_acadian_to_hs_ag6['Commodity_ID'].str.len() == 6]\n",
    "df_acadian_to_hs_ag6['Flag'] = 2\n",
    "### Aggregating connections:\n",
    "df_acadian_to_hs_full = pd.concat([df_acadian_to_hs_ag4, df_acadian_to_hs_ag6]).sort_values('Commodity_ID')"
   ]
  },
  {
   "cell_type": "code",
   "execution_count": 20,
   "metadata": {},
   "outputs": [],
   "source": [
    "### DATA EXTRACTION FOR ACADIAN EXCHANGE MATERIALS: CONNECTION\n",
    "\n",
    "### Raw dara loading & concatenating:\n",
    "df_ag2_acadian_raw = pd.read_hdf(path_or_buf = 'Data_Files/Source_Files/unc_raw_ag2_acadian.h5', key = 'acadian')\n",
    "df_ag4_acadian_raw = pd.read_hdf(path_or_buf = 'Data_Files/Source_Files/unc_raw_ag4_acadian.h5', key = 'acadian')\n",
    "df_ag6_acadian_raw = pd.read_hdf(path_or_buf = 'Data_Files/Source_Files/unc_raw_ag6_acadian.h5', key = 'acadian')\n",
    "df_full_acadian_raw = pd.concat([df_ag2_acadian_raw, df_ag4_acadian_raw, df_ag6_acadian_raw], ignore_index = True)\n",
    "del df_ag2_acadian_raw\n",
    "del df_ag4_acadian_raw\n",
    "del df_ag6_acadian_raw\n",
    "gc.collect()\n",
    "### Codes replacing with names:\n",
    "df_full_acadian_raw['Reporter_ID'].replace(dict(zip(list(map(int, ser_UNC_country_id.values)), ser_UNC_country_id.index.to_list())), inplace = True)\n",
    "df_full_acadian_raw['Partner_ID'].replace(dict(zip(list(map(int, ser_UNC_country_id.values)), ser_UNC_country_id.index.to_list())), inplace = True)\n",
    "df_full_acadian_raw.loc[All, 'Partner_ID'].replace({'ZZ': 'World'}, inplace = True)\n",
    "df_full_acadian_raw['Flow_ID'].replace({1: 'Import', 2: 'Export'}, inplace = True)\n",
    "### Adding connections to data:\n",
    "df_full_acadian_res = df_full_acadian_raw.merge(df_acadian_to_hs_full, on = 'Commodity_ID')\n",
    "del df_full_acadian_raw\n",
    "gc.collect()\n",
    "### Data ordering:\n",
    "df_full_acadian_res.columns = ['Date', 'Reporter', 'Partner', 'Flow', 'Commodity_ID', 'Value', 'Commodity_Name', 'Flag']\n",
    "df_full_acadian_res.sort_values(by = ['Date', 'Reporter', 'Partner', 'Flow', 'Commodity_Name'])\n",
    "df_full_acadian_res = df_full_acadian_res.astype({'Reporter': 'category', \n",
    "                                                  'Partner': 'category', \n",
    "                                                  'Flow': 'category', \n",
    "                                                  'Commodity_ID': 'category',\n",
    "                                                  'Commodity_Name': 'category',\n",
    "                                                  'Flag': 'category'})\n",
    "### Dropping Saudi Arabia to Taiwan Export (https://unstats.un.org/wiki/display/comtrade/Taiwan%2C+Province+of+China+Trade+data) \n",
    "df_full_acadian_res.drop(df_full_acadian_res[(df_full_acadian_res['Reporter'] == 'SA') & (df_full_acadian_res['Partner'] == 'TW')].index, inplace = True)\n",
    "### Data saving:\n",
    "ser_full_acadian_res = df_full_acadian_res.set_index(['Date', 'Reporter', 'Partner', 'Flow', 'Commodity_ID', 'Commodity_Name', 'Flag']).squeeze()\n",
    "ser_full_acadian_res.to_hdf(path_or_buf = 'Data_Files/Source_Files/unc_res_acadian.h5', key = 'acadian', mode = 'w', format = 'table', complevel = 9)"
   ]
  },
  {
   "cell_type": "code",
   "execution_count": null,
   "metadata": {},
   "outputs": [],
   "source": []
  }
 ],
 "metadata": {
  "kernelspec": {
   "display_name": "Python 3 (ipykernel)",
   "language": "python",
   "name": "python3"
  },
  "language_info": {
   "codemirror_mode": {
    "name": "ipython",
    "version": 3
   },
   "file_extension": ".py",
   "mimetype": "text/x-python",
   "name": "python",
   "nbconvert_exporter": "python",
   "pygments_lexer": "ipython3",
   "version": "3.7.4"
  }
 },
 "nbformat": 4,
 "nbformat_minor": 4
}
