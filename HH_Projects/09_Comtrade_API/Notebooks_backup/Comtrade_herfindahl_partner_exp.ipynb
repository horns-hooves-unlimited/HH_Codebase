{
 "cells": [
  {
   "cell_type": "code",
   "execution_count": 1,
   "metadata": {},
   "outputs": [],
   "source": [
    "### RUN EVERY TIME: COMTRADE DATASETS EXTRACTING"
   ]
  },
  {
   "cell_type": "code",
   "execution_count": 2,
   "metadata": {},
   "outputs": [],
   "source": [
    "### RUN EVERY TIME: INITIALIZATION\n",
    "\n",
    "import pandas as pd\n",
    "import numpy as np\n",
    "import gc\n",
    "import os\n",
    "import datetime\n",
    "import time\n",
    "import networkx as nx"
   ]
  },
  {
   "cell_type": "code",
   "execution_count": 3,
   "metadata": {},
   "outputs": [
    {
     "name": "stdout",
     "output_type": "stream",
     "text": [
      "python version:  3.7.4\n",
      "numpy version:  1.17.2\n",
      "pandas version:  0.25.3\n"
     ]
    }
   ],
   "source": [
    "### RUN EVERY TIME: VERSION CONTROL\n",
    "\n",
    "from platform import python_version\n",
    "print('python version: ', python_version())\n",
    "print('numpy version: ', np.__version__)\n",
    "print('pandas version: ', pd.__version__)"
   ]
  },
  {
   "cell_type": "code",
   "execution_count": 18,
   "metadata": {},
   "outputs": [],
   "source": [
    "### RUN EVERY TIME: MAIN CONSTANTS\n",
    "\n",
    "### MultiIndex level slice constant:\n",
    "All = slice(None)\n",
    "### Universe path:\n",
    "str_path_universe = 'Data_Files/Source_Files/acadian_universe.xlsx'\n",
    "### Dates:\n",
    "str_date_end = '2022-12-31'\n",
    "date_start = pd.Timestamp('1989-12-29')\n",
    "date_end = pd.Timestamp(str_date_end)\n",
    "date_ison = pd.Timestamp('1994-12-31')\n",
    "### NA for MS Excel files:\n",
    "list_na_excel_values = ['', '#N/A', '#N/A N/A', '#NA', '-1.#IND', '-1.#QNAN', '-NaN', '-nan', '1.#IND', '1.#QNAN', 'N/A', 'NULL', 'NaN', 'n/a', 'nan', 'null',\n",
    "                        '#N/A Requesting Data...', '#N/A Invalid Security', '#N/A Field Not Applicable', '---']\n",
    "### Checked EBOPS service IDs list (df_serv_to_gics['GICS Group Code']):\n",
    "list_services = ['206', '210', '214', '218', '219', '223', '227', '231', '232', '237', '240', '246', '247', '250', '251', '254', '255', '256', '257', '258', '263',\n",
    "                 '264', '269', '272', '273', '288', '289', '292', '293', '294', '310', '391', '431', '500', '888', '891', '892', '894', '950']\n",
    "### Augmented bilateral export:\n",
    "str_path_export_bilateral = 'Data_Files/Source_Files/comtrade_export_bilateral.h5'\n",
    "### Export key:\n",
    "str_key_unc_export = 'export_augmented'\n",
    "### Augmented bilateral import:\n",
    "str_path_import_bilateral = 'Data_Files/Source_Files/comtrade_import_bilateral.h5'\n",
    "### Import key:\n",
    "str_key_unc_import = 'import_augmented'\n",
    "### Augmented bilateral import:\n",
    "str_path_gdp = 'Data_Files/Source_Files/gdp_dataset.h5'\n",
    "### Factor file:\n",
    "str_path_herfindahl_partner_exp = 'Data_Files/Source_Files/comtrade_herfindahl_partner_exp.h5'\n",
    "str_key_comtrade_factor = 'comtrade_factor'\n",
    "str_path_factor_xlsx = 'Data_Files/Source_Files/comtrade_factor.xlsx'\n",
    "### IOnteraction variable file:\n",
    "str_path_interact_var = 'Data_Files/Source_Files/comtrade_interact_exp.h5'\n",
    "str_key_interact_var = 'interact_var'"
   ]
  },
  {
   "cell_type": "code",
   "execution_count": 5,
   "metadata": {},
   "outputs": [],
   "source": [
    "### DEFINING WEIGHTED AVERAGE CALCULATOR\n",
    "\n",
    "def weighted_average(ser_data, ser_weight = None, int_min_count = 0):\n",
    "    ### Default output:\n",
    "    num_result = np.NaN\n",
    "    ### Checking for data presence:\n",
    "    if (ser_data.count() > int_min_count):       \n",
    "        ### Checking for weights dataset:\n",
    "        if ser_weight is None:\n",
    "            ### Calculating of simple average:\n",
    "            num_result = np.nanmean(ser_data.values)\n",
    "        else:\n",
    "            ### Weights filtering:\n",
    "            list_weight = ser_weight[ser_data.dropna().index].values\n",
    "            ### Checking for weights presence:\n",
    "            if np.nansum(list_weight):\n",
    "                ### Data filtering:\n",
    "                list_data = ser_data.dropna().values\n",
    "                ### Weighted average calculating:\n",
    "                num_result = np.nansum(list_data * list_weight) / np.nansum(list_weight)\n",
    "    ### Results output:\n",
    "    return num_result"
   ]
  },
  {
   "cell_type": "code",
   "execution_count": 6,
   "metadata": {},
   "outputs": [],
   "source": [
    "### DEFINING COUNTRY CODES EXTRACTOR\n",
    "\n",
    "def get_country_codes(use_local_copy = False):  \n",
    "    ### In case if URL is unavailable:\n",
    "    if (use_local_copy):\n",
    "        url_country_code = 'Data_Files/Source_Files/countrycode.html'\n",
    "    ### Online extraction:\n",
    "    else:\n",
    "        url_country_code = 'https://countrycode.org/'\n",
    "    df_full_codes = pd.read_html(url_country_code, index_col = 'COUNTRY')[0]\n",
    "    df_full_codes[['ISO SHORT', 'ISO LONG']] = df_full_codes['ISO CODES'].str.split(' / ', expand = True)\n",
    "    df_result = df_full_codes[['ISO SHORT', 'ISO LONG']].sort_index()    \n",
    "    df_result.index = df_result.index.str.upper()\n",
    "    ### Results output:\n",
    "    return df_result"
   ]
  },
  {
   "cell_type": "code",
   "execution_count": 7,
   "metadata": {},
   "outputs": [],
   "source": [
    "### DEFINING EXTRACTION UNIVERSE DATA FROM MS EXCEL SOURCE (TO BE IGNORED IN PRODUCT CODE)\n",
    "\n",
    "def ison_membership_converting(str_path_universe, date_end, bool_daily = False, int_backfill_months = 0):\n",
    "    ### Defining business-month-end reindexation on country level:\n",
    "    def country_modify(ser_raw_country, date_end):\n",
    "        ser_res_country = ser_raw_country.droplevel(0).resample('MS').last().resample('BM').last()\n",
    "        range_country = pd.date_range(ser_res_country.index[0], date_end, freq = 'BM')\n",
    "        return ser_res_country.reindex(range_country).ffill()\n",
    "    ### Markets encoding table:\n",
    "    dict_markets = {50 : 'DM', 57 : 'EM', 504 : 'FM', 0: np.NaN}     \n",
    "    ### Loading source file:\n",
    "    df_raw_universe = pd.read_excel(engine = 'openpyxl', io = str_path_universe, sheet_name = 'Switchers', header = 0, parse_dates = True, index_col = [0, 1],\n",
    "                                 na_values = ['', '#N/A', '#N/A N/A', '#NA', '-1.#IND', '-1.#QNAN', '-NaN', '-nan', '1.#IND', \n",
    "                                             '1.#QNAN', 'N/A', 'NULL', 'NaN', 'n/a', 'nan', 'null'], keep_default_na = False)\n",
    "    ### Converting source file:\n",
    "    df_raw_universe.index.names = ['Country', 'Date']\n",
    "    ser_raw_universe = df_raw_universe['Region']\n",
    "    ser_raw_universe.fillna(0, inplace = True)\n",
    "    ser_raw_universe.name = 'Market'\n",
    "    ### By country reindexation and translation:\n",
    "    ser_res_universe = ser_raw_universe.groupby('Country').apply(country_modify, date_end)\n",
    "    ser_res_universe.index.names = ['Country', 'Date']\n",
    "    ser_res_universe = ser_res_universe.replace(dict_markets).reorder_levels([1, 0]).sort_index() \n",
    "    ### Expanding membership for primary regions members by backfilling:\n",
    "    if int_backfill_months:\n",
    "        ### List of regions:\n",
    "        list_region = list(ser_res_universe.dropna().unique())\n",
    "        ### Initialising of collection of series with backfilled data for each region:\n",
    "        list_ison_backfill = []\n",
    "        ### Regions looping:\n",
    "        for iter_region in list_region:\n",
    "            ### Defining start of region date:\n",
    "            date_first_valid = ser_res_universe.loc[ser_res_universe == iter_region].first_valid_index()[0]\n",
    "            ### Creating dates index to backfilling:\n",
    "            idx_date_backfill = pd.date_range(end = date_first_valid, periods = int_backfill_months + 1, freq = 'BM')[: -1]\n",
    "            ### Creating primary countries index to backfilling:            \n",
    "            idx_region_backfill = ser_res_universe.loc[ser_res_universe == iter_region].loc[date_first_valid, All].index.get_level_values('Country')\n",
    "            ### Creating full index:\n",
    "            idx_ison_backfill = pd.MultiIndex.from_product([idx_date_backfill, idx_region_backfill])\n",
    "            ### Series with backfilled data:\n",
    "            list_ison_backfill.append(pd.Series(iter_region, index = idx_ison_backfill))\n",
    "        ### Combination of backfilled series and original ISON data:    \n",
    "        ser_res_universe = ser_res_universe.combine_first(pd.concat(list_ison_backfill, axis = 0)).sort_index()  \n",
    "        ser_res_universe.index.names = ['Date', 'Country']\n",
    "    ### Converting to daily frequency:\n",
    "    if bool_daily:\n",
    "        ser_res_universe = ser_res_universe.reset_index('Country').groupby('Country').resample('B').ffill()['Market'].swaplevel().sort_index()    \n",
    "    ### Results output:\n",
    "    ser_res_universe.name = 'Market'\n",
    "    return ser_res_universe"
   ]
  },
  {
   "cell_type": "code",
   "execution_count": 8,
   "metadata": {},
   "outputs": [],
   "source": [
    "### RUN EVERY TIME: COMMON DATA EXTRACTION STEPS\n",
    "\n",
    "### World Country Codes:\n",
    "df_country_codes = get_country_codes()\n",
    "### ISON membership history:\n",
    "ser_ison_membership = ison_membership_converting(str_path_universe, pd.to_datetime(str_date_end))\n",
    "ser_ison_membership.index.names = ['Date', 'Reporter']\n",
    "### ISON Members:\n",
    "list_ison_countries = sorted(ser_ison_membership.index.get_level_values('Reporter').unique())\n",
    "### ISON status for the last available date:\n",
    "ser_ison_status = ser_ison_membership.loc[ser_ison_membership.index[-1][0]]"
   ]
  },
  {
   "cell_type": "code",
   "execution_count": 9,
   "metadata": {},
   "outputs": [
    {
     "name": "stdout",
     "output_type": "stream",
     "text": [
      "0 : Extraction started\n",
      "0 : Filtering performed\n",
      "0 : Chunk added to container\n",
      "1 : Extraction started\n",
      "1 : Filtering performed\n",
      "1 : Chunk added to container\n",
      "2 : Extraction started\n",
      "2 : Filtering performed\n",
      "2 : Chunk added to container\n",
      "3 : Extraction started\n",
      "3 : Filtering performed\n",
      "3 : Chunk added to container\n",
      "4 : Extraction started\n",
      "4 : Filtering performed\n",
      "4 : Chunk added to container\n",
      "5 : Extraction started\n",
      "5 : Filtering performed\n",
      "5 : Chunk added to container\n",
      "6 : Extraction started\n",
      "6 : Filtering performed\n",
      "6 : Chunk added to container\n",
      "7 : Extraction started\n",
      "7 : Filtering performed\n",
      "7 : Chunk added to container\n",
      "8 : Extraction started\n",
      "8 : Filtering performed\n",
      "8 : Chunk added to container\n",
      "9 : Extraction started\n",
      "9 : Filtering performed\n",
      "9 : Chunk added to container\n",
      "10 : Extraction started\n",
      "10 : Filtering performed\n",
      "10 : Chunk added to container\n",
      "11 : Extraction started\n",
      "11 : Filtering performed\n",
      "11 : Chunk added to container\n",
      "12 : Extraction started\n",
      "12 : Filtering performed\n",
      "12 : Chunk added to container\n",
      "13 : Extraction started\n",
      "13 : Filtering performed\n",
      "13 : Chunk added to container\n",
      "14 : Extraction started\n",
      "14 : Filtering performed\n",
      "14 : Chunk added to container\n",
      "15 : Extraction started\n",
      "15 : Filtering performed\n",
      "15 : Chunk added to container\n",
      "16 : Extraction started\n",
      "16 : Filtering performed\n",
      "16 : Chunk added to container\n",
      "17 : Extraction started\n",
      "17 : Filtering performed\n",
      "17 : Chunk added to container\n",
      "18 : Extraction started\n",
      "18 : Filtering performed\n",
      "18 : Chunk added to container\n",
      "19 : Extraction started\n",
      "19 : Filtering performed\n",
      "19 : Chunk added to container\n",
      "20 : Extraction started\n",
      "20 : Filtering performed\n",
      "20 : Chunk added to container\n",
      "21 : Extraction started\n",
      "21 : Filtering performed\n",
      "21 : Chunk added to container\n",
      "22 : Extraction started\n",
      "22 : Filtering performed\n",
      "22 : Chunk added to container\n",
      "23 : Extraction started\n",
      "23 : Filtering performed\n",
      "23 : Chunk added to container\n",
      "24 : Extraction started\n",
      "24 : Filtering performed\n",
      "24 : Chunk added to container\n"
     ]
    },
    {
     "data": {
      "text/plain": [
       "76"
      ]
     },
     "execution_count": 9,
     "metadata": {},
     "output_type": "execute_result"
    }
   ],
   "source": [
    "### BILATERAL EXPORT DATA LOADING TO PERFORM FACTOR CALCULATION\n",
    "\n",
    "gc.collect()\n",
    "list_export_chunks = []\n",
    "for num_iter_number, ser_iter_chunk in enumerate(pd.read_hdf(str_path_export_bilateral, key = str_key_unc_export, chunksize = 1000000)):\n",
    "    gc.collect()\n",
    "    print(num_iter_number, ': Extraction started')\n",
    "    ser_iter_chunk = ser_iter_chunk[ser_iter_chunk > 0.0].astype('int32')\n",
    "    df_iter_chunk = ser_iter_chunk.reset_index()\n",
    "    df_iter_chunk = df_iter_chunk[(df_iter_chunk['Reporter'] != df_iter_chunk['Partner']) & \\\n",
    "                                  ((df_iter_chunk['Type'] == 'Goods') | df_iter_chunk['Commodity_ID'].isin(list_services)) & (df_iter_chunk['Reporter'] != 'World') & \\\n",
    "                                  (df_iter_chunk['Partner'] != 'World')]\\\n",
    "                               .drop('Type', axis = 1)    \n",
    "    print(num_iter_number, ': Filtering performed')    \n",
    "    ser_iter_chunk = df_iter_chunk.set_index(['Date', 'Reporter', 'Partner', 'Commodity_ID']).squeeze().sort_index()\n",
    "    del df_iter_chunk\n",
    "    gc.collect()\n",
    "    list_export_chunks.append(ser_iter_chunk)\n",
    "    print(num_iter_number, ': Chunk added to container')    \n",
    "ser_bilateral_export = pd.concat(list_export_chunks, axis = 0, sort = False).sort_index()\n",
    "ser_bilateral_export.name = 'Export'\n",
    "del list_export_chunks\n",
    "gc.collect()"
   ]
  },
  {
   "cell_type": "code",
   "execution_count": 10,
   "metadata": {},
   "outputs": [
    {
     "data": {
      "text/plain": [
       "76"
      ]
     },
     "execution_count": 10,
     "metadata": {},
     "output_type": "execute_result"
    }
   ],
   "source": [
    "### BILATERAL IMPORT DATA LOADING TO PERFORM FACTOR CALCULATION\n",
    "\n",
    "gc.collect()\n",
    "list_import_chunks = []\n",
    "for num_iter_number, ser_iter_chunk in enumerate(pd.read_hdf(str_path_import_bilateral, key = str_key_unc_import, chunksize = 1000000)):\n",
    "    gc.collect()\n",
    "    print(num_iter_number, ': Extraction started')\n",
    "    ser_iter_chunk = ser_iter_chunk[ser_iter_chunk > 0.0].astype('int32')\n",
    "    df_iter_chunk = ser_iter_chunk.reset_index()\n",
    "    df_iter_chunk = df_iter_chunk[(df_iter_chunk['Reporter'] != df_iter_chunk['Partner']) & \\\n",
    "                                  ((df_iter_chunk['Type'] == 'Goods') | df_iter_chunk['Commodity_ID'].isin(list_services)) & (df_iter_chunk['Reporter'] != 'World') & \\\n",
    "                                  (df_iter_chunk['Partner'] != 'World')]\\\n",
    "                               .drop('Type', axis = 1)     \n",
    "    print(num_iter_number, ': Filtering performed')    \n",
    "    ser_iter_chunk = df_iter_chunk.set_index(['Date', 'Reporter', 'Partner', 'Commodity_ID']).squeeze().sort_index()\n",
    "    del df_iter_chunk\n",
    "    gc.collect()\n",
    "    list_import_chunks.append(ser_iter_chunk)\n",
    "    print(num_iter_number, ': Chunk added to container')    \n",
    "ser_bilateral_import = pd.concat(list_import_chunks, axis = 0, sort = False).sort_index()\n",
    "ser_bilateral_import.name = 'Import'\n",
    "del list_import_chunks\n",
    "gc.collect()"
   ]
  },
  {
   "cell_type": "code",
   "execution_count": 12,
   "metadata": {},
   "outputs": [],
   "source": [
    "### REPORTER / PARTNER BY DATE TOTAL EXPORT & IMPORT & TRADE\n",
    "\n",
    "gc.collect()\n",
    "### Export totals:\n",
    "ser_country_partner_export = ser_bilateral_export.groupby(['Date', 'Reporter', 'Partner']).sum().dropna()\n",
    "ser_country_partner_export.name = 'Export'\n",
    "### Import totals:\n",
    "ser_country_partner_import = ser_bilateral_import.groupby(['Date', 'Reporter', 'Partner']).sum().dropna()\n",
    "ser_country_partner_import.name = 'Import'\n",
    "### Adding trade totals:\n",
    "df_country_partner_trade = pd.concat([ser_country_partner_export, ser_country_partner_import], axis = 1)\n",
    "df_country_partner_trade = df_country_partner_trade.unstack('Date').stack('Date', dropna = False)\n",
    "df_country_partner_trade = df_country_partner_trade.unstack('Reporter').stack('Reporter', dropna = False)\n",
    "df_country_partner_trade = df_country_partner_trade.unstack('Partner').stack('Partner', dropna = False).fillna(0.0)\n",
    "df_country_partner_trade['Trade'] = df_country_partner_trade['Export'] + df_country_partner_trade['Import']"
   ]
  },
  {
   "cell_type": "code",
   "execution_count": 14,
   "metadata": {},
   "outputs": [],
   "source": [
    "### TOTAL COMMODITY BY DATE TRADE VOLUME & CROSS-SECTIONAL WEIGHT\n",
    "\n",
    "### Total commodity volume:\n",
    "ser_partner_trade = df_country_partner_trade.groupby(['Date', 'Partner'])['Trade'].sum().swaplevel().sort_index()\n",
    "ser_partner_trade.name = 'Partner_Total'\n",
    "df_partner_trade = ser_partner_trade.to_frame()\n",
    "### Total commodity weight:\n",
    "df_partner_trade['Partner_Weight'] = df_partner_trade['Partner_Total'].groupby('Date').transform(lambda df_group: df_group / df_group.sum())\n",
    "### Resampling to monthly data:\n",
    "def reindex_monthly(df_group):\n",
    "    df_result = df_group.droplevel(['Partner']).reindex(pd.date_range(df_group.index[0][-1], str_date_end, freq = 'BY'))\n",
    "    df_result = df_result.resample('BM').ffill()\n",
    "    return df_result\n",
    "df_partner_trade = df_partner_trade.groupby('Partner').apply(reindex_monthly)\n",
    "df_partner_trade.index.names = ['Partner', 'Date']"
   ]
  },
  {
   "cell_type": "code",
   "execution_count": 16,
   "metadata": {},
   "outputs": [
    {
     "name": "stderr",
     "output_type": "stream",
     "text": [
      "C:\\ProgramData\\Anaconda3\\lib\\site-packages\\ipykernel_launcher.py:8: RuntimeWarning: divide by zero encountered in double_scalars\n",
      "  \n"
     ]
    }
   ],
   "source": [
    "### CALCULATION OF HERFINDAHL INDEX BY PARTNER\n",
    "\n",
    "gc.collect()\n",
    "### Defining Herfindahl index calculation:\n",
    "def get_herfindahl(ser_group):\n",
    "    if (ser_group.count() > 0):\n",
    "        ser_norm = ser_group / ser_group.sum()\n",
    "        flo_herfindahl = 1 / ((ser_norm ** 2).sum() ** (1 / 2))\n",
    "    else:\n",
    "        flo_herfindahl = np.NaN\n",
    "    return flo_herfindahl\n",
    "\n",
    "ser_herfindahl_partner = ser_bilateral_export.loc[:, ser_ison_status.index].groupby(['Date', 'Reporter', 'Partner']).apply(get_herfindahl)\n",
    "ser_herfindahl_partner.replace({np.inf: np.NaN}, inplace = True)\n",
    "ser_herfindahl_partner.name = 'Herfindahl_Local'"
   ]
  },
  {
   "cell_type": "code",
   "execution_count": 17,
   "metadata": {},
   "outputs": [],
   "source": [
    "### JOINING WEIGTHS TO REPORTER / COMMODITY BY DATE TRADE\n",
    "\n",
    "gc.collect()\n",
    "\n",
    "df_country_partner_ranked = df_country_partner_trade.loc[(All, ser_ison_status.index, All), 'Trade'].to_frame()\\\n",
    "                                .join(ser_herfindahl_partner.loc[:, ser_ison_status.index, :], how = 'right')\\\n",
    "                                .reorder_levels(['Partner', 'Reporter', 'Date']).sort_index()\n",
    "del df_country_partner_trade\n",
    "gc.collect()\n",
    "### Resampling to monthly data:\n",
    "def reindex_monthly(df_group):\n",
    "    df_result = df_group.droplevel(['Partner', 'Reporter']).reindex(pd.date_range(df_group.index[0][-1], str_date_end, freq = 'BY'))\n",
    "    df_result = df_result.resample('BM').ffill()\n",
    "    return df_result\n",
    "df_country_partner_ranked = df_country_partner_ranked.groupby(['Partner', 'Reporter']).apply(reindex_monthly)\n",
    "df_country_partner_ranked.index.names = ['Partner', 'Reporter', 'Date']"
   ]
  },
  {
   "cell_type": "code",
   "execution_count": 20,
   "metadata": {},
   "outputs": [],
   "source": [
    "### ADDING ALTERNATIVE PAGERANK & CALCULATING OF WEIGHTED AVERAGE FOR BOTH OPTIONS:\n",
    "\n",
    "df_country_partner_isoned = df_country_partner_ranked.reorder_levels(['Partner', 'Date', 'Reporter']).sort_index()\n",
    "del df_country_partner_ranked\n",
    "gc.collect()\n",
    "df_country_partner_isoned = df_country_partner_isoned.join(df_partner_trade['Partner_Weight']).reorder_levels(['Partner', 'Reporter', 'Date']).sort_index()\n",
    "gc.collect()\n",
    "### Page Rank Weighted by Commodity by Date Weight:\n",
    "df_country_partner_isoned['Herfindahl_Global'] = df_country_partner_isoned['Herfindahl_Local'] * df_country_partner_isoned['Partner_Weight']\n",
    "### Page Ranks Weighting:\n",
    "df_pg_rank_mean = pd.DataFrame()\n",
    "for iter_pg_rank in ['Herfindahl_Local', 'Herfindahl_Global']:\n",
    "    df_pg_rank_mean[iter_pg_rank] = df_country_partner_isoned.groupby(['Reporter', 'Date'])\\\n",
    "                                                             .apply(lambda df_group: weighted_average(df_group[iter_pg_rank], df_group['Trade']))\n",
    "    df_pg_rank_mean[iter_pg_rank] = df_pg_rank_mean[iter_pg_rank].replace({np.inf: np.NaN})"
   ]
  },
  {
   "cell_type": "code",
   "execution_count": 21,
   "metadata": {},
   "outputs": [],
   "source": [
    "### FACTOR SAVING\n",
    "\n",
    "df_pg_rank_mean.to_excel(str_path_factor_xlsx, merge_cells = False)\n",
    "df_pg_rank_mean.to_hdf(str_path_herfindahl_partner_exp, str_key_comtrade_factor)"
   ]
  },
  {
   "cell_type": "code",
   "execution_count": 23,
   "metadata": {},
   "outputs": [],
   "source": [
    "### FACTORS COMPARISION\n",
    "\n",
    "ser_herfindahl_comm = pd.read_hdf(str_path_herfindahl_comm_exp, str_key_comtrade_factor)['Herfindahl_Local']\n",
    "ser_herfindahl_comm.name = 'By_Commodity'\n",
    "ser_herfindahl_partner = pd.read_hdf(str_path_herfindahl_partner_exp, str_key_comtrade_factor)['Herfindahl_Local']\n",
    "ser_herfindahl_partner.name = 'By_Partner'\n",
    "df_test = pd.concat([ser_herfindahl_comm, ser_herfindahl_partner], axis = 1)"
   ]
  },
  {
   "cell_type": "code",
   "execution_count": 24,
   "metadata": {},
   "outputs": [
    {
     "data": {
      "text/plain": [
       "<AxesSubplot:xlabel='Date'>"
      ]
     },
     "execution_count": 24,
     "metadata": {},
     "output_type": "execute_result"
    },
    {
     "data": {
      "image/png": "[encoded data removed]",
      "text/plain": [
       "<Figure size 432x288 with 1 Axes>"
      ]
     },
     "metadata": {
      "needs_background": "light"
     },
     "output_type": "display_data"
    }
   ],
   "source": [
    "### TEMP\n",
    "\n",
    "df_test.groupby('Date').corr().loc[(All, 'By_Commodity'), 'By_Partner'].droplevel(-1).plot()"
   ]
  },
  {
   "cell_type": "code",
   "execution_count": 32,
   "metadata": {},
   "outputs": [
    {
     "data": {
      "text/plain": [
       "Partner  Reporter  Date      \n",
       "YT       AE        2020-12-31    0.000000e+00\n",
       "AN       AE        2020-12-31    0.000000e+00\n",
       "RE       AE        2020-12-31    0.000000e+00\n",
       "PN       AE        2020-12-31    1.501321e-07\n",
       "CC       AE        2020-12-31    3.160774e-07\n",
       "                                     ...     \n",
       "FR       AE        2020-12-31    3.378574e-02\n",
       "JP       AE        2020-12-31    3.602711e-02\n",
       "DE       AE        2020-12-31    7.195969e-02\n",
       "US       AE        2020-12-31    1.161016e-01\n",
       "CN       AE        2020-12-31    1.195674e-01\n",
       "Name: Partner_Weight, Length: 224, dtype: float64"
      ]
     },
     "execution_count": 32,
     "metadata": {},
     "output_type": "execute_result"
    }
   ],
   "source": [
    "### TEMP\n",
    "\n",
    "df_country_partner_isoned.loc[(All, 'AE', '2020-12-31'), 'Partner_Weight'].sort_values()"
   ]
  },
  {
   "cell_type": "code",
   "execution_count": null,
   "metadata": {},
   "outputs": [],
   "source": []
  }
 ],
 "metadata": {
  "kernelspec": {
   "display_name": "Python 3 (ipykernel)",
   "language": "python",
   "name": "python3"
  },
  "language_info": {
   "codemirror_mode": {
    "name": "ipython",
    "version": 3
   },
   "file_extension": ".py",
   "mimetype": "text/x-python",
   "name": "python",
   "nbconvert_exporter": "python",
   "pygments_lexer": "ipython3",
   "version": "3.7.4"
  }
 },
 "nbformat": 4,
 "nbformat_minor": 4
}
