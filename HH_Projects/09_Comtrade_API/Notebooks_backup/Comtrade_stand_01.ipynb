{
 "cells": [
  {
   "cell_type": "code",
   "execution_count": 1,
   "metadata": {},
   "outputs": [],
   "source": [
    "### RUN EVERY TIME: INITIALIZATION\n",
    "\n",
    "import pandas as pd # Data structures\n",
    "from pandas.plotting import register_matplotlib_converters # Drawing\n",
    "register_matplotlib_converters() # Drawing\n",
    "import gc # Garbage collection"
   ]
  },
  {
   "cell_type": "code",
   "execution_count": 2,
   "metadata": {},
   "outputs": [],
   "source": [
    "### RUN EVERY TIME: MAIN CONSTANTS\n",
    "\n",
    "### MultiIndex level slice constant:\n",
    "All = slice(None)\n",
    "### UN Comtrade aggregated data containers:\n",
    "str_path_acadian = 'Data_Files/Source_Files/unc_res_acadian.h5'\n",
    "str_key_acadian = 'acadian'"
   ]
  },
  {
   "cell_type": "code",
   "execution_count": 3,
   "metadata": {},
   "outputs": [],
   "source": [
    "### DEFINING DATA EXTRACTION PROCEDURE\n",
    "\n",
    "def get_comtrade_data(bool_full = True, # Use False for values only and True for values with description\n",
    "                      str_type = None, # Use 'Commodity' or 'Service'\n",
    "                      str_comtrade_id = None, # Use UN COmtrade EBOPS ID or SITC AG2 ID i.e. ''\n",
    "                      str_flow = None, # Use 'Export' or 'Import'\n",
    "                      str_start_year = None, # Use 'YYYY' format i.e. '1994'\n",
    "                      str_end_year = None, # Use 'YYYY' format i.i '2015'\n",
    "                      str_reporter = None, # Use ISO short codes for countries\n",
    "                      str_partner = None, # Use 'ZZ' for 'World' and ISO short codes for countries i.e. 'US'\n",
    "                      str_group = None, # Use GICS Industry Group Code i.e. '1510'\n",
    "                      str_industry = None # Use GICS Industry Code i.e. '151040'\n",
    "                     ):\n",
    "    ### Request parameters preparation:\n",
    "    dict_conditions = {}\n",
    "    if (str_type is not None):\n",
    "        dict_conditions['Type'] = 'str_type'\n",
    "    else:\n",
    "        dict_conditions['Type'] = None\n",
    "    if (str_comtrade_id is not None):        \n",
    "        dict_conditions['Category_ID'] = 'str_comtrade_id'\n",
    "    else:\n",
    "        dict_conditions['Category_ID'] = None     \n",
    "    if (str_flow is not None):        \n",
    "        dict_conditions['Flow'] = 'str_flow'\n",
    "    else:\n",
    "        dict_conditions['Flow'] = None           \n",
    "    if (str_start_year is not None):\n",
    "        str_start_date = (pd.to_datetime(str_start_year) + pd.offsets.BYearEnd()).strftime('%Y-%m-%d')\n",
    "    else:\n",
    "        str_start_date = '1981-12-31'\n",
    "    if (str_end_year is not None):\n",
    "        str_end_date = (pd.to_datetime(str_end_year) + pd.offsets.BYearEnd()).strftime('%Y-%m-%d')\n",
    "    else:\n",
    "        str_end_date = '2020-12-31'\n",
    "    if (str_reporter is not None):        \n",
    "        dict_conditions['Reporter'] = 'str_reporter'\n",
    "    else:\n",
    "        dict_conditions['Reporter'] = None           \n",
    "    if (str_partner is not None):        \n",
    "        dict_conditions['Partner'] = 'str_partner'\n",
    "    else:\n",
    "        dict_conditions['Partner'] = None           \n",
    "    if (str_group is not None):        \n",
    "        dict_conditions['GICS_Group_Code'] = 'str_group'\n",
    "    else:\n",
    "        dict_conditions['GICS_Group_Code'] = None           \n",
    "    if (str_industry is not None):        \n",
    "        dict_conditions['GICS_Industry_Code'] = 'str_industry'\n",
    "    else:\n",
    "        dict_conditions['GICS_Industry_Code'] = None           \n",
    "        \n",
    "    if ((str_start_date == '1981-12-31') & (str_end_date == '2020-12-31')):\n",
    "        list_filter = []\n",
    "    else:\n",
    "        list_filter = ['(Date >= str_start_date) & (Date <= str_end_date)']\n",
    "    ### Request constructing:\n",
    "    for iter_level in dict_conditions:\n",
    "        if (dict_conditions[iter_level] is not None):\n",
    "            list_filter.append('(' + iter_level + ' == ' + dict_conditions[iter_level] + ')')\n",
    "    print(' & '.join(list_filter))\n",
    "    ### Request implementing:\n",
    "    if bool_full:\n",
    "        df_res = pd.read_hdf(path_or_buf = str_path_unc_ind_annual, key = str_key_ind_descripted, where = ' & '.join(list_filter))\n",
    "        return df_res\n",
    "    else:\n",
    "        ser_res = pd.read_hdf(path_or_buf = str_path_unc_ind_annual, key = str_key_ind_codes_only, where = ' & '.join(list_filter))\n",
    "        return ser_res        "
   ]
  },
  {
   "cell_type": "code",
   "execution_count": 4,
   "metadata": {},
   "outputs": [
    {
     "name": "stdout",
     "output_type": "stream",
     "text": [
      "(Type == str_type) & (Category_ID == str_comtrade_id) & (Flow == str_flow) & (Reporter == str_reporter) & (Partner == str_partner)\n"
     ]
    },
    {
     "ename": "FileNotFoundError",
     "evalue": "File Data_Files/Source_Files/unc_industry_annual.h5 does not exist",
     "output_type": "error",
     "traceback": [
      "\u001b[1;31m---------------------------------------------------------------------------\u001b[0m",
      "\u001b[1;31mFileNotFoundError\u001b[0m                         Traceback (most recent call last)",
      "\u001b[1;32m~\\AppData\\Local\\Temp/ipykernel_4352/3801240438.py\u001b[0m in \u001b[0;36m<module>\u001b[1;34m\u001b[0m\n\u001b[0;32m      2\u001b[0m \u001b[1;33m\u001b[0m\u001b[0m\n\u001b[0;32m      3\u001b[0m \u001b[0mgc\u001b[0m\u001b[1;33m.\u001b[0m\u001b[0mcollect\u001b[0m\u001b[1;33m(\u001b[0m\u001b[1;33m)\u001b[0m\u001b[1;33m\u001b[0m\u001b[1;33m\u001b[0m\u001b[0m\n\u001b[1;32m----> 4\u001b[1;33m \u001b[0mdisplay\u001b[0m\u001b[1;33m(\u001b[0m\u001b[0mget_comtrade_data\u001b[0m\u001b[1;33m(\u001b[0m\u001b[0mbool_full\u001b[0m \u001b[1;33m=\u001b[0m \u001b[1;32mTrue\u001b[0m\u001b[1;33m,\u001b[0m \u001b[0mstr_comtrade_id\u001b[0m \u001b[1;33m=\u001b[0m \u001b[1;34m'210'\u001b[0m\u001b[1;33m,\u001b[0m \u001b[0mstr_type\u001b[0m \u001b[1;33m=\u001b[0m \u001b[1;34m'Service'\u001b[0m\u001b[1;33m,\u001b[0m \u001b[0mstr_flow\u001b[0m \u001b[1;33m=\u001b[0m \u001b[1;34m'Export'\u001b[0m\u001b[1;33m,\u001b[0m \u001b[0mstr_reporter\u001b[0m \u001b[1;33m=\u001b[0m \u001b[1;34m'US'\u001b[0m\u001b[1;33m,\u001b[0m \u001b[0mstr_partner\u001b[0m \u001b[1;33m=\u001b[0m \u001b[1;34m'CA'\u001b[0m\u001b[1;33m)\u001b[0m\u001b[1;33m)\u001b[0m\u001b[1;33m\u001b[0m\u001b[1;33m\u001b[0m\u001b[0m\n\u001b[0m",
      "\u001b[1;32m~\\AppData\\Local\\Temp/ipykernel_4352/3815135925.py\u001b[0m in \u001b[0;36mget_comtrade_data\u001b[1;34m(bool_full, str_type, str_comtrade_id, str_flow, str_start_year, str_end_year, str_reporter, str_partner, str_group, str_industry)\u001b[0m\n\u001b[0;32m     62\u001b[0m     \u001b[1;31m### Request implementing:\u001b[0m\u001b[1;33m\u001b[0m\u001b[1;33m\u001b[0m\u001b[1;33m\u001b[0m\u001b[0m\n\u001b[0;32m     63\u001b[0m     \u001b[1;32mif\u001b[0m \u001b[0mbool_full\u001b[0m\u001b[1;33m:\u001b[0m\u001b[1;33m\u001b[0m\u001b[1;33m\u001b[0m\u001b[0m\n\u001b[1;32m---> 64\u001b[1;33m         \u001b[0mdf_res\u001b[0m \u001b[1;33m=\u001b[0m \u001b[0mpd\u001b[0m\u001b[1;33m.\u001b[0m\u001b[0mread_hdf\u001b[0m\u001b[1;33m(\u001b[0m\u001b[0mpath_or_buf\u001b[0m \u001b[1;33m=\u001b[0m \u001b[0mstr_path_unc_ind_annual\u001b[0m\u001b[1;33m,\u001b[0m \u001b[0mkey\u001b[0m \u001b[1;33m=\u001b[0m \u001b[0mstr_key_ind_descripted\u001b[0m\u001b[1;33m,\u001b[0m \u001b[0mwhere\u001b[0m \u001b[1;33m=\u001b[0m \u001b[1;34m' & '\u001b[0m\u001b[1;33m.\u001b[0m\u001b[0mjoin\u001b[0m\u001b[1;33m(\u001b[0m\u001b[0mlist_filter\u001b[0m\u001b[1;33m)\u001b[0m\u001b[1;33m)\u001b[0m\u001b[1;33m\u001b[0m\u001b[1;33m\u001b[0m\u001b[0m\n\u001b[0m\u001b[0;32m     65\u001b[0m         \u001b[1;32mreturn\u001b[0m \u001b[0mdf_res\u001b[0m\u001b[1;33m\u001b[0m\u001b[1;33m\u001b[0m\u001b[0m\n\u001b[0;32m     66\u001b[0m     \u001b[1;32melse\u001b[0m\u001b[1;33m:\u001b[0m\u001b[1;33m\u001b[0m\u001b[1;33m\u001b[0m\u001b[0m\n",
      "\u001b[1;32mC:\\ProgramData\\Anaconda3\\lib\\site-packages\\pandas\\io\\pytables.py\u001b[0m in \u001b[0;36mread_hdf\u001b[1;34m(path_or_buf, key, mode, **kwargs)\u001b[0m\n\u001b[0;32m    379\u001b[0m         \u001b[1;32mif\u001b[0m \u001b[1;32mnot\u001b[0m \u001b[0mexists\u001b[0m\u001b[1;33m:\u001b[0m\u001b[1;33m\u001b[0m\u001b[1;33m\u001b[0m\u001b[0m\n\u001b[0;32m    380\u001b[0m             raise FileNotFoundError(\n\u001b[1;32m--> 381\u001b[1;33m                 \u001b[1;34m\"File {path} does not exist\"\u001b[0m\u001b[1;33m.\u001b[0m\u001b[0mformat\u001b[0m\u001b[1;33m(\u001b[0m\u001b[0mpath\u001b[0m\u001b[1;33m=\u001b[0m\u001b[0mpath_or_buf\u001b[0m\u001b[1;33m)\u001b[0m\u001b[1;33m\u001b[0m\u001b[1;33m\u001b[0m\u001b[0m\n\u001b[0m\u001b[0;32m    382\u001b[0m             )\n\u001b[0;32m    383\u001b[0m \u001b[1;33m\u001b[0m\u001b[0m\n",
      "\u001b[1;31mFileNotFoundError\u001b[0m: File Data_Files/Source_Files/unc_industry_annual.h5 does not exist"
     ]
    }
   ],
   "source": [
    "### TEMP\n",
    "\n",
    "gc.collect()\n",
    "display(get_comtrade_data(bool_full = True, str_comtrade_id = '210', str_type = 'Service', str_flow = 'Export', str_reporter = 'US', str_partner = 'CA'))"
   ]
  },
  {
   "cell_type": "code",
   "execution_count": null,
   "metadata": {},
   "outputs": [],
   "source": []
  }
 ],
 "metadata": {
  "kernelspec": {
   "display_name": "Python 3 (ipykernel)",
   "language": "python",
   "name": "python3"
  },
  "language_info": {
   "codemirror_mode": {
    "name": "ipython",
    "version": 3
   },
   "file_extension": ".py",
   "mimetype": "text/x-python",
   "name": "python",
   "nbconvert_exporter": "python",
   "pygments_lexer": "ipython3",
   "version": "3.7.4"
  }
 },
 "nbformat": 4,
 "nbformat_minor": 4
}
