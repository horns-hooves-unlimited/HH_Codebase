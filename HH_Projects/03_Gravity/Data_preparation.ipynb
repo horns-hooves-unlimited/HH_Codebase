{
 "cells": [
  {
   "cell_type": "code",
   "execution_count": 1,
   "metadata": {},
   "outputs": [],
   "source": [
    "### GFD: 3-MONTH TREASURY BILL RATE FOR LOCAL INTEREST RATE"
   ]
  },
  {
   "cell_type": "code",
   "execution_count": 1,
   "metadata": {},
   "outputs": [],
   "source": [
    "### INITIALIZATION\n",
    "\n",
    "import requests\n",
    "import pandas as pd\n",
    "import datetime\n",
    "import os\n",
    "import getpass"
   ]
  },
  {
   "cell_type": "code",
   "execution_count": 3,
   "metadata": {},
   "outputs": [],
   "source": [
    "### DEFINING GFD LOGIN FUNCTION\n",
    "\n",
    "def gfd_auth(username = None, password = None):\n",
    "    \"\"\"\n",
    "    Pulls a GFD API token and stores it as an environmental variable.\n",
    "    Parameters\n",
    "        username: GFD-approved email address.\n",
    "        password: Password for GFD-approved email address.\n",
    "    \"\"\"\n",
    "    if username is None:\n",
    "        username = getpass.getpass('Please enter your GFD Finaeon username: ')\n",
    "\n",
    "    if password is None:\n",
    "        password = getpass.getpass('Please enter your GFD Finaeon password: ')\n",
    "\n",
    "    url = 'https://api.globalfinancialdata.com/login/'\n",
    "    parameters = {'username': username, 'password': password}\n",
    "    resp = requests.post(url, data = parameters)\n",
    "    #check for unsuccessful API returns\n",
    "    if resp.status_code != 200:\n",
    "        raise ValueError('GFD API request failed with HTTP status code %s' % resp.status_code)\n",
    "\n",
    "    json_content = resp.json()\n",
    "    os.environ['GFD_API_TOKEN'] = json_content['token'].strip('\"')\n",
    "    print(\"GFD API token recieved at %s\" % str(datetime.datetime.now()))"
   ]
  },
  {
   "cell_type": "code",
   "execution_count": null,
   "metadata": {},
   "outputs": [],
   "source": [
    "### RUNNING AUTHORIZATION FUNCTION\n",
    "\n",
    "gfd_auth('kaminski.ihar@tut.by', '1990757229')"
   ]
  },
  {
   "cell_type": "code",
   "execution_count": 1,
   "metadata": {},
   "outputs": [],
   "source": [
    "### UN COMTRADE"
   ]
  },
  {
   "cell_type": "code",
   "execution_count": 8,
   "metadata": {},
   "outputs": [],
   "source": [
    "### INITIALIZATION\n",
    "\n",
    "import pandas as pd\n",
    "import requests\n",
    "import time"
   ]
  },
  {
   "cell_type": "code",
   "execution_count": 9,
   "metadata": {},
   "outputs": [],
   "source": [
    "### COUNTRY ISO CODES EXTRACTOR\n",
    "\n",
    "def get_country_codes(use_local_copy = False):  \n",
    "    import pandas as pd\n",
    "    \n",
    "    if (use_local_copy):\n",
    "        url_country_code = 'Data_Files/Source_Files/countrycode.html'\n",
    "    else:\n",
    "        url_country_code = 'https://countrycode.org/'\n",
    "    df_full_codes = pd.read_html(url_country_code, index_col = 'COUNTRY')[0]\n",
    "    df_full_codes[['ISO SHORT', 'ISO LONG']] = df_full_codes['ISO CODES'].str.split(' / ', expand = True)\n",
    "    df_result = df_full_codes[['ISO SHORT', 'ISO LONG']]      \n",
    "    df_result.index = df_result.index.str.upper()\n",
    "\n",
    "    return df_result"
   ]
  },
  {
   "cell_type": "code",
   "execution_count": 10,
   "metadata": {},
   "outputs": [],
   "source": [
    "### DEFINING EXTRACTION UNIVERSE DATA FROM GENERAL MS EXCEL SOURCE\n",
    "\n",
    "def get_market_membership_from_excel():\n",
    "    ### Importing standard modules and date-special modules:\n",
    "    import numpy as np\n",
    "    import pandas as pd\n",
    "    ### Declaring local constants & variables: \n",
    "    path_msci = 'Data_Files/Source_Files/sample_universe.xlsx' ### Path for membership source    \n",
    "    tab_monthly = 'universe_joined'    \n",
    "    arr_markets_needed = ['DM', 'FM', 'EM']   \n",
    "    dict_markets = {50 : 'DM', 57 : 'EM', 504 : 'FM'}\n",
    "    no_slice = slice(None)\n",
    "    ### Extracting universe data:\n",
    "    df_universe = pd.read_excel(io = path_msci, sheet_name = tab_monthly, skiprows = [0, 2], header = 0, parse_dates = True, \n",
    "                                na_values = ['', '#N/A', '#N/A N/A', '#NA', '-1.#IND', '-1.#QNAN', '-NaN', '-nan', '1.#IND', \n",
    "                                             '1.#QNAN', 'N/A', 'NULL', 'NaN', 'n/a', 'nan', 'null'], keep_default_na = False)\n",
    "    df_universe = df_universe.loc[no_slice, ['dates', 'region', 'ctry']]\n",
    "    df_universe.columns = ['Date', 'Market', 'Country']\n",
    "    df_universe.set_index(['Date', 'Country'], inplace = True)\n",
    "    ser_universe = df_universe.squeeze()\n",
    "    ser_universe.sort_index(level = [0, 1], inplace = True)\n",
    "    ser_universe.replace(dict_markets, inplace = True)\n",
    "    ser_market_membership = ser_universe[ser_universe.isin(arr_markets_needed)]\n",
    "    ### Results output:\n",
    "    return ser_market_membership"
   ]
  },
  {
   "cell_type": "code",
   "execution_count": 11,
   "metadata": {},
   "outputs": [],
   "source": [
    "### UN COMTRADE COUNTRIES DATA EXTRACTION AND MODIFICATION\n",
    "\n",
    "def get_un_comtrade_country_id(df_country_codes):\n",
    "    ### Getting UN Comtrade country info from post request:\n",
    "    str_UNC_countries_set = 'http://comtrade.un.org/data/cache/partnerAreas.json'\n",
    "    obj_UNC_countries_set = requests.post(str_UNC_countries_set)\n",
    "    ### Object to dataframe transformation:\n",
    "    list_UNC_countries = obj_UNC_countries_set.json()['results']\n",
    "    df_UNC_countries = pd.DataFrame(list_UNC_countries)\n",
    "    df_UNC_countries.columns = ['UNC ID', 'COUNTRY']\n",
    "    df_UNC_countries['COUNTRY'] = df_UNC_countries['COUNTRY'].str.upper()\n",
    "    df_UNC_countries.replace(dict_map_to_replace, inplace = True)\n",
    "    df_UNC_countries.set_index('COUNTRY', append = False, drop = True, inplace = True)\n",
    "    df_UNC_country_id = df_UNC_countries.join(df_country_codes, on = 'COUNTRY', how = 'left').dropna(how = 'any').reset_index(drop = True)\n",
    "    df_UNC_country_id.drop('ISO LONG', axis = 1, inplace = True)\n",
    "    df_UNC_country_id.columns = ['Comtrade_ID', 'Country']\n",
    "    ser_UNC_country_id = df_UNC_country_id.set_index('Country').squeeze().sort_index()\n",
    "    ### Results output:\n",
    "    return ser_UNC_country_id"
   ]
  },
  {
   "cell_type": "code",
   "execution_count": 12,
   "metadata": {},
   "outputs": [],
   "source": [
    "### UN COMTRADE DATA REQUEST EXECUTION\n",
    "\n",
    "def get_un_comtrade_data(str_rep_country_id, str_par_country_id, int_max_rec = 50000, str_type = 'C', str_freq = 'M', str_classification_system = 'HS', \n",
    "                         str_period = 'all', str_trade_flow = 'All', str_classification_code = 'TOTAL'):\n",
    "    ### Trade flows codification:\n",
    "    dict_trade_flow = {'All': 'all', 'Import': '1', 'Export': '2', 're-Export': '3', 're-Import': '4'}\n",
    "    ### URL prefix:\n",
    "    str_url_base = 'http://comtrade.un.org/api/get?'\n",
    "    ### Request URL preparation:\n",
    "    str_url_request = str_url_base\n",
    "    list_parameters = []\n",
    "    list_parameters.append('max=' + str(int_max_rec))\n",
    "    list_parameters.append('type=' + str_type)\n",
    "    list_parameters.append('freq=' + str_freq)\n",
    "    list_parameters.append('px=' + str_classification_system)\n",
    "    list_parameters.append('ps=' + str_period)\n",
    "    list_parameters.append('r=' + str_rep_country_id)\n",
    "    list_parameters.append('p=' + str_par_country_id)\n",
    "    list_parameters.append('rg=' + dict_trade_flow[str_trade_flow])\n",
    "    list_parameters.append('cc=' + str_classification_code)    \n",
    "    list_parameters.append('fmt=json')        \n",
    "    str_url_request += '&'.join(list_parameters)\n",
    "    ### Getting UN Comtrade data from post request:    \n",
    "    obj_unc_dataset = requests.post(str_url_request)\n",
    "    ### Object to dataframe transformation:    \n",
    "    list_unc_dataset = obj_unc_dataset.json()['dataset']\n",
    "    if (len(list_unc_dataset) > 0):\n",
    "        df_unc_dataset = pd.DataFrame(list_unc_dataset)[['period', 'rtCode', 'ptCode', 'TradeValue']]\n",
    "        df_unc_dataset.columns = ['Period', 'Reporter_ID', 'Partner_ID', 'Value']    \n",
    "        df_unc_dataset['Date'] = pd.to_datetime(df_unc_dataset['Period'], format = '%Y%m') + pd.offsets.BMonthEnd()    \n",
    "        df_unc_dataset = df_unc_dataset[['Date', 'Reporter_ID', 'Partner_ID', 'Value']]\n",
    "    else:\n",
    "        df_unc_dataset = pd.DataFrame(columns = ['Date', 'Reporter_ID', 'Partner_ID', 'Value'])\n",
    "    \n",
    "    return df_unc_dataset"
   ]
  },
  {
   "cell_type": "code",
   "execution_count": 13,
   "metadata": {},
   "outputs": [],
   "source": [
    "### GENERAL DATA PREPARATION\n",
    "\n",
    "### Constants:\n",
    "int_seconds_to_sleep = 35\n",
    "int_unc_limit = 5\n",
    "All = slice(None)\n",
    "str_path_unc_dataset = 'Data_Files/Source_Files/unc_dataset.h5'\n",
    "str_unc_exp_total_dataset = 'export_total_dataset'\n",
    "str_unc_imp_total_dataset = 'import_total_dataset'\n",
    "### UN Comtrade country names to rename:\n",
    "dict_map_to_replace = {'BOLIVIA (PLURINATIONAL STATE OF)': 'BOLIVIA',\n",
    "                       'BOSNIA HERZEGOVINA': 'BOSNIA AND HERZEGOVINA',\n",
    "                       'BR. INDIAN OCEAN TERR.': 'BRITISH INDIAN OCEAN TERRITORY',\n",
    "                       'BR. VIRGIN ISDS': 'BRITISH VIRGIN ISLANDS',\n",
    "                       'BRUNEI DARUSSALAM': 'BRUNEI',\n",
    "                       'CABO VERDE': 'CAPE VERDE',\n",
    "                       'CAYMAN ISDS': 'CAYMAN ISLANDS',\n",
    "                       'CENTRAL AFRICAN REP.': 'CENTRAL AFRICAN REPUBLIC',\n",
    "                       'CHRISTMAS ISDS': 'CHRISTMAS ISLAND',\n",
    "                       'COCOS ISDS': 'COCOS ISLANDS',\n",
    "                       'COOK ISDS': 'COOK ISLANDS',                    \n",
    "                       'CURAÇAO': 'CURACAO',                          \n",
    "                       'CZECHIA': 'CZECH REPUBLIC',                    \n",
    "                       'DEM. REP. OF THE CONGO': 'DEMOCRATIC REPUBLIC OF THE CONGO',                          \n",
    "                       'DOMINICAN REP.': 'DOMINICAN REPUBLIC',                    \n",
    "                       'TIMOR-LESTE': 'EAST TIMOR',                          \n",
    "                       'FALKLAND ISDS (MALVINAS)': 'FALKLAND ISLANDS',                    \n",
    "                       'FAEROE ISDS': 'FAROE ISLANDS',                                           \n",
    "                       'CHINA, HONG KONG SAR': 'HONG KONG',                          \n",
    "                       'CÔTE D\\'IVOIRE': 'IVORY COAST',                                           \n",
    "                       'LAO PEOPLE\\'S DEM. REP.': 'LAOS',                                         \n",
    "                       'CHINA, MACAO SAR': 'MACAU',                          \n",
    "                       'TFYR OF MACEDONIA': 'MACEDONIA',                    \n",
    "                       'MARSHALL ISDS': 'MARSHALL ISLANDS',                          \n",
    "                       'FS MICRONESIA': 'MICRONESIA',                    \n",
    "                       'REP. OF MOLDOVA': 'MOLDOVA',                          \n",
    "                       'NETH. ANTILLES': 'NETHERLANDS ANTILLES',                          \n",
    "                       'DEM. PEOPLE\\'S REP. OF KOREA': 'NORTH KOREA',                          \n",
    "                       'N. MARIANA ISDS': 'NORTHERN MARIANA ISLANDS',                    \n",
    "                       'STATE OF PALESTINE': 'PALESTINE',                          \n",
    "                       'CONGO': 'REPUBLIC OF THE CONGO',                          \n",
    "                       'RÉUNION': 'REUNION',                    \n",
    "                       'RUSSIAN FEDERATION': 'RUSSIA',                          \n",
    "                       'SOLOMON ISDS': 'SOLOMON ISLANDS',                    \n",
    "                       'REP. OF KOREA': 'SOUTH KOREA',                                       \n",
    "                       'UNITED REP. OF TANZANIA': 'TANZANIA',     \n",
    "                       'OTHER ASIA, NES': 'TAIWAN',\n",
    "                       'TURKS AND CAICOS ISDS': 'TURKS AND CAICOS ISLANDS',                    \n",
    "                       'US VIRGIN ISDS': 'U.S. VIRGIN ISLANDS',                          \n",
    "                       'USA': 'UNITED STATES',                          \n",
    "                       'HOLY SEE (VATICAN CITY STATE)': 'VATICAN',                    \n",
    "                       'VIET NAM': 'VIETNAM',                          \n",
    "                       'WALLIS AND FUTUNA ISDS': 'WALLIS AND FUTUNA'\n",
    "                      }\n",
    "### ISO country codes loading:\n",
    "df_country_codes = get_country_codes()\n",
    "### ISON membership loading:\n",
    "ser_market_membership = get_market_membership_from_excel()\n",
    "### Getting UN Comtrade country IDs:\n",
    "ser_UNC_country_id = get_un_comtrade_country_id(df_country_codes)"
   ]
  },
  {
   "cell_type": "code",
   "execution_count": null,
   "metadata": {},
   "outputs": [],
   "source": [
    "### EXPORT DATA EXRACTION SCRIPT\n",
    "\n",
    "### Filtering ISON countries only:\n",
    "ser_UNC_country_id = ser_UNC_country_id.reindex(ser_market_membership.index.get_level_values(1).unique().to_list())\n",
    "### Concatenation aggregator initializing:\n",
    "list_dataset = []\n",
    "### Reporter country looping (5 country groups):\n",
    "for iter_reporter_group in range((len(ser_UNC_country_id.index) - 1) // int_unc_limit + 1):\n",
    "    ### Partner country looping (5 country groups):\n",
    "    for iter_partner_group in range((len(ser_UNC_country_id.index) - 1) // int_unc_limit + 1):\n",
    "        print(iter_reporter_group * int_unc_limit, '-', (iter_reporter_group + 1) * int_unc_limit - 1, '/', \n",
    "              iter_partner_group * int_unc_limit, '-', (iter_partner_group + 1) * int_unc_limit - 1)\n",
    "#        if (iter_partner_group > 1):\n",
    "#            break        \n",
    "        ### Country groups preparing:\n",
    "        str_reporter_group = ','.join(ser_UNC_country_id.iloc[iter_reporter_group * int_unc_limit : (iter_reporter_group + 1) * int_unc_limit].to_list())\n",
    "        str_partner_group = ','.join(ser_UNC_country_id.iloc[iter_partner_group * int_unc_limit : (iter_partner_group + 1) * int_unc_limit].to_list())    \n",
    "        ### Request performing:\n",
    "        df_iter_dataset = get_un_comtrade_data(str_reporter_group, str_partner_group, str_trade_flow = 'Export')\n",
    "        list_dataset += [df_iter_dataset]\n",
    "        ### Pause for API limitations:\n",
    "        time.sleep(int_seconds_to_sleep)            \n",
    "#    break\n",
    "### Results concatenating:\n",
    "df_loop_dataset = pd.concat(list_dataset, axis = 0, sort = False, ignore_index = True)[['Date', 'Reporter_ID', 'Partner_ID', 'Value']]\n",
    "df_loop_dataset = df_loop_dataset.astype({'Reporter_ID': 'int16', 'Partner_ID': 'int16', 'Value': 'int64'})\n",
    "### UN Comtrade country codes replacing to ISON country codes:\n",
    "df_loop_dataset.loc[All, ['Reporter_ID', 'Partner_ID']] = df_loop_dataset.loc[All, ['Reporter_ID', 'Partner_ID']]\\\n",
    "                                                                         .replace(list(map(int, ser_UNC_country_id.values)), ser_UNC_country_id.index.to_list())\n",
    "### Series indexing:\n",
    "ser_unc_dataset = df_loop_dataset.set_index(['Date', 'Reporter_ID', 'Partner_ID'], drop = True).squeeze()\n",
    "### Data saving:\n",
    "ser_unc_dataset.to_hdf(path_or_buf = str_path_unc_dataset, key = str_unc_exp_total_dataset, mode = 'w')"
   ]
  },
  {
   "cell_type": "code",
   "execution_count": null,
   "metadata": {},
   "outputs": [],
   "source": [
    "### IMPORT DATA EXRACTION SCRIPT\n",
    "\n",
    "### Filtering ISON countries only:\n",
    "ser_UNC_country_id = ser_UNC_country_id.reindex(ser_market_membership.index.get_level_values(1).unique().to_list())\n",
    "### Concatenation aggregator initializing:\n",
    "list_dataset = []\n",
    "### Reporter country looping (5 country groups):\n",
    "for iter_reporter_group in range((len(ser_UNC_country_id.index) - 1) // int_unc_limit + 1):\n",
    "    ### Partner country looping (5 country groups):    \n",
    "    for iter_partner_group in range((len(ser_UNC_country_id.index) - 1) // int_unc_limit + 1):\n",
    "        print(iter_reporter_group * int_unc_limit, '-', (iter_reporter_group + 1) * int_unc_limit - 1, '/', \n",
    "              iter_partner_group * int_unc_limit, '-', (iter_partner_group + 1) * int_unc_limit - 1)\n",
    "#        if (iter_partner_group > 1):\n",
    "#            break        \n",
    "        ### Country groups preparing:\n",
    "        str_reporter_group = ','.join(ser_UNC_country_id.iloc[iter_reporter_group * int_unc_limit : (iter_reporter_group + 1) * int_unc_limit].to_list())\n",
    "        str_partner_group = ','.join(ser_UNC_country_id.iloc[iter_partner_group * int_unc_limit : (iter_partner_group + 1) * int_unc_limit].to_list())    \n",
    "        ### Request performing:        \n",
    "        df_iter_dataset = get_un_comtrade_data(str_reporter_group, str_partner_group, str_trade_flow = 'Import')\n",
    "        list_dataset += [df_iter_dataset]\n",
    "        ### Pause for API limitations:        \n",
    "        time.sleep(int_seconds_to_sleep)            \n",
    "#    break\n",
    "### Results concatenating:\n",
    "df_loop_dataset = pd.concat(list_dataset, axis = 0, sort = False, ignore_index = True)[['Date', 'Reporter_ID', 'Partner_ID', 'Value']]\n",
    "df_loop_dataset = df_loop_dataset.astype({'Reporter_ID': 'int16', 'Partner_ID': 'int16', 'Value': 'int64'})\n",
    "### UN Comtrade country codes replacing to ISON country codes:\n",
    "df_loop_dataset.loc[All, ['Reporter_ID', 'Partner_ID']] = df_loop_dataset.loc[All, ['Reporter_ID', 'Partner_ID']]\\\n",
    "                                                                         .replace(list(map(int, ser_UNC_country_id.values)), ser_UNC_country_id.index.to_list())\n",
    "### Series indexing:\n",
    "ser_unc_dataset = df_loop_dataset.set_index(['Date', 'Reporter_ID', 'Partner_ID'], drop = True).squeeze()\n",
    "### Data saving:\n",
    "ser_unc_dataset.to_hdf(path_or_buf = str_path_unc_dataset, key = str_unc_imp_total_dataset, mode = 'r+')"
   ]
  },
  {
   "cell_type": "code",
   "execution_count": null,
   "metadata": {},
   "outputs": [],
   "source": [
    "### TEST: COMPARING WITH ONLINE DATA\n",
    "\n",
    "ser_unc_total_export = pd.read_hdf(path_or_buf = str_path_unc_dataset, key = str_unc_exp_total_dataset)\n",
    "ser_unc_total_import = pd.read_hdf(path_or_buf = str_path_unc_dataset, key = str_unc_imp_total_dataset)\n",
    "print(ser_unc_total_export.loc[All, 'AT', 'BE'].tail())\n",
    "print(ser_unc_total_import.loc[All, 'AT', 'BE'].tail())"
   ]
  },
  {
   "cell_type": "code",
   "execution_count": 1,
   "metadata": {},
   "outputs": [],
   "source": [
    "### BIS: BILATERAL BANK LENDING"
   ]
  },
  {
   "cell_type": "code",
   "execution_count": 2,
   "metadata": {},
   "outputs": [],
   "source": [
    "### INITIALIZATION\n",
    "\n",
    "import pandas as pd\n",
    "import requests\n",
    "import zipfile\n",
    "import io"
   ]
  },
  {
   "cell_type": "code",
   "execution_count": 3,
   "metadata": {},
   "outputs": [],
   "source": [
    "### DEFINING EXTRACTION UNIVERSE DATA FROM GENERAL MS EXCEL SOURCE\n",
    "\n",
    "def get_market_membership_from_excel():\n",
    "    ### Importing standard modules and date-special modules:\n",
    "    import numpy as np\n",
    "    import pandas as pd\n",
    "    ### Declaring local constants & variables: \n",
    "    path_msci = 'Data_Files/Source_Files/sample_universe.xlsx' ### Path for membership source    \n",
    "    tab_monthly = 'universe_joined'    \n",
    "    arr_markets_needed = ['DM', 'FM', 'EM']   \n",
    "    dict_markets = {50 : 'DM', 57 : 'EM', 504 : 'FM'}\n",
    "    no_slice = slice(None)\n",
    "    ### Extracting universe data:\n",
    "    df_universe = pd.read_excel(io = path_msci, sheet_name = tab_monthly, skiprows = [0, 2], header = 0, parse_dates = True, \n",
    "                                na_values = ['', '#N/A', '#N/A N/A', '#NA', '-1.#IND', '-1.#QNAN', '-NaN', '-nan', '1.#IND', \n",
    "                                             '1.#QNAN', 'N/A', 'NULL', 'NaN', 'n/a', 'nan', 'null'], keep_default_na = False)\n",
    "    df_universe = df_universe.loc[no_slice, ['dates', 'region', 'ctry']]\n",
    "    df_universe.columns = ['Date', 'Market', 'Country']\n",
    "    df_universe.set_index(['Date', 'Country'], inplace = True)\n",
    "    ser_universe = df_universe.squeeze()\n",
    "    ser_universe.sort_index(level = [0, 1], inplace = True)\n",
    "    ser_universe.replace(dict_markets, inplace = True)\n",
    "    ser_market_membership = ser_universe[ser_universe.isin(arr_markets_needed)]\n",
    "    ### Results output:\n",
    "    return ser_market_membership"
   ]
  },
  {
   "cell_type": "code",
   "execution_count": 4,
   "metadata": {},
   "outputs": [],
   "source": [
    "### GENERAL DATA PREPARATION\n",
    "\n",
    "### Constants:\n",
    "All = slice(None)\n",
    "str_path_bis_csv = 'Data_Files/Source_Files/bis_bank_loans.csv'\n",
    "str_url_bis_zip = 'https://www.bis.org/statistics/full_bis_lbs_diss_csv.zip'\n",
    "str_csv_file_name = 'WEBSTATS_LBS_D_PUB_DATAFLOW_csv_col.csv'\n",
    "str_path_bis_dataset = 'Data_Files/Source_Files/bis_dataset.h5'\n",
    "str_claim_bis_dataset = 'claim_dataset'\n",
    "### ISON membership loading:\n",
    "ser_market_membership = get_market_membership_from_excel()\n",
    "### BIS dataset filter:\n",
    "list_ison_countries = list(map(str, ser_market_membership.index.get_level_values(1).unique()))\n",
    "tup_bis_filter = (All, 'C', 'A', 'TO1', 'A', '5J', 'A', list_ison_countries, 'A', list_ison_countries, 'N')"
   ]
  },
  {
   "cell_type": "code",
   "execution_count": 5,
   "metadata": {},
   "outputs": [],
   "source": [
    "### CSV LOADING\n",
    "\n",
    "### File downloading:\n",
    "obj_bis_zip = requests.get(str_url_bis_zip)\n",
    "file_bis_zip = zipfile.ZipFile(io.BytesIO(obj_bis_zip.content))\n",
    "### Offline alternative:\n",
    "#df_bis_full_data = pd.read_csv(str_path_bis_csv, index_col = [*range(2, 23, 2)])\n",
    "### DataFrame creating:\n",
    "df_bis_full_data = pd.read_csv(file_bis_zip.open(str_csv_file_name), index_col = [*range(2, 23, 2)])"
   ]
  },
  {
   "cell_type": "code",
   "execution_count": 6,
   "metadata": {},
   "outputs": [],
   "source": [
    "### BIS DATASET MUNGLING\n",
    "\n",
    "### Text columns replacing and date columns stacking:\n",
    "ser_bis_full_data = df_bis_full_data.drop(df_bis_full_data.columns[ : 14], axis = 1).stack()\n",
    "### Quarterly date managing:\n",
    "ser_bis_full_data.index.names = ser_bis_full_data.index.names[ : -1] + ['Date_Q']\n",
    "ser_bis_full_data.name = 'Value'\n",
    "### Dataset filtering:\n",
    "ser_bis_filtered = ser_bis_full_data.loc[tup_bis_filter].reset_index(level = [1, 2, 3, 4, 5, 6, 8, 10], drop = True)\n",
    "ser_bis_filtered = ser_bis_filtered.groupby(ser_bis_filtered.index.names[1 : ], group_keys = False).sum()\n",
    "#### Date resampling to monthly:\n",
    "df_bis_filtered = ser_bis_filtered.reset_index('Date_Q')\n",
    "df_bis_filtered.index.names = ['Reporter_ID', 'Partner_ID']\n",
    "df_bis_filtered['Date_Q'] = df_bis_filtered['Date_Q'].str.replace('-', '')\n",
    "df_bis_filtered['Date'] = pd.to_datetime(df_bis_filtered['Date_Q']) + pd.offsets.BQuarterEnd()\n",
    "df_bis_filtered.drop('Date_Q', axis = 1, inplace = True)\n",
    "ser_bis_monthly = df_bis_filtered.set_index('Date', append = True).squeeze().reorder_levels([2, 0, 1])\n",
    "ser_bis_monthly = ser_bis_monthly.groupby(['Reporter_ID', 'Partner_ID']).\\\n",
    "                                  apply(lambda iter_group: iter_group.droplevel(['Reporter_ID', 'Partner_ID']).resample('BM').bfill())\n",
    "ser_bis_monthly.reorder_levels([2, 0, 1]).to_hdf(path_or_buf = str_path_bis_dataset, key = str_claim_bis_dataset, mode = 'w')"
   ]
  },
  {
   "cell_type": "code",
   "execution_count": 7,
   "metadata": {},
   "outputs": [
    {
     "data": {
      "text/plain": [
       "Date        Reporter_ID  Partner_ID\n",
       "2019-08-30  ZA           ZM            777.820\n",
       "2019-09-30  ZA           ZM            777.820\n",
       "2019-10-31  ZA           ZM            375.176\n",
       "2019-11-29  ZA           ZM            375.176\n",
       "2019-12-31  ZA           ZM            375.176\n",
       "Name: Value, dtype: float64"
      ]
     },
     "execution_count": 7,
     "metadata": {},
     "output_type": "execute_result"
    }
   ],
   "source": [
    "### TEST: RESULTS LOADING\n",
    "\n",
    "pd.read_hdf(path_or_buf = str_path_bis_dataset, key = str_claim_bis_dataset).tail()"
   ]
  },
  {
   "cell_type": "code",
   "execution_count": null,
   "metadata": {},
   "outputs": [],
   "source": [
    "### TEST: COLUMNS LEARNING\n",
    "\n",
    "list_ison = ser_market_membership.index.get_level_values(1).unique().to_list()\n",
    "print(len([iter_country for iter_country in df_bis_full_data['L_PARENT_CTY'].unique() if (iter_country in list_ison)]))\n",
    "print(len([iter_country for iter_country in df_bis_full_data['L_REP_CTY'].unique() if (iter_country in list_ison)]))\n",
    "print(len([iter_country for iter_country in df_bis_full_data['L_CP_COUNTRY'].unique() if (iter_country in list_ison)]))\n",
    "print(df_bis_full_data[(df_bis_full_data['L_REP_CTY'] != '5A') & (df_bis_full_data['L_PARENT_CTY'] != '5J') \\\n",
    "                 & (df_bis_full_data['L_REP_CTY'] != df_bis_full_data['L_PARENT_CTY'])][df_bis_full_data.columns[10 : 20]])\n",
    "#df_bis_full_data[(df_bis_full_data['L_REP_CTY'] == 'US') & (df_bis_full_data['L_CP_COUNTRY'] == 'CA')][df_bis_full_data.columns[ : 23]].head()\n",
    "print(df_bis_full_data['L_DENOM'].unique())"
   ]
  },
  {
   "cell_type": "code",
   "execution_count": 8,
   "metadata": {},
   "outputs": [],
   "source": [
    "### IMF CPIS: BILATERAL EQUITY & DEBT INVESTMENT POSITIONS"
   ]
  },
  {
   "cell_type": "code",
   "execution_count": 9,
   "metadata": {},
   "outputs": [],
   "source": [
    "### INITIALIZATION\n",
    "\n",
    "import pandas as pd\n",
    "import requests\n",
    "import time"
   ]
  },
  {
   "cell_type": "code",
   "execution_count": 10,
   "metadata": {},
   "outputs": [],
   "source": [
    "### DEFINING EXTRACTION UNIVERSE DATA FROM GENERAL MS EXCEL SOURCE\n",
    "\n",
    "def get_market_membership_from_excel():\n",
    "    ### Importing standard modules and date-special modules:\n",
    "    import numpy as np\n",
    "    import pandas as pd\n",
    "    ### Declaring local constants & variables: \n",
    "    path_msci = 'Data_Files/Source_Files/sample_universe.xlsx' ### Path for membership source    \n",
    "    tab_monthly = 'universe_joined'    \n",
    "    arr_markets_needed = ['DM', 'FM', 'EM']   \n",
    "    dict_markets = {50 : 'DM', 57 : 'EM', 504 : 'FM'}\n",
    "    no_slice = slice(None)\n",
    "    ### Extracting universe data:\n",
    "    df_universe = pd.read_excel(io = path_msci, sheet_name = tab_monthly, skiprows = [0, 2], header = 0, parse_dates = True, \n",
    "                                na_values = ['', '#N/A', '#N/A N/A', '#NA', '-1.#IND', '-1.#QNAN', '-NaN', '-nan', '1.#IND', \n",
    "                                             '1.#QNAN', 'N/A', 'NULL', 'NaN', 'n/a', 'nan', 'null'], keep_default_na = False)\n",
    "    df_universe = df_universe.loc[no_slice, ['dates', 'region', 'ctry']]\n",
    "    df_universe.columns = ['Date', 'Market', 'Country']\n",
    "    df_universe.set_index(['Date', 'Country'], inplace = True)\n",
    "    ser_universe = df_universe.squeeze()\n",
    "    ser_universe.sort_index(level = [0, 1], inplace = True)\n",
    "    ser_universe.replace(dict_markets, inplace = True)\n",
    "    ser_market_membership = ser_universe[ser_universe.isin(arr_markets_needed)]\n",
    "    ### Results output:\n",
    "    return ser_market_membership"
   ]
  },
  {
   "cell_type": "code",
   "execution_count": 11,
   "metadata": {},
   "outputs": [],
   "source": [
    "### GENERAL DATA PREPARATION\n",
    "\n",
    "### Constants:\n",
    "All = slice(None)\n",
    "dict_request_headers = {'User-Agent': 'Mozilla/5.0 (Macintosh; Intel Mac OS X 10_9_3) AppleWebKit/537.36 (KHTML, like Gecko) Chrome/35.0.1916.47 Safari/537.36'}\n",
    "str_imf_base_url = 'http://dataservices.imf.org/REST/SDMX_JSON.svc/'\n",
    "str_imf_dataflow_add = 'DataFlow'\n",
    "str_imf_datastructure_add = 'DataStructure/'\n",
    "str_imf_codelist_add = 'CodeList/'\n",
    "str_imf_dataset_add = 'CompactData/'\n",
    "int_seconds_to_sleep = 0.5\n",
    "int_imf_country_limit = 35\n",
    "str_path_imf_dataset = 'Data_Files/Source_Files/cpis_dataset.h5'\n",
    "str_claim_imf_dataset = 'cpis_dataset'"
   ]
  },
  {
   "cell_type": "code",
   "execution_count": 12,
   "metadata": {},
   "outputs": [],
   "source": [
    "### REQUESTS SESSION INITIALIZING\n",
    "\n",
    "request_session = requests.Session()\n",
    "### For avoiding data request errors from IMF Data Service:\n",
    "request_session.headers.update({'User-Agent': 'Mozilla/5.0 (Macintosh; Intel Mac OS X 10_9_3) AppleWebKit/537.36 (KHTML, like Gecko) Chrome/35.0.1916.47 Safari/537.36'})"
   ]
  },
  {
   "cell_type": "code",
   "execution_count": 13,
   "metadata": {},
   "outputs": [
    {
     "name": "stdout",
     "output_type": "stream",
     "text": [
      "CPIS\n"
     ]
    }
   ],
   "source": [
    "### CPIS DATAFLOW SEARCHING\n",
    "\n",
    "obj_imf_dataflow_list = request_session.get(str_imf_base_url + str_imf_dataflow_add).json()\n",
    "df_imf_dataflow = pd.DataFrame(obj_imf_dataflow_list['Structure']['Dataflows']['Dataflow'])\n",
    "df_imf_dataflow = df_imf_dataflow.assign(Description = df_imf_dataflow['Name'].apply(pd.Series)['#text'].values)[['@id', 'Description']]\n",
    "ser_imf_dataflow = df_imf_dataflow.set_index('@id', drop = True).squeeze()\n",
    "### Searching DataFlow code for further requests:\n",
    "str_imf_cpis_id = ser_imf_dataflow[ser_imf_dataflow.str.contains('CPIS')].index[0].replace('DS-', '')\n",
    "print(str_imf_cpis_id)"
   ]
  },
  {
   "cell_type": "code",
   "execution_count": 14,
   "metadata": {},
   "outputs": [
    {
     "name": "stdout",
     "output_type": "stream",
     "text": [
      "          @conceptRef          @codelist @isFrequencyDimension\n",
      "0                FREQ            CL_FREQ                  true\n",
      "1            REF_AREA       CL_AREA_CPIS                   NaN\n",
      "2           INDICATOR  CL_INDICATOR_CPIS                   NaN\n",
      "3          REF_SECTOR     CL_SECTOR_CPIS                   NaN\n",
      "4  COUNTERPART_SECTOR     CL_SECTOR_CPIS                   NaN\n",
      "5    COUNTERPART_AREA       CL_AREA_CPIS                   NaN\n"
     ]
    }
   ],
   "source": [
    "### CPIS DATASTRUCTURE SEARCHING\n",
    "\n",
    "obj_imf_cpis_structure = request_session.get(str_imf_base_url + str_imf_datastructure_add + str_imf_cpis_id).json()\n",
    "df_imf_cpis_params = pd.DataFrame(obj_imf_cpis_structure['Structure']['KeyFamilies']['KeyFamily']['Components']['Dimension'])\\\n",
    "                                [['@conceptRef', '@codelist', '@isFrequencyDimension']]\n",
    "### Receiving DataFlow parameters and code lists for each of them:\n",
    "print(df_imf_cpis_params)"
   ]
  },
  {
   "cell_type": "code",
   "execution_count": 15,
   "metadata": {},
   "outputs": [],
   "source": [
    "### CPIS CODES DESCRIPTION SEARCHING\n",
    "\n",
    "for int_counter, str_param_code in enumerate(df_imf_cpis_params['@codelist']):\n",
    "    if (int_counter >= 0):\n",
    "        time.sleep(int_seconds_to_sleep)    \n",
    "        obj_imf_cpis_param = request_session.get(str_imf_base_url + str_imf_codelist_add + str_param_code).json()\n",
    "        df_imf_cpis_param =  pd.DataFrame(obj_imf_cpis_param['Structure']['CodeLists']['CodeList']['Code'])\n",
    "        ### Receiving values for each code list:\n",
    "        df_imf_cpis_param = df_imf_cpis_param.assign(Text = df_imf_cpis_param['Description'].apply(pd.Series)['#text'].values)[['@value', 'Text']]\n",
    "#        print(int_counter, ':', df_imf_cpis_params.iloc[int_counter, All]['@conceptRef'], ':', str_param_code, ':\\n', \n",
    "#              df_imf_cpis_param.head())\n",
    "    \n",
    "str_cpis_freq = 'B'\n",
    "str_cpis_indicator = 'I_A_T_T_T_BP6_USD'\n",
    "str_cpis_ref_sector = 'T'\n",
    "str_cpis_cp_sector = 'T'\n",
    "list_ison_countries = list(map(str, get_market_membership_from_excel().index.get_level_values(1).unique()))\n",
    "# 0: FREQ == 'B' # Semi-annual frequency - they don't have Quaterly or Monthly frequency\n",
    "# 1: REF_AREA == '??' # Country\n",
    "# 2: INDICATOR  == 'I_A_T_T_T_BP6_USD' # Assets, Total Investment, BPM6, US Dollars\n",
    "# 3: REF_SECTOR == 'T' # Total Holdings (all sectors)\n",
    "# 4: COUNTERPART_SECTOR  == 'T' # Total Holdings (all sectors)\n",
    "# 5: COUNTERPART_AREA == '??' # Country"
   ]
  },
  {
   "cell_type": "code",
   "execution_count": 16,
   "metadata": {},
   "outputs": [],
   "source": [
    "### CPIS REPORTED TOTAL PORTFOLIO INVESTMENT ASSET DATASET RETRIEVING\n",
    "\n",
    "list_cpis_bilateral = [] # List of bilateral dataframes for future concatenation\n",
    "str_cpis_const_url = str_imf_base_url + str_imf_dataset_add + str_imf_cpis_id + '/' # Beggining of request URL\n",
    "### Looping for reporter country groups:\n",
    "for int_ison_reporter_part in range(0, - (len(list_ison_countries) // ( - int_imf_country_limit))):\n",
    "    str_cpis_reporters = '+'.join(list_ison_countries[int_ison_reporter_part * int_imf_country_limit : (int_ison_reporter_part + 1) * int_imf_country_limit])\n",
    "    ### Looping for partner country groups:\n",
    "    for int_ison_partner_part in range(0, - (len(list_ison_countries) // ( - int_imf_country_limit))):\n",
    "        str_cpis_partners = '+'.join(list_ison_countries[int_ison_partner_part * int_imf_country_limit : (int_ison_partner_part + 1) * int_imf_country_limit])    \n",
    "        ### Generating complete request URL:\n",
    "        str_cpis_full_url = str_cpis_const_url + \\\n",
    "                            '.'.join([str_cpis_freq, str_cpis_reporters, str_cpis_indicator, str_cpis_ref_sector, str_cpis_ref_sector, str_cpis_partners])\n",
    "        ### Receiving CPIS dataset from IMF API:\n",
    "        obj_cpis_set = request_session.get(str_cpis_full_url).json()\n",
    "        ### Converting each bilateral dataset to dataframe and it's mungling:\n",
    "        for dict_cpis_pair in obj_cpis_set['CompactData']['DataSet']['Series']:\n",
    "            if isinstance(dict_cpis_pair['Obs'], list):\n",
    "                df_cpis_bilateral = pd.DataFrame(dict_cpis_pair['Obs'])\n",
    "            else:\n",
    "                df_cpis_bilateral = pd.DataFrame([dict_cpis_pair['Obs']])\n",
    "            df_cpis_bilateral = df_cpis_bilateral[['@TIME_PERIOD', '@OBS_VALUE']]\n",
    "            df_cpis_bilateral.columns = ['Date_B', 'Value']\n",
    "            df_cpis_bilateral = df_cpis_bilateral.assign(Reporter_ID = dict_cpis_pair['@REF_AREA'])\n",
    "            df_cpis_bilateral = df_cpis_bilateral.assign(Partner_ID = dict_cpis_pair['@COUNTERPART_AREA'])\n",
    "            list_cpis_bilateral.append(df_cpis_bilateral)   \n",
    "### Bilateral dataset aggregating:\n",
    "df_cpis = pd.concat(list_cpis_bilateral, axis = 0, ignore_index = True)\n",
    "df_cpis = df_cpis[df_cpis['Reporter_ID'] != df_cpis['Partner_ID']]\n",
    "df_cpis = df_cpis.astype({'Reporter_ID': 'str', 'Partner_ID': 'str', 'Value': 'float32'})\n",
    "### Dataframe converting to stadartized format series:\n",
    "df_cpis = pd.concat(list_cpis_bilateral, axis = 0, ignore_index = True)\n",
    "df_cpis = df_cpis[df_cpis['Reporter_ID'] != df_cpis['Partner_ID']]\n",
    "df_cpis = df_cpis.astype({'Reporter_ID': 'str', 'Partner_ID': 'str', 'Value': 'float32'})\n",
    "df_cpis.loc[All, 'Date_B'] = df_cpis['Date_B'].str.replace('-B1', 'Q2').str.replace('-B2', 'Q4')\n",
    "df_cpis['Date'] = pd.to_datetime(df_cpis['Date_B']) + pd.offsets.BQuarterEnd()\n",
    "ser_cpis_data = df_cpis.drop('Date_B', axis = 1).set_index(['Date', 'Reporter_ID', 'Partner_ID']).squeeze().sort_index(level = [1, 2, 0])\n",
    "ser_cpis_data = ser_cpis_data.groupby(['Reporter_ID', 'Partner_ID']).\\\n",
    "                                  apply(lambda iter_group: iter_group.droplevel(['Reporter_ID', 'Partner_ID']).resample('BM').bfill()).reorder_levels([2, 0, 1])\n",
    "### Series saving:\n",
    "ser_cpis_data.to_hdf(path_or_buf = str_path_imf_dataset, key = str_claim_imf_dataset, mode = 'w')"
   ]
  },
  {
   "cell_type": "code",
   "execution_count": 19,
   "metadata": {},
   "outputs": [
    {
     "data": {
      "text/plain": [
       "Date        Reporter_ID  Partner_ID\n",
       "2019-02-28  ZA           ZM            32.391674\n",
       "2019-03-29  ZA           ZM            32.391674\n",
       "2019-04-30  ZA           ZM            32.391674\n",
       "2019-05-31  ZA           ZM            32.391674\n",
       "2019-06-28  ZA           ZM            32.391674\n",
       "Name: Value, dtype: float32"
      ]
     },
     "execution_count": 19,
     "metadata": {},
     "output_type": "execute_result"
    }
   ],
   "source": [
    "### TEST\n",
    "\n",
    "pd.read_hdf(path_or_buf = str_path_imf_dataset, key = str_claim_imf_dataset).tail()"
   ]
  },
  {
   "cell_type": "code",
   "execution_count": 1,
   "metadata": {},
   "outputs": [],
   "source": [
    "### OECD FDI: FOREIGN DIRECT INVESTMENT"
   ]
  },
  {
   "cell_type": "code",
   "execution_count": 2,
   "metadata": {},
   "outputs": [],
   "source": [
    "### INITIALIZATION\n",
    "\n",
    "import pandas as pd\n",
    "import requests\n",
    "import xml.etree.ElementTree as et"
   ]
  },
  {
   "cell_type": "code",
   "execution_count": 3,
   "metadata": {},
   "outputs": [],
   "source": [
    "### DEFINING EXTRACTION UNIVERSE DATA FROM GENERAL MS EXCEL SOURCE\n",
    "\n",
    "def get_market_membership_from_excel():\n",
    "    ### Importing standard modules and date-special modules:\n",
    "    import numpy as np\n",
    "    import pandas as pd\n",
    "    ### Declaring local constants & variables: \n",
    "    path_msci = 'Data_Files/Source_Files/sample_universe.xlsx' ### Path for membership source    \n",
    "    tab_monthly = 'universe_joined'    \n",
    "    arr_markets_needed = ['DM', 'FM', 'EM']   \n",
    "    dict_markets = {50 : 'DM', 57 : 'EM', 504 : 'FM'}\n",
    "    no_slice = slice(None)\n",
    "    ### Extracting universe data:\n",
    "    df_universe = pd.read_excel(io = path_msci, sheet_name = tab_monthly, skiprows = [0, 2], header = 0, parse_dates = True, \n",
    "                                na_values = ['', '#N/A', '#N/A N/A', '#NA', '-1.#IND', '-1.#QNAN', '-NaN', '-nan', '1.#IND', \n",
    "                                             '1.#QNAN', 'N/A', 'NULL', 'NaN', 'n/a', 'nan', 'null'], keep_default_na = False)\n",
    "    df_universe = df_universe.loc[no_slice, ['dates', 'region', 'ctry']]\n",
    "    df_universe.columns = ['Date', 'Market', 'Country']\n",
    "    df_universe.set_index(['Date', 'Country'], inplace = True)\n",
    "    ser_universe = df_universe.squeeze()\n",
    "    ser_universe.sort_index(level = [0, 1], inplace = True)\n",
    "    ser_universe.replace(dict_markets, inplace = True)\n",
    "    ser_market_membership = ser_universe[ser_universe.isin(arr_markets_needed)]\n",
    "    ### Results output:\n",
    "    return ser_market_membership"
   ]
  },
  {
   "cell_type": "code",
   "execution_count": 4,
   "metadata": {},
   "outputs": [],
   "source": [
    "### GENERAL DATA PREPARATION\n",
    "\n",
    "### Constants:\n",
    "All = slice(None)\n",
    "str_oecd_base_url = 'https://stats.oecd.org/sdmx-json/data/'\n",
    "str_oecd_structure_url = 'https://stats.oecd.org/restsdmx/sdmx.ashx/GetDataStructure/'\n",
    "str_fdi_flow_dataset_add = 'FDI_FLOW_CTRY'\n",
    "str_fdi_pos_dataset_add = 'FDI_POS_CTRY'\n",
    "\n",
    "str_path_fdi_dataset = 'Data_Files/Source_Files/oecd_dataset.h5'\n",
    "str_fdi_oecd_dataset = 'fdi_dataset'"
   ]
  },
  {
   "cell_type": "code",
   "execution_count": 5,
   "metadata": {},
   "outputs": [],
   "source": [
    "### REQUESTS SESSION INITIALIZING\n",
    "\n",
    "request_session = requests.Session()\n",
    "### For avoiding data request errors:\n",
    "request_session.headers.update({'User-Agent': 'Mozilla/5.0 (Macintosh; Intel Mac OS X 10_9_3) AppleWebKit/537.36 (KHTML, like Gecko) Chrome/35.0.1916.47 Safari/537.36'})"
   ]
  },
  {
   "cell_type": "code",
   "execution_count": 6,
   "metadata": {},
   "outputs": [],
   "source": [
    "### FDI FLOW STRUCTURE REQUEST\n",
    "\n",
    "obj_oecd_structure = request_session.get(str_oecd_structure_url + str_fdi_flow_dataset_add)\n",
    "xml_tree_root = et.fromstring(obj_oecd_structure.content)\n",
    "### Temp\n",
    "dict_concepts = {}\n",
    "dict_dimensions = {}\n",
    "dict_codelists = {}\n",
    "for xml_tree_child in xml_tree_root:\n",
    "    if xml_tree_child.tag.endswith('Concepts'):\n",
    "        for xml_tree_grand in xml_tree_child:\n",
    "            str_concept_id = xml_tree_grand.attrib['id']\n",
    "            str_concept_name = xml_tree_grand[0].text\n",
    "            dict_concepts[str_concept_id] = str_concept_name\n",
    "    if xml_tree_child.tag.endswith('KeyFamilies'):\n",
    "        for xml_tree_family in xml_tree_child:\n",
    "            for xml_tree_component in xml_tree_family:\n",
    "                if xml_tree_component.tag.endswith('Components'):\n",
    "                    for xml_tree_measure in xml_tree_component:\n",
    "                        if xml_tree_measure.tag.endswith('Dimension'):\n",
    "                            str_concept_id = xml_tree_measure.attrib['conceptRef']\n",
    "                            str_concept_cl_id = xml_tree_measure.attrib['codelist']\n",
    "                            dict_dimensions[str_concept_id] = str_concept_cl_id\n",
    "    if xml_tree_child.tag.endswith('CodeLists'):       \n",
    "        for num_tree_grand, xml_tree_grand in enumerate(xml_tree_child):\n",
    "            str_codelist_id = xml_tree_grand.attrib['id']\n",
    "            dict_codelist = {}\n",
    "            for xml_tree_codelist in xml_tree_grand:                \n",
    "                if xml_tree_codelist.tag.endswith('Code'):\n",
    "                    str_code_id = xml_tree_codelist.attrib['value']\n",
    "                    str_code_value = xml_tree_codelist[0].text\n",
    "                    dict_codelist[str_code_id] = str_code_value\n",
    "            dict_codelists[str_codelist_id] = dict_codelist"
   ]
  },
  {
   "cell_type": "code",
   "execution_count": 7,
   "metadata": {},
   "outputs": [
    {
     "data": {
      "text/plain": [
       "{'COU': 'Reporting country',\n",
       " 'MEASURE': 'Currency',\n",
       " 'MEASURE_PRINCIPLE': 'Measurement principle',\n",
       " 'FDI_TYPE': 'Type of FDI',\n",
       " 'TYPE_ENTITY': 'Type of entity',\n",
       " 'ACCOUNTING_ENTRY': 'Accounting entry',\n",
       " 'LEVEL_COUNTERPART': 'Level of counterpart',\n",
       " 'COUNTERPART_AREA': 'Partner country/territory',\n",
       " 'TIME': 'Year',\n",
       " 'OBS_VALUE': 'Observation Value',\n",
       " 'TIME_FORMAT': 'Time Format',\n",
       " 'OBS_STATUS': 'Observation Status',\n",
       " 'UNIT': 'Unit',\n",
       " 'POWERCODE': 'Unit multiplier',\n",
       " 'REFERENCEPERIOD': 'Reference period'}"
      ]
     },
     "execution_count": 7,
     "metadata": {},
     "output_type": "execute_result"
    }
   ],
   "source": [
    "### Temp\n",
    "\n",
    "dict_concepts"
   ]
  },
  {
   "cell_type": "code",
   "execution_count": 8,
   "metadata": {},
   "outputs": [
    {
     "data": {
      "text/plain": [
       "{'COU': 'CL_FDI_FLOW_CTRY_COU',\n",
       " 'MEASURE': 'CL_FDI_FLOW_CTRY_MEASURE',\n",
       " 'MEASURE_PRINCIPLE': 'CL_FDI_FLOW_CTRY_MEASURE_PRINCIPLE',\n",
       " 'FDI_TYPE': 'CL_FDI_FLOW_CTRY_FDI_TYPE',\n",
       " 'TYPE_ENTITY': 'CL_FDI_FLOW_CTRY_TYPE_ENTITY',\n",
       " 'ACCOUNTING_ENTRY': 'CL_FDI_FLOW_CTRY_ACCOUNTING_ENTRY',\n",
       " 'LEVEL_COUNTERPART': 'CL_FDI_FLOW_CTRY_LEVEL_COUNTERPART',\n",
       " 'COUNTERPART_AREA': 'CL_FDI_FLOW_CTRY_COUNTERPART_AREA',\n",
       " 'TIME': 'CL_FDI_FLOW_CTRY_TIME'}"
      ]
     },
     "execution_count": 8,
     "metadata": {},
     "output_type": "execute_result"
    }
   ],
   "source": [
    "### Temp\n",
    "\n",
    "dict_dimensions"
   ]
  },
  {
   "cell_type": "code",
   "execution_count": null,
   "metadata": {},
   "outputs": [],
   "source": [
    "### Temp\n",
    "\n",
    "dict_codelists['CL_FDI_FLOW_CTRY_COUNTERPART_AREA']"
   ]
  },
  {
   "cell_type": "code",
   "execution_count": 49,
   "metadata": {},
   "outputs": [],
   "source": [
    "### Temp\n",
    "str_test = '.'.join(['USA', 'USD', '', 'T_FA_F', 'ALL', 'NET', 'IMC', ''])\n",
    "obj_oecd_dataset = request_session.get(str_oecd_base_url + str_fdi_flow_dataset_add + '/' + str_test + '/all?detail=DataOnly')"
   ]
  },
  {
   "cell_type": "code",
   "execution_count": 50,
   "metadata": {},
   "outputs": [
    {
     "data": {
      "text/plain": [
       "'{\"header\":{\"id\":\"0c611f29-46c6-4603-bc9e-ee41e7aad43a\",\"test\":false,\"prepared\":\"2020-05-07T10:45:14.5614626Z\",\"sender\":{\"id\":\"OECD\",\"name\":\"Organisation for Economic Co-operation and Development\"},\"links\":[{\"href\":\"https://stats.oecd.org:443/sdmx-json/data/FDI_FLOW_CTRY/USA.USD..T_FA_F.ALL.NET.IMC./all?detail=DataOnly\",\"rel\":\"request\"}]},\"dataSets\":[{\"action\":\"Information\",\"series\":{\"0:0:0:0:0:0:0:0\":{\"observations\":{\"0\":[-807.0],\"1\":[-3246.0],\"2\":[2603.0],\"3\":[64.0],\"4\":[-35.0],\"5\":[-8275.0],\"6\":[3027.0],\"7\":[-1346.0]}},\"0:0:0:0:0:0:0:1\":{\"observations\":{\"2\":[null],\"4\":[181055.0],\"5\":[null],\"7\":[null]}},\"0:0:0:0:0:0:0:2\":{\"observations\":{\"0\":[12154.0],\"1\":[21729.0],\"2\":[19956.0],\"3\":[17489.0],\"4\":[271.0],\"5\":[6739.0],\"6\":[-414.0],\"7\":[-2992.0]}},\"0:0:1:0:0:0:0:3\":{\"observations\":{\"0\":[177.0],\"1\":[477.0],\"2\":[639.0],\"3\":[983.0],\"4\":[198.0],\"5\":[3482.0],\"6\":[1788.0],\"7\":[-443.0]}},\"0:0:0:0:0:0:0:3\":{\"observations\":{\"0\":[2111.0],\"1\":[1667.0],\"2\":[1123.0],\"3\":[299.0],\"4\":[92.0],\"5\":[310.0],\"6\":[1030.0],\"7\":[575.0]}},\"0:0:0:0:0:0:0:4\":{\"observations\":{\"0\":[4494.0],\"1\":[-2798.0],\"2\":[2338.0],\"3\":[-663.0],\"4\":[3014.0],\"5\":[2522.0],\"6\":[1318.0],\"7\":[9937.0]}},\"0:0:1:0:0:0:0:5\":{\"observations\":{\"0\":[18790.0],\"1\":[17326.0],\"2\":[14933.0],\"3\":[23479.0],\"4\":[58887.0],\"5\":[67053.0],\"6\":[71904.0],\"7\":[47469.0]}},\"0:0:0:0:0:0:0:5\":{\"observations\":{\"0\":[48598.0],\"1\":[29608.0],\"2\":[20650.0],\"3\":[30691.0],\"4\":[10114.0],\"5\":[13822.0],\"6\":[18624.0],\"7\":[19695.0]}},\"0:0:0:0:0:0:0:6\":{\"observations\":{\"0\":[4422.0],\"1\":[3740.0],\"2\":[2753.0],\"3\":[617.0],\"4\":[1450.0],\"5\":[346.0],\"6\":[-1793.0],\"7\":[363.0]}},\"0:0:1:0:0:0:0:7\":{\"observations\":{\"0\":[26.0],\"1\":[-32.0],\"2\":[25.0],\"3\":[-4.0],\"4\":[30.0],\"5\":[-4.0],\"6\":[11.0],\"7\":[-59.0]}},\"0:0:0:0:0:0:0:8\":{\"observations\":{\"0\":[null],\"1\":[-8.0],\"2\":[51.0],\"3\":[7.0],\"4\":[-2.0],\"5\":[-80.0],\"6\":[6.0],\"7\":[11.0]}},\"0:0:0:0:0:0:0:9\":{\"observations\":{\"0\":[333.0],\"1\":[13.0],\"2\":[-107.0],\"3\":[-111.0],\"4\":[-1322.0],\"5\":[2055.0],\"6\":[-444.0],\"7\":[-384.0]}},\"0:0:0:0:0:0:0:10\":{\"observations\":{\"0\":[1615.0],\"1\":[-470.0],\"2\":[1446.0],\"3\":[1517.0],\"4\":[4156.0],\"5\":[1053.0],\"6\":[2742.0],\"7\":[1560.0]}},\"0:0:1:0:0:0:0:11\":{\"observations\":{\"0\":[-164.0],\"1\":[-113.0],\"2\":[-67.0],\"3\":[-28.0],\"4\":[35.0],\"5\":[45.0],\"6\":[-24.0],\"7\":[null]}},\"0:0:0:0:0:0:0:11\":{\"observations\":{\"0\":[-323.0],\"1\":[-124.0],\"2\":[-245.0],\"3\":[42.0],\"4\":[1054.0],\"5\":[45.0],\"6\":[62.0],\"7\":[100.0]}},\"0:0:0:0:0:0:0:12\":{\"observations\":{\"0\":[-122.0],\"1\":[602.0],\"2\":[-1371.0],\"3\":[184.0],\"4\":[163.0],\"5\":[-476.0],\"6\":[510.0],\"7\":[1212.0]}},\"0:0:1:0:0:0:0:13\":{\"observations\":{\"0\":[null],\"1\":[null],\"2\":[null],\"3\":[null],\"4\":[null],\"5\":[null],\"6\":[null],\"7\":[-40.0]}},\"0:0:0:0:0:0:0:13\":{\"observations\":{\"0\":[null],\"1\":[null],\"2\":[null],\"3\":[25.0],\"4\":[131.0],\"5\":[null],\"6\":[68.0],\"7\":[null]}},\"0:0:1:0:0:0:0:14\":{\"observations\":{\"0\":[-1696.0],\"1\":[-936.0],\"2\":[9554.0],\"3\":[7114.0],\"4\":[14892.0],\"5\":[36695.0],\"6\":[17269.0],\"7\":[64187.0]}},\"0:0:0:0:0:0:0:15\":{\"observations\":{\"0\":[-253.0],\"1\":[828.0],\"2\":[184.0],\"3\":[925.0],\"4\":[553.0],\"5\":[463.0],\"6\":[734.0],\"7\":[581.0]}},\"0:0:0:0:0:0:0:16\":{\"observations\":{\"0\":[2447.0],\"1\":[1549.0],\"2\":[69.0],\"3\":[1846.0],\"4\":[800.0],\"5\":[-74.0],\"6\":[705.0],\"7\":[7551.0]}},\"0:0:1:0:0:0:0:17\":{\"observations\":{\"0\":[17077.0],\"1\":[22114.0],\"2\":[46413.0],\"3\":[44891.0],\"4\":[32997.0],\"5\":[31610.0],\"6\":[43868.0],\"7\":[22200.0]}},\"0:0:1:0:0:0:0:18\":{\"observations\":{\"0\":[4798.0],\"1\":[6185.0],\"2\":[6601.0],\"3\":[9024.0],\"4\":[1302.0],\"5\":[3392.0],\"6\":[10392.0],\"7\":[5218.0]}},\"0:0:0:0:0:0:0:18\":{\"observations\":{\"0\":[3277.0],\"1\":[1838.0],\"2\":[2493.0],\"3\":[4795.0],\"4\":[2225.0],\"5\":[1902.0],\"6\":[1693.0],\"7\":[-455.0]}},\"0:0:1:0:0:0:0:19\":{\"observations\":{\"0\":[11989.0],\"1\":[10483.0],\"2\":[34988.0],\"3\":[27943.0],\"4\":[172740.0],\"5\":[57398.0],\"6\":[2477.0],\"7\":[-110388.0]}},\"0:0:0:0:0:0:0:19\":{\"observations\":{\"0\":[48113.0],\"1\":[15622.0],\"2\":[39161.0],\"3\":[37125.0],\"4\":[-365.0],\"5\":[30833.0],\"6\":[33444.0],\"7\":[37632.0]}},\"0:0:0:0:0:0:0:20\":{\"observations\":{\"0\":[7840.0],\"1\":[11635.0],\"2\":[6078.0],\"3\":[8218.0],\"4\":[7255.0],\"5\":[5212.0],\"6\":[6334.0],\"7\":[7180.0]}},\"0:0:0:0:0:0:0:21\":{\"observations\":{\"0\":[86000.0],\"1\":[48052.0],\"2\":[57740.0],\"3\":[24320.0],\"4\":[41337.0],\"5\":[44203.0],\"6\":[34542.0],\"7\":[-26517.0]}},\"0:0:1:0:0:0:0:22\":{\"observations\":{\"0\":[507.0],\"1\":[-506.0],\"2\":[-119.0],\"3\":[-34.0],\"4\":[-6.0],\"5\":[175.0],\"6\":[449.0],\"7\":[-823.0]}},\"0:0:1:0:0:0:0:23\":{\"observations\":{\"0\":[175.0],\"1\":[-28.0],\"2\":[341.0],\"3\":[50.0],\"4\":[6.0],\"5\":[-5.0],\"6\":[7.0],\"7\":[-74.0]}},\"0:0:0:0:0:0:0:23\":{\"observations\":{\"0\":[-12.0],\"1\":[-70.0],\"2\":[12.0],\"3\":[528.0],\"4\":[15.0],\"5\":[75.0],\"6\":[-5.0],\"7\":[267.0]}},\"0:0:1:0:0:0:0:24\":{\"observations\":{\"0\":[-1.0],\"1\":[-9.0],\"2\":[-5.0],\"3\":[null],\"4\":[0.0],\"5\":[null],\"6\":[null],\"7\":[9.0]}},\"0:0:0:0:0:0:0:25\":{\"observations\":{\"0\":[7439.0],\"1\":[12091.0],\"2\":[8641.0],\"3\":[19291.0],\"4\":[17059.0],\"5\":[20732.0],\"6\":[30026.0],\"7\":[2994.0]}},\"0:0:1:0:0:0:0:26\":{\"observations\":{\"0\":[46316.0],\"1\":[39640.0],\"2\":[32023.0],\"3\":[-94851.0],\"4\":[50294.0],\"5\":[57267.0],\"6\":[43694.0],\"7\":[1326.0]}},\"0:0:1:0:0:0:0:27\":{\"observations\":{\"0\":[0.0],\"1\":[0.0],\"2\":[0.0],\"3\":[0.0],\"4\":[0.0],\"5\":[0.0],\"6\":[0.0],\"7\":[0.0]}},\"0:0:1:0:0:0:0:28\":{\"observations\":{\"0\":[null],\"1\":[null],\"2\":[null],\"3\":[null],\"4\":[338653.0],\"5\":[null],\"6\":[null],\"7\":[null]}},\"0:0:0:0:0:0:0:28\":{\"observations\":{\"0\":[null],\"1\":[null],\"2\":[null],\"3\":[157721.0],\"4\":[null],\"5\":[null],\"6\":[null],\"7\":[null]}},\"0:0:1:0:0:0:0:29\":{\"observations\":{\"0\":[0.0],\"1\":[0.0],\"2\":[0.0],\"3\":[0.0],\"4\":[0.0],\"5\":[0.0],\"6\":[0.0],\"7\":[0.0]}},\"0:0:1:0:0:0:0:30\":{\"observations\":{\"0\":[0.0],\"1\":[0.0],\"2\":[0.0],\"3\":[0.0],\"4\":[0.0],\"5\":[0.0],\"6\":[0.0],\"7\":[0.0]}},\"0:0:0:0:0:0:0:30\":{\"observations\":{\"0\":[1.0],\"1\":[1.0],\"2\":[1.0],\"3\":[2.0],\"4\":[1.0],\"5\":[1.0],\"6\":[1.0],\"7\":[1.0]}},\"0:0:0:0:0:0:0:31\":{\"observations\":{\"0\":[83.0],\"1\":[-129.0],\"2\":[-4.0],\"3\":[-21.0],\"4\":[-89.0],\"5\":[-1.0],\"6\":[26.0],\"7\":[-8.0]}},\"0:0:0:0:0:0:0:32\":{\"observations\":{\"0\":[65.0],\"1\":[-154.0],\"2\":[292.0],\"3\":[186.0],\"4\":[-69.0],\"5\":[-624.0],\"6\":[-537.0],\"7\":[-412.0]}},\"0:0:0:0:0:0:0:33\":{\"observations\":{\"0\":[0.0],\"1\":[0.0],\"2\":[0.0],\"3\":[0.0],\"4\":[0.0],\"5\":[0.0],\"6\":[0.0],\"7\":[0.0]}},\"0:0:1:0:0:0:0:34\":{\"observations\":{\"0\":[-2.0],\"1\":[0.0],\"2\":[null],\"3\":[null],\"4\":[null],\"5\":[null],\"6\":[null],\"7\":[null]}},\"0:0:0:0:0:0:0:34\":{\"observations\":{\"0\":[null],\"1\":[null],\"2\":[4.0],\"3\":[27.0],\"4\":[-34.0],\"5\":[4.0],\"6\":[13.0],\"7\":[17.0]}},\"0:0:0:0:0:0:0:35\":{\"observations\":{\"0\":[0.0],\"1\":[0.0],\"2\":[null],\"3\":[-8.0],\"4\":[null],\"5\":[13.0],\"6\":[5.0],\"7\":[7.0]}},\"0:0:1:0:0:0:0:36\":{\"observations\":{\"0\":[0.0],\"1\":[0.0],\"2\":[0.0],\"3\":[0.0],\"4\":[0.0],\"5\":[0.0],\"6\":[0.0],\"7\":[0.0]}},\"0:0:0:0:0:0:0:37\":{\"observations\":{\"0\":[61.0],\"1\":[-626.0],\"2\":[35.0],\"3\":[233.0],\"4\":[251.0],\"5\":[69.0],\"6\":[-327.0],\"7\":[217.0]}},\"0:0:0:0:0:0:0:38\":{\"observations\":{\"0\":[0.0],\"1\":[0.0],\"2\":[0.0],\"3\":[0.0],\"4\":[0.0],\"5\":[0.0],\"6\":[0.0],\"7\":[0.0]}},\"0:0:1:0:0:0:0:39\":{\"observations\":{\"0\":[3.0],\"1\":[0.0],\"2\":[-6.0],\"3\":[0.0],\"4\":[null],\"5\":[-1.0],\"6\":[-1.0],\"7\":[0.0]}},\"0:0:0:0:0:0:0:40\":{\"observations\":{\"0\":[5340.0],\"1\":[2624.0],\"2\":[1516.0],\"3\":[2405.0],\"4\":[829.0],\"5\":[-2109.0],\"6\":[332.0],\"7\":[353.0]}},\"0:0:0:0:0:0:0:41\":{\"observations\":{\"0\":[null],\"1\":[null],\"2\":[55.0],\"3\":[55.0],\"4\":[-112.0],\"5\":[-333.0],\"6\":[null],\"7\":[null]}},\"0:0:1:0:0:0:0:42\":{\"observations\":{\"0\":[-2.0],\"1\":[-2.0],\"2\":[null],\"3\":[-5.0],\"4\":[null],\"5\":[null],\"6\":[-4.0],\"7\":[-3.0]}},\"0:0:1:0:0:0:0:43\":{\"observations\":{\"0\":[1.0],\"1\":[null],\"2\":[-5.0],\"3\":[-4.0],\"4\":[1.0],\"5\":[-1.0],\"6\":[-2.0],\"7\":[15.0]}},\"0:0:0:0:0:0:0:44\":{\"observations\":{\"0\":[null],\"1\":[null],\"2\":[260.0],\"3\":[-110.0],\"4\":[653.0],\"5\":[-1215.0],\"6\":[null],\"7\":[null]}},\"0:0:1:0:0:0:0:45\":{\"observations\":{\"0\":[-1.0],\"1\":[177.0],\"2\":[-3.0],\"3\":[-71.0],\"4\":[118.0],\"5\":[28.0],\"6\":[64.0],\"7\":[41.0]}},\"0:0:0:0:0:0:0:46\":{\"observations\":{\"0\":[0.0],\"1\":[0.0],\"2\":[0.0],\"3\":[2.0],\"4\":[0.0],\"5\":[0.0],\"6\":[0.0],\"7\":[0.0]}},\"0:0:1:0:0:0:0:47\":{\"observations\":{\"1\":[0.0],\"2\":[0.0],\"3\":[0.0],\"4\":[0.0],\"5\":[0.0],\"6\":[0.0],\"7\":[-1.0]}},\"0:0:1:0:0:0:0:48\":{\"observations\":{\"0\":[0.0],\"1\":[0.0],\"2\":[0.0],\"3\":[0.0],\"4\":[0.0],\"5\":[-1.0],\"6\":[0.0],\"7\":[0.0]}},\"0:0:1:0:0:0:0:49\":{\"observations\":{\"0\":[0.0],\"1\":[0.0],\"2\":[0.0],\"3\":[0.0],\"4\":[0.0],\"5\":[0.0],\"6\":[0.0],\"7\":[0.0]}},\"0:0:1:0:0:0:0:50\":{\"observations\":{\"0\":[0.0],\"1\":[-7.0],\"2\":[null],\"3\":[null],\"4\":[null],\"5\":[null],\"6\":[11.0],\"7\":[0.0]}},\"0:0:0:0:0:0:0:50\":{\"observations\":{\"0\":[-4.0],\"1\":[5.0],\"2\":[null],\"3\":[-1.0],\"4\":[null],\"5\":[-35.0],\"6\":[-8.0],\"7\":[6.0]}},\"0:0:1:0:0:0:0:51\":{\"observations\":{\"0\":[0.0],\"1\":[0.0],\"2\":[0.0],\"3\":[0.0],\"4\":[0.0],\"5\":[0.0],\"6\":[0.0],\"7\":[0.0]}},\"0:0:0:0:0:0:0:51\":{\"observations\":{\"0\":[null],\"1\":[null],\"2\":[null],\"3\":[null],\"4\":[null],\"5\":[null],\"6\":[null],\"7\":[null]}},\"0:0:1:0:0:0:0:52\":{\"observations\":{\"0\":[0.0],\"1\":[0.0],\"2\":[-1.0],\"3\":[-2.0],\"4\":[4.0],\"5\":[1.0],\"6\":[1.0],\"7\":[-1.0]}},\"0:0:0:0:0:0:0:52\":{\"observations\":{\"0\":[null],\"1\":[null],\"2\":[null],\"3\":[null],\"4\":[null],\"5\":[null],\"6\":[null],\"7\":[null]}},\"0:0:0:0:0:0:0:53\":{\"observations\":{\"0\":[0.0],\"1\":[0.0],\"2\":[0.0],\"3\":[0.0],\"4\":[0.0],\"5\":[0.0],\"6\":[0.0],\"7\":[0.0]}},\"0:0:1:0:0:0:0:54\":{\"observations\":{\"0\":[0.0],\"1\":[0.0],\"2\":[0.0],\"3\":[0.0],\"4\":[0.0],\"5\":[0.0],\"6\":[0.0],\"7\":[0.0]}},\"0:0:0:0:0:0:0:54\":{\"observations\":{\"0\":[1.0],\"1\":[1.0],\"2\":[1.0],\"3\":[null],\"4\":[null],\"5\":[null],\"6\":[null],\"7\":[null]}},\"0:0:1:0:0:0:0:55\":{\"observations\":{\"0\":[0.0],\"1\":[0.0],\"2\":[0.0],\"3\":[0.0],\"4\":[0.0],\"5\":[0.0],\"6\":[0.0],\"7\":[0.0]}},\"0:0:0:0:0:0:0:55\":{\"observations\":{\"0\":[1.0],\"1\":[1.0],\"2\":[1.0],\"3\":[0.0],\"4\":[0.0],\"5\":[0.0],\"6\":[0.0],\"7\":[0.0]}},\"0:0:0:0:0:0:0:56\":{\"observations\":{\"0\":[4.0],\"1\":[4.0],\"2\":[0.0],\"3\":[null],\"4\":[null],\"5\":[null],\"6\":[0.0],\"7\":[0.0]}},\"0:0:1:0:0:0:0:57\":{\"observations\":{\"0\":[-1.0],\"1\":[-6.0],\"2\":[null],\"3\":[null],\"4\":[null],\"5\":[null],\"6\":[3.0],\"7\":[-1.0]}},\"0:0:0:0:0:0:0:57\":{\"observations\":{\"0\":[94.0],\"1\":[77.0],\"2\":[77.0],\"3\":[-190.0],\"4\":[-92.0],\"5\":[-23.0],\"6\":[-96.0],\"7\":[1.0]}},\"0:0:1:0:0:0:0:58\":{\"observations\":{\"0\":[0.0],\"1\":[0.0],\"2\":[0.0],\"3\":[0.0],\"4\":[0.0],\"5\":[0.0],\"6\":[0.0],\"7\":[0.0]}},\"0:0:0:0:0:0:0:58\":{\"observations\":{\"0\":[0.0],\"1\":[0.0],\"2\":[0.0],\"3\":[0.0],\"4\":[0.0],\"5\":[0.0],\"6\":[0.0],\"7\":[0.0]}},\"0:0:1:0:0:0:0:59\":{\"observations\":{\"0\":[null],\"1\":[-1.0],\"2\":[-41.0],\"3\":[8.0],\"4\":[-70.0],\"5\":[null],\"6\":[null],\"7\":[null]}},\"0:0:1:0:0:0:0:60\":{\"observations\":{\"0\":[null],\"1\":[null],\"2\":[null],\"3\":[null],\"4\":[null],\"5\":[null],\"6\":[null],\"7\":[null]}},\"0:0:0:0:0:0:0:60\":{\"observations\":{\"0\":[null],\"1\":[32.0],\"2\":[46.0],\"3\":[88.0],\"4\":[null],\"5\":[null],\"6\":[-37.0],\"7\":[110.0]}},\"0:0:0:0:0:0:0:61\":{\"observations\":{\"0\":[109.0],\"1\":[-19.0],\"2\":[-23.0],\"3\":[-43.0],\"4\":[220.0],\"5\":[8.0],\"6\":[-176.0],\"7\":[-650.0]}},\"0:0:0:0:0:0:0:62\":{\"observations\":{\"0\":[3.0],\"1\":[3.0],\"2\":[13.0],\"3\":[78.0],\"4\":[null],\"5\":[null],\"6\":[1.0],\"7\":[1.0]}},\"0:0:0:0:0:0:0:63\":{\"observations\":{\"0\":[-14.0],\"1\":[12.0],\"2\":[0.0],\"3\":[-2.0],\"4\":[2.0],\"5\":[7.0],\"6\":[12.0],\"7\":[17.0]}},\"0:0:0:0:0:0:0:64\":{\"observations\":{\"0\":[0.0],\"1\":[0.0],\"2\":[0.0],\"3\":[0.0],\"4\":[0.0],\"5\":[0.0],\"6\":[0.0],\"7\":[0.0]}},\"0:0:1:0:0:0:0:65\":{\"observations\":{\"0\":[0.0],\"1\":[0.0],\"2\":[-1.0],\"3\":[1.0],\"4\":[0.0],\"5\":[0.0],\"6\":[0.0],\"7\":[0.0]}},\"0:0:1:0:0:0:0:66\":{\"observations\":{\"0\":[null],\"1\":[16.0],\"2\":[114.0],\"3\":[322.0],\"4\":[-318.0],\"5\":[-65.0],\"6\":[117.0],\"7\":[110.0]}},\"0:0:1:0:0:0:0:67\":{\"observations\":{\"0\":[2.0],\"1\":[-1.0],\"2\":[-2.0],\"3\":[1.0],\"4\":[0.0],\"5\":[0.0],\"6\":[2.0],\"7\":[-3.0]}},\"0:0:0:0:0:0:0:67\":{\"observations\":{\"0\":[null],\"1\":[null],\"2\":[40.0],\"3\":[null],\"4\":[-256.0],\"5\":[-215.0],\"6\":[-87.0],\"7\":[null]}},\"0:0:1:0:0:0:0:68\":{\"observations\":{\"0\":[0.0],\"1\":[0.0],\"2\":[-9.0],\"3\":[null],\"4\":[null],\"5\":[-2.0],\"6\":[0.0],\"7\":[2.0]}},\"0:0:0:0:0:0:0:68\":{\"observations\":{\"0\":[2.0],\"1\":[2.0],\"2\":[2.0],\"3\":[-5.0],\"4\":[-26.0],\"5\":[-18.0],\"6\":[-23.0],\"7\":[-18.0]}},\"0:0:0:0:0:0:0:69\":{\"observations\":{\"0\":[0.0],\"1\":[0.0],\"2\":[0.0],\"3\":[0.0],\"4\":[0.0],\"5\":[0.0],\"6\":[0.0],\"7\":[0.0]}},\"0:0:0:0:0:0:0:70\":{\"observations\":{\"0\":[157.0],\"1\":[-221.0],\"2\":[-430.0],\"3\":[-1232.0],\"4\":[1094.0],\"5\":[-131.0],\"6\":[1667.0],\"7\":[-92.0]}},\"0:0:1:0:0:0:0:71\":{\"observations\":{\"0\":[0.0],\"1\":[0.0],\"2\":[0.0],\"3\":[0.0],\"4\":[0.0],\"5\":[0.0],\"6\":[0.0],\"7\":[0.0]}},\"0:0:1:0:0:0:0:72\":{\"observations\":{\"0\":[0.0],\"1\":[0.0],\"2\":[null],\"3\":[null],\"4\":[0.0],\"5\":[null],\"6\":[null],\"7\":[0.0]}},\"0:0:0:0:0:0:0:72\":{\"observations\":{\"0\":[1.0],\"1\":[1.0],\"2\":[1.0],\"3\":[-4.0],\"4\":[1.0],\"5\":[1.0],\"6\":[1.0],\"7\":[1.0]}},\"0:0:1:0:0:0:0:73\":{\"observations\":{\"0\":[0.0],\"1\":[0.0],\"2\":[0.0],\"3\":[0.0],\"4\":[0.0],\"5\":[0.0],\"6\":[0.0],\"7\":[0.0]}},\"0:0:1:0:0:0:0:74\":{\"observations\":{\"0\":[0.0],\"1\":[0.0],\"2\":[0.0],\"3\":[0.0],\"4\":[0.0],\"5\":[0.0],\"6\":[0.0],\"7\":[0.0]}},\"0:0:0:0:0:0:0:74\":{\"observations\":{\"0\":[0.0],\"1\":[0.0],\"2\":[0.0],\"3\":[165.0],\"4\":[176.0],\"5\":[622.0],\"6\":[171.0],\"7\":[203.0]}},\"0:0:0:0:0:0:0:75\":{\"observations\":{\"0\":[0.0],\"1\":[0.0],\"2\":[0.0],\"3\":[0.0],\"4\":[0.0],\"5\":[0.0],\"6\":[0.0],\"7\":[0.0]}},\"0:0:0:0:0:0:0:76\":{\"observations\":{\"0\":[639.0],\"1\":[332.0],\"2\":[521.0],\"3\":[191.0],\"4\":[-205.0],\"5\":[-318.0],\"6\":[596.0],\"7\":[847.0]}},\"0:0:1:0:0:0:0:77\":{\"observations\":{\"0\":[0.0],\"1\":[0.0],\"2\":[2.0],\"3\":[-7.0],\"4\":[0.0],\"5\":[0.0],\"6\":[0.0],\"7\":[0.0]}},\"0:0:0:0:0:0:0:77\":{\"observations\":{\"0\":[null],\"1\":[null],\"2\":[null],\"3\":[null],\"4\":[null],\"5\":[null],\"6\":[null],\"7\":[null]}},\"0:0:1:0:0:0:0:78\":{\"observations\":{\"0\":[0.0],\"1\":[0.0],\"2\":[0.0],\"3\":[0.0],\"4\":[0.0],\"5\":[0.0],\"6\":[0.0],\"7\":[0.0]}},\"0:0:1:0:0:0:0:79\":{\"observations\":{\"0\":[-3.0],\"1\":[null],\"2\":[0.0],\"3\":[null],\"4\":[null],\"5\":[-4.0],\"6\":[-1.0],\"7\":[-1.0]}},\"0:0:1:0:0:0:0:80\":{\"observations\":{\"0\":[0.0],\"1\":[1.0],\"2\":[-1.0],\"3\":[0.0],\"4\":[0.0],\"5\":[0.0],\"6\":[0.0],\"7\":[-3.0]}},\"0:0:0:0:0:0:0:81\":{\"observations\":{\"0\":[48598.0],\"1\":[29608.0],\"2\":[20650.0],\"3\":[30743.0],\"4\":[10113.0],\"5\":[13821.0],\"6\":[18623.0],\"7\":[19694.0]}},\"0:0:0:0:0:0:0:82\":{\"observations\":{\"0\":[0.0],\"1\":[0.0],\"2\":[0.0],\"3\":[52.0],\"4\":[-1.0],\"5\":[-1.0],\"6\":[-1.0],\"7\":[-1.0]}},\"0:0:0:0:0:0:0:83\":{\"observations\":{\"0\":[51579.0],\"1\":[null],\"2\":[null],\"3\":[53610.0],\"4\":[50016.0],\"5\":[55841.0],\"6\":[65193.0],\"7\":[-133631.0]}},\"0:0:0:0:0:0:0:84\":{\"observations\":{\"0\":[null],\"1\":[null],\"2\":[null],\"3\":[5.0],\"4\":[-5.0],\"5\":[-73.0],\"6\":[-31.0],\"7\":[-63.0]}},\"0:0:1:0:0:0:0:85\":{\"observations\":{\"0\":[0.0],\"1\":[1.0],\"2\":[null],\"3\":[-2.0],\"4\":[0.0],\"5\":[1.0],\"6\":[-1.0],\"7\":[0.0]}},\"0:0:0:0:0:0:0:86\":{\"observations\":{\"0\":[340.0],\"1\":[-445.0],\"2\":[-36.0],\"3\":[119.0],\"4\":[-239.0],\"5\":[-357.0],\"6\":[113.0],\"7\":[-117.0]}},\"0:0:1:0:0:0:0:87\":{\"observations\":{\"0\":[-72.0],\"1\":[8.0],\"2\":[23.0],\"3\":[183.0],\"4\":[-128.0],\"5\":[-421.0],\"6\":[-534.0],\"7\":[588.0]}},\"0:0:0:0:0:0:0:88\":{\"observations\":{\"0\":[-7.0],\"1\":[-19.0],\"2\":[2.0],\"3\":[7.0],\"4\":[8.0],\"5\":[8.0],\"6\":[8.0],\"7\":[8.0]}},\"0:0:1:0:0:0:0:89\":{\"observations\":{\"0\":[-1473.0],\"1\":[-4521.0],\"2\":[3516.0],\"3\":[-1962.0],\"4\":[-933.0],\"5\":[20515.0],\"6\":[-3750.0],\"7\":[12109.0]}},\"0:0:1:0:0:0:0:90\":{\"observations\":{\"0\":[-1.0],\"1\":[-88.0],\"2\":[367.0],\"3\":[31.0],\"4\":[null],\"5\":[null],\"6\":[null],\"7\":[null]}},\"0:0:0:0:0:0:0:90\":{\"observations\":{\"0\":[null],\"1\":[null],\"2\":[null],\"3\":[null],\"4\":[null],\"5\":[null],\"6\":[null],\"7\":[null]}},\"0:0:1:0:0:0:0:91\":{\"observations\":{\"0\":[243.0],\"1\":[464.0],\"2\":[76.0],\"3\":[-84.0],\"4\":[143.0],\"5\":[-133.0],\"6\":[-99.0],\"7\":[58.0]}},\"0:0:0:0:0:0:0:92\":{\"observations\":{\"0\":[-10.0],\"1\":[null],\"2\":[null],\"3\":[null],\"4\":[null],\"5\":[null],\"6\":[null],\"7\":[null]}},\"0:0:1:0:0:0:0:93\":{\"observations\":{\"0\":[-29.0],\"1\":[2.0],\"2\":[-72.0],\"3\":[-5.0],\"4\":[-3.0],\"5\":[8.0],\"6\":[10.0],\"7\":[-117.0]}},\"0:0:0:0:0:0:0:93\":{\"observations\":{\"0\":[103.0],\"1\":[133.0],\"2\":[117.0],\"3\":[-117.0],\"4\":[199.0],\"5\":[-201.0],\"6\":[872.0],\"7\":[-96.0]}},\"0:0:1:0:0:0:0:94\":{\"observations\":{\"0\":[4.0],\"1\":[-1.0],\"2\":[0.0],\"3\":[-11.0],\"4\":[6.0],\"5\":[2.0],\"6\":[1.0],\"7\":[null]}},\"0:0:0:0:0:0:0:94\":{\"observations\":{\"0\":[30.0],\"1\":[43.0],\"2\":[143.0],\"3\":[-50.0],\"4\":[-288.0],\"5\":[322.0],\"6\":[265.0],\"7\":[249.0]}},\"0:0:1:0:0:0:0:95\":{\"observations\":{\"0\":[0.0],\"1\":[1.0],\"2\":[0.0],\"3\":[0.0],\"4\":[0.0],\"5\":[0.0],\"6\":[null],\"7\":[null]}},\"0:0:0:0:0:0:0:96\":{\"observations\":{\"0\":[null],\"1\":[null],\"2\":[-1.0],\"3\":[-4.0],\"4\":[-2.0],\"5\":[-5.0],\"6\":[7.0],\"7\":[-3.0]}},\"0:0:1:0:0:0:0:97\":{\"observations\":{\"0\":[-29.0],\"1\":[-25.0],\"2\":[14.0],\"3\":[2.0],\"4\":[3.0],\"5\":[24.0],\"6\":[-36.0],\"7\":[-28.0]}},\"0:0:1:0:0:0:0:98\":{\"observations\":{\"0\":[87.0],\"1\":[-88.0],\"2\":[307.0],\"3\":[208.0],\"4\":[243.0],\"5\":[100.0],\"6\":[-280.0],\"7\":[335.0]}},\"0:0:0:0:0:0:0:98\":{\"observations\":{\"0\":[119.0],\"1\":[-31.0],\"2\":[-223.0],\"3\":[59.0],\"4\":[-189.0],\"5\":[599.0],\"6\":[261.0],\"7\":[424.0]}},\"0:0:1:0:0:0:0:99\":{\"observations\":{\"0\":[-1.0],\"1\":[0.0],\"2\":[null],\"3\":[null],\"4\":[0.0],\"5\":[0.0],\"6\":[1.0],\"7\":[null]}},\"0:0:0:0:0:0:0:99\":{\"observations\":{\"0\":[-1.0],\"1\":[-1.0],\"2\":[-1.0],\"3\":[89.0],\"4\":[45.0],\"5\":[107.0],\"6\":[175.0],\"7\":[105.0]}},\"0:0:1:0:0:0:0:100\":{\"observations\":{\"0\":[1.0],\"1\":[-1.0],\"2\":[0.0],\"3\":[0.0],\"4\":[0.0],\"5\":[0.0],\"6\":[null],\"7\":[null]}},\"0:0:1:0:0:0:0:101\":{\"observations\":{\"0\":[0.0],\"1\":[0.0],\"2\":[0.0],\"3\":[0.0],\"4\":[0.0],\"5\":[0.0],\"6\":[0.0],\"7\":[2.0]}},\"0:0:1:0:0:0:0:102\":{\"observations\":{\"0\":[0.0],\"1\":[0.0],\"2\":[0.0],\"3\":[0.0],\"4\":[0.0],\"5\":[0.0],\"6\":[0.0],\"7\":[0.0]}},\"0:0:0:0:0:0:0:103\":{\"observations\":{\"0\":[418.0],\"1\":[1967.0],\"2\":[-1028.0],\"3\":[415.0],\"4\":[63.0],\"5\":[360.0],\"6\":[602.0],\"7\":[-20.0]}},\"0:0:1:0:0:0:0:104\":{\"observations\":{\"0\":[4683.0],\"1\":[-155.0],\"2\":[null],\"3\":[null],\"4\":[null],\"5\":[null],\"6\":[null],\"7\":[null]}},\"0:0:0:0:0:0:0:105\":{\"observations\":{\"0\":[2531.0],\"1\":[1293.0],\"2\":[1631.0],\"3\":[1743.0],\"4\":[813.0],\"5\":[223.0],\"6\":[1414.0],\"7\":[2396.0]}},\"0:0:1:0:0:0:0:106\":{\"observations\":{\"0\":[3681.0],\"1\":[-101.0],\"2\":[555.0],\"3\":[-407.0],\"4\":[-750.0],\"5\":[-2586.0],\"6\":[866.0],\"7\":[-361.0]}},\"0:0:0:0:0:0:0:107\":{\"observations\":{\"0\":[486.0],\"1\":[1506.0],\"2\":[792.0],\"3\":[600.0],\"4\":[770.0],\"5\":[-508.0],\"6\":[-66.0],\"7\":[768.0]}},\"0:0:0:0:0:0:0:108\":{\"observations\":{\"0\":[null],\"1\":[null],\"2\":[null],\"3\":[null],\"4\":[null],\"5\":[null],\"6\":[null],\"7\":[null]}},\"0:0:1:0:0:0:0:109\":{\"observations\":{\"0\":[1.0],\"1\":[-1.0],\"2\":[-1.0],\"3\":[null],\"4\":[null],\"5\":[0.0],\"6\":[1.0],\"7\":[-12.0]}},\"0:0:1:0:0:0:0:110\":{\"observations\":{\"0\":[20.0],\"1\":[-118.0],\"2\":[42.0],\"3\":[-45.0],\"4\":[-3.0],\"5\":[19.0],\"6\":[19.0],\"7\":[20.0]}},\"0:0:1:0:0:0:0:111\":{\"observations\":{\"0\":[0.0],\"1\":[0.0],\"2\":[0.0],\"3\":[0.0],\"4\":[0.0],\"5\":[null],\"6\":[0.0],\"7\":[null]}},\"0:0:0:0:0:0:0:111\":{\"observations\":{\"0\":[null],\"1\":[null],\"2\":[null],\"3\":[null],\"4\":[null],\"5\":[null],\"6\":[-55.0],\"7\":[null]}},\"0:0:1:0:0:0:0:112\":{\"observations\":{\"0\":[216.0],\"1\":[-79.0],\"2\":[-46.0],\"3\":[400.0],\"4\":[-299.0],\"5\":[58.0],\"6\":[-203.0],\"7\":[25.0]}},\"0:0:0:0:0:0:0:112\":{\"observations\":{\"0\":[60.0],\"1\":[146.0],\"2\":[-122.0],\"3\":[62.0],\"4\":[9.0],\"5\":[-55.0],\"6\":[null],\"7\":[-176.0]}},\"0:0:0:0:0:0:0:113\":{\"observations\":{\"0\":[2188.0],\"1\":[2201.0],\"2\":[1918.0],\"3\":[161.0],\"4\":[-1449.0],\"5\":[-1154.0],\"6\":[-670.0],\"7\":[-292.0]}},\"0:0:0:0:0:0:0:114\":{\"observations\":{\"0\":[null],\"1\":[null],\"2\":[null],\"3\":[null],\"4\":[null],\"5\":[null],\"6\":[null],\"7\":[null]}},\"0:0:1:0:0:0:0:115\":{\"observations\":{\"0\":[null],\"1\":[null],\"2\":[null],\"3\":[-1538.0],\"4\":[null],\"5\":[null],\"6\":[null],\"7\":[2188.0]}},\"0:0:0:0:0:0:0:115\":{\"observations\":{\"0\":[null],\"1\":[null],\"2\":[null],\"3\":[7952.0],\"4\":[1435.0],\"5\":[null],\"6\":[null],\"7\":[null]}},\"0:0:1:0:0:0:0:116\":{\"observations\":{\"0\":[1.0],\"1\":[-15.0],\"2\":[-33.0],\"3\":[7.0],\"4\":[12.0],\"5\":[9.0],\"6\":[null],\"7\":[17.0]}},\"0:0:0:0:0:0:0:116\":{\"observations\":{\"0\":[null],\"1\":[null],\"2\":[156.0],\"3\":[341.0],\"4\":[159.0],\"5\":[305.0],\"6\":[262.0],\"7\":[-210.0]}},\"0:0:1:0:0:0:0:117\":{\"observations\":{\"0\":[19.0],\"1\":[-45.0],\"2\":[null],\"3\":[null],\"4\":[null],\"5\":[null],\"6\":[204.0],\"7\":[-696.0]}},\"0:0:0:0:0:0:0:118\":{\"observations\":{\"0\":[751.0],\"1\":[2044.0],\"2\":[2055.0],\"3\":[6145.0],\"4\":[-565.0],\"5\":[-2437.0],\"6\":[3117.0],\"7\":[627.0]}},\"0:0:1:0:0:0:0:119\":{\"observations\":{\"0\":[-1.0],\"1\":[0.0],\"2\":[null],\"3\":[0.0],\"4\":[2.0],\"5\":[null],\"6\":[0.0],\"7\":[0.0]}},\"0:0:0:0:0:0:0:119\":{\"observations\":{\"0\":[null],\"1\":[null],\"2\":[-41.0],\"3\":[null],\"4\":[-84.0],\"5\":[null],\"6\":[null],\"7\":[null]}},\"0:0:1:0:0:0:0:120\":{\"observations\":{\"0\":[null],\"1\":[null],\"2\":[null],\"3\":[-1148.0],\"4\":[null],\"5\":[null],\"6\":[null],\"7\":[1463.0]}},\"0:0:0:0:0:0:0:120\":{\"observations\":{\"0\":[null],\"1\":[null],\"2\":[null],\"3\":[null],\"4\":[462.0],\"5\":[null],\"6\":[null],\"7\":[null]}},\"0:0:1:0:0:0:0:121\":{\"observations\":{\"0\":[0.0],\"1\":[1.0],\"2\":[0.0],\"3\":[1.0],\"4\":[0.0],\"5\":[0.0],\"6\":[0.0],\"7\":[0.0]}},\"0:0:0:0:0:0:0:121\":{\"observations\":{\"0\":[0.0],\"1\":[0.0],\"2\":[0.0],\"3\":[4.0],\"4\":[1.0],\"5\":[2.0],\"6\":[2.0],\"7\":[4.0]}},\"0:0:0:0:0:0:0:122\":{\"observations\":{\"0\":[null],\"1\":[null],\"2\":[null],\"3\":[185.0],\"4\":[-126.0],\"5\":[-147.0],\"6\":[-39.0],\"7\":[29.0]}},\"0:0:0:0:0:0:0:123\":{\"observations\":{\"0\":[43.0],\"1\":[6.0],\"2\":[22.0],\"3\":[null],\"4\":[11.0],\"5\":[null],\"6\":[null],\"7\":[-18.0]}},\"0:0:0:0:0:0:0:124\":{\"observations\":{\"0\":[10.0],\"1\":[-30.0],\"2\":[23.0],\"3\":[5.0],\"4\":[26.0],\"5\":[34.0],\"6\":[72.0],\"7\":[null]}},\"0:0:0:0:0:0:0:125\":{\"observations\":{\"0\":[null],\"1\":[null],\"2\":[null],\"3\":[null],\"4\":[null],\"5\":[26633.0],\"6\":[null],\"7\":[null]}},\"0:0:1:0:0:0:0:126\":{\"observations\":{\"0\":[1.0],\"1\":[1.0],\"2\":[null],\"3\":[null],\"4\":[null],\"5\":[0.0],\"6\":[3.0],\"7\":[1.0]}},\"0:0:1:0:0:0:0:127\":{\"observations\":{\"0\":[null],\"1\":[null],\"2\":[null],\"3\":[null],\"4\":[null],\"5\":[0.0],\"6\":[null],\"7\":[null]}},\"0:0:1:0:0:0:0:128\":{\"observations\":{\"0\":[0.0],\"1\":[0.0],\"2\":[null],\"3\":[null],\"4\":[null],\"5\":[0.0],\"6\":[5.0],\"7\":[0.0]}},\"0:0:1:0:0:0:0:129\":{\"observations\":{\"0\":[236.0],\"1\":[1020.0],\"2\":[1745.0],\"3\":[4731.0],\"4\":[682.0],\"5\":[1430.0],\"6\":[-568.0],\"7\":[3493.0]}},\"0:0:1:0:0:0:0:130\":{\"observations\":{\"0\":[0.0],\"1\":[0.0],\"2\":[-2.0],\"3\":[2.0],\"4\":[-3.0],\"5\":[0.0],\"6\":[0.0],\"7\":[0.0]}},\"0:0:1:0:0:0:0:131\":{\"observations\":{\"0\":[0.0],\"1\":[0.0],\"2\":[-1.0],\"3\":[1.0],\"4\":[0.0],\"5\":[0.0],\"6\":[0.0],\"7\":[0.0]}},\"0:0:1:0:0:0:0:132\":{\"observations\":{\"0\":[null],\"1\":[null],\"2\":[-361.0],\"3\":[-144.0],\"4\":[16.0],\"5\":[-120.0],\"6\":[32.0],\"7\":[null]}},\"0:0:0:0:0:0:0:132\":{\"observations\":{\"0\":[-23.0],\"1\":[558.0],\"2\":[null],\"3\":[347.0],\"4\":[1.0],\"5\":[117.0],\"6\":[null],\"7\":[335.0]}},\"0:0:0:0:0:0:0:133\":{\"observations\":{\"0\":[0.0],\"1\":[0.0],\"2\":[0.0],\"3\":[0.0],\"4\":[0.0],\"5\":[0.0],\"6\":[-4.0],\"7\":[null]}},\"0:0:1:0:0:0:0:134\":{\"observations\":{\"0\":[0.0],\"1\":[0.0],\"2\":[0.0],\"3\":[0.0],\"4\":[0.0],\"5\":[0.0],\"6\":[1.0],\"7\":[-2.0]}},\"0:0:1:0:0:0:0:135\":{\"observations\":{\"0\":[11.0],\"1\":[100.0],\"2\":[null],\"3\":[768.0],\"4\":[145.0],\"5\":[-432.0],\"6\":[3.0],\"7\":[-348.0]}},\"0:0:0:0:0:0:0:136\":{\"observations\":{\"0\":[12500.0],\"1\":[15763.0],\"2\":[20329.0],\"3\":[25117.0],\"4\":[21390.0],\"5\":[10945.0],\"6\":[17219.0],\"7\":[-47508.0]}},\"0:0:1:0:0:0:0:137\":{\"observations\":{\"0\":[5.0],\"1\":[3.0],\"2\":[26.0],\"3\":[-1.0],\"4\":[2.0],\"5\":[14.0],\"6\":[-17.0],\"7\":[21.0]}},\"0:0:0:0:0:0:0:137\":{\"observations\":{\"0\":[null],\"1\":[null],\"2\":[-3.0],\"3\":[6.0],\"4\":[5.0],\"5\":[1.0],\"6\":[15.0],\"7\":[8.0]}},\"0:0:1:0:0:0:0:138\":{\"observations\":{\"0\":[0.0],\"1\":[0.0],\"2\":[0.0],\"3\":[0.0],\"4\":[0.0],\"5\":[0.0],\"6\":[0.0],\"7\":[0.0]}},\"0:0:0:0:0:0:0:138\":{\"observations\":{\"0\":[0.0],\"1\":[0.0],\"2\":[0.0],\"3\":[6.0],\"4\":[6.0],\"5\":[6.0],\"6\":[15.0],\"7\":[8.0]}},\"0:0:0:0:0:0:0:139\":{\"observations\":{\"0\":[1181.0],\"1\":[1041.0],\"2\":[-710.0],\"3\":[2929.0],\"4\":[200.0],\"5\":[1495.0],\"6\":[-3357.0],\"7\":[44.0]}},\"0:0:0:0:0:0:0:140\":{\"observations\":{\"0\":[-3.0],\"1\":[-9.0],\"2\":[null],\"3\":[0.0],\"4\":[-7.0],\"5\":[-6.0],\"6\":[-5.0],\"7\":[-5.0]}},\"0:0:1:0:0:0:0:141\":{\"observations\":{\"0\":[0.0],\"1\":[0.0],\"2\":[0.0],\"3\":[0.0],\"4\":[0.0],\"5\":[0.0],\"6\":[0.0],\"7\":[0.0]}},\"0:0:1:0:0:0:0:142\":{\"observations\":{\"0\":[-41.0],\"1\":[23.0],\"2\":[-70.0],\"3\":[1065.0],\"4\":[473.0],\"5\":[-1412.0],\"6\":[-34.0],\"7\":[-61.0]}},\"0:0:0:0:0:0:0:143\":{\"observations\":{\"0\":[null],\"1\":[null],\"2\":[null],\"3\":[null],\"4\":[620.0],\"5\":[7284.0],\"6\":[null],\"7\":[null]}},\"0:0:0:0:0:0:0:144\":{\"observations\":{\"0\":[0.0],\"1\":[0.0],\"2\":[0.0],\"3\":[0.0],\"4\":[0.0],\"5\":[0.0],\"6\":[0.0],\"7\":[0.0]}},\"0:0:1:0:0:0:0:145\":{\"observations\":{\"0\":[0.0],\"1\":[0.0],\"2\":[0.0],\"3\":[0.0],\"4\":[0.0],\"5\":[0.0],\"6\":[0.0],\"7\":[null]}},\"0:0:1:0:0:0:0:146\":{\"observations\":{\"0\":[4.0],\"1\":[null],\"2\":[1.0],\"3\":[3.0],\"4\":[0.0],\"5\":[0.0],\"6\":[0.0],\"7\":[0.0]}},\"0:0:1:0:0:0:0:147\":{\"observations\":{\"0\":[0.0],\"1\":[0.0],\"2\":[0.0],\"3\":[0.0],\"4\":[0.0],\"5\":[0.0],\"6\":[0.0],\"7\":[0.0]}},\"0:0:1:0:0:0:0:148\":{\"observations\":{\"0\":[3.0],\"1\":[null],\"2\":[null],\"3\":[null],\"4\":[9.0],\"5\":[21.0],\"6\":[34.0],\"7\":[null]}},\"0:0:1:0:0:0:0:149\":{\"observations\":{\"0\":[0.0],\"1\":[0.0],\"2\":[0.0],\"3\":[0.0],\"4\":[0.0],\"5\":[0.0],\"6\":[0.0],\"7\":[0.0]}},\"0:0:0:0:0:0:0:149\":{\"observations\":{\"0\":[2.0],\"1\":[2.0],\"2\":[null],\"3\":[2.0],\"4\":[1.0],\"5\":[1.0],\"6\":[1.0],\"7\":[1.0]}},\"0:0:1:0:0:0:0:150\":{\"observations\":{\"0\":[0.0],\"1\":[0.0],\"2\":[0.0],\"3\":[0.0],\"4\":[0.0],\"5\":[0.0],\"6\":[0.0],\"7\":[0.0]}},\"0:0:0:0:0:0:0:150\":{\"observations\":{\"0\":[3.0],\"1\":[3.0],\"2\":[3.0],\"3\":[2.0],\"4\":[2.0],\"5\":[2.0],\"6\":[2.0],\"7\":[2.0]}},\"0:0:0:0:0:0:0:151\":{\"observations\":{\"0\":[0.0],\"1\":[0.0],\"2\":[0.0],\"3\":[3.0],\"4\":[2.0],\"5\":[2.0],\"6\":[2.0],\"7\":[2.0]}},\"0:0:1:0:0:0:0:152\":{\"observations\":{\"0\":[0.0],\"1\":[0.0],\"2\":[0.0],\"3\":[0.0],\"4\":[0.0],\"5\":[0.0],\"6\":[0.0],\"7\":[0.0]}},\"0:0:0:0:0:0:0:152\":{\"observations\":{\"0\":[0.0],\"1\":[0.0],\"2\":[0.0],\"3\":[0.0],\"4\":[0.0],\"5\":[0.0],\"6\":[0.0],\"7\":[0.0]}},\"0:0:1:0:0:0:0:153\":{\"observations\":{\"0\":[0.0],\"1\":[0.0],\"2\":[0.0],\"3\":[0.0],\"4\":[0.0],\"5\":[0.0],\"6\":[0.0],\"7\":[0.0]}},\"0:0:0:0:0:0:0:154\":{\"observations\":{\"0\":[0.0],\"1\":[0.0],\"2\":[0.0],\"3\":[0.0],\"4\":[0.0],\"5\":[0.0],\"6\":[0.0],\"7\":[0.0]}},\"0:0:1:0:0:0:0:155\":{\"observations\":{\"0\":[0.0],\"1\":[0.0],\"2\":[0.0],\"3\":[0.0],\"4\":[0.0],\"5\":[0.0],\"6\":[0.0],\"7\":[null]}},\"0:0:0:0:0:0:0:155\":{\"observations\":{\"0\":[null],\"1\":[null],\"2\":[null],\"3\":[null],\"4\":[0.0],\"5\":[0.0],\"6\":[0.0],\"7\":[0.0]}},\"0:0:1:0:0:0:0:156\":{\"observations\":{\"1\":[null],\"2\":[null],\"3\":[null],\"4\":[null],\"6\":[null],\"7\":[null]}},\"0:0:1:0:0:0:0:157\":{\"observations\":{\"1\":[null],\"2\":[110899.0],\"3\":[null],\"4\":[227767.0],\"5\":[232566.0],\"6\":[204913.0],\"7\":[131549.0]}},\"0:0:1:0:0:0:0:158\":{\"observations\":{\"0\":[131008.0],\"1\":[112450.0],\"2\":[105786.0],\"3\":[36746.0],\"4\":[220978.0],\"5\":[210323.0],\"6\":[202776.0],\"7\":[132053.0]}},\"0:0:1:0:0:0:0:159\":{\"observations\":{\"1\":[null],\"2\":[5113.0],\"3\":[null],\"4\":[6789.0],\"5\":[22243.0],\"6\":[2137.0],\"7\":[-504.0]}},\"0:0:0:0:0:0:0:160\":{\"observations\":{\"2\":[28740.0],\"3\":[50120.0],\"4\":[23355.0],\"5\":[20897.0],\"6\":[22614.0],\"7\":[null]}},\"0:0:1:0:0:0:0:161\":{\"observations\":{\"0\":[-91.0],\"1\":[0.0],\"2\":[167.0],\"3\":[-20.0],\"5\":[269.0],\"6\":[205.0],\"7\":[293.0]}},\"0:0:0:0:0:0:0:161\":{\"observations\":{\"0\":[1020.0],\"1\":[1288.0],\"2\":[null],\"3\":[219.0],\"7\":[null]}},\"0:0:0:0:0:0:0:162\":{\"observations\":{\"2\":[null],\"5\":[null],\"6\":[null],\"7\":[null]}},\"0:0:0:0:0:0:0:163\":{\"observations\":{\"2\":[null],\"7\":[null]}},\"0:0:0:0:0:0:0:164\":{\"observations\":{\"2\":[null],\"7\":[null]}},\"0:0:0:0:0:0:0:165\":{\"observations\":{\"0\":[1.0],\"1\":[1.0],\"2\":[1.0],\"3\":[2.0],\"4\":[-1.0],\"5\":[-1.0],\"6\":[-1.0],\"7\":[-1.0]}},\"0:0:0:0:0:0:0:166\":{\"observations\":{\"0\":[null],\"1\":[null],\"2\":[49.0],\"3\":[74.0],\"4\":[49.0],\"5\":[33.0],\"6\":[47.0],\"7\":[43.0]}},\"0:0:1:0:0:0:0:84\":{\"observations\":{\"0\":[null],\"1\":[1.0],\"2\":[5.0],\"3\":[null],\"4\":[null],\"5\":[null],\"6\":[1.0],\"7\":[1.0]}},\"0:0:0:0:0:0:0:167\":{\"observations\":{\"0\":[4842.0],\"1\":[4118.0],\"2\":[-1817.0],\"3\":[923.0],\"4\":[-235.0],\"5\":[285.0],\"6\":[-542.0],\"7\":[-1960.0]}},\"0:0:1:0:0:0:0:168\":{\"observations\":{\"1\":[null],\"2\":[90392.0],\"3\":[49204.0],\"4\":[329844.0],\"5\":[259250.0],\"6\":[127893.0],\"7\":[121685.0]}},\"0:0:1:0:0:0:0:169\":{\"observations\":{\"0\":[4.0],\"1\":[43.0],\"2\":[null],\"3\":[-25.0],\"4\":[27.0],\"5\":[null],\"6\":[178.0],\"7\":[117.0]}},\"0:0:0:0:0:0:0:26\":{\"observations\":{\"0\":[25605.0],\"1\":[41790.0],\"2\":[25301.0],\"3\":[29112.0],\"4\":[14426.0],\"5\":[33469.0],\"6\":[23093.0],\"7\":[8618.0]}},\"0:0:0:0:0:0:0:170\":{\"observations\":{\"0\":[101.0],\"1\":[-28.0],\"2\":[8.0],\"3\":[250.0],\"4\":[-41.0],\"5\":[46.0],\"6\":[-203.0],\"7\":[160.0]}},\"0:0:1:0:0:0:0:171\":{\"observations\":{\"0\":[102469.0],\"1\":[138895.0]}},\"0:0:0:0:0:0:0:87\":{\"observations\":{\"0\":[2669.0],\"1\":[-1615.0],\"2\":[2273.0],\"3\":[1742.0],\"4\":[-4178.0],\"5\":[1232.0],\"6\":[-510.0],\"7\":[-7135.0]}},\"0:0:1:0:0:0:0:56\":{\"observations\":{\"0\":[0.0],\"1\":[-1.0],\"2\":[0.0],\"3\":[1.0],\"4\":[-1.0],\"5\":[0.0],\"6\":[5.0],\"7\":[null]}},\"0:0:1:0:0:0:0:140\":{\"observations\":{\"0\":[-2.0],\"1\":[null],\"2\":[-7.0],\"3\":[null],\"4\":[6.0],\"5\":[1.0],\"6\":[3.0],\"7\":[0.0]}},\"0:0:0:0:0:0:0:172\":{\"observations\":{\"0\":[0.0],\"1\":[64.0],\"2\":[-35.0],\"3\":[-229.0],\"4\":[20.0],\"5\":[-21.0],\"6\":[-9.0],\"7\":[4.0]}},\"0:0:1:0:0:0:0:173\":{\"observations\":{\"0\":[null],\"1\":[18.0],\"2\":[29.0],\"3\":[484.0],\"4\":[-257.0],\"5\":[600.0],\"6\":[null],\"7\":[-26.0]}},\"0:0:0:0:0:0:0:174\":{\"observations\":{\"0\":[0.0],\"1\":[0.0],\"2\":[0.0],\"3\":[0.0],\"4\":[0.0],\"5\":[0.0],\"6\":[0.0],\"7\":[0.0]}},\"0:0:0:0:0:0:0:175\":{\"observations\":{\"0\":[null],\"1\":[null],\"2\":[1256.0],\"3\":[2515.0],\"4\":[176.0],\"5\":[-894.0],\"6\":[null],\"7\":[null]}},\"0:0:1:0:0:0:0:162\":{\"observations\":{\"1\":[null],\"2\":[null],\"3\":[null],\"4\":[null],\"5\":[null],\"6\":[null],\"7\":[null]}},\"0:0:0:0:0:0:0:176\":{\"observations\":{\"0\":[506.0],\"1\":[null],\"2\":[56.0],\"3\":[192.0],\"4\":[-185.0],\"5\":[180.0],\"6\":[-113.0],\"7\":[-10.0]}},\"0:0:0:0:0:0:0:177\":{\"observations\":{\"0\":[1.0],\"1\":[-3.0],\"2\":[null],\"3\":[19.0],\"4\":[-33.0],\"5\":[null],\"6\":[-28.0],\"7\":[-4.0]}},\"0:0:1:0:0:0:0:33\":{\"observations\":{\"0\":[0.0],\"1\":[0.0],\"2\":[0.0],\"3\":[0.0],\"4\":[0.0],\"5\":[0.0],\"6\":[0.0],\"7\":[0.0]}},\"0:0:1:0:0:0:0:25\":{\"observations\":{\"0\":[19894.0],\"1\":[16110.0],\"2\":[18420.0],\"3\":[31139.0],\"4\":[-5732.0],\"5\":[56155.0],\"6\":[21082.0],\"7\":[25576.0]}},\"0:0:0:0:0:0:0:178\":{\"observations\":{\"0\":[63.0],\"1\":[53.0],\"2\":[98.0],\"3\":[76.0],\"4\":[-49.0],\"5\":[-91.0],\"6\":[75.0],\"7\":[28.0]}},\"0:0:0:0:0:0:0:179\":{\"observations\":{\"0\":[null],\"1\":[null],\"2\":[50.0],\"3\":[93.0],\"4\":[-56.0],\"5\":[-77.0],\"6\":[null],\"7\":[27.0]}},\"0:0:1:0:0:0:0:176\":{\"observations\":{\"0\":[null],\"1\":[null],\"2\":[-44.0],\"3\":[null],\"4\":[-3.0],\"5\":[null],\"6\":[1.0],\"7\":[0.0]}},\"0:0:0:0:0:0:0:180\":{\"observations\":{\"0\":[40.0],\"1\":[1118.0],\"2\":[395.0],\"3\":[374.0],\"4\":[-13.0],\"5\":[-67.0],\"6\":[149.0],\"7\":[257.0]}},\"0:0:0:0:0:0:0:27\":{\"observations\":{\"0\":[0.0],\"1\":[0.0],\"2\":[0.0],\"3\":[0.0],\"4\":[0.0],\"5\":[0.0],\"6\":[0.0],\"7\":[0.0]}},\"0:0:1:0:0:0:0:69\":{\"observations\":{\"0\":[0.0],\"1\":[0.0],\"2\":[0.0],\"3\":[0.0],\"4\":[0.0],\"5\":[0.0],\"6\":[0.0],\"7\":[0.0]}},\"0:0:1:0:0:0:0:181\":{\"observations\":{\"0\":[4.0],\"1\":[-11.0],\"2\":[null],\"3\":[105.0],\"4\":[38.0],\"5\":[103.0],\"6\":[239.0],\"7\":[-59.0]}},\"0:0:0:0:0:0:0:182\":{\"observations\":{\"0\":[11588.0],\"1\":[25339.0],\"2\":[17312.0],\"3\":[25821.0],\"4\":[20608.0],\"5\":[11148.0],\"6\":[25731.0],\"7\":[21923.0]}},\"0:0:1:0:0:0:0:37\":{\"observations\":{\"0\":[75.0],\"1\":[11.0],\"2\":[null],\"3\":[-7.0],\"4\":[25.0],\"5\":[10.0],\"6\":[-25.0],\"7\":[null]}},\"0:0:0:0:0:0:0:66\":{\"observations\":{\"0\":[388.0],\"1\":[-165.0],\"2\":[46.0],\"3\":[276.0],\"4\":[290.0],\"5\":[89.0],\"6\":[354.0],\"7\":[427.0]}},\"0:0:0:0:0:0:0:183\":{\"observations\":{\"0\":[8187.0],\"1\":[1860.0],\"2\":[-2409.0],\"3\":[-115.0],\"4\":[1691.0],\"5\":[4424.0],\"6\":[2148.0],\"7\":[2632.0]}},\"0:0:0:0:0:0:0:89\":{\"observations\":{\"0\":[21072.0],\"1\":[11991.0],\"2\":[17804.0],\"3\":[15429.0],\"4\":[25106.0],\"5\":[31015.0],\"6\":[30031.0],\"7\":[-158148.0]}},\"0:0:0:0:0:0:0:168\":{\"observations\":{\"2\":[149558.0],\"3\":[141607.0],\"4\":[136756.0],\"5\":[170941.0],\"6\":[143443.0],\"7\":[43887.0]}},\"0:0:1:0:0:0:0:31\":{\"observations\":{\"0\":[null],\"1\":[null],\"2\":[null],\"3\":[null],\"4\":[null],\"5\":[null],\"6\":[null],\"7\":[null]}},\"0:0:1:0:0:0:0:184\":{\"observations\":{\"0\":[null],\"1\":[143.0],\"2\":[339.0],\"3\":[19.0],\"4\":[-24.0],\"5\":[14.0],\"6\":[96.0],\"7\":[-39.0]}},\"0:0:0:0:0:0:0:78\":{\"observations\":{\"0\":[0.0],\"1\":[0.0],\"2\":[0.0],\"3\":[-1.0],\"4\":[4.0],\"5\":[4.0],\"6\":[null],\"7\":[1.0]}},\"0:0:1:0:0:0:0:0\":{\"observations\":{\"0\":[-1649.0],\"1\":[-678.0],\"2\":[3174.0],\"3\":[10042.0],\"4\":[-1035.0],\"5\":[2893.0],\"6\":[1116.0],\"7\":[22639.0]}},\"0:0:1:0:0:0:0:185\":{\"observations\":{\"0\":[-4.0],\"1\":[2.0],\"2\":[-5.0],\"3\":[3.0],\"4\":[null],\"5\":[null],\"6\":[1.0],\"7\":[0.0]}},\"0:0:0:0:0:0:0:29\":{\"observations\":{\"0\":[0.0],\"1\":[0.0],\"2\":[0.0],\"3\":[0.0],\"4\":[0.0],\"5\":[0.0],\"6\":[0.0],\"7\":[0.0]}},\"0:0:0:0:0:0:0:42\":{\"observations\":{\"0\":[25.0],\"1\":[86.0],\"2\":[16.0],\"3\":[64.0],\"4\":[-10.0],\"5\":[-74.0],\"6\":[-14.0],\"7\":[-38.0]}},\"0:0:0:0:0:0:0:186\":{\"observations\":{\"0\":[-11.0],\"1\":[-14.0],\"2\":[2.0],\"3\":[13.0],\"4\":[0.0],\"5\":[-2.0],\"6\":[0.0],\"7\":[-4.0]}},\"0:0:1:0:0:0:0:187\":{\"observations\":{\"0\":[0.0],\"1\":[0.0],\"2\":[0.0],\"3\":[0.0],\"4\":[0.0],\"5\":[0.0],\"6\":[0.0],\"7\":[0.0]}},\"0:0:1:0:0:0:0:188\":{\"observations\":{\"0\":[693.0],\"1\":[-15.0],\"2\":[711.0],\"3\":[null],\"4\":[-376.0],\"5\":[132.0],\"6\":[-34.0],\"7\":[124.0]}},\"0:0:1:0:0:0:0:133\":{\"observations\":{\"0\":[0.0],\"1\":[0.0],\"2\":[1.0],\"3\":[null],\"4\":[2.0],\"5\":[null],\"6\":[4.0],\"7\":[-1.0]}},\"0:0:0:0:0:0:0:95\":{\"observations\":{\"0\":[0.0],\"1\":[0.0],\"2\":[0.0],\"3\":[6.0],\"4\":[4.0],\"5\":[4.0],\"6\":[4.0],\"7\":[4.0]}},\"0:0:0:0:0:0:0:189\":{\"observations\":{\"0\":[119484.0],\"1\":[101181.0],\"2\":[73433.0],\"3\":[95875.0],\"4\":[62030.0],\"5\":[72394.0],\"6\":[81671.0],\"7\":[-108797.0]}},\"0:0:0:0:0:0:0:135\":{\"observations\":{\"0\":[228.0],\"1\":[-63.0],\"2\":[-111.0],\"3\":[643.0],\"4\":[75.0],\"5\":[546.0],\"6\":[749.0],\"7\":[689.0]}},\"0:0:1:0:0:0:0:190\":{\"observations\":{\"0\":[0.0],\"1\":[0.0],\"2\":[0.0],\"3\":[0.0],\"4\":[0.0],\"5\":[0.0],\"6\":[0.0],\"7\":[0.0]}},\"0:0:1:0:0:0:0:8\":{\"observations\":{\"0\":[1.0],\"1\":[-1.0],\"2\":[-1.0],\"3\":[0.0],\"4\":[0.0],\"5\":[null],\"6\":[0.0],\"7\":[1.0]}},\"0:0:1:0:0:0:0:35\":{\"observations\":{\"0\":[0.0],\"1\":[-1.0],\"2\":[1.0],\"3\":[-1.0],\"4\":[1.0],\"5\":[0.0],\"6\":[0.0],\"7\":[-1.0]}},\"0:0:1:0:0:0:0:191\":{\"observations\":{\"0\":[284.0],\"1\":[315.0],\"2\":[1086.0],\"3\":[1387.0],\"4\":[760.0],\"5\":[665.0],\"6\":[432.0],\"7\":[2480.0]}},\"0:0:1:0:0:0:0:113\":{\"observations\":{\"0\":[503.0],\"1\":[322.0],\"2\":[-594.0],\"3\":[246.0],\"4\":[224.0],\"5\":[491.0],\"6\":[-154.0],\"7\":[911.0]}},\"0:0:1:0:0:0:0:70\":{\"observations\":{\"0\":[-12.0],\"1\":[-15.0],\"2\":[-23.0],\"3\":[13.0],\"4\":[5.0],\"5\":[23.0],\"6\":[20.0],\"7\":[14.0]}},\"0:0:1:0:0:0:0:122\":{\"observations\":{\"0\":[null],\"1\":[null],\"2\":[null],\"3\":[12.0],\"4\":[-6.0],\"5\":[null],\"6\":[null],\"7\":[0.0]}},\"0:0:0:0:0:0:0:192\":{\"observations\":{\"0\":[581.0],\"1\":[-649.0],\"2\":[-652.0],\"3\":[457.0],\"4\":[15.0],\"5\":[288.0],\"6\":[68.0],\"7\":[-135.0]}},\"0:0:0:0:0:0:0:193\":{\"observations\":{\"0\":[null],\"1\":[null],\"2\":[null],\"3\":[-1.0],\"4\":[-1.0],\"5\":[null],\"6\":[0.0],\"7\":[0.0]}},\"0:0:1:0:0:0:0:194\":{\"observations\":{\"0\":[0.0],\"1\":[-2.0],\"2\":[2.0],\"3\":[2.0],\"4\":[2.0],\"5\":[-1.0],\"6\":[1.0],\"7\":[0.0]}},\"0:0:0:0:0:0:0:185\":{\"observations\":{\"0\":[-10.0],\"1\":[-31.0],\"2\":[null],\"3\":[66.0],\"4\":[-13.0],\"5\":[122.0],\"6\":[163.0],\"7\":[-111.0]}},\"0:0:0:0:0:0:0:153\":{\"observations\":{\"0\":[0.0],\"1\":[0.0],\"2\":[0.0],\"3\":[0.0],\"4\":[0.0],\"5\":[0.0],\"6\":[0.0],\"7\":[0.0]}},\"0:0:0:0:0:0:0:195\":{\"observations\":{\"0\":[35.0],\"1\":[-99.0],\"2\":[-9.0],\"3\":[39.0],\"4\":[8.0],\"5\":[-35.0],\"6\":[-23.0],\"7\":[-40.0]}},\"0:0:1:0:0:0:0:139\":{\"observations\":{\"0\":[-32.0],\"1\":[245.0],\"2\":[79.0],\"3\":[572.0],\"4\":[469.0],\"5\":[456.0],\"6\":[-4.0],\"7\":[-100.0]}},\"0:0:1:0:0:0:0:166\":{\"observations\":{\"0\":[-1.0],\"1\":[0.0],\"2\":[null],\"3\":[null],\"4\":[null],\"5\":[null],\"6\":[null],\"7\":[null]}},\"0:0:0:0:0:0:0:36\":{\"observations\":{\"0\":[-1.0],\"1\":[-1.0],\"2\":[-1.0],\"3\":[3.0],\"4\":[2.0],\"5\":[0.0],\"6\":[2.0],\"7\":[1.0]}},\"0:0:1:0:0:0:0:167\":{\"observations\":{\"0\":[7743.0],\"1\":[2643.0],\"2\":[1915.0],\"3\":[3549.0],\"4\":[8130.0],\"5\":[-572.0],\"6\":[473.0],\"7\":[null]}},\"0:0:0:0:0:0:0:196\":{\"observations\":{\"0\":[4664.0],\"1\":[3340.0],\"2\":[1535.0],\"3\":[1068.0],\"4\":[506.0],\"5\":[6435.0],\"6\":[451.0],\"7\":[2776.0]}},\"0:0:1:0:0:0:0:197\":{\"observations\":{\"0\":[1105.0],\"1\":[3419.0],\"2\":[1920.0],\"3\":[2201.0],\"4\":[5127.0],\"5\":[25445.0],\"6\":[-504.0],\"7\":[-754.0]}},\"0:0:1:0:0:0:0:62\":{\"observations\":{\"0\":[-1.0],\"1\":[1.0],\"2\":[0.0],\"3\":[0.0],\"4\":[0.0],\"5\":[0.0],\"6\":[-1.0],\"7\":[1.0]}},\"0:0:1:0:0:0:0:81\":{\"observations\":{\"0\":[18790.0],\"1\":[17326.0],\"2\":[14933.0],\"3\":[23479.0],\"4\":[58887.0],\"5\":[null],\"6\":[null],\"7\":[null]}},\"0:0:1:0:0:0:0:198\":{\"observations\":{\"0\":[125.0],\"1\":[-117.0],\"2\":[1170.0],\"3\":[339.0],\"4\":[173.0],\"5\":[-1070.0],\"6\":[-244.0],\"7\":[29.0]}},\"0:0:0:0:0:0:0:199\":{\"observations\":{\"0\":[9.0],\"1\":[null],\"2\":[null],\"3\":[-26.0],\"4\":[-6.0],\"5\":[6.0],\"6\":[63.0],\"7\":[null]}},\"0:0:1:0:0:0:0:86\":{\"observations\":{\"0\":[-2.0],\"1\":[3.0],\"2\":[1.0],\"3\":[null],\"4\":[-1.0],\"5\":[-1.0],\"6\":[6.0],\"7\":[0.0]}},\"0:0:0:0:0:0:0:200\":{\"observations\":{\"0\":[null],\"1\":[null],\"2\":[59.0],\"3\":[198.0],\"4\":[49.0],\"5\":[-286.0],\"6\":[247.0],\"7\":[51.0]}},\"0:0:1:0:0:0:0:201\":{\"observations\":{\"0\":[null],\"1\":[-2.0],\"2\":[null],\"3\":[24.0],\"4\":[-1.0],\"5\":[null],\"6\":[-6.0],\"7\":[19.0]}},\"0:0:0:0:0:0:0:145\":{\"observations\":{\"0\":[-30.0],\"1\":[null],\"2\":[-8.0],\"3\":[45.0],\"4\":[58.0],\"5\":[-12.0],\"6\":[21.0],\"7\":[31.0]}},\"0:0:0:0:0:0:0:97\":{\"observations\":{\"0\":[-107.0],\"1\":[75.0],\"2\":[49.0],\"3\":[20.0],\"4\":[425.0],\"5\":[9.0],\"6\":[98.0],\"7\":[-902.0]}},\"0:0:0:0:0:0:0:191\":{\"observations\":{\"0\":[-512.0],\"1\":[1227.0],\"2\":[32.0],\"3\":[774.0],\"4\":[751.0],\"5\":[543.0],\"6\":[471.0],\"7\":[529.0]}},\"0:0:1:0:0:0:0:202\":{\"observations\":{\"0\":[null],\"1\":[null],\"2\":[0.0],\"3\":[0.0],\"4\":[1.0],\"5\":[-2.0],\"6\":[2.0],\"7\":[0.0]}},\"0:0:1:0:0:0:0:105\":{\"observations\":{\"0\":[-228.0],\"1\":[-95.0],\"2\":[-63.0],\"3\":[-35.0],\"4\":[-50.0],\"5\":[21.0],\"6\":[145.0],\"7\":[-146.0]}},\"0:0:0:0:0:0:0:102\":{\"observations\":{\"0\":[-46.0],\"1\":[-48.0],\"2\":[null],\"3\":[-27.0],\"4\":[-42.0],\"5\":[-15.0],\"6\":[-15.0],\"7\":[-5.0]}},\"0:0:0:0:0:0:0:148\":{\"observations\":{\"0\":[null],\"1\":[null],\"2\":[-53.0],\"3\":[627.0],\"4\":[241.0],\"5\":[115.0],\"6\":[18.0],\"7\":[13.0]}},\"0:0:1:0:0:0:0:203\":{\"observations\":{\"0\":[0.0],\"1\":[0.0],\"2\":[0.0],\"3\":[0.0],\"4\":[1.0],\"5\":[0.0],\"6\":[-1.0],\"7\":[0.0]}},\"0:0:0:0:0:0:0:73\":{\"observations\":{\"0\":[null],\"1\":[null],\"2\":[null],\"3\":[-5.0],\"4\":[0.0],\"5\":[0.0],\"6\":[0.0],\"7\":[0.0]}},\"0:0:0:0:0:0:0:204\":{\"observations\":{\"0\":[3.0],\"1\":[45.0],\"2\":[-13.0],\"3\":[6.0],\"4\":[-19.0],\"5\":[null],\"6\":[1.0],\"7\":[null]}},\"0:0:1:0:0:0:0:179\":{\"observations\":{\"0\":[1018.0],\"1\":[-29.0],\"2\":[274.0],\"3\":[61.0],\"4\":[41.0],\"5\":[15.0],\"6\":[9.0],\"7\":[173.0]}},\"0:0:1:0:0:0:0:205\":{\"observations\":{\"0\":[0.0],\"1\":[0.0],\"2\":[0.0],\"3\":[0.0],\"4\":[0.0],\"5\":[0.0],\"6\":[3.0],\"7\":[0.0]}},\"0:0:1:0:0:0:0:206\":{\"observations\":{\"0\":[0.0],\"1\":[0.0],\"2\":[0.0],\"3\":[null],\"4\":[null],\"5\":[null],\"6\":[null],\"7\":[null]}},\"0:0:1:0:0:0:0:46\":{\"observations\":{\"0\":[0.0],\"1\":[0.0],\"2\":[0.0],\"3\":[0.0],\"4\":[0.0],\"5\":[0.0],\"6\":[0.0],\"7\":[0.0]}},\"0:0:1:0:0:0:0:207\":{\"observations\":{\"0\":[0.0],\"1\":[0.0],\"2\":[0.0],\"3\":[0.0],\"4\":[0.0],\"5\":[0.0],\"6\":[0.0],\"7\":[0.0]}},\"0:0:1:0:0:0:0:164\":{\"observations\":{\"1\":[null],\"2\":[null],\"7\":[null]}},\"0:0:1:0:0:0:0:178\":{\"observations\":{\"0\":[-8.0],\"1\":[16.0],\"2\":[-5.0],\"3\":[-11.0],\"4\":[6.0],\"5\":[17.0],\"6\":[-2.0],\"7\":[0.0]}},\"0:0:1:0:0:0:0:32\":{\"observations\":{\"0\":[null],\"1\":[-221.0],\"2\":[154.0],\"3\":[-71.0],\"4\":[151.0],\"5\":[-673.0],\"6\":[-1290.0],\"7\":[-169.0]}},\"0:0:0:0:0:0:0:130\":{\"observations\":{\"0\":[0.0],\"1\":[0.0],\"2\":[0.0],\"3\":[0.0],\"4\":[0.0],\"5\":[0.0],\"6\":[0.0],\"7\":[0.0]}},\"0:0:0:0:0:0:0:104\":{\"observations\":{\"0\":[19307.0],\"1\":[null],\"2\":[null],\"3\":[11491.0],\"4\":[1832.0],\"5\":[2723.0],\"6\":[-2139.0],\"7\":[5144.0]}},\"0:0:1:0:0:0:0:208\":{\"observations\":{\"0\":[2779.0],\"1\":[889.0],\"2\":[4611.0],\"3\":[4134.0],\"4\":[3685.0],\"5\":[4161.0],\"6\":[-265.0],\"7\":[550.0]}},\"0:0:0:0:0:0:0:203\":{\"observations\":{\"0\":[0.0],\"1\":[0.0],\"2\":[0.0],\"3\":[2.0],\"4\":[9.0],\"5\":[null],\"6\":[null],\"7\":[null]}},\"0:0:0:0:0:0:0:209\":{\"observations\":{\"0\":[954.0],\"1\":[1164.0],\"2\":[486.0],\"3\":[181.0],\"4\":[333.0],\"5\":[312.0],\"6\":[481.0],\"7\":[778.0]}},\"0:0:0:0:0:0:0:126\":{\"observations\":{\"0\":[44.0],\"1\":[50.0],\"2\":[44.0],\"3\":[-16.0],\"4\":[-8.0],\"5\":[-2.0],\"6\":[36.0],\"7\":[50.0]}},\"0:0:0:0:0:0:0:131\":{\"observations\":{\"0\":[0.0],\"1\":[0.0],\"2\":[0.0],\"3\":[0.0],\"4\":[0.0],\"5\":[0.0],\"6\":[0.0],\"7\":[0.0]}},\"0:0:1:0:0:0:0:2\":{\"observations\":{\"0\":[21163.0],\"1\":[-7122.0],\"2\":[-4805.0],\"3\":[1098.0],\"4\":[10587.0],\"5\":[4715.0],\"6\":[-905.0],\"7\":[3204.0]}},\"0:0:0:0:0:0:0:210\":{\"observations\":{\"0\":[396569.0],\"1\":[318196.0],\"2\":[303432.0],\"3\":[333014.0],\"4\":[264359.0],\"5\":[289261.0],\"6\":[300378.0],\"7\":[-90623.0]}},\"0:0:1:0:0:0:0:210\":{\"observations\":{\"0\":[229862.0],\"1\":[199034.0],\"2\":[201393.0],\"3\":[201733.0],\"4\":[467625.0],\"5\":[471792.0],\"6\":[277258.0],\"7\":[253561.0]}},\"0:0:0:0:0:0:0:146\":{\"observations\":{\"0\":[null],\"1\":[null],\"2\":[5.0],\"3\":[9.0],\"4\":[-1.0],\"5\":[-7.0],\"6\":[-4.0],\"7\":[-4.0]}},\"0:0:0:0:0:0:0:100\":{\"observations\":{\"0\":[null],\"1\":[64.0],\"2\":[null],\"3\":[100.0],\"4\":[106.0],\"5\":[45.0],\"6\":[93.0],\"7\":[28.0]}},\"0:0:1:0:0:0:0:6\":{\"observations\":{\"0\":[-28.0],\"1\":[38.0],\"2\":[59.0],\"3\":[67.0],\"4\":[158.0],\"5\":[92.0],\"6\":[123.0],\"7\":[445.0]}},\"0:0:1:0:0:0:0:211\":{\"observations\":{\"0\":[null],\"1\":[136.0],\"2\":[-162.0],\"3\":[null],\"4\":[7177.0],\"5\":[82.0],\"6\":[516.0],\"7\":[1433.0]}},\"0:0:0:0:0:0:0:198\":{\"observations\":{\"0\":[1926.0],\"1\":[2301.0],\"2\":[440.0],\"3\":[3443.0],\"4\":[176.0],\"5\":[-452.0],\"6\":[262.0],\"7\":[-3051.0]}},\"0:0:1:0:0:0:0:123\":{\"observations\":{\"0\":[null],\"1\":[null],\"2\":[null],\"3\":[28.0],\"4\":[null],\"5\":[null],\"6\":[null],\"7\":[-207.0]}},\"0:0:0:0:0:0:0:212\":{\"observations\":{\"0\":[0.0],\"1\":[0.0],\"2\":[0.0],\"3\":[0.0],\"4\":[0.0],\"5\":[0.0],\"6\":[0.0],\"7\":[0.0]}},\"0:0:0:0:0:0:0:205\":{\"observations\":{\"0\":[0.0],\"1\":[0.0],\"2\":[0.0],\"3\":[2.0],\"4\":[0.0],\"5\":[0.0],\"6\":[0.0],\"7\":[0.0]}},\"0:0:1:0:0:0:0:38\":{\"observations\":{\"0\":[0.0],\"1\":[0.0],\"2\":[0.0],\"3\":[0.0],\"4\":[0.0],\"5\":[0.0],\"6\":[0.0],\"7\":[0.0]}},\"0:0:1:0:0:0:0:213\":{\"observations\":{\"0\":[0.0],\"1\":[0.0],\"2\":[0.0],\"3\":[0.0],\"4\":[0.0],\"5\":[0.0],\"6\":[0.0],\"7\":[0.0]}},\"0:0:1:0:0:0:0:63\":{\"observations\":{\"0\":[0.0],\"1\":[0.0],\"2\":[0.0],\"3\":[0.0],\"4\":[0.0],\"5\":[0.0],\"6\":[0.0],\"7\":[0.0]}},\"0:0:1:0:0:0:0:214\":{\"observations\":{\"0\":[5923.0],\"1\":[1218.0],\"2\":[1594.0],\"3\":[4671.0],\"4\":[4956.0],\"5\":[3294.0],\"6\":[4078.0],\"7\":[3843.0]}},\"0:0:0:0:0:0:0:215\":{\"observations\":{\"0\":[206.0],\"1\":[null],\"2\":[null],\"3\":[90.0],\"4\":[430.0],\"5\":[-99.0],\"6\":[-155.0],\"7\":[85.0]}},\"0:0:0:0:0:0:0:194\":{\"observations\":{\"0\":[4.0],\"1\":[1.0],\"2\":[9.0],\"3\":[-4.0],\"4\":[-2.0],\"5\":[3.0],\"6\":[-3.0],\"7\":[-33.0]}},\"0:0:0:0:0:0:0:216\":{\"observations\":{\"0\":[971.0],\"1\":[7138.0],\"2\":[3781.0],\"3\":[null],\"4\":[973.0],\"5\":[null],\"6\":[null],\"7\":[null]}},\"0:0:1:0:0:0:0:204\":{\"observations\":{\"0\":[0.0],\"1\":[0.0],\"2\":[0.0],\"3\":[-1.0],\"4\":[0.0],\"5\":[0.0],\"6\":[0.0],\"7\":[0.0]}},\"0:0:1:0:0:0:0:217\":{\"observations\":{\"0\":[0.0],\"1\":[0.0],\"2\":[0.0],\"3\":[0.0],\"4\":[0.0],\"5\":[0.0],\"6\":[0.0],\"7\":[0.0]}},\"0:0:0:0:0:0:0:207\":{\"observations\":{\"0\":[0.0],\"1\":[0.0],\"2\":[0.0],\"3\":[17.0],\"4\":[null],\"5\":[6.0],\"6\":[2.0],\"7\":[3.0]}},\"0:0:1:0:0:0:0:218\":{\"observations\":{\"1\":[null],\"2\":[null],\"3\":[null],\"4\":[null],\"6\":[null],\"7\":[null]}},\"0:0:0:0:0:0:0:79\":{\"observations\":{\"0\":[-3.0],\"1\":[0.0],\"2\":[-26.0],\"3\":[12.0],\"4\":[-23.0],\"5\":[-10.0],\"6\":[-7.0],\"7\":[-8.0]}},\"0:0:0:0:0:0:0:219\":{\"observations\":{\"0\":[8.0],\"1\":[-48.0],\"2\":[9.0],\"3\":[-23.0],\"4\":[14.0],\"5\":[95.0],\"6\":[53.0],\"7\":[34.0]}},\"0:0:1:0:0:0:0:175\":{\"observations\":{\"0\":[29.0],\"1\":[null],\"2\":[null],\"3\":[null],\"4\":[null],\"5\":[null],\"6\":[null],\"7\":[null]}},\"0:0:0:0:0:0:0:206\":{\"observations\":{\"0\":[-5.0],\"1\":[null],\"2\":[-23.0],\"3\":[24.0],\"4\":[8.0],\"5\":[11.0],\"6\":[10.0],\"7\":[8.0]}},\"0:0:1:0:0:0:0:174\":{\"observations\":{\"0\":[0.0],\"1\":[0.0],\"2\":[0.0],\"3\":[0.0],\"4\":[0.0],\"5\":[0.0],\"6\":[0.0],\"7\":[0.0]}},\"0:0:1:0:0:0:0:182\":{\"observations\":{\"0\":[14859.0],\"1\":[3474.0],\"2\":[10124.0],\"3\":[13507.0],\"4\":[11574.0],\"5\":[-1213.0],\"6\":[2065.0],\"7\":[3234.0]}},\"0:0:0:0:0:0:0:202\":{\"observations\":{\"0\":[-1.0],\"1\":[-1.0],\"2\":[-1.0],\"3\":[0.0],\"4\":[0.0],\"5\":[0.0],\"6\":[2.0],\"7\":[0.0]}},\"0:0:1:0:0:0:0:180\":{\"observations\":{\"0\":[10.0],\"1\":[-11.0],\"2\":[null],\"3\":[null],\"4\":[7.0],\"5\":[-2.0],\"6\":[null],\"7\":[null]}},\"0:0:1:0:0:0:0:220\":{\"observations\":{\"0\":[462.0],\"1\":[248.0],\"2\":[2101.0],\"3\":[3282.0],\"4\":[1013.0],\"5\":[3616.0],\"6\":[176.0],\"7\":[2041.0]}},\"0:0:0:0:0:0:0:7\":{\"observations\":{\"0\":[647.0],\"1\":[284.0],\"2\":[337.0],\"3\":[628.0],\"4\":[433.0],\"5\":[-497.0],\"6\":[246.0],\"7\":[1394.0]}},\"0:0:1:0:0:0:0:41\":{\"observations\":{\"0\":[1.0],\"1\":[null],\"2\":[null],\"3\":[null],\"4\":[null],\"5\":[null],\"6\":[null],\"7\":[null]}},\"0:0:0:0:0:0:0:221\":{\"observations\":{\"0\":[-68.0],\"1\":[837.0],\"2\":[27.0],\"3\":[1708.0],\"4\":[858.0],\"5\":[1022.0],\"6\":[609.0],\"7\":[1507.0]}},\"0:0:0:0:0:0:0:24\":{\"observations\":{\"0\":[null],\"1\":[null],\"2\":[29.0],\"3\":[67.0],\"4\":[18.0],\"5\":[17.0],\"6\":[14.0],\"7\":[1.0]}},\"0:0:0:0:0:0:0:173\":{\"observations\":{\"0\":[266.0],\"1\":[null],\"2\":[60.0],\"3\":[-49.0],\"4\":[61.0],\"5\":[-14.0],\"6\":[-6.0],\"7\":[-85.0]}},\"0:0:0:0:0:0:0:222\":{\"observations\":{\"0\":[0.0],\"1\":[0.0],\"2\":[0.0],\"3\":[0.0],\"4\":[0.0],\"5\":[0.0],\"6\":[0.0],\"7\":[0.0]}},\"0:0:0:0:0:0:0:147\":{\"observations\":{\"0\":[0.0],\"1\":[0.0],\"2\":[0.0],\"3\":[null],\"4\":[-5.0],\"5\":[0.0],\"6\":[0.0],\"7\":[0.0]}},\"0:0:0:0:0:0:0:43\":{\"observations\":{\"0\":[-811.0],\"1\":[8.0],\"2\":[98.0],\"3\":[95.0],\"4\":[-42.0],\"5\":[26.0],\"6\":[-36.0],\"7\":[-24.0]}},\"0:0:0:0:0:0:0:49\":{\"observations\":{\"0\":[0.0],\"1\":[0.0],\"2\":[0.0],\"3\":[0.0],\"4\":[0.0],\"5\":[0.0],\"6\":[0.0],\"7\":[0.0]}},\"0:0:0:0:0:0:0:190\":{\"observations\":{\"0\":[0.0],\"1\":[0.0],\"2\":[0.0],\"3\":[-8.0],\"4\":[-8.0],\"5\":[-8.0],\"6\":[-8.0],\"7\":[-8.0]}},\"0:0:0:0:0:0:0:223\":{\"observations\":{\"0\":[2.0],\"1\":[2.0],\"2\":[2.0],\"3\":[-2.0],\"4\":[0.0],\"5\":[0.0],\"6\":[null],\"7\":[-1.0]}},\"0:0:0:0:0:0:0:224\":{\"observations\":{\"0\":[2331.0],\"1\":[2250.0],\"2\":[1739.0],\"3\":[1844.0],\"4\":[325.0],\"5\":[-801.0],\"6\":[-1705.0],\"7\":[428.0]}},\"0:0:1:0:0:0:0:189\":{\"observations\":{\"0\":[39927.0],\"1\":[16463.0],\"2\":[31187.0],\"3\":[37106.0],\"4\":[70515.0],\"5\":[null],\"6\":[null],\"7\":[null]}},\"0:0:1:0:0:0:0:61\":{\"observations\":{\"0\":[-21.0],\"1\":[-88.0],\"2\":[-13.0],\"3\":[5.0],\"4\":[-11.0],\"5\":[-40.0],\"6\":[-14.0],\"7\":[25.0]}},\"0:0:0:0:0:0:0:225\":{\"observations\":{\"0\":[-1.0],\"1\":[-1.0],\"2\":[-1.0],\"3\":[null],\"4\":[null],\"5\":[null],\"6\":[null],\"7\":[null]}},\"0:0:0:0:0:0:0:80\":{\"observations\":{\"0\":[null],\"1\":[null],\"2\":[null],\"3\":[null],\"4\":[null],\"5\":[-109.0],\"6\":[40.0],\"7\":[-57.0]}},\"0:0:1:0:0:0:0:226\":{\"observations\":{\"0\":[1325.0],\"1\":[-475.0],\"2\":[-21.0],\"3\":[66.0],\"4\":[-317.0],\"5\":[-228.0],\"6\":[-39.0],\"7\":[615.0]}},\"0:0:0:0:0:0:0:184\":{\"observations\":{\"0\":[128.0],\"1\":[-234.0],\"2\":[151.0],\"3\":[343.0],\"4\":[-120.0],\"5\":[57.0],\"6\":[23.0],\"7\":[240.0]}},\"0:0:1:0:0:0:0:44\":{\"observations\":{\"0\":[1959.0],\"1\":[null],\"2\":[null],\"3\":[null],\"4\":[null],\"5\":[null],\"6\":[null],\"7\":[null]}},\"0:0:1:0:0:0:0:219\":{\"observations\":{\"0\":[9.0],\"1\":[-27.0],\"2\":[null],\"3\":[29.0],\"4\":[null],\"5\":[null],\"6\":[null],\"7\":[null]}},\"0:0:0:0:0:0:0:227\":{\"observations\":{\"0\":[1.0],\"1\":[1.0],\"2\":[1.0],\"3\":[0.0],\"4\":[0.0],\"5\":[0.0],\"6\":[0.0],\"7\":[0.0]}},\"0:0:1:0:0:0:0:83\":{\"observations\":{\"0\":[16454.0],\"1\":[null],\"2\":[null],\"3\":[null],\"4\":[null],\"5\":[null],\"6\":[null],\"7\":[null]}},\"0:0:0:0:0:0:0:47\":{\"observations\":{\"1\":[0.0],\"2\":[0.0],\"3\":[0.0],\"4\":[0.0],\"5\":[0.0],\"6\":[0.0],\"7\":[0.0]}},\"0:0:1:0:0:0:0:228\":{\"observations\":{\"0\":[0.0],\"1\":[null],\"2\":[null],\"3\":[0.0],\"4\":[2.0],\"5\":[-2.0],\"6\":[0.0],\"7\":[null]}},\"0:0:0:0:0:0:0:229\":{\"observations\":{\"0\":[0.0],\"1\":[0.0],\"2\":[0.0],\"3\":[0.0],\"4\":[0.0],\"5\":[0.0],\"6\":[0.0],\"7\":[0.0]}},\"0:0:0:0:0:0:0:91\":{\"observations\":{\"0\":[null],\"1\":[null],\"2\":[476.0],\"3\":[230.0],\"4\":[560.0],\"5\":[204.0],\"6\":[514.0],\"7\":[-131.0]}},\"0:0:1:0:0:0:0:230\":{\"observations\":{\"0\":[0.0],\"1\":[0.0],\"2\":[0.0],\"3\":[0.0],\"4\":[0.0],\"5\":[0.0],\"6\":[-2.0],\"7\":[0.0]}},\"0:0:0:0:0:0:0:218\":{\"observations\":{\"3\":[null],\"4\":[null],\"5\":[null],\"6\":[null],\"7\":[null]}},\"0:0:1:0:0:0:0:64\":{\"observations\":{\"0\":[0.0],\"1\":[-1.0],\"2\":[-1.0],\"3\":[-1.0],\"4\":[1.0],\"5\":[-1.0],\"6\":[1.0],\"7\":[0.0]}},\"0:0:0:0:0:0:0:157\":{\"observations\":{\"0\":[131624.0],\"2\":[93665.0],\"3\":[106720.0],\"4\":[59390.0],\"5\":[82961.0],\"6\":[83543.0],\"7\":[61828.0]}},\"0:0:1:0:0:0:0:229\":{\"observations\":{\"0\":[0.0],\"1\":[0.0],\"2\":[0.0],\"3\":[0.0],\"4\":[0.0],\"5\":[0.0],\"6\":[0.0],\"7\":[0.0]}},\"0:0:1:0:0:0:0:124\":{\"observations\":{\"0\":[null],\"1\":[2.0],\"2\":[3.0],\"3\":[9.0],\"4\":[5.0],\"5\":[-1.0],\"6\":[-3.0],\"7\":[0.0]}},\"0:0:1:0:0:0:0:88\":{\"observations\":{\"0\":[1.0],\"1\":[-1.0],\"2\":[null],\"3\":[-1.0],\"4\":[null],\"5\":[null],\"6\":[0.0],\"7\":[0.0]}},\"0:0:1:0:0:0:0:231\":{\"observations\":{\"0\":[1.0],\"1\":[0.0],\"2\":[-7.0],\"3\":[5.0],\"4\":[null],\"5\":[null],\"6\":[1.0],\"7\":[1.0]}},\"0:0:1:0:0:0:0:143\":{\"observations\":{\"0\":[null],\"1\":[null],\"2\":[null],\"3\":[null],\"4\":[null],\"5\":[null],\"6\":[null],\"7\":[null]}},\"0:0:1:0:0:0:0:92\":{\"observations\":{\"0\":[0.0],\"1\":[0.0],\"2\":[0.0],\"3\":[null],\"4\":[-1.0],\"5\":[0.0],\"6\":[null],\"7\":[0.0]}},\"0:0:1:0:0:0:0:75\":{\"observations\":{\"0\":[0.0],\"1\":[0.0],\"2\":[0.0],\"3\":[0.0],\"4\":[0.0],\"5\":[0.0],\"6\":[0.0],\"7\":[0.0]}},\"0:0:0:0:0:0:0:208\":{\"observations\":{\"0\":[1656.0],\"1\":[806.0],\"2\":[-317.0],\"3\":[-6066.0],\"4\":[50.0],\"5\":[1462.0],\"6\":[1259.0],\"7\":[5886.0]}},\"0:0:1:0:0:0:0:118\":{\"observations\":{\"0\":[630.0],\"1\":[-196.0],\"2\":[-547.0],\"3\":[639.0],\"4\":[129.0],\"5\":[-32.0],\"6\":[1630.0],\"7\":[327.0]}},\"0:0:1:0:0:0:0:232\":{\"observations\":{\"0\":[null],\"1\":[null],\"2\":[608.0],\"3\":[-1189.0],\"4\":[474.0],\"5\":[743.0],\"6\":[-161.0],\"7\":[943.0]}},\"0:0:1:0:0:0:0:163\":{\"observations\":{\"1\":[null],\"2\":[null],\"3\":[null],\"7\":[null]}},\"0:0:1:0:0:0:0:233\":{\"observations\":{\"0\":[0.0],\"1\":[0.0],\"2\":[0.0],\"3\":[0.0],\"4\":[0.0],\"5\":[0.0],\"6\":[0.0],\"7\":[0.0]}},\"0:0:1:0:0:0:0:165\":{\"observations\":{\"0\":[null],\"1\":[null],\"2\":[null],\"3\":[null],\"4\":[null],\"5\":[null],\"6\":[null],\"7\":[null]}},\"0:0:1:0:0:0:0:234\":{\"observations\":{\"0\":[0.0],\"1\":[0.0],\"2\":[-5.0],\"3\":[2.0],\"4\":[2.0],\"5\":[0.0],\"6\":[0.0],\"7\":[0.0]}},\"0:0:1:0:0:0:0:235\":{\"observations\":{\"1\":[null],\"2\":[null],\"3\":[null],\"4\":[null]}},\"0:0:1:0:0:0:0:114\":{\"observations\":{\"0\":[null],\"1\":[null],\"2\":[null],\"3\":[null],\"4\":[null],\"5\":[null],\"6\":[null],\"7\":[null]}},\"0:0:1:0:0:0:0:170\":{\"observations\":{\"0\":[-13.0],\"1\":[-8.0],\"2\":[-25.0],\"3\":[-4.0],\"4\":[2.0],\"5\":[-3.0],\"6\":[18.0],\"7\":[7.0]}},\"0:0:0:0:0:0:0:226\":{\"observations\":{\"0\":[599.0],\"1\":[613.0],\"2\":[-595.0],\"3\":[-462.0],\"4\":[145.0],\"5\":[428.0],\"6\":[6.0],\"7\":[-336.0]}},\"0:0:1:0:0:0:0:20\":{\"observations\":{\"0\":[2432.0],\"1\":[304.0],\"2\":[3157.0],\"3\":[1742.0],\"4\":[1116.0],\"5\":[2372.0],\"6\":[702.0],\"7\":[-260.0]}},\"0:0:0:0:0:0:0:142\":{\"observations\":{\"0\":[166.0],\"1\":[136.0],\"2\":[184.0],\"3\":[240.0],\"4\":[88.0],\"5\":[157.0],\"6\":[61.0],\"7\":[344.0]}},\"0:0:1:0:0:0:0:227\":{\"observations\":{\"0\":[0.0],\"1\":[2.0],\"2\":[0.0],\"3\":[-4.0],\"4\":[0.0],\"5\":[0.0],\"6\":[0.0],\"7\":[0.0]}},\"0:0:1:0:0:0:0:200\":{\"observations\":{\"0\":[0.0],\"1\":[11.0],\"2\":[-4.0],\"3\":[-11.0],\"4\":[null],\"5\":[-2.0],\"6\":[null],\"7\":[10.0]}},\"0:0:1:0:0:0:0:172\":{\"observations\":{\"0\":[9.0],\"1\":[-8.0],\"2\":[-4.0],\"3\":[3.0],\"4\":[-3.0],\"5\":[0.0],\"6\":[-2.0],\"7\":[46.0]}},\"0:0:1:0:0:0:0:236\":{\"observations\":{\"0\":[475.0],\"1\":[-307.0],\"2\":[-28.0],\"3\":[235.0],\"4\":[118.0],\"5\":[-157.0],\"6\":[-30.0],\"7\":[182.0]}},\"0:0:1:0:0:0:0:40\":{\"observations\":{\"0\":[1988.0],\"1\":[-72.0],\"2\":[207.0],\"3\":[825.0],\"4\":[1853.0],\"5\":[194.0],\"6\":[1210.0],\"7\":[54.0]}},\"0:0:0:0:0:0:0:197\":{\"observations\":{\"0\":[-1720.0],\"1\":[-1223.0],\"2\":[7397.0],\"3\":[11033.0],\"4\":[6029.0],\"5\":[8561.0],\"6\":[9850.0],\"7\":[7592.0]}},\"0:0:1:0:0:0:0:186\":{\"observations\":{\"0\":[0.0],\"1\":[0.0],\"2\":[0.0],\"3\":[0.0],\"4\":[0.0],\"5\":[-2.0],\"6\":[0.0],\"7\":[null]}},\"0:0:0:0:0:0:0:187\":{\"observations\":{\"0\":[0.0],\"1\":[0.0],\"2\":[0.0],\"3\":[0.0],\"4\":[0.0],\"5\":[0.0],\"6\":[0.0],\"7\":[0.0]}},\"0:0:1:0:0:0:0:16\":{\"observations\":{\"0\":[3334.0],\"1\":[1794.0],\"2\":[1887.0],\"3\":[4071.0],\"4\":[6924.0],\"5\":[608.0],\"6\":[262.0],\"7\":[2367.0]}},\"0:0:1:0:0:0:0:177\":{\"observations\":{\"0\":[0.0],\"1\":[0.0],\"2\":[-1.0],\"3\":[0.0],\"4\":[0.0],\"5\":[0.0],\"6\":[0.0],\"7\":[-1.0]}},\"0:0:1:0:0:0:0:237\":{\"observations\":{\"0\":[-29.0],\"1\":[-32.0],\"2\":[50.0],\"3\":[-32.0],\"4\":[20.0],\"5\":[82.0],\"6\":[-109.0],\"7\":[-88.0]}},\"0:0:0:0:0:0:0:188\":{\"observations\":{\"0\":[953.0],\"1\":[1688.0],\"2\":[-656.0],\"3\":[-1661.0],\"4\":[539.0],\"5\":[1175.0],\"6\":[-934.0],\"7\":[1363.0]}},\"0:0:0:0:0:0:0:106\":{\"observations\":{\"0\":[9941.0],\"1\":[7940.0],\"2\":[837.0],\"3\":[6773.0],\"4\":[448.0],\"5\":[3796.0],\"6\":[2576.0],\"7\":[2410.0]}},\"0:0:0:0:0:0:0:220\":{\"observations\":{\"0\":[6679.0],\"1\":[1562.0],\"2\":[651.0],\"3\":[896.0],\"4\":[-122.0],\"5\":[1758.0],\"6\":[-1763.0],\"7\":[-1114.0]}},\"0:0:0:0:0:0:0:117\":{\"observations\":{\"0\":[-1609.0],\"1\":[2282.0],\"2\":[719.0],\"3\":[220.0],\"4\":[502.0],\"5\":[694.0],\"6\":[309.0],\"7\":[2880.0]}},\"0:0:1:0:0:0:0:238\":{\"observations\":{\"0\":[0.0],\"1\":[0.0],\"2\":[0.0],\"3\":[0.0],\"4\":[-1.0],\"5\":[1.0],\"6\":[0.0],\"7\":[0.0]}},\"0:0:0:0:0:0:0:238\":{\"observations\":{\"0\":[0.0],\"1\":[0.0],\"2\":[0.0],\"3\":[5.0],\"4\":[-2.0],\"5\":[null],\"6\":[null],\"7\":[null]}},\"0:0:0:0:0:0:0:159\":{\"observations\":{\"0\":[18160.0],\"1\":[17806.0],\"2\":[13368.0],\"3\":[25989.0],\"4\":[12942.0],\"5\":[17500.0],\"6\":[18484.0],\"7\":[13972.0]}},\"0:0:1:0:0:0:0:222\":{\"observations\":{\"0\":[null],\"1\":[0.0],\"2\":[null],\"3\":[null],\"4\":[0.0],\"5\":[0.0],\"6\":[0.0],\"7\":[0.0]}},\"0:0:1:0:0:0:0:15\":{\"observations\":{\"0\":[6202.0],\"1\":[-658.0],\"2\":[575.0],\"3\":[-1198.0],\"4\":[952.0],\"5\":[116.0],\"6\":[-243.0],\"7\":[1671.0]}},\"0:0:0:0:0:0:0:129\":{\"observations\":{\"0\":[136.0],\"1\":[-2300.0],\"2\":[6370.0],\"3\":[6171.0],\"4\":[4988.0],\"5\":[466.0],\"6\":[5374.0],\"7\":[1242.0]}},\"0:0:1:0:0:0:0:239\":{\"observations\":{\"0\":[0.0],\"1\":[0.0],\"2\":[0.0],\"3\":[0.0],\"4\":[0.0],\"5\":[0.0],\"6\":[1.0],\"7\":[-1.0]}},\"0:0:1:0:0:0:0:240\":{\"observations\":{\"0\":[0.0],\"1\":[0.0],\"2\":[0.0],\"3\":[0.0],\"4\":[0.0],\"5\":[0.0],\"6\":[0.0],\"7\":[0.0]}},\"0:0:1:0:0:0:0:9\":{\"observations\":{\"0\":[660.0],\"1\":[-238.0],\"2\":[554.0],\"3\":[-1455.0],\"4\":[655.0],\"5\":[-79.0],\"6\":[829.0],\"7\":[1459.0]}},\"0:0:1:0:0:0:0:241\":{\"observations\":{\"0\":[1241.0],\"1\":[367.0],\"2\":[-22.0],\"3\":[1287.0],\"4\":[298.0],\"5\":[-537.0],\"6\":[928.0],\"7\":[-223.0]}},\"0:0:0:0:0:0:0:171\":{\"observations\":{\"0\":[214516.0],\"1\":[141152.0]}},\"0:0:0:0:0:0:0:17\":{\"observations\":{\"0\":[2787.0],\"1\":[943.0],\"2\":[6227.0],\"3\":[-13003.0],\"4\":[5177.0],\"5\":[-1398.0],\"6\":[9653.0],\"7\":[3289.0]}},\"0:0:1:0:0:0:0:193\":{\"observations\":{\"0\":[0.0],\"1\":[5.0],\"2\":[0.0],\"3\":[0.0],\"4\":[0.0],\"5\":[0.0],\"6\":[0.0],\"7\":[0.0]}},\"0:0:1:0:0:0:0:221\":{\"observations\":{\"0\":[0.0],\"1\":[7.0],\"2\":[null],\"3\":[-15.0],\"4\":[41.0],\"5\":[-3.0],\"6\":[3.0],\"7\":[0.0]}},\"0:0:0:0:0:0:0:156\":{\"observations\":{\"0\":[16453.0],\"1\":[20443.0],\"2\":[22637.0],\"3\":[35295.0],\"4\":[23996.0],\"5\":[null],\"6\":[15352.0],\"7\":[null]}},\"0:0:1:0:0:0:0:242\":{\"observations\":{\"0\":[18.0],\"1\":[null],\"2\":[null],\"3\":[-10.0],\"4\":[1.0],\"5\":[2.0],\"6\":[0.0],\"7\":[null]}},\"0:0:1:0:0:0:0:215\":{\"observations\":{\"0\":[0.0],\"1\":[2.0],\"2\":[null],\"3\":[1.0],\"4\":[-1.0],\"5\":[-28.0],\"6\":[null],\"7\":[145.0]}},\"0:0:1:0:0:0:0:154\":{\"observations\":{\"0\":[0.0],\"1\":[0.0],\"2\":[0.0],\"3\":[0.0],\"4\":[0.0],\"5\":[0.0],\"6\":[0.0],\"7\":[0.0]}},\"0:0:0:0:0:0:0:236\":{\"observations\":{\"0\":[450.0],\"1\":[1230.0],\"2\":[2496.0],\"3\":[2940.0],\"4\":[2054.0],\"5\":[-1083.0],\"6\":[404.0],\"7\":[-88.0]}},\"0:0:1:0:0:0:0:1\":{\"observations\":{\"1\":[null],\"2\":[null],\"5\":[null],\"7\":[null]}},\"0:0:1:0:0:0:0:4\":{\"observations\":{\"0\":[10284.0],\"1\":[12353.0],\"2\":[-8589.0],\"3\":[11410.0],\"4\":[-12327.0],\"5\":[3363.0],\"6\":[5982.0],\"7\":[6015.0]}},\"0:0:1:0:0:0:0:10\":{\"observations\":{\"0\":[795.0],\"1\":[25433.0],\"2\":[-7021.0],\"3\":[10197.0],\"4\":[33472.0],\"5\":[28104.0],\"6\":[20757.0],\"7\":[23440.0]}},\"0:0:1:0:0:0:0:183\":{\"observations\":{\"0\":[16396.0],\"1\":[6772.0],\"2\":[12427.0],\"3\":[37121.0],\"4\":[25353.0],\"5\":[14931.0],\"6\":[11899.0],\"7\":[26795.0]}},\"0:0:1:0:0:0:0:12\":{\"observations\":{\"0\":[-3650.0],\"1\":[3013.0],\"2\":[591.0],\"3\":[4452.0],\"4\":[-5312.0],\"5\":[-854.0],\"6\":[1629.0],\"7\":[null]}},\"0:0:1:0:0:0:0:21\":{\"observations\":{\"0\":[8457.0],\"1\":[38618.0],\"2\":[4606.0],\"3\":[29685.0],\"4\":[33318.0],\"5\":[47186.0],\"6\":[17770.0],\"7\":[83614.0]}},\"0:0:0:0:0:0:0:22\":{\"observations\":{\"0\":[-685.0],\"1\":[499.0],\"2\":[525.0],\"3\":[165.0],\"4\":[72.0],\"5\":[613.0],\"6\":[8.0],\"7\":[1094.0]}},\"0:0:0:0:0:0:0:214\":{\"observations\":{\"0\":[873.0],\"1\":[485.0],\"2\":[2823.0],\"3\":[3160.0],\"4\":[1387.0],\"5\":[1.0],\"6\":[388.0],\"7\":[4124.0]}},\"0:0:1:0:0:0:0:223\":{\"observations\":{\"0\":[-1.0],\"1\":[-1.0],\"2\":[-1.0],\"3\":[5.0],\"4\":[1.0],\"5\":[0.0],\"6\":[0.0],\"7\":[0.0]}},\"0:0:0:0:0:0:0:211\":{\"observations\":{\"0\":[6297.0],\"1\":[800.0],\"2\":[-1363.0],\"3\":[-2601.0],\"4\":[-2968.0],\"5\":[null],\"6\":[-9201.0],\"7\":[4261.0]}},\"0:0:0:0:0:0:0:169\":{\"observations\":{\"0\":[-20.0],\"1\":[-16.0],\"2\":[-38.0],\"3\":[-92.0],\"4\":[-74.0],\"5\":[63.0],\"6\":[70.0],\"7\":[31.0]}},\"0:0:0:0:0:0:0:45\":{\"observations\":{\"0\":[664.0],\"1\":[-1998.0],\"2\":[282.0],\"3\":[423.0],\"4\":[-1061.0],\"5\":[605.0],\"6\":[135.0],\"7\":[-387.0]}},\"0:0:0:0:0:0:0:48\":{\"observations\":{\"0\":[0.0],\"1\":[0.0],\"2\":[0.0],\"3\":[0.0],\"4\":[0.0],\"5\":[0.0],\"6\":[0.0],\"7\":[0.0]}},\"0:0:0:0:0:0:0:230\":{\"observations\":{\"0\":[0.0],\"1\":[0.0],\"2\":[15.0],\"3\":[2.0],\"4\":[0.0],\"5\":[0.0],\"6\":[0.0],\"7\":[0.0]}},\"0:0:1:0:0:0:0:53\":{\"observations\":{\"0\":[0.0],\"1\":[0.0],\"2\":[0.0],\"3\":[0.0],\"4\":[0.0],\"5\":[0.0],\"6\":[0.0],\"7\":[0.0]}},\"0:0:0:0:0:0:0:242\":{\"observations\":{\"0\":[-43.0],\"1\":[null],\"2\":[-408.0],\"3\":[145.0],\"4\":[null],\"5\":[null],\"6\":[null],\"7\":[null]}},\"0:0:0:0:0:0:0:228\":{\"observations\":{\"0\":[null],\"1\":[null],\"2\":[130.0],\"3\":[null],\"4\":[null],\"5\":[null],\"6\":[4.0],\"7\":[null]}},\"0:0:0:0:0:0:0:59\":{\"observations\":{\"0\":[328.0],\"1\":[448.0],\"2\":[-430.0],\"3\":[172.0],\"4\":[151.0],\"5\":[239.0],\"6\":[-269.0],\"7\":[-42.0]}},\"0:0:0:0:0:0:0:213\":{\"observations\":{\"0\":[0.0],\"1\":[0.0],\"2\":[0.0],\"3\":[0.0],\"4\":[0.0],\"5\":[0.0],\"6\":[0.0],\"7\":[0.0]}},\"0:0:0:0:0:0:0:201\":{\"observations\":{\"0\":[5.0],\"1\":[-143.0],\"2\":[-24.0],\"3\":[91.0],\"4\":[19.0],\"5\":[49.0],\"6\":[-9.0],\"7\":[-26.0]}},\"0:0:0:0:0:0:0:71\":{\"observations\":{\"0\":[0.0],\"1\":[0.0],\"2\":[0.0],\"3\":[4.0],\"4\":[1.0],\"5\":[1.0],\"6\":[1.0],\"7\":[1.0]}},\"0:0:1:0:0:0:0:76\":{\"observations\":{\"0\":[261.0],\"1\":[-147.0],\"2\":[234.0],\"3\":[421.0],\"4\":[1893.0],\"5\":[95.0],\"6\":[1141.0],\"7\":[-116.0]}},\"0:0:0:0:0:0:0:231\":{\"observations\":{\"0\":[null],\"1\":[null],\"2\":[-94.0],\"3\":[241.0],\"4\":[57.0],\"5\":[134.0],\"6\":[47.0],\"7\":[72.0]}},\"0:0:1:0:0:0:0:82\":{\"observations\":{\"0\":[0.0],\"1\":[0.0],\"2\":[0.0],\"3\":[0.0],\"4\":[0.0],\"5\":[null],\"6\":[null],\"7\":[null]}},\"0:0:0:0:0:0:0:85\":{\"observations\":{\"0\":[0.0],\"1\":[0.0],\"2\":[0.0],\"3\":[9.0],\"4\":[-1.0],\"5\":[-1.0],\"6\":[-1.0],\"7\":[-1.0]}},\"0:0:1:0:0:0:0:196\":{\"observations\":{\"0\":[337.0],\"1\":[-80.0],\"2\":[-1128.0],\"3\":[-30.0],\"4\":[195.0],\"5\":[69.0],\"6\":[940.0],\"7\":[-2247.0]}},\"0:0:0:0:0:0:0:237\":{\"observations\":{\"0\":[205.0],\"1\":[63.0],\"2\":[-80.0],\"3\":[509.0],\"4\":[70.0],\"5\":[66.0],\"6\":[194.0],\"7\":[42.0]}},\"0:0:1:0:0:0:0:96\":{\"observations\":{\"0\":[0.0],\"1\":[0.0],\"2\":[null],\"3\":[null],\"4\":[0.0],\"5\":[0.0],\"6\":[0.0],\"7\":[5.0]}},\"0:0:0:0:0:0:0:101\":{\"observations\":{\"0\":[0.0],\"1\":[0.0],\"2\":[0.0],\"3\":[14.0],\"4\":[-1.0],\"5\":[-1.0],\"6\":[-1.0],\"7\":[-1.0]}},\"0:0:1:0:0:0:0:103\":{\"observations\":{\"0\":[63.0],\"1\":[-28.0],\"2\":[-129.0],\"3\":[109.0],\"4\":[-55.0],\"5\":[-68.0],\"6\":[37.0],\"7\":[20.0]}},\"0:0:0:0:0:0:0:109\":{\"observations\":{\"0\":[15.0],\"1\":[null],\"2\":[-12.0],\"3\":[52.0],\"4\":[-9.0],\"5\":[null],\"6\":[null],\"7\":[null]}},\"0:0:1:0:0:0:0:216\":{\"observations\":{\"0\":[null],\"1\":[null],\"2\":[null],\"3\":[-390.0],\"4\":[null],\"5\":[null],\"6\":[null],\"7\":[725.0]}},\"0:0:0:0:0:0:0:127\":{\"observations\":{\"0\":[-5.0],\"1\":[17.0],\"2\":[6.0],\"3\":[-40.0],\"4\":[-3.0],\"5\":[null],\"6\":[0.0],\"7\":[-7.0]}},\"0:0:0:0:0:0:0:128\":{\"observations\":{\"0\":[7.0],\"1\":[18.0],\"2\":[3.0],\"3\":[22.0],\"4\":[15.0],\"5\":[16.0],\"6\":[17.0],\"7\":[14.0]}},\"0:0:0:0:0:0:0:241\":{\"observations\":{\"0\":[3083.0],\"1\":[3785.0],\"2\":[2563.0],\"3\":[4092.0],\"4\":[3820.0],\"5\":[3786.0],\"6\":[4238.0],\"7\":[2080.0]}},\"0:0:0:0:0:0:0:240\":{\"observations\":{\"0\":[0.0],\"1\":[0.0],\"2\":[0.0],\"3\":[1.0],\"4\":[1.0],\"5\":[1.0],\"6\":[1.0],\"7\":[1.0]}},\"0:0:1:0:0:0:0:225\":{\"observations\":{\"0\":[0.0],\"1\":[0.0],\"2\":[0.0],\"3\":[0.0],\"4\":[0.0],\"5\":[0.0],\"6\":[0.0],\"7\":[0.0]}},\"0:0:0:0:0:0:0:181\":{\"observations\":{\"0\":[null],\"1\":[-28.0],\"2\":[-46.0],\"3\":[60.0],\"4\":[63.0],\"5\":[17.0],\"6\":[136.0],\"7\":[-84.0]}},\"0:0:1:0:0:0:0:136\":{\"observations\":{\"0\":[2862.0],\"1\":[544.0],\"2\":[562.0],\"3\":[3911.0],\"4\":[2660.0],\"5\":[2013.0],\"6\":[-1713.0],\"7\":[-477.0]}},\"0:0:1:0:0:0:0:144\":{\"observations\":{\"0\":[0.0],\"1\":[0.0],\"2\":[0.0],\"3\":[0.0],\"4\":[0.0],\"5\":[0.0],\"6\":[0.0],\"7\":[0.0]}},\"0:0:1:0:0:0:0:212\":{\"observations\":{\"0\":[0.0],\"1\":[0.0],\"2\":[0.0],\"3\":[0.0],\"4\":[0.0],\"5\":[0.0],\"6\":[0.0],\"7\":[0.0]}},\"0:0:0:0:0:0:0:234\":{\"observations\":{\"0\":[null],\"1\":[null],\"2\":[null],\"3\":[20.0],\"4\":[-93.0],\"5\":[17.0],\"6\":[null],\"7\":[null]}},\"0:0:1:0:0:0:0:151\":{\"observations\":{\"0\":[0.0],\"1\":[-6.0],\"2\":[-1.0],\"3\":[-5.0],\"4\":[null],\"5\":[5.0],\"6\":[3.0],\"7\":[null]}},\"0:0:0:0:0:0:0:14\":{\"observations\":{\"0\":[26381.0],\"1\":[30836.0],\"2\":[21924.0],\"3\":[47993.0],\"4\":[69631.0],\"5\":[50035.0],\"6\":[44669.0],\"7\":[-10522.0]}},\"0:0:1:0:0:0:0:224\":{\"observations\":{\"0\":[23.0],\"1\":[-11.0],\"2\":[null],\"3\":[0.0],\"4\":[8.0],\"5\":[-36.0],\"6\":[106.0],\"7\":[-18.0]}},\"0:0:0:0:0:0:0:65\":{\"observations\":{\"0\":[0.0],\"1\":[0.0],\"2\":[0.0],\"3\":[0.0],\"4\":[0.0],\"5\":[2.0],\"6\":[null],\"7\":[null]}},\"0:0:1:0:0:0:0:107\":{\"observations\":{\"0\":[524.0],\"1\":[-88.0],\"2\":[-114.0],\"3\":[-239.0],\"4\":[169.0],\"5\":[77.0],\"6\":[-63.0],\"7\":[-71.0]}},\"0:0:1:0:0:0:0:108\":{\"observations\":{\"0\":[-2.0],\"1\":[0.0],\"2\":[null],\"3\":[null],\"4\":[null],\"5\":[null],\"6\":[5.0],\"7\":[null]}},\"0:0:0:0:0:0:0:110\":{\"observations\":{\"0\":[-633.0],\"1\":[1980.0],\"2\":[182.0],\"3\":[1009.0],\"4\":[-477.0],\"5\":[-154.0],\"6\":[551.0],\"7\":[-932.0]}},\"0:0:0:0:0:0:0:232\":{\"observations\":{\"0\":[807.0],\"1\":[1690.0],\"2\":[635.0],\"3\":[375.0],\"4\":[1322.0],\"5\":[729.0],\"6\":[482.0],\"7\":[335.0]}},\"0:0:0:0:0:0:0:239\":{\"observations\":{\"0\":[1.0],\"1\":[0.0],\"2\":[0.0],\"3\":[-1.0],\"4\":[-1.0],\"5\":[0.0],\"6\":[0.0],\"7\":[0.0]}},\"0:0:1:0:0:0:0:125\":{\"observations\":{\"0\":[null],\"1\":[null],\"2\":[null],\"3\":[null],\"4\":[null],\"5\":[null],\"6\":[null],\"7\":[null]}},\"0:0:0:0:0:0:0:134\":{\"observations\":{\"0\":[1.0],\"1\":[1.0],\"2\":[2.0],\"3\":[3.0],\"4\":[null],\"5\":[2.0],\"6\":[6.0],\"7\":[3.0]}},\"0:0:0:0:0:0:0:141\":{\"observations\":{\"0\":[5.0],\"1\":[9.0],\"2\":[3.0],\"3\":[-2.0],\"4\":[16.0],\"5\":[10.0],\"6\":[-4.0],\"7\":[5.0]}},\"0:0:0:0:0:0:0:235\":{\"observations\":{\"2\":[null],\"7\":[null]}},\"0:0:1:0:0:0:0:209\":{\"observations\":{\"0\":[-93.0],\"1\":[4.0],\"2\":[171.0],\"3\":[-26.0],\"4\":[46.0],\"5\":[271.0],\"6\":[203.0],\"7\":[294.0]}},\"0:0:1:0:0:0:0:192\":{\"observations\":{\"0\":[6.0],\"1\":[-5.0],\"2\":[null],\"3\":[null],\"4\":[null],\"5\":[-3.0],\"6\":[null],\"7\":[null]}},\"0:0:0:0:0:0:0:233\":{\"observations\":{\"0\":[0.0],\"1\":[0.0],\"2\":[0.0],\"3\":[0.0],\"4\":[0.0],\"5\":[0.0],\"6\":[0.0],\"7\":[0.0]}},\"0:0:1:0:0:0:0:195\":{\"observations\":{\"0\":[null],\"1\":[null],\"2\":[null],\"3\":[null],\"4\":[null],\"5\":[null],\"6\":[null],\"7\":[null]}},\"0:0:1:0:0:0:0:199\":{\"observations\":{\"0\":[-2.0],\"1\":[null],\"2\":[null],\"3\":[0.0],\"4\":[1.0],\"5\":[-1.0],\"6\":[null],\"7\":[-6.0]}},\"0:0:0:0:0:0:0:158\":{\"observations\":{\"0\":[113464.0],\"2\":[80297.0],\"3\":[80731.0],\"4\":[46448.0],\"5\":[65461.0],\"6\":[65059.0],\"7\":[47856.0]}},\"0:0:1:0:0:0:0:160\":{\"observations\":{\"1\":[null],\"2\":[null],\"3\":[null],\"4\":[null],\"5\":[null],\"6\":[null],\"7\":[null]}},\"0:0:0:0:0:0:0:39\":{\"observations\":{\"0\":[60.0],\"1\":[121.0],\"2\":[-1.0],\"3\":[43.0],\"4\":[17.0],\"5\":[7.0],\"6\":[-56.0],\"7\":[87.0]}},\"0:0:0:0:0:0:0:217\":{\"observations\":{\"0\":[0.0],\"1\":[0.0],\"2\":[0.0],\"3\":[0.0],\"4\":[0.0],\"5\":[0.0],\"6\":[0.0],\"7\":[0.0]}}}}],\"structure\":{\"links\":[{\"href\":\"https://stats.oecd.org/sdmx-json/dataflow/FDI_FLOW_CTRY/all\",\"rel\":\"dataflow\"}],\"name\":\"FDI financial flows - By partner country\",\"description\":\"FDI financial flows - By partner country\",\"dimensions\":{\"series\":[{\"keyPosition\":0,\"id\":\"COU\",\"name\":\"Reporting country\",\"values\":[{\"id\":\"USA\",\"name\":\"United States\"}]},{\"keyPosition\":1,\"id\":\"MEASURE\",\"name\":\"Currency\",\"values\":[{\"id\":\"USD\",\"name\":\"US Dollar\"}]},{\"keyPosition\":2,\"id\":\"MEASURE_PRINCIPLE\",\"name\":\"Measurement principle\",\"values\":[{\"id\":\"DO\",\"name\":\"Directional principle: Outward\"},{\"id\":\"DI\",\"name\":\"Directional principle: Inward\"}]},{\"keyPosition\":3,\"id\":\"FDI_TYPE\",\"name\":\"Type of FDI\",\"values\":[{\"id\":\"T_FA_F\",\"name\":\"FDI financial flows - Total\"}]},{\"keyPosition\":4,\"id\":\"TYPE_ENTITY\",\"name\":\"Type of entity\",\"values\":[{\"id\":\"ALL\",\"name\":\"All resident units\"}]},{\"keyPosition\":5,\"id\":\"ACCOUNTING_ENTRY\",\"name\":\"Accounting entry\",\"values\":[{\"id\":\"NET\",\"name\":\"Net \"}]},{\"keyPosition\":6,\"id\":\"LEVEL_COUNTERPART\",\"name\":\"Level of counterpart\",\"values\":[{\"id\":\"IMC\",\"name\":\"Immediate counterpart (Immediate investor or immediate host)\"}]},{\"keyPosition\":7,\"id\":\"COUNTERPART_AREA\",\"name\":\"Partner country/territory\",\"values\":[{\"id\":\"C_W190\",\"name\":\"WORLD unallocated and confidential\"},{\"id\":\"P0\",\"name\":\"OECD\"},{\"id\":\"AUS\",\"name\":\"Australia\"},{\"id\":\"AUT\",\"name\":\"Austria\"},{\"id\":\"BEL\",\"name\":\"Belgium\"},{\"id\":\"CAN\",\"name\":\"Canada\"},{\"id\":\"CHL\",\"name\":\"Chile\"},{\"id\":\"CZE\",\"name\":\"Czech Republic\"},{\"id\":\"EST\",\"name\":\"Estonia\"},{\"id\":\"FIN\",\"name\":\"Finland\"},{\"id\":\"FRA\",\"name\":\"France\"},{\"id\":\"GRC\",\"name\":\"Greece\"},{\"id\":\"HUN\",\"name\":\"Hungary\"},{\"id\":\"ISL\",\"name\":\"Iceland\"},{\"id\":\"IRL\",\"name\":\"Ireland\"},{\"id\":\"ISR\",\"name\":\"Israel\"},{\"id\":\"ITA\",\"name\":\"Italy\"},{\"id\":\"JPN\",\"name\":\"Japan\"},{\"id\":\"KOR\",\"name\":\"Korea, Republic of (South Korea)\"},{\"id\":\"LUX\",\"name\":\"Luxembourg\"},{\"id\":\"MEX\",\"name\":\"Mexico\"},{\"id\":\"NLD\",\"name\":\"Netherlands\"},{\"id\":\"POL\",\"name\":\"Poland\"},{\"id\":\"PRT\",\"name\":\"Portugal\"},{\"id\":\"SVN\",\"name\":\"Slovenia\"},{\"id\":\"CHE\",\"name\":\"Switzerland\"},{\"id\":\"GBR\",\"name\":\"United Kingdom\"},{\"id\":\"USA\",\"name\":\"United States\"},{\"id\":\"E1\",\"name\":\"EUROPE\"},{\"id\":\"AND\",\"name\":\"Andorra\"},{\"id\":\"BIH\",\"name\":\"Bosnia and Herzegovina\"},{\"id\":\"HRV\",\"name\":\"Croatia\"},{\"id\":\"CYP\",\"name\":\"Cyprus\"},{\"id\":\"VAT\",\"name\":\"Holy See (Vatican City State)\"},{\"id\":\"LTU\",\"name\":\"Lithuania\"},{\"id\":\"MKD\",\"name\":\"Macedonia, the Former Yugoslav Republic of\"},{\"id\":\"MDA\",\"name\":\"Moldova, Republic of\"},{\"id\":\"ROM\",\"name\":\"Romania\"},{\"id\":\"SMR\",\"name\":\"San Marino\"},{\"id\":\"UKR\",\"name\":\"Ukraine\"},{\"id\":\"F1\",\"name\":\"AFRICA\"},{\"id\":\"LBY\",\"name\":\"Libya\"},{\"id\":\"MAR\",\"name\":\"Morocco\"},{\"id\":\"TUN\",\"name\":\"Tunisia\"},{\"id\":\"F2\",\"name\":\"Other African countries\"},{\"id\":\"AGO\",\"name\":\"Angola\"},{\"id\":\"BEN\",\"name\":\"Benin\"},{\"id\":\"IOT\",\"name\":\"British Indian Ocean Territory (EUROSTAT)\"},{\"id\":\"BFA\",\"name\":\"Burkina Faso\"},{\"id\":\"BDI\",\"name\":\"Burundi\"},{\"id\":\"CMR\",\"name\":\"Cameroon\"},{\"id\":\"CAF\",\"name\":\"Central African Republic\"},{\"id\":\"TCD\",\"name\":\"Chad\"},{\"id\":\"COM\",\"name\":\"Comoros\"},{\"id\":\"DJI\",\"name\":\"Djibouti\"},{\"id\":\"ERI\",\"name\":\"Eritrea\"},{\"id\":\"ETH\",\"name\":\"Ethiopia\"},{\"id\":\"GAB\",\"name\":\"Gabon\"},{\"id\":\"GMB\",\"name\":\"Gambia\"},{\"id\":\"GHA\",\"name\":\"Ghana\"},{\"id\":\"GIN\",\"name\":\"Guinea\"},{\"id\":\"LBR\",\"name\":\"Liberia\"},{\"id\":\"MDG\",\"name\":\"Madagascar\"},{\"id\":\"MWI\",\"name\":\"Malawi\"},{\"id\":\"MLI\",\"name\":\"Mali\"},{\"id\":\"MRT\",\"name\":\"Mauritania\"},{\"id\":\"MUS\",\"name\":\"Mauritius\"},{\"id\":\"MOZ\",\"name\":\"Mozambique\"},{\"id\":\"NAM\",\"name\":\"Namibia\"},{\"id\":\"NER\",\"name\":\"Niger\"},{\"id\":\"NGA\",\"name\":\"Nigeria\"},{\"id\":\"RWA\",\"name\":\"Rwanda\"},{\"id\":\"SHN\",\"name\":\"Saint Helena\"},{\"id\":\"STP\",\"name\":\"Sao Tome and Principe\"},{\"id\":\"SYC\",\"name\":\"Seychelles\"},{\"id\":\"SOM\",\"name\":\"Somalia\"},{\"id\":\"ZAF\",\"name\":\"South Africa\"},{\"id\":\"SWZ\",\"name\":\"Swaziland\"},{\"id\":\"TGO\",\"name\":\"Togo\"},{\"id\":\"ZMB\",\"name\":\"Zambia\"},{\"id\":\"ZWE\",\"name\":\"Zimbabwe\"},{\"id\":\"A2\",\"name\":\"Northern America\"},{\"id\":\"GRL\",\"name\":\"Greenland\"},{\"id\":\"A5\",\"name\":\"Central America and Caribbean countries\"},{\"id\":\"AIA\",\"name\":\"Anguilla\"},{\"id\":\"ATG\",\"name\":\"Antigua and Barbuda\"},{\"id\":\"ABW\",\"name\":\"Aruba\"},{\"id\":\"BHS\",\"name\":\"Bahamas\"},{\"id\":\"BLZ\",\"name\":\"Belize\"},{\"id\":\"BMU\",\"name\":\"Bermuda\"},{\"id\":\"BES\",\"name\":\"Bonaire, Saint Eustatius and Saba\"},{\"id\":\"CUW\",\"name\":\"Curaçao\"},{\"id\":\"DMA\",\"name\":\"Dominica\"},{\"id\":\"DOM\",\"name\":\"Dominican Republic\"},{\"id\":\"SLV\",\"name\":\"El Salvador\"},{\"id\":\"GRD\",\"name\":\"Grenada\"},{\"id\":\"HTI\",\"name\":\"Haiti\"},{\"id\":\"HND\",\"name\":\"Honduras\"},{\"id\":\"PAN\",\"name\":\"Panama\"},{\"id\":\"KNA\",\"name\":\"Saint Kitts and Nevis\"},{\"id\":\"LCA\",\"name\":\"Saint Lucia\"},{\"id\":\"VCT\",\"name\":\"Saint Vincent and the Grenadines\"},{\"id\":\"SXM\",\"name\":\"Sint Maarten\"},{\"id\":\"TTO\",\"name\":\"Trinidad and Tobago\"},{\"id\":\"A7\",\"name\":\"South America\"},{\"id\":\"ARG\",\"name\":\"Argentina\"},{\"id\":\"BRA\",\"name\":\"Brazil\"},{\"id\":\"COL\",\"name\":\"Colombia\"},{\"id\":\"GUY\",\"name\":\"Guyana\"},{\"id\":\"PRY\",\"name\":\"Paraguay\"},{\"id\":\"PER\",\"name\":\"Peru\"},{\"id\":\"SUR\",\"name\":\"Suriname\"},{\"id\":\"URY\",\"name\":\"Uruguay\"},{\"id\":\"VEN\",\"name\":\"Venezuela\"},{\"id\":\"S1\",\"name\":\"ASIA\"},{\"id\":\"S3\",\"name\":\"Near and Middle East\"},{\"id\":\"OMN\",\"name\":\"Oman\"},{\"id\":\"QAT\",\"name\":\"Qatar\"},{\"id\":\"ARE\",\"name\":\"United Arab Emirates\"},{\"id\":\"YEM\",\"name\":\"Yemen\"},{\"id\":\"S37\",\"name\":\"Other Near and Middle East (Western Asia)\"},{\"id\":\"ARM\",\"name\":\"Armenia\"},{\"id\":\"AZE\",\"name\":\"Azerbaijan\"},{\"id\":\"JOR\",\"name\":\"Jordan\"},{\"id\":\"LBN\",\"name\":\"Lebanon\"},{\"id\":\"S6\",\"name\":\"Other Asian countries\"},{\"id\":\"BGD\",\"name\":\"Bangladesh\"},{\"id\":\"BRN\",\"name\":\"Brunei Darussalam\"},{\"id\":\"KHM\",\"name\":\"Cambodia (Kampuchea)\"},{\"id\":\"HKG\",\"name\":\"Hong Kong, China\"},{\"id\":\"IRN\",\"name\":\"Iran, Islamic Republic of\"},{\"id\":\"PRK\",\"name\":\"Korea, Democratic People\\'s Republic of (North Korea)\"},{\"id\":\"MAC\",\"name\":\"Macao\"},{\"id\":\"MMR\",\"name\":\"Myanmar\"},{\"id\":\"NPL\",\"name\":\"Nepal\"},{\"id\":\"PHL\",\"name\":\"Philippines\"},{\"id\":\"SGP\",\"name\":\"Singapore\"},{\"id\":\"LKA\",\"name\":\"Sri Lanka\"},{\"id\":\"TJK\",\"name\":\"Tajikistan\"},{\"id\":\"THA\",\"name\":\"Thailand\"},{\"id\":\"TKM\",\"name\":\"Turkmenistan\"},{\"id\":\"UZB\",\"name\":\"Uzbekistan\"},{\"id\":\"VNM\",\"name\":\"Viet Nam\"},{\"id\":\"O1\",\"name\":\"AUSTRALIA, OCEANIA AND POLAR REGIONS\"},{\"id\":\"ATA\",\"name\":\"Antarctica\"},{\"id\":\"FJI\",\"name\":\"Fiji\"},{\"id\":\"PYF\",\"name\":\"French Polynesia\"},{\"id\":\"ATF\",\"name\":\"French Southern Territories\"},{\"id\":\"MHL\",\"name\":\"Marshall Islands\"},{\"id\":\"FSM\",\"name\":\"Micronesia, Federated States of\"},{\"id\":\"PLW\",\"name\":\"Palau\"},{\"id\":\"PCN\",\"name\":\"Pitcairn\"},{\"id\":\"SLB\",\"name\":\"Solomon Islands\"},{\"id\":\"TON\",\"name\":\"Tonga\"},{\"id\":\"TUV\",\"name\":\"Tuvalu\"},{\"id\":\"VUT\",\"name\":\"Vanuatu\"},{\"id\":\"R4\",\"name\":\"ASEAN countries\"},{\"id\":\"R220\",\"name\":\"G20 countries excl. European Union\"},{\"id\":\"R221\",\"name\":\"G20 OECD countries\"},{\"id\":\"R222\",\"name\":\"G20 Non-OECD countries\"},{\"id\":\"R25\",\"name\":\"Total Official Development Assistance (ODA) recipients\"},{\"id\":\"R251\",\"name\":\"ODA recipients -Europe\"},{\"id\":\"R252\",\"name\":\"ODA recipients -Africa\"},{\"id\":\"R253\",\"name\":\"ODA recipients-America\"},{\"id\":\"R255\",\"name\":\"ODA recipients-Oceania\"},{\"id\":\"WSM\",\"name\":\"Samoa\"},{\"id\":\"BGR\",\"name\":\"Bulgaria\"},{\"id\":\"NOR\",\"name\":\"Norway\"},{\"id\":\"B5\",\"name\":\"EU28\"},{\"id\":\"LIE\",\"name\":\"Liechtenstein\"},{\"id\":\"ECU\",\"name\":\"Ecuador\"},{\"id\":\"B4\",\"name\":\"EU27\"},{\"id\":\"JAM\",\"name\":\"Jamaica\"},{\"id\":\"MLT\",\"name\":\"Malta\"},{\"id\":\"SDN\",\"name\":\"Sudan\"},{\"id\":\"F4\",\"name\":\"Northern Africa\"},{\"id\":\"IRQ\",\"name\":\"Iraq\"},{\"id\":\"UGA\",\"name\":\"Uganda\"},{\"id\":\"GTM\",\"name\":\"Guatemala\"},{\"id\":\"KWT\",\"name\":\"Kuwait\"},{\"id\":\"GNQ\",\"name\":\"Equatorial Guinea\"},{\"id\":\"PAK\",\"name\":\"Pakistan\"},{\"id\":\"CYM\",\"name\":\"Cayman Islands\"},{\"id\":\"DEU\",\"name\":\"Germany\"},{\"id\":\"BHR\",\"name\":\"Bahrain\"},{\"id\":\"CIV\",\"name\":\"Côte d\\'Ivoire\"},{\"id\":\"SEN\",\"name\":\"Senegal\"},{\"id\":\"BTN\",\"name\":\"Bhutan\"},{\"id\":\"RUS\",\"name\":\"Russian Federation\"},{\"id\":\"A1\",\"name\":\"AMERICA\"},{\"id\":\"SSD\",\"name\":\"South Sudan\"},{\"id\":\"TWN\",\"name\":\"Chinese Taipei\"},{\"id\":\"DZA\",\"name\":\"Algeria\"},{\"id\":\"SLE\",\"name\":\"Sierra Leone\"},{\"id\":\"SRB\",\"name\":\"Serbia\"},{\"id\":\"NIC\",\"name\":\"Nicaragua\"},{\"id\":\"BRB\",\"name\":\"Barbados\"},{\"id\":\"CHN\",\"name\":\"China\"},{\"id\":\"IDN\",\"name\":\"Indonesia\"},{\"id\":\"MNG\",\"name\":\"Mongolia\"},{\"id\":\"SVK\",\"name\":\"Slovakia\"},{\"id\":\"KEN\",\"name\":\"Kenya\"},{\"id\":\"AFG\",\"name\":\"Afghanistan\"},{\"id\":\"ALB\",\"name\":\"Albania\"},{\"id\":\"BWA\",\"name\":\"Botswana\"},{\"id\":\"MNE\",\"name\":\"Montenegro\"},{\"id\":\"LVA\",\"name\":\"Latvia\"},{\"id\":\"KGZ\",\"name\":\"Kyrgyzstan\"},{\"id\":\"SWE\",\"name\":\"Sweden\"},{\"id\":\"TUR\",\"name\":\"Turkey\"},{\"id\":\"W0\",\"name\":\"WORLD\"},{\"id\":\"GIB\",\"name\":\"Gibraltar\"},{\"id\":\"CXR\",\"name\":\"Christmas islands\"},{\"id\":\"GNB\",\"name\":\"Guinea-Bissau\"},{\"id\":\"ESP\",\"name\":\"Spain\"},{\"id\":\"FLK\",\"name\":\"Other territories\"},{\"id\":\"S35\",\"name\":\"Gulf Arabian countries\"},{\"id\":\"KIR\",\"name\":\"Kiribati\"},{\"id\":\"F98\",\"name\":\"MENA countries\"},{\"id\":\"BOL\",\"name\":\"Bolivia\"},{\"id\":\"DNK\",\"name\":\"Denmark\"},{\"id\":\"KAZ\",\"name\":\"Kazakhstan\"},{\"id\":\"CUB\",\"name\":\"Cuba\"},{\"id\":\"BLR\",\"name\":\"Belarus\"},{\"id\":\"EGY\",\"name\":\"Egypt\"},{\"id\":\"MDV\",\"name\":\"Maldives\"},{\"id\":\"NZL\",\"name\":\"New Zealand\"},{\"id\":\"TLS\",\"name\":\"Timor-Leste\"},{\"id\":\"COD\",\"name\":\"Congo, the Democratic Republic of the\"},{\"id\":\"NRU\",\"name\":\"Nauru\"},{\"id\":\"CPV\",\"name\":\"Cape Verde\"},{\"id\":\"TZA\",\"name\":\"Tanzania, United Republic of\"},{\"id\":\"SAU\",\"name\":\"Saudi Arabia\"},{\"id\":\"LSO\",\"name\":\"Lesotho\"},{\"id\":\"PNG\",\"name\":\"Papua New Guinea\"},{\"id\":\"R254\",\"name\":\"ODA recipients-Asia\"},{\"id\":\"MYS\",\"name\":\"Malaysia\"},{\"id\":\"CRI\",\"name\":\"Costa Rica\"},{\"id\":\"GEO\",\"name\":\"Georgia\"},{\"id\":\"SYR\",\"name\":\"Syrian Arab Republic\"},{\"id\":\"LAO\",\"name\":\"Lao People\\'s Democratic Republic\"},{\"id\":\"IND\",\"name\":\"India\"},{\"id\":\"COG\",\"name\":\"Congo\"}]}],\"observation\":[{\"id\":\"TIME_PERIOD\",\"name\":\"Year\",\"values\":[{\"id\":\"2011\",\"name\":\"2011\"},{\"id\":\"2012\",\"name\":\"2012\"},{\"id\":\"2013\",\"name\":\"2013\"},{\"id\":\"2014\",\"name\":\"2014\"},{\"id\":\"2015\",\"name\":\"2015\"},{\"id\":\"2016\",\"name\":\"2016\"},{\"id\":\"2017\",\"name\":\"2017\"},{\"id\":\"2018\",\"name\":\"2018\"}],\"role\":\"TIME_PERIOD\"}]},\"annotations\":[{\"title\":\"Copyright OECD - All rights reserved\",\"uri\":\"\",\"text\":\"\"},{\"title\":\"Terms and Conditions\",\"uri\":\"http://www.oecd.org/termsandconditions/\",\"text\":\"\"},{\"title\":\"Privacy Policy\",\"uri\":\"http://www.oecd.org/privacy/\",\"text\":\"\"},{\"title\":\"MyOECD\",\"uri\":\"https://www.oecd.org/login\",\"text\":\"\"},{\"title\":\"Contact Us\",\"uri\":\"http://www.oecd.org/contact/\",\"text\":\"\"}]}}'"
      ]
     },
     "execution_count": 50,
     "metadata": {},
     "output_type": "execute_result"
    }
   ],
   "source": [
    "obj_oecd_dataset.text"
   ]
  },
  {
   "cell_type": "code",
   "execution_count": null,
   "metadata": {},
   "outputs": [],
   "source": [
    "request_session.get('https://stats.oecd.org/sdmx-json/data/QNA/AUS+AUT.GDP+B1_GE..Q/').text"
   ]
  },
  {
   "cell_type": "code",
   "execution_count": null,
   "metadata": {},
   "outputs": [],
   "source": []
  }
 ],
 "metadata": {
  "kernelspec": {
   "display_name": "Python 3",
   "language": "python",
   "name": "python3"
  },
  "language_info": {
   "codemirror_mode": {
    "name": "ipython",
    "version": 3
   },
   "file_extension": ".py",
   "mimetype": "text/x-python",
   "name": "python",
   "nbconvert_exporter": "python",
   "pygments_lexer": "ipython3",
   "version": "3.7.3"
  }
 },
 "nbformat": 4,
 "nbformat_minor": 2
}
