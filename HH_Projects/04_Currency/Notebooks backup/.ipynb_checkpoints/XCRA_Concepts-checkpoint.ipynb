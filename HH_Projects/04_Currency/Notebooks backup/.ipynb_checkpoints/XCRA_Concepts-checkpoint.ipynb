{
 "cells": [
  {
   "cell_type": "code",
   "execution_count": 1,
   "metadata": {},
   "outputs": [],
   "source": [
    "### BLOOMBERG XCRA TEMPLATE DATA LOADING"
   ]
  },
  {
   "cell_type": "code",
   "execution_count": 2,
   "metadata": {},
   "outputs": [],
   "source": [
    "### INITIALIZATION\n",
    "\n",
    "import pandas as pd\n",
    "import numpy as np"
   ]
  },
  {
   "cell_type": "code",
   "execution_count": 3,
   "metadata": {},
   "outputs": [],
   "source": [
    "### DEFINING EXTRACTION UNIVERSE DATA FROM GENERAL MS EXCEL SOURCE\n",
    "\n",
    "def get_market_membership_from_excel(convert_to_daily = False):\n",
    "    ### Importing standard modules and date-special modules:    \n",
    "    import numpy as np\n",
    "    import pandas as pd\n",
    "    ### Reindexing function declaring:\n",
    "    def reindex_month_ends(iter_group):\n",
    "        iter_range = pd.date_range(iter_group.first_valid_index(), iter_group.last_valid_index(), freq = 'BM')\n",
    "        iter_result = iter_group.reindex(iter_range)\n",
    "        return iter_result    \n",
    "    ### Declaring local constants & variables:\n",
    "    path_msci = 'Data_Files/Source_Files/sample_universe.xlsx' ### Path for membership source     \n",
    "    tab_monthly = 'universe_joined'    \n",
    "    arr_markets_needed = ['DM', 'FM', 'EM']   \n",
    "    dict_markets = {50 : 'DM', 57 : 'EM', 504 : 'FM'}\n",
    "    no_slice = slice(None)\n",
    "    ### Extracting universe data:\n",
    "    df_universe = pd.read_excel(io = path_msci, sheet_name = tab_monthly, skiprows = [0, 2], header = 0, parse_dates = True, \n",
    "                                na_values = ['', '#N/A', '#N/A N/A', '#NA', '-1.#IND', '-1.#QNAN', '-NaN', '-nan', '1.#IND', \n",
    "                                             '1.#QNAN', 'N/A', 'NULL', 'NaN', 'n/a', 'nan', 'null'], keep_default_na = False)\n",
    "    df_universe = df_universe.loc[no_slice, ['dates', 'region', 'ctry']]\n",
    "    df_universe.columns = ['Date', 'Market', 'Country']\n",
    "    df_universe.set_index(['Date', 'Country'], inplace = True)\n",
    "    ser_universe = df_universe.squeeze()\n",
    "    ser_universe.sort_index(level = [0, 1], inplace = True)\n",
    "    ser_universe.replace(dict_markets, inplace = True)\n",
    "    ser_market_membership = ser_universe[ser_universe.isin(arr_markets_needed)]\n",
    "    ### Reindexing to show absent monthes for future daily resampling: \n",
    "    if (convert_to_daily):\n",
    "        ser_market_membership = ser_market_membership.groupby('Country').apply(lambda iter_group: reindex_month_ends(iter_group.droplevel(1)))\n",
    "        ser_market_membership.index.names = ['Country', 'Date']\n",
    "        ser_market_membership = ser_market_membership.swaplevel()\n",
    "        ser_market_membership = ser_market_membership.reset_index('Country').groupby('Country').resample('B').ffill().drop('Country', axis = 1).squeeze()\n",
    "        ser_market_membership = ser_market_membership.swaplevel().sort_index(level = ['Country', 'Date'])\n",
    "        \n",
    "    return ser_market_membership"
   ]
  },
  {
   "cell_type": "code",
   "execution_count": 4,
   "metadata": {},
   "outputs": [],
   "source": [
    "### DEFINING EXTRACTION BLOOMBERG XCRA DATA FROM GENERAL MS EXCEL SOURCE\n",
    "\n",
    "def get_xcra_data_excel(str_path_bb_xcra_source):\n",
    "    ### Loading raw excel source:\n",
    "    dict_xcra_source = pd.read_excel(io = str_path_bb_xcra_source, sheet_name = None, skiprows = list(range(5)), index_col = 0, header = 0, parse_dates = True, \n",
    "                                    na_values = ['', '#N/A', '#N/A N/A', '#NA', '-1.#IND', '-1.#QNAN', '-NaN', '-nan', '1.#IND', \n",
    "                                                 '1.#QNAN', 'N/A', 'NULL', 'NaN', 'n/a', 'nan', 'null', '#N/A Invalid Security'], keep_default_na = False)\n",
    "    dict_xcra_stacked = {}\n",
    "    ### Resampling from possible calendar month ends to business month ends:\n",
    "    for iter_concept in dict_xcra_source:\n",
    "        dict_xcra_stacked[iter_concept] = dict_xcra_source[iter_concept].resample('MS').sum().resample('BM').sum().replace(0, np.NaN).stack(dropna = False).squeeze()\n",
    "    ### Data consolidating:\n",
    "    df_xcra_stacked = pd.concat(dict_xcra_stacked, axis = 1)\n",
    "    df_xcra_stacked.replace(0, np.NaN, inplace = True)\n",
    "    df_xcra_stacked.index.names = ['Date', 'Country']    \n",
    "    ### Results output:\n",
    "    return df_xcra_stacked"
   ]
  },
  {
   "cell_type": "code",
   "execution_count": 8,
   "metadata": {},
   "outputs": [],
   "source": [
    "### GENERAL DATA PREPARATION\n",
    "\n",
    "### Constants:\n",
    "All = slice(None)\n",
    "num_rolling_win_max = 12\n",
    "num_rolling_win_min = num_rolling_win_max // 2\n",
    "### Factors sources:\n",
    "str_path_bb_xcra_source = 'Data_Files/Source_Files/Bloomberg_XCRA.xlsx'\n",
    "str_path_bb_xcra_result_simple = 'Data_Files/Test_Files/XCRA_ISON_simple.xlsx'\n",
    "str_path_bb_xcra_result_filled = 'Data_Files/Test_Files/XCRA_ISON_filled.xlsx'"
   ]
  },
  {
   "cell_type": "code",
   "execution_count": 47,
   "metadata": {},
   "outputs": [],
   "source": [
    "### MAIN SCRIPT\n",
    "\n",
    "### Market membership loading:\n",
    "ser_ison_membership = get_market_membership_from_excel(False)\n",
    "### XCRA concepts loading:\n",
    "df_xcra_stacked = get_xcra_data_excel(str_path_bb_xcra_source)\n",
    "### Imports and Exports annual MA modifying:\n",
    "df_xcra_stacked[['Imports','Exports']] = df_xcra_stacked[['Imports','Exports']].groupby('Country', group_keys = False)\\\n",
    "                                                                               .rolling(num_rolling_win_max, num_rolling_win_min).mean()\n",
    "### XCRA concepts forward filling:\n",
    "df_xcra_ison_filled = df_xcra_stacked.groupby(['Country']).fillna(method = 'ffill').fillna(method = 'bfill')\n",
    "### XCRA concepts regions adding:\n",
    "df_xcra_ison_simple = df_xcra_stacked.join(ser_ison_membership.dropna(), how = 'right').set_index('Market', append = True)\\\n",
    "                                                                                       .sort_index(level = ['Date', 'Country', 'Market'])\n",
    "df_xcra_ison_filled = df_xcra_ison_filled.join(ser_ison_membership.dropna(), how = 'right').set_index('Market', append = True)\\\n",
    "                                                                                           .sort_index(level = ['Date', 'Country', 'Market'])\n",
    "### Datasets exporting to MS Excel:\n",
    "df_xcra_ison_simple.to_excel(str_path_bb_xcra_result_simple, merge_cells = False)\n",
    "df_xcra_ison_filled.to_excel(str_path_bb_xcra_result_filled, merge_cells = False)"
   ]
  },
  {
   "cell_type": "code",
   "execution_count": 45,
   "metadata": {},
   "outputs": [],
   "source": [
    "### TEMP\n",
    "\n"
   ]
  },
  {
   "cell_type": "code",
   "execution_count": 46,
   "metadata": {},
   "outputs": [],
   "source": [
    "### TEMP\n",
    "\n",
    "df_xcra_stacked.to_excel(str_path_bb_xcra_result_simple, merge_cells = False)"
   ]
  },
  {
   "cell_type": "code",
   "execution_count": null,
   "metadata": {},
   "outputs": [],
   "source": []
  }
 ],
 "metadata": {
  "kernelspec": {
   "display_name": "Python 3",
   "language": "python",
   "name": "python3"
  },
  "language_info": {
   "codemirror_mode": {
    "name": "ipython",
    "version": 3
   },
   "file_extension": ".py",
   "mimetype": "text/x-python",
   "name": "python",
   "nbconvert_exporter": "python",
   "pygments_lexer": "ipython3",
   "version": "3.7.3"
  }
 },
 "nbformat": 4,
 "nbformat_minor": 2
}
